{
  "nbformat": 4,
  "nbformat_minor": 0,
  "metadata": {
    "colab": {
      "name": "413VAEipynb",
      "provenance": [],
      "collapsed_sections": [],
      "toc_visible": true
    },
    "kernelspec": {
      "name": "python3",
      "display_name": "Python 3"
    },
    "language_info": {
      "name": "python"
    }
  },
  "cells": [
    {
      "cell_type": "code",
      "metadata": {
        "id": "ZXoOMgCyYtX6"
      },
      "source": [
        "import numpy as np\n",
        "import matplotlib.pyplot as plt\n",
        "import seaborn as sns\n",
        "import pandas as pd\n",
        "\n",
        "import torch\n",
        "import torch.nn as nn\n",
        "import torch.nn.functional as F\n",
        "import torch.optim as optim\n",
        "import torchvision.models as models\n",
        "\n",
        "import torchvision\n",
        "from torchvision import datasets, transforms"
      ],
      "execution_count": null,
      "outputs": []
    },
    {
      "cell_type": "code",
      "metadata": {
        "id": "-xQ598QMY7WM"
      },
      "source": [
        "trans = transforms.Compose([transforms.ToTensor(), transforms.Normalize((0.5,), (0.5,))])\n",
        "trainset = datasets.EMNIST('./data', 'letters', train=True, download=True, transform=trans)\n",
        "testset = datasets.EMNIST('./data', 'letters', train=False, download=True, transform=trans)"
      ],
      "execution_count": null,
      "outputs": []
    },
    {
      "cell_type": "markdown",
      "metadata": {
        "id": "AII7RxFfwNms"
      },
      "source": [
        "# Model Definition"
      ]
    },
    {
      "cell_type": "code",
      "metadata": {
        "id": "oE9VZtKL-9h6"
      },
      "source": [
        "class ResBlock(nn.Module):\n",
        "    def __init__(self, in_channels, out_channels, id_downsample=None, stride=1):\n",
        "        super(ResBlock, self).__init__()\n",
        "        self.expansion = 4\n",
        "        self.layers = nn.Sequential(\n",
        "            nn.Conv2d(in_channels, out_channels, kernel_size=1, stride=1, padding=0),\n",
        "            nn.BatchNorm2d(out_channels),\n",
        "            nn.Conv2d(out_channels, out_channels, kernel_size=3, stride=stride, padding=1),\n",
        "            nn.BatchNorm2d(out_channels),\n",
        "            nn.Conv2d(out_channels, out_channels*self.expansion, kernel_size=1, stride=1, padding=0),\n",
        "            nn.BatchNorm2d(out_channels*self.expansion),\n",
        "            nn.ReLU()\n",
        "        )\n",
        "\n",
        "        self.identity_downsample = id_downsample\n",
        "\n",
        "    def forward(self, input):\n",
        "        identity = input\n",
        "        output = self.layers(input)\n",
        "\n",
        "        if self.identity_downsample is not None:\n",
        "            identity = self.identity_downsample(identity)\n",
        "\n",
        "        output += identity\n",
        "        output = F.relu(output)\n",
        "\n",
        "        return output"
      ],
      "execution_count": null,
      "outputs": []
    },
    {
      "cell_type": "code",
      "metadata": {
        "id": "NyU3i-Q__IhO"
      },
      "source": [
        "class ResNet(nn.Module):\n",
        "    def __init__(self, layers, img_channels, out_dim):\n",
        "        super(ResNet, self).__init__()\n",
        "        assert len(layers) == 4 \n",
        "\n",
        "        self.channels = 64\n",
        "        self.entry = nn.Sequential(\n",
        "            nn.Conv2d(img_channels, self.channels, kernel_size=7, stride=2,  padding=3),\n",
        "            nn.BatchNorm2d(self.channels),\n",
        "            nn.ReLU(),\n",
        "            nn.MaxPool2d(kernel_size=3, stride=2, padding=1)\n",
        "        )\n",
        "\n",
        "        self.layer1 = self._make_layers(layers[0], out_channels=64, stride=1)\n",
        "        self.layer2 = self._make_layers(layers[1], out_channels=128, stride=2)\n",
        "        self.layer3 = self._make_layers(layers[2], out_channels=256, stride=2)\n",
        "        self.layer4 = self._make_layers(layers[3], out_channels=512, stride=2)\n",
        "\n",
        "        self.avgpool = nn.AdaptiveAvgPool2d((1, 1))\n",
        "        self.fc = nn.Linear(512*4, out_dim)\n",
        "\n",
        "\n",
        "    def _make_layers(self, num_blocks, out_channels, stride):\n",
        "        id_downsample = None\n",
        "        layers = []\n",
        "\n",
        "        if stride != 1 or out_channels * 4 != self.channels:\n",
        "            id_downsample = nn.Sequential(\n",
        "                nn.Conv2d(self.channels, out_channels*4, kernel_size=1, stride=stride),\n",
        "                nn.BatchNorm2d(out_channels * 4)\n",
        "            )\n",
        "\n",
        "        layers.append(ResBlock(self.channels, out_channels, id_downsample, stride))\n",
        "        self.channels = out_channels * 4\n",
        "\n",
        "        for _ in range(num_blocks - 1):\n",
        "            layers.append(ResBlock(self.channels, out_channels))\n",
        "\n",
        "        return nn.Sequential(*layers)\n",
        "\n",
        "    def forward(self, input):\n",
        "        x = self.entry(input)\n",
        "        x = self.layer1(x)\n",
        "        x = self.layer2(x)\n",
        "        x = self.layer3(x)\n",
        "        x = self.layer4(x)\n",
        "\n",
        "        x = self.avgpool(x)\n",
        "        x = x.reshape(x.shape[0], -1)\n",
        "        output = self.fc(x)\n",
        "\n",
        "        return output"
      ],
      "execution_count": null,
      "outputs": []
    },
    {
      "cell_type": "code",
      "metadata": {
        "id": "8yrwI-6E67Cc"
      },
      "source": [
        "class AutoEncoder(nn.Module):\n",
        "    def __init__(self, embed_dim, device):\n",
        "        super(AutoEncoder, self).__init__()\n",
        "        self.embed_dim = embed_dim\n",
        "        self.device = device\n",
        "        # Encoder\n",
        "        self.encoder = ResNet([2, 2, 2, 2], 1, 300) # ResNet18\n",
        "        self.enc_mu = nn.Linear(300, embed_dim)\n",
        "        self.enc_ls = nn.Linear(300, embed_dim)\n",
        "\n",
        "        # Decoder\n",
        "        self.decoder = ResNet([2, 2, 2, 2], 1, 28*28) # ResNet18\n",
        "        self.logsigma = nn.Parameter(torch.Tensor([0.0]))\n",
        "\n",
        "    def encode(self, x):\n",
        "        h = self.encoder(x)\n",
        "        mu = self.enc_mu(h)\n",
        "        ls = self.enc_ls(h)\n",
        "        return mu, ls\n",
        "\n",
        "    \n",
        "    def decode(self, z):\n",
        "        x_hat = self.decoder(z)\n",
        "        return x_hat\n",
        "\n",
        "    def forward(self, input):\n",
        "        mu, logsigma = self.encode(input)\n",
        "        q = torch.distributions.Normal(mu, logsigma.exp())\n",
        "        z = q.rsample()\n",
        "        \n",
        "        xhat = self.decode(z.view(-1, 1, 8, 8))\n",
        "        return xhat, mu, logsigma\n"
      ],
      "execution_count": null,
      "outputs": []
    },
    {
      "cell_type": "markdown",
      "metadata": {
        "id": "PEsb8pz9wL1_"
      },
      "source": [
        "# Training"
      ]
    },
    {
      "cell_type": "code",
      "metadata": {
        "id": "nOqWyev6Gcma"
      },
      "source": [
        "def reconstruction_loss(xhat, x, logsigma):\n",
        "    scale = torch.exp(logsigma)\n",
        "    distribution = torch.distributions.Normal(xhat, scale)\n",
        "    log_pxz = distribution.log_prob(x)\n",
        "\n",
        "    return torch.mean(log_pxz.sum(dim=1))\n",
        "\n",
        "def train_vae(batch_size, trainset, epochs=100, lr=0.001, embed_dim=10):\n",
        "    trainloader = torch.utils.data.DataLoader(trainset, batch_size=batch_size,\n",
        "                                          shuffle=True)\n",
        "    device = torch.device('cuda' if torch.cuda.is_available() else 'cpu')\n",
        "\n",
        "    if torch.cuda.is_available():\n",
        "        print(\"Starting training on GPU...\")\n",
        "    else:\n",
        "        print(\"Starting training on CPU...\")\n",
        "\n",
        "    vae = AutoEncoder(embed_dim, device)\n",
        "    vae.to(device)\n",
        "\n",
        "    optimizer = optim.Adam(vae.parameters(), lr=lr)\n",
        "    trajectory = []\n",
        "    rec_losses = []\n",
        "    total_iters = 0\n",
        "\n",
        "    for epoch in range(epochs):\n",
        "        print('='*10 + f' Epoch {epoch} ' + '='*10)\n",
        "        running_loss = 0.0\n",
        "        iterations = 0\n",
        "        for i, (data, _) in enumerate(trainloader):\n",
        "            optimizer.zero_grad()\n",
        "\n",
        "            data = data.to(device).float()\n",
        "            xhat, mu, logsigma = vae(data)\n",
        "            data = data.view(batch_size, -1)\n",
        "            \n",
        "            recon_loss = reconstruction_loss(xhat, data, vae.logsigma)\n",
        "            kl_loss = torch.mean(-0.5 * torch.sum(1 + logsigma - mu ** 2 - logsigma.exp(), dim = 1), dim = 0)\n",
        "            loss = kl_loss - recon_loss\n",
        "\n",
        "            loss.backward()\n",
        "            optimizer.step()\n",
        "\n",
        "            running_loss += loss.item()\n",
        "            iterations += 1\n",
        "            total_iters += 1\n",
        "\n",
        "            if total_iters % 1000 == 0 or total_iters == 0:\n",
        "                rec_loss = validate_reconstruction(vae)\n",
        "                print(f\"RECONSTRUCTION LOSS {rec_loss}\")\n",
        "                rec_losses.append(rec_loss)\n",
        "\n",
        "            if i % 312 == 0:\n",
        "                print(f'- Iteration {i} loss: {loss.item()}')\n",
        "        \n",
        "        trajectory.append(running_loss/iterations)\n",
        "    \n",
        "    return vae, trajectory, rec_losses\n"
      ],
      "execution_count": null,
      "outputs": []
    },
    {
      "cell_type": "code",
      "metadata": {
        "id": "vhIaP5QnRlal"
      },
      "source": [
        "def resume_training(vae, batch_size, trainset, epochs=100, lr=0.001, embed_dim=10):\n",
        "    trainloader = torch.utils.data.DataLoader(trainset, batch_size=batch_size,\n",
        "                                          shuffle=True)\n",
        "    device = torch.device('cuda' if torch.cuda.is_available() else 'cpu')\n",
        "\n",
        "    if torch.cuda.is_available():\n",
        "        print(\"Starting training on GPU...\")\n",
        "    else:\n",
        "        print(\"Starting training on CPU...\")\n",
        "\n",
        "    vae.to(device)\n",
        "\n",
        "    optimizer = optim.Adam(vae.parameters(), lr=lr)\n",
        "    trajectory = []\n",
        "    rec_losses = []\n",
        "    total_iters = 0\n",
        "\n",
        "    for epoch in range(epochs):\n",
        "        print('='*10 + f' Epoch {epoch} ' + '='*10)\n",
        "        running_loss = 0.0\n",
        "        iterations = 0\n",
        "        for i, (data, _) in enumerate(trainloader):\n",
        "            optimizer.zero_grad()\n",
        "\n",
        "            data = data.to(device).float()\n",
        "            xhat, mu, logsigma = vae(data)\n",
        "            data = data.view(batch_size, -1)\n",
        "            \n",
        "            recon_loss = reconstruction_loss(xhat, data, vae.logsigma)\n",
        "            kl_loss = torch.mean(-0.5 * torch.sum(1 + logsigma - mu ** 2 - logsigma.exp(), dim = 1), dim = 0)\n",
        "            loss = kl_loss - recon_loss\n",
        "\n",
        "            loss.backward()\n",
        "            optimizer.step()\n",
        "\n",
        "            running_loss += loss.item()\n",
        "            iterations += 1\n",
        "            total_iters += 1\n",
        "\n",
        "            if total_iters % 1000 == 0 or total_iters == 0:\n",
        "                rec_loss = validate_reconstruction(vae)\n",
        "                print(f\"RECONSTRUCTION LOSS {rec_loss}\")\n",
        "                rec_losses.append(rec_loss)\n",
        "\n",
        "            if i % 312 == 0:\n",
        "                print(f'- Iteration {i} loss: {loss.item()}')\n",
        "        \n",
        "        trajectory.append(running_loss/iterations)\n",
        "    \n",
        "    return vae, trajectory, rec_losses\n"
      ],
      "execution_count": null,
      "outputs": []
    },
    {
      "cell_type": "code",
      "metadata": {
        "id": "Ev1y1LlC85CB"
      },
      "source": [
        "def validate_reconstruction(vae):\n",
        "    device = torch.device('cuda' if torch.cuda.is_available() else 'cpu')\n",
        "    testloader = torch.utils.data.DataLoader(testset, batch_size=20,\n",
        "                                          shuffle=True)\n",
        "    rl = nn.MSELoss()\n",
        "    loss = 0\n",
        "\n",
        "    with torch.no_grad():\n",
        "        for img, _ in testloader:\n",
        "            img = img.to(device).float()\n",
        "            rec, _, _ = vae(img)\n",
        "\n",
        "            loss += rl(rec, img.view(20, -1)).item()\n",
        "    \n",
        "    return loss/len(testloader)"
      ],
      "execution_count": null,
      "outputs": []
    },
    {
      "cell_type": "code",
      "metadata": {
        "id": "HUajp-MmLpHl"
      },
      "source": [
        "vae, trajectory, rec_loss = train_vae(100, trainset, lr=1e-5, epochs=81, embed_dim=64)"
      ],
      "execution_count": null,
      "outputs": []
    },
    {
      "cell_type": "code",
      "metadata": {
        "id": "Et58TtCeZJru"
      },
      "source": [
        "torch.save(vae.state_dict(), './vae_final.pt')"
      ],
      "execution_count": null,
      "outputs": []
    },
    {
      "cell_type": "markdown",
      "metadata": {
        "id": "uJ66gtnzvOCU"
      },
      "source": [
        "# Test and Evaluation"
      ]
    },
    {
      "cell_type": "code",
      "metadata": {
        "id": "bkN3pr-WvMSW"
      },
      "source": [
        "# Load pretrained model\n",
        "autoencoder = AutoEncoder(64, torch.device('cuda'))\n",
        "autoencoder.load_state_dict(torch.load('./vae_final.pt'))\n",
        "autoencoder.to(device)\n",
        "autoencoder.eval()"
      ],
      "execution_count": null,
      "outputs": []
    },
    {
      "cell_type": "code",
      "metadata": {
        "id": "c0P5X9VWxamy"
      },
      "source": [
        "device = torch.device('cuda' if torch.cuda.is_available() else 'cpu')"
      ],
      "execution_count": null,
      "outputs": []
    },
    {
      "cell_type": "markdown",
      "metadata": {
        "id": "CQ8DO5Chyj-E"
      },
      "source": [
        "## 2. Reconstruction"
      ]
    },
    {
      "cell_type": "code",
      "metadata": {
        "id": "MSc82mrixxOA"
      },
      "source": [
        "from matplotlib.pyplot import imshow, figure\n",
        "from torchvision.utils import make_grid\n",
        "\n",
        "# Reconstructions\n",
        "def create_reconstructions(n_samples=20):\n",
        "    device = torch.device('cuda' if torch.cuda.is_available() else 'cpu')\n",
        "    testloader = torch.utils.data.DataLoader(testset, batch_size=n_samples,\n",
        "                                          shuffle=True)\n",
        "    test_imgs, _ = iter(testloader).next()\n",
        "    test_imgs = test_imgs.to(device).float()\n",
        "\n",
        "    with torch.no_grad():\n",
        "        reconstruction, _, _ = vae(test_imgs)\n",
        "        reconstruction = reconstruction.cpu()\n",
        "        \n",
        "    # Undo data normalization\n",
        "    mean, std = np.array([0.5]), np.array([0.5])\n",
        "\n",
        "    # Plot images\n",
        "    viz = make_grid(reconstruction.reshape(n_samples, 1, 28, 28), nrow=5, padding = 2).numpy()* std + mean\n",
        "    fig, ax = plt.subplots(figsize= (8,8), dpi=100)\n",
        "    ax.imshow(np.transpose(viz, (1,2,0)))\n",
        "    ax.grid(False)\n",
        "    fig.savefig('./reconstruction.png')\n",
        "    \n",
        "create_reconstructions())"
      ],
      "execution_count": null,
      "outputs": []
    },
    {
      "cell_type": "markdown",
      "metadata": {
        "id": "9OWPsdgeB4Wf"
      },
      "source": [
        "## 3. Scene Categorization"
      ]
    },
    {
      "cell_type": "code",
      "metadata": {
        "id": "CgDY-X8LZfeq"
      },
      "source": [
        "def scene_categorization(model, n_trials=25):\n",
        "    device = torch.device('cuda' if torch.cuda.is_available() else 'cpu')\n",
        "    trials = np.random.binomial(1, 0.5, size=(n_trials, ))\n",
        "    batch_size = 25 - trials.sum()\n",
        "    testloader = torch.utils.data.DataLoader(testset, batch_size=n_trials,\n",
        "                                          shuffle=True)\n",
        "    \n",
        "    itertest = iter(testloader)\n",
        "    fake, _ = itertest.next()\n",
        "    real, _ = itertest.next()\n",
        "    \n",
        "    with torch.no_grad():\n",
        "        fake = fake.to(device).float()\n",
        "        xhat, _, _ = model(fake)\n",
        "        xhat = xhat.cpu().view(-1, 1, 28, 28)\n",
        "        \n",
        "    final = None\n",
        "    i = 0\n",
        "    j = 0\n",
        "    for trial in trials:\n",
        "        if trial:\n",
        "            final = torch.cat((final, xhat[i])) if final is not None else xhat[i]\n",
        "            i += 1\n",
        "        else:\n",
        "            final = torch.cat((final, real[j])) if final is not None else real[j]\n",
        "            j += 1\n",
        "    \n",
        "    mean, std = np.array([0.5]), np.array([0.5])\n",
        "    # Plot images\n",
        "    viz = make_grid(final.reshape(n_trials, 1, 28, 28), nrow=5, padding = 2).numpy()* std + mean\n",
        "    fig, ax = plt.subplots(figsize= (8,8), dpi=100)\n",
        "    ax.imshow(np.transpose(viz, (1,2,0)))\n",
        "    ax.grid(False)\n",
        "    \n",
        "    return trials"
      ],
      "execution_count": null,
      "outputs": []
    },
    {
      "cell_type": "code",
      "metadata": {
        "id": "yB6fm6qf44cY"
      },
      "source": [
        ""
      ],
      "execution_count": null,
      "outputs": []
    }
  ]
}