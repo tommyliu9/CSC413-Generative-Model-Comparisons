{
 "cells": [
  {
   "cell_type": "markdown",
   "metadata": {
    "id": "TjPTaRB4mpCd"
   },
   "source": [
    "# Colab FAQ\n",
    "\n",
    "For some basic overview and features offered in Colab notebooks, check out: [Overview of Colaboratory Features](https://colab.research.google.com/notebooks/basic_features_overview.ipynb)\n",
    "\n",
    "You need to use the colab GPU for this assignmentby selecting:\n",
    "\n",
    "> **Runtime**   →   **Change runtime type**   →   **Hardware Accelerator: GPU**"
   ]
  },
  {
   "cell_type": "markdown",
   "metadata": {
    "id": "s9IS9B9-yUU5"
   },
   "source": [
    "## Setup PyTorch\n",
    "All files are stored at /content/csc421/a4/ folder\n"
   ]
  },
  {
   "cell_type": "code",
   "execution_count": 1,
   "metadata": {
    "colab": {
     "base_uri": "https://localhost:8080/"
    },
    "id": "Z-6MQhMOlHXD",
    "outputId": "8b7e285a-733a-4e2d-b4be-6e80c815e494"
   },
   "outputs": [
    {
     "name": "stdout",
     "output_type": "stream",
     "text": [
      "Requirement already satisfied: imageio in /home/tommy/miniconda3/lib/python3.8/site-packages (2.9.0)\n",
      "Requirement already satisfied: pillow in /home/tommy/miniconda3/lib/python3.8/site-packages (from imageio) (8.1.2)\n",
      "Requirement already satisfied: numpy in /home/tommy/miniconda3/lib/python3.8/site-packages (from imageio) (1.19.2)\n",
      "Requirement already satisfied: matplotlib in /home/tommy/miniconda3/lib/python3.8/site-packages (3.3.4)\n",
      "Requirement already satisfied: numpy>=1.15 in /home/tommy/miniconda3/lib/python3.8/site-packages (from matplotlib) (1.19.2)\n",
      "Requirement already satisfied: kiwisolver>=1.0.1 in /home/tommy/miniconda3/lib/python3.8/site-packages (from matplotlib) (1.3.1)\n",
      "Requirement already satisfied: python-dateutil>=2.1 in /home/tommy/miniconda3/lib/python3.8/site-packages (from matplotlib) (2.8.1)\n",
      "Requirement already satisfied: cycler>=0.10 in /home/tommy/miniconda3/lib/python3.8/site-packages (from matplotlib) (0.10.0)\n",
      "Requirement already satisfied: pillow>=6.2.0 in /home/tommy/miniconda3/lib/python3.8/site-packages (from matplotlib) (8.1.2)\n",
      "Requirement already satisfied: pyparsing!=2.0.4,!=2.1.2,!=2.1.6,>=2.0.3 in /home/tommy/miniconda3/lib/python3.8/site-packages (from matplotlib) (2.4.7)\n",
      "Requirement already satisfied: six in /home/tommy/miniconda3/lib/python3.8/site-packages (from cycler>=0.10->matplotlib) (1.15.0)\n",
      "/mnt/c/Users/superhardcocksgamerp/Documents/Github/Final-Project/content/csc413/a4\n"
     ]
    }
   ],
   "source": [
    "######################################################################\n",
    "# Setup python environment and change the current working directory\n",
    "######################################################################\n",
    "!pip install torch torchvision\n",
    "!pip install imageio\n",
    "\n",
    "!pip install matplotlib\n",
    "\n",
    "%mkdir -p ./content/csc413/a4/\n",
    "%cd ./content/csc413/a4\n",
    "\n"
   ]
  },
  {
   "cell_type": "markdown",
   "metadata": {
    "id": "9DaTdRNuUra7"
   },
   "source": [
    "# Helper code"
   ]
  },
  {
   "cell_type": "markdown",
   "metadata": {
    "id": "4BIpGwANoQOg"
   },
   "source": [
    "## Utility functions"
   ]
  },
  {
   "cell_type": "code",
   "execution_count": 2,
   "metadata": {
    "id": "D-UJHBYZkh7f"
   },
   "outputs": [],
   "source": [
    "import os\n",
    "\n",
    "import numpy as np\n",
    "import matplotlib.pyplot as plt\n",
    "\n",
    "import torch\n",
    "from torch import nn\n",
    "from torch.nn import Parameter\n",
    "import torch.nn.functional as F\n",
    "import torch.optim as optim\n",
    "from torch.autograd import Variable\n",
    "from torch.utils.data import DataLoader\n",
    "from torchvision import datasets\n",
    "from torchvision import transforms\n",
    "\n",
    "from six.moves.urllib.request import urlretrieve\n",
    "import tarfile\n",
    "\n",
    "import imageio\n",
    "from urllib.error import URLError\n",
    "from urllib.error import HTTPError\n",
    "os.environ[\"CUDA_VISABLE_DEVICES\"] = \"GPU_ID\"\n",
    "\n",
    "def get_file(fname,\n",
    "             origin,\n",
    "             untar=False,\n",
    "             extract=False,\n",
    "             archive_format='auto',\n",
    "             cache_dir='data'):\n",
    "    datadir = os.path.join(cache_dir)\n",
    "    if not os.path.exists(datadir):\n",
    "        os.makedirs(datadir)\n",
    "\n",
    "    if untar:\n",
    "        untar_fpath = os.path.join(datadir, fname)\n",
    "        fpath = untar_fpath + '.tar.gz'\n",
    "    else:\n",
    "        fpath = os.path.join(datadir, fname)\n",
    "\n",
    "    print(fpath)\n",
    "    if not os.path.exists(fpath):\n",
    "        print('Downloading data from', origin)\n",
    "\n",
    "        error_msg = 'URL fetch failure on {}: {} -- {}'\n",
    "        try:\n",
    "            try:\n",
    "                urlretrieve(origin, fpath)\n",
    "            except URLError as e:\n",
    "                raise Exception(error_msg.format(origin, e.errno, e.reason))\n",
    "            except HTTPError as e:\n",
    "                raise Exception(error_msg.format(origin, e.code, e.msg))\n",
    "        except (Exception, KeyboardInterrupt) as e:\n",
    "            if os.path.exists(fpath):\n",
    "                os.remove(fpath)\n",
    "            raise\n",
    "\n",
    "    if untar:\n",
    "        if not os.path.exists(untar_fpath):\n",
    "            print('Extracting file.')\n",
    "            with tarfile.open(fpath) as archive:\n",
    "                archive.extractall(datadir)\n",
    "        return untar_fpath\n",
    "\n",
    "    return fpath\n",
    "\n",
    "\n",
    "class AttrDict(dict):\n",
    "    def __init__(self, *args, **kwargs):\n",
    "        super(AttrDict, self).__init__(*args, **kwargs)\n",
    "        self.__dict__ = self\n",
    "\n",
    "                \n",
    "def to_var(tensor, cuda=True):\n",
    "    \"\"\"Wraps a Tensor in a Variable, optionally placing it on the GPU.\n",
    "\n",
    "        Arguments:\n",
    "            tensor: A Tensor object.\n",
    "            cuda: A boolean flag indicating whether to use the GPU.\n",
    "\n",
    "        Returns:\n",
    "            A Variable object, on the GPU if cuda==True.\n",
    "    \"\"\"\n",
    "    if cuda:\n",
    "        return Variable(tensor.cuda())\n",
    "    else:\n",
    "        return Variable(tensor)\n",
    "\n",
    "    \n",
    "def to_data(x):\n",
    "    \"\"\"Converts variable to numpy.\"\"\"\n",
    "    if torch.cuda.is_available():\n",
    "        x = x.cpu()\n",
    "    return x.data.numpy()\n",
    "\n",
    "\n",
    "def create_dir(directory):\n",
    "    \"\"\"Creates a directory if it doesn't already exist.\n",
    "    \"\"\"\n",
    "    if not os.path.exists(directory):\n",
    "        os.makedirs(directory)\n",
    "\n",
    "\n",
    "def gan_checkpoint(iteration, G, D, opts):\n",
    "    \"\"\"Saves the parameters of the generator G and discriminator D.\n",
    "    \"\"\"\n",
    "    G_path = os.path.join(opts.checkpoint_dir, 'G.pkl')\n",
    "    D_path = os.path.join(opts.checkpoint_dir, 'D.pkl')\n",
    "    torch.save(G.state_dict(), G_path)\n",
    "    torch.save(D.state_dict(), D_path)\n",
    "\n",
    "def load_checkpoint(opts):\n",
    "    \"\"\"Loads the generator and discriminator models from checkpoints.\n",
    "    \"\"\"\n",
    "    G_path = os.path.join(opts.load, 'G.pkl')\n",
    "    D_path = os.path.join(opts.load, 'D_.pkl')\n",
    "\n",
    "    G = DCGenerator(noise_size=opts.noise_size, conv_dim=opts.g_conv_dim, spectral_norm=opts.spectral_norm)\n",
    "    D = DCDiscriminator(conv_dim=opts.d_conv_dim)\n",
    "\n",
    "    G.load_state_dict(torch.load(G_path, map_location=lambda storage, loc: storage))\n",
    "    D.load_state_dict(torch.load(D_path, map_location=lambda storage, loc: storage))\n",
    "\n",
    "    if torch.cuda.is_available():\n",
    "        G.cuda()\n",
    "        D.cuda()\n",
    "        print('Models moved to GPU.')\n",
    "\n",
    "    return G, D\n",
    "\n",
    "\n",
    "def merge_images(sources, targets, opts):\n",
    "    \"\"\"Creates a grid consisting of pairs of columns, where the first column in\n",
    "    each pair contains images source images and the second column in each pair\n",
    "    contains images generated by the CycleGAN from the corresponding images in\n",
    "    the first column.\n",
    "    \"\"\"\n",
    "    _, _, h, w = sources.shape\n",
    "    row = int(np.sqrt(opts.batch_size))\n",
    "    merged = np.zeros([3, row * h, row * w * 2])\n",
    "    for (idx, s, t) in (zip(range(row ** 2), sources, targets, )):\n",
    "        i = idx // row\n",
    "        j = idx % row\n",
    "        merged[:, i * h:(i + 1) * h, (j * 2) * h:(j * 2 + 1) * h] = s\n",
    "        merged[:, i * h:(i + 1) * h, (j * 2 + 1) * h:(j * 2 + 2) * h] = t\n",
    "    return merged.transpose(1, 2, 0)\n",
    "\n",
    "\n",
    "def generate_gif(directory_path, keyword=None):\n",
    "    images = []\n",
    "    for filename in sorted(os.listdir(directory_path)):\n",
    "        if filename.endswith(\".png\") and (keyword is None or keyword in filename):\n",
    "            img_path = os.path.join(directory_path, filename)\n",
    "            print(\"adding image {}\".format(img_path))\n",
    "            images.append(imageio.imread(img_path))\n",
    "\n",
    "    if keyword:\n",
    "        imageio.mimsave(\n",
    "            os.path.join(directory_path, 'anim_{}.gif'.format(keyword)), images)\n",
    "    else:\n",
    "        imageio.mimsave(os.path.join(directory_path, 'anim.gif'), images)\n",
    "\n",
    "\n",
    "def create_image_grid(array, ncols=None):\n",
    "    \"\"\"\n",
    "    \"\"\"\n",
    "    num_images, channels, cell_h, cell_w = array.shape\n",
    "    if not ncols:\n",
    "        ncols = int(np.sqrt(num_images))\n",
    "    nrows = int(np.math.floor(num_images / float(ncols)))\n",
    "    result = np.zeros((cell_h * nrows, cell_w * ncols, channels), dtype=array.dtype)\n",
    "    for i in range(0, nrows):\n",
    "        for j in range(0, ncols):\n",
    "            result[i * cell_h:(i + 1) * cell_h, j * cell_w:(j + 1) * cell_w, :] = array[i * ncols + j].transpose(1, 2,\n",
    "                                                                                                                 0)\n",
    "\n",
    "    if channels == 1:\n",
    "        result = result.squeeze()\n",
    "    return result\n",
    "\n",
    "\n",
    "def gan_save_samples(G, fixed_noise, iteration, opts):\n",
    "    generated_images = G(fixed_noise)\n",
    "    generated_images = to_data(generated_images)\n",
    "\n",
    "    grid = create_image_grid(generated_images)\n",
    "\n",
    "    # merged = merge_images(X, fake_Y, opts)\n",
    "    path = os.path.join(opts.sample_dir, 'sample-{:06d}.png'.format(iteration))\n",
    "    imageio.imwrite(path, grid)\n",
    "    print('Saved {}'.format(path))"
   ]
  },
  {
   "cell_type": "markdown",
   "metadata": {
    "id": "pbvpn4MaV0I1"
   },
   "source": [
    "## Data loader"
   ]
  },
  {
   "cell_type": "code",
   "execution_count": 3,
   "metadata": {
    "id": "XVT4TNTOV3Eg"
   },
   "outputs": [],
   "source": [
    "def get_emoji_loader(emoji_type, opts):\n",
    "    \"\"\"Creates training and test data loaders.\n",
    "    \"\"\"\n",
    "    transform = transforms.Compose([\n",
    "                    transforms.Scale(opts.image_size),\n",
    "                    transforms.ToTensor(),\n",
    "                    transforms.Normalize((0.5, ), (0.5, )),\n",
    "                ])\n",
    "\n",
    "    train_path = os.path.join('data/emojis', emoji_type)\n",
    "    test_path = os.path.join('data/emojis', 'Test_{}'.format(emoji_type))\n",
    "\n",
    "    train_dataset = datasets.ImageFolder(train_path, transform)\n",
    "    test_dataset = datasets.ImageFolder(test_path, transform)\n",
    "\n",
    "\n",
    "    train_dloader = DataLoader(dataset=train_dataset, batch_size=opts.batch_size, shuffle=True, num_workers=opts.num_workers)\n",
    "    test_dloader = DataLoader(dataset=test_dataset,  batch_size=opts.batch_size, shuffle=False, num_workers=opts.num_workers)\n",
    "\n",
    "    return train_dloader, test_dloader\n",
    "\n",
    "def get_emnist_loader(emnist_type, opts):\n",
    "    transform = transforms.Compose([\n",
    "                    transforms.Scale(opts.image_size),\n",
    "                    transforms.ToTensor(),\n",
    "                    transforms.Normalize((0.5), (0.5)),\n",
    "                ])\n",
    "    train = datasets.EMNIST(\".\", split=emnist_type,train = True, download = True, transform= transform)\n",
    "    test = datasets.EMNIST(\".\", split=emnist_type,train = False, download = True, transform = transform)\n",
    "    \n",
    "    train_dloader = DataLoader(dataset=train, batch_size=opts.batch_size, shuffle=True,num_workers=opts.num_workers)\n",
    "    test_dloader = DataLoader(dataset=test, batch_size=opts.batch_size, shuffle=False,num_workers=opts.num_workers)\n",
    "    return train_dloader, test_dloader\n",
    "\n",
    "\n",
    "\n"
   ]
  },
  {
   "cell_type": "markdown",
   "metadata": {
    "id": "bRWfRdmVVjUl"
   },
   "source": [
    "## Training and evaluation code"
   ]
  },
  {
   "cell_type": "code",
   "execution_count": 4,
   "metadata": {
    "id": "nSIhQp41q_Nu"
   },
   "outputs": [],
   "source": [
    "def print_models(G_XtoY, G_YtoX, D_X, D_Y):\n",
    "    \"\"\"Prints model information for the generators and discriminators.\n",
    "    \"\"\"\n",
    "    print(\"                 G                     \")\n",
    "    print(\"---------------------------------------\")\n",
    "    print(G_XtoY)\n",
    "    print(\"---------------------------------------\")\n",
    "\n",
    "    print(\"                  D                    \")\n",
    "    print(\"---------------------------------------\")\n",
    "    print(D_X)\n",
    "    print(\"---------------------------------------\")\n",
    "\n",
    "\n",
    "def create_model(opts):\n",
    "    \"\"\"Builds the generators and discriminators.\n",
    "    \"\"\"\n",
    "    ### GAN\n",
    "    G = DCGenerator(noise_size=opts.noise_size, conv_dim=opts.g_conv_dim, spectral_norm=opts.spectral_norm)\n",
    "    D = DCDiscriminator(conv_dim=opts.d_conv_dim, spectral_norm=opts.spectral_norm)\n",
    "\n",
    "    print_models(G, None, D, None)\n",
    "\n",
    "    if torch.cuda.is_available():\n",
    "        G.cuda()\n",
    "        D.cuda()\n",
    "        print('Models moved to GPU.')\n",
    "    return G, D\n",
    "\n",
    "def train(opts):\n",
    "    \"\"\"Loads the data, creates checkpoint and sample directories, and starts the training loop.\n",
    "    \"\"\"\n",
    "\n",
    "    # Create train and test dataloaders for images from the two domains X and Y\n",
    "    dataloader_X, test_dataloader_X = get_emnist_loader(opts.X, opts=opts)\n",
    "    \n",
    "    # Create checkpoint and sample directories\n",
    "    create_dir(opts.checkpoint_dir)\n",
    "    create_dir(opts.sample_dir)\n",
    "\n",
    "    # Start training\n",
    "    G, D = gan_training_loop(dataloader_X, test_dataloader_X, opts)\n",
    "    return G, D\n",
    "\n",
    "def print_opts(opts):\n",
    "    \"\"\"Prints the values of all command-line arguments.\n",
    "    \"\"\"\n",
    "    print('=' * 80)\n",
    "    print('Opts'.center(80))\n",
    "    print('-' * 80)\n",
    "    for key in opts.__dict__:\n",
    "        if opts.__dict__[key]:\n",
    "            print('{:>30}: {:<30}'.format(key, opts.__dict__[key]).center(80))\n",
    "    print('=' * 80)\n"
   ]
  },
  {
   "cell_type": "markdown",
   "metadata": {
    "id": "bXNsLNkOn38w"
   },
   "source": [
    "# Your code for generators and discriminators"
   ]
  },
  {
   "cell_type": "markdown",
   "metadata": {
    "id": "u0KxX0sDpXKb"
   },
   "source": [
    "## Helper modules"
   ]
  },
  {
   "cell_type": "code",
   "execution_count": 5,
   "metadata": {
    "id": "y7s0etAmpUgT"
   },
   "outputs": [],
   "source": [
    "def sample_noise(batch_size, dim):\n",
    "    \"\"\"\n",
    "    Generate a PyTorch Tensor of uniform random noise.\n",
    "\n",
    "    Input:\n",
    "    - batch_size: Integer giving the batch size of noise to generate.\n",
    "    - dim: Integer giving the dimension of noise to generate.\n",
    "\n",
    "    Output:\n",
    "    - A PyTorch Tensor of shape (batch_size, dim, 1, 1) containing uniform\n",
    "      random noise in the range (-1, 1).\n",
    "    \"\"\"\n",
    "    return to_var(torch.rand(batch_size, dim) * 2 - 1).unsqueeze(2).unsqueeze(3)\n",
    "  \n",
    "\n",
    "def upconv(in_channels, out_channels, kernel_size, stride=2, padding=2, batch_norm=True, spectral_norm=False):\n",
    "    \"\"\"Creates a upsample-and-convolution layer, with optional batch normalization.\n",
    "    \"\"\"\n",
    "    layers = []\n",
    "    if stride>1:\n",
    "        layers.append(nn.Upsample(scale_factor=stride))\n",
    "    conv_layer = nn.Conv2d(in_channels=in_channels, out_channels=out_channels, kernel_size=kernel_size, stride=1, padding=padding, bias=False)\n",
    "    if spectral_norm:\n",
    "        layers.append(SpectralNorm(conv_layer))\n",
    "    else:\n",
    "        layers.append(conv_layer)\n",
    "    if batch_norm:\n",
    "        layers.append(nn.BatchNorm2d(out_channels))\n",
    "    return nn.Sequential(*layers)\n",
    "\n",
    "\n",
    "def conv(in_channels, out_channels, kernel_size, stride=2, padding=2, batch_norm=True, init_zero_weights=False, spectral_norm=False):\n",
    "    \"\"\"Creates a convolutional layer, with optional batch normalization.\n",
    "    \"\"\"\n",
    "    layers = []\n",
    "    conv_layer = nn.Conv2d(in_channels=in_channels, out_channels=out_channels, kernel_size=kernel_size, stride=stride, padding=padding, bias=False)\n",
    "    if init_zero_weights:\n",
    "        conv_layer.weight.data = torch.randn(out_channels, in_channels, kernel_size, kernel_size) * 0.001\n",
    "            \n",
    "    if spectral_norm:\n",
    "        layers.append(SpectralNorm(conv_layer))\n",
    "    else:\n",
    "        layers.append(conv_layer)\n",
    "\n",
    "    if batch_norm:\n",
    "        layers.append(nn.BatchNorm2d(out_channels))\n",
    "    return nn.Sequential(*layers)\n",
    "  \n",
    "\n",
    "class ResnetBlock(nn.Module):\n",
    "    def __init__(self, conv_dim):\n",
    "        super(ResnetBlock, self).__init__()\n",
    "        self.conv_layer = conv(in_channels=conv_dim, out_channels=conv_dim, kernel_size=3, stride=1, padding=1)\n",
    "\n",
    "    def forward(self, x):\n",
    "        out = x + self.conv_layer(x)\n",
    "        return out"
   ]
  },
  {
   "cell_type": "markdown",
   "metadata": {
    "id": "S0_YbBwe5k35"
   },
   "source": [
    "## DCGAN"
   ]
  },
  {
   "cell_type": "markdown",
   "metadata": {
    "id": "m1E_jDaBLT1P"
   },
   "source": [
    "## Spectral Norm class"
   ]
  },
  {
   "cell_type": "code",
   "execution_count": null,
   "metadata": {
    "id": "2hy97i1-LT1Q"
   },
   "outputs": [],
   "source": []
  },
  {
   "cell_type": "markdown",
   "metadata": {
    "id": "_BAfi_8yWB3y"
   },
   "source": [
    "### GAN generator"
   ]
  },
  {
   "cell_type": "code",
   "execution_count": 6,
   "metadata": {
    "id": "9ztmyA5Ro67o"
   },
   "outputs": [],
   "source": [
    "class DCGenerator(nn.Module):\n",
    "    def __init__(self, noise_size, conv_dim, spectral_norm=False):\n",
    "        super(DCGenerator, self).__init__()\n",
    "\n",
    "        self.conv_dim = conv_dim\n",
    "        self.relu = nn.ReLU()\n",
    "        self.linear_bn = upconv(100, conv_dim*4,3) #BS X noise_size x 1 x 1 -> BS x 128 x 4 x 4 \n",
    "        self.upconv1 = upconv(conv_dim*4,conv_dim*2,5)\n",
    "        self.upconv2 = upconv(conv_dim*2,conv_dim,5)\n",
    "        self.upconv3 = upconv(conv_dim,1,5, batch_norm=False) \n",
    "      \n",
    "        self.tanh = nn.Tanh()\n",
    "\n",
    "    def forward(self, z):\n",
    "        \"\"\"Generates an image given a sample of random noise.\n",
    "\n",
    "            Input\n",
    "            -----\n",
    "                z: BS x noise_size x 1 x 1   -->  BSx100x1x1 (during training)\n",
    "\n",
    "            Output\n",
    "            ------\n",
    "                out: BS x channels x image_width x image_height  -->  BSx3x32x32 (during training)\n",
    "        \"\"\"\n",
    "        batch_size = z.size(0)\n",
    "        out = self.relu(self.linear_bn(z))  # BS x 128 x 4 x 4      conv_dim=32\n",
    "        out = out.view(-1, self.conv_dim*4, 4, 4)\n",
    "        out = self.relu(self.upconv1(out))  # BS x 64 x 8 x 8\n",
    "        out = self.relu(self.upconv2(out))  # BS x 32 x 16 x 16\n",
    "        out = self.tanh(self.upconv3(out))  # BS x 3 x 32 x 32\n",
    "        out_size = out.size()\n",
    "        if out_size != torch.Size([batch_size, 1, 32, 32]):\n",
    "            raise ValueError(\"expect {} x 3 x 32 x 32, but get {}\".format(batch_size, out_size))\n",
    "        return out\n"
   ]
  },
  {
   "cell_type": "code",
   "execution_count": null,
   "metadata": {
    "id": "xGNorJYBsf9Z"
   },
   "outputs": [],
   "source": []
  },
  {
   "cell_type": "markdown",
   "metadata": {
    "id": "cG4uqAVPp8_B"
   },
   "source": [
    "### GAN discriminator"
   ]
  },
  {
   "cell_type": "code",
   "execution_count": 7,
   "metadata": {
    "id": "0GkjXydnqARR"
   },
   "outputs": [],
   "source": [
    "class DCDiscriminator(nn.Module):\n",
    "    \"\"\"Defines the architecture of the discriminator network.\n",
    "       Note: Both discriminators D_X and D_Y have the same architecture in this assignment.\n",
    "    \"\"\"\n",
    "    def __init__(self, conv_dim=64, spectral_norm=False):\n",
    "        super(DCDiscriminator, self).__init__()\n",
    "\n",
    "        self.conv1 = conv(in_channels=1, out_channels=conv_dim, kernel_size=5, stride=2, spectral_norm=spectral_norm)\n",
    "        self.conv2 = conv(in_channels=conv_dim, out_channels=conv_dim*2, kernel_size=5, stride=2, spectral_norm=spectral_norm)\n",
    "        self.conv3 = conv(in_channels=conv_dim*2, out_channels=conv_dim*4, kernel_size=5, stride=2, spectral_norm=spectral_norm)\n",
    "        self.conv4 = conv(in_channels=conv_dim*4, out_channels=1, kernel_size=5, stride=2, padding=1, batch_norm=False, spectral_norm=spectral_norm)\n",
    "\n",
    "    def forward(self, x):\n",
    "        batch_size = x.size(0)\n",
    "\n",
    "        out = F.relu(self.conv1(x))    # BS x 64 x 16 x 16\n",
    "        out = F.relu(self.conv2(out))    # BS x 64 x 8 x 8\n",
    "        out = F.relu(self.conv3(out))    # BS x 64 x 4 x 4\n",
    "\n",
    "        out = self.conv4(out).squeeze()\n",
    "        out_size = out.size()\n",
    "        if out_size != torch.Size([batch_size,]):\n",
    "            raise ValueError(\"expect {} x 1, but get {}\".format(batch_size, out_size))\n",
    "        return out"
   ]
  },
  {
   "cell_type": "code",
   "execution_count": 8,
   "metadata": {},
   "outputs": [],
   "source": [
    "from torch.utils.tensorboard import SummaryWriter\n",
    "import numpy as np\n",
    "\n",
    "def log_to_tensorboard(iteration, losses):\n",
    "    writer = SummaryWriter(\"./runs/\")\n",
    "    \n",
    "    for key in losses:\n",
    "        arr = losses[key]\n",
    "        writer.add_scalar(f'loss/{key}', arr[-1], iteration)\n",
    "    writer.close()\n",
    "def calculate_log_likelihood(model, opts):\n",
    "    \n",
    "    transform = transforms.Compose([\n",
    "                    transforms.Scale(opts.image_size),\n",
    "                    transforms.ToTensor(),\n",
    "                    transforms.Normalize((0.5), (0.5)),\n",
    "                ])\n",
    "    train = datasets.EMNIST(\".\", split=\"letters\",train = True, download = True, transform= transform)\n",
    "    train_dloader = DataLoader(dataset=train, batch_size=opts.batch_size, shuffle=True,num_workers=opts.num_workers)\n",
    "    \n",
    "    x = next(iter(train_dloader))[0]\n",
    "    print(x)\n",
    "    return torch.log(model(x)).mean()\n",
    "    "
   ]
  },
  {
   "cell_type": "markdown",
   "metadata": {
    "id": "G8RtBMu55ysm"
   },
   "source": [
    "### GAN training loop"
   ]
  },
  {
   "cell_type": "code",
   "execution_count": 9,
   "metadata": {
    "id": "MxIJ2Zua51KI"
   },
   "outputs": [],
   "source": [
    "def gan_training_loop(dataloader, test_dataloader, opts):\n",
    "    \"\"\"Runs the training loop.\n",
    "        * Saves checkpoint every opts.checkpoint_every iterations\n",
    "        * Saves generated samples every opts.sample_every iterations\n",
    "    \"\"\"\n",
    "\n",
    "    # Create generators and discriminators\n",
    "    G, D = create_model(opts)\n",
    "\n",
    "    g_params = G.parameters()  # Get generator parameters\n",
    "    d_params = D.parameters()  # Get discriminator parameters\n",
    "\n",
    "    # Create optimizers for the generators and discriminators\n",
    "    g_optimizer = optim.RMSprop(g_params, opts.lr)\n",
    "    d_optimizer = optim.RMSprop(d_params, opts.lr)\n",
    "\n",
    "    train_iter = iter(dataloader)\n",
    "\n",
    "    test_iter = iter(test_dataloader)\n",
    "    # Get some fixed data from domains X and Y for sampling. These are images that are held\n",
    "    # constant throughout training, that allow us to inspect the model's performance.\n",
    "    fixed_noise = sample_noise(100, opts.noise_size)  # # 100 x noise_size x 1 x 1\n",
    "\n",
    "    iter_per_epoch = len(train_iter)\n",
    "    total_train_iters = opts.train_iters\n",
    "\n",
    "    losses = {\"iteration\": [], \"D_fake_loss\": [], \"D_real_loss\": [], \"G_loss\": [], \"D_loss\": [], \"W_loss\": []}\n",
    "\n",
    "    # adversarial_loss = torch.nn.BCEWithLogitsLoss()\n",
    "    gp_weight = 1\n",
    "    epoch = 0\n",
    "    total_iters = 0\n",
    "    try:\n",
    "        for iteration in range(1, opts.train_iters + 1):\n",
    "\n",
    "            # Reset data_iter for each epoch\n",
    "            \n",
    "            # ones = Variable(torch.Tensor(real_images.shape[0]).float().cuda().fill_(1.0), requires_grad=False)\n",
    "            if total_iters % iter_per_epoch == 0:\n",
    "                    epoch +=1\n",
    "                    train_iter = iter(dataloader)\n",
    "                    print(\"EPOCH:\", epoch)\n",
    "            b = opts.batch_size\n",
    "            for i in range(opts.n_critic):\n",
    "                real_images, real_labels = train_iter.next()\n",
    "                real_images, real_labels = to_var(real_images), to_var(real_labels).long().squeeze()\n",
    "                m = b\n",
    "                noise = sample_noise(m, opts.noise_size)\n",
    "                fake_images = G(noise)\n",
    "                D_real_loss = D(real_images).mean()\n",
    "                D_fake_loss = D(fake_images).mean()\n",
    "\n",
    "                D_loss = -(D_real_loss - D_fake_loss) #Minimize D_real_loss - D_fake_loss\n",
    "                D_loss.backward()\n",
    "                d_optimizer.step()\n",
    "\n",
    "                Wasserstein_Distance = D_real_loss - D_fake_loss\n",
    "\n",
    "                total_iters += 1    \n",
    "                \n",
    "                for param in D.parameters():\n",
    "                    param.data.clamp_(-opts.clip, opts.clip)\n",
    "                D.zero_grad()\n",
    "                G.zero_grad()\n",
    "            # \n",
    "            z = sample_noise(m, opts.noise_size)\n",
    "            G_z = G(z)\n",
    "            G_loss = -torch.mean(D(G_z))\n",
    "\n",
    "            G_loss.backward()\n",
    "            g_optimizer.step()\n",
    "            D.zero_grad()\n",
    "            G.zero_grad()\n",
    "\n",
    "            if iteration % opts.log_step == 0:\n",
    "                w_loss = Wasserstein_Distance\n",
    "                losses['iteration'].append(iteration)\n",
    "                losses['D_real_loss'].append(D_real_loss.item())\n",
    "                losses['D_loss'].append(D_loss.item())\n",
    "                losses['D_fake_loss'].append(D_fake_loss.item())\n",
    "                losses['W_loss'].append(w_loss.item())\n",
    "                losses['G_loss'].append(G_loss.item())\n",
    "                print('Iteration [{:4d}/{:4d}] | D_real_loss: {:6.4f} | D_fake_loss: {:6.4f} | G_loss: {:6.4f} | D_loss: {:6.4f} | Wasserstein_Distance: {:6.4f}'.format(\n",
    "                    iteration, total_train_iters, D_real_loss.item(), D_fake_loss.item(), G_loss.item(), D_loss.item(), Wasserstein_Distance.item() ))\n",
    "\n",
    "                \n",
    "                log_to_tensorboard(iteration, losses)\n",
    "            # Save the generated samples\n",
    "            if iteration % opts.sample_every == 0:\n",
    "                gan_save_samples(G, fixed_noise, iteration, opts)\n",
    "\n",
    "            # Save the model parameters\n",
    "            if iteration % opts.checkpoint_every == 0:\n",
    "                gan_checkpoint(iteration, G, D, opts)\n",
    "\n",
    "    except KeyboardInterrupt:\n",
    "        print('Exiting early from training.')\n",
    "        return G, D\n",
    "\n",
    "    plt.figure()\n",
    "    plt.plot(losses['iteration'], losses['D_real_loss'], label='D_real')\n",
    "    plt.plot(losses['iteration'], losses['D_fake_loss'], label='D_fake')\n",
    "    plt.plot(losses['iteration'], losses['G_loss'], label='G')\n",
    "    plt.plot(losses['iteration'], losses['D_loss'], label='D')\n",
    "\n",
    "    plt.legend()\n",
    "    plt.savefig(os.path.join(opts.sample_dir, 'losses.png'))\n",
    "    plt.close()\n",
    "    return G, D"
   ]
  },
  {
   "cell_type": "code",
   "execution_count": null,
   "metadata": {
    "id": "GUAGCSig4SD1"
   },
   "outputs": [],
   "source": []
  },
  {
   "cell_type": "markdown",
   "metadata": {
    "id": "XuNFd6LNo0-o"
   },
   "source": [
    "# Training\n"
   ]
  },
  {
   "cell_type": "markdown",
   "metadata": {
    "id": "kiUwiOITHTW4"
   },
   "source": [
    "## Download dataset"
   ]
  },
  {
   "cell_type": "markdown",
   "metadata": {
    "id": "hmQmyJDSRFKR"
   },
   "source": [
    "### WGAN"
   ]
  },
  {
   "cell_type": "code",
   "execution_count": 10,
   "metadata": {
    "id": "0LKaRF1jwhH7",
    "scrolled": true
   },
   "outputs": [
    {
     "name": "stdout",
     "output_type": "stream",
     "text": [
      "================================================================================\n",
      "                                      Opts                                      \n",
      "--------------------------------------------------------------------------------\n",
      "                                   clip: 0.01                                   \n",
      "                               n_critic: 5                                      \n",
      "                             image_size: 32                                     \n",
      "                             g_conv_dim: 32                                     \n",
      "                             d_conv_dim: 64                                     \n",
      "                             noise_size: 100                                    \n",
      "                            train_iters: 300000                                 \n",
      "                                      X: letters                                \n",
      "                                     lr: 5e-05                                  \n",
      "                                  beta1: 0.5                                    \n",
      "                                  beta2: 0.999                                  \n",
      "                             batch_size: 64                                     \n",
      "                      checkpoint_dir: ./results/checkpoints_gan_gp1_lr3e-5      \n",
      "                            sample_dir: ./results/samples_gan_gp1_lr3e-5        \n",
      "                               log_step: 200                                    \n",
      "                           sample_every: 200                                    \n",
      "                       checkpoint_every: 1000                                   \n",
      "                          d_train_iters: 1                                      \n",
      "================================================================================\n",
      "Downloading and extracting zip archive\n"
     ]
    },
    {
     "name": "stderr",
     "output_type": "stream",
     "text": [
      "/home/tommy/miniconda3/lib/python3.8/site-packages/torchvision/transforms/transforms.py:285: UserWarning: The use of the transforms.Scale transform is deprecated, please use transforms.Resize instead.\n",
      "  warnings.warn(\"The use of the transforms.Scale transform is deprecated, \" +\n"
     ]
    },
    {
     "name": "stdout",
     "output_type": "stream",
     "text": [
      "Downloading https://www.itl.nist.gov/iaui/vip/cs_links/EMNIST/gzip.zip to ./EMNIST/raw/emnist.zip\n"
     ]
    },
    {
     "data": {
      "application/vnd.jupyter.widget-view+json": {
       "model_id": "4bdc681c32254488a0eb9613c4f47f96",
       "version_major": 2,
       "version_minor": 0
      },
      "text/plain": [
       "  0%|          | 0/561753746 [00:00<?, ?it/s]"
      ]
     },
     "metadata": {},
     "output_type": "display_data"
    },
    {
     "name": "stdout",
     "output_type": "stream",
     "text": [
      "Extracting ./EMNIST/raw/emnist.zip to ./EMNIST/raw\n",
      "Processing byclass\n"
     ]
    },
    {
     "name": "stderr",
     "output_type": "stream",
     "text": [
      "/home/tommy/miniconda3/lib/python3.8/site-packages/torchvision/datasets/mnist.py:502: UserWarning: The given NumPy array is not writeable, and PyTorch does not support non-writeable tensors. This means you can write to the underlying (supposedly non-writeable) NumPy array using the tensor. You may want to copy the array to protect its data or make it writeable before converting it to a tensor. This type of warning will be suppressed for the rest of this program. (Triggered internally at  /opt/conda/conda-bld/pytorch_1616554793803/work/torch/csrc/utils/tensor_numpy.cpp:143.)\n",
      "  return torch.from_numpy(parsed.astype(m[2], copy=False)).view(*s)\n"
     ]
    },
    {
     "name": "stdout",
     "output_type": "stream",
     "text": [
      "Processing bymerge\n",
      "Processing balanced\n",
      "Processing letters\n",
      "Processing digits\n",
      "Processing mnist\n",
      "Done!\n",
      "                 G                     \n",
      "---------------------------------------\n",
      "DCGenerator(\n",
      "  (relu): ReLU()\n",
      "  (linear_bn): Sequential(\n",
      "    (0): Upsample(scale_factor=2.0, mode=nearest)\n",
      "    (1): Conv2d(100, 128, kernel_size=(3, 3), stride=(1, 1), padding=(2, 2), bias=False)\n",
      "    (2): BatchNorm2d(128, eps=1e-05, momentum=0.1, affine=True, track_running_stats=True)\n",
      "  )\n",
      "  (upconv1): Sequential(\n",
      "    (0): Upsample(scale_factor=2.0, mode=nearest)\n",
      "    (1): Conv2d(128, 64, kernel_size=(5, 5), stride=(1, 1), padding=(2, 2), bias=False)\n",
      "    (2): BatchNorm2d(64, eps=1e-05, momentum=0.1, affine=True, track_running_stats=True)\n",
      "  )\n",
      "  (upconv2): Sequential(\n",
      "    (0): Upsample(scale_factor=2.0, mode=nearest)\n",
      "    (1): Conv2d(64, 32, kernel_size=(5, 5), stride=(1, 1), padding=(2, 2), bias=False)\n",
      "    (2): BatchNorm2d(32, eps=1e-05, momentum=0.1, affine=True, track_running_stats=True)\n",
      "  )\n",
      "  (upconv3): Sequential(\n",
      "    (0): Upsample(scale_factor=2.0, mode=nearest)\n",
      "    (1): Conv2d(32, 1, kernel_size=(5, 5), stride=(1, 1), padding=(2, 2), bias=False)\n",
      "  )\n",
      "  (tanh): Tanh()\n",
      ")\n",
      "---------------------------------------\n",
      "                  D                    \n",
      "---------------------------------------\n",
      "DCDiscriminator(\n",
      "  (conv1): Sequential(\n",
      "    (0): Conv2d(1, 64, kernel_size=(5, 5), stride=(2, 2), padding=(2, 2), bias=False)\n",
      "    (1): BatchNorm2d(64, eps=1e-05, momentum=0.1, affine=True, track_running_stats=True)\n",
      "  )\n",
      "  (conv2): Sequential(\n",
      "    (0): Conv2d(64, 128, kernel_size=(5, 5), stride=(2, 2), padding=(2, 2), bias=False)\n",
      "    (1): BatchNorm2d(128, eps=1e-05, momentum=0.1, affine=True, track_running_stats=True)\n",
      "  )\n",
      "  (conv3): Sequential(\n",
      "    (0): Conv2d(128, 256, kernel_size=(5, 5), stride=(2, 2), padding=(2, 2), bias=False)\n",
      "    (1): BatchNorm2d(256, eps=1e-05, momentum=0.1, affine=True, track_running_stats=True)\n",
      "  )\n",
      "  (conv4): Sequential(\n",
      "    (0): Conv2d(256, 1, kernel_size=(5, 5), stride=(2, 2), padding=(1, 1), bias=False)\n",
      "  )\n",
      ")\n",
      "---------------------------------------\n",
      "Models moved to GPU.\n",
      "EPOCH: 1\n",
      "Iteration [ 200/300000] | D_real_loss: 0.0293 | D_fake_loss: -0.2283 | G_loss: 0.0667 | D_loss: -0.2576 | Wasserstein_Distance: 0.2576\n"
     ]
    },
    {
     "name": "stderr",
     "output_type": "stream",
     "text": [
      "Lossy conversion from float32 to uint8. Range [-0.9999290108680725, 0.9999983906745911]. Convert image to uint8 prior to saving to suppress this warning.\n"
     ]
    },
    {
     "name": "stdout",
     "output_type": "stream",
     "text": [
      "Saved ./results/samples_gan_gp1_lr3e-5/sample-000200.png\n",
      "EPOCH: 2\n"
     ]
    },
    {
     "name": "stderr",
     "output_type": "stream",
     "text": [
      "Lossy conversion from float32 to uint8. Range [-0.9999998211860657, 0.9999849796295166]. Convert image to uint8 prior to saving to suppress this warning.\n"
     ]
    },
    {
     "name": "stdout",
     "output_type": "stream",
     "text": [
      "Iteration [ 400/300000] | D_real_loss: 0.1641 | D_fake_loss: -0.2390 | G_loss: 0.1630 | D_loss: -0.4030 | Wasserstein_Distance: 0.4030\n",
      "Saved ./results/samples_gan_gp1_lr3e-5/sample-000400.png\n"
     ]
    },
    {
     "name": "stderr",
     "output_type": "stream",
     "text": [
      "Lossy conversion from float32 to uint8. Range [-1.0, 0.9995073676109314]. Convert image to uint8 prior to saving to suppress this warning.\n"
     ]
    },
    {
     "name": "stdout",
     "output_type": "stream",
     "text": [
      "Iteration [ 600/300000] | D_real_loss: 0.1328 | D_fake_loss: -0.2812 | G_loss: 0.1077 | D_loss: -0.4140 | Wasserstein_Distance: 0.4140\n",
      "Saved ./results/samples_gan_gp1_lr3e-5/sample-000600.png\n",
      "EPOCH: 3\n"
     ]
    },
    {
     "name": "stderr",
     "output_type": "stream",
     "text": [
      "Lossy conversion from float32 to uint8. Range [-1.0, 0.9982430338859558]. Convert image to uint8 prior to saving to suppress this warning.\n"
     ]
    },
    {
     "name": "stdout",
     "output_type": "stream",
     "text": [
      "Iteration [ 800/300000] | D_real_loss: 0.1801 | D_fake_loss: -0.2515 | G_loss: 0.1728 | D_loss: -0.4316 | Wasserstein_Distance: 0.4316\n",
      "Saved ./results/samples_gan_gp1_lr3e-5/sample-000800.png\n"
     ]
    },
    {
     "name": "stderr",
     "output_type": "stream",
     "text": [
      "Lossy conversion from float32 to uint8. Range [-1.0, 0.9977396130561829]. Convert image to uint8 prior to saving to suppress this warning.\n"
     ]
    },
    {
     "name": "stdout",
     "output_type": "stream",
     "text": [
      "Iteration [1000/300000] | D_real_loss: 0.2525 | D_fake_loss: -0.1669 | G_loss: 0.2574 | D_loss: -0.4194 | Wasserstein_Distance: 0.4194\n",
      "Saved ./results/samples_gan_gp1_lr3e-5/sample-001000.png\n",
      "EPOCH: 4\n"
     ]
    },
    {
     "name": "stderr",
     "output_type": "stream",
     "text": [
      "Lossy conversion from float32 to uint8. Range [-1.0, 0.9969378113746643]. Convert image to uint8 prior to saving to suppress this warning.\n"
     ]
    },
    {
     "name": "stdout",
     "output_type": "stream",
     "text": [
      "Iteration [1200/300000] | D_real_loss: 0.2195 | D_fake_loss: -0.2175 | G_loss: 0.2431 | D_loss: -0.4370 | Wasserstein_Distance: 0.4370\n",
      "Saved ./results/samples_gan_gp1_lr3e-5/sample-001200.png\n"
     ]
    },
    {
     "name": "stderr",
     "output_type": "stream",
     "text": [
      "Lossy conversion from float32 to uint8. Range [-1.0, 0.9946592450141907]. Convert image to uint8 prior to saving to suppress this warning.\n"
     ]
    },
    {
     "name": "stdout",
     "output_type": "stream",
     "text": [
      "Iteration [1400/300000] | D_real_loss: 0.2052 | D_fake_loss: -0.1699 | G_loss: 0.2161 | D_loss: -0.3751 | Wasserstein_Distance: 0.3751\n",
      "Saved ./results/samples_gan_gp1_lr3e-5/sample-001400.png\n",
      "EPOCH: 5\n"
     ]
    },
    {
     "name": "stderr",
     "output_type": "stream",
     "text": [
      "Lossy conversion from float32 to uint8. Range [-1.0, 0.9956100583076477]. Convert image to uint8 prior to saving to suppress this warning.\n"
     ]
    },
    {
     "name": "stdout",
     "output_type": "stream",
     "text": [
      "Iteration [1600/300000] | D_real_loss: 0.1288 | D_fake_loss: -0.2576 | G_loss: 0.1645 | D_loss: -0.3863 | Wasserstein_Distance: 0.3863\n",
      "Saved ./results/samples_gan_gp1_lr3e-5/sample-001600.png\n"
     ]
    },
    {
     "name": "stderr",
     "output_type": "stream",
     "text": [
      "Lossy conversion from float32 to uint8. Range [-1.0, 0.9957762956619263]. Convert image to uint8 prior to saving to suppress this warning.\n"
     ]
    },
    {
     "name": "stdout",
     "output_type": "stream",
     "text": [
      "Iteration [1800/300000] | D_real_loss: 0.1448 | D_fake_loss: -0.2506 | G_loss: 0.1824 | D_loss: -0.3954 | Wasserstein_Distance: 0.3954\n",
      "Saved ./results/samples_gan_gp1_lr3e-5/sample-001800.png\n",
      "EPOCH: 6\n"
     ]
    },
    {
     "name": "stderr",
     "output_type": "stream",
     "text": [
      "Lossy conversion from float32 to uint8. Range [-1.0, 0.9942880868911743]. Convert image to uint8 prior to saving to suppress this warning.\n"
     ]
    },
    {
     "name": "stdout",
     "output_type": "stream",
     "text": [
      "Iteration [2000/300000] | D_real_loss: 0.1120 | D_fake_loss: -0.2669 | G_loss: 0.1301 | D_loss: -0.3790 | Wasserstein_Distance: 0.3790\n",
      "Saved ./results/samples_gan_gp1_lr3e-5/sample-002000.png\n"
     ]
    },
    {
     "name": "stderr",
     "output_type": "stream",
     "text": [
      "Lossy conversion from float32 to uint8. Range [-1.0, 0.9948679804801941]. Convert image to uint8 prior to saving to suppress this warning.\n"
     ]
    },
    {
     "name": "stdout",
     "output_type": "stream",
     "text": [
      "Iteration [2200/300000] | D_real_loss: 0.2309 | D_fake_loss: -0.1629 | G_loss: 0.2553 | D_loss: -0.3938 | Wasserstein_Distance: 0.3938\n",
      "Saved ./results/samples_gan_gp1_lr3e-5/sample-002200.png\n",
      "EPOCH: 7\n"
     ]
    },
    {
     "name": "stderr",
     "output_type": "stream",
     "text": [
      "Lossy conversion from float32 to uint8. Range [-1.0, 0.9941046237945557]. Convert image to uint8 prior to saving to suppress this warning.\n"
     ]
    },
    {
     "name": "stdout",
     "output_type": "stream",
     "text": [
      "Iteration [2400/300000] | D_real_loss: 0.2384 | D_fake_loss: -0.1816 | G_loss: 0.2592 | D_loss: -0.4200 | Wasserstein_Distance: 0.4200\n",
      "Saved ./results/samples_gan_gp1_lr3e-5/sample-002400.png\n"
     ]
    },
    {
     "name": "stderr",
     "output_type": "stream",
     "text": [
      "Lossy conversion from float32 to uint8. Range [-1.0, 0.9946719408035278]. Convert image to uint8 prior to saving to suppress this warning.\n"
     ]
    },
    {
     "name": "stdout",
     "output_type": "stream",
     "text": [
      "Iteration [2600/300000] | D_real_loss: 0.2630 | D_fake_loss: -0.1516 | G_loss: 0.2722 | D_loss: -0.4146 | Wasserstein_Distance: 0.4146\n",
      "Saved ./results/samples_gan_gp1_lr3e-5/sample-002600.png\n",
      "EPOCH: 8\n"
     ]
    },
    {
     "name": "stderr",
     "output_type": "stream",
     "text": [
      "Lossy conversion from float32 to uint8. Range [-1.0, 0.9945694208145142]. Convert image to uint8 prior to saving to suppress this warning.\n"
     ]
    },
    {
     "name": "stdout",
     "output_type": "stream",
     "text": [
      "Iteration [2800/300000] | D_real_loss: 0.1224 | D_fake_loss: -0.2653 | G_loss: 0.1323 | D_loss: -0.3877 | Wasserstein_Distance: 0.3877\n",
      "Saved ./results/samples_gan_gp1_lr3e-5/sample-002800.png\n"
     ]
    },
    {
     "name": "stderr",
     "output_type": "stream",
     "text": [
      "Lossy conversion from float32 to uint8. Range [-1.0, 0.995777428150177]. Convert image to uint8 prior to saving to suppress this warning.\n"
     ]
    },
    {
     "name": "stdout",
     "output_type": "stream",
     "text": [
      "Iteration [3000/300000] | D_real_loss: 0.1624 | D_fake_loss: -0.2454 | G_loss: 0.1804 | D_loss: -0.4078 | Wasserstein_Distance: 0.4078\n",
      "Saved ./results/samples_gan_gp1_lr3e-5/sample-003000.png\n",
      "EPOCH: 9\n"
     ]
    },
    {
     "name": "stderr",
     "output_type": "stream",
     "text": [
      "Lossy conversion from float32 to uint8. Range [-1.0, 0.9941256642341614]. Convert image to uint8 prior to saving to suppress this warning.\n"
     ]
    },
    {
     "name": "stdout",
     "output_type": "stream",
     "text": [
      "Iteration [3200/300000] | D_real_loss: 0.2556 | D_fake_loss: -0.1557 | G_loss: 0.2696 | D_loss: -0.4113 | Wasserstein_Distance: 0.4113\n",
      "Saved ./results/samples_gan_gp1_lr3e-5/sample-003200.png\n"
     ]
    },
    {
     "name": "stderr",
     "output_type": "stream",
     "text": [
      "Lossy conversion from float32 to uint8. Range [-1.0, 0.9963277578353882]. Convert image to uint8 prior to saving to suppress this warning.\n"
     ]
    },
    {
     "name": "stdout",
     "output_type": "stream",
     "text": [
      "Iteration [3400/300000] | D_real_loss: 0.2052 | D_fake_loss: -0.2102 | G_loss: 0.2202 | D_loss: -0.4154 | Wasserstein_Distance: 0.4154\n",
      "Saved ./results/samples_gan_gp1_lr3e-5/sample-003400.png\n",
      "EPOCH: 10\n"
     ]
    },
    {
     "name": "stderr",
     "output_type": "stream",
     "text": [
      "Lossy conversion from float32 to uint8. Range [-1.0, 0.9963546395301819]. Convert image to uint8 prior to saving to suppress this warning.\n"
     ]
    },
    {
     "name": "stdout",
     "output_type": "stream",
     "text": [
      "Iteration [3600/300000] | D_real_loss: 0.2157 | D_fake_loss: -0.1944 | G_loss: 0.2331 | D_loss: -0.4101 | Wasserstein_Distance: 0.4101\n",
      "Saved ./results/samples_gan_gp1_lr3e-5/sample-003600.png\n"
     ]
    },
    {
     "name": "stderr",
     "output_type": "stream",
     "text": [
      "Lossy conversion from float32 to uint8. Range [-1.0, 0.9950439929962158]. Convert image to uint8 prior to saving to suppress this warning.\n"
     ]
    },
    {
     "name": "stdout",
     "output_type": "stream",
     "text": [
      "Iteration [3800/300000] | D_real_loss: 0.1604 | D_fake_loss: -0.2560 | G_loss: 0.1669 | D_loss: -0.4164 | Wasserstein_Distance: 0.4164\n",
      "Saved ./results/samples_gan_gp1_lr3e-5/sample-003800.png\n",
      "EPOCH: 11\n"
     ]
    },
    {
     "name": "stderr",
     "output_type": "stream",
     "text": [
      "Lossy conversion from float32 to uint8. Range [-1.0, 0.9971394538879395]. Convert image to uint8 prior to saving to suppress this warning.\n"
     ]
    },
    {
     "name": "stdout",
     "output_type": "stream",
     "text": [
      "Iteration [4000/300000] | D_real_loss: 0.2507 | D_fake_loss: -0.1777 | G_loss: 0.2615 | D_loss: -0.4284 | Wasserstein_Distance: 0.4284\n",
      "Saved ./results/samples_gan_gp1_lr3e-5/sample-004000.png\n"
     ]
    },
    {
     "name": "stderr",
     "output_type": "stream",
     "text": [
      "Lossy conversion from float32 to uint8. Range [-1.0, 0.9932859539985657]. Convert image to uint8 prior to saving to suppress this warning.\n"
     ]
    },
    {
     "name": "stdout",
     "output_type": "stream",
     "text": [
      "Iteration [4200/300000] | D_real_loss: 0.2665 | D_fake_loss: -0.0927 | G_loss: 0.2843 | D_loss: -0.3592 | Wasserstein_Distance: 0.3592\n",
      "Saved ./results/samples_gan_gp1_lr3e-5/sample-004200.png\n",
      "EPOCH: 12\n"
     ]
    },
    {
     "name": "stderr",
     "output_type": "stream",
     "text": [
      "Lossy conversion from float32 to uint8. Range [-1.0, 0.9962022304534912]. Convert image to uint8 prior to saving to suppress this warning.\n"
     ]
    },
    {
     "name": "stdout",
     "output_type": "stream",
     "text": [
      "Iteration [4400/300000] | D_real_loss: 0.2577 | D_fake_loss: -0.0711 | G_loss: 0.2775 | D_loss: -0.3288 | Wasserstein_Distance: 0.3288\n",
      "Saved ./results/samples_gan_gp1_lr3e-5/sample-004400.png\n"
     ]
    },
    {
     "name": "stderr",
     "output_type": "stream",
     "text": [
      "Lossy conversion from float32 to uint8. Range [-1.0, 0.9939771890640259]. Convert image to uint8 prior to saving to suppress this warning.\n"
     ]
    },
    {
     "name": "stdout",
     "output_type": "stream",
     "text": [
      "Iteration [4600/300000] | D_real_loss: 0.1437 | D_fake_loss: -0.2640 | G_loss: 0.1481 | D_loss: -0.4078 | Wasserstein_Distance: 0.4078\n",
      "Saved ./results/samples_gan_gp1_lr3e-5/sample-004600.png\n",
      "EPOCH: 13\n"
     ]
    },
    {
     "name": "stderr",
     "output_type": "stream",
     "text": [
      "Lossy conversion from float32 to uint8. Range [-1.0, 0.9947730898857117]. Convert image to uint8 prior to saving to suppress this warning.\n"
     ]
    },
    {
     "name": "stdout",
     "output_type": "stream",
     "text": [
      "Iteration [4800/300000] | D_real_loss: 0.2483 | D_fake_loss: -0.1396 | G_loss: 0.2619 | D_loss: -0.3879 | Wasserstein_Distance: 0.3879\n",
      "Saved ./results/samples_gan_gp1_lr3e-5/sample-004800.png\n"
     ]
    },
    {
     "name": "stderr",
     "output_type": "stream",
     "text": [
      "Lossy conversion from float32 to uint8. Range [-1.0, 0.9955962896347046]. Convert image to uint8 prior to saving to suppress this warning.\n"
     ]
    },
    {
     "name": "stdout",
     "output_type": "stream",
     "text": [
      "Iteration [5000/300000] | D_real_loss: 0.2234 | D_fake_loss: -0.1860 | G_loss: 0.2438 | D_loss: -0.4094 | Wasserstein_Distance: 0.4094\n",
      "Saved ./results/samples_gan_gp1_lr3e-5/sample-005000.png\n",
      "EPOCH: 14\n"
     ]
    },
    {
     "name": "stderr",
     "output_type": "stream",
     "text": [
      "Lossy conversion from float32 to uint8. Range [-1.0, 0.9971778392791748]. Convert image to uint8 prior to saving to suppress this warning.\n"
     ]
    },
    {
     "name": "stdout",
     "output_type": "stream",
     "text": [
      "Iteration [5200/300000] | D_real_loss: 0.2521 | D_fake_loss: -0.1289 | G_loss: 0.2643 | D_loss: -0.3810 | Wasserstein_Distance: 0.3810\n",
      "Saved ./results/samples_gan_gp1_lr3e-5/sample-005200.png\n"
     ]
    },
    {
     "name": "stderr",
     "output_type": "stream",
     "text": [
      "Lossy conversion from float32 to uint8. Range [-1.0, 0.9969092011451721]. Convert image to uint8 prior to saving to suppress this warning.\n"
     ]
    },
    {
     "name": "stdout",
     "output_type": "stream",
     "text": [
      "Iteration [5400/300000] | D_real_loss: 0.1529 | D_fake_loss: -0.2458 | G_loss: 0.1647 | D_loss: -0.3987 | Wasserstein_Distance: 0.3987\n",
      "Saved ./results/samples_gan_gp1_lr3e-5/sample-005400.png\n",
      "EPOCH: 15\n"
     ]
    },
    {
     "name": "stderr",
     "output_type": "stream",
     "text": [
      "Lossy conversion from float32 to uint8. Range [-1.0, 0.9969817399978638]. Convert image to uint8 prior to saving to suppress this warning.\n"
     ]
    },
    {
     "name": "stdout",
     "output_type": "stream",
     "text": [
      "Iteration [5600/300000] | D_real_loss: 0.1399 | D_fake_loss: -0.2549 | G_loss: 0.1529 | D_loss: -0.3947 | Wasserstein_Distance: 0.3947\n",
      "Saved ./results/samples_gan_gp1_lr3e-5/sample-005600.png\n"
     ]
    },
    {
     "name": "stderr",
     "output_type": "stream",
     "text": [
      "Lossy conversion from float32 to uint8. Range [-1.0, 0.9971956610679626]. Convert image to uint8 prior to saving to suppress this warning.\n"
     ]
    },
    {
     "name": "stdout",
     "output_type": "stream",
     "text": [
      "Iteration [5800/300000] | D_real_loss: 0.2116 | D_fake_loss: -0.1560 | G_loss: 0.2418 | D_loss: -0.3676 | Wasserstein_Distance: 0.3676\n",
      "Saved ./results/samples_gan_gp1_lr3e-5/sample-005800.png\n",
      "EPOCH: 16\n"
     ]
    },
    {
     "name": "stderr",
     "output_type": "stream",
     "text": [
      "Lossy conversion from float32 to uint8. Range [-1.0, 0.9973467588424683]. Convert image to uint8 prior to saving to suppress this warning.\n"
     ]
    },
    {
     "name": "stdout",
     "output_type": "stream",
     "text": [
      "Iteration [6000/300000] | D_real_loss: 0.2453 | D_fake_loss: -0.1456 | G_loss: 0.2567 | D_loss: -0.3909 | Wasserstein_Distance: 0.3909\n",
      "Saved ./results/samples_gan_gp1_lr3e-5/sample-006000.png\n"
     ]
    },
    {
     "name": "stderr",
     "output_type": "stream",
     "text": [
      "Lossy conversion from float32 to uint8. Range [-1.0, 0.9981104731559753]. Convert image to uint8 prior to saving to suppress this warning.\n"
     ]
    },
    {
     "name": "stdout",
     "output_type": "stream",
     "text": [
      "Iteration [6200/300000] | D_real_loss: 0.0563 | D_fake_loss: -0.2669 | G_loss: 0.0863 | D_loss: -0.3232 | Wasserstein_Distance: 0.3232\n",
      "Saved ./results/samples_gan_gp1_lr3e-5/sample-006200.png\n",
      "EPOCH: 17\n"
     ]
    },
    {
     "name": "stderr",
     "output_type": "stream",
     "text": [
      "Lossy conversion from float32 to uint8. Range [-1.0, 0.9982940554618835]. Convert image to uint8 prior to saving to suppress this warning.\n"
     ]
    },
    {
     "name": "stdout",
     "output_type": "stream",
     "text": [
      "Iteration [6400/300000] | D_real_loss: 0.1362 | D_fake_loss: -0.2468 | G_loss: 0.1503 | D_loss: -0.3829 | Wasserstein_Distance: 0.3829\n",
      "Saved ./results/samples_gan_gp1_lr3e-5/sample-006400.png\n"
     ]
    },
    {
     "name": "stderr",
     "output_type": "stream",
     "text": [
      "Lossy conversion from float32 to uint8. Range [-1.0, 0.9973738193511963]. Convert image to uint8 prior to saving to suppress this warning.\n"
     ]
    },
    {
     "name": "stdout",
     "output_type": "stream",
     "text": [
      "Iteration [6600/300000] | D_real_loss: 0.2392 | D_fake_loss: -0.1252 | G_loss: 0.2673 | D_loss: -0.3645 | Wasserstein_Distance: 0.3645\n",
      "Saved ./results/samples_gan_gp1_lr3e-5/sample-006600.png\n",
      "EPOCH: 18\n"
     ]
    },
    {
     "name": "stderr",
     "output_type": "stream",
     "text": [
      "Lossy conversion from float32 to uint8. Range [-1.0, 0.998378574848175]. Convert image to uint8 prior to saving to suppress this warning.\n"
     ]
    },
    {
     "name": "stdout",
     "output_type": "stream",
     "text": [
      "Iteration [6800/300000] | D_real_loss: 0.0827 | D_fake_loss: -0.2662 | G_loss: 0.0951 | D_loss: -0.3489 | Wasserstein_Distance: 0.3489\n",
      "Saved ./results/samples_gan_gp1_lr3e-5/sample-006800.png\n"
     ]
    },
    {
     "name": "stderr",
     "output_type": "stream",
     "text": [
      "Lossy conversion from float32 to uint8. Range [-1.0, 0.9973999261856079]. Convert image to uint8 prior to saving to suppress this warning.\n"
     ]
    },
    {
     "name": "stdout",
     "output_type": "stream",
     "text": [
      "Iteration [7000/300000] | D_real_loss: 0.2332 | D_fake_loss: -0.1005 | G_loss: 0.2411 | D_loss: -0.3337 | Wasserstein_Distance: 0.3337\n",
      "Saved ./results/samples_gan_gp1_lr3e-5/sample-007000.png\n",
      "EPOCH: 19\n"
     ]
    },
    {
     "name": "stderr",
     "output_type": "stream",
     "text": [
      "Lossy conversion from float32 to uint8. Range [-1.0, 0.9976817965507507]. Convert image to uint8 prior to saving to suppress this warning.\n"
     ]
    },
    {
     "name": "stdout",
     "output_type": "stream",
     "text": [
      "Iteration [7200/300000] | D_real_loss: 0.1635 | D_fake_loss: -0.2385 | G_loss: 0.1697 | D_loss: -0.4020 | Wasserstein_Distance: 0.4020\n",
      "Saved ./results/samples_gan_gp1_lr3e-5/sample-007200.png\n"
     ]
    },
    {
     "name": "stderr",
     "output_type": "stream",
     "text": [
      "Lossy conversion from float32 to uint8. Range [-1.0, 0.9975265264511108]. Convert image to uint8 prior to saving to suppress this warning.\n"
     ]
    },
    {
     "name": "stdout",
     "output_type": "stream",
     "text": [
      "Iteration [7400/300000] | D_real_loss: 0.1648 | D_fake_loss: -0.2066 | G_loss: 0.1509 | D_loss: -0.3715 | Wasserstein_Distance: 0.3715\n",
      "Saved ./results/samples_gan_gp1_lr3e-5/sample-007400.png\n",
      "EPOCH: 20\n"
     ]
    },
    {
     "name": "stderr",
     "output_type": "stream",
     "text": [
      "Lossy conversion from float32 to uint8. Range [-1.0, 0.9973646402359009]. Convert image to uint8 prior to saving to suppress this warning.\n"
     ]
    },
    {
     "name": "stdout",
     "output_type": "stream",
     "text": [
      "Iteration [7600/300000] | D_real_loss: 0.2187 | D_fake_loss: -0.1165 | G_loss: 0.2409 | D_loss: -0.3352 | Wasserstein_Distance: 0.3352\n",
      "Saved ./results/samples_gan_gp1_lr3e-5/sample-007600.png\n"
     ]
    },
    {
     "name": "stderr",
     "output_type": "stream",
     "text": [
      "Lossy conversion from float32 to uint8. Range [-1.0, 0.9977026581764221]. Convert image to uint8 prior to saving to suppress this warning.\n"
     ]
    },
    {
     "name": "stdout",
     "output_type": "stream",
     "text": [
      "Iteration [7800/300000] | D_real_loss: 0.0836 | D_fake_loss: -0.2505 | G_loss: 0.0747 | D_loss: -0.3341 | Wasserstein_Distance: 0.3341\n",
      "Saved ./results/samples_gan_gp1_lr3e-5/sample-007800.png\n",
      "EPOCH: 21\n"
     ]
    },
    {
     "name": "stderr",
     "output_type": "stream",
     "text": [
      "Lossy conversion from float32 to uint8. Range [-1.0, 0.9977123141288757]. Convert image to uint8 prior to saving to suppress this warning.\n"
     ]
    },
    {
     "name": "stdout",
     "output_type": "stream",
     "text": [
      "Iteration [8000/300000] | D_real_loss: 0.2151 | D_fake_loss: -0.1188 | G_loss: 0.2368 | D_loss: -0.3339 | Wasserstein_Distance: 0.3339\n",
      "Saved ./results/samples_gan_gp1_lr3e-5/sample-008000.png\n",
      "EPOCH: 22\n"
     ]
    },
    {
     "name": "stderr",
     "output_type": "stream",
     "text": [
      "Lossy conversion from float32 to uint8. Range [-1.0, 0.996813178062439]. Convert image to uint8 prior to saving to suppress this warning.\n"
     ]
    },
    {
     "name": "stdout",
     "output_type": "stream",
     "text": [
      "Iteration [8200/300000] | D_real_loss: 0.0995 | D_fake_loss: -0.2639 | G_loss: 0.1164 | D_loss: -0.3634 | Wasserstein_Distance: 0.3634\n",
      "Saved ./results/samples_gan_gp1_lr3e-5/sample-008200.png\n"
     ]
    },
    {
     "name": "stderr",
     "output_type": "stream",
     "text": [
      "Lossy conversion from float32 to uint8. Range [-1.0, 0.9968848824501038]. Convert image to uint8 prior to saving to suppress this warning.\n"
     ]
    },
    {
     "name": "stdout",
     "output_type": "stream",
     "text": [
      "Iteration [8400/300000] | D_real_loss: 0.2238 | D_fake_loss: -0.1707 | G_loss: 0.2460 | D_loss: -0.3945 | Wasserstein_Distance: 0.3945\n",
      "Saved ./results/samples_gan_gp1_lr3e-5/sample-008400.png\n",
      "EPOCH: 23\n"
     ]
    },
    {
     "name": "stderr",
     "output_type": "stream",
     "text": [
      "Lossy conversion from float32 to uint8. Range [-1.0, 0.9976587891578674]. Convert image to uint8 prior to saving to suppress this warning.\n"
     ]
    },
    {
     "name": "stdout",
     "output_type": "stream",
     "text": [
      "Iteration [8600/300000] | D_real_loss: 0.2299 | D_fake_loss: -0.1505 | G_loss: 0.2482 | D_loss: -0.3804 | Wasserstein_Distance: 0.3804\n",
      "Saved ./results/samples_gan_gp1_lr3e-5/sample-008600.png\n"
     ]
    },
    {
     "name": "stderr",
     "output_type": "stream",
     "text": [
      "Lossy conversion from float32 to uint8. Range [-1.0, 0.9979236721992493]. Convert image to uint8 prior to saving to suppress this warning.\n"
     ]
    },
    {
     "name": "stdout",
     "output_type": "stream",
     "text": [
      "Iteration [8800/300000] | D_real_loss: 0.1027 | D_fake_loss: -0.2541 | G_loss: 0.0993 | D_loss: -0.3568 | Wasserstein_Distance: 0.3568\n",
      "Saved ./results/samples_gan_gp1_lr3e-5/sample-008800.png\n",
      "EPOCH: 24\n"
     ]
    },
    {
     "name": "stderr",
     "output_type": "stream",
     "text": [
      "Lossy conversion from float32 to uint8. Range [-1.0, 0.9977869987487793]. Convert image to uint8 prior to saving to suppress this warning.\n"
     ]
    },
    {
     "name": "stdout",
     "output_type": "stream",
     "text": [
      "Iteration [9000/300000] | D_real_loss: 0.0934 | D_fake_loss: -0.2460 | G_loss: 0.1237 | D_loss: -0.3394 | Wasserstein_Distance: 0.3394\n",
      "Saved ./results/samples_gan_gp1_lr3e-5/sample-009000.png\n"
     ]
    },
    {
     "name": "stderr",
     "output_type": "stream",
     "text": [
      "Lossy conversion from float32 to uint8. Range [-1.0, 0.9978733658790588]. Convert image to uint8 prior to saving to suppress this warning.\n"
     ]
    },
    {
     "name": "stdout",
     "output_type": "stream",
     "text": [
      "Iteration [9200/300000] | D_real_loss: 0.1447 | D_fake_loss: -0.2425 | G_loss: 0.1667 | D_loss: -0.3872 | Wasserstein_Distance: 0.3872\n",
      "Saved ./results/samples_gan_gp1_lr3e-5/sample-009200.png\n",
      "EPOCH: 25\n"
     ]
    },
    {
     "name": "stderr",
     "output_type": "stream",
     "text": [
      "Lossy conversion from float32 to uint8. Range [-1.0, 0.9975199103355408]. Convert image to uint8 prior to saving to suppress this warning.\n"
     ]
    },
    {
     "name": "stdout",
     "output_type": "stream",
     "text": [
      "Iteration [9400/300000] | D_real_loss: 0.1958 | D_fake_loss: -0.0977 | G_loss: 0.2264 | D_loss: -0.2934 | Wasserstein_Distance: 0.2934\n",
      "Saved ./results/samples_gan_gp1_lr3e-5/sample-009400.png\n"
     ]
    },
    {
     "name": "stderr",
     "output_type": "stream",
     "text": [
      "Lossy conversion from float32 to uint8. Range [-1.0, 0.9973342418670654]. Convert image to uint8 prior to saving to suppress this warning.\n"
     ]
    },
    {
     "name": "stdout",
     "output_type": "stream",
     "text": [
      "Iteration [9600/300000] | D_real_loss: 0.2095 | D_fake_loss: -0.1400 | G_loss: 0.2456 | D_loss: -0.3496 | Wasserstein_Distance: 0.3496\n",
      "Saved ./results/samples_gan_gp1_lr3e-5/sample-009600.png\n",
      "EPOCH: 26\n"
     ]
    },
    {
     "name": "stderr",
     "output_type": "stream",
     "text": [
      "Lossy conversion from float32 to uint8. Range [-1.0, 0.9973530173301697]. Convert image to uint8 prior to saving to suppress this warning.\n"
     ]
    },
    {
     "name": "stdout",
     "output_type": "stream",
     "text": [
      "Iteration [9800/300000] | D_real_loss: 0.2162 | D_fake_loss: -0.0468 | G_loss: 0.2472 | D_loss: -0.2631 | Wasserstein_Distance: 0.2631\n",
      "Saved ./results/samples_gan_gp1_lr3e-5/sample-009800.png\n"
     ]
    },
    {
     "name": "stderr",
     "output_type": "stream",
     "text": [
      "Lossy conversion from float32 to uint8. Range [-1.0, 0.9978334307670593]. Convert image to uint8 prior to saving to suppress this warning.\n"
     ]
    },
    {
     "name": "stdout",
     "output_type": "stream",
     "text": [
      "Iteration [10000/300000] | D_real_loss: 0.0997 | D_fake_loss: -0.2239 | G_loss: 0.1009 | D_loss: -0.3236 | Wasserstein_Distance: 0.3236\n",
      "Saved ./results/samples_gan_gp1_lr3e-5/sample-010000.png\n",
      "EPOCH: 27\n"
     ]
    },
    {
     "name": "stderr",
     "output_type": "stream",
     "text": [
      "Lossy conversion from float32 to uint8. Range [-1.0, 0.997123658657074]. Convert image to uint8 prior to saving to suppress this warning.\n"
     ]
    },
    {
     "name": "stdout",
     "output_type": "stream",
     "text": [
      "Iteration [10200/300000] | D_real_loss: 0.1183 | D_fake_loss: -0.2209 | G_loss: 0.1537 | D_loss: -0.3392 | Wasserstein_Distance: 0.3392\n",
      "Saved ./results/samples_gan_gp1_lr3e-5/sample-010200.png\n"
     ]
    },
    {
     "name": "stderr",
     "output_type": "stream",
     "text": [
      "Lossy conversion from float32 to uint8. Range [-1.0, 0.9979616403579712]. Convert image to uint8 prior to saving to suppress this warning.\n"
     ]
    },
    {
     "name": "stdout",
     "output_type": "stream",
     "text": [
      "Iteration [10400/300000] | D_real_loss: 0.2361 | D_fake_loss: -0.0909 | G_loss: 0.2470 | D_loss: -0.3271 | Wasserstein_Distance: 0.3271\n",
      "Saved ./results/samples_gan_gp1_lr3e-5/sample-010400.png\n",
      "EPOCH: 28\n"
     ]
    },
    {
     "name": "stderr",
     "output_type": "stream",
     "text": [
      "Lossy conversion from float32 to uint8. Range [-1.0, 0.9981415271759033]. Convert image to uint8 prior to saving to suppress this warning.\n"
     ]
    },
    {
     "name": "stdout",
     "output_type": "stream",
     "text": [
      "Iteration [10600/300000] | D_real_loss: 0.2310 | D_fake_loss: -0.1236 | G_loss: 0.2577 | D_loss: -0.3546 | Wasserstein_Distance: 0.3546\n",
      "Saved ./results/samples_gan_gp1_lr3e-5/sample-010600.png\n"
     ]
    },
    {
     "name": "stderr",
     "output_type": "stream",
     "text": [
      "Lossy conversion from float32 to uint8. Range [-1.0, 0.9975025057792664]. Convert image to uint8 prior to saving to suppress this warning.\n"
     ]
    },
    {
     "name": "stdout",
     "output_type": "stream",
     "text": [
      "Iteration [10800/300000] | D_real_loss: 0.1965 | D_fake_loss: -0.1029 | G_loss: 0.2308 | D_loss: -0.2993 | Wasserstein_Distance: 0.2993\n",
      "Saved ./results/samples_gan_gp1_lr3e-5/sample-010800.png\n",
      "EPOCH: 29\n"
     ]
    },
    {
     "name": "stderr",
     "output_type": "stream",
     "text": [
      "Lossy conversion from float32 to uint8. Range [-1.0, 0.9972823262214661]. Convert image to uint8 prior to saving to suppress this warning.\n"
     ]
    },
    {
     "name": "stdout",
     "output_type": "stream",
     "text": [
      "Iteration [11000/300000] | D_real_loss: 0.2258 | D_fake_loss: -0.1100 | G_loss: 0.2552 | D_loss: -0.3358 | Wasserstein_Distance: 0.3358\n",
      "Saved ./results/samples_gan_gp1_lr3e-5/sample-011000.png\n"
     ]
    },
    {
     "name": "stderr",
     "output_type": "stream",
     "text": [
      "Lossy conversion from float32 to uint8. Range [-1.0, 0.9977355599403381]. Convert image to uint8 prior to saving to suppress this warning.\n"
     ]
    },
    {
     "name": "stdout",
     "output_type": "stream",
     "text": [
      "Iteration [11200/300000] | D_real_loss: 0.1182 | D_fake_loss: -0.2247 | G_loss: 0.1245 | D_loss: -0.3430 | Wasserstein_Distance: 0.3430\n",
      "Saved ./results/samples_gan_gp1_lr3e-5/sample-011200.png\n",
      "EPOCH: 30\n"
     ]
    },
    {
     "name": "stderr",
     "output_type": "stream",
     "text": [
      "Lossy conversion from float32 to uint8. Range [-1.0, 0.9973469972610474]. Convert image to uint8 prior to saving to suppress this warning.\n"
     ]
    },
    {
     "name": "stdout",
     "output_type": "stream",
     "text": [
      "Iteration [11400/300000] | D_real_loss: 0.1864 | D_fake_loss: -0.1765 | G_loss: 0.2118 | D_loss: -0.3628 | Wasserstein_Distance: 0.3628\n",
      "Saved ./results/samples_gan_gp1_lr3e-5/sample-011400.png\n"
     ]
    },
    {
     "name": "stderr",
     "output_type": "stream",
     "text": [
      "Lossy conversion from float32 to uint8. Range [-1.0, 0.9976254105567932]. Convert image to uint8 prior to saving to suppress this warning.\n"
     ]
    },
    {
     "name": "stdout",
     "output_type": "stream",
     "text": [
      "Iteration [11600/300000] | D_real_loss: 0.2046 | D_fake_loss: -0.1072 | G_loss: 0.2354 | D_loss: -0.3118 | Wasserstein_Distance: 0.3118\n",
      "Saved ./results/samples_gan_gp1_lr3e-5/sample-011600.png\n",
      "EPOCH: 31\n"
     ]
    },
    {
     "name": "stderr",
     "output_type": "stream",
     "text": [
      "Lossy conversion from float32 to uint8. Range [-1.0, 0.9978653192520142]. Convert image to uint8 prior to saving to suppress this warning.\n"
     ]
    },
    {
     "name": "stdout",
     "output_type": "stream",
     "text": [
      "Iteration [11800/300000] | D_real_loss: 0.1979 | D_fake_loss: -0.1635 | G_loss: 0.2180 | D_loss: -0.3613 | Wasserstein_Distance: 0.3613\n",
      "Saved ./results/samples_gan_gp1_lr3e-5/sample-011800.png\n"
     ]
    },
    {
     "name": "stderr",
     "output_type": "stream",
     "text": [
      "Lossy conversion from float32 to uint8. Range [-1.0, 0.9980795979499817]. Convert image to uint8 prior to saving to suppress this warning.\n"
     ]
    },
    {
     "name": "stdout",
     "output_type": "stream",
     "text": [
      "Iteration [12000/300000] | D_real_loss: 0.1398 | D_fake_loss: -0.2203 | G_loss: 0.1622 | D_loss: -0.3600 | Wasserstein_Distance: 0.3600\n",
      "Saved ./results/samples_gan_gp1_lr3e-5/sample-012000.png\n",
      "EPOCH: 32\n"
     ]
    },
    {
     "name": "stderr",
     "output_type": "stream",
     "text": [
      "Lossy conversion from float32 to uint8. Range [-1.0, 0.9979208111763]. Convert image to uint8 prior to saving to suppress this warning.\n"
     ]
    },
    {
     "name": "stdout",
     "output_type": "stream",
     "text": [
      "Iteration [12200/300000] | D_real_loss: 0.2085 | D_fake_loss: -0.1410 | G_loss: 0.2305 | D_loss: -0.3495 | Wasserstein_Distance: 0.3495\n",
      "Saved ./results/samples_gan_gp1_lr3e-5/sample-012200.png\n"
     ]
    },
    {
     "name": "stderr",
     "output_type": "stream",
     "text": [
      "Lossy conversion from float32 to uint8. Range [-1.0, 0.9985314011573792]. Convert image to uint8 prior to saving to suppress this warning.\n"
     ]
    },
    {
     "name": "stdout",
     "output_type": "stream",
     "text": [
      "Iteration [12400/300000] | D_real_loss: 0.0515 | D_fake_loss: -0.2556 | G_loss: 0.0632 | D_loss: -0.3071 | Wasserstein_Distance: 0.3071\n",
      "Saved ./results/samples_gan_gp1_lr3e-5/sample-012400.png\n",
      "EPOCH: 33\n"
     ]
    },
    {
     "name": "stderr",
     "output_type": "stream",
     "text": [
      "Lossy conversion from float32 to uint8. Range [-1.0, 0.9981624484062195]. Convert image to uint8 prior to saving to suppress this warning.\n"
     ]
    },
    {
     "name": "stdout",
     "output_type": "stream",
     "text": [
      "Iteration [12600/300000] | D_real_loss: 0.1442 | D_fake_loss: -0.1888 | G_loss: 0.1573 | D_loss: -0.3330 | Wasserstein_Distance: 0.3330\n",
      "Saved ./results/samples_gan_gp1_lr3e-5/sample-012600.png\n"
     ]
    },
    {
     "name": "stderr",
     "output_type": "stream",
     "text": [
      "Lossy conversion from float32 to uint8. Range [-1.0, 0.9973767399787903]. Convert image to uint8 prior to saving to suppress this warning.\n"
     ]
    },
    {
     "name": "stdout",
     "output_type": "stream",
     "text": [
      "Iteration [12800/300000] | D_real_loss: 0.1371 | D_fake_loss: -0.2130 | G_loss: 0.1402 | D_loss: -0.3501 | Wasserstein_Distance: 0.3501\n",
      "Saved ./results/samples_gan_gp1_lr3e-5/sample-012800.png\n",
      "EPOCH: 34\n"
     ]
    },
    {
     "name": "stderr",
     "output_type": "stream",
     "text": [
      "Lossy conversion from float32 to uint8. Range [-1.0, 0.996868371963501]. Convert image to uint8 prior to saving to suppress this warning.\n"
     ]
    },
    {
     "name": "stdout",
     "output_type": "stream",
     "text": [
      "Iteration [13000/300000] | D_real_loss: 0.2209 | D_fake_loss: -0.0787 | G_loss: 0.2470 | D_loss: -0.2997 | Wasserstein_Distance: 0.2997\n",
      "Saved ./results/samples_gan_gp1_lr3e-5/sample-013000.png\n"
     ]
    },
    {
     "name": "stderr",
     "output_type": "stream",
     "text": [
      "Lossy conversion from float32 to uint8. Range [-1.0, 0.9973680377006531]. Convert image to uint8 prior to saving to suppress this warning.\n"
     ]
    },
    {
     "name": "stdout",
     "output_type": "stream",
     "text": [
      "Iteration [13200/300000] | D_real_loss: 0.1088 | D_fake_loss: -0.2105 | G_loss: 0.1108 | D_loss: -0.3193 | Wasserstein_Distance: 0.3193\n",
      "Saved ./results/samples_gan_gp1_lr3e-5/sample-013200.png\n",
      "EPOCH: 35\n"
     ]
    },
    {
     "name": "stderr",
     "output_type": "stream",
     "text": [
      "Lossy conversion from float32 to uint8. Range [-1.0, 0.9983202815055847]. Convert image to uint8 prior to saving to suppress this warning.\n"
     ]
    },
    {
     "name": "stdout",
     "output_type": "stream",
     "text": [
      "Iteration [13400/300000] | D_real_loss: 0.0866 | D_fake_loss: -0.2409 | G_loss: 0.1035 | D_loss: -0.3275 | Wasserstein_Distance: 0.3275\n",
      "Saved ./results/samples_gan_gp1_lr3e-5/sample-013400.png\n"
     ]
    },
    {
     "name": "stderr",
     "output_type": "stream",
     "text": [
      "Lossy conversion from float32 to uint8. Range [-1.0, 0.9975442886352539]. Convert image to uint8 prior to saving to suppress this warning.\n"
     ]
    },
    {
     "name": "stdout",
     "output_type": "stream",
     "text": [
      "Iteration [13600/300000] | D_real_loss: 0.0907 | D_fake_loss: -0.2344 | G_loss: 0.1095 | D_loss: -0.3251 | Wasserstein_Distance: 0.3251\n",
      "Saved ./results/samples_gan_gp1_lr3e-5/sample-013600.png\n",
      "EPOCH: 36\n"
     ]
    },
    {
     "name": "stderr",
     "output_type": "stream",
     "text": [
      "Lossy conversion from float32 to uint8. Range [-1.0, 0.9987518191337585]. Convert image to uint8 prior to saving to suppress this warning.\n"
     ]
    },
    {
     "name": "stdout",
     "output_type": "stream",
     "text": [
      "Iteration [13800/300000] | D_real_loss: 0.2265 | D_fake_loss: -0.0865 | G_loss: 0.2403 | D_loss: -0.3130 | Wasserstein_Distance: 0.3130\n",
      "Saved ./results/samples_gan_gp1_lr3e-5/sample-013800.png\n"
     ]
    },
    {
     "name": "stderr",
     "output_type": "stream",
     "text": [
      "Lossy conversion from float32 to uint8. Range [-1.0, 0.9985215663909912]. Convert image to uint8 prior to saving to suppress this warning.\n"
     ]
    },
    {
     "name": "stdout",
     "output_type": "stream",
     "text": [
      "Iteration [14000/300000] | D_real_loss: 0.0920 | D_fake_loss: -0.2197 | G_loss: 0.0777 | D_loss: -0.3117 | Wasserstein_Distance: 0.3117\n",
      "Saved ./results/samples_gan_gp1_lr3e-5/sample-014000.png\n",
      "EPOCH: 37\n"
     ]
    },
    {
     "name": "stderr",
     "output_type": "stream",
     "text": [
      "Lossy conversion from float32 to uint8. Range [-1.0, 0.9986074566841125]. Convert image to uint8 prior to saving to suppress this warning.\n"
     ]
    },
    {
     "name": "stdout",
     "output_type": "stream",
     "text": [
      "Iteration [14200/300000] | D_real_loss: 0.2074 | D_fake_loss: -0.1296 | G_loss: 0.2272 | D_loss: -0.3370 | Wasserstein_Distance: 0.3370\n",
      "Saved ./results/samples_gan_gp1_lr3e-5/sample-014200.png\n"
     ]
    },
    {
     "name": "stderr",
     "output_type": "stream",
     "text": [
      "Lossy conversion from float32 to uint8. Range [-1.0, 0.9985602498054504]. Convert image to uint8 prior to saving to suppress this warning.\n"
     ]
    },
    {
     "name": "stdout",
     "output_type": "stream",
     "text": [
      "Iteration [14400/300000] | D_real_loss: 0.2339 | D_fake_loss: -0.0713 | G_loss: 0.2518 | D_loss: -0.3052 | Wasserstein_Distance: 0.3052\n",
      "Saved ./results/samples_gan_gp1_lr3e-5/sample-014400.png\n",
      "EPOCH: 38\n"
     ]
    },
    {
     "name": "stderr",
     "output_type": "stream",
     "text": [
      "Lossy conversion from float32 to uint8. Range [-1.0, 0.9989356398582458]. Convert image to uint8 prior to saving to suppress this warning.\n"
     ]
    },
    {
     "name": "stdout",
     "output_type": "stream",
     "text": [
      "Iteration [14600/300000] | D_real_loss: 0.0780 | D_fake_loss: -0.2291 | G_loss: 0.0921 | D_loss: -0.3071 | Wasserstein_Distance: 0.3071\n",
      "Saved ./results/samples_gan_gp1_lr3e-5/sample-014600.png\n"
     ]
    },
    {
     "name": "stderr",
     "output_type": "stream",
     "text": [
      "Lossy conversion from float32 to uint8. Range [-1.0, 0.9984884858131409]. Convert image to uint8 prior to saving to suppress this warning.\n"
     ]
    },
    {
     "name": "stdout",
     "output_type": "stream",
     "text": [
      "Iteration [14800/300000] | D_real_loss: 0.2190 | D_fake_loss: -0.1118 | G_loss: 0.2340 | D_loss: -0.3308 | Wasserstein_Distance: 0.3308\n",
      "Saved ./results/samples_gan_gp1_lr3e-5/sample-014800.png\n",
      "EPOCH: 39\n"
     ]
    },
    {
     "name": "stderr",
     "output_type": "stream",
     "text": [
      "Lossy conversion from float32 to uint8. Range [-1.0, 0.9982655048370361]. Convert image to uint8 prior to saving to suppress this warning.\n"
     ]
    },
    {
     "name": "stdout",
     "output_type": "stream",
     "text": [
      "Iteration [15000/300000] | D_real_loss: 0.1857 | D_fake_loss: -0.1171 | G_loss: 0.2187 | D_loss: -0.3029 | Wasserstein_Distance: 0.3029\n",
      "Saved ./results/samples_gan_gp1_lr3e-5/sample-015000.png\n"
     ]
    },
    {
     "name": "stderr",
     "output_type": "stream",
     "text": [
      "Lossy conversion from float32 to uint8. Range [-1.0, 0.9989835023880005]. Convert image to uint8 prior to saving to suppress this warning.\n"
     ]
    },
    {
     "name": "stdout",
     "output_type": "stream",
     "text": [
      "Iteration [15200/300000] | D_real_loss: 0.0293 | D_fake_loss: -0.2332 | G_loss: 0.1051 | D_loss: -0.2625 | Wasserstein_Distance: 0.2625\n",
      "Saved ./results/samples_gan_gp1_lr3e-5/sample-015200.png\n",
      "EPOCH: 40\n"
     ]
    },
    {
     "name": "stderr",
     "output_type": "stream",
     "text": [
      "Lossy conversion from float32 to uint8. Range [-1.0, 0.9985754489898682]. Convert image to uint8 prior to saving to suppress this warning.\n"
     ]
    },
    {
     "name": "stdout",
     "output_type": "stream",
     "text": [
      "Iteration [15400/300000] | D_real_loss: 0.1896 | D_fake_loss: -0.0801 | G_loss: 0.2166 | D_loss: -0.2697 | Wasserstein_Distance: 0.2697\n",
      "Saved ./results/samples_gan_gp1_lr3e-5/sample-015400.png\n"
     ]
    },
    {
     "name": "stderr",
     "output_type": "stream",
     "text": [
      "Lossy conversion from float32 to uint8. Range [-1.0, 0.9983072876930237]. Convert image to uint8 prior to saving to suppress this warning.\n"
     ]
    },
    {
     "name": "stdout",
     "output_type": "stream",
     "text": [
      "Iteration [15600/300000] | D_real_loss: 0.0828 | D_fake_loss: -0.2267 | G_loss: 0.0994 | D_loss: -0.3095 | Wasserstein_Distance: 0.3095\n",
      "Saved ./results/samples_gan_gp1_lr3e-5/sample-015600.png\n",
      "EPOCH: 41\n"
     ]
    },
    {
     "name": "stderr",
     "output_type": "stream",
     "text": [
      "Lossy conversion from float32 to uint8. Range [-1.0, 0.9982314109802246]. Convert image to uint8 prior to saving to suppress this warning.\n"
     ]
    },
    {
     "name": "stdout",
     "output_type": "stream",
     "text": [
      "Iteration [15800/300000] | D_real_loss: 0.0662 | D_fake_loss: -0.2323 | G_loss: 0.1106 | D_loss: -0.2985 | Wasserstein_Distance: 0.2985\n",
      "Saved ./results/samples_gan_gp1_lr3e-5/sample-015800.png\n",
      "EPOCH: 42\n"
     ]
    },
    {
     "name": "stderr",
     "output_type": "stream",
     "text": [
      "Lossy conversion from float32 to uint8. Range [-1.0, 0.9987609386444092]. Convert image to uint8 prior to saving to suppress this warning.\n"
     ]
    },
    {
     "name": "stdout",
     "output_type": "stream",
     "text": [
      "Iteration [16000/300000] | D_real_loss: 0.1957 | D_fake_loss: -0.1403 | G_loss: 0.2357 | D_loss: -0.3360 | Wasserstein_Distance: 0.3360\n",
      "Saved ./results/samples_gan_gp1_lr3e-5/sample-016000.png\n"
     ]
    },
    {
     "name": "stderr",
     "output_type": "stream",
     "text": [
      "Lossy conversion from float32 to uint8. Range [-1.0, 0.998607337474823]. Convert image to uint8 prior to saving to suppress this warning.\n"
     ]
    },
    {
     "name": "stdout",
     "output_type": "stream",
     "text": [
      "Iteration [16200/300000] | D_real_loss: 0.1150 | D_fake_loss: -0.2171 | G_loss: 0.1233 | D_loss: -0.3322 | Wasserstein_Distance: 0.3322\n",
      "Saved ./results/samples_gan_gp1_lr3e-5/sample-016200.png\n",
      "EPOCH: 43\n"
     ]
    },
    {
     "name": "stderr",
     "output_type": "stream",
     "text": [
      "Lossy conversion from float32 to uint8. Range [-1.0, 0.997973620891571]. Convert image to uint8 prior to saving to suppress this warning.\n"
     ]
    },
    {
     "name": "stdout",
     "output_type": "stream",
     "text": [
      "Iteration [16400/300000] | D_real_loss: 0.2015 | D_fake_loss: -0.0418 | G_loss: 0.2292 | D_loss: -0.2433 | Wasserstein_Distance: 0.2433\n",
      "Saved ./results/samples_gan_gp1_lr3e-5/sample-016400.png\n"
     ]
    },
    {
     "name": "stderr",
     "output_type": "stream",
     "text": [
      "Lossy conversion from float32 to uint8. Range [-1.0, 0.9990922212600708]. Convert image to uint8 prior to saving to suppress this warning.\n"
     ]
    },
    {
     "name": "stdout",
     "output_type": "stream",
     "text": [
      "Iteration [16600/300000] | D_real_loss: 0.2116 | D_fake_loss: -0.1042 | G_loss: 0.2437 | D_loss: -0.3158 | Wasserstein_Distance: 0.3158\n",
      "Saved ./results/samples_gan_gp1_lr3e-5/sample-016600.png\n",
      "EPOCH: 44\n"
     ]
    },
    {
     "name": "stderr",
     "output_type": "stream",
     "text": [
      "Lossy conversion from float32 to uint8. Range [-1.0, 0.9983401298522949]. Convert image to uint8 prior to saving to suppress this warning.\n"
     ]
    },
    {
     "name": "stdout",
     "output_type": "stream",
     "text": [
      "Iteration [16800/300000] | D_real_loss: 0.2119 | D_fake_loss: -0.0647 | G_loss: 0.2565 | D_loss: -0.2766 | Wasserstein_Distance: 0.2766\n",
      "Saved ./results/samples_gan_gp1_lr3e-5/sample-016800.png\n"
     ]
    },
    {
     "name": "stderr",
     "output_type": "stream",
     "text": [
      "Lossy conversion from float32 to uint8. Range [-1.0, 0.9985097646713257]. Convert image to uint8 prior to saving to suppress this warning.\n"
     ]
    },
    {
     "name": "stdout",
     "output_type": "stream",
     "text": [
      "Iteration [17000/300000] | D_real_loss: 0.0933 | D_fake_loss: -0.2304 | G_loss: 0.0993 | D_loss: -0.3237 | Wasserstein_Distance: 0.3237\n",
      "Saved ./results/samples_gan_gp1_lr3e-5/sample-017000.png\n",
      "EPOCH: 45\n"
     ]
    },
    {
     "name": "stderr",
     "output_type": "stream",
     "text": [
      "Lossy conversion from float32 to uint8. Range [-1.0, 0.9990354776382446]. Convert image to uint8 prior to saving to suppress this warning.\n"
     ]
    },
    {
     "name": "stdout",
     "output_type": "stream",
     "text": [
      "Iteration [17200/300000] | D_real_loss: 0.0409 | D_fake_loss: -0.2320 | G_loss: 0.0905 | D_loss: -0.2729 | Wasserstein_Distance: 0.2729\n",
      "Saved ./results/samples_gan_gp1_lr3e-5/sample-017200.png\n"
     ]
    },
    {
     "name": "stderr",
     "output_type": "stream",
     "text": [
      "Lossy conversion from float32 to uint8. Range [-1.0, 0.9989790320396423]. Convert image to uint8 prior to saving to suppress this warning.\n"
     ]
    },
    {
     "name": "stdout",
     "output_type": "stream",
     "text": [
      "Iteration [17400/300000] | D_real_loss: -0.0112 | D_fake_loss: -0.2530 | G_loss: 0.0616 | D_loss: -0.2418 | Wasserstein_Distance: 0.2418\n",
      "Saved ./results/samples_gan_gp1_lr3e-5/sample-017400.png\n",
      "EPOCH: 46\n"
     ]
    },
    {
     "name": "stderr",
     "output_type": "stream",
     "text": [
      "Lossy conversion from float32 to uint8. Range [-1.0, 0.9990980625152588]. Convert image to uint8 prior to saving to suppress this warning.\n"
     ]
    },
    {
     "name": "stdout",
     "output_type": "stream",
     "text": [
      "Iteration [17600/300000] | D_real_loss: 0.0456 | D_fake_loss: -0.2416 | G_loss: 0.0608 | D_loss: -0.2872 | Wasserstein_Distance: 0.2872\n",
      "Saved ./results/samples_gan_gp1_lr3e-5/sample-017600.png\n"
     ]
    },
    {
     "name": "stderr",
     "output_type": "stream",
     "text": [
      "Lossy conversion from float32 to uint8. Range [-1.0, 0.9991880655288696]. Convert image to uint8 prior to saving to suppress this warning.\n"
     ]
    },
    {
     "name": "stdout",
     "output_type": "stream",
     "text": [
      "Iteration [17800/300000] | D_real_loss: 0.0918 | D_fake_loss: -0.2129 | G_loss: 0.0986 | D_loss: -0.3047 | Wasserstein_Distance: 0.3047\n",
      "Saved ./results/samples_gan_gp1_lr3e-5/sample-017800.png\n",
      "EPOCH: 47\n"
     ]
    },
    {
     "name": "stderr",
     "output_type": "stream",
     "text": [
      "Lossy conversion from float32 to uint8. Range [-1.0, 0.9993178248405457]. Convert image to uint8 prior to saving to suppress this warning.\n"
     ]
    },
    {
     "name": "stdout",
     "output_type": "stream",
     "text": [
      "Iteration [18000/300000] | D_real_loss: 0.0460 | D_fake_loss: -0.2397 | G_loss: 0.0942 | D_loss: -0.2857 | Wasserstein_Distance: 0.2857\n",
      "Saved ./results/samples_gan_gp1_lr3e-5/sample-018000.png\n"
     ]
    },
    {
     "name": "stderr",
     "output_type": "stream",
     "text": [
      "Lossy conversion from float32 to uint8. Range [-1.0, 0.9988536834716797]. Convert image to uint8 prior to saving to suppress this warning.\n"
     ]
    },
    {
     "name": "stdout",
     "output_type": "stream",
     "text": [
      "Iteration [18200/300000] | D_real_loss: 0.2128 | D_fake_loss: -0.0469 | G_loss: 0.2182 | D_loss: -0.2597 | Wasserstein_Distance: 0.2597\n",
      "Saved ./results/samples_gan_gp1_lr3e-5/sample-018200.png\n",
      "EPOCH: 48\n"
     ]
    },
    {
     "name": "stderr",
     "output_type": "stream",
     "text": [
      "Lossy conversion from float32 to uint8. Range [-1.0, 0.9994462132453918]. Convert image to uint8 prior to saving to suppress this warning.\n"
     ]
    },
    {
     "name": "stdout",
     "output_type": "stream",
     "text": [
      "Iteration [18400/300000] | D_real_loss: 0.1908 | D_fake_loss: -0.0786 | G_loss: 0.2212 | D_loss: -0.2694 | Wasserstein_Distance: 0.2694\n",
      "Saved ./results/samples_gan_gp1_lr3e-5/sample-018400.png\n"
     ]
    },
    {
     "name": "stderr",
     "output_type": "stream",
     "text": [
      "Lossy conversion from float32 to uint8. Range [-1.0, 0.9992855787277222]. Convert image to uint8 prior to saving to suppress this warning.\n"
     ]
    },
    {
     "name": "stdout",
     "output_type": "stream",
     "text": [
      "Iteration [18600/300000] | D_real_loss: 0.2148 | D_fake_loss: -0.0549 | G_loss: 0.2318 | D_loss: -0.2697 | Wasserstein_Distance: 0.2697\n",
      "Saved ./results/samples_gan_gp1_lr3e-5/sample-018600.png\n",
      "EPOCH: 49\n"
     ]
    },
    {
     "name": "stderr",
     "output_type": "stream",
     "text": [
      "Lossy conversion from float32 to uint8. Range [-1.0, 0.999301016330719]. Convert image to uint8 prior to saving to suppress this warning.\n"
     ]
    },
    {
     "name": "stdout",
     "output_type": "stream",
     "text": [
      "Iteration [18800/300000] | D_real_loss: 0.1011 | D_fake_loss: -0.1957 | G_loss: 0.1387 | D_loss: -0.2968 | Wasserstein_Distance: 0.2968\n",
      "Saved ./results/samples_gan_gp1_lr3e-5/sample-018800.png\n"
     ]
    },
    {
     "name": "stderr",
     "output_type": "stream",
     "text": [
      "Lossy conversion from float32 to uint8. Range [-1.0, 0.9993512034416199]. Convert image to uint8 prior to saving to suppress this warning.\n"
     ]
    },
    {
     "name": "stdout",
     "output_type": "stream",
     "text": [
      "Iteration [19000/300000] | D_real_loss: 0.0768 | D_fake_loss: -0.2140 | G_loss: 0.0898 | D_loss: -0.2908 | Wasserstein_Distance: 0.2908\n",
      "Saved ./results/samples_gan_gp1_lr3e-5/sample-019000.png\n",
      "EPOCH: 50\n"
     ]
    },
    {
     "name": "stderr",
     "output_type": "stream",
     "text": [
      "Lossy conversion from float32 to uint8. Range [-1.0, 0.9994193911552429]. Convert image to uint8 prior to saving to suppress this warning.\n"
     ]
    },
    {
     "name": "stdout",
     "output_type": "stream",
     "text": [
      "Iteration [19200/300000] | D_real_loss: 0.2005 | D_fake_loss: -0.1029 | G_loss: 0.2167 | D_loss: -0.3034 | Wasserstein_Distance: 0.3034\n",
      "Saved ./results/samples_gan_gp1_lr3e-5/sample-019200.png\n"
     ]
    },
    {
     "name": "stderr",
     "output_type": "stream",
     "text": [
      "Lossy conversion from float32 to uint8. Range [-1.0, 0.9993631839752197]. Convert image to uint8 prior to saving to suppress this warning.\n"
     ]
    },
    {
     "name": "stdout",
     "output_type": "stream",
     "text": [
      "Iteration [19400/300000] | D_real_loss: 0.1752 | D_fake_loss: -0.1368 | G_loss: 0.2004 | D_loss: -0.3120 | Wasserstein_Distance: 0.3120\n",
      "Saved ./results/samples_gan_gp1_lr3e-5/sample-019400.png\n",
      "EPOCH: 51\n"
     ]
    },
    {
     "name": "stderr",
     "output_type": "stream",
     "text": [
      "Lossy conversion from float32 to uint8. Range [-1.0, 0.9995468854904175]. Convert image to uint8 prior to saving to suppress this warning.\n"
     ]
    },
    {
     "name": "stdout",
     "output_type": "stream",
     "text": [
      "Iteration [19600/300000] | D_real_loss: 0.2104 | D_fake_loss: -0.0911 | G_loss: 0.2093 | D_loss: -0.3015 | Wasserstein_Distance: 0.3015\n",
      "Saved ./results/samples_gan_gp1_lr3e-5/sample-019600.png\n"
     ]
    },
    {
     "name": "stderr",
     "output_type": "stream",
     "text": [
      "Lossy conversion from float32 to uint8. Range [-1.0, 0.9993682503700256]. Convert image to uint8 prior to saving to suppress this warning.\n"
     ]
    },
    {
     "name": "stdout",
     "output_type": "stream",
     "text": [
      "Iteration [19800/300000] | D_real_loss: 0.2144 | D_fake_loss: -0.0978 | G_loss: 0.2467 | D_loss: -0.3122 | Wasserstein_Distance: 0.3122\n",
      "Saved ./results/samples_gan_gp1_lr3e-5/sample-019800.png\n",
      "EPOCH: 52\n"
     ]
    },
    {
     "name": "stderr",
     "output_type": "stream",
     "text": [
      "Lossy conversion from float32 to uint8. Range [-1.0, 0.9992992877960205]. Convert image to uint8 prior to saving to suppress this warning.\n"
     ]
    },
    {
     "name": "stdout",
     "output_type": "stream",
     "text": [
      "Iteration [20000/300000] | D_real_loss: 0.1942 | D_fake_loss: -0.1018 | G_loss: 0.2230 | D_loss: -0.2960 | Wasserstein_Distance: 0.2960\n",
      "Saved ./results/samples_gan_gp1_lr3e-5/sample-020000.png\n"
     ]
    },
    {
     "name": "stderr",
     "output_type": "stream",
     "text": [
      "Lossy conversion from float32 to uint8. Range [-1.0, 0.9994029402732849]. Convert image to uint8 prior to saving to suppress this warning.\n"
     ]
    },
    {
     "name": "stdout",
     "output_type": "stream",
     "text": [
      "Iteration [20200/300000] | D_real_loss: 0.0676 | D_fake_loss: -0.2295 | G_loss: 0.0727 | D_loss: -0.2971 | Wasserstein_Distance: 0.2971\n",
      "Saved ./results/samples_gan_gp1_lr3e-5/sample-020200.png\n",
      "EPOCH: 53\n"
     ]
    },
    {
     "name": "stderr",
     "output_type": "stream",
     "text": [
      "Lossy conversion from float32 to uint8. Range [-1.0, 0.9992936849594116]. Convert image to uint8 prior to saving to suppress this warning.\n"
     ]
    },
    {
     "name": "stdout",
     "output_type": "stream",
     "text": [
      "Iteration [20400/300000] | D_real_loss: 0.1863 | D_fake_loss: -0.1178 | G_loss: 0.2314 | D_loss: -0.3041 | Wasserstein_Distance: 0.3041\n",
      "Saved ./results/samples_gan_gp1_lr3e-5/sample-020400.png\n"
     ]
    },
    {
     "name": "stderr",
     "output_type": "stream",
     "text": [
      "Lossy conversion from float32 to uint8. Range [-1.0, 0.9991145730018616]. Convert image to uint8 prior to saving to suppress this warning.\n"
     ]
    },
    {
     "name": "stdout",
     "output_type": "stream",
     "text": [
      "Iteration [20600/300000] | D_real_loss: 0.1040 | D_fake_loss: -0.2010 | G_loss: 0.1016 | D_loss: -0.3050 | Wasserstein_Distance: 0.3050\n",
      "Saved ./results/samples_gan_gp1_lr3e-5/sample-020600.png\n",
      "EPOCH: 54\n"
     ]
    },
    {
     "name": "stderr",
     "output_type": "stream",
     "text": [
      "Lossy conversion from float32 to uint8. Range [-1.0, 0.9994595646858215]. Convert image to uint8 prior to saving to suppress this warning.\n"
     ]
    },
    {
     "name": "stdout",
     "output_type": "stream",
     "text": [
      "Iteration [20800/300000] | D_real_loss: 0.0628 | D_fake_loss: -0.2253 | G_loss: 0.0751 | D_loss: -0.2880 | Wasserstein_Distance: 0.2880\n",
      "Saved ./results/samples_gan_gp1_lr3e-5/sample-020800.png\n"
     ]
    },
    {
     "name": "stderr",
     "output_type": "stream",
     "text": [
      "Lossy conversion from float32 to uint8. Range [-1.0, 0.9994043111801147]. Convert image to uint8 prior to saving to suppress this warning.\n"
     ]
    },
    {
     "name": "stdout",
     "output_type": "stream",
     "text": [
      "Iteration [21000/300000] | D_real_loss: 0.0751 | D_fake_loss: -0.2063 | G_loss: 0.0687 | D_loss: -0.2814 | Wasserstein_Distance: 0.2814\n",
      "Saved ./results/samples_gan_gp1_lr3e-5/sample-021000.png\n",
      "EPOCH: 55\n"
     ]
    },
    {
     "name": "stderr",
     "output_type": "stream",
     "text": [
      "Lossy conversion from float32 to uint8. Range [-1.0, 0.9993694424629211]. Convert image to uint8 prior to saving to suppress this warning.\n"
     ]
    },
    {
     "name": "stdout",
     "output_type": "stream",
     "text": [
      "Iteration [21200/300000] | D_real_loss: 0.2072 | D_fake_loss: -0.0504 | G_loss: 0.2277 | D_loss: -0.2576 | Wasserstein_Distance: 0.2576\n",
      "Saved ./results/samples_gan_gp1_lr3e-5/sample-021200.png\n"
     ]
    },
    {
     "name": "stderr",
     "output_type": "stream",
     "text": [
      "Lossy conversion from float32 to uint8. Range [-1.0, 0.9996426105499268]. Convert image to uint8 prior to saving to suppress this warning.\n"
     ]
    },
    {
     "name": "stdout",
     "output_type": "stream",
     "text": [
      "Iteration [21400/300000] | D_real_loss: 0.0994 | D_fake_loss: -0.2045 | G_loss: 0.0878 | D_loss: -0.3039 | Wasserstein_Distance: 0.3039\n",
      "Saved ./results/samples_gan_gp1_lr3e-5/sample-021400.png\n",
      "EPOCH: 56\n"
     ]
    },
    {
     "name": "stderr",
     "output_type": "stream",
     "text": [
      "Lossy conversion from float32 to uint8. Range [-1.0, 0.9995740652084351]. Convert image to uint8 prior to saving to suppress this warning.\n"
     ]
    },
    {
     "name": "stdout",
     "output_type": "stream",
     "text": [
      "Iteration [21600/300000] | D_real_loss: 0.1726 | D_fake_loss: -0.1104 | G_loss: 0.2105 | D_loss: -0.2830 | Wasserstein_Distance: 0.2830\n",
      "Saved ./results/samples_gan_gp1_lr3e-5/sample-021600.png\n"
     ]
    },
    {
     "name": "stderr",
     "output_type": "stream",
     "text": [
      "Lossy conversion from float32 to uint8. Range [-1.0, 0.9997538924217224]. Convert image to uint8 prior to saving to suppress this warning.\n"
     ]
    },
    {
     "name": "stdout",
     "output_type": "stream",
     "text": [
      "Iteration [21800/300000] | D_real_loss: 0.1745 | D_fake_loss: -0.0849 | G_loss: 0.1969 | D_loss: -0.2593 | Wasserstein_Distance: 0.2593\n",
      "Saved ./results/samples_gan_gp1_lr3e-5/sample-021800.png\n",
      "EPOCH: 57\n"
     ]
    },
    {
     "name": "stderr",
     "output_type": "stream",
     "text": [
      "Lossy conversion from float32 to uint8. Range [-1.0, 0.9997339844703674]. Convert image to uint8 prior to saving to suppress this warning.\n"
     ]
    },
    {
     "name": "stdout",
     "output_type": "stream",
     "text": [
      "Iteration [22000/300000] | D_real_loss: 0.0211 | D_fake_loss: -0.2403 | G_loss: 0.0434 | D_loss: -0.2613 | Wasserstein_Distance: 0.2613\n",
      "Saved ./results/samples_gan_gp1_lr3e-5/sample-022000.png\n"
     ]
    },
    {
     "name": "stderr",
     "output_type": "stream",
     "text": [
      "Lossy conversion from float32 to uint8. Range [-1.0, 0.9994344115257263]. Convert image to uint8 prior to saving to suppress this warning.\n"
     ]
    },
    {
     "name": "stdout",
     "output_type": "stream",
     "text": [
      "Iteration [22200/300000] | D_real_loss: 0.1829 | D_fake_loss: -0.0662 | G_loss: 0.2228 | D_loss: -0.2491 | Wasserstein_Distance: 0.2491\n",
      "Saved ./results/samples_gan_gp1_lr3e-5/sample-022200.png\n",
      "EPOCH: 58\n"
     ]
    },
    {
     "name": "stderr",
     "output_type": "stream",
     "text": [
      "Lossy conversion from float32 to uint8. Range [-1.0, 0.9995135068893433]. Convert image to uint8 prior to saving to suppress this warning.\n"
     ]
    },
    {
     "name": "stdout",
     "output_type": "stream",
     "text": [
      "Iteration [22400/300000] | D_real_loss: 0.0454 | D_fake_loss: -0.2227 | G_loss: 0.0531 | D_loss: -0.2680 | Wasserstein_Distance: 0.2680\n",
      "Saved ./results/samples_gan_gp1_lr3e-5/sample-022400.png\n"
     ]
    },
    {
     "name": "stderr",
     "output_type": "stream",
     "text": [
      "Lossy conversion from float32 to uint8. Range [-1.0, 0.9995552897453308]. Convert image to uint8 prior to saving to suppress this warning.\n"
     ]
    },
    {
     "name": "stdout",
     "output_type": "stream",
     "text": [
      "Iteration [22600/300000] | D_real_loss: 0.1874 | D_fake_loss: -0.0794 | G_loss: 0.2149 | D_loss: -0.2669 | Wasserstein_Distance: 0.2669\n",
      "Saved ./results/samples_gan_gp1_lr3e-5/sample-022600.png\n",
      "EPOCH: 59\n"
     ]
    },
    {
     "name": "stderr",
     "output_type": "stream",
     "text": [
      "Lossy conversion from float32 to uint8. Range [-1.0, 0.9995162487030029]. Convert image to uint8 prior to saving to suppress this warning.\n"
     ]
    },
    {
     "name": "stdout",
     "output_type": "stream",
     "text": [
      "Iteration [22800/300000] | D_real_loss: 0.1985 | D_fake_loss: -0.0770 | G_loss: 0.2377 | D_loss: -0.2755 | Wasserstein_Distance: 0.2755\n",
      "Saved ./results/samples_gan_gp1_lr3e-5/sample-022800.png\n"
     ]
    },
    {
     "name": "stderr",
     "output_type": "stream",
     "text": [
      "Lossy conversion from float32 to uint8. Range [-1.0, 0.9995165467262268]. Convert image to uint8 prior to saving to suppress this warning.\n"
     ]
    },
    {
     "name": "stdout",
     "output_type": "stream",
     "text": [
      "Iteration [23000/300000] | D_real_loss: 0.1344 | D_fake_loss: -0.1571 | G_loss: 0.1531 | D_loss: -0.2915 | Wasserstein_Distance: 0.2915\n",
      "Saved ./results/samples_gan_gp1_lr3e-5/sample-023000.png\n",
      "EPOCH: 60\n"
     ]
    },
    {
     "name": "stderr",
     "output_type": "stream",
     "text": [
      "Lossy conversion from float32 to uint8. Range [-1.0, 0.9995855093002319]. Convert image to uint8 prior to saving to suppress this warning.\n"
     ]
    },
    {
     "name": "stdout",
     "output_type": "stream",
     "text": [
      "Iteration [23200/300000] | D_real_loss: 0.0784 | D_fake_loss: -0.2251 | G_loss: 0.1008 | D_loss: -0.3035 | Wasserstein_Distance: 0.3035\n",
      "Saved ./results/samples_gan_gp1_lr3e-5/sample-023200.png\n"
     ]
    },
    {
     "name": "stderr",
     "output_type": "stream",
     "text": [
      "Lossy conversion from float32 to uint8. Range [-1.0, 0.9995147585868835]. Convert image to uint8 prior to saving to suppress this warning.\n"
     ]
    },
    {
     "name": "stdout",
     "output_type": "stream",
     "text": [
      "Iteration [23400/300000] | D_real_loss: 0.0618 | D_fake_loss: -0.2087 | G_loss: 0.0805 | D_loss: -0.2705 | Wasserstein_Distance: 0.2705\n",
      "Saved ./results/samples_gan_gp1_lr3e-5/sample-023400.png\n",
      "EPOCH: 61\n"
     ]
    },
    {
     "name": "stderr",
     "output_type": "stream",
     "text": [
      "Lossy conversion from float32 to uint8. Range [-1.0, 0.9996201992034912]. Convert image to uint8 prior to saving to suppress this warning.\n"
     ]
    },
    {
     "name": "stdout",
     "output_type": "stream",
     "text": [
      "Iteration [23600/300000] | D_real_loss: 0.1102 | D_fake_loss: -0.2103 | G_loss: 0.1287 | D_loss: -0.3205 | Wasserstein_Distance: 0.3205\n",
      "Saved ./results/samples_gan_gp1_lr3e-5/sample-023600.png\n",
      "EPOCH: 62\n"
     ]
    },
    {
     "name": "stderr",
     "output_type": "stream",
     "text": [
      "Lossy conversion from float32 to uint8. Range [-1.0, 0.9995761513710022]. Convert image to uint8 prior to saving to suppress this warning.\n"
     ]
    },
    {
     "name": "stdout",
     "output_type": "stream",
     "text": [
      "Iteration [23800/300000] | D_real_loss: 0.0580 | D_fake_loss: -0.2216 | G_loss: 0.0546 | D_loss: -0.2796 | Wasserstein_Distance: 0.2796\n",
      "Saved ./results/samples_gan_gp1_lr3e-5/sample-023800.png\n"
     ]
    },
    {
     "name": "stderr",
     "output_type": "stream",
     "text": [
      "Lossy conversion from float32 to uint8. Range [-1.0, 0.9995349645614624]. Convert image to uint8 prior to saving to suppress this warning.\n"
     ]
    },
    {
     "name": "stdout",
     "output_type": "stream",
     "text": [
      "Iteration [24000/300000] | D_real_loss: 0.1881 | D_fake_loss: -0.0904 | G_loss: 0.2185 | D_loss: -0.2785 | Wasserstein_Distance: 0.2785\n",
      "Saved ./results/samples_gan_gp1_lr3e-5/sample-024000.png\n",
      "EPOCH: 63\n"
     ]
    },
    {
     "name": "stderr",
     "output_type": "stream",
     "text": [
      "Lossy conversion from float32 to uint8. Range [-1.0, 0.9995326995849609]. Convert image to uint8 prior to saving to suppress this warning.\n"
     ]
    },
    {
     "name": "stdout",
     "output_type": "stream",
     "text": [
      "Iteration [24200/300000] | D_real_loss: 0.1888 | D_fake_loss: -0.0829 | G_loss: 0.2219 | D_loss: -0.2718 | Wasserstein_Distance: 0.2718\n",
      "Saved ./results/samples_gan_gp1_lr3e-5/sample-024200.png\n"
     ]
    },
    {
     "name": "stderr",
     "output_type": "stream",
     "text": [
      "Lossy conversion from float32 to uint8. Range [-1.0, 0.9995312094688416]. Convert image to uint8 prior to saving to suppress this warning.\n"
     ]
    },
    {
     "name": "stdout",
     "output_type": "stream",
     "text": [
      "Iteration [24400/300000] | D_real_loss: 0.1892 | D_fake_loss: -0.1004 | G_loss: 0.2080 | D_loss: -0.2896 | Wasserstein_Distance: 0.2896\n",
      "Saved ./results/samples_gan_gp1_lr3e-5/sample-024400.png\n",
      "EPOCH: 64\n"
     ]
    },
    {
     "name": "stderr",
     "output_type": "stream",
     "text": [
      "Lossy conversion from float32 to uint8. Range [-1.0, 0.999646782875061]. Convert image to uint8 prior to saving to suppress this warning.\n"
     ]
    },
    {
     "name": "stdout",
     "output_type": "stream",
     "text": [
      "Iteration [24600/300000] | D_real_loss: -0.0041 | D_fake_loss: -0.2369 | G_loss: 0.0191 | D_loss: -0.2327 | Wasserstein_Distance: 0.2327\n",
      "Saved ./results/samples_gan_gp1_lr3e-5/sample-024600.png\n"
     ]
    },
    {
     "name": "stderr",
     "output_type": "stream",
     "text": [
      "Lossy conversion from float32 to uint8. Range [-1.0, 0.9994509816169739]. Convert image to uint8 prior to saving to suppress this warning.\n"
     ]
    },
    {
     "name": "stdout",
     "output_type": "stream",
     "text": [
      "Iteration [24800/300000] | D_real_loss: 0.1006 | D_fake_loss: -0.1871 | G_loss: 0.1300 | D_loss: -0.2877 | Wasserstein_Distance: 0.2877\n",
      "Saved ./results/samples_gan_gp1_lr3e-5/sample-024800.png\n",
      "EPOCH: 65\n"
     ]
    },
    {
     "name": "stderr",
     "output_type": "stream",
     "text": [
      "Lossy conversion from float32 to uint8. Range [-1.0, 0.9996663928031921]. Convert image to uint8 prior to saving to suppress this warning.\n"
     ]
    },
    {
     "name": "stdout",
     "output_type": "stream",
     "text": [
      "Iteration [25000/300000] | D_real_loss: 0.0542 | D_fake_loss: -0.2303 | G_loss: 0.0753 | D_loss: -0.2846 | Wasserstein_Distance: 0.2846\n",
      "Saved ./results/samples_gan_gp1_lr3e-5/sample-025000.png\n"
     ]
    },
    {
     "name": "stderr",
     "output_type": "stream",
     "text": [
      "Lossy conversion from float32 to uint8. Range [-1.0, 0.9995133876800537]. Convert image to uint8 prior to saving to suppress this warning.\n"
     ]
    },
    {
     "name": "stdout",
     "output_type": "stream",
     "text": [
      "Iteration [25200/300000] | D_real_loss: 0.1637 | D_fake_loss: -0.1160 | G_loss: 0.1957 | D_loss: -0.2797 | Wasserstein_Distance: 0.2797\n",
      "Saved ./results/samples_gan_gp1_lr3e-5/sample-025200.png\n",
      "EPOCH: 66\n"
     ]
    },
    {
     "name": "stderr",
     "output_type": "stream",
     "text": [
      "Lossy conversion from float32 to uint8. Range [-1.0, 0.9991672039031982]. Convert image to uint8 prior to saving to suppress this warning.\n"
     ]
    },
    {
     "name": "stdout",
     "output_type": "stream",
     "text": [
      "Iteration [25400/300000] | D_real_loss: 0.2204 | D_fake_loss: -0.0368 | G_loss: 0.2472 | D_loss: -0.2571 | Wasserstein_Distance: 0.2571\n",
      "Saved ./results/samples_gan_gp1_lr3e-5/sample-025400.png\n"
     ]
    },
    {
     "name": "stderr",
     "output_type": "stream",
     "text": [
      "Lossy conversion from float32 to uint8. Range [-1.0, 0.999308705329895]. Convert image to uint8 prior to saving to suppress this warning.\n"
     ]
    },
    {
     "name": "stdout",
     "output_type": "stream",
     "text": [
      "Iteration [25600/300000] | D_real_loss: 0.0462 | D_fake_loss: -0.2262 | G_loss: 0.0231 | D_loss: -0.2724 | Wasserstein_Distance: 0.2724\n",
      "Saved ./results/samples_gan_gp1_lr3e-5/sample-025600.png\n",
      "EPOCH: 67\n"
     ]
    },
    {
     "name": "stderr",
     "output_type": "stream",
     "text": [
      "Lossy conversion from float32 to uint8. Range [-1.0, 0.9995278120040894]. Convert image to uint8 prior to saving to suppress this warning.\n"
     ]
    },
    {
     "name": "stdout",
     "output_type": "stream",
     "text": [
      "Iteration [25800/300000] | D_real_loss: 0.1954 | D_fake_loss: -0.0992 | G_loss: 0.2173 | D_loss: -0.2946 | Wasserstein_Distance: 0.2946\n",
      "Saved ./results/samples_gan_gp1_lr3e-5/sample-025800.png\n"
     ]
    },
    {
     "name": "stderr",
     "output_type": "stream",
     "text": [
      "Lossy conversion from float32 to uint8. Range [-1.0, 0.9994911551475525]. Convert image to uint8 prior to saving to suppress this warning.\n"
     ]
    },
    {
     "name": "stdout",
     "output_type": "stream",
     "text": [
      "Iteration [26000/300000] | D_real_loss: 0.1955 | D_fake_loss: -0.0599 | G_loss: 0.2257 | D_loss: -0.2554 | Wasserstein_Distance: 0.2554\n",
      "Saved ./results/samples_gan_gp1_lr3e-5/sample-026000.png\n",
      "EPOCH: 68\n"
     ]
    },
    {
     "name": "stderr",
     "output_type": "stream",
     "text": [
      "Lossy conversion from float32 to uint8. Range [-1.0, 0.999108612537384]. Convert image to uint8 prior to saving to suppress this warning.\n"
     ]
    },
    {
     "name": "stdout",
     "output_type": "stream",
     "text": [
      "Iteration [26200/300000] | D_real_loss: 0.0940 | D_fake_loss: -0.2169 | G_loss: 0.1039 | D_loss: -0.3109 | Wasserstein_Distance: 0.3109\n",
      "Saved ./results/samples_gan_gp1_lr3e-5/sample-026200.png\n"
     ]
    },
    {
     "name": "stderr",
     "output_type": "stream",
     "text": [
      "Lossy conversion from float32 to uint8. Range [-1.0, 0.9992510080337524]. Convert image to uint8 prior to saving to suppress this warning.\n"
     ]
    },
    {
     "name": "stdout",
     "output_type": "stream",
     "text": [
      "Iteration [26400/300000] | D_real_loss: 0.0648 | D_fake_loss: -0.2173 | G_loss: 0.0955 | D_loss: -0.2821 | Wasserstein_Distance: 0.2821\n",
      "Saved ./results/samples_gan_gp1_lr3e-5/sample-026400.png\n",
      "EPOCH: 69\n"
     ]
    },
    {
     "name": "stderr",
     "output_type": "stream",
     "text": [
      "Lossy conversion from float32 to uint8. Range [-1.0, 0.9994016289710999]. Convert image to uint8 prior to saving to suppress this warning.\n"
     ]
    },
    {
     "name": "stdout",
     "output_type": "stream",
     "text": [
      "Iteration [26600/300000] | D_real_loss: 0.1681 | D_fake_loss: -0.1059 | G_loss: 0.1980 | D_loss: -0.2740 | Wasserstein_Distance: 0.2740\n",
      "Saved ./results/samples_gan_gp1_lr3e-5/sample-026600.png\n"
     ]
    },
    {
     "name": "stderr",
     "output_type": "stream",
     "text": [
      "Lossy conversion from float32 to uint8. Range [-1.0, 0.9995458126068115]. Convert image to uint8 prior to saving to suppress this warning.\n"
     ]
    },
    {
     "name": "stdout",
     "output_type": "stream",
     "text": [
      "Iteration [26800/300000] | D_real_loss: 0.2064 | D_fake_loss: -0.0443 | G_loss: 0.2252 | D_loss: -0.2507 | Wasserstein_Distance: 0.2507\n",
      "Saved ./results/samples_gan_gp1_lr3e-5/sample-026800.png\n",
      "EPOCH: 70\n"
     ]
    },
    {
     "name": "stderr",
     "output_type": "stream",
     "text": [
      "Lossy conversion from float32 to uint8. Range [-1.0, 0.9996975660324097]. Convert image to uint8 prior to saving to suppress this warning.\n"
     ]
    },
    {
     "name": "stdout",
     "output_type": "stream",
     "text": [
      "Iteration [27000/300000] | D_real_loss: 0.1887 | D_fake_loss: -0.0426 | G_loss: 0.2397 | D_loss: -0.2313 | Wasserstein_Distance: 0.2313\n",
      "Saved ./results/samples_gan_gp1_lr3e-5/sample-027000.png\n"
     ]
    },
    {
     "name": "stderr",
     "output_type": "stream",
     "text": [
      "Lossy conversion from float32 to uint8. Range [-1.0, 0.9995253086090088]. Convert image to uint8 prior to saving to suppress this warning.\n"
     ]
    },
    {
     "name": "stdout",
     "output_type": "stream",
     "text": [
      "Iteration [27200/300000] | D_real_loss: 0.1882 | D_fake_loss: -0.0432 | G_loss: 0.2173 | D_loss: -0.2314 | Wasserstein_Distance: 0.2314\n",
      "Saved ./results/samples_gan_gp1_lr3e-5/sample-027200.png\n",
      "EPOCH: 71\n"
     ]
    },
    {
     "name": "stderr",
     "output_type": "stream",
     "text": [
      "Lossy conversion from float32 to uint8. Range [-1.0, 0.9996362328529358]. Convert image to uint8 prior to saving to suppress this warning.\n"
     ]
    },
    {
     "name": "stdout",
     "output_type": "stream",
     "text": [
      "Iteration [27400/300000] | D_real_loss: 0.0886 | D_fake_loss: -0.1959 | G_loss: 0.1010 | D_loss: -0.2845 | Wasserstein_Distance: 0.2845\n",
      "Saved ./results/samples_gan_gp1_lr3e-5/sample-027400.png\n"
     ]
    },
    {
     "name": "stderr",
     "output_type": "stream",
     "text": [
      "Lossy conversion from float32 to uint8. Range [-1.0, 0.9996359348297119]. Convert image to uint8 prior to saving to suppress this warning.\n"
     ]
    },
    {
     "name": "stdout",
     "output_type": "stream",
     "text": [
      "Iteration [27600/300000] | D_real_loss: 0.0196 | D_fake_loss: -0.2262 | G_loss: 0.0307 | D_loss: -0.2458 | Wasserstein_Distance: 0.2458\n",
      "Saved ./results/samples_gan_gp1_lr3e-5/sample-027600.png\n",
      "EPOCH: 72\n"
     ]
    },
    {
     "name": "stderr",
     "output_type": "stream",
     "text": [
      "Lossy conversion from float32 to uint8. Range [-1.0, 0.9994485974311829]. Convert image to uint8 prior to saving to suppress this warning.\n"
     ]
    },
    {
     "name": "stdout",
     "output_type": "stream",
     "text": [
      "Iteration [27800/300000] | D_real_loss: 0.0794 | D_fake_loss: -0.2029 | G_loss: 0.1195 | D_loss: -0.2823 | Wasserstein_Distance: 0.2823\n",
      "Saved ./results/samples_gan_gp1_lr3e-5/sample-027800.png\n"
     ]
    },
    {
     "name": "stderr",
     "output_type": "stream",
     "text": [
      "Lossy conversion from float32 to uint8. Range [-1.0, 0.9994685053825378]. Convert image to uint8 prior to saving to suppress this warning.\n"
     ]
    },
    {
     "name": "stdout",
     "output_type": "stream",
     "text": [
      "Iteration [28000/300000] | D_real_loss: 0.0312 | D_fake_loss: -0.2358 | G_loss: 0.0616 | D_loss: -0.2670 | Wasserstein_Distance: 0.2670\n",
      "Saved ./results/samples_gan_gp1_lr3e-5/sample-028000.png\n",
      "EPOCH: 73\n"
     ]
    },
    {
     "name": "stderr",
     "output_type": "stream",
     "text": [
      "Lossy conversion from float32 to uint8. Range [-1.0, 0.9995074272155762]. Convert image to uint8 prior to saving to suppress this warning.\n"
     ]
    },
    {
     "name": "stdout",
     "output_type": "stream",
     "text": [
      "Iteration [28200/300000] | D_real_loss: 0.1767 | D_fake_loss: -0.0391 | G_loss: 0.2195 | D_loss: -0.2158 | Wasserstein_Distance: 0.2158\n",
      "Saved ./results/samples_gan_gp1_lr3e-5/sample-028200.png\n"
     ]
    },
    {
     "name": "stderr",
     "output_type": "stream",
     "text": [
      "Lossy conversion from float32 to uint8. Range [-1.0, 0.9995868802070618]. Convert image to uint8 prior to saving to suppress this warning.\n"
     ]
    },
    {
     "name": "stdout",
     "output_type": "stream",
     "text": [
      "Iteration [28400/300000] | D_real_loss: 0.0444 | D_fake_loss: -0.2238 | G_loss: 0.0907 | D_loss: -0.2682 | Wasserstein_Distance: 0.2682\n",
      "Saved ./results/samples_gan_gp1_lr3e-5/sample-028400.png\n",
      "EPOCH: 74\n"
     ]
    },
    {
     "name": "stderr",
     "output_type": "stream",
     "text": [
      "Lossy conversion from float32 to uint8. Range [-1.0, 0.9994540810585022]. Convert image to uint8 prior to saving to suppress this warning.\n"
     ]
    },
    {
     "name": "stdout",
     "output_type": "stream",
     "text": [
      "Iteration [28600/300000] | D_real_loss: 0.1835 | D_fake_loss: -0.0341 | G_loss: 0.2077 | D_loss: -0.2175 | Wasserstein_Distance: 0.2175\n",
      "Saved ./results/samples_gan_gp1_lr3e-5/sample-028600.png\n"
     ]
    },
    {
     "name": "stderr",
     "output_type": "stream",
     "text": [
      "Lossy conversion from float32 to uint8. Range [-1.0, 0.9994149208068848]. Convert image to uint8 prior to saving to suppress this warning.\n"
     ]
    },
    {
     "name": "stdout",
     "output_type": "stream",
     "text": [
      "Iteration [28800/300000] | D_real_loss: 0.0717 | D_fake_loss: -0.2117 | G_loss: 0.0775 | D_loss: -0.2834 | Wasserstein_Distance: 0.2834\n",
      "Saved ./results/samples_gan_gp1_lr3e-5/sample-028800.png\n",
      "EPOCH: 75\n"
     ]
    },
    {
     "name": "stderr",
     "output_type": "stream",
     "text": [
      "Lossy conversion from float32 to uint8. Range [-1.0, 0.9996417760848999]. Convert image to uint8 prior to saving to suppress this warning.\n"
     ]
    },
    {
     "name": "stdout",
     "output_type": "stream",
     "text": [
      "Iteration [29000/300000] | D_real_loss: 0.0709 | D_fake_loss: -0.2016 | G_loss: 0.0766 | D_loss: -0.2725 | Wasserstein_Distance: 0.2725\n",
      "Saved ./results/samples_gan_gp1_lr3e-5/sample-029000.png\n"
     ]
    },
    {
     "name": "stderr",
     "output_type": "stream",
     "text": [
      "Lossy conversion from float32 to uint8. Range [-1.0, 0.9996931552886963]. Convert image to uint8 prior to saving to suppress this warning.\n"
     ]
    },
    {
     "name": "stdout",
     "output_type": "stream",
     "text": [
      "Iteration [29200/300000] | D_real_loss: 0.0516 | D_fake_loss: -0.1979 | G_loss: 0.0740 | D_loss: -0.2495 | Wasserstein_Distance: 0.2495\n",
      "Saved ./results/samples_gan_gp1_lr3e-5/sample-029200.png\n",
      "EPOCH: 76\n"
     ]
    },
    {
     "name": "stderr",
     "output_type": "stream",
     "text": [
      "Lossy conversion from float32 to uint8. Range [-1.0, 0.9995033144950867]. Convert image to uint8 prior to saving to suppress this warning.\n"
     ]
    },
    {
     "name": "stdout",
     "output_type": "stream",
     "text": [
      "Iteration [29400/300000] | D_real_loss: 0.0340 | D_fake_loss: -0.1929 | G_loss: 0.1074 | D_loss: -0.2269 | Wasserstein_Distance: 0.2269\n",
      "Saved ./results/samples_gan_gp1_lr3e-5/sample-029400.png\n"
     ]
    },
    {
     "name": "stderr",
     "output_type": "stream",
     "text": [
      "Lossy conversion from float32 to uint8. Range [-1.0, 0.999207615852356]. Convert image to uint8 prior to saving to suppress this warning.\n"
     ]
    },
    {
     "name": "stdout",
     "output_type": "stream",
     "text": [
      "Iteration [29600/300000] | D_real_loss: 0.2121 | D_fake_loss: -0.0705 | G_loss: 0.1986 | D_loss: -0.2826 | Wasserstein_Distance: 0.2826\n",
      "Saved ./results/samples_gan_gp1_lr3e-5/sample-029600.png\n",
      "EPOCH: 77\n"
     ]
    },
    {
     "name": "stderr",
     "output_type": "stream",
     "text": [
      "Lossy conversion from float32 to uint8. Range [-1.0, 0.9996172189712524]. Convert image to uint8 prior to saving to suppress this warning.\n"
     ]
    },
    {
     "name": "stdout",
     "output_type": "stream",
     "text": [
      "Iteration [29800/300000] | D_real_loss: 0.0015 | D_fake_loss: -0.2314 | G_loss: 0.0688 | D_loss: -0.2329 | Wasserstein_Distance: 0.2329\n",
      "Saved ./results/samples_gan_gp1_lr3e-5/sample-029800.png\n"
     ]
    },
    {
     "name": "stderr",
     "output_type": "stream",
     "text": [
      "Lossy conversion from float32 to uint8. Range [-1.0, 0.9995987415313721]. Convert image to uint8 prior to saving to suppress this warning.\n"
     ]
    },
    {
     "name": "stdout",
     "output_type": "stream",
     "text": [
      "Iteration [30000/300000] | D_real_loss: 0.1825 | D_fake_loss: -0.0800 | G_loss: 0.1864 | D_loss: -0.2625 | Wasserstein_Distance: 0.2625\n",
      "Saved ./results/samples_gan_gp1_lr3e-5/sample-030000.png\n",
      "EPOCH: 78\n"
     ]
    },
    {
     "name": "stderr",
     "output_type": "stream",
     "text": [
      "Lossy conversion from float32 to uint8. Range [-1.0, 0.9996234178543091]. Convert image to uint8 prior to saving to suppress this warning.\n"
     ]
    },
    {
     "name": "stdout",
     "output_type": "stream",
     "text": [
      "Iteration [30200/300000] | D_real_loss: 0.1342 | D_fake_loss: -0.1635 | G_loss: 0.1377 | D_loss: -0.2976 | Wasserstein_Distance: 0.2976\n",
      "Saved ./results/samples_gan_gp1_lr3e-5/sample-030200.png\n"
     ]
    },
    {
     "name": "stderr",
     "output_type": "stream",
     "text": [
      "Lossy conversion from float32 to uint8. Range [-1.0, 0.9998106956481934]. Convert image to uint8 prior to saving to suppress this warning.\n"
     ]
    },
    {
     "name": "stdout",
     "output_type": "stream",
     "text": [
      "Iteration [30400/300000] | D_real_loss: 0.0296 | D_fake_loss: -0.2125 | G_loss: 0.0558 | D_loss: -0.2422 | Wasserstein_Distance: 0.2422\n",
      "Saved ./results/samples_gan_gp1_lr3e-5/sample-030400.png\n",
      "EPOCH: 79\n"
     ]
    },
    {
     "name": "stderr",
     "output_type": "stream",
     "text": [
      "Lossy conversion from float32 to uint8. Range [-1.0, 0.9997865557670593]. Convert image to uint8 prior to saving to suppress this warning.\n"
     ]
    },
    {
     "name": "stdout",
     "output_type": "stream",
     "text": [
      "Iteration [30600/300000] | D_real_loss: 0.0730 | D_fake_loss: -0.2021 | G_loss: 0.0830 | D_loss: -0.2751 | Wasserstein_Distance: 0.2751\n",
      "Saved ./results/samples_gan_gp1_lr3e-5/sample-030600.png\n"
     ]
    },
    {
     "name": "stderr",
     "output_type": "stream",
     "text": [
      "Lossy conversion from float32 to uint8. Range [-1.0, 0.9997140765190125]. Convert image to uint8 prior to saving to suppress this warning.\n"
     ]
    },
    {
     "name": "stdout",
     "output_type": "stream",
     "text": [
      "Iteration [30800/300000] | D_real_loss: 0.1927 | D_fake_loss: -0.0505 | G_loss: 0.2260 | D_loss: -0.2432 | Wasserstein_Distance: 0.2432\n",
      "Saved ./results/samples_gan_gp1_lr3e-5/sample-030800.png\n",
      "EPOCH: 80\n"
     ]
    },
    {
     "name": "stderr",
     "output_type": "stream",
     "text": [
      "Lossy conversion from float32 to uint8. Range [-1.0, 0.9995697736740112]. Convert image to uint8 prior to saving to suppress this warning.\n"
     ]
    },
    {
     "name": "stdout",
     "output_type": "stream",
     "text": [
      "Iteration [31000/300000] | D_real_loss: 0.0379 | D_fake_loss: -0.2185 | G_loss: 0.0713 | D_loss: -0.2564 | Wasserstein_Distance: 0.2564\n",
      "Saved ./results/samples_gan_gp1_lr3e-5/sample-031000.png\n"
     ]
    },
    {
     "name": "stderr",
     "output_type": "stream",
     "text": [
      "Lossy conversion from float32 to uint8. Range [-1.0, 0.9996862411499023]. Convert image to uint8 prior to saving to suppress this warning.\n"
     ]
    },
    {
     "name": "stdout",
     "output_type": "stream",
     "text": [
      "Iteration [31200/300000] | D_real_loss: 0.1988 | D_fake_loss: -0.0342 | G_loss: 0.2290 | D_loss: -0.2330 | Wasserstein_Distance: 0.2330\n",
      "Saved ./results/samples_gan_gp1_lr3e-5/sample-031200.png\n",
      "EPOCH: 81\n"
     ]
    },
    {
     "name": "stderr",
     "output_type": "stream",
     "text": [
      "Lossy conversion from float32 to uint8. Range [-1.0, 0.9993810057640076]. Convert image to uint8 prior to saving to suppress this warning.\n"
     ]
    },
    {
     "name": "stdout",
     "output_type": "stream",
     "text": [
      "Iteration [31400/300000] | D_real_loss: 0.0187 | D_fake_loss: -0.2268 | G_loss: 0.1098 | D_loss: -0.2454 | Wasserstein_Distance: 0.2454\n",
      "Saved ./results/samples_gan_gp1_lr3e-5/sample-031400.png\n",
      "EPOCH: 82\n"
     ]
    },
    {
     "name": "stderr",
     "output_type": "stream",
     "text": [
      "Lossy conversion from float32 to uint8. Range [-1.0, 0.9992336630821228]. Convert image to uint8 prior to saving to suppress this warning.\n"
     ]
    },
    {
     "name": "stdout",
     "output_type": "stream",
     "text": [
      "Iteration [31600/300000] | D_real_loss: 0.0023 | D_fake_loss: -0.2214 | G_loss: 0.0717 | D_loss: -0.2237 | Wasserstein_Distance: 0.2237\n",
      "Saved ./results/samples_gan_gp1_lr3e-5/sample-031600.png\n"
     ]
    },
    {
     "name": "stderr",
     "output_type": "stream",
     "text": [
      "Lossy conversion from float32 to uint8. Range [-1.0, 0.9991322159767151]. Convert image to uint8 prior to saving to suppress this warning.\n"
     ]
    },
    {
     "name": "stdout",
     "output_type": "stream",
     "text": [
      "Iteration [31800/300000] | D_real_loss: 0.0359 | D_fake_loss: -0.2221 | G_loss: 0.0618 | D_loss: -0.2580 | Wasserstein_Distance: 0.2580\n",
      "Saved ./results/samples_gan_gp1_lr3e-5/sample-031800.png\n",
      "EPOCH: 83\n"
     ]
    },
    {
     "name": "stderr",
     "output_type": "stream",
     "text": [
      "Lossy conversion from float32 to uint8. Range [-1.0, 0.9993701577186584]. Convert image to uint8 prior to saving to suppress this warning.\n"
     ]
    },
    {
     "name": "stdout",
     "output_type": "stream",
     "text": [
      "Iteration [32000/300000] | D_real_loss: 0.0581 | D_fake_loss: -0.2185 | G_loss: 0.0895 | D_loss: -0.2766 | Wasserstein_Distance: 0.2766\n",
      "Saved ./results/samples_gan_gp1_lr3e-5/sample-032000.png\n"
     ]
    },
    {
     "name": "stderr",
     "output_type": "stream",
     "text": [
      "Lossy conversion from float32 to uint8. Range [-1.0, 0.9994421005249023]. Convert image to uint8 prior to saving to suppress this warning.\n"
     ]
    },
    {
     "name": "stdout",
     "output_type": "stream",
     "text": [
      "Iteration [32200/300000] | D_real_loss: 0.0565 | D_fake_loss: -0.2145 | G_loss: 0.0793 | D_loss: -0.2709 | Wasserstein_Distance: 0.2709\n",
      "Saved ./results/samples_gan_gp1_lr3e-5/sample-032200.png\n",
      "EPOCH: 84\n"
     ]
    },
    {
     "name": "stderr",
     "output_type": "stream",
     "text": [
      "Lossy conversion from float32 to uint8. Range [-1.0, 0.9991262555122375]. Convert image to uint8 prior to saving to suppress this warning.\n"
     ]
    },
    {
     "name": "stdout",
     "output_type": "stream",
     "text": [
      "Iteration [32400/300000] | D_real_loss: -0.0116 | D_fake_loss: -0.2395 | G_loss: 0.0472 | D_loss: -0.2279 | Wasserstein_Distance: 0.2279\n",
      "Saved ./results/samples_gan_gp1_lr3e-5/sample-032400.png\n"
     ]
    },
    {
     "name": "stderr",
     "output_type": "stream",
     "text": [
      "Lossy conversion from float32 to uint8. Range [-1.0, 0.9996309876441956]. Convert image to uint8 prior to saving to suppress this warning.\n"
     ]
    },
    {
     "name": "stdout",
     "output_type": "stream",
     "text": [
      "Iteration [32600/300000] | D_real_loss: 0.0248 | D_fake_loss: -0.2198 | G_loss: 0.0501 | D_loss: -0.2447 | Wasserstein_Distance: 0.2447\n",
      "Saved ./results/samples_gan_gp1_lr3e-5/sample-032600.png\n",
      "EPOCH: 85\n"
     ]
    },
    {
     "name": "stderr",
     "output_type": "stream",
     "text": [
      "Lossy conversion from float32 to uint8. Range [-1.0, 0.9992918372154236]. Convert image to uint8 prior to saving to suppress this warning.\n"
     ]
    },
    {
     "name": "stdout",
     "output_type": "stream",
     "text": [
      "Iteration [32800/300000] | D_real_loss: 0.0372 | D_fake_loss: -0.2094 | G_loss: 0.0384 | D_loss: -0.2467 | Wasserstein_Distance: 0.2467\n",
      "Saved ./results/samples_gan_gp1_lr3e-5/sample-032800.png\n"
     ]
    },
    {
     "name": "stderr",
     "output_type": "stream",
     "text": [
      "Lossy conversion from float32 to uint8. Range [-1.0, 0.9995740652084351]. Convert image to uint8 prior to saving to suppress this warning.\n"
     ]
    },
    {
     "name": "stdout",
     "output_type": "stream",
     "text": [
      "Iteration [33000/300000] | D_real_loss: 0.1952 | D_fake_loss: -0.0360 | G_loss: 0.2151 | D_loss: -0.2311 | Wasserstein_Distance: 0.2311\n",
      "Saved ./results/samples_gan_gp1_lr3e-5/sample-033000.png\n",
      "EPOCH: 86\n"
     ]
    },
    {
     "name": "stderr",
     "output_type": "stream",
     "text": [
      "Lossy conversion from float32 to uint8. Range [-1.0, 0.9993781447410583]. Convert image to uint8 prior to saving to suppress this warning.\n"
     ]
    },
    {
     "name": "stdout",
     "output_type": "stream",
     "text": [
      "Iteration [33200/300000] | D_real_loss: 0.1621 | D_fake_loss: -0.0628 | G_loss: 0.2111 | D_loss: -0.2249 | Wasserstein_Distance: 0.2249\n",
      "Saved ./results/samples_gan_gp1_lr3e-5/sample-033200.png\n"
     ]
    },
    {
     "name": "stderr",
     "output_type": "stream",
     "text": [
      "Lossy conversion from float32 to uint8. Range [-1.0, 0.9990910291671753]. Convert image to uint8 prior to saving to suppress this warning.\n"
     ]
    },
    {
     "name": "stdout",
     "output_type": "stream",
     "text": [
      "Iteration [33400/300000] | D_real_loss: 0.1781 | D_fake_loss: -0.0705 | G_loss: 0.2078 | D_loss: -0.2487 | Wasserstein_Distance: 0.2487\n",
      "Saved ./results/samples_gan_gp1_lr3e-5/sample-033400.png\n",
      "EPOCH: 87\n"
     ]
    },
    {
     "name": "stderr",
     "output_type": "stream",
     "text": [
      "Lossy conversion from float32 to uint8. Range [-1.0, 0.9992336630821228]. Convert image to uint8 prior to saving to suppress this warning.\n"
     ]
    },
    {
     "name": "stdout",
     "output_type": "stream",
     "text": [
      "Iteration [33600/300000] | D_real_loss: 0.0416 | D_fake_loss: -0.2217 | G_loss: 0.0692 | D_loss: -0.2634 | Wasserstein_Distance: 0.2634\n",
      "Saved ./results/samples_gan_gp1_lr3e-5/sample-033600.png\n"
     ]
    },
    {
     "name": "stderr",
     "output_type": "stream",
     "text": [
      "Lossy conversion from float32 to uint8. Range [-1.0, 0.9993977546691895]. Convert image to uint8 prior to saving to suppress this warning.\n"
     ]
    },
    {
     "name": "stdout",
     "output_type": "stream",
     "text": [
      "Iteration [33800/300000] | D_real_loss: 0.1753 | D_fake_loss: -0.0502 | G_loss: 0.2129 | D_loss: -0.2255 | Wasserstein_Distance: 0.2255\n",
      "Saved ./results/samples_gan_gp1_lr3e-5/sample-033800.png\n",
      "EPOCH: 88\n"
     ]
    },
    {
     "name": "stderr",
     "output_type": "stream",
     "text": [
      "Lossy conversion from float32 to uint8. Range [-1.0, 0.9993922114372253]. Convert image to uint8 prior to saving to suppress this warning.\n"
     ]
    },
    {
     "name": "stdout",
     "output_type": "stream",
     "text": [
      "Iteration [34000/300000] | D_real_loss: 0.0286 | D_fake_loss: -0.2259 | G_loss: 0.0820 | D_loss: -0.2545 | Wasserstein_Distance: 0.2545\n",
      "Saved ./results/samples_gan_gp1_lr3e-5/sample-034000.png\n"
     ]
    },
    {
     "name": "stderr",
     "output_type": "stream",
     "text": [
      "Lossy conversion from float32 to uint8. Range [-1.0, 0.9992589950561523]. Convert image to uint8 prior to saving to suppress this warning.\n"
     ]
    },
    {
     "name": "stdout",
     "output_type": "stream",
     "text": [
      "Iteration [34200/300000] | D_real_loss: 0.0171 | D_fake_loss: -0.2164 | G_loss: 0.0690 | D_loss: -0.2335 | Wasserstein_Distance: 0.2335\n",
      "Saved ./results/samples_gan_gp1_lr3e-5/sample-034200.png\n",
      "EPOCH: 89\n"
     ]
    },
    {
     "name": "stderr",
     "output_type": "stream",
     "text": [
      "Lossy conversion from float32 to uint8. Range [-1.0, 0.9988821148872375]. Convert image to uint8 prior to saving to suppress this warning.\n"
     ]
    },
    {
     "name": "stdout",
     "output_type": "stream",
     "text": [
      "Iteration [34400/300000] | D_real_loss: 0.0230 | D_fake_loss: -0.2354 | G_loss: 0.0550 | D_loss: -0.2584 | Wasserstein_Distance: 0.2584\n",
      "Saved ./results/samples_gan_gp1_lr3e-5/sample-034400.png\n"
     ]
    },
    {
     "name": "stderr",
     "output_type": "stream",
     "text": [
      "Lossy conversion from float32 to uint8. Range [-1.0, 0.998940110206604]. Convert image to uint8 prior to saving to suppress this warning.\n"
     ]
    },
    {
     "name": "stdout",
     "output_type": "stream",
     "text": [
      "Iteration [34600/300000] | D_real_loss: 0.0964 | D_fake_loss: -0.1959 | G_loss: 0.1118 | D_loss: -0.2923 | Wasserstein_Distance: 0.2923\n",
      "Saved ./results/samples_gan_gp1_lr3e-5/sample-034600.png\n",
      "EPOCH: 90\n"
     ]
    },
    {
     "name": "stderr",
     "output_type": "stream",
     "text": [
      "Lossy conversion from float32 to uint8. Range [-1.0, 0.9992517232894897]. Convert image to uint8 prior to saving to suppress this warning.\n"
     ]
    },
    {
     "name": "stdout",
     "output_type": "stream",
     "text": [
      "Iteration [34800/300000] | D_real_loss: 0.0678 | D_fake_loss: -0.2079 | G_loss: 0.0566 | D_loss: -0.2757 | Wasserstein_Distance: 0.2757\n",
      "Saved ./results/samples_gan_gp1_lr3e-5/sample-034800.png\n"
     ]
    },
    {
     "name": "stderr",
     "output_type": "stream",
     "text": [
      "Lossy conversion from float32 to uint8. Range [-1.0, 0.9993351101875305]. Convert image to uint8 prior to saving to suppress this warning.\n"
     ]
    },
    {
     "name": "stdout",
     "output_type": "stream",
     "text": [
      "Iteration [35000/300000] | D_real_loss: 0.1174 | D_fake_loss: -0.1777 | G_loss: 0.1398 | D_loss: -0.2952 | Wasserstein_Distance: 0.2952\n",
      "Saved ./results/samples_gan_gp1_lr3e-5/sample-035000.png\n",
      "EPOCH: 91\n"
     ]
    },
    {
     "name": "stderr",
     "output_type": "stream",
     "text": [
      "Lossy conversion from float32 to uint8. Range [-1.0, 0.999026894569397]. Convert image to uint8 prior to saving to suppress this warning.\n"
     ]
    },
    {
     "name": "stdout",
     "output_type": "stream",
     "text": [
      "Iteration [35200/300000] | D_real_loss: 0.0554 | D_fake_loss: -0.2016 | G_loss: 0.0834 | D_loss: -0.2569 | Wasserstein_Distance: 0.2569\n",
      "Saved ./results/samples_gan_gp1_lr3e-5/sample-035200.png\n"
     ]
    },
    {
     "name": "stderr",
     "output_type": "stream",
     "text": [
      "Lossy conversion from float32 to uint8. Range [-1.0, 0.998916506767273]. Convert image to uint8 prior to saving to suppress this warning.\n"
     ]
    },
    {
     "name": "stdout",
     "output_type": "stream",
     "text": [
      "Iteration [35400/300000] | D_real_loss: 0.0240 | D_fake_loss: -0.2270 | G_loss: 0.0377 | D_loss: -0.2510 | Wasserstein_Distance: 0.2510\n",
      "Saved ./results/samples_gan_gp1_lr3e-5/sample-035400.png\n",
      "EPOCH: 92\n"
     ]
    },
    {
     "name": "stderr",
     "output_type": "stream",
     "text": [
      "Lossy conversion from float32 to uint8. Range [-1.0, 0.9991955161094666]. Convert image to uint8 prior to saving to suppress this warning.\n"
     ]
    },
    {
     "name": "stdout",
     "output_type": "stream",
     "text": [
      "Iteration [35600/300000] | D_real_loss: 0.0402 | D_fake_loss: -0.2082 | G_loss: 0.0297 | D_loss: -0.2484 | Wasserstein_Distance: 0.2484\n",
      "Saved ./results/samples_gan_gp1_lr3e-5/sample-035600.png\n"
     ]
    },
    {
     "name": "stderr",
     "output_type": "stream",
     "text": [
      "Lossy conversion from float32 to uint8. Range [-1.0, 0.9995101094245911]. Convert image to uint8 prior to saving to suppress this warning.\n"
     ]
    },
    {
     "name": "stdout",
     "output_type": "stream",
     "text": [
      "Iteration [35800/300000] | D_real_loss: 0.1705 | D_fake_loss: -0.0569 | G_loss: 0.2149 | D_loss: -0.2275 | Wasserstein_Distance: 0.2275\n",
      "Saved ./results/samples_gan_gp1_lr3e-5/sample-035800.png\n",
      "EPOCH: 93\n"
     ]
    },
    {
     "name": "stderr",
     "output_type": "stream",
     "text": [
      "Lossy conversion from float32 to uint8. Range [-1.0, 0.9995797276496887]. Convert image to uint8 prior to saving to suppress this warning.\n"
     ]
    },
    {
     "name": "stdout",
     "output_type": "stream",
     "text": [
      "Iteration [36000/300000] | D_real_loss: 0.0472 | D_fake_loss: -0.1957 | G_loss: 0.0913 | D_loss: -0.2429 | Wasserstein_Distance: 0.2429\n",
      "Saved ./results/samples_gan_gp1_lr3e-5/sample-036000.png\n"
     ]
    },
    {
     "name": "stderr",
     "output_type": "stream",
     "text": [
      "Lossy conversion from float32 to uint8. Range [-1.0, 0.9994058012962341]. Convert image to uint8 prior to saving to suppress this warning.\n"
     ]
    },
    {
     "name": "stdout",
     "output_type": "stream",
     "text": [
      "Iteration [36200/300000] | D_real_loss: 0.1963 | D_fake_loss: -0.0527 | G_loss: 0.2137 | D_loss: -0.2490 | Wasserstein_Distance: 0.2490\n",
      "Saved ./results/samples_gan_gp1_lr3e-5/sample-036200.png\n",
      "EPOCH: 94\n"
     ]
    },
    {
     "name": "stderr",
     "output_type": "stream",
     "text": [
      "Lossy conversion from float32 to uint8. Range [-1.0, 0.9995373487472534]. Convert image to uint8 prior to saving to suppress this warning.\n"
     ]
    },
    {
     "name": "stdout",
     "output_type": "stream",
     "text": [
      "Iteration [36400/300000] | D_real_loss: 0.1511 | D_fake_loss: -0.0707 | G_loss: 0.1812 | D_loss: -0.2217 | Wasserstein_Distance: 0.2217\n",
      "Saved ./results/samples_gan_gp1_lr3e-5/sample-036400.png\n"
     ]
    },
    {
     "name": "stderr",
     "output_type": "stream",
     "text": [
      "Lossy conversion from float32 to uint8. Range [-1.0, 0.9991066455841064]. Convert image to uint8 prior to saving to suppress this warning.\n"
     ]
    },
    {
     "name": "stdout",
     "output_type": "stream",
     "text": [
      "Iteration [36600/300000] | D_real_loss: 0.0074 | D_fake_loss: -0.2328 | G_loss: 0.0489 | D_loss: -0.2402 | Wasserstein_Distance: 0.2402\n",
      "Saved ./results/samples_gan_gp1_lr3e-5/sample-036600.png\n",
      "EPOCH: 95\n"
     ]
    },
    {
     "name": "stderr",
     "output_type": "stream",
     "text": [
      "Lossy conversion from float32 to uint8. Range [-1.0, 0.9991657137870789]. Convert image to uint8 prior to saving to suppress this warning.\n"
     ]
    },
    {
     "name": "stdout",
     "output_type": "stream",
     "text": [
      "Iteration [36800/300000] | D_real_loss: -0.0322 | D_fake_loss: -0.2108 | G_loss: 0.0695 | D_loss: -0.1786 | Wasserstein_Distance: 0.1786\n",
      "Saved ./results/samples_gan_gp1_lr3e-5/sample-036800.png\n"
     ]
    },
    {
     "name": "stderr",
     "output_type": "stream",
     "text": [
      "Lossy conversion from float32 to uint8. Range [-1.0, 0.9991409778594971]. Convert image to uint8 prior to saving to suppress this warning.\n"
     ]
    },
    {
     "name": "stdout",
     "output_type": "stream",
     "text": [
      "Iteration [37000/300000] | D_real_loss: 0.0806 | D_fake_loss: -0.1814 | G_loss: 0.1269 | D_loss: -0.2620 | Wasserstein_Distance: 0.2620\n",
      "Saved ./results/samples_gan_gp1_lr3e-5/sample-037000.png\n",
      "EPOCH: 96\n"
     ]
    },
    {
     "name": "stderr",
     "output_type": "stream",
     "text": [
      "Lossy conversion from float32 to uint8. Range [-1.0, 0.9986916184425354]. Convert image to uint8 prior to saving to suppress this warning.\n"
     ]
    },
    {
     "name": "stdout",
     "output_type": "stream",
     "text": [
      "Iteration [37200/300000] | D_real_loss: 0.1110 | D_fake_loss: -0.1648 | G_loss: 0.1109 | D_loss: -0.2758 | Wasserstein_Distance: 0.2758\n",
      "Saved ./results/samples_gan_gp1_lr3e-5/sample-037200.png\n"
     ]
    },
    {
     "name": "stderr",
     "output_type": "stream",
     "text": [
      "Lossy conversion from float32 to uint8. Range [-1.0, 0.9992541670799255]. Convert image to uint8 prior to saving to suppress this warning.\n"
     ]
    },
    {
     "name": "stdout",
     "output_type": "stream",
     "text": [
      "Iteration [37400/300000] | D_real_loss: 0.0098 | D_fake_loss: -0.2201 | G_loss: 0.0554 | D_loss: -0.2299 | Wasserstein_Distance: 0.2299\n",
      "Saved ./results/samples_gan_gp1_lr3e-5/sample-037400.png\n",
      "EPOCH: 97\n"
     ]
    },
    {
     "name": "stderr",
     "output_type": "stream",
     "text": [
      "Lossy conversion from float32 to uint8. Range [-1.0, 0.9990869164466858]. Convert image to uint8 prior to saving to suppress this warning.\n"
     ]
    },
    {
     "name": "stdout",
     "output_type": "stream",
     "text": [
      "Iteration [37600/300000] | D_real_loss: 0.1969 | D_fake_loss: -0.0403 | G_loss: 0.2458 | D_loss: -0.2372 | Wasserstein_Distance: 0.2372\n",
      "Saved ./results/samples_gan_gp1_lr3e-5/sample-037600.png\n"
     ]
    },
    {
     "name": "stderr",
     "output_type": "stream",
     "text": [
      "Lossy conversion from float32 to uint8. Range [-1.0, 0.9987288117408752]. Convert image to uint8 prior to saving to suppress this warning.\n"
     ]
    },
    {
     "name": "stdout",
     "output_type": "stream",
     "text": [
      "Iteration [37800/300000] | D_real_loss: 0.0489 | D_fake_loss: -0.2113 | G_loss: 0.0503 | D_loss: -0.2602 | Wasserstein_Distance: 0.2602\n",
      "Saved ./results/samples_gan_gp1_lr3e-5/sample-037800.png\n",
      "EPOCH: 98\n"
     ]
    },
    {
     "name": "stderr",
     "output_type": "stream",
     "text": [
      "Lossy conversion from float32 to uint8. Range [-1.0, 0.9989641308784485]. Convert image to uint8 prior to saving to suppress this warning.\n"
     ]
    },
    {
     "name": "stdout",
     "output_type": "stream",
     "text": [
      "Iteration [38000/300000] | D_real_loss: 0.1709 | D_fake_loss: -0.1287 | G_loss: 0.1907 | D_loss: -0.2996 | Wasserstein_Distance: 0.2996\n",
      "Saved ./results/samples_gan_gp1_lr3e-5/sample-038000.png\n"
     ]
    },
    {
     "name": "stderr",
     "output_type": "stream",
     "text": [
      "Lossy conversion from float32 to uint8. Range [-1.0, 0.9987207651138306]. Convert image to uint8 prior to saving to suppress this warning.\n"
     ]
    },
    {
     "name": "stdout",
     "output_type": "stream",
     "text": [
      "Iteration [38200/300000] | D_real_loss: 0.2028 | D_fake_loss: -0.0623 | G_loss: 0.2268 | D_loss: -0.2651 | Wasserstein_Distance: 0.2651\n",
      "Saved ./results/samples_gan_gp1_lr3e-5/sample-038200.png\n",
      "EPOCH: 99\n"
     ]
    },
    {
     "name": "stderr",
     "output_type": "stream",
     "text": [
      "Lossy conversion from float32 to uint8. Range [-1.0, 0.9988937377929688]. Convert image to uint8 prior to saving to suppress this warning.\n"
     ]
    },
    {
     "name": "stdout",
     "output_type": "stream",
     "text": [
      "Iteration [38400/300000] | D_real_loss: 0.1798 | D_fake_loss: -0.0908 | G_loss: 0.2132 | D_loss: -0.2707 | Wasserstein_Distance: 0.2707\n",
      "Saved ./results/samples_gan_gp1_lr3e-5/sample-038400.png\n"
     ]
    },
    {
     "name": "stderr",
     "output_type": "stream",
     "text": [
      "Lossy conversion from float32 to uint8. Range [-1.0, 0.9988709688186646]. Convert image to uint8 prior to saving to suppress this warning.\n"
     ]
    },
    {
     "name": "stdout",
     "output_type": "stream",
     "text": [
      "Iteration [38600/300000] | D_real_loss: 0.1740 | D_fake_loss: -0.0773 | G_loss: 0.2117 | D_loss: -0.2513 | Wasserstein_Distance: 0.2513\n",
      "Saved ./results/samples_gan_gp1_lr3e-5/sample-038600.png\n",
      "EPOCH: 100\n"
     ]
    },
    {
     "name": "stderr",
     "output_type": "stream",
     "text": [
      "Lossy conversion from float32 to uint8. Range [-1.0, 0.9990912079811096]. Convert image to uint8 prior to saving to suppress this warning.\n"
     ]
    },
    {
     "name": "stdout",
     "output_type": "stream",
     "text": [
      "Iteration [38800/300000] | D_real_loss: 0.1988 | D_fake_loss: -0.0429 | G_loss: 0.2307 | D_loss: -0.2417 | Wasserstein_Distance: 0.2417\n",
      "Saved ./results/samples_gan_gp1_lr3e-5/sample-038800.png\n"
     ]
    },
    {
     "name": "stderr",
     "output_type": "stream",
     "text": [
      "Lossy conversion from float32 to uint8. Range [-1.0, 0.9987879395484924]. Convert image to uint8 prior to saving to suppress this warning.\n"
     ]
    },
    {
     "name": "stdout",
     "output_type": "stream",
     "text": [
      "Iteration [39000/300000] | D_real_loss: 0.0403 | D_fake_loss: -0.2086 | G_loss: 0.0318 | D_loss: -0.2489 | Wasserstein_Distance: 0.2489\n",
      "Saved ./results/samples_gan_gp1_lr3e-5/sample-039000.png\n",
      "EPOCH: 101\n"
     ]
    },
    {
     "name": "stderr",
     "output_type": "stream",
     "text": [
      "Lossy conversion from float32 to uint8. Range [-1.0, 0.9990240931510925]. Convert image to uint8 prior to saving to suppress this warning.\n"
     ]
    },
    {
     "name": "stdout",
     "output_type": "stream",
     "text": [
      "Iteration [39200/300000] | D_real_loss: 0.0472 | D_fake_loss: -0.1893 | G_loss: 0.1002 | D_loss: -0.2365 | Wasserstein_Distance: 0.2365\n",
      "Saved ./results/samples_gan_gp1_lr3e-5/sample-039200.png\n",
      "EPOCH: 102\n"
     ]
    },
    {
     "name": "stderr",
     "output_type": "stream",
     "text": [
      "Lossy conversion from float32 to uint8. Range [-1.0, 0.9990050196647644]. Convert image to uint8 prior to saving to suppress this warning.\n"
     ]
    },
    {
     "name": "stdout",
     "output_type": "stream",
     "text": [
      "Iteration [39400/300000] | D_real_loss: 0.0431 | D_fake_loss: -0.2080 | G_loss: 0.0729 | D_loss: -0.2512 | Wasserstein_Distance: 0.2512\n",
      "Saved ./results/samples_gan_gp1_lr3e-5/sample-039400.png\n"
     ]
    },
    {
     "name": "stderr",
     "output_type": "stream",
     "text": [
      "Lossy conversion from float32 to uint8. Range [-1.0, 0.9990519285202026]. Convert image to uint8 prior to saving to suppress this warning.\n"
     ]
    },
    {
     "name": "stdout",
     "output_type": "stream",
     "text": [
      "Iteration [39600/300000] | D_real_loss: 0.0840 | D_fake_loss: -0.1824 | G_loss: 0.0789 | D_loss: -0.2664 | Wasserstein_Distance: 0.2664\n",
      "Saved ./results/samples_gan_gp1_lr3e-5/sample-039600.png\n",
      "EPOCH: 103\n"
     ]
    },
    {
     "name": "stderr",
     "output_type": "stream",
     "text": [
      "Lossy conversion from float32 to uint8. Range [-1.0, 0.9990598559379578]. Convert image to uint8 prior to saving to suppress this warning.\n"
     ]
    },
    {
     "name": "stdout",
     "output_type": "stream",
     "text": [
      "Iteration [39800/300000] | D_real_loss: 0.0718 | D_fake_loss: -0.1890 | G_loss: 0.0819 | D_loss: -0.2609 | Wasserstein_Distance: 0.2609\n",
      "Saved ./results/samples_gan_gp1_lr3e-5/sample-039800.png\n"
     ]
    },
    {
     "name": "stderr",
     "output_type": "stream",
     "text": [
      "Lossy conversion from float32 to uint8. Range [-1.0, 0.9991526007652283]. Convert image to uint8 prior to saving to suppress this warning.\n"
     ]
    },
    {
     "name": "stdout",
     "output_type": "stream",
     "text": [
      "Iteration [40000/300000] | D_real_loss: 0.1725 | D_fake_loss: -0.0843 | G_loss: 0.2111 | D_loss: -0.2568 | Wasserstein_Distance: 0.2568\n",
      "Saved ./results/samples_gan_gp1_lr3e-5/sample-040000.png\n",
      "EPOCH: 104\n"
     ]
    },
    {
     "name": "stderr",
     "output_type": "stream",
     "text": [
      "Lossy conversion from float32 to uint8. Range [-1.0, 0.9991604089736938]. Convert image to uint8 prior to saving to suppress this warning.\n"
     ]
    },
    {
     "name": "stdout",
     "output_type": "stream",
     "text": [
      "Iteration [40200/300000] | D_real_loss: 0.1793 | D_fake_loss: -0.0764 | G_loss: 0.1937 | D_loss: -0.2557 | Wasserstein_Distance: 0.2557\n",
      "Saved ./results/samples_gan_gp1_lr3e-5/sample-040200.png\n"
     ]
    },
    {
     "name": "stderr",
     "output_type": "stream",
     "text": [
      "Lossy conversion from float32 to uint8. Range [-1.0, 0.9990626573562622]. Convert image to uint8 prior to saving to suppress this warning.\n"
     ]
    },
    {
     "name": "stdout",
     "output_type": "stream",
     "text": [
      "Iteration [40400/300000] | D_real_loss: 0.0441 | D_fake_loss: -0.2066 | G_loss: 0.0740 | D_loss: -0.2507 | Wasserstein_Distance: 0.2507\n",
      "Saved ./results/samples_gan_gp1_lr3e-5/sample-040400.png\n",
      "EPOCH: 105\n"
     ]
    },
    {
     "name": "stderr",
     "output_type": "stream",
     "text": [
      "Lossy conversion from float32 to uint8. Range [-1.0, 0.9990320801734924]. Convert image to uint8 prior to saving to suppress this warning.\n"
     ]
    },
    {
     "name": "stdout",
     "output_type": "stream",
     "text": [
      "Iteration [40600/300000] | D_real_loss: 0.0953 | D_fake_loss: -0.1849 | G_loss: 0.1324 | D_loss: -0.2802 | Wasserstein_Distance: 0.2802\n",
      "Saved ./results/samples_gan_gp1_lr3e-5/sample-040600.png\n"
     ]
    },
    {
     "name": "stderr",
     "output_type": "stream",
     "text": [
      "Lossy conversion from float32 to uint8. Range [-1.0, 0.9996748566627502]. Convert image to uint8 prior to saving to suppress this warning.\n"
     ]
    },
    {
     "name": "stdout",
     "output_type": "stream",
     "text": [
      "Iteration [40800/300000] | D_real_loss: 0.0587 | D_fake_loss: -0.1918 | G_loss: 0.0769 | D_loss: -0.2505 | Wasserstein_Distance: 0.2505\n",
      "Saved ./results/samples_gan_gp1_lr3e-5/sample-040800.png\n",
      "EPOCH: 106\n"
     ]
    },
    {
     "name": "stderr",
     "output_type": "stream",
     "text": [
      "Lossy conversion from float32 to uint8. Range [-1.0, 0.9990217685699463]. Convert image to uint8 prior to saving to suppress this warning.\n"
     ]
    },
    {
     "name": "stdout",
     "output_type": "stream",
     "text": [
      "Iteration [41000/300000] | D_real_loss: 0.1685 | D_fake_loss: -0.0952 | G_loss: 0.2074 | D_loss: -0.2637 | Wasserstein_Distance: 0.2637\n",
      "Saved ./results/samples_gan_gp1_lr3e-5/sample-041000.png\n"
     ]
    },
    {
     "name": "stderr",
     "output_type": "stream",
     "text": [
      "Lossy conversion from float32 to uint8. Range [-1.0, 0.9988542199134827]. Convert image to uint8 prior to saving to suppress this warning.\n"
     ]
    },
    {
     "name": "stdout",
     "output_type": "stream",
     "text": [
      "Iteration [41200/300000] | D_real_loss: 0.0253 | D_fake_loss: -0.2094 | G_loss: 0.0222 | D_loss: -0.2347 | Wasserstein_Distance: 0.2347\n",
      "Saved ./results/samples_gan_gp1_lr3e-5/sample-041200.png\n",
      "EPOCH: 107\n"
     ]
    },
    {
     "name": "stderr",
     "output_type": "stream",
     "text": [
      "Lossy conversion from float32 to uint8. Range [-1.0, 0.9989254474639893]. Convert image to uint8 prior to saving to suppress this warning.\n"
     ]
    },
    {
     "name": "stdout",
     "output_type": "stream",
     "text": [
      "Iteration [41400/300000] | D_real_loss: 0.1851 | D_fake_loss: -0.0648 | G_loss: 0.2008 | D_loss: -0.2499 | Wasserstein_Distance: 0.2499\n",
      "Saved ./results/samples_gan_gp1_lr3e-5/sample-041400.png\n"
     ]
    },
    {
     "name": "stderr",
     "output_type": "stream",
     "text": [
      "Lossy conversion from float32 to uint8. Range [-1.0, 0.9990418553352356]. Convert image to uint8 prior to saving to suppress this warning.\n"
     ]
    },
    {
     "name": "stdout",
     "output_type": "stream",
     "text": [
      "Iteration [41600/300000] | D_real_loss: 0.0947 | D_fake_loss: -0.1809 | G_loss: 0.0896 | D_loss: -0.2756 | Wasserstein_Distance: 0.2756\n",
      "Saved ./results/samples_gan_gp1_lr3e-5/sample-041600.png\n",
      "EPOCH: 108\n"
     ]
    },
    {
     "name": "stderr",
     "output_type": "stream",
     "text": [
      "Lossy conversion from float32 to uint8. Range [-1.0, 0.9993122816085815]. Convert image to uint8 prior to saving to suppress this warning.\n"
     ]
    },
    {
     "name": "stdout",
     "output_type": "stream",
     "text": [
      "Iteration [41800/300000] | D_real_loss: 0.0068 | D_fake_loss: -0.2137 | G_loss: 0.0125 | D_loss: -0.2204 | Wasserstein_Distance: 0.2204\n",
      "Saved ./results/samples_gan_gp1_lr3e-5/sample-041800.png\n"
     ]
    },
    {
     "name": "stderr",
     "output_type": "stream",
     "text": [
      "Lossy conversion from float32 to uint8. Range [-1.0, 0.9986181259155273]. Convert image to uint8 prior to saving to suppress this warning.\n"
     ]
    },
    {
     "name": "stdout",
     "output_type": "stream",
     "text": [
      "Iteration [42000/300000] | D_real_loss: 0.1548 | D_fake_loss: -0.0947 | G_loss: 0.1870 | D_loss: -0.2494 | Wasserstein_Distance: 0.2494\n",
      "Saved ./results/samples_gan_gp1_lr3e-5/sample-042000.png\n",
      "EPOCH: 109\n"
     ]
    },
    {
     "name": "stderr",
     "output_type": "stream",
     "text": [
      "Lossy conversion from float32 to uint8. Range [-1.0, 0.9990500211715698]. Convert image to uint8 prior to saving to suppress this warning.\n"
     ]
    },
    {
     "name": "stdout",
     "output_type": "stream",
     "text": [
      "Iteration [42200/300000] | D_real_loss: 0.1843 | D_fake_loss: -0.0332 | G_loss: 0.1839 | D_loss: -0.2175 | Wasserstein_Distance: 0.2175\n",
      "Saved ./results/samples_gan_gp1_lr3e-5/sample-042200.png\n"
     ]
    },
    {
     "name": "stderr",
     "output_type": "stream",
     "text": [
      "Lossy conversion from float32 to uint8. Range [-1.0, 0.9990928769111633]. Convert image to uint8 prior to saving to suppress this warning.\n"
     ]
    },
    {
     "name": "stdout",
     "output_type": "stream",
     "text": [
      "Iteration [42400/300000] | D_real_loss: 0.1766 | D_fake_loss: -0.0548 | G_loss: 0.2228 | D_loss: -0.2314 | Wasserstein_Distance: 0.2314\n",
      "Saved ./results/samples_gan_gp1_lr3e-5/sample-042400.png\n",
      "EPOCH: 110\n"
     ]
    },
    {
     "name": "stderr",
     "output_type": "stream",
     "text": [
      "Lossy conversion from float32 to uint8. Range [-1.0, 0.999176561832428]. Convert image to uint8 prior to saving to suppress this warning.\n"
     ]
    },
    {
     "name": "stdout",
     "output_type": "stream",
     "text": [
      "Iteration [42600/300000] | D_real_loss: 0.1876 | D_fake_loss: -0.0455 | G_loss: 0.2176 | D_loss: -0.2331 | Wasserstein_Distance: 0.2331\n",
      "Saved ./results/samples_gan_gp1_lr3e-5/sample-042600.png\n"
     ]
    },
    {
     "name": "stderr",
     "output_type": "stream",
     "text": [
      "Lossy conversion from float32 to uint8. Range [-1.0, 0.9989166259765625]. Convert image to uint8 prior to saving to suppress this warning.\n"
     ]
    },
    {
     "name": "stdout",
     "output_type": "stream",
     "text": [
      "Iteration [42800/300000] | D_real_loss: 0.0540 | D_fake_loss: -0.2026 | G_loss: 0.0199 | D_loss: -0.2566 | Wasserstein_Distance: 0.2566\n",
      "Saved ./results/samples_gan_gp1_lr3e-5/sample-042800.png\n",
      "EPOCH: 111\n"
     ]
    },
    {
     "name": "stderr",
     "output_type": "stream",
     "text": [
      "Lossy conversion from float32 to uint8. Range [-1.0, 0.9987124800682068]. Convert image to uint8 prior to saving to suppress this warning.\n"
     ]
    },
    {
     "name": "stdout",
     "output_type": "stream",
     "text": [
      "Iteration [43000/300000] | D_real_loss: 0.1740 | D_fake_loss: -0.0931 | G_loss: 0.2048 | D_loss: -0.2670 | Wasserstein_Distance: 0.2670\n",
      "Saved ./results/samples_gan_gp1_lr3e-5/sample-043000.png\n"
     ]
    },
    {
     "name": "stderr",
     "output_type": "stream",
     "text": [
      "Lossy conversion from float32 to uint8. Range [-1.0, 0.9992079138755798]. Convert image to uint8 prior to saving to suppress this warning.\n"
     ]
    },
    {
     "name": "stdout",
     "output_type": "stream",
     "text": [
      "Iteration [43200/300000] | D_real_loss: 0.2037 | D_fake_loss: -0.0210 | G_loss: 0.2166 | D_loss: -0.2247 | Wasserstein_Distance: 0.2247\n",
      "Saved ./results/samples_gan_gp1_lr3e-5/sample-043200.png\n",
      "EPOCH: 112\n"
     ]
    },
    {
     "name": "stderr",
     "output_type": "stream",
     "text": [
      "Lossy conversion from float32 to uint8. Range [-1.0, 0.9986531734466553]. Convert image to uint8 prior to saving to suppress this warning.\n"
     ]
    },
    {
     "name": "stdout",
     "output_type": "stream",
     "text": [
      "Iteration [43400/300000] | D_real_loss: 0.0237 | D_fake_loss: -0.2067 | G_loss: 0.0995 | D_loss: -0.2303 | Wasserstein_Distance: 0.2303\n",
      "Saved ./results/samples_gan_gp1_lr3e-5/sample-043400.png\n"
     ]
    },
    {
     "name": "stderr",
     "output_type": "stream",
     "text": [
      "Lossy conversion from float32 to uint8. Range [-1.0, 0.9985777735710144]. Convert image to uint8 prior to saving to suppress this warning.\n"
     ]
    },
    {
     "name": "stdout",
     "output_type": "stream",
     "text": [
      "Iteration [43600/300000] | D_real_loss: 0.1883 | D_fake_loss: -0.0728 | G_loss: 0.2137 | D_loss: -0.2612 | Wasserstein_Distance: 0.2612\n",
      "Saved ./results/samples_gan_gp1_lr3e-5/sample-043600.png\n",
      "EPOCH: 113\n"
     ]
    },
    {
     "name": "stderr",
     "output_type": "stream",
     "text": [
      "Lossy conversion from float32 to uint8. Range [-1.0, 0.9991258382797241]. Convert image to uint8 prior to saving to suppress this warning.\n"
     ]
    },
    {
     "name": "stdout",
     "output_type": "stream",
     "text": [
      "Iteration [43800/300000] | D_real_loss: 0.1385 | D_fake_loss: -0.1078 | G_loss: 0.1554 | D_loss: -0.2463 | Wasserstein_Distance: 0.2463\n",
      "Saved ./results/samples_gan_gp1_lr3e-5/sample-043800.png\n"
     ]
    },
    {
     "name": "stderr",
     "output_type": "stream",
     "text": [
      "Lossy conversion from float32 to uint8. Range [-1.0, 0.9993267059326172]. Convert image to uint8 prior to saving to suppress this warning.\n"
     ]
    },
    {
     "name": "stdout",
     "output_type": "stream",
     "text": [
      "Iteration [44000/300000] | D_real_loss: 0.0459 | D_fake_loss: -0.1975 | G_loss: 0.0956 | D_loss: -0.2434 | Wasserstein_Distance: 0.2434\n",
      "Saved ./results/samples_gan_gp1_lr3e-5/sample-044000.png\n",
      "EPOCH: 114\n"
     ]
    },
    {
     "name": "stderr",
     "output_type": "stream",
     "text": [
      "Lossy conversion from float32 to uint8. Range [-1.0, 0.9993146657943726]. Convert image to uint8 prior to saving to suppress this warning.\n"
     ]
    },
    {
     "name": "stdout",
     "output_type": "stream",
     "text": [
      "Iteration [44200/300000] | D_real_loss: 0.0338 | D_fake_loss: -0.2085 | G_loss: 0.0526 | D_loss: -0.2424 | Wasserstein_Distance: 0.2424\n",
      "Saved ./results/samples_gan_gp1_lr3e-5/sample-044200.png\n"
     ]
    },
    {
     "name": "stderr",
     "output_type": "stream",
     "text": [
      "Lossy conversion from float32 to uint8. Range [-1.0, 0.9995319843292236]. Convert image to uint8 prior to saving to suppress this warning.\n"
     ]
    },
    {
     "name": "stdout",
     "output_type": "stream",
     "text": [
      "Iteration [44400/300000] | D_real_loss: 0.0201 | D_fake_loss: -0.2179 | G_loss: 0.0257 | D_loss: -0.2380 | Wasserstein_Distance: 0.2380\n",
      "Saved ./results/samples_gan_gp1_lr3e-5/sample-044400.png\n",
      "EPOCH: 115\n"
     ]
    },
    {
     "name": "stderr",
     "output_type": "stream",
     "text": [
      "Lossy conversion from float32 to uint8. Range [-1.0, 0.9989988207817078]. Convert image to uint8 prior to saving to suppress this warning.\n"
     ]
    },
    {
     "name": "stdout",
     "output_type": "stream",
     "text": [
      "Iteration [44600/300000] | D_real_loss: 0.0334 | D_fake_loss: -0.2011 | G_loss: 0.0981 | D_loss: -0.2345 | Wasserstein_Distance: 0.2345\n",
      "Saved ./results/samples_gan_gp1_lr3e-5/sample-044600.png\n"
     ]
    },
    {
     "name": "stderr",
     "output_type": "stream",
     "text": [
      "Lossy conversion from float32 to uint8. Range [-1.0, 0.9988253712654114]. Convert image to uint8 prior to saving to suppress this warning.\n"
     ]
    },
    {
     "name": "stdout",
     "output_type": "stream",
     "text": [
      "Iteration [44800/300000] | D_real_loss: 0.1808 | D_fake_loss: -0.0857 | G_loss: 0.2022 | D_loss: -0.2665 | Wasserstein_Distance: 0.2665\n",
      "Saved ./results/samples_gan_gp1_lr3e-5/sample-044800.png\n",
      "EPOCH: 116\n"
     ]
    },
    {
     "name": "stderr",
     "output_type": "stream",
     "text": [
      "Lossy conversion from float32 to uint8. Range [-1.0, 0.9988272190093994]. Convert image to uint8 prior to saving to suppress this warning.\n"
     ]
    },
    {
     "name": "stdout",
     "output_type": "stream",
     "text": [
      "Iteration [45000/300000] | D_real_loss: 0.0717 | D_fake_loss: -0.1875 | G_loss: 0.1090 | D_loss: -0.2591 | Wasserstein_Distance: 0.2591\n",
      "Saved ./results/samples_gan_gp1_lr3e-5/sample-045000.png\n"
     ]
    },
    {
     "name": "stderr",
     "output_type": "stream",
     "text": [
      "Lossy conversion from float32 to uint8. Range [-1.0, 0.999217689037323]. Convert image to uint8 prior to saving to suppress this warning.\n"
     ]
    },
    {
     "name": "stdout",
     "output_type": "stream",
     "text": [
      "Iteration [45200/300000] | D_real_loss: 0.0560 | D_fake_loss: -0.1989 | G_loss: 0.0653 | D_loss: -0.2549 | Wasserstein_Distance: 0.2549\n",
      "Saved ./results/samples_gan_gp1_lr3e-5/sample-045200.png\n",
      "EPOCH: 117\n"
     ]
    },
    {
     "name": "stderr",
     "output_type": "stream",
     "text": [
      "Lossy conversion from float32 to uint8. Range [-1.0, 0.9991494417190552]. Convert image to uint8 prior to saving to suppress this warning.\n"
     ]
    },
    {
     "name": "stdout",
     "output_type": "stream",
     "text": [
      "Iteration [45400/300000] | D_real_loss: 0.1751 | D_fake_loss: -0.0714 | G_loss: 0.2467 | D_loss: -0.2465 | Wasserstein_Distance: 0.2465\n",
      "Saved ./results/samples_gan_gp1_lr3e-5/sample-045400.png\n"
     ]
    },
    {
     "name": "stderr",
     "output_type": "stream",
     "text": [
      "Lossy conversion from float32 to uint8. Range [-1.0, 0.9987735152244568]. Convert image to uint8 prior to saving to suppress this warning.\n"
     ]
    },
    {
     "name": "stdout",
     "output_type": "stream",
     "text": [
      "Iteration [45600/300000] | D_real_loss: 0.1963 | D_fake_loss: -0.0541 | G_loss: 0.2303 | D_loss: -0.2504 | Wasserstein_Distance: 0.2504\n",
      "Saved ./results/samples_gan_gp1_lr3e-5/sample-045600.png\n",
      "EPOCH: 118\n"
     ]
    },
    {
     "name": "stderr",
     "output_type": "stream",
     "text": [
      "Lossy conversion from float32 to uint8. Range [-1.0, 0.9985556602478027]. Convert image to uint8 prior to saving to suppress this warning.\n"
     ]
    },
    {
     "name": "stdout",
     "output_type": "stream",
     "text": [
      "Iteration [45800/300000] | D_real_loss: 0.1667 | D_fake_loss: -0.0838 | G_loss: 0.1952 | D_loss: -0.2505 | Wasserstein_Distance: 0.2505\n",
      "Saved ./results/samples_gan_gp1_lr3e-5/sample-045800.png\n"
     ]
    },
    {
     "name": "stderr",
     "output_type": "stream",
     "text": [
      "Lossy conversion from float32 to uint8. Range [-1.0, 0.999061107635498]. Convert image to uint8 prior to saving to suppress this warning.\n"
     ]
    },
    {
     "name": "stdout",
     "output_type": "stream",
     "text": [
      "Iteration [46000/300000] | D_real_loss: 0.1760 | D_fake_loss: -0.0667 | G_loss: 0.2026 | D_loss: -0.2427 | Wasserstein_Distance: 0.2427\n",
      "Saved ./results/samples_gan_gp1_lr3e-5/sample-046000.png\n",
      "EPOCH: 119\n"
     ]
    },
    {
     "name": "stderr",
     "output_type": "stream",
     "text": [
      "Lossy conversion from float32 to uint8. Range [-1.0, 0.9985712766647339]. Convert image to uint8 prior to saving to suppress this warning.\n"
     ]
    },
    {
     "name": "stdout",
     "output_type": "stream",
     "text": [
      "Iteration [46200/300000] | D_real_loss: 0.0514 | D_fake_loss: -0.1862 | G_loss: 0.0571 | D_loss: -0.2375 | Wasserstein_Distance: 0.2375\n",
      "Saved ./results/samples_gan_gp1_lr3e-5/sample-046200.png\n"
     ]
    },
    {
     "name": "stderr",
     "output_type": "stream",
     "text": [
      "Lossy conversion from float32 to uint8. Range [-1.0, 0.9988856315612793]. Convert image to uint8 prior to saving to suppress this warning.\n"
     ]
    },
    {
     "name": "stdout",
     "output_type": "stream",
     "text": [
      "Iteration [46400/300000] | D_real_loss: 0.0165 | D_fake_loss: -0.2165 | G_loss: 0.0501 | D_loss: -0.2329 | Wasserstein_Distance: 0.2329\n",
      "Saved ./results/samples_gan_gp1_lr3e-5/sample-046400.png\n",
      "EPOCH: 120\n"
     ]
    },
    {
     "name": "stderr",
     "output_type": "stream",
     "text": [
      "Lossy conversion from float32 to uint8. Range [-1.0, 0.9990138411521912]. Convert image to uint8 prior to saving to suppress this warning.\n"
     ]
    },
    {
     "name": "stdout",
     "output_type": "stream",
     "text": [
      "Iteration [46600/300000] | D_real_loss: 0.1780 | D_fake_loss: -0.0641 | G_loss: 0.1992 | D_loss: -0.2421 | Wasserstein_Distance: 0.2421\n",
      "Saved ./results/samples_gan_gp1_lr3e-5/sample-046600.png\n"
     ]
    },
    {
     "name": "stderr",
     "output_type": "stream",
     "text": [
      "Lossy conversion from float32 to uint8. Range [-1.0, 0.9992040395736694]. Convert image to uint8 prior to saving to suppress this warning.\n"
     ]
    },
    {
     "name": "stdout",
     "output_type": "stream",
     "text": [
      "Iteration [46800/300000] | D_real_loss: 0.1646 | D_fake_loss: -0.0957 | G_loss: 0.2125 | D_loss: -0.2603 | Wasserstein_Distance: 0.2603\n",
      "Saved ./results/samples_gan_gp1_lr3e-5/sample-046800.png\n",
      "EPOCH: 121\n"
     ]
    },
    {
     "name": "stderr",
     "output_type": "stream",
     "text": [
      "Lossy conversion from float32 to uint8. Range [-1.0, 0.9988853335380554]. Convert image to uint8 prior to saving to suppress this warning.\n"
     ]
    },
    {
     "name": "stdout",
     "output_type": "stream",
     "text": [
      "Iteration [47000/300000] | D_real_loss: 0.0327 | D_fake_loss: -0.1945 | G_loss: 0.0573 | D_loss: -0.2272 | Wasserstein_Distance: 0.2272\n",
      "Saved ./results/samples_gan_gp1_lr3e-5/sample-047000.png\n",
      "EPOCH: 122\n"
     ]
    },
    {
     "name": "stderr",
     "output_type": "stream",
     "text": [
      "Lossy conversion from float32 to uint8. Range [-1.0, 0.9986332058906555]. Convert image to uint8 prior to saving to suppress this warning.\n"
     ]
    },
    {
     "name": "stdout",
     "output_type": "stream",
     "text": [
      "Iteration [47200/300000] | D_real_loss: 0.1805 | D_fake_loss: -0.0914 | G_loss: 0.2154 | D_loss: -0.2718 | Wasserstein_Distance: 0.2718\n",
      "Saved ./results/samples_gan_gp1_lr3e-5/sample-047200.png\n"
     ]
    },
    {
     "name": "stderr",
     "output_type": "stream",
     "text": [
      "Lossy conversion from float32 to uint8. Range [-1.0, 0.9989684820175171]. Convert image to uint8 prior to saving to suppress this warning.\n"
     ]
    },
    {
     "name": "stdout",
     "output_type": "stream",
     "text": [
      "Iteration [47400/300000] | D_real_loss: 0.1996 | D_fake_loss: -0.0229 | G_loss: 0.2131 | D_loss: -0.2226 | Wasserstein_Distance: 0.2226\n",
      "Saved ./results/samples_gan_gp1_lr3e-5/sample-047400.png\n",
      "EPOCH: 123\n"
     ]
    },
    {
     "name": "stderr",
     "output_type": "stream",
     "text": [
      "Lossy conversion from float32 to uint8. Range [-1.0, 0.9990301132202148]. Convert image to uint8 prior to saving to suppress this warning.\n"
     ]
    },
    {
     "name": "stdout",
     "output_type": "stream",
     "text": [
      "Iteration [47600/300000] | D_real_loss: 0.1904 | D_fake_loss: -0.0265 | G_loss: 0.2130 | D_loss: -0.2169 | Wasserstein_Distance: 0.2169\n",
      "Saved ./results/samples_gan_gp1_lr3e-5/sample-047600.png\n"
     ]
    },
    {
     "name": "stderr",
     "output_type": "stream",
     "text": [
      "Lossy conversion from float32 to uint8. Range [-1.0, 0.9990702867507935]. Convert image to uint8 prior to saving to suppress this warning.\n"
     ]
    },
    {
     "name": "stdout",
     "output_type": "stream",
     "text": [
      "Iteration [47800/300000] | D_real_loss: 0.1318 | D_fake_loss: -0.1311 | G_loss: 0.1643 | D_loss: -0.2629 | Wasserstein_Distance: 0.2629\n",
      "Saved ./results/samples_gan_gp1_lr3e-5/sample-047800.png\n",
      "EPOCH: 124\n"
     ]
    },
    {
     "name": "stderr",
     "output_type": "stream",
     "text": [
      "Lossy conversion from float32 to uint8. Range [-1.0, 0.999363124370575]. Convert image to uint8 prior to saving to suppress this warning.\n"
     ]
    },
    {
     "name": "stdout",
     "output_type": "stream",
     "text": [
      "Iteration [48000/300000] | D_real_loss: 0.0104 | D_fake_loss: -0.2117 | G_loss: -0.0023 | D_loss: -0.2221 | Wasserstein_Distance: 0.2221\n",
      "Saved ./results/samples_gan_gp1_lr3e-5/sample-048000.png\n"
     ]
    },
    {
     "name": "stderr",
     "output_type": "stream",
     "text": [
      "Lossy conversion from float32 to uint8. Range [-1.0, 0.998819887638092]. Convert image to uint8 prior to saving to suppress this warning.\n"
     ]
    },
    {
     "name": "stdout",
     "output_type": "stream",
     "text": [
      "Iteration [48200/300000] | D_real_loss: 0.1784 | D_fake_loss: -0.0748 | G_loss: 0.2136 | D_loss: -0.2532 | Wasserstein_Distance: 0.2532\n",
      "Saved ./results/samples_gan_gp1_lr3e-5/sample-048200.png\n",
      "EPOCH: 125\n"
     ]
    },
    {
     "name": "stderr",
     "output_type": "stream",
     "text": [
      "Lossy conversion from float32 to uint8. Range [-1.0, 0.9993604421615601]. Convert image to uint8 prior to saving to suppress this warning.\n"
     ]
    },
    {
     "name": "stdout",
     "output_type": "stream",
     "text": [
      "Iteration [48400/300000] | D_real_loss: 0.0370 | D_fake_loss: -0.1900 | G_loss: 0.0782 | D_loss: -0.2269 | Wasserstein_Distance: 0.2269\n",
      "Saved ./results/samples_gan_gp1_lr3e-5/sample-048400.png\n"
     ]
    },
    {
     "name": "stderr",
     "output_type": "stream",
     "text": [
      "Lossy conversion from float32 to uint8. Range [-1.0, 0.9990981817245483]. Convert image to uint8 prior to saving to suppress this warning.\n"
     ]
    },
    {
     "name": "stdout",
     "output_type": "stream",
     "text": [
      "Iteration [48600/300000] | D_real_loss: 0.1674 | D_fake_loss: -0.0469 | G_loss: 0.2140 | D_loss: -0.2142 | Wasserstein_Distance: 0.2142\n",
      "Saved ./results/samples_gan_gp1_lr3e-5/sample-048600.png\n",
      "EPOCH: 126\n"
     ]
    },
    {
     "name": "stderr",
     "output_type": "stream",
     "text": [
      "Lossy conversion from float32 to uint8. Range [-1.0, 0.9986735582351685]. Convert image to uint8 prior to saving to suppress this warning.\n"
     ]
    },
    {
     "name": "stdout",
     "output_type": "stream",
     "text": [
      "Iteration [48800/300000] | D_real_loss: 0.0013 | D_fake_loss: -0.2173 | G_loss: 0.0314 | D_loss: -0.2186 | Wasserstein_Distance: 0.2186\n",
      "Saved ./results/samples_gan_gp1_lr3e-5/sample-048800.png\n"
     ]
    },
    {
     "name": "stderr",
     "output_type": "stream",
     "text": [
      "Lossy conversion from float32 to uint8. Range [-1.0, 0.9985199570655823]. Convert image to uint8 prior to saving to suppress this warning.\n"
     ]
    },
    {
     "name": "stdout",
     "output_type": "stream",
     "text": [
      "Iteration [49000/300000] | D_real_loss: 0.1660 | D_fake_loss: -0.0743 | G_loss: 0.2144 | D_loss: -0.2403 | Wasserstein_Distance: 0.2403\n",
      "Saved ./results/samples_gan_gp1_lr3e-5/sample-049000.png\n",
      "EPOCH: 127\n"
     ]
    },
    {
     "name": "stderr",
     "output_type": "stream",
     "text": [
      "Lossy conversion from float32 to uint8. Range [-1.0, 0.9989065527915955]. Convert image to uint8 prior to saving to suppress this warning.\n"
     ]
    },
    {
     "name": "stdout",
     "output_type": "stream",
     "text": [
      "Iteration [49200/300000] | D_real_loss: 0.0142 | D_fake_loss: -0.2271 | G_loss: 0.0638 | D_loss: -0.2413 | Wasserstein_Distance: 0.2413\n",
      "Saved ./results/samples_gan_gp1_lr3e-5/sample-049200.png\n"
     ]
    },
    {
     "name": "stderr",
     "output_type": "stream",
     "text": [
      "Lossy conversion from float32 to uint8. Range [-1.0, 0.9994009733200073]. Convert image to uint8 prior to saving to suppress this warning.\n"
     ]
    },
    {
     "name": "stdout",
     "output_type": "stream",
     "text": [
      "Iteration [49400/300000] | D_real_loss: 0.1669 | D_fake_loss: -0.1029 | G_loss: 0.1957 | D_loss: -0.2698 | Wasserstein_Distance: 0.2698\n",
      "Saved ./results/samples_gan_gp1_lr3e-5/sample-049400.png\n",
      "EPOCH: 128\n"
     ]
    },
    {
     "name": "stderr",
     "output_type": "stream",
     "text": [
      "Lossy conversion from float32 to uint8. Range [-1.0, 0.9992654919624329]. Convert image to uint8 prior to saving to suppress this warning.\n"
     ]
    },
    {
     "name": "stdout",
     "output_type": "stream",
     "text": [
      "Iteration [49600/300000] | D_real_loss: 0.1689 | D_fake_loss: -0.0513 | G_loss: 0.1867 | D_loss: -0.2202 | Wasserstein_Distance: 0.2202\n",
      "Saved ./results/samples_gan_gp1_lr3e-5/sample-049600.png\n"
     ]
    },
    {
     "name": "stderr",
     "output_type": "stream",
     "text": [
      "Lossy conversion from float32 to uint8. Range [-1.0, 0.9987046122550964]. Convert image to uint8 prior to saving to suppress this warning.\n"
     ]
    },
    {
     "name": "stdout",
     "output_type": "stream",
     "text": [
      "Iteration [49800/300000] | D_real_loss: 0.0280 | D_fake_loss: -0.2070 | G_loss: 0.0718 | D_loss: -0.2350 | Wasserstein_Distance: 0.2350\n",
      "Saved ./results/samples_gan_gp1_lr3e-5/sample-049800.png\n",
      "EPOCH: 129\n"
     ]
    },
    {
     "name": "stderr",
     "output_type": "stream",
     "text": [
      "Lossy conversion from float32 to uint8. Range [-1.0, 0.9993817210197449]. Convert image to uint8 prior to saving to suppress this warning.\n"
     ]
    },
    {
     "name": "stdout",
     "output_type": "stream",
     "text": [
      "Iteration [50000/300000] | D_real_loss: 0.1866 | D_fake_loss: -0.0751 | G_loss: 0.2306 | D_loss: -0.2617 | Wasserstein_Distance: 0.2617\n",
      "Saved ./results/samples_gan_gp1_lr3e-5/sample-050000.png\n"
     ]
    },
    {
     "name": "stderr",
     "output_type": "stream",
     "text": [
      "Lossy conversion from float32 to uint8. Range [-1.0, 0.9992489218711853]. Convert image to uint8 prior to saving to suppress this warning.\n"
     ]
    },
    {
     "name": "stdout",
     "output_type": "stream",
     "text": [
      "Iteration [50200/300000] | D_real_loss: 0.0346 | D_fake_loss: -0.2008 | G_loss: 0.1055 | D_loss: -0.2354 | Wasserstein_Distance: 0.2354\n",
      "Saved ./results/samples_gan_gp1_lr3e-5/sample-050200.png\n",
      "EPOCH: 130\n"
     ]
    },
    {
     "name": "stderr",
     "output_type": "stream",
     "text": [
      "Lossy conversion from float32 to uint8. Range [-1.0, 0.9990456104278564]. Convert image to uint8 prior to saving to suppress this warning.\n"
     ]
    },
    {
     "name": "stdout",
     "output_type": "stream",
     "text": [
      "Iteration [50400/300000] | D_real_loss: -0.0046 | D_fake_loss: -0.2193 | G_loss: 0.0349 | D_loss: -0.2147 | Wasserstein_Distance: 0.2147\n",
      "Saved ./results/samples_gan_gp1_lr3e-5/sample-050400.png\n"
     ]
    },
    {
     "name": "stderr",
     "output_type": "stream",
     "text": [
      "Lossy conversion from float32 to uint8. Range [-1.0, 0.9988000988960266]. Convert image to uint8 prior to saving to suppress this warning.\n"
     ]
    },
    {
     "name": "stdout",
     "output_type": "stream",
     "text": [
      "Iteration [50600/300000] | D_real_loss: 0.0594 | D_fake_loss: -0.1943 | G_loss: 0.0391 | D_loss: -0.2538 | Wasserstein_Distance: 0.2538\n",
      "Saved ./results/samples_gan_gp1_lr3e-5/sample-050600.png\n",
      "EPOCH: 131\n"
     ]
    },
    {
     "name": "stderr",
     "output_type": "stream",
     "text": [
      "Lossy conversion from float32 to uint8. Range [-1.0, 0.9988594651222229]. Convert image to uint8 prior to saving to suppress this warning.\n"
     ]
    },
    {
     "name": "stdout",
     "output_type": "stream",
     "text": [
      "Iteration [50800/300000] | D_real_loss: 0.0550 | D_fake_loss: -0.1968 | G_loss: 0.0414 | D_loss: -0.2518 | Wasserstein_Distance: 0.2518\n",
      "Saved ./results/samples_gan_gp1_lr3e-5/sample-050800.png\n"
     ]
    },
    {
     "name": "stderr",
     "output_type": "stream",
     "text": [
      "Lossy conversion from float32 to uint8. Range [-1.0, 0.9986352324485779]. Convert image to uint8 prior to saving to suppress this warning.\n"
     ]
    },
    {
     "name": "stdout",
     "output_type": "stream",
     "text": [
      "Iteration [51000/300000] | D_real_loss: 0.1870 | D_fake_loss: -0.0488 | G_loss: 0.2177 | D_loss: -0.2359 | Wasserstein_Distance: 0.2359\n",
      "Saved ./results/samples_gan_gp1_lr3e-5/sample-051000.png\n",
      "EPOCH: 132\n"
     ]
    },
    {
     "name": "stderr",
     "output_type": "stream",
     "text": [
      "Lossy conversion from float32 to uint8. Range [-1.0, 0.9984289407730103]. Convert image to uint8 prior to saving to suppress this warning.\n"
     ]
    },
    {
     "name": "stdout",
     "output_type": "stream",
     "text": [
      "Iteration [51200/300000] | D_real_loss: 0.1829 | D_fake_loss: -0.0554 | G_loss: 0.2097 | D_loss: -0.2383 | Wasserstein_Distance: 0.2383\n",
      "Saved ./results/samples_gan_gp1_lr3e-5/sample-051200.png\n"
     ]
    },
    {
     "name": "stderr",
     "output_type": "stream",
     "text": [
      "Lossy conversion from float32 to uint8. Range [-1.0, 0.9990485906600952]. Convert image to uint8 prior to saving to suppress this warning.\n"
     ]
    },
    {
     "name": "stdout",
     "output_type": "stream",
     "text": [
      "Iteration [51400/300000] | D_real_loss: 0.0482 | D_fake_loss: -0.2014 | G_loss: 0.0648 | D_loss: -0.2495 | Wasserstein_Distance: 0.2495\n",
      "Saved ./results/samples_gan_gp1_lr3e-5/sample-051400.png\n",
      "EPOCH: 133\n"
     ]
    },
    {
     "name": "stderr",
     "output_type": "stream",
     "text": [
      "Lossy conversion from float32 to uint8. Range [-1.0, 0.9983944892883301]. Convert image to uint8 prior to saving to suppress this warning.\n"
     ]
    },
    {
     "name": "stdout",
     "output_type": "stream",
     "text": [
      "Iteration [51600/300000] | D_real_loss: 0.1867 | D_fake_loss: -0.0164 | G_loss: 0.1962 | D_loss: -0.2031 | Wasserstein_Distance: 0.2031\n",
      "Saved ./results/samples_gan_gp1_lr3e-5/sample-051600.png\n"
     ]
    },
    {
     "name": "stderr",
     "output_type": "stream",
     "text": [
      "Lossy conversion from float32 to uint8. Range [-1.0, 0.9991331696510315]. Convert image to uint8 prior to saving to suppress this warning.\n"
     ]
    },
    {
     "name": "stdout",
     "output_type": "stream",
     "text": [
      "Iteration [51800/300000] | D_real_loss: 0.1948 | D_fake_loss: -0.0182 | G_loss: 0.2166 | D_loss: -0.2130 | Wasserstein_Distance: 0.2130\n",
      "Saved ./results/samples_gan_gp1_lr3e-5/sample-051800.png\n",
      "EPOCH: 134\n"
     ]
    },
    {
     "name": "stderr",
     "output_type": "stream",
     "text": [
      "Lossy conversion from float32 to uint8. Range [-1.0, 0.9992295503616333]. Convert image to uint8 prior to saving to suppress this warning.\n"
     ]
    },
    {
     "name": "stdout",
     "output_type": "stream",
     "text": [
      "Iteration [52000/300000] | D_real_loss: 0.0113 | D_fake_loss: -0.2174 | G_loss: 0.0875 | D_loss: -0.2287 | Wasserstein_Distance: 0.2287\n",
      "Saved ./results/samples_gan_gp1_lr3e-5/sample-052000.png\n"
     ]
    },
    {
     "name": "stderr",
     "output_type": "stream",
     "text": [
      "Lossy conversion from float32 to uint8. Range [-1.0, 0.9992927312850952]. Convert image to uint8 prior to saving to suppress this warning.\n"
     ]
    },
    {
     "name": "stdout",
     "output_type": "stream",
     "text": [
      "Iteration [52200/300000] | D_real_loss: 0.1833 | D_fake_loss: -0.0636 | G_loss: 0.2058 | D_loss: -0.2470 | Wasserstein_Distance: 0.2470\n",
      "Saved ./results/samples_gan_gp1_lr3e-5/sample-052200.png\n",
      "EPOCH: 135\n"
     ]
    },
    {
     "name": "stderr",
     "output_type": "stream",
     "text": [
      "Lossy conversion from float32 to uint8. Range [-1.0, 0.998785674571991]. Convert image to uint8 prior to saving to suppress this warning.\n"
     ]
    },
    {
     "name": "stdout",
     "output_type": "stream",
     "text": [
      "Iteration [52400/300000] | D_real_loss: 0.0480 | D_fake_loss: -0.2096 | G_loss: 0.0631 | D_loss: -0.2577 | Wasserstein_Distance: 0.2577\n",
      "Saved ./results/samples_gan_gp1_lr3e-5/sample-052400.png\n"
     ]
    },
    {
     "name": "stderr",
     "output_type": "stream",
     "text": [
      "Lossy conversion from float32 to uint8. Range [-1.0, 0.9989951848983765]. Convert image to uint8 prior to saving to suppress this warning.\n"
     ]
    },
    {
     "name": "stdout",
     "output_type": "stream",
     "text": [
      "Iteration [52600/300000] | D_real_loss: 0.1698 | D_fake_loss: -0.0499 | G_loss: 0.2207 | D_loss: -0.2198 | Wasserstein_Distance: 0.2198\n",
      "Saved ./results/samples_gan_gp1_lr3e-5/sample-052600.png\n",
      "EPOCH: 136\n"
     ]
    },
    {
     "name": "stderr",
     "output_type": "stream",
     "text": [
      "Lossy conversion from float32 to uint8. Range [-1.0, 0.9987456798553467]. Convert image to uint8 prior to saving to suppress this warning.\n"
     ]
    },
    {
     "name": "stdout",
     "output_type": "stream",
     "text": [
      "Iteration [52800/300000] | D_real_loss: 0.1983 | D_fake_loss: -0.0618 | G_loss: 0.2206 | D_loss: -0.2601 | Wasserstein_Distance: 0.2601\n",
      "Saved ./results/samples_gan_gp1_lr3e-5/sample-052800.png\n"
     ]
    },
    {
     "name": "stderr",
     "output_type": "stream",
     "text": [
      "Lossy conversion from float32 to uint8. Range [-1.0, 0.9987534284591675]. Convert image to uint8 prior to saving to suppress this warning.\n"
     ]
    },
    {
     "name": "stdout",
     "output_type": "stream",
     "text": [
      "Iteration [53000/300000] | D_real_loss: 0.0077 | D_fake_loss: -0.1931 | G_loss: 0.0706 | D_loss: -0.2008 | Wasserstein_Distance: 0.2008\n",
      "Saved ./results/samples_gan_gp1_lr3e-5/sample-053000.png\n",
      "EPOCH: 137\n"
     ]
    },
    {
     "name": "stderr",
     "output_type": "stream",
     "text": [
      "Lossy conversion from float32 to uint8. Range [-1.0, 0.9992155432701111]. Convert image to uint8 prior to saving to suppress this warning.\n"
     ]
    },
    {
     "name": "stdout",
     "output_type": "stream",
     "text": [
      "Iteration [53200/300000] | D_real_loss: 0.0215 | D_fake_loss: -0.2150 | G_loss: 0.0450 | D_loss: -0.2366 | Wasserstein_Distance: 0.2366\n",
      "Saved ./results/samples_gan_gp1_lr3e-5/sample-053200.png\n"
     ]
    },
    {
     "name": "stderr",
     "output_type": "stream",
     "text": [
      "Lossy conversion from float32 to uint8. Range [-1.0, 0.998997688293457]. Convert image to uint8 prior to saving to suppress this warning.\n"
     ]
    },
    {
     "name": "stdout",
     "output_type": "stream",
     "text": [
      "Iteration [53400/300000] | D_real_loss: 0.0003 | D_fake_loss: -0.2070 | G_loss: 0.0656 | D_loss: -0.2073 | Wasserstein_Distance: 0.2073\n",
      "Saved ./results/samples_gan_gp1_lr3e-5/sample-053400.png\n",
      "EPOCH: 138\n"
     ]
    },
    {
     "name": "stderr",
     "output_type": "stream",
     "text": [
      "Lossy conversion from float32 to uint8. Range [-1.0, 0.9988310933113098]. Convert image to uint8 prior to saving to suppress this warning.\n"
     ]
    },
    {
     "name": "stdout",
     "output_type": "stream",
     "text": [
      "Iteration [53600/300000] | D_real_loss: 0.1875 | D_fake_loss: -0.0600 | G_loss: 0.2242 | D_loss: -0.2475 | Wasserstein_Distance: 0.2475\n",
      "Saved ./results/samples_gan_gp1_lr3e-5/sample-053600.png\n"
     ]
    },
    {
     "name": "stderr",
     "output_type": "stream",
     "text": [
      "Lossy conversion from float32 to uint8. Range [-1.0, 0.999009907245636]. Convert image to uint8 prior to saving to suppress this warning.\n"
     ]
    },
    {
     "name": "stdout",
     "output_type": "stream",
     "text": [
      "Iteration [53800/300000] | D_real_loss: 0.0397 | D_fake_loss: -0.2023 | G_loss: 0.0483 | D_loss: -0.2420 | Wasserstein_Distance: 0.2420\n",
      "Saved ./results/samples_gan_gp1_lr3e-5/sample-053800.png\n",
      "EPOCH: 139\n"
     ]
    },
    {
     "name": "stderr",
     "output_type": "stream",
     "text": [
      "Lossy conversion from float32 to uint8. Range [-1.0, 0.9988420605659485]. Convert image to uint8 prior to saving to suppress this warning.\n"
     ]
    },
    {
     "name": "stdout",
     "output_type": "stream",
     "text": [
      "Iteration [54000/300000] | D_real_loss: 0.1827 | D_fake_loss: -0.0504 | G_loss: 0.1825 | D_loss: -0.2331 | Wasserstein_Distance: 0.2331\n",
      "Saved ./results/samples_gan_gp1_lr3e-5/sample-054000.png\n"
     ]
    },
    {
     "name": "stderr",
     "output_type": "stream",
     "text": [
      "Lossy conversion from float32 to uint8. Range [-1.0, 0.9994091987609863]. Convert image to uint8 prior to saving to suppress this warning.\n"
     ]
    },
    {
     "name": "stdout",
     "output_type": "stream",
     "text": [
      "Iteration [54200/300000] | D_real_loss: 0.1927 | D_fake_loss: -0.0250 | G_loss: 0.2186 | D_loss: -0.2176 | Wasserstein_Distance: 0.2176\n",
      "Saved ./results/samples_gan_gp1_lr3e-5/sample-054200.png\n",
      "EPOCH: 140\n"
     ]
    },
    {
     "name": "stderr",
     "output_type": "stream",
     "text": [
      "Lossy conversion from float32 to uint8. Range [-1.0, 0.9988183379173279]. Convert image to uint8 prior to saving to suppress this warning.\n"
     ]
    },
    {
     "name": "stdout",
     "output_type": "stream",
     "text": [
      "Iteration [54400/300000] | D_real_loss: 0.1704 | D_fake_loss: -0.0576 | G_loss: 0.2133 | D_loss: -0.2280 | Wasserstein_Distance: 0.2280\n",
      "Saved ./results/samples_gan_gp1_lr3e-5/sample-054400.png\n"
     ]
    },
    {
     "name": "stderr",
     "output_type": "stream",
     "text": [
      "Lossy conversion from float32 to uint8. Range [-1.0, 0.9987936019897461]. Convert image to uint8 prior to saving to suppress this warning.\n"
     ]
    },
    {
     "name": "stdout",
     "output_type": "stream",
     "text": [
      "Iteration [54600/300000] | D_real_loss: 0.0117 | D_fake_loss: -0.2182 | G_loss: 0.0303 | D_loss: -0.2299 | Wasserstein_Distance: 0.2299\n",
      "Saved ./results/samples_gan_gp1_lr3e-5/sample-054600.png\n",
      "EPOCH: 141\n"
     ]
    },
    {
     "name": "stderr",
     "output_type": "stream",
     "text": [
      "Lossy conversion from float32 to uint8. Range [-1.0, 0.9992237091064453]. Convert image to uint8 prior to saving to suppress this warning.\n"
     ]
    },
    {
     "name": "stdout",
     "output_type": "stream",
     "text": [
      "Iteration [54800/300000] | D_real_loss: 0.1748 | D_fake_loss: -0.0902 | G_loss: 0.2036 | D_loss: -0.2650 | Wasserstein_Distance: 0.2650\n",
      "Saved ./results/samples_gan_gp1_lr3e-5/sample-054800.png\n",
      "EPOCH: 142\n"
     ]
    },
    {
     "name": "stderr",
     "output_type": "stream",
     "text": [
      "Lossy conversion from float32 to uint8. Range [-1.0, 0.9993214011192322]. Convert image to uint8 prior to saving to suppress this warning.\n"
     ]
    },
    {
     "name": "stdout",
     "output_type": "stream",
     "text": [
      "Iteration [55000/300000] | D_real_loss: 0.1527 | D_fake_loss: -0.0674 | G_loss: 0.1768 | D_loss: -0.2201 | Wasserstein_Distance: 0.2201\n",
      "Saved ./results/samples_gan_gp1_lr3e-5/sample-055000.png\n"
     ]
    },
    {
     "name": "stderr",
     "output_type": "stream",
     "text": [
      "Lossy conversion from float32 to uint8. Range [-1.0, 0.9989142417907715]. Convert image to uint8 prior to saving to suppress this warning.\n"
     ]
    },
    {
     "name": "stdout",
     "output_type": "stream",
     "text": [
      "Iteration [55200/300000] | D_real_loss: 0.0521 | D_fake_loss: -0.1884 | G_loss: 0.0858 | D_loss: -0.2404 | Wasserstein_Distance: 0.2404\n",
      "Saved ./results/samples_gan_gp1_lr3e-5/sample-055200.png\n",
      "EPOCH: 143\n"
     ]
    },
    {
     "name": "stderr",
     "output_type": "stream",
     "text": [
      "Lossy conversion from float32 to uint8. Range [-1.0, 0.9988194704055786]. Convert image to uint8 prior to saving to suppress this warning.\n"
     ]
    },
    {
     "name": "stdout",
     "output_type": "stream",
     "text": [
      "Iteration [55400/300000] | D_real_loss: 0.0199 | D_fake_loss: -0.2064 | G_loss: 0.0514 | D_loss: -0.2263 | Wasserstein_Distance: 0.2263\n",
      "Saved ./results/samples_gan_gp1_lr3e-5/sample-055400.png\n"
     ]
    },
    {
     "name": "stderr",
     "output_type": "stream",
     "text": [
      "Lossy conversion from float32 to uint8. Range [-1.0, 0.9987239241600037]. Convert image to uint8 prior to saving to suppress this warning.\n"
     ]
    },
    {
     "name": "stdout",
     "output_type": "stream",
     "text": [
      "Iteration [55600/300000] | D_real_loss: 0.1496 | D_fake_loss: -0.1079 | G_loss: 0.1586 | D_loss: -0.2575 | Wasserstein_Distance: 0.2575\n",
      "Saved ./results/samples_gan_gp1_lr3e-5/sample-055600.png\n",
      "EPOCH: 144\n"
     ]
    },
    {
     "name": "stderr",
     "output_type": "stream",
     "text": [
      "Lossy conversion from float32 to uint8. Range [-1.0, 0.9990808367729187]. Convert image to uint8 prior to saving to suppress this warning.\n"
     ]
    },
    {
     "name": "stdout",
     "output_type": "stream",
     "text": [
      "Iteration [55800/300000] | D_real_loss: 0.1770 | D_fake_loss: -0.0708 | G_loss: 0.1944 | D_loss: -0.2478 | Wasserstein_Distance: 0.2478\n",
      "Saved ./results/samples_gan_gp1_lr3e-5/sample-055800.png\n"
     ]
    },
    {
     "name": "stderr",
     "output_type": "stream",
     "text": [
      "Lossy conversion from float32 to uint8. Range [-1.0, 0.9987764358520508]. Convert image to uint8 prior to saving to suppress this warning.\n"
     ]
    },
    {
     "name": "stdout",
     "output_type": "stream",
     "text": [
      "Iteration [56000/300000] | D_real_loss: 0.1821 | D_fake_loss: -0.0707 | G_loss: 0.2305 | D_loss: -0.2528 | Wasserstein_Distance: 0.2528\n",
      "Saved ./results/samples_gan_gp1_lr3e-5/sample-056000.png\n",
      "EPOCH: 145\n"
     ]
    },
    {
     "name": "stderr",
     "output_type": "stream",
     "text": [
      "Lossy conversion from float32 to uint8. Range [-1.0, 0.9992426037788391]. Convert image to uint8 prior to saving to suppress this warning.\n"
     ]
    },
    {
     "name": "stdout",
     "output_type": "stream",
     "text": [
      "Iteration [56200/300000] | D_real_loss: 0.0639 | D_fake_loss: -0.1882 | G_loss: 0.0520 | D_loss: -0.2522 | Wasserstein_Distance: 0.2522\n",
      "Saved ./results/samples_gan_gp1_lr3e-5/sample-056200.png\n"
     ]
    },
    {
     "name": "stderr",
     "output_type": "stream",
     "text": [
      "Lossy conversion from float32 to uint8. Range [-1.0, 0.999313235282898]. Convert image to uint8 prior to saving to suppress this warning.\n"
     ]
    },
    {
     "name": "stdout",
     "output_type": "stream",
     "text": [
      "Iteration [56400/300000] | D_real_loss: 0.1760 | D_fake_loss: -0.0311 | G_loss: 0.2034 | D_loss: -0.2071 | Wasserstein_Distance: 0.2071\n",
      "Saved ./results/samples_gan_gp1_lr3e-5/sample-056400.png\n",
      "EPOCH: 146\n"
     ]
    },
    {
     "name": "stderr",
     "output_type": "stream",
     "text": [
      "Lossy conversion from float32 to uint8. Range [-1.0, 0.9986888766288757]. Convert image to uint8 prior to saving to suppress this warning.\n"
     ]
    },
    {
     "name": "stdout",
     "output_type": "stream",
     "text": [
      "Iteration [56600/300000] | D_real_loss: 0.1885 | D_fake_loss: -0.0248 | G_loss: 0.2252 | D_loss: -0.2132 | Wasserstein_Distance: 0.2132\n",
      "Saved ./results/samples_gan_gp1_lr3e-5/sample-056600.png\n"
     ]
    },
    {
     "name": "stderr",
     "output_type": "stream",
     "text": [
      "Lossy conversion from float32 to uint8. Range [-1.0, 0.9992976188659668]. Convert image to uint8 prior to saving to suppress this warning.\n"
     ]
    },
    {
     "name": "stdout",
     "output_type": "stream",
     "text": [
      "Iteration [56800/300000] | D_real_loss: 0.1311 | D_fake_loss: -0.0632 | G_loss: 0.1976 | D_loss: -0.1943 | Wasserstein_Distance: 0.1943\n",
      "Saved ./results/samples_gan_gp1_lr3e-5/sample-056800.png\n",
      "EPOCH: 147\n"
     ]
    },
    {
     "name": "stderr",
     "output_type": "stream",
     "text": [
      "Lossy conversion from float32 to uint8. Range [-1.0, 0.9989405274391174]. Convert image to uint8 prior to saving to suppress this warning.\n"
     ]
    },
    {
     "name": "stdout",
     "output_type": "stream",
     "text": [
      "Iteration [57000/300000] | D_real_loss: 0.1991 | D_fake_loss: -0.0068 | G_loss: 0.2258 | D_loss: -0.2059 | Wasserstein_Distance: 0.2059\n",
      "Saved ./results/samples_gan_gp1_lr3e-5/sample-057000.png\n"
     ]
    },
    {
     "name": "stderr",
     "output_type": "stream",
     "text": [
      "Lossy conversion from float32 to uint8. Range [-1.0, 0.9990747570991516]. Convert image to uint8 prior to saving to suppress this warning.\n"
     ]
    },
    {
     "name": "stdout",
     "output_type": "stream",
     "text": [
      "Iteration [57200/300000] | D_real_loss: 0.0561 | D_fake_loss: -0.1837 | G_loss: 0.0664 | D_loss: -0.2399 | Wasserstein_Distance: 0.2399\n",
      "Saved ./results/samples_gan_gp1_lr3e-5/sample-057200.png\n",
      "EPOCH: 148\n"
     ]
    },
    {
     "name": "stderr",
     "output_type": "stream",
     "text": [
      "Lossy conversion from float32 to uint8. Range [-1.0, 0.9992852210998535]. Convert image to uint8 prior to saving to suppress this warning.\n"
     ]
    },
    {
     "name": "stdout",
     "output_type": "stream",
     "text": [
      "Iteration [57400/300000] | D_real_loss: 0.0695 | D_fake_loss: -0.1949 | G_loss: 0.0622 | D_loss: -0.2643 | Wasserstein_Distance: 0.2643\n",
      "Saved ./results/samples_gan_gp1_lr3e-5/sample-057400.png\n"
     ]
    },
    {
     "name": "stderr",
     "output_type": "stream",
     "text": [
      "Lossy conversion from float32 to uint8. Range [-1.0, 0.9991000294685364]. Convert image to uint8 prior to saving to suppress this warning.\n"
     ]
    },
    {
     "name": "stdout",
     "output_type": "stream",
     "text": [
      "Iteration [57600/300000] | D_real_loss: 0.1584 | D_fake_loss: -0.0630 | G_loss: 0.1624 | D_loss: -0.2214 | Wasserstein_Distance: 0.2214\n",
      "Saved ./results/samples_gan_gp1_lr3e-5/sample-057600.png\n",
      "EPOCH: 149\n"
     ]
    },
    {
     "name": "stderr",
     "output_type": "stream",
     "text": [
      "Lossy conversion from float32 to uint8. Range [-1.0, 0.9989173412322998]. Convert image to uint8 prior to saving to suppress this warning.\n"
     ]
    },
    {
     "name": "stdout",
     "output_type": "stream",
     "text": [
      "Iteration [57800/300000] | D_real_loss: 0.1718 | D_fake_loss: -0.0494 | G_loss: 0.2146 | D_loss: -0.2213 | Wasserstein_Distance: 0.2213\n",
      "Saved ./results/samples_gan_gp1_lr3e-5/sample-057800.png\n"
     ]
    },
    {
     "name": "stderr",
     "output_type": "stream",
     "text": [
      "Lossy conversion from float32 to uint8. Range [-1.0, 0.998694896697998]. Convert image to uint8 prior to saving to suppress this warning.\n"
     ]
    },
    {
     "name": "stdout",
     "output_type": "stream",
     "text": [
      "Iteration [58000/300000] | D_real_loss: 0.1732 | D_fake_loss: -0.0572 | G_loss: 0.1976 | D_loss: -0.2304 | Wasserstein_Distance: 0.2304\n",
      "Saved ./results/samples_gan_gp1_lr3e-5/sample-058000.png\n",
      "EPOCH: 150\n"
     ]
    },
    {
     "name": "stderr",
     "output_type": "stream",
     "text": [
      "Lossy conversion from float32 to uint8. Range [-1.0, 0.9988856315612793]. Convert image to uint8 prior to saving to suppress this warning.\n"
     ]
    },
    {
     "name": "stdout",
     "output_type": "stream",
     "text": [
      "Iteration [58200/300000] | D_real_loss: 0.1833 | D_fake_loss: -0.0554 | G_loss: 0.2102 | D_loss: -0.2387 | Wasserstein_Distance: 0.2387\n",
      "Saved ./results/samples_gan_gp1_lr3e-5/sample-058200.png\n"
     ]
    },
    {
     "name": "stderr",
     "output_type": "stream",
     "text": [
      "Lossy conversion from float32 to uint8. Range [-1.0, 0.9990133047103882]. Convert image to uint8 prior to saving to suppress this warning.\n"
     ]
    },
    {
     "name": "stdout",
     "output_type": "stream",
     "text": [
      "Iteration [58400/300000] | D_real_loss: 0.1622 | D_fake_loss: -0.1081 | G_loss: 0.1890 | D_loss: -0.2703 | Wasserstein_Distance: 0.2703\n",
      "Saved ./results/samples_gan_gp1_lr3e-5/sample-058400.png\n",
      "EPOCH: 151\n"
     ]
    },
    {
     "name": "stderr",
     "output_type": "stream",
     "text": [
      "Lossy conversion from float32 to uint8. Range [-1.0, 0.9988409876823425]. Convert image to uint8 prior to saving to suppress this warning.\n"
     ]
    },
    {
     "name": "stdout",
     "output_type": "stream",
     "text": [
      "Iteration [58600/300000] | D_real_loss: 0.0173 | D_fake_loss: -0.2191 | G_loss: 0.0354 | D_loss: -0.2364 | Wasserstein_Distance: 0.2364\n",
      "Saved ./results/samples_gan_gp1_lr3e-5/sample-058600.png\n"
     ]
    },
    {
     "name": "stderr",
     "output_type": "stream",
     "text": [
      "Lossy conversion from float32 to uint8. Range [-1.0, 0.9989153146743774]. Convert image to uint8 prior to saving to suppress this warning.\n"
     ]
    },
    {
     "name": "stdout",
     "output_type": "stream",
     "text": [
      "Iteration [58800/300000] | D_real_loss: 0.1635 | D_fake_loss: -0.0338 | G_loss: 0.2066 | D_loss: -0.1973 | Wasserstein_Distance: 0.1973\n",
      "Saved ./results/samples_gan_gp1_lr3e-5/sample-058800.png\n",
      "EPOCH: 152\n"
     ]
    },
    {
     "name": "stderr",
     "output_type": "stream",
     "text": [
      "Lossy conversion from float32 to uint8. Range [-1.0, 0.9987736940383911]. Convert image to uint8 prior to saving to suppress this warning.\n"
     ]
    },
    {
     "name": "stdout",
     "output_type": "stream",
     "text": [
      "Iteration [59000/300000] | D_real_loss: 0.1495 | D_fake_loss: -0.0947 | G_loss: 0.1581 | D_loss: -0.2442 | Wasserstein_Distance: 0.2442\n",
      "Saved ./results/samples_gan_gp1_lr3e-5/sample-059000.png\n"
     ]
    },
    {
     "name": "stderr",
     "output_type": "stream",
     "text": [
      "Lossy conversion from float32 to uint8. Range [-1.0, 0.9989523887634277]. Convert image to uint8 prior to saving to suppress this warning.\n"
     ]
    },
    {
     "name": "stdout",
     "output_type": "stream",
     "text": [
      "Iteration [59200/300000] | D_real_loss: 0.0480 | D_fake_loss: -0.1889 | G_loss: 0.0684 | D_loss: -0.2370 | Wasserstein_Distance: 0.2370\n",
      "Saved ./results/samples_gan_gp1_lr3e-5/sample-059200.png\n",
      "EPOCH: 153\n"
     ]
    },
    {
     "name": "stderr",
     "output_type": "stream",
     "text": [
      "Lossy conversion from float32 to uint8. Range [-1.0, 0.9989505410194397]. Convert image to uint8 prior to saving to suppress this warning.\n"
     ]
    },
    {
     "name": "stdout",
     "output_type": "stream",
     "text": [
      "Iteration [59400/300000] | D_real_loss: 0.1954 | D_fake_loss: -0.0502 | G_loss: 0.2311 | D_loss: -0.2456 | Wasserstein_Distance: 0.2456\n",
      "Saved ./results/samples_gan_gp1_lr3e-5/sample-059400.png\n"
     ]
    },
    {
     "name": "stderr",
     "output_type": "stream",
     "text": [
      "Lossy conversion from float32 to uint8. Range [-1.0, 0.9986768364906311]. Convert image to uint8 prior to saving to suppress this warning.\n"
     ]
    },
    {
     "name": "stdout",
     "output_type": "stream",
     "text": [
      "Iteration [59600/300000] | D_real_loss: 0.0371 | D_fake_loss: -0.2058 | G_loss: 0.0666 | D_loss: -0.2429 | Wasserstein_Distance: 0.2429\n",
      "Saved ./results/samples_gan_gp1_lr3e-5/sample-059600.png\n",
      "EPOCH: 154\n"
     ]
    },
    {
     "name": "stderr",
     "output_type": "stream",
     "text": [
      "Lossy conversion from float32 to uint8. Range [-1.0, 0.9993950128555298]. Convert image to uint8 prior to saving to suppress this warning.\n"
     ]
    },
    {
     "name": "stdout",
     "output_type": "stream",
     "text": [
      "Iteration [59800/300000] | D_real_loss: 0.0218 | D_fake_loss: -0.1915 | G_loss: 0.0262 | D_loss: -0.2133 | Wasserstein_Distance: 0.2133\n",
      "Saved ./results/samples_gan_gp1_lr3e-5/sample-059800.png\n"
     ]
    },
    {
     "name": "stderr",
     "output_type": "stream",
     "text": [
      "Lossy conversion from float32 to uint8. Range [-1.0, 0.9993247985839844]. Convert image to uint8 prior to saving to suppress this warning.\n"
     ]
    },
    {
     "name": "stdout",
     "output_type": "stream",
     "text": [
      "Iteration [60000/300000] | D_real_loss: 0.0009 | D_fake_loss: -0.2035 | G_loss: 0.0393 | D_loss: -0.2044 | Wasserstein_Distance: 0.2044\n",
      "Saved ./results/samples_gan_gp1_lr3e-5/sample-060000.png\n",
      "EPOCH: 155\n"
     ]
    },
    {
     "name": "stderr",
     "output_type": "stream",
     "text": [
      "Lossy conversion from float32 to uint8. Range [-1.0, 0.9990792870521545]. Convert image to uint8 prior to saving to suppress this warning.\n"
     ]
    },
    {
     "name": "stdout",
     "output_type": "stream",
     "text": [
      "Iteration [60200/300000] | D_real_loss: 0.1491 | D_fake_loss: -0.0944 | G_loss: 0.1619 | D_loss: -0.2435 | Wasserstein_Distance: 0.2435\n",
      "Saved ./results/samples_gan_gp1_lr3e-5/sample-060200.png\n"
     ]
    },
    {
     "name": "stderr",
     "output_type": "stream",
     "text": [
      "Lossy conversion from float32 to uint8. Range [-1.0, 0.9991864562034607]. Convert image to uint8 prior to saving to suppress this warning.\n"
     ]
    },
    {
     "name": "stdout",
     "output_type": "stream",
     "text": [
      "Iteration [60400/300000] | D_real_loss: 0.1738 | D_fake_loss: -0.0284 | G_loss: 0.2057 | D_loss: -0.2022 | Wasserstein_Distance: 0.2022\n",
      "Saved ./results/samples_gan_gp1_lr3e-5/sample-060400.png\n",
      "EPOCH: 156\n"
     ]
    },
    {
     "name": "stderr",
     "output_type": "stream",
     "text": [
      "Lossy conversion from float32 to uint8. Range [-1.0, 0.9992864727973938]. Convert image to uint8 prior to saving to suppress this warning.\n"
     ]
    },
    {
     "name": "stdout",
     "output_type": "stream",
     "text": [
      "Iteration [60600/300000] | D_real_loss: 0.0973 | D_fake_loss: -0.1461 | G_loss: 0.0820 | D_loss: -0.2435 | Wasserstein_Distance: 0.2435\n",
      "Saved ./results/samples_gan_gp1_lr3e-5/sample-060600.png\n"
     ]
    },
    {
     "name": "stderr",
     "output_type": "stream",
     "text": [
      "Lossy conversion from float32 to uint8. Range [-1.0, 0.9991746544837952]. Convert image to uint8 prior to saving to suppress this warning.\n"
     ]
    },
    {
     "name": "stdout",
     "output_type": "stream",
     "text": [
      "Iteration [60800/300000] | D_real_loss: 0.1784 | D_fake_loss: -0.0710 | G_loss: 0.2091 | D_loss: -0.2494 | Wasserstein_Distance: 0.2494\n",
      "Saved ./results/samples_gan_gp1_lr3e-5/sample-060800.png\n",
      "EPOCH: 157\n"
     ]
    },
    {
     "name": "stderr",
     "output_type": "stream",
     "text": [
      "Lossy conversion from float32 to uint8. Range [-1.0, 0.9989923238754272]. Convert image to uint8 prior to saving to suppress this warning.\n"
     ]
    },
    {
     "name": "stdout",
     "output_type": "stream",
     "text": [
      "Iteration [61000/300000] | D_real_loss: 0.1686 | D_fake_loss: -0.0525 | G_loss: 0.2056 | D_loss: -0.2211 | Wasserstein_Distance: 0.2211\n",
      "Saved ./results/samples_gan_gp1_lr3e-5/sample-061000.png\n"
     ]
    },
    {
     "name": "stderr",
     "output_type": "stream",
     "text": [
      "Lossy conversion from float32 to uint8. Range [-1.0, 0.9993546605110168]. Convert image to uint8 prior to saving to suppress this warning.\n"
     ]
    },
    {
     "name": "stdout",
     "output_type": "stream",
     "text": [
      "Iteration [61200/300000] | D_real_loss: 0.1733 | D_fake_loss: -0.0308 | G_loss: 0.1908 | D_loss: -0.2041 | Wasserstein_Distance: 0.2041\n",
      "Saved ./results/samples_gan_gp1_lr3e-5/sample-061200.png\n",
      "EPOCH: 158\n"
     ]
    },
    {
     "name": "stderr",
     "output_type": "stream",
     "text": [
      "Lossy conversion from float32 to uint8. Range [-1.0, 0.9992516040802002]. Convert image to uint8 prior to saving to suppress this warning.\n"
     ]
    },
    {
     "name": "stdout",
     "output_type": "stream",
     "text": [
      "Iteration [61400/300000] | D_real_loss: 0.1674 | D_fake_loss: -0.0436 | G_loss: 0.1990 | D_loss: -0.2109 | Wasserstein_Distance: 0.2109\n",
      "Saved ./results/samples_gan_gp1_lr3e-5/sample-061400.png\n"
     ]
    },
    {
     "name": "stderr",
     "output_type": "stream",
     "text": [
      "Lossy conversion from float32 to uint8. Range [-1.0, 0.9995202422142029]. Convert image to uint8 prior to saving to suppress this warning.\n"
     ]
    },
    {
     "name": "stdout",
     "output_type": "stream",
     "text": [
      "Iteration [61600/300000] | D_real_loss: 0.0336 | D_fake_loss: -0.1762 | G_loss: 0.1144 | D_loss: -0.2099 | Wasserstein_Distance: 0.2099\n",
      "Saved ./results/samples_gan_gp1_lr3e-5/sample-061600.png\n",
      "EPOCH: 159\n"
     ]
    },
    {
     "name": "stderr",
     "output_type": "stream",
     "text": [
      "Lossy conversion from float32 to uint8. Range [-1.0, 0.9994732141494751]. Convert image to uint8 prior to saving to suppress this warning.\n"
     ]
    },
    {
     "name": "stdout",
     "output_type": "stream",
     "text": [
      "Iteration [61800/300000] | D_real_loss: 0.0215 | D_fake_loss: -0.2028 | G_loss: 0.0261 | D_loss: -0.2243 | Wasserstein_Distance: 0.2243\n",
      "Saved ./results/samples_gan_gp1_lr3e-5/sample-061800.png\n"
     ]
    },
    {
     "name": "stderr",
     "output_type": "stream",
     "text": [
      "Lossy conversion from float32 to uint8. Range [-1.0, 0.999500036239624]. Convert image to uint8 prior to saving to suppress this warning.\n"
     ]
    },
    {
     "name": "stdout",
     "output_type": "stream",
     "text": [
      "Iteration [62000/300000] | D_real_loss: 0.1757 | D_fake_loss: -0.0389 | G_loss: 0.1841 | D_loss: -0.2146 | Wasserstein_Distance: 0.2146\n",
      "Saved ./results/samples_gan_gp1_lr3e-5/sample-062000.png\n",
      "EPOCH: 160\n"
     ]
    },
    {
     "name": "stderr",
     "output_type": "stream",
     "text": [
      "Lossy conversion from float32 to uint8. Range [-1.0, 0.99912428855896]. Convert image to uint8 prior to saving to suppress this warning.\n"
     ]
    },
    {
     "name": "stdout",
     "output_type": "stream",
     "text": [
      "Iteration [62200/300000] | D_real_loss: 0.1720 | D_fake_loss: -0.0421 | G_loss: 0.2045 | D_loss: -0.2141 | Wasserstein_Distance: 0.2141\n",
      "Saved ./results/samples_gan_gp1_lr3e-5/sample-062200.png\n"
     ]
    },
    {
     "name": "stderr",
     "output_type": "stream",
     "text": [
      "Lossy conversion from float32 to uint8. Range [-1.0, 0.9993127584457397]. Convert image to uint8 prior to saving to suppress this warning.\n"
     ]
    },
    {
     "name": "stdout",
     "output_type": "stream",
     "text": [
      "Iteration [62400/300000] | D_real_loss: 0.0365 | D_fake_loss: -0.1904 | G_loss: 0.0691 | D_loss: -0.2269 | Wasserstein_Distance: 0.2269\n",
      "Saved ./results/samples_gan_gp1_lr3e-5/sample-062400.png\n",
      "EPOCH: 161\n"
     ]
    },
    {
     "name": "stderr",
     "output_type": "stream",
     "text": [
      "Lossy conversion from float32 to uint8. Range [-1.0, 0.9994513392448425]. Convert image to uint8 prior to saving to suppress this warning.\n"
     ]
    },
    {
     "name": "stdout",
     "output_type": "stream",
     "text": [
      "Iteration [62600/300000] | D_real_loss: 0.1600 | D_fake_loss: -0.0351 | G_loss: 0.2031 | D_loss: -0.1951 | Wasserstein_Distance: 0.1951\n",
      "Saved ./results/samples_gan_gp1_lr3e-5/sample-062600.png\n",
      "EPOCH: 162\n"
     ]
    },
    {
     "name": "stderr",
     "output_type": "stream",
     "text": [
      "Lossy conversion from float32 to uint8. Range [-1.0, 0.999308705329895]. Convert image to uint8 prior to saving to suppress this warning.\n"
     ]
    },
    {
     "name": "stdout",
     "output_type": "stream",
     "text": [
      "Iteration [62800/300000] | D_real_loss: 0.1565 | D_fake_loss: -0.0554 | G_loss: 0.1864 | D_loss: -0.2119 | Wasserstein_Distance: 0.2119\n",
      "Saved ./results/samples_gan_gp1_lr3e-5/sample-062800.png\n"
     ]
    },
    {
     "name": "stderr",
     "output_type": "stream",
     "text": [
      "Lossy conversion from float32 to uint8. Range [-1.0, 0.9993339776992798]. Convert image to uint8 prior to saving to suppress this warning.\n"
     ]
    },
    {
     "name": "stdout",
     "output_type": "stream",
     "text": [
      "Iteration [63000/300000] | D_real_loss: 0.1967 | D_fake_loss: -0.0032 | G_loss: 0.2075 | D_loss: -0.1998 | Wasserstein_Distance: 0.1998\n",
      "Saved ./results/samples_gan_gp1_lr3e-5/sample-063000.png\n",
      "EPOCH: 163\n"
     ]
    },
    {
     "name": "stderr",
     "output_type": "stream",
     "text": [
      "Lossy conversion from float32 to uint8. Range [-1.0, 0.9993797540664673]. Convert image to uint8 prior to saving to suppress this warning.\n"
     ]
    },
    {
     "name": "stdout",
     "output_type": "stream",
     "text": [
      "Iteration [63200/300000] | D_real_loss: 0.1848 | D_fake_loss: -0.0268 | G_loss: 0.2260 | D_loss: -0.2116 | Wasserstein_Distance: 0.2116\n",
      "Saved ./results/samples_gan_gp1_lr3e-5/sample-063200.png\n"
     ]
    },
    {
     "name": "stderr",
     "output_type": "stream",
     "text": [
      "Lossy conversion from float32 to uint8. Range [-1.0, 0.9993696212768555]. Convert image to uint8 prior to saving to suppress this warning.\n"
     ]
    },
    {
     "name": "stdout",
     "output_type": "stream",
     "text": [
      "Iteration [63400/300000] | D_real_loss: 0.0421 | D_fake_loss: -0.1858 | G_loss: 0.0617 | D_loss: -0.2279 | Wasserstein_Distance: 0.2279\n",
      "Saved ./results/samples_gan_gp1_lr3e-5/sample-063400.png\n",
      "EPOCH: 164\n"
     ]
    },
    {
     "name": "stderr",
     "output_type": "stream",
     "text": [
      "Lossy conversion from float32 to uint8. Range [-1.0, 0.9994378089904785]. Convert image to uint8 prior to saving to suppress this warning.\n"
     ]
    },
    {
     "name": "stdout",
     "output_type": "stream",
     "text": [
      "Iteration [63600/300000] | D_real_loss: 0.1845 | D_fake_loss: -0.0323 | G_loss: 0.2162 | D_loss: -0.2167 | Wasserstein_Distance: 0.2167\n",
      "Saved ./results/samples_gan_gp1_lr3e-5/sample-063600.png\n"
     ]
    },
    {
     "name": "stderr",
     "output_type": "stream",
     "text": [
      "Lossy conversion from float32 to uint8. Range [-1.0, 0.9993646740913391]. Convert image to uint8 prior to saving to suppress this warning.\n"
     ]
    },
    {
     "name": "stdout",
     "output_type": "stream",
     "text": [
      "Iteration [63800/300000] | D_real_loss: 0.1854 | D_fake_loss: -0.0491 | G_loss: 0.2172 | D_loss: -0.2345 | Wasserstein_Distance: 0.2345\n",
      "Saved ./results/samples_gan_gp1_lr3e-5/sample-063800.png\n",
      "EPOCH: 165\n"
     ]
    },
    {
     "name": "stderr",
     "output_type": "stream",
     "text": [
      "Lossy conversion from float32 to uint8. Range [-1.0, 0.9993737936019897]. Convert image to uint8 prior to saving to suppress this warning.\n"
     ]
    },
    {
     "name": "stdout",
     "output_type": "stream",
     "text": [
      "Iteration [64000/300000] | D_real_loss: 0.1532 | D_fake_loss: -0.0789 | G_loss: 0.1866 | D_loss: -0.2321 | Wasserstein_Distance: 0.2321\n",
      "Saved ./results/samples_gan_gp1_lr3e-5/sample-064000.png\n"
     ]
    },
    {
     "name": "stderr",
     "output_type": "stream",
     "text": [
      "Lossy conversion from float32 to uint8. Range [-1.0, 0.9994654655456543]. Convert image to uint8 prior to saving to suppress this warning.\n"
     ]
    },
    {
     "name": "stdout",
     "output_type": "stream",
     "text": [
      "Iteration [64200/300000] | D_real_loss: 0.1711 | D_fake_loss: -0.0762 | G_loss: 0.2232 | D_loss: -0.2473 | Wasserstein_Distance: 0.2473\n",
      "Saved ./results/samples_gan_gp1_lr3e-5/sample-064200.png\n",
      "EPOCH: 166\n"
     ]
    },
    {
     "name": "stderr",
     "output_type": "stream",
     "text": [
      "Lossy conversion from float32 to uint8. Range [-1.0, 0.9995385408401489]. Convert image to uint8 prior to saving to suppress this warning.\n"
     ]
    },
    {
     "name": "stdout",
     "output_type": "stream",
     "text": [
      "Iteration [64400/300000] | D_real_loss: 0.1639 | D_fake_loss: -0.0623 | G_loss: 0.1915 | D_loss: -0.2262 | Wasserstein_Distance: 0.2262\n",
      "Saved ./results/samples_gan_gp1_lr3e-5/sample-064400.png\n"
     ]
    },
    {
     "name": "stderr",
     "output_type": "stream",
     "text": [
      "Lossy conversion from float32 to uint8. Range [-1.0, 0.9995732307434082]. Convert image to uint8 prior to saving to suppress this warning.\n"
     ]
    },
    {
     "name": "stdout",
     "output_type": "stream",
     "text": [
      "Iteration [64600/300000] | D_real_loss: 0.0648 | D_fake_loss: -0.1817 | G_loss: 0.0642 | D_loss: -0.2465 | Wasserstein_Distance: 0.2465\n",
      "Saved ./results/samples_gan_gp1_lr3e-5/sample-064600.png\n",
      "EPOCH: 167\n"
     ]
    },
    {
     "name": "stderr",
     "output_type": "stream",
     "text": [
      "Lossy conversion from float32 to uint8. Range [-1.0, 0.9994628429412842]. Convert image to uint8 prior to saving to suppress this warning.\n"
     ]
    },
    {
     "name": "stdout",
     "output_type": "stream",
     "text": [
      "Iteration [64800/300000] | D_real_loss: -0.0039 | D_fake_loss: -0.2222 | G_loss: 0.0562 | D_loss: -0.2183 | Wasserstein_Distance: 0.2183\n",
      "Saved ./results/samples_gan_gp1_lr3e-5/sample-064800.png\n"
     ]
    },
    {
     "name": "stderr",
     "output_type": "stream",
     "text": [
      "Lossy conversion from float32 to uint8. Range [-1.0, 0.9992145895957947]. Convert image to uint8 prior to saving to suppress this warning.\n"
     ]
    },
    {
     "name": "stdout",
     "output_type": "stream",
     "text": [
      "Iteration [65000/300000] | D_real_loss: 0.0512 | D_fake_loss: -0.1754 | G_loss: 0.0723 | D_loss: -0.2266 | Wasserstein_Distance: 0.2266\n",
      "Saved ./results/samples_gan_gp1_lr3e-5/sample-065000.png\n",
      "EPOCH: 168\n"
     ]
    },
    {
     "name": "stderr",
     "output_type": "stream",
     "text": [
      "Lossy conversion from float32 to uint8. Range [-1.0, 0.9992119669914246]. Convert image to uint8 prior to saving to suppress this warning.\n"
     ]
    },
    {
     "name": "stdout",
     "output_type": "stream",
     "text": [
      "Iteration [65200/300000] | D_real_loss: 0.1780 | D_fake_loss: -0.0290 | G_loss: 0.2213 | D_loss: -0.2070 | Wasserstein_Distance: 0.2070\n",
      "Saved ./results/samples_gan_gp1_lr3e-5/sample-065200.png\n"
     ]
    },
    {
     "name": "stderr",
     "output_type": "stream",
     "text": [
      "Lossy conversion from float32 to uint8. Range [-1.0, 0.9987378716468811]. Convert image to uint8 prior to saving to suppress this warning.\n"
     ]
    },
    {
     "name": "stdout",
     "output_type": "stream",
     "text": [
      "Iteration [65400/300000] | D_real_loss: 0.0172 | D_fake_loss: -0.2194 | G_loss: 0.0373 | D_loss: -0.2365 | Wasserstein_Distance: 0.2365\n",
      "Saved ./results/samples_gan_gp1_lr3e-5/sample-065400.png\n",
      "EPOCH: 169\n"
     ]
    },
    {
     "name": "stderr",
     "output_type": "stream",
     "text": [
      "Lossy conversion from float32 to uint8. Range [-1.0, 0.9990968108177185]. Convert image to uint8 prior to saving to suppress this warning.\n"
     ]
    },
    {
     "name": "stdout",
     "output_type": "stream",
     "text": [
      "Iteration [65600/300000] | D_real_loss: 0.1290 | D_fake_loss: -0.1165 | G_loss: 0.1786 | D_loss: -0.2456 | Wasserstein_Distance: 0.2456\n",
      "Saved ./results/samples_gan_gp1_lr3e-5/sample-065600.png\n"
     ]
    },
    {
     "name": "stderr",
     "output_type": "stream",
     "text": [
      "Lossy conversion from float32 to uint8. Range [-1.0, 0.9989907741546631]. Convert image to uint8 prior to saving to suppress this warning.\n"
     ]
    },
    {
     "name": "stdout",
     "output_type": "stream",
     "text": [
      "Iteration [65800/300000] | D_real_loss: 0.0353 | D_fake_loss: -0.2070 | G_loss: 0.0333 | D_loss: -0.2423 | Wasserstein_Distance: 0.2423\n",
      "Saved ./results/samples_gan_gp1_lr3e-5/sample-065800.png\n",
      "EPOCH: 170\n"
     ]
    },
    {
     "name": "stderr",
     "output_type": "stream",
     "text": [
      "Lossy conversion from float32 to uint8. Range [-1.0, 0.9992002844810486]. Convert image to uint8 prior to saving to suppress this warning.\n"
     ]
    },
    {
     "name": "stdout",
     "output_type": "stream",
     "text": [
      "Iteration [66000/300000] | D_real_loss: 0.0093 | D_fake_loss: -0.1934 | G_loss: 0.0433 | D_loss: -0.2027 | Wasserstein_Distance: 0.2027\n",
      "Saved ./results/samples_gan_gp1_lr3e-5/sample-066000.png\n"
     ]
    },
    {
     "name": "stderr",
     "output_type": "stream",
     "text": [
      "Lossy conversion from float32 to uint8. Range [-1.0, 0.9994080662727356]. Convert image to uint8 prior to saving to suppress this warning.\n"
     ]
    },
    {
     "name": "stdout",
     "output_type": "stream",
     "text": [
      "Iteration [66200/300000] | D_real_loss: 0.0255 | D_fake_loss: -0.1929 | G_loss: 0.0623 | D_loss: -0.2184 | Wasserstein_Distance: 0.2184\n",
      "Saved ./results/samples_gan_gp1_lr3e-5/sample-066200.png\n",
      "EPOCH: 171\n"
     ]
    },
    {
     "name": "stderr",
     "output_type": "stream",
     "text": [
      "Lossy conversion from float32 to uint8. Range [-1.0, 0.9993495345115662]. Convert image to uint8 prior to saving to suppress this warning.\n"
     ]
    },
    {
     "name": "stdout",
     "output_type": "stream",
     "text": [
      "Iteration [66400/300000] | D_real_loss: 0.1771 | D_fake_loss: -0.0313 | G_loss: 0.1994 | D_loss: -0.2085 | Wasserstein_Distance: 0.2085\n",
      "Saved ./results/samples_gan_gp1_lr3e-5/sample-066400.png\n"
     ]
    },
    {
     "name": "stderr",
     "output_type": "stream",
     "text": [
      "Lossy conversion from float32 to uint8. Range [-1.0, 0.99948650598526]. Convert image to uint8 prior to saving to suppress this warning.\n"
     ]
    },
    {
     "name": "stdout",
     "output_type": "stream",
     "text": [
      "Iteration [66600/300000] | D_real_loss: 0.0293 | D_fake_loss: -0.2007 | G_loss: 0.0483 | D_loss: -0.2300 | Wasserstein_Distance: 0.2300\n",
      "Saved ./results/samples_gan_gp1_lr3e-5/sample-066600.png\n",
      "EPOCH: 172\n"
     ]
    },
    {
     "name": "stderr",
     "output_type": "stream",
     "text": [
      "Lossy conversion from float32 to uint8. Range [-1.0, 0.9993025064468384]. Convert image to uint8 prior to saving to suppress this warning.\n"
     ]
    },
    {
     "name": "stdout",
     "output_type": "stream",
     "text": [
      "Iteration [66800/300000] | D_real_loss: 0.1638 | D_fake_loss: -0.0588 | G_loss: 0.2071 | D_loss: -0.2226 | Wasserstein_Distance: 0.2226\n",
      "Saved ./results/samples_gan_gp1_lr3e-5/sample-066800.png\n"
     ]
    },
    {
     "name": "stderr",
     "output_type": "stream",
     "text": [
      "Lossy conversion from float32 to uint8. Range [-1.0, 0.9995455145835876]. Convert image to uint8 prior to saving to suppress this warning.\n"
     ]
    },
    {
     "name": "stdout",
     "output_type": "stream",
     "text": [
      "Iteration [67000/300000] | D_real_loss: 0.0414 | D_fake_loss: -0.1865 | G_loss: 0.0314 | D_loss: -0.2279 | Wasserstein_Distance: 0.2279\n",
      "Saved ./results/samples_gan_gp1_lr3e-5/sample-067000.png\n",
      "EPOCH: 173\n"
     ]
    },
    {
     "name": "stderr",
     "output_type": "stream",
     "text": [
      "Lossy conversion from float32 to uint8. Range [-1.0, 0.9995828866958618]. Convert image to uint8 prior to saving to suppress this warning.\n"
     ]
    },
    {
     "name": "stdout",
     "output_type": "stream",
     "text": [
      "Iteration [67200/300000] | D_real_loss: 0.0667 | D_fake_loss: -0.1799 | G_loss: 0.0927 | D_loss: -0.2465 | Wasserstein_Distance: 0.2465\n",
      "Saved ./results/samples_gan_gp1_lr3e-5/sample-067200.png\n"
     ]
    },
    {
     "name": "stderr",
     "output_type": "stream",
     "text": [
      "Lossy conversion from float32 to uint8. Range [-1.0, 0.9992032051086426]. Convert image to uint8 prior to saving to suppress this warning.\n"
     ]
    },
    {
     "name": "stdout",
     "output_type": "stream",
     "text": [
      "Iteration [67400/300000] | D_real_loss: 0.0607 | D_fake_loss: -0.1689 | G_loss: 0.0385 | D_loss: -0.2296 | Wasserstein_Distance: 0.2296\n",
      "Saved ./results/samples_gan_gp1_lr3e-5/sample-067400.png\n",
      "EPOCH: 174\n"
     ]
    },
    {
     "name": "stderr",
     "output_type": "stream",
     "text": [
      "Lossy conversion from float32 to uint8. Range [-1.0, 0.9991502165794373]. Convert image to uint8 prior to saving to suppress this warning.\n"
     ]
    },
    {
     "name": "stdout",
     "output_type": "stream",
     "text": [
      "Iteration [67600/300000] | D_real_loss: 0.1920 | D_fake_loss: -0.0241 | G_loss: 0.2052 | D_loss: -0.2161 | Wasserstein_Distance: 0.2161\n",
      "Saved ./results/samples_gan_gp1_lr3e-5/sample-067600.png\n"
     ]
    },
    {
     "name": "stderr",
     "output_type": "stream",
     "text": [
      "Lossy conversion from float32 to uint8. Range [-1.0, 0.9992503523826599]. Convert image to uint8 prior to saving to suppress this warning.\n"
     ]
    },
    {
     "name": "stdout",
     "output_type": "stream",
     "text": [
      "Iteration [67800/300000] | D_real_loss: 0.0270 | D_fake_loss: -0.2028 | G_loss: 0.0629 | D_loss: -0.2297 | Wasserstein_Distance: 0.2297\n",
      "Saved ./results/samples_gan_gp1_lr3e-5/sample-067800.png\n",
      "EPOCH: 175\n"
     ]
    },
    {
     "name": "stderr",
     "output_type": "stream",
     "text": [
      "Lossy conversion from float32 to uint8. Range [-1.0, 0.999183714389801]. Convert image to uint8 prior to saving to suppress this warning.\n"
     ]
    },
    {
     "name": "stdout",
     "output_type": "stream",
     "text": [
      "Iteration [68000/300000] | D_real_loss: 0.1780 | D_fake_loss: -0.0693 | G_loss: 0.2064 | D_loss: -0.2473 | Wasserstein_Distance: 0.2473\n",
      "Saved ./results/samples_gan_gp1_lr3e-5/sample-068000.png\n"
     ]
    },
    {
     "name": "stderr",
     "output_type": "stream",
     "text": [
      "Lossy conversion from float32 to uint8. Range [-1.0, 0.9990866780281067]. Convert image to uint8 prior to saving to suppress this warning.\n"
     ]
    },
    {
     "name": "stdout",
     "output_type": "stream",
     "text": [
      "Iteration [68200/300000] | D_real_loss: -0.0202 | D_fake_loss: -0.2055 | G_loss: 0.0528 | D_loss: -0.1853 | Wasserstein_Distance: 0.1853\n",
      "Saved ./results/samples_gan_gp1_lr3e-5/sample-068200.png\n",
      "EPOCH: 176\n"
     ]
    },
    {
     "name": "stderr",
     "output_type": "stream",
     "text": [
      "Lossy conversion from float32 to uint8. Range [-1.0, 0.9991234540939331]. Convert image to uint8 prior to saving to suppress this warning.\n"
     ]
    },
    {
     "name": "stdout",
     "output_type": "stream",
     "text": [
      "Iteration [68400/300000] | D_real_loss: 0.0492 | D_fake_loss: -0.1809 | G_loss: 0.0727 | D_loss: -0.2301 | Wasserstein_Distance: 0.2301\n",
      "Saved ./results/samples_gan_gp1_lr3e-5/sample-068400.png\n"
     ]
    },
    {
     "name": "stderr",
     "output_type": "stream",
     "text": [
      "Lossy conversion from float32 to uint8. Range [-1.0, 0.9995609521865845]. Convert image to uint8 prior to saving to suppress this warning.\n"
     ]
    },
    {
     "name": "stdout",
     "output_type": "stream",
     "text": [
      "Iteration [68600/300000] | D_real_loss: 0.0279 | D_fake_loss: -0.1915 | G_loss: 0.0515 | D_loss: -0.2193 | Wasserstein_Distance: 0.2193\n",
      "Saved ./results/samples_gan_gp1_lr3e-5/sample-068600.png\n",
      "EPOCH: 177\n"
     ]
    },
    {
     "name": "stderr",
     "output_type": "stream",
     "text": [
      "Lossy conversion from float32 to uint8. Range [-1.0, 0.9994569420814514]. Convert image to uint8 prior to saving to suppress this warning.\n"
     ]
    },
    {
     "name": "stdout",
     "output_type": "stream",
     "text": [
      "Iteration [68800/300000] | D_real_loss: 0.0396 | D_fake_loss: -0.1999 | G_loss: 0.0414 | D_loss: -0.2396 | Wasserstein_Distance: 0.2396\n",
      "Saved ./results/samples_gan_gp1_lr3e-5/sample-068800.png\n"
     ]
    },
    {
     "name": "stderr",
     "output_type": "stream",
     "text": [
      "Lossy conversion from float32 to uint8. Range [-1.0, 0.9992445111274719]. Convert image to uint8 prior to saving to suppress this warning.\n"
     ]
    },
    {
     "name": "stdout",
     "output_type": "stream",
     "text": [
      "Iteration [69000/300000] | D_real_loss: 0.0087 | D_fake_loss: -0.1897 | G_loss: 0.0405 | D_loss: -0.1984 | Wasserstein_Distance: 0.1984\n",
      "Saved ./results/samples_gan_gp1_lr3e-5/sample-069000.png\n",
      "EPOCH: 178\n"
     ]
    },
    {
     "name": "stderr",
     "output_type": "stream",
     "text": [
      "Lossy conversion from float32 to uint8. Range [-1.0, 0.9991105794906616]. Convert image to uint8 prior to saving to suppress this warning.\n"
     ]
    },
    {
     "name": "stdout",
     "output_type": "stream",
     "text": [
      "Iteration [69200/300000] | D_real_loss: 0.0433 | D_fake_loss: -0.1758 | G_loss: 0.0648 | D_loss: -0.2191 | Wasserstein_Distance: 0.2191\n",
      "Saved ./results/samples_gan_gp1_lr3e-5/sample-069200.png\n"
     ]
    },
    {
     "name": "stderr",
     "output_type": "stream",
     "text": [
      "Lossy conversion from float32 to uint8. Range [-1.0, 0.9993951916694641]. Convert image to uint8 prior to saving to suppress this warning.\n"
     ]
    },
    {
     "name": "stdout",
     "output_type": "stream",
     "text": [
      "Iteration [69400/300000] | D_real_loss: 0.1910 | D_fake_loss: -0.0178 | G_loss: 0.2138 | D_loss: -0.2088 | Wasserstein_Distance: 0.2088\n",
      "Saved ./results/samples_gan_gp1_lr3e-5/sample-069400.png\n",
      "EPOCH: 179\n"
     ]
    },
    {
     "name": "stderr",
     "output_type": "stream",
     "text": [
      "Lossy conversion from float32 to uint8. Range [-1.0, 0.9994147419929504]. Convert image to uint8 prior to saving to suppress this warning.\n"
     ]
    },
    {
     "name": "stdout",
     "output_type": "stream",
     "text": [
      "Iteration [69600/300000] | D_real_loss: 0.0757 | D_fake_loss: -0.1807 | G_loss: 0.0505 | D_loss: -0.2564 | Wasserstein_Distance: 0.2564\n",
      "Saved ./results/samples_gan_gp1_lr3e-5/sample-069600.png\n"
     ]
    },
    {
     "name": "stderr",
     "output_type": "stream",
     "text": [
      "Lossy conversion from float32 to uint8. Range [-1.0, 0.9993999004364014]. Convert image to uint8 prior to saving to suppress this warning.\n"
     ]
    },
    {
     "name": "stdout",
     "output_type": "stream",
     "text": [
      "Iteration [69800/300000] | D_real_loss: 0.0238 | D_fake_loss: -0.1950 | G_loss: 0.0576 | D_loss: -0.2188 | Wasserstein_Distance: 0.2188\n",
      "Saved ./results/samples_gan_gp1_lr3e-5/sample-069800.png\n",
      "EPOCH: 180\n"
     ]
    },
    {
     "name": "stderr",
     "output_type": "stream",
     "text": [
      "Lossy conversion from float32 to uint8. Range [-1.0, 0.9993488192558289]. Convert image to uint8 prior to saving to suppress this warning.\n"
     ]
    },
    {
     "name": "stdout",
     "output_type": "stream",
     "text": [
      "Iteration [70000/300000] | D_real_loss: 0.1404 | D_fake_loss: -0.0661 | G_loss: 0.1747 | D_loss: -0.2065 | Wasserstein_Distance: 0.2065\n",
      "Saved ./results/samples_gan_gp1_lr3e-5/sample-070000.png\n"
     ]
    },
    {
     "name": "stderr",
     "output_type": "stream",
     "text": [
      "Lossy conversion from float32 to uint8. Range [-1.0, 0.9994279146194458]. Convert image to uint8 prior to saving to suppress this warning.\n"
     ]
    },
    {
     "name": "stdout",
     "output_type": "stream",
     "text": [
      "Iteration [70200/300000] | D_real_loss: 0.1585 | D_fake_loss: -0.0850 | G_loss: 0.2112 | D_loss: -0.2435 | Wasserstein_Distance: 0.2435\n",
      "Saved ./results/samples_gan_gp1_lr3e-5/sample-070200.png\n",
      "EPOCH: 181\n"
     ]
    },
    {
     "name": "stderr",
     "output_type": "stream",
     "text": [
      "Lossy conversion from float32 to uint8. Range [-1.0, 0.9993156790733337]. Convert image to uint8 prior to saving to suppress this warning.\n"
     ]
    },
    {
     "name": "stdout",
     "output_type": "stream",
     "text": [
      "Iteration [70400/300000] | D_real_loss: 0.0119 | D_fake_loss: -0.1955 | G_loss: 0.0392 | D_loss: -0.2074 | Wasserstein_Distance: 0.2074\n",
      "Saved ./results/samples_gan_gp1_lr3e-5/sample-070400.png\n",
      "EPOCH: 182\n"
     ]
    },
    {
     "name": "stderr",
     "output_type": "stream",
     "text": [
      "Lossy conversion from float32 to uint8. Range [-1.0, 0.9994232058525085]. Convert image to uint8 prior to saving to suppress this warning.\n"
     ]
    },
    {
     "name": "stdout",
     "output_type": "stream",
     "text": [
      "Iteration [70600/300000] | D_real_loss: 0.1856 | D_fake_loss: -0.0498 | G_loss: 0.2299 | D_loss: -0.2354 | Wasserstein_Distance: 0.2354\n",
      "Saved ./results/samples_gan_gp1_lr3e-5/sample-070600.png\n"
     ]
    },
    {
     "name": "stderr",
     "output_type": "stream",
     "text": [
      "Lossy conversion from float32 to uint8. Range [-1.0, 0.9996023178100586]. Convert image to uint8 prior to saving to suppress this warning.\n"
     ]
    },
    {
     "name": "stdout",
     "output_type": "stream",
     "text": [
      "Iteration [70800/300000] | D_real_loss: 0.1881 | D_fake_loss: -0.0292 | G_loss: 0.2047 | D_loss: -0.2174 | Wasserstein_Distance: 0.2174\n",
      "Saved ./results/samples_gan_gp1_lr3e-5/sample-070800.png\n",
      "EPOCH: 183\n"
     ]
    },
    {
     "name": "stderr",
     "output_type": "stream",
     "text": [
      "Lossy conversion from float32 to uint8. Range [-1.0, 0.999471127986908]. Convert image to uint8 prior to saving to suppress this warning.\n"
     ]
    },
    {
     "name": "stdout",
     "output_type": "stream",
     "text": [
      "Iteration [71000/300000] | D_real_loss: 0.0360 | D_fake_loss: -0.1662 | G_loss: 0.0045 | D_loss: -0.2021 | Wasserstein_Distance: 0.2021\n",
      "Saved ./results/samples_gan_gp1_lr3e-5/sample-071000.png\n"
     ]
    },
    {
     "name": "stderr",
     "output_type": "stream",
     "text": [
      "Lossy conversion from float32 to uint8. Range [-1.0, 0.9993226528167725]. Convert image to uint8 prior to saving to suppress this warning.\n"
     ]
    },
    {
     "name": "stdout",
     "output_type": "stream",
     "text": [
      "Iteration [71200/300000] | D_real_loss: 0.0255 | D_fake_loss: -0.2057 | G_loss: 0.0573 | D_loss: -0.2313 | Wasserstein_Distance: 0.2313\n",
      "Saved ./results/samples_gan_gp1_lr3e-5/sample-071200.png\n",
      "EPOCH: 184\n"
     ]
    },
    {
     "name": "stderr",
     "output_type": "stream",
     "text": [
      "Lossy conversion from float32 to uint8. Range [-1.0, 0.9995797872543335]. Convert image to uint8 prior to saving to suppress this warning.\n"
     ]
    },
    {
     "name": "stdout",
     "output_type": "stream",
     "text": [
      "Iteration [71400/300000] | D_real_loss: 0.1752 | D_fake_loss: -0.0312 | G_loss: 0.1942 | D_loss: -0.2065 | Wasserstein_Distance: 0.2065\n",
      "Saved ./results/samples_gan_gp1_lr3e-5/sample-071400.png\n"
     ]
    },
    {
     "name": "stderr",
     "output_type": "stream",
     "text": [
      "Lossy conversion from float32 to uint8. Range [-1.0, 0.9993903636932373]. Convert image to uint8 prior to saving to suppress this warning.\n"
     ]
    },
    {
     "name": "stdout",
     "output_type": "stream",
     "text": [
      "Iteration [71600/300000] | D_real_loss: 0.0260 | D_fake_loss: -0.1929 | G_loss: 0.0357 | D_loss: -0.2188 | Wasserstein_Distance: 0.2188\n",
      "Saved ./results/samples_gan_gp1_lr3e-5/sample-071600.png\n",
      "EPOCH: 185\n"
     ]
    },
    {
     "name": "stderr",
     "output_type": "stream",
     "text": [
      "Lossy conversion from float32 to uint8. Range [-1.0, 0.9992957711219788]. Convert image to uint8 prior to saving to suppress this warning.\n"
     ]
    },
    {
     "name": "stdout",
     "output_type": "stream",
     "text": [
      "Iteration [71800/300000] | D_real_loss: 0.1894 | D_fake_loss: -0.0243 | G_loss: 0.2130 | D_loss: -0.2137 | Wasserstein_Distance: 0.2137\n",
      "Saved ./results/samples_gan_gp1_lr3e-5/sample-071800.png\n"
     ]
    },
    {
     "name": "stderr",
     "output_type": "stream",
     "text": [
      "Lossy conversion from float32 to uint8. Range [-1.0, 0.9996483325958252]. Convert image to uint8 prior to saving to suppress this warning.\n"
     ]
    },
    {
     "name": "stdout",
     "output_type": "stream",
     "text": [
      "Iteration [72000/300000] | D_real_loss: 0.0158 | D_fake_loss: -0.2088 | G_loss: 0.0604 | D_loss: -0.2246 | Wasserstein_Distance: 0.2246\n",
      "Saved ./results/samples_gan_gp1_lr3e-5/sample-072000.png\n",
      "EPOCH: 186\n"
     ]
    },
    {
     "name": "stderr",
     "output_type": "stream",
     "text": [
      "Lossy conversion from float32 to uint8. Range [-1.0, 0.9995943903923035]. Convert image to uint8 prior to saving to suppress this warning.\n"
     ]
    },
    {
     "name": "stdout",
     "output_type": "stream",
     "text": [
      "Iteration [72200/300000] | D_real_loss: 0.0210 | D_fake_loss: -0.1870 | G_loss: 0.0285 | D_loss: -0.2080 | Wasserstein_Distance: 0.2080\n",
      "Saved ./results/samples_gan_gp1_lr3e-5/sample-072200.png\n"
     ]
    },
    {
     "name": "stderr",
     "output_type": "stream",
     "text": [
      "Lossy conversion from float32 to uint8. Range [-1.0, 0.9996039867401123]. Convert image to uint8 prior to saving to suppress this warning.\n"
     ]
    },
    {
     "name": "stdout",
     "output_type": "stream",
     "text": [
      "Iteration [72400/300000] | D_real_loss: 0.1802 | D_fake_loss: -0.0404 | G_loss: 0.2115 | D_loss: -0.2205 | Wasserstein_Distance: 0.2205\n",
      "Saved ./results/samples_gan_gp1_lr3e-5/sample-072400.png\n",
      "EPOCH: 187\n"
     ]
    },
    {
     "name": "stderr",
     "output_type": "stream",
     "text": [
      "Lossy conversion from float32 to uint8. Range [-1.0, 0.9997243881225586]. Convert image to uint8 prior to saving to suppress this warning.\n"
     ]
    },
    {
     "name": "stdout",
     "output_type": "stream",
     "text": [
      "Iteration [72600/300000] | D_real_loss: 0.1594 | D_fake_loss: -0.0232 | G_loss: 0.1792 | D_loss: -0.1826 | Wasserstein_Distance: 0.1826\n",
      "Saved ./results/samples_gan_gp1_lr3e-5/sample-072600.png\n"
     ]
    },
    {
     "name": "stderr",
     "output_type": "stream",
     "text": [
      "Lossy conversion from float32 to uint8. Range [-1.0, 0.9995263814926147]. Convert image to uint8 prior to saving to suppress this warning.\n"
     ]
    },
    {
     "name": "stdout",
     "output_type": "stream",
     "text": [
      "Iteration [72800/300000] | D_real_loss: 0.1902 | D_fake_loss: -0.0122 | G_loss: 0.2071 | D_loss: -0.2024 | Wasserstein_Distance: 0.2024\n",
      "Saved ./results/samples_gan_gp1_lr3e-5/sample-072800.png\n",
      "EPOCH: 188\n"
     ]
    },
    {
     "name": "stderr",
     "output_type": "stream",
     "text": [
      "Lossy conversion from float32 to uint8. Range [-1.0, 0.9993319511413574]. Convert image to uint8 prior to saving to suppress this warning.\n"
     ]
    },
    {
     "name": "stdout",
     "output_type": "stream",
     "text": [
      "Iteration [73000/300000] | D_real_loss: -0.0081 | D_fake_loss: -0.2027 | G_loss: 0.0745 | D_loss: -0.1946 | Wasserstein_Distance: 0.1946\n",
      "Saved ./results/samples_gan_gp1_lr3e-5/sample-073000.png\n"
     ]
    },
    {
     "name": "stderr",
     "output_type": "stream",
     "text": [
      "Lossy conversion from float32 to uint8. Range [-1.0, 0.9993932843208313]. Convert image to uint8 prior to saving to suppress this warning.\n"
     ]
    },
    {
     "name": "stdout",
     "output_type": "stream",
     "text": [
      "Iteration [73200/300000] | D_real_loss: 0.0348 | D_fake_loss: -0.1998 | G_loss: 0.0660 | D_loss: -0.2346 | Wasserstein_Distance: 0.2346\n",
      "Saved ./results/samples_gan_gp1_lr3e-5/sample-073200.png\n",
      "EPOCH: 189\n"
     ]
    },
    {
     "name": "stderr",
     "output_type": "stream",
     "text": [
      "Lossy conversion from float32 to uint8. Range [-1.0, 0.9995155930519104]. Convert image to uint8 prior to saving to suppress this warning.\n"
     ]
    },
    {
     "name": "stdout",
     "output_type": "stream",
     "text": [
      "Iteration [73400/300000] | D_real_loss: 0.0182 | D_fake_loss: -0.1935 | G_loss: 0.0298 | D_loss: -0.2117 | Wasserstein_Distance: 0.2117\n",
      "Saved ./results/samples_gan_gp1_lr3e-5/sample-073400.png\n"
     ]
    },
    {
     "name": "stderr",
     "output_type": "stream",
     "text": [
      "Lossy conversion from float32 to uint8. Range [-1.0, 0.9996068477630615]. Convert image to uint8 prior to saving to suppress this warning.\n"
     ]
    },
    {
     "name": "stdout",
     "output_type": "stream",
     "text": [
      "Iteration [73600/300000] | D_real_loss: 0.1713 | D_fake_loss: -0.0398 | G_loss: 0.1940 | D_loss: -0.2111 | Wasserstein_Distance: 0.2111\n",
      "Saved ./results/samples_gan_gp1_lr3e-5/sample-073600.png\n",
      "EPOCH: 190\n"
     ]
    },
    {
     "name": "stderr",
     "output_type": "stream",
     "text": [
      "Lossy conversion from float32 to uint8. Range [-1.0, 0.9995138645172119]. Convert image to uint8 prior to saving to suppress this warning.\n"
     ]
    },
    {
     "name": "stdout",
     "output_type": "stream",
     "text": [
      "Iteration [73800/300000] | D_real_loss: 0.1793 | D_fake_loss: -0.0466 | G_loss: 0.2080 | D_loss: -0.2259 | Wasserstein_Distance: 0.2259\n",
      "Saved ./results/samples_gan_gp1_lr3e-5/sample-073800.png\n"
     ]
    },
    {
     "name": "stderr",
     "output_type": "stream",
     "text": [
      "Lossy conversion from float32 to uint8. Range [-1.0, 0.9994146227836609]. Convert image to uint8 prior to saving to suppress this warning.\n"
     ]
    },
    {
     "name": "stdout",
     "output_type": "stream",
     "text": [
      "Iteration [74000/300000] | D_real_loss: 0.1547 | D_fake_loss: -0.0910 | G_loss: 0.2086 | D_loss: -0.2458 | Wasserstein_Distance: 0.2458\n",
      "Saved ./results/samples_gan_gp1_lr3e-5/sample-074000.png\n",
      "EPOCH: 191\n"
     ]
    },
    {
     "name": "stderr",
     "output_type": "stream",
     "text": [
      "Lossy conversion from float32 to uint8. Range [-1.0, 0.9996715188026428]. Convert image to uint8 prior to saving to suppress this warning.\n"
     ]
    },
    {
     "name": "stdout",
     "output_type": "stream",
     "text": [
      "Iteration [74200/300000] | D_real_loss: -0.0286 | D_fake_loss: -0.2198 | G_loss: 0.0077 | D_loss: -0.1912 | Wasserstein_Distance: 0.1912\n",
      "Saved ./results/samples_gan_gp1_lr3e-5/sample-074200.png\n"
     ]
    },
    {
     "name": "stderr",
     "output_type": "stream",
     "text": [
      "Lossy conversion from float32 to uint8. Range [-1.0, 0.9995636940002441]. Convert image to uint8 prior to saving to suppress this warning.\n"
     ]
    },
    {
     "name": "stdout",
     "output_type": "stream",
     "text": [
      "Iteration [74400/300000] | D_real_loss: 0.0508 | D_fake_loss: -0.1812 | G_loss: 0.0360 | D_loss: -0.2320 | Wasserstein_Distance: 0.2320\n",
      "Saved ./results/samples_gan_gp1_lr3e-5/sample-074400.png\n",
      "EPOCH: 192\n"
     ]
    },
    {
     "name": "stderr",
     "output_type": "stream",
     "text": [
      "Lossy conversion from float32 to uint8. Range [-1.0, 0.9993455410003662]. Convert image to uint8 prior to saving to suppress this warning.\n"
     ]
    },
    {
     "name": "stdout",
     "output_type": "stream",
     "text": [
      "Iteration [74600/300000] | D_real_loss: 0.0231 | D_fake_loss: -0.2027 | G_loss: 0.0234 | D_loss: -0.2257 | Wasserstein_Distance: 0.2257\n",
      "Saved ./results/samples_gan_gp1_lr3e-5/sample-074600.png\n"
     ]
    },
    {
     "name": "stderr",
     "output_type": "stream",
     "text": [
      "Lossy conversion from float32 to uint8. Range [-1.0, 0.9995341897010803]. Convert image to uint8 prior to saving to suppress this warning.\n"
     ]
    },
    {
     "name": "stdout",
     "output_type": "stream",
     "text": [
      "Iteration [74800/300000] | D_real_loss: 0.1939 | D_fake_loss: -0.0155 | G_loss: 0.1863 | D_loss: -0.2094 | Wasserstein_Distance: 0.2094\n",
      "Saved ./results/samples_gan_gp1_lr3e-5/sample-074800.png\n",
      "EPOCH: 193\n"
     ]
    },
    {
     "name": "stderr",
     "output_type": "stream",
     "text": [
      "Lossy conversion from float32 to uint8. Range [-1.0, 0.999286413192749]. Convert image to uint8 prior to saving to suppress this warning.\n"
     ]
    },
    {
     "name": "stdout",
     "output_type": "stream",
     "text": [
      "Iteration [75000/300000] | D_real_loss: 0.1656 | D_fake_loss: -0.0254 | G_loss: 0.1954 | D_loss: -0.1910 | Wasserstein_Distance: 0.1910\n",
      "Saved ./results/samples_gan_gp1_lr3e-5/sample-075000.png\n"
     ]
    },
    {
     "name": "stderr",
     "output_type": "stream",
     "text": [
      "Lossy conversion from float32 to uint8. Range [-1.0, 0.9991512894630432]. Convert image to uint8 prior to saving to suppress this warning.\n"
     ]
    },
    {
     "name": "stdout",
     "output_type": "stream",
     "text": [
      "Iteration [75200/300000] | D_real_loss: 0.0316 | D_fake_loss: -0.1839 | G_loss: 0.0509 | D_loss: -0.2155 | Wasserstein_Distance: 0.2155\n",
      "Saved ./results/samples_gan_gp1_lr3e-5/sample-075200.png\n",
      "EPOCH: 194\n"
     ]
    },
    {
     "name": "stderr",
     "output_type": "stream",
     "text": [
      "Lossy conversion from float32 to uint8. Range [-1.0, 0.9995127320289612]. Convert image to uint8 prior to saving to suppress this warning.\n"
     ]
    },
    {
     "name": "stdout",
     "output_type": "stream",
     "text": [
      "Iteration [75400/300000] | D_real_loss: 0.1841 | D_fake_loss: -0.0364 | G_loss: 0.2144 | D_loss: -0.2205 | Wasserstein_Distance: 0.2205\n",
      "Saved ./results/samples_gan_gp1_lr3e-5/sample-075400.png\n"
     ]
    },
    {
     "name": "stderr",
     "output_type": "stream",
     "text": [
      "Lossy conversion from float32 to uint8. Range [-1.0, 0.9995837211608887]. Convert image to uint8 prior to saving to suppress this warning.\n"
     ]
    },
    {
     "name": "stdout",
     "output_type": "stream",
     "text": [
      "Iteration [75600/300000] | D_real_loss: 0.1844 | D_fake_loss: -0.0336 | G_loss: 0.2106 | D_loss: -0.2180 | Wasserstein_Distance: 0.2180\n",
      "Saved ./results/samples_gan_gp1_lr3e-5/sample-075600.png\n",
      "EPOCH: 195\n"
     ]
    },
    {
     "name": "stderr",
     "output_type": "stream",
     "text": [
      "Lossy conversion from float32 to uint8. Range [-1.0, 0.9996336102485657]. Convert image to uint8 prior to saving to suppress this warning.\n"
     ]
    },
    {
     "name": "stdout",
     "output_type": "stream",
     "text": [
      "Iteration [75800/300000] | D_real_loss: 0.1921 | D_fake_loss: -0.0257 | G_loss: 0.2123 | D_loss: -0.2178 | Wasserstein_Distance: 0.2178\n",
      "Saved ./results/samples_gan_gp1_lr3e-5/sample-075800.png\n"
     ]
    },
    {
     "name": "stderr",
     "output_type": "stream",
     "text": [
      "Lossy conversion from float32 to uint8. Range [-1.0, 0.9993851184844971]. Convert image to uint8 prior to saving to suppress this warning.\n"
     ]
    },
    {
     "name": "stdout",
     "output_type": "stream",
     "text": [
      "Iteration [76000/300000] | D_real_loss: 0.1627 | D_fake_loss: -0.0319 | G_loss: 0.1849 | D_loss: -0.1946 | Wasserstein_Distance: 0.1946\n",
      "Saved ./results/samples_gan_gp1_lr3e-5/sample-076000.png\n",
      "EPOCH: 196\n"
     ]
    },
    {
     "name": "stderr",
     "output_type": "stream",
     "text": [
      "Lossy conversion from float32 to uint8. Range [-1.0, 0.9993147850036621]. Convert image to uint8 prior to saving to suppress this warning.\n"
     ]
    },
    {
     "name": "stdout",
     "output_type": "stream",
     "text": [
      "Iteration [76200/300000] | D_real_loss: 0.1888 | D_fake_loss: 0.0197 | G_loss: 0.1563 | D_loss: -0.1691 | Wasserstein_Distance: 0.1691\n",
      "Saved ./results/samples_gan_gp1_lr3e-5/sample-076200.png\n"
     ]
    },
    {
     "name": "stderr",
     "output_type": "stream",
     "text": [
      "Lossy conversion from float32 to uint8. Range [-1.0, 0.9994633197784424]. Convert image to uint8 prior to saving to suppress this warning.\n"
     ]
    },
    {
     "name": "stdout",
     "output_type": "stream",
     "text": [
      "Iteration [76400/300000] | D_real_loss: 0.0240 | D_fake_loss: -0.1935 | G_loss: 0.0509 | D_loss: -0.2175 | Wasserstein_Distance: 0.2175\n",
      "Saved ./results/samples_gan_gp1_lr3e-5/sample-076400.png\n",
      "EPOCH: 197\n"
     ]
    },
    {
     "name": "stderr",
     "output_type": "stream",
     "text": [
      "Lossy conversion from float32 to uint8. Range [-1.0, 0.9995922446250916]. Convert image to uint8 prior to saving to suppress this warning.\n"
     ]
    },
    {
     "name": "stdout",
     "output_type": "stream",
     "text": [
      "Iteration [76600/300000] | D_real_loss: 0.0247 | D_fake_loss: -0.2078 | G_loss: 0.0288 | D_loss: -0.2325 | Wasserstein_Distance: 0.2325\n",
      "Saved ./results/samples_gan_gp1_lr3e-5/sample-076600.png\n"
     ]
    },
    {
     "name": "stderr",
     "output_type": "stream",
     "text": [
      "Lossy conversion from float32 to uint8. Range [-1.0, 0.9991865754127502]. Convert image to uint8 prior to saving to suppress this warning.\n"
     ]
    },
    {
     "name": "stdout",
     "output_type": "stream",
     "text": [
      "Iteration [76800/300000] | D_real_loss: 0.1438 | D_fake_loss: -0.0628 | G_loss: 0.1930 | D_loss: -0.2066 | Wasserstein_Distance: 0.2066\n",
      "Saved ./results/samples_gan_gp1_lr3e-5/sample-076800.png\n",
      "EPOCH: 198\n"
     ]
    },
    {
     "name": "stderr",
     "output_type": "stream",
     "text": [
      "Lossy conversion from float32 to uint8. Range [-1.0, 0.9993821382522583]. Convert image to uint8 prior to saving to suppress this warning.\n"
     ]
    },
    {
     "name": "stdout",
     "output_type": "stream",
     "text": [
      "Iteration [77000/300000] | D_real_loss: 0.2006 | D_fake_loss: 0.0022 | G_loss: 0.2046 | D_loss: -0.1984 | Wasserstein_Distance: 0.1984\n",
      "Saved ./results/samples_gan_gp1_lr3e-5/sample-077000.png\n"
     ]
    },
    {
     "name": "stderr",
     "output_type": "stream",
     "text": [
      "Lossy conversion from float32 to uint8. Range [-1.0, 0.9993599653244019]. Convert image to uint8 prior to saving to suppress this warning.\n"
     ]
    },
    {
     "name": "stdout",
     "output_type": "stream",
     "text": [
      "Iteration [77200/300000] | D_real_loss: 0.0124 | D_fake_loss: -0.1918 | G_loss: 0.0575 | D_loss: -0.2042 | Wasserstein_Distance: 0.2042\n",
      "Saved ./results/samples_gan_gp1_lr3e-5/sample-077200.png\n",
      "EPOCH: 199\n"
     ]
    },
    {
     "name": "stderr",
     "output_type": "stream",
     "text": [
      "Lossy conversion from float32 to uint8. Range [-1.0, 0.9992876648902893]. Convert image to uint8 prior to saving to suppress this warning.\n"
     ]
    },
    {
     "name": "stdout",
     "output_type": "stream",
     "text": [
      "Iteration [77400/300000] | D_real_loss: -0.0183 | D_fake_loss: -0.2044 | G_loss: 0.0523 | D_loss: -0.1861 | Wasserstein_Distance: 0.1861\n",
      "Saved ./results/samples_gan_gp1_lr3e-5/sample-077400.png\n"
     ]
    },
    {
     "name": "stderr",
     "output_type": "stream",
     "text": [
      "Lossy conversion from float32 to uint8. Range [-1.0, 0.9993647933006287]. Convert image to uint8 prior to saving to suppress this warning.\n"
     ]
    },
    {
     "name": "stdout",
     "output_type": "stream",
     "text": [
      "Iteration [77600/300000] | D_real_loss: 0.1418 | D_fake_loss: -0.0720 | G_loss: 0.1829 | D_loss: -0.2139 | Wasserstein_Distance: 0.2139\n",
      "Saved ./results/samples_gan_gp1_lr3e-5/sample-077600.png\n",
      "EPOCH: 200\n"
     ]
    },
    {
     "name": "stderr",
     "output_type": "stream",
     "text": [
      "Lossy conversion from float32 to uint8. Range [-1.0, 0.9993107914924622]. Convert image to uint8 prior to saving to suppress this warning.\n"
     ]
    },
    {
     "name": "stdout",
     "output_type": "stream",
     "text": [
      "Iteration [77800/300000] | D_real_loss: 0.0305 | D_fake_loss: -0.2137 | G_loss: 0.0209 | D_loss: -0.2442 | Wasserstein_Distance: 0.2442\n",
      "Saved ./results/samples_gan_gp1_lr3e-5/sample-077800.png\n"
     ]
    },
    {
     "name": "stderr",
     "output_type": "stream",
     "text": [
      "Lossy conversion from float32 to uint8. Range [-1.0, 0.9995409846305847]. Convert image to uint8 prior to saving to suppress this warning.\n"
     ]
    },
    {
     "name": "stdout",
     "output_type": "stream",
     "text": [
      "Iteration [78000/300000] | D_real_loss: 0.0259 | D_fake_loss: -0.2068 | G_loss: 0.0369 | D_loss: -0.2328 | Wasserstein_Distance: 0.2328\n",
      "Saved ./results/samples_gan_gp1_lr3e-5/sample-078000.png\n",
      "EPOCH: 201\n"
     ]
    },
    {
     "name": "stderr",
     "output_type": "stream",
     "text": [
      "Lossy conversion from float32 to uint8. Range [-1.0, 0.9994274377822876]. Convert image to uint8 prior to saving to suppress this warning.\n"
     ]
    },
    {
     "name": "stdout",
     "output_type": "stream",
     "text": [
      "Iteration [78200/300000] | D_real_loss: 0.1514 | D_fake_loss: -0.0409 | G_loss: 0.1676 | D_loss: -0.1923 | Wasserstein_Distance: 0.1923\n",
      "Saved ./results/samples_gan_gp1_lr3e-5/sample-078200.png\n",
      "EPOCH: 202\n"
     ]
    },
    {
     "name": "stderr",
     "output_type": "stream",
     "text": [
      "Lossy conversion from float32 to uint8. Range [-1.0, 0.999559760093689]. Convert image to uint8 prior to saving to suppress this warning.\n"
     ]
    },
    {
     "name": "stdout",
     "output_type": "stream",
     "text": [
      "Iteration [78400/300000] | D_real_loss: 0.0164 | D_fake_loss: -0.2022 | G_loss: 0.0108 | D_loss: -0.2186 | Wasserstein_Distance: 0.2186\n",
      "Saved ./results/samples_gan_gp1_lr3e-5/sample-078400.png\n"
     ]
    },
    {
     "name": "stderr",
     "output_type": "stream",
     "text": [
      "Lossy conversion from float32 to uint8. Range [-1.0, 0.9995667934417725]. Convert image to uint8 prior to saving to suppress this warning.\n"
     ]
    },
    {
     "name": "stdout",
     "output_type": "stream",
     "text": [
      "Iteration [78600/300000] | D_real_loss: 0.1820 | D_fake_loss: -0.0370 | G_loss: 0.2068 | D_loss: -0.2190 | Wasserstein_Distance: 0.2190\n",
      "Saved ./results/samples_gan_gp1_lr3e-5/sample-078600.png\n",
      "EPOCH: 203\n"
     ]
    },
    {
     "name": "stderr",
     "output_type": "stream",
     "text": [
      "Lossy conversion from float32 to uint8. Range [-1.0, 0.999478280544281]. Convert image to uint8 prior to saving to suppress this warning.\n"
     ]
    },
    {
     "name": "stdout",
     "output_type": "stream",
     "text": [
      "Iteration [78800/300000] | D_real_loss: 0.1664 | D_fake_loss: -0.0463 | G_loss: 0.1975 | D_loss: -0.2127 | Wasserstein_Distance: 0.2127\n",
      "Saved ./results/samples_gan_gp1_lr3e-5/sample-078800.png\n"
     ]
    },
    {
     "name": "stderr",
     "output_type": "stream",
     "text": [
      "Lossy conversion from float32 to uint8. Range [-1.0, 0.9993856549263]. Convert image to uint8 prior to saving to suppress this warning.\n"
     ]
    },
    {
     "name": "stdout",
     "output_type": "stream",
     "text": [
      "Iteration [79000/300000] | D_real_loss: 0.1754 | D_fake_loss: -0.0289 | G_loss: 0.2241 | D_loss: -0.2043 | Wasserstein_Distance: 0.2043\n",
      "Saved ./results/samples_gan_gp1_lr3e-5/sample-079000.png\n",
      "EPOCH: 204\n"
     ]
    },
    {
     "name": "stderr",
     "output_type": "stream",
     "text": [
      "Lossy conversion from float32 to uint8. Range [-1.0, 0.9994814991950989]. Convert image to uint8 prior to saving to suppress this warning.\n"
     ]
    },
    {
     "name": "stdout",
     "output_type": "stream",
     "text": [
      "Iteration [79200/300000] | D_real_loss: 0.0353 | D_fake_loss: -0.1932 | G_loss: 0.0372 | D_loss: -0.2286 | Wasserstein_Distance: 0.2286\n",
      "Saved ./results/samples_gan_gp1_lr3e-5/sample-079200.png\n"
     ]
    },
    {
     "name": "stderr",
     "output_type": "stream",
     "text": [
      "Lossy conversion from float32 to uint8. Range [-1.0, 0.999362587928772]. Convert image to uint8 prior to saving to suppress this warning.\n"
     ]
    },
    {
     "name": "stdout",
     "output_type": "stream",
     "text": [
      "Iteration [79400/300000] | D_real_loss: -0.0126 | D_fake_loss: -0.1958 | G_loss: 0.0309 | D_loss: -0.1832 | Wasserstein_Distance: 0.1832\n",
      "Saved ./results/samples_gan_gp1_lr3e-5/sample-079400.png\n",
      "EPOCH: 205\n"
     ]
    },
    {
     "name": "stderr",
     "output_type": "stream",
     "text": [
      "Lossy conversion from float32 to uint8. Range [-1.0, 0.9997819662094116]. Convert image to uint8 prior to saving to suppress this warning.\n"
     ]
    },
    {
     "name": "stdout",
     "output_type": "stream",
     "text": [
      "Iteration [79600/300000] | D_real_loss: -0.0643 | D_fake_loss: -0.2316 | G_loss: 0.0410 | D_loss: -0.1673 | Wasserstein_Distance: 0.1673\n",
      "Saved ./results/samples_gan_gp1_lr3e-5/sample-079600.png\n"
     ]
    },
    {
     "name": "stderr",
     "output_type": "stream",
     "text": [
      "Lossy conversion from float32 to uint8. Range [-1.0, 0.999657154083252]. Convert image to uint8 prior to saving to suppress this warning.\n"
     ]
    },
    {
     "name": "stdout",
     "output_type": "stream",
     "text": [
      "Iteration [79800/300000] | D_real_loss: -0.0212 | D_fake_loss: -0.2119 | G_loss: 0.0445 | D_loss: -0.1907 | Wasserstein_Distance: 0.1907\n",
      "Saved ./results/samples_gan_gp1_lr3e-5/sample-079800.png\n",
      "EPOCH: 206\n"
     ]
    },
    {
     "name": "stderr",
     "output_type": "stream",
     "text": [
      "Lossy conversion from float32 to uint8. Range [-1.0, 0.9996176958084106]. Convert image to uint8 prior to saving to suppress this warning.\n"
     ]
    },
    {
     "name": "stdout",
     "output_type": "stream",
     "text": [
      "Iteration [80000/300000] | D_real_loss: 0.1455 | D_fake_loss: -0.0982 | G_loss: 0.1893 | D_loss: -0.2437 | Wasserstein_Distance: 0.2437\n",
      "Saved ./results/samples_gan_gp1_lr3e-5/sample-080000.png\n"
     ]
    },
    {
     "name": "stderr",
     "output_type": "stream",
     "text": [
      "Lossy conversion from float32 to uint8. Range [-1.0, 0.9997177720069885]. Convert image to uint8 prior to saving to suppress this warning.\n"
     ]
    },
    {
     "name": "stdout",
     "output_type": "stream",
     "text": [
      "Iteration [80200/300000] | D_real_loss: 0.1661 | D_fake_loss: -0.0748 | G_loss: 0.1975 | D_loss: -0.2409 | Wasserstein_Distance: 0.2409\n",
      "Saved ./results/samples_gan_gp1_lr3e-5/sample-080200.png\n",
      "EPOCH: 207\n"
     ]
    },
    {
     "name": "stderr",
     "output_type": "stream",
     "text": [
      "Lossy conversion from float32 to uint8. Range [-1.0, 0.9996339678764343]. Convert image to uint8 prior to saving to suppress this warning.\n"
     ]
    },
    {
     "name": "stdout",
     "output_type": "stream",
     "text": [
      "Iteration [80400/300000] | D_real_loss: 0.0329 | D_fake_loss: -0.1839 | G_loss: 0.0321 | D_loss: -0.2168 | Wasserstein_Distance: 0.2168\n",
      "Saved ./results/samples_gan_gp1_lr3e-5/sample-080400.png\n"
     ]
    },
    {
     "name": "stderr",
     "output_type": "stream",
     "text": [
      "Lossy conversion from float32 to uint8. Range [-1.0, 0.9995338916778564]. Convert image to uint8 prior to saving to suppress this warning.\n"
     ]
    },
    {
     "name": "stdout",
     "output_type": "stream",
     "text": [
      "Iteration [80600/300000] | D_real_loss: -0.0145 | D_fake_loss: -0.2024 | G_loss: 0.0156 | D_loss: -0.1880 | Wasserstein_Distance: 0.1880\n",
      "Saved ./results/samples_gan_gp1_lr3e-5/sample-080600.png\n",
      "EPOCH: 208\n"
     ]
    },
    {
     "name": "stderr",
     "output_type": "stream",
     "text": [
      "Lossy conversion from float32 to uint8. Range [-1.0, 0.9989028573036194]. Convert image to uint8 prior to saving to suppress this warning.\n"
     ]
    },
    {
     "name": "stdout",
     "output_type": "stream",
     "text": [
      "Iteration [80800/300000] | D_real_loss: 0.0192 | D_fake_loss: -0.2009 | G_loss: 0.0345 | D_loss: -0.2200 | Wasserstein_Distance: 0.2200\n",
      "Saved ./results/samples_gan_gp1_lr3e-5/sample-080800.png\n"
     ]
    },
    {
     "name": "stderr",
     "output_type": "stream",
     "text": [
      "Lossy conversion from float32 to uint8. Range [-1.0, 0.9996472001075745]. Convert image to uint8 prior to saving to suppress this warning.\n"
     ]
    },
    {
     "name": "stdout",
     "output_type": "stream",
     "text": [
      "Iteration [81000/300000] | D_real_loss: 0.0480 | D_fake_loss: -0.1669 | G_loss: 0.0379 | D_loss: -0.2149 | Wasserstein_Distance: 0.2149\n",
      "Saved ./results/samples_gan_gp1_lr3e-5/sample-081000.png\n",
      "EPOCH: 209\n"
     ]
    },
    {
     "name": "stderr",
     "output_type": "stream",
     "text": [
      "Lossy conversion from float32 to uint8. Range [-1.0, 0.9995755553245544]. Convert image to uint8 prior to saving to suppress this warning.\n"
     ]
    },
    {
     "name": "stdout",
     "output_type": "stream",
     "text": [
      "Iteration [81200/300000] | D_real_loss: 0.0728 | D_fake_loss: -0.1816 | G_loss: 0.0534 | D_loss: -0.2544 | Wasserstein_Distance: 0.2544\n",
      "Saved ./results/samples_gan_gp1_lr3e-5/sample-081200.png\n"
     ]
    },
    {
     "name": "stderr",
     "output_type": "stream",
     "text": [
      "Lossy conversion from float32 to uint8. Range [-1.0, 0.9997382164001465]. Convert image to uint8 prior to saving to suppress this warning.\n"
     ]
    },
    {
     "name": "stdout",
     "output_type": "stream",
     "text": [
      "Iteration [81400/300000] | D_real_loss: 0.1732 | D_fake_loss: -0.0338 | G_loss: 0.2123 | D_loss: -0.2070 | Wasserstein_Distance: 0.2070\n",
      "Saved ./results/samples_gan_gp1_lr3e-5/sample-081400.png\n",
      "EPOCH: 210\n"
     ]
    },
    {
     "name": "stderr",
     "output_type": "stream",
     "text": [
      "Lossy conversion from float32 to uint8. Range [-1.0, 0.999564528465271]. Convert image to uint8 prior to saving to suppress this warning.\n"
     ]
    },
    {
     "name": "stdout",
     "output_type": "stream",
     "text": [
      "Iteration [81600/300000] | D_real_loss: 0.1714 | D_fake_loss: -0.0275 | G_loss: 0.1941 | D_loss: -0.1988 | Wasserstein_Distance: 0.1988\n",
      "Saved ./results/samples_gan_gp1_lr3e-5/sample-081600.png\n"
     ]
    },
    {
     "name": "stderr",
     "output_type": "stream",
     "text": [
      "Lossy conversion from float32 to uint8. Range [-1.0, 0.999567985534668]. Convert image to uint8 prior to saving to suppress this warning.\n"
     ]
    },
    {
     "name": "stdout",
     "output_type": "stream",
     "text": [
      "Iteration [81800/300000] | D_real_loss: 0.0078 | D_fake_loss: -0.1949 | G_loss: 0.0377 | D_loss: -0.2027 | Wasserstein_Distance: 0.2027\n",
      "Saved ./results/samples_gan_gp1_lr3e-5/sample-081800.png\n",
      "EPOCH: 211\n"
     ]
    },
    {
     "name": "stderr",
     "output_type": "stream",
     "text": [
      "Lossy conversion from float32 to uint8. Range [-1.0, 0.9996300339698792]. Convert image to uint8 prior to saving to suppress this warning.\n"
     ]
    },
    {
     "name": "stdout",
     "output_type": "stream",
     "text": [
      "Iteration [82000/300000] | D_real_loss: 0.1852 | D_fake_loss: -0.0183 | G_loss: 0.2091 | D_loss: -0.2035 | Wasserstein_Distance: 0.2035\n",
      "Saved ./results/samples_gan_gp1_lr3e-5/sample-082000.png\n"
     ]
    },
    {
     "name": "stderr",
     "output_type": "stream",
     "text": [
      "Lossy conversion from float32 to uint8. Range [-1.0, 0.9995087385177612]. Convert image to uint8 prior to saving to suppress this warning.\n"
     ]
    },
    {
     "name": "stdout",
     "output_type": "stream",
     "text": [
      "Iteration [82200/300000] | D_real_loss: 0.1655 | D_fake_loss: -0.0754 | G_loss: 0.1995 | D_loss: -0.2409 | Wasserstein_Distance: 0.2409\n",
      "Saved ./results/samples_gan_gp1_lr3e-5/sample-082200.png\n",
      "EPOCH: 212\n"
     ]
    },
    {
     "name": "stderr",
     "output_type": "stream",
     "text": [
      "Lossy conversion from float32 to uint8. Range [-1.0, 0.9996848106384277]. Convert image to uint8 prior to saving to suppress this warning.\n"
     ]
    },
    {
     "name": "stdout",
     "output_type": "stream",
     "text": [
      "Iteration [82400/300000] | D_real_loss: 0.0049 | D_fake_loss: -0.2146 | G_loss: 0.0301 | D_loss: -0.2195 | Wasserstein_Distance: 0.2195\n",
      "Saved ./results/samples_gan_gp1_lr3e-5/sample-082400.png\n"
     ]
    },
    {
     "name": "stderr",
     "output_type": "stream",
     "text": [
      "Lossy conversion from float32 to uint8. Range [-1.0, 0.9994825720787048]. Convert image to uint8 prior to saving to suppress this warning.\n"
     ]
    },
    {
     "name": "stdout",
     "output_type": "stream",
     "text": [
      "Iteration [82600/300000] | D_real_loss: 0.0566 | D_fake_loss: -0.1800 | G_loss: 0.0265 | D_loss: -0.2366 | Wasserstein_Distance: 0.2366\n",
      "Saved ./results/samples_gan_gp1_lr3e-5/sample-082600.png\n",
      "EPOCH: 213\n"
     ]
    },
    {
     "name": "stderr",
     "output_type": "stream",
     "text": [
      "Lossy conversion from float32 to uint8. Range [-1.0, 0.9997462630271912]. Convert image to uint8 prior to saving to suppress this warning.\n"
     ]
    },
    {
     "name": "stdout",
     "output_type": "stream",
     "text": [
      "Iteration [82800/300000] | D_real_loss: 0.0344 | D_fake_loss: -0.1892 | G_loss: 0.0584 | D_loss: -0.2236 | Wasserstein_Distance: 0.2236\n",
      "Saved ./results/samples_gan_gp1_lr3e-5/sample-082800.png\n"
     ]
    },
    {
     "name": "stderr",
     "output_type": "stream",
     "text": [
      "Lossy conversion from float32 to uint8. Range [-1.0, 0.9997773170471191]. Convert image to uint8 prior to saving to suppress this warning.\n"
     ]
    },
    {
     "name": "stdout",
     "output_type": "stream",
     "text": [
      "Iteration [83000/300000] | D_real_loss: 0.1766 | D_fake_loss: -0.0222 | G_loss: 0.2035 | D_loss: -0.1989 | Wasserstein_Distance: 0.1989\n",
      "Saved ./results/samples_gan_gp1_lr3e-5/sample-083000.png\n",
      "EPOCH: 214\n"
     ]
    },
    {
     "name": "stderr",
     "output_type": "stream",
     "text": [
      "Lossy conversion from float32 to uint8. Range [-1.0, 0.9997433423995972]. Convert image to uint8 prior to saving to suppress this warning.\n"
     ]
    },
    {
     "name": "stdout",
     "output_type": "stream",
     "text": [
      "Iteration [83200/300000] | D_real_loss: 0.0250 | D_fake_loss: -0.1887 | G_loss: 0.0402 | D_loss: -0.2137 | Wasserstein_Distance: 0.2137\n",
      "Saved ./results/samples_gan_gp1_lr3e-5/sample-083200.png\n"
     ]
    },
    {
     "name": "stderr",
     "output_type": "stream",
     "text": [
      "Lossy conversion from float32 to uint8. Range [-1.0, 0.9997272491455078]. Convert image to uint8 prior to saving to suppress this warning.\n"
     ]
    },
    {
     "name": "stdout",
     "output_type": "stream",
     "text": [
      "Iteration [83400/300000] | D_real_loss: 0.1588 | D_fake_loss: -0.0417 | G_loss: 0.1853 | D_loss: -0.2006 | Wasserstein_Distance: 0.2006\n",
      "Saved ./results/samples_gan_gp1_lr3e-5/sample-083400.png\n",
      "EPOCH: 215\n"
     ]
    },
    {
     "name": "stderr",
     "output_type": "stream",
     "text": [
      "Lossy conversion from float32 to uint8. Range [-1.0, 0.999791145324707]. Convert image to uint8 prior to saving to suppress this warning.\n"
     ]
    },
    {
     "name": "stdout",
     "output_type": "stream",
     "text": [
      "Iteration [83600/300000] | D_real_loss: 0.1696 | D_fake_loss: -0.0276 | G_loss: 0.1849 | D_loss: -0.1973 | Wasserstein_Distance: 0.1973\n",
      "Saved ./results/samples_gan_gp1_lr3e-5/sample-083600.png\n"
     ]
    },
    {
     "name": "stderr",
     "output_type": "stream",
     "text": [
      "Lossy conversion from float32 to uint8. Range [-1.0, 0.9998154044151306]. Convert image to uint8 prior to saving to suppress this warning.\n"
     ]
    },
    {
     "name": "stdout",
     "output_type": "stream",
     "text": [
      "Iteration [83800/300000] | D_real_loss: 0.0988 | D_fake_loss: -0.1446 | G_loss: 0.0820 | D_loss: -0.2435 | Wasserstein_Distance: 0.2435\n",
      "Saved ./results/samples_gan_gp1_lr3e-5/sample-083800.png\n",
      "EPOCH: 216\n"
     ]
    },
    {
     "name": "stderr",
     "output_type": "stream",
     "text": [
      "Lossy conversion from float32 to uint8. Range [-1.0, 0.9997258186340332]. Convert image to uint8 prior to saving to suppress this warning.\n"
     ]
    },
    {
     "name": "stdout",
     "output_type": "stream",
     "text": [
      "Iteration [84000/300000] | D_real_loss: 0.1696 | D_fake_loss: -0.0373 | G_loss: 0.1836 | D_loss: -0.2069 | Wasserstein_Distance: 0.2069\n",
      "Saved ./results/samples_gan_gp1_lr3e-5/sample-084000.png\n"
     ]
    },
    {
     "name": "stderr",
     "output_type": "stream",
     "text": [
      "Lossy conversion from float32 to uint8. Range [-1.0, 0.9997931122779846]. Convert image to uint8 prior to saving to suppress this warning.\n"
     ]
    },
    {
     "name": "stdout",
     "output_type": "stream",
     "text": [
      "Iteration [84200/300000] | D_real_loss: -0.0297 | D_fake_loss: -0.2083 | G_loss: 0.0301 | D_loss: -0.1785 | Wasserstein_Distance: 0.1785\n",
      "Saved ./results/samples_gan_gp1_lr3e-5/sample-084200.png\n",
      "EPOCH: 217\n"
     ]
    },
    {
     "name": "stderr",
     "output_type": "stream",
     "text": [
      "Lossy conversion from float32 to uint8. Range [-1.0, 0.9996738433837891]. Convert image to uint8 prior to saving to suppress this warning.\n"
     ]
    },
    {
     "name": "stdout",
     "output_type": "stream",
     "text": [
      "Iteration [84400/300000] | D_real_loss: 0.1832 | D_fake_loss: -0.0077 | G_loss: 0.2069 | D_loss: -0.1909 | Wasserstein_Distance: 0.1909\n",
      "Saved ./results/samples_gan_gp1_lr3e-5/sample-084400.png\n"
     ]
    },
    {
     "name": "stderr",
     "output_type": "stream",
     "text": [
      "Lossy conversion from float32 to uint8. Range [-1.0, 0.9996772408485413]. Convert image to uint8 prior to saving to suppress this warning.\n"
     ]
    },
    {
     "name": "stdout",
     "output_type": "stream",
     "text": [
      "Iteration [84600/300000] | D_real_loss: 0.1687 | D_fake_loss: -0.0463 | G_loss: 0.2071 | D_loss: -0.2150 | Wasserstein_Distance: 0.2150\n",
      "Saved ./results/samples_gan_gp1_lr3e-5/sample-084600.png\n",
      "EPOCH: 218\n"
     ]
    },
    {
     "name": "stderr",
     "output_type": "stream",
     "text": [
      "Lossy conversion from float32 to uint8. Range [-1.0, 0.9996012449264526]. Convert image to uint8 prior to saving to suppress this warning.\n"
     ]
    },
    {
     "name": "stdout",
     "output_type": "stream",
     "text": [
      "Iteration [84800/300000] | D_real_loss: 0.0221 | D_fake_loss: -0.1946 | G_loss: 0.0164 | D_loss: -0.2168 | Wasserstein_Distance: 0.2168\n",
      "Saved ./results/samples_gan_gp1_lr3e-5/sample-084800.png\n"
     ]
    },
    {
     "name": "stderr",
     "output_type": "stream",
     "text": [
      "Lossy conversion from float32 to uint8. Range [-1.0, 0.9996610879898071]. Convert image to uint8 prior to saving to suppress this warning.\n"
     ]
    },
    {
     "name": "stdout",
     "output_type": "stream",
     "text": [
      "Iteration [85000/300000] | D_real_loss: -0.0165 | D_fake_loss: -0.2028 | G_loss: 0.0303 | D_loss: -0.1863 | Wasserstein_Distance: 0.1863\n",
      "Saved ./results/samples_gan_gp1_lr3e-5/sample-085000.png\n",
      "EPOCH: 219\n"
     ]
    },
    {
     "name": "stderr",
     "output_type": "stream",
     "text": [
      "Lossy conversion from float32 to uint8. Range [-1.0, 0.9993859529495239]. Convert image to uint8 prior to saving to suppress this warning.\n"
     ]
    },
    {
     "name": "stdout",
     "output_type": "stream",
     "text": [
      "Iteration [85200/300000] | D_real_loss: 0.0648 | D_fake_loss: -0.1640 | G_loss: 0.0771 | D_loss: -0.2288 | Wasserstein_Distance: 0.2288\n",
      "Saved ./results/samples_gan_gp1_lr3e-5/sample-085200.png\n"
     ]
    },
    {
     "name": "stderr",
     "output_type": "stream",
     "text": [
      "Lossy conversion from float32 to uint8. Range [-1.0, 0.9996581077575684]. Convert image to uint8 prior to saving to suppress this warning.\n"
     ]
    },
    {
     "name": "stdout",
     "output_type": "stream",
     "text": [
      "Iteration [85400/300000] | D_real_loss: 0.0077 | D_fake_loss: -0.2238 | G_loss: -0.0039 | D_loss: -0.2315 | Wasserstein_Distance: 0.2315\n",
      "Saved ./results/samples_gan_gp1_lr3e-5/sample-085400.png\n",
      "EPOCH: 220\n"
     ]
    },
    {
     "name": "stderr",
     "output_type": "stream",
     "text": [
      "Lossy conversion from float32 to uint8. Range [-1.0, 0.9996002316474915]. Convert image to uint8 prior to saving to suppress this warning.\n"
     ]
    },
    {
     "name": "stdout",
     "output_type": "stream",
     "text": [
      "Iteration [85600/300000] | D_real_loss: 0.0286 | D_fake_loss: -0.1969 | G_loss: 0.0588 | D_loss: -0.2255 | Wasserstein_Distance: 0.2255\n",
      "Saved ./results/samples_gan_gp1_lr3e-5/sample-085600.png\n"
     ]
    },
    {
     "name": "stderr",
     "output_type": "stream",
     "text": [
      "Lossy conversion from float32 to uint8. Range [-1.0, 0.9996968507766724]. Convert image to uint8 prior to saving to suppress this warning.\n"
     ]
    },
    {
     "name": "stdout",
     "output_type": "stream",
     "text": [
      "Iteration [85800/300000] | D_real_loss: 0.0700 | D_fake_loss: -0.1599 | G_loss: 0.0688 | D_loss: -0.2299 | Wasserstein_Distance: 0.2299\n",
      "Saved ./results/samples_gan_gp1_lr3e-5/sample-085800.png\n",
      "EPOCH: 221\n"
     ]
    },
    {
     "name": "stderr",
     "output_type": "stream",
     "text": [
      "Lossy conversion from float32 to uint8. Range [-1.0, 0.9996375441551208]. Convert image to uint8 prior to saving to suppress this warning.\n"
     ]
    },
    {
     "name": "stdout",
     "output_type": "stream",
     "text": [
      "Iteration [86000/300000] | D_real_loss: 0.0259 | D_fake_loss: -0.1684 | G_loss: 0.0225 | D_loss: -0.1943 | Wasserstein_Distance: 0.1943\n",
      "Saved ./results/samples_gan_gp1_lr3e-5/sample-086000.png\n",
      "EPOCH: 222\n"
     ]
    },
    {
     "name": "stderr",
     "output_type": "stream",
     "text": [
      "Lossy conversion from float32 to uint8. Range [-1.0, 0.9995163679122925]. Convert image to uint8 prior to saving to suppress this warning.\n"
     ]
    },
    {
     "name": "stdout",
     "output_type": "stream",
     "text": [
      "Iteration [86200/300000] | D_real_loss: 0.0517 | D_fake_loss: -0.1541 | G_loss: 0.0622 | D_loss: -0.2058 | Wasserstein_Distance: 0.2058\n",
      "Saved ./results/samples_gan_gp1_lr3e-5/sample-086200.png\n"
     ]
    },
    {
     "name": "stderr",
     "output_type": "stream",
     "text": [
      "Lossy conversion from float32 to uint8. Range [-1.0, 0.9996521472930908]. Convert image to uint8 prior to saving to suppress this warning.\n"
     ]
    },
    {
     "name": "stdout",
     "output_type": "stream",
     "text": [
      "Iteration [86400/300000] | D_real_loss: -0.0017 | D_fake_loss: -0.2048 | G_loss: 0.0145 | D_loss: -0.2030 | Wasserstein_Distance: 0.2030\n",
      "Saved ./results/samples_gan_gp1_lr3e-5/sample-086400.png\n",
      "EPOCH: 223\n"
     ]
    },
    {
     "name": "stderr",
     "output_type": "stream",
     "text": [
      "Lossy conversion from float32 to uint8. Range [-1.0, 0.9996049404144287]. Convert image to uint8 prior to saving to suppress this warning.\n"
     ]
    },
    {
     "name": "stdout",
     "output_type": "stream",
     "text": [
      "Iteration [86600/300000] | D_real_loss: 0.1696 | D_fake_loss: -0.0665 | G_loss: 0.2084 | D_loss: -0.2361 | Wasserstein_Distance: 0.2361\n",
      "Saved ./results/samples_gan_gp1_lr3e-5/sample-086600.png\n"
     ]
    },
    {
     "name": "stderr",
     "output_type": "stream",
     "text": [
      "Lossy conversion from float32 to uint8. Range [-1.0, 0.9997897148132324]. Convert image to uint8 prior to saving to suppress this warning.\n"
     ]
    },
    {
     "name": "stdout",
     "output_type": "stream",
     "text": [
      "Iteration [86800/300000] | D_real_loss: 0.1589 | D_fake_loss: -0.0948 | G_loss: 0.1974 | D_loss: -0.2537 | Wasserstein_Distance: 0.2537\n",
      "Saved ./results/samples_gan_gp1_lr3e-5/sample-086800.png\n",
      "EPOCH: 224\n"
     ]
    },
    {
     "name": "stderr",
     "output_type": "stream",
     "text": [
      "Lossy conversion from float32 to uint8. Range [-1.0, 0.9997416734695435]. Convert image to uint8 prior to saving to suppress this warning.\n"
     ]
    },
    {
     "name": "stdout",
     "output_type": "stream",
     "text": [
      "Iteration [87000/300000] | D_real_loss: 0.1493 | D_fake_loss: -0.0189 | G_loss: 0.1497 | D_loss: -0.1682 | Wasserstein_Distance: 0.1682\n",
      "Saved ./results/samples_gan_gp1_lr3e-5/sample-087000.png\n"
     ]
    },
    {
     "name": "stderr",
     "output_type": "stream",
     "text": [
      "Lossy conversion from float32 to uint8. Range [-1.0, 0.9996888637542725]. Convert image to uint8 prior to saving to suppress this warning.\n"
     ]
    },
    {
     "name": "stdout",
     "output_type": "stream",
     "text": [
      "Iteration [87200/300000] | D_real_loss: -0.0284 | D_fake_loss: -0.2303 | G_loss: 0.0385 | D_loss: -0.2019 | Wasserstein_Distance: 0.2019\n",
      "Saved ./results/samples_gan_gp1_lr3e-5/sample-087200.png\n",
      "EPOCH: 225\n"
     ]
    },
    {
     "name": "stderr",
     "output_type": "stream",
     "text": [
      "Lossy conversion from float32 to uint8. Range [-1.0, 0.9997862577438354]. Convert image to uint8 prior to saving to suppress this warning.\n"
     ]
    },
    {
     "name": "stdout",
     "output_type": "stream",
     "text": [
      "Iteration [87400/300000] | D_real_loss: -0.0103 | D_fake_loss: -0.2170 | G_loss: 0.0014 | D_loss: -0.2067 | Wasserstein_Distance: 0.2067\n",
      "Saved ./results/samples_gan_gp1_lr3e-5/sample-087400.png\n"
     ]
    },
    {
     "name": "stderr",
     "output_type": "stream",
     "text": [
      "Lossy conversion from float32 to uint8. Range [-1.0, 0.9997771382331848]. Convert image to uint8 prior to saving to suppress this warning.\n"
     ]
    },
    {
     "name": "stdout",
     "output_type": "stream",
     "text": [
      "Iteration [87600/300000] | D_real_loss: 0.1865 | D_fake_loss: -0.0354 | G_loss: 0.2235 | D_loss: -0.2219 | Wasserstein_Distance: 0.2219\n",
      "Saved ./results/samples_gan_gp1_lr3e-5/sample-087600.png\n",
      "EPOCH: 226\n"
     ]
    },
    {
     "name": "stderr",
     "output_type": "stream",
     "text": [
      "Lossy conversion from float32 to uint8. Range [-1.0, 0.9996622800827026]. Convert image to uint8 prior to saving to suppress this warning.\n"
     ]
    },
    {
     "name": "stdout",
     "output_type": "stream",
     "text": [
      "Iteration [87800/300000] | D_real_loss: 0.1357 | D_fake_loss: -0.0655 | G_loss: 0.1676 | D_loss: -0.2012 | Wasserstein_Distance: 0.2012\n",
      "Saved ./results/samples_gan_gp1_lr3e-5/sample-087800.png\n"
     ]
    },
    {
     "name": "stderr",
     "output_type": "stream",
     "text": [
      "Lossy conversion from float32 to uint8. Range [-1.0, 0.9997162222862244]. Convert image to uint8 prior to saving to suppress this warning.\n"
     ]
    },
    {
     "name": "stdout",
     "output_type": "stream",
     "text": [
      "Iteration [88000/300000] | D_real_loss: 0.1651 | D_fake_loss: -0.0361 | G_loss: 0.1995 | D_loss: -0.2012 | Wasserstein_Distance: 0.2012\n",
      "Saved ./results/samples_gan_gp1_lr3e-5/sample-088000.png\n",
      "EPOCH: 227\n"
     ]
    },
    {
     "name": "stderr",
     "output_type": "stream",
     "text": [
      "Lossy conversion from float32 to uint8. Range [-1.0, 0.9997544288635254]. Convert image to uint8 prior to saving to suppress this warning.\n"
     ]
    },
    {
     "name": "stdout",
     "output_type": "stream",
     "text": [
      "Iteration [88200/300000] | D_real_loss: 0.1714 | D_fake_loss: 0.0070 | G_loss: 0.1823 | D_loss: -0.1643 | Wasserstein_Distance: 0.1643\n",
      "Saved ./results/samples_gan_gp1_lr3e-5/sample-088200.png\n"
     ]
    },
    {
     "name": "stderr",
     "output_type": "stream",
     "text": [
      "Lossy conversion from float32 to uint8. Range [-1.0, 0.9997445940971375]. Convert image to uint8 prior to saving to suppress this warning.\n"
     ]
    },
    {
     "name": "stdout",
     "output_type": "stream",
     "text": [
      "Iteration [88400/300000] | D_real_loss: 0.0367 | D_fake_loss: -0.1760 | G_loss: 0.0558 | D_loss: -0.2128 | Wasserstein_Distance: 0.2128\n",
      "Saved ./results/samples_gan_gp1_lr3e-5/sample-088400.png\n",
      "EPOCH: 228\n"
     ]
    },
    {
     "name": "stderr",
     "output_type": "stream",
     "text": [
      "Lossy conversion from float32 to uint8. Range [-1.0, 0.999767005443573]. Convert image to uint8 prior to saving to suppress this warning.\n"
     ]
    },
    {
     "name": "stdout",
     "output_type": "stream",
     "text": [
      "Iteration [88600/300000] | D_real_loss: 0.1798 | D_fake_loss: -0.0201 | G_loss: 0.2019 | D_loss: -0.1999 | Wasserstein_Distance: 0.1999\n",
      "Saved ./results/samples_gan_gp1_lr3e-5/sample-088600.png\n"
     ]
    },
    {
     "name": "stderr",
     "output_type": "stream",
     "text": [
      "Lossy conversion from float32 to uint8. Range [-1.0, 0.9996820688247681]. Convert image to uint8 prior to saving to suppress this warning.\n"
     ]
    },
    {
     "name": "stdout",
     "output_type": "stream",
     "text": [
      "Iteration [88800/300000] | D_real_loss: -0.0032 | D_fake_loss: -0.2026 | G_loss: 0.0311 | D_loss: -0.1993 | Wasserstein_Distance: 0.1993\n",
      "Saved ./results/samples_gan_gp1_lr3e-5/sample-088800.png\n",
      "EPOCH: 229\n"
     ]
    },
    {
     "name": "stderr",
     "output_type": "stream",
     "text": [
      "Lossy conversion from float32 to uint8. Range [-1.0, 0.9995981454849243]. Convert image to uint8 prior to saving to suppress this warning.\n"
     ]
    },
    {
     "name": "stdout",
     "output_type": "stream",
     "text": [
      "Iteration [89000/300000] | D_real_loss: 0.0115 | D_fake_loss: -0.1941 | G_loss: 0.0474 | D_loss: -0.2056 | Wasserstein_Distance: 0.2056\n",
      "Saved ./results/samples_gan_gp1_lr3e-5/sample-089000.png\n"
     ]
    },
    {
     "name": "stderr",
     "output_type": "stream",
     "text": [
      "Lossy conversion from float32 to uint8. Range [-1.0, 0.9997750520706177]. Convert image to uint8 prior to saving to suppress this warning.\n"
     ]
    },
    {
     "name": "stdout",
     "output_type": "stream",
     "text": [
      "Iteration [89200/300000] | D_real_loss: -0.0768 | D_fake_loss: -0.2297 | G_loss: 0.0683 | D_loss: -0.1528 | Wasserstein_Distance: 0.1528\n",
      "Saved ./results/samples_gan_gp1_lr3e-5/sample-089200.png\n",
      "EPOCH: 230\n"
     ]
    },
    {
     "name": "stderr",
     "output_type": "stream",
     "text": [
      "Lossy conversion from float32 to uint8. Range [-1.0, 0.99968022108078]. Convert image to uint8 prior to saving to suppress this warning.\n"
     ]
    },
    {
     "name": "stdout",
     "output_type": "stream",
     "text": [
      "Iteration [89400/300000] | D_real_loss: 0.1836 | D_fake_loss: -0.0395 | G_loss: 0.2216 | D_loss: -0.2231 | Wasserstein_Distance: 0.2231\n",
      "Saved ./results/samples_gan_gp1_lr3e-5/sample-089400.png\n"
     ]
    },
    {
     "name": "stderr",
     "output_type": "stream",
     "text": [
      "Lossy conversion from float32 to uint8. Range [-1.0, 0.9997261166572571]. Convert image to uint8 prior to saving to suppress this warning.\n"
     ]
    },
    {
     "name": "stdout",
     "output_type": "stream",
     "text": [
      "Iteration [89600/300000] | D_real_loss: -0.0045 | D_fake_loss: -0.2041 | G_loss: 0.0134 | D_loss: -0.1997 | Wasserstein_Distance: 0.1997\n",
      "Saved ./results/samples_gan_gp1_lr3e-5/sample-089600.png\n",
      "EPOCH: 231\n"
     ]
    },
    {
     "name": "stderr",
     "output_type": "stream",
     "text": [
      "Lossy conversion from float32 to uint8. Range [-1.0, 0.9995613098144531]. Convert image to uint8 prior to saving to suppress this warning.\n"
     ]
    },
    {
     "name": "stdout",
     "output_type": "stream",
     "text": [
      "Iteration [89800/300000] | D_real_loss: 0.1800 | D_fake_loss: -0.0206 | G_loss: 0.2006 | D_loss: -0.2006 | Wasserstein_Distance: 0.2006\n",
      "Saved ./results/samples_gan_gp1_lr3e-5/sample-089800.png\n"
     ]
    },
    {
     "name": "stderr",
     "output_type": "stream",
     "text": [
      "Lossy conversion from float32 to uint8. Range [-1.0, 0.9996492266654968]. Convert image to uint8 prior to saving to suppress this warning.\n"
     ]
    },
    {
     "name": "stdout",
     "output_type": "stream",
     "text": [
      "Iteration [90000/300000] | D_real_loss: -0.0178 | D_fake_loss: -0.2096 | G_loss: 0.0275 | D_loss: -0.1918 | Wasserstein_Distance: 0.1918\n",
      "Saved ./results/samples_gan_gp1_lr3e-5/sample-090000.png\n",
      "EPOCH: 232\n"
     ]
    },
    {
     "name": "stderr",
     "output_type": "stream",
     "text": [
      "Lossy conversion from float32 to uint8. Range [-1.0, 0.9995786547660828]. Convert image to uint8 prior to saving to suppress this warning.\n"
     ]
    },
    {
     "name": "stdout",
     "output_type": "stream",
     "text": [
      "Iteration [90200/300000] | D_real_loss: 0.0432 | D_fake_loss: -0.1782 | G_loss: 0.0576 | D_loss: -0.2214 | Wasserstein_Distance: 0.2214\n",
      "Saved ./results/samples_gan_gp1_lr3e-5/sample-090200.png\n"
     ]
    },
    {
     "name": "stderr",
     "output_type": "stream",
     "text": [
      "Lossy conversion from float32 to uint8. Range [-1.0, 0.9995945692062378]. Convert image to uint8 prior to saving to suppress this warning.\n"
     ]
    },
    {
     "name": "stdout",
     "output_type": "stream",
     "text": [
      "Iteration [90400/300000] | D_real_loss: 0.1747 | D_fake_loss: -0.0358 | G_loss: 0.2362 | D_loss: -0.2105 | Wasserstein_Distance: 0.2105\n",
      "Saved ./results/samples_gan_gp1_lr3e-5/sample-090400.png\n",
      "EPOCH: 233\n"
     ]
    },
    {
     "name": "stderr",
     "output_type": "stream",
     "text": [
      "Lossy conversion from float32 to uint8. Range [-1.0, 0.9997119307518005]. Convert image to uint8 prior to saving to suppress this warning.\n"
     ]
    },
    {
     "name": "stdout",
     "output_type": "stream",
     "text": [
      "Iteration [90600/300000] | D_real_loss: 0.1675 | D_fake_loss: -0.0346 | G_loss: 0.1619 | D_loss: -0.2021 | Wasserstein_Distance: 0.2021\n",
      "Saved ./results/samples_gan_gp1_lr3e-5/sample-090600.png\n"
     ]
    },
    {
     "name": "stderr",
     "output_type": "stream",
     "text": [
      "Lossy conversion from float32 to uint8. Range [-1.0, 0.9997462630271912]. Convert image to uint8 prior to saving to suppress this warning.\n"
     ]
    },
    {
     "name": "stdout",
     "output_type": "stream",
     "text": [
      "Iteration [90800/300000] | D_real_loss: 0.1710 | D_fake_loss: -0.0388 | G_loss: 0.2211 | D_loss: -0.2098 | Wasserstein_Distance: 0.2098\n",
      "Saved ./results/samples_gan_gp1_lr3e-5/sample-090800.png\n",
      "EPOCH: 234\n"
     ]
    },
    {
     "name": "stderr",
     "output_type": "stream",
     "text": [
      "Lossy conversion from float32 to uint8. Range [-1.0, 0.9997915029525757]. Convert image to uint8 prior to saving to suppress this warning.\n"
     ]
    },
    {
     "name": "stdout",
     "output_type": "stream",
     "text": [
      "Iteration [91000/300000] | D_real_loss: 0.1724 | D_fake_loss: -0.0181 | G_loss: 0.2040 | D_loss: -0.1905 | Wasserstein_Distance: 0.1905\n",
      "Saved ./results/samples_gan_gp1_lr3e-5/sample-091000.png\n"
     ]
    },
    {
     "name": "stderr",
     "output_type": "stream",
     "text": [
      "Lossy conversion from float32 to uint8. Range [-1.0, 0.999671995639801]. Convert image to uint8 prior to saving to suppress this warning.\n"
     ]
    },
    {
     "name": "stdout",
     "output_type": "stream",
     "text": [
      "Iteration [91200/300000] | D_real_loss: 0.1406 | D_fake_loss: -0.0660 | G_loss: 0.1944 | D_loss: -0.2067 | Wasserstein_Distance: 0.2067\n",
      "Saved ./results/samples_gan_gp1_lr3e-5/sample-091200.png\n",
      "EPOCH: 235\n"
     ]
    },
    {
     "name": "stderr",
     "output_type": "stream",
     "text": [
      "Lossy conversion from float32 to uint8. Range [-1.0, 0.9997221231460571]. Convert image to uint8 prior to saving to suppress this warning.\n"
     ]
    },
    {
     "name": "stdout",
     "output_type": "stream",
     "text": [
      "Iteration [91400/300000] | D_real_loss: -0.0026 | D_fake_loss: -0.1966 | G_loss: 0.0316 | D_loss: -0.1940 | Wasserstein_Distance: 0.1940\n",
      "Saved ./results/samples_gan_gp1_lr3e-5/sample-091400.png\n"
     ]
    },
    {
     "name": "stderr",
     "output_type": "stream",
     "text": [
      "Lossy conversion from float32 to uint8. Range [-1.0, 0.999430239200592]. Convert image to uint8 prior to saving to suppress this warning.\n"
     ]
    },
    {
     "name": "stdout",
     "output_type": "stream",
     "text": [
      "Iteration [91600/300000] | D_real_loss: 0.1777 | D_fake_loss: -0.0464 | G_loss: 0.1984 | D_loss: -0.2240 | Wasserstein_Distance: 0.2240\n",
      "Saved ./results/samples_gan_gp1_lr3e-5/sample-091600.png\n",
      "EPOCH: 236\n"
     ]
    },
    {
     "name": "stderr",
     "output_type": "stream",
     "text": [
      "Lossy conversion from float32 to uint8. Range [-1.0, 0.999459981918335]. Convert image to uint8 prior to saving to suppress this warning.\n"
     ]
    },
    {
     "name": "stdout",
     "output_type": "stream",
     "text": [
      "Iteration [91800/300000] | D_real_loss: -0.0322 | D_fake_loss: -0.2114 | G_loss: 0.0304 | D_loss: -0.1792 | Wasserstein_Distance: 0.1792\n",
      "Saved ./results/samples_gan_gp1_lr3e-5/sample-091800.png\n"
     ]
    },
    {
     "name": "stderr",
     "output_type": "stream",
     "text": [
      "Lossy conversion from float32 to uint8. Range [-1.0, 0.9995337724685669]. Convert image to uint8 prior to saving to suppress this warning.\n"
     ]
    },
    {
     "name": "stdout",
     "output_type": "stream",
     "text": [
      "Iteration [92000/300000] | D_real_loss: 0.1599 | D_fake_loss: -0.0928 | G_loss: 0.2102 | D_loss: -0.2526 | Wasserstein_Distance: 0.2526\n",
      "Saved ./results/samples_gan_gp1_lr3e-5/sample-092000.png\n",
      "EPOCH: 237\n"
     ]
    },
    {
     "name": "stderr",
     "output_type": "stream",
     "text": [
      "Lossy conversion from float32 to uint8. Range [-1.0, 0.9996400475502014]. Convert image to uint8 prior to saving to suppress this warning.\n"
     ]
    },
    {
     "name": "stdout",
     "output_type": "stream",
     "text": [
      "Iteration [92200/300000] | D_real_loss: 0.1588 | D_fake_loss: -0.0357 | G_loss: 0.2244 | D_loss: -0.1946 | Wasserstein_Distance: 0.1946\n",
      "Saved ./results/samples_gan_gp1_lr3e-5/sample-092200.png\n"
     ]
    },
    {
     "name": "stderr",
     "output_type": "stream",
     "text": [
      "Lossy conversion from float32 to uint8. Range [-1.0, 0.9996632933616638]. Convert image to uint8 prior to saving to suppress this warning.\n"
     ]
    },
    {
     "name": "stdout",
     "output_type": "stream",
     "text": [
      "Iteration [92400/300000] | D_real_loss: 0.0264 | D_fake_loss: -0.1814 | G_loss: 0.0295 | D_loss: -0.2078 | Wasserstein_Distance: 0.2078\n",
      "Saved ./results/samples_gan_gp1_lr3e-5/sample-092400.png\n",
      "EPOCH: 238\n"
     ]
    },
    {
     "name": "stderr",
     "output_type": "stream",
     "text": [
      "Lossy conversion from float32 to uint8. Range [-1.0, 0.9997544288635254]. Convert image to uint8 prior to saving to suppress this warning.\n"
     ]
    },
    {
     "name": "stdout",
     "output_type": "stream",
     "text": [
      "Iteration [92600/300000] | D_real_loss: 0.1662 | D_fake_loss: -0.0560 | G_loss: 0.1803 | D_loss: -0.2222 | Wasserstein_Distance: 0.2222\n",
      "Saved ./results/samples_gan_gp1_lr3e-5/sample-092600.png\n"
     ]
    },
    {
     "name": "stderr",
     "output_type": "stream",
     "text": [
      "Lossy conversion from float32 to uint8. Range [-1.0, 0.9997705221176147]. Convert image to uint8 prior to saving to suppress this warning.\n"
     ]
    },
    {
     "name": "stdout",
     "output_type": "stream",
     "text": [
      "Iteration [92800/300000] | D_real_loss: 0.1496 | D_fake_loss: -0.0115 | G_loss: 0.1849 | D_loss: -0.1611 | Wasserstein_Distance: 0.1611\n",
      "Saved ./results/samples_gan_gp1_lr3e-5/sample-092800.png\n",
      "EPOCH: 239\n"
     ]
    },
    {
     "name": "stderr",
     "output_type": "stream",
     "text": [
      "Lossy conversion from float32 to uint8. Range [-1.0, 0.9997938871383667]. Convert image to uint8 prior to saving to suppress this warning.\n"
     ]
    },
    {
     "name": "stdout",
     "output_type": "stream",
     "text": [
      "Iteration [93000/300000] | D_real_loss: 0.1579 | D_fake_loss: -0.0225 | G_loss: 0.2038 | D_loss: -0.1804 | Wasserstein_Distance: 0.1804\n",
      "Saved ./results/samples_gan_gp1_lr3e-5/sample-093000.png\n"
     ]
    },
    {
     "name": "stderr",
     "output_type": "stream",
     "text": [
      "Lossy conversion from float32 to uint8. Range [-1.0, 0.9997645020484924]. Convert image to uint8 prior to saving to suppress this warning.\n"
     ]
    },
    {
     "name": "stdout",
     "output_type": "stream",
     "text": [
      "Iteration [93200/300000] | D_real_loss: -0.0343 | D_fake_loss: -0.1981 | G_loss: 0.0317 | D_loss: -0.1638 | Wasserstein_Distance: 0.1638\n",
      "Saved ./results/samples_gan_gp1_lr3e-5/sample-093200.png\n",
      "EPOCH: 240\n"
     ]
    },
    {
     "name": "stderr",
     "output_type": "stream",
     "text": [
      "Lossy conversion from float32 to uint8. Range [-1.0, 0.9996334910392761]. Convert image to uint8 prior to saving to suppress this warning.\n"
     ]
    },
    {
     "name": "stdout",
     "output_type": "stream",
     "text": [
      "Iteration [93400/300000] | D_real_loss: 0.1536 | D_fake_loss: -0.0524 | G_loss: 0.1650 | D_loss: -0.2060 | Wasserstein_Distance: 0.2060\n",
      "Saved ./results/samples_gan_gp1_lr3e-5/sample-093400.png\n"
     ]
    },
    {
     "name": "stderr",
     "output_type": "stream",
     "text": [
      "Lossy conversion from float32 to uint8. Range [-1.0, 0.9997281432151794]. Convert image to uint8 prior to saving to suppress this warning.\n"
     ]
    },
    {
     "name": "stdout",
     "output_type": "stream",
     "text": [
      "Iteration [93600/300000] | D_real_loss: -0.0317 | D_fake_loss: -0.2161 | G_loss: 0.0539 | D_loss: -0.1844 | Wasserstein_Distance: 0.1844\n",
      "Saved ./results/samples_gan_gp1_lr3e-5/sample-093600.png\n",
      "EPOCH: 241\n"
     ]
    },
    {
     "name": "stderr",
     "output_type": "stream",
     "text": [
      "Lossy conversion from float32 to uint8. Range [-1.0, 0.9996697306632996]. Convert image to uint8 prior to saving to suppress this warning.\n"
     ]
    },
    {
     "name": "stdout",
     "output_type": "stream",
     "text": [
      "Iteration [93800/300000] | D_real_loss: -0.0063 | D_fake_loss: -0.1900 | G_loss: 0.0227 | D_loss: -0.1837 | Wasserstein_Distance: 0.1837\n",
      "Saved ./results/samples_gan_gp1_lr3e-5/sample-093800.png\n",
      "EPOCH: 242\n"
     ]
    },
    {
     "name": "stderr",
     "output_type": "stream",
     "text": [
      "Lossy conversion from float32 to uint8. Range [-1.0, 0.9996342062950134]. Convert image to uint8 prior to saving to suppress this warning.\n"
     ]
    },
    {
     "name": "stdout",
     "output_type": "stream",
     "text": [
      "Iteration [94000/300000] | D_real_loss: 0.0035 | D_fake_loss: -0.1833 | G_loss: 0.0352 | D_loss: -0.1868 | Wasserstein_Distance: 0.1868\n",
      "Saved ./results/samples_gan_gp1_lr3e-5/sample-094000.png\n"
     ]
    },
    {
     "name": "stderr",
     "output_type": "stream",
     "text": [
      "Lossy conversion from float32 to uint8. Range [-1.0, 0.9996351003646851]. Convert image to uint8 prior to saving to suppress this warning.\n"
     ]
    },
    {
     "name": "stdout",
     "output_type": "stream",
     "text": [
      "Iteration [94200/300000] | D_real_loss: 0.0222 | D_fake_loss: -0.1948 | G_loss: 0.0575 | D_loss: -0.2170 | Wasserstein_Distance: 0.2170\n",
      "Saved ./results/samples_gan_gp1_lr3e-5/sample-094200.png\n",
      "EPOCH: 243\n"
     ]
    },
    {
     "name": "stderr",
     "output_type": "stream",
     "text": [
      "Lossy conversion from float32 to uint8. Range [-1.0, 0.9995017647743225]. Convert image to uint8 prior to saving to suppress this warning.\n"
     ]
    },
    {
     "name": "stdout",
     "output_type": "stream",
     "text": [
      "Iteration [94400/300000] | D_real_loss: -0.0103 | D_fake_loss: -0.1858 | G_loss: 0.0334 | D_loss: -0.1755 | Wasserstein_Distance: 0.1755\n",
      "Saved ./results/samples_gan_gp1_lr3e-5/sample-094400.png\n"
     ]
    },
    {
     "name": "stderr",
     "output_type": "stream",
     "text": [
      "Lossy conversion from float32 to uint8. Range [-1.0, 0.9994884133338928]. Convert image to uint8 prior to saving to suppress this warning.\n"
     ]
    },
    {
     "name": "stdout",
     "output_type": "stream",
     "text": [
      "Iteration [94600/300000] | D_real_loss: 0.1690 | D_fake_loss: -0.0435 | G_loss: 0.1892 | D_loss: -0.2125 | Wasserstein_Distance: 0.2125\n",
      "Saved ./results/samples_gan_gp1_lr3e-5/sample-094600.png\n",
      "EPOCH: 244\n"
     ]
    },
    {
     "name": "stderr",
     "output_type": "stream",
     "text": [
      "Lossy conversion from float32 to uint8. Range [-1.0, 0.9996353983879089]. Convert image to uint8 prior to saving to suppress this warning.\n"
     ]
    },
    {
     "name": "stdout",
     "output_type": "stream",
     "text": [
      "Iteration [94800/300000] | D_real_loss: 0.0196 | D_fake_loss: -0.1900 | G_loss: 0.0478 | D_loss: -0.2096 | Wasserstein_Distance: 0.2096\n",
      "Saved ./results/samples_gan_gp1_lr3e-5/sample-094800.png\n"
     ]
    },
    {
     "name": "stderr",
     "output_type": "stream",
     "text": [
      "Lossy conversion from float32 to uint8. Range [-1.0, 0.9994354248046875]. Convert image to uint8 prior to saving to suppress this warning.\n"
     ]
    },
    {
     "name": "stdout",
     "output_type": "stream",
     "text": [
      "Iteration [95000/300000] | D_real_loss: 0.1828 | D_fake_loss: -0.0068 | G_loss: 0.2098 | D_loss: -0.1896 | Wasserstein_Distance: 0.1896\n",
      "Saved ./results/samples_gan_gp1_lr3e-5/sample-095000.png\n",
      "EPOCH: 245\n"
     ]
    },
    {
     "name": "stderr",
     "output_type": "stream",
     "text": [
      "Lossy conversion from float32 to uint8. Range [-1.0, 0.9996448755264282]. Convert image to uint8 prior to saving to suppress this warning.\n"
     ]
    },
    {
     "name": "stdout",
     "output_type": "stream",
     "text": [
      "Iteration [95200/300000] | D_real_loss: 0.1715 | D_fake_loss: -0.0489 | G_loss: 0.2012 | D_loss: -0.2204 | Wasserstein_Distance: 0.2204\n",
      "Saved ./results/samples_gan_gp1_lr3e-5/sample-095200.png\n"
     ]
    },
    {
     "name": "stderr",
     "output_type": "stream",
     "text": [
      "Lossy conversion from float32 to uint8. Range [-1.0, 0.9998008012771606]. Convert image to uint8 prior to saving to suppress this warning.\n"
     ]
    },
    {
     "name": "stdout",
     "output_type": "stream",
     "text": [
      "Iteration [95400/300000] | D_real_loss: 0.1594 | D_fake_loss: -0.1000 | G_loss: 0.1877 | D_loss: -0.2594 | Wasserstein_Distance: 0.2594\n",
      "Saved ./results/samples_gan_gp1_lr3e-5/sample-095400.png\n",
      "EPOCH: 246\n"
     ]
    },
    {
     "name": "stderr",
     "output_type": "stream",
     "text": [
      "Lossy conversion from float32 to uint8. Range [-1.0, 0.9996302723884583]. Convert image to uint8 prior to saving to suppress this warning.\n"
     ]
    },
    {
     "name": "stdout",
     "output_type": "stream",
     "text": [
      "Iteration [95600/300000] | D_real_loss: 0.0392 | D_fake_loss: -0.1738 | G_loss: 0.0247 | D_loss: -0.2130 | Wasserstein_Distance: 0.2130\n",
      "Saved ./results/samples_gan_gp1_lr3e-5/sample-095600.png\n"
     ]
    },
    {
     "name": "stderr",
     "output_type": "stream",
     "text": [
      "Lossy conversion from float32 to uint8. Range [-1.0, 0.9997879862785339]. Convert image to uint8 prior to saving to suppress this warning.\n"
     ]
    },
    {
     "name": "stdout",
     "output_type": "stream",
     "text": [
      "Iteration [95800/300000] | D_real_loss: 0.1993 | D_fake_loss: 0.0269 | G_loss: 0.1763 | D_loss: -0.1724 | Wasserstein_Distance: 0.1724\n",
      "Saved ./results/samples_gan_gp1_lr3e-5/sample-095800.png\n",
      "EPOCH: 247\n"
     ]
    },
    {
     "name": "stderr",
     "output_type": "stream",
     "text": [
      "Lossy conversion from float32 to uint8. Range [-1.0, 0.9997392892837524]. Convert image to uint8 prior to saving to suppress this warning.\n"
     ]
    },
    {
     "name": "stdout",
     "output_type": "stream",
     "text": [
      "Iteration [96000/300000] | D_real_loss: 0.1706 | D_fake_loss: -0.0285 | G_loss: 0.1995 | D_loss: -0.1991 | Wasserstein_Distance: 0.1991\n",
      "Saved ./results/samples_gan_gp1_lr3e-5/sample-096000.png\n"
     ]
    },
    {
     "name": "stderr",
     "output_type": "stream",
     "text": [
      "Lossy conversion from float32 to uint8. Range [-1.0, 0.9995777606964111]. Convert image to uint8 prior to saving to suppress this warning.\n"
     ]
    },
    {
     "name": "stdout",
     "output_type": "stream",
     "text": [
      "Iteration [96200/300000] | D_real_loss: 0.1716 | D_fake_loss: -0.0473 | G_loss: 0.1959 | D_loss: -0.2189 | Wasserstein_Distance: 0.2189\n",
      "Saved ./results/samples_gan_gp1_lr3e-5/sample-096200.png\n",
      "EPOCH: 248\n"
     ]
    },
    {
     "name": "stderr",
     "output_type": "stream",
     "text": [
      "Lossy conversion from float32 to uint8. Range [-1.0, 0.9997183680534363]. Convert image to uint8 prior to saving to suppress this warning.\n"
     ]
    },
    {
     "name": "stdout",
     "output_type": "stream",
     "text": [
      "Iteration [96400/300000] | D_real_loss: 0.1461 | D_fake_loss: -0.0500 | G_loss: 0.1877 | D_loss: -0.1961 | Wasserstein_Distance: 0.1961\n",
      "Saved ./results/samples_gan_gp1_lr3e-5/sample-096400.png\n"
     ]
    },
    {
     "name": "stderr",
     "output_type": "stream",
     "text": [
      "Lossy conversion from float32 to uint8. Range [-1.0, 0.9996188282966614]. Convert image to uint8 prior to saving to suppress this warning.\n"
     ]
    },
    {
     "name": "stdout",
     "output_type": "stream",
     "text": [
      "Iteration [96600/300000] | D_real_loss: -0.0312 | D_fake_loss: -0.1933 | G_loss: 0.0513 | D_loss: -0.1622 | Wasserstein_Distance: 0.1622\n",
      "Saved ./results/samples_gan_gp1_lr3e-5/sample-096600.png\n",
      "EPOCH: 249\n"
     ]
    },
    {
     "name": "stderr",
     "output_type": "stream",
     "text": [
      "Lossy conversion from float32 to uint8. Range [-1.0, 0.9996047616004944]. Convert image to uint8 prior to saving to suppress this warning.\n"
     ]
    },
    {
     "name": "stdout",
     "output_type": "stream",
     "text": [
      "Iteration [96800/300000] | D_real_loss: 0.0490 | D_fake_loss: -0.1724 | G_loss: 0.0658 | D_loss: -0.2214 | Wasserstein_Distance: 0.2214\n",
      "Saved ./results/samples_gan_gp1_lr3e-5/sample-096800.png\n"
     ]
    },
    {
     "name": "stderr",
     "output_type": "stream",
     "text": [
      "Lossy conversion from float32 to uint8. Range [-1.0, 0.9997218251228333]. Convert image to uint8 prior to saving to suppress this warning.\n"
     ]
    },
    {
     "name": "stdout",
     "output_type": "stream",
     "text": [
      "Iteration [97000/300000] | D_real_loss: 0.1821 | D_fake_loss: -0.0181 | G_loss: 0.2074 | D_loss: -0.2003 | Wasserstein_Distance: 0.2003\n",
      "Saved ./results/samples_gan_gp1_lr3e-5/sample-097000.png\n",
      "EPOCH: 250\n"
     ]
    },
    {
     "name": "stderr",
     "output_type": "stream",
     "text": [
      "Lossy conversion from float32 to uint8. Range [-1.0, 0.9997326135635376]. Convert image to uint8 prior to saving to suppress this warning.\n"
     ]
    },
    {
     "name": "stdout",
     "output_type": "stream",
     "text": [
      "Iteration [97200/300000] | D_real_loss: 0.0544 | D_fake_loss: -0.1762 | G_loss: 0.0766 | D_loss: -0.2306 | Wasserstein_Distance: 0.2306\n",
      "Saved ./results/samples_gan_gp1_lr3e-5/sample-097200.png\n"
     ]
    },
    {
     "name": "stderr",
     "output_type": "stream",
     "text": [
      "Lossy conversion from float32 to uint8. Range [-1.0, 0.9997345209121704]. Convert image to uint8 prior to saving to suppress this warning.\n"
     ]
    },
    {
     "name": "stdout",
     "output_type": "stream",
     "text": [
      "Iteration [97400/300000] | D_real_loss: 0.1829 | D_fake_loss: -0.0237 | G_loss: 0.2123 | D_loss: -0.2066 | Wasserstein_Distance: 0.2066\n",
      "Saved ./results/samples_gan_gp1_lr3e-5/sample-097400.png\n",
      "EPOCH: 251\n"
     ]
    },
    {
     "name": "stderr",
     "output_type": "stream",
     "text": [
      "Lossy conversion from float32 to uint8. Range [-1.0, 0.9995163679122925]. Convert image to uint8 prior to saving to suppress this warning.\n"
     ]
    },
    {
     "name": "stdout",
     "output_type": "stream",
     "text": [
      "Iteration [97600/300000] | D_real_loss: 0.1717 | D_fake_loss: -0.0451 | G_loss: 0.1910 | D_loss: -0.2168 | Wasserstein_Distance: 0.2168\n",
      "Saved ./results/samples_gan_gp1_lr3e-5/sample-097600.png\n"
     ]
    },
    {
     "name": "stderr",
     "output_type": "stream",
     "text": [
      "Lossy conversion from float32 to uint8. Range [-1.0, 0.9996278882026672]. Convert image to uint8 prior to saving to suppress this warning.\n"
     ]
    },
    {
     "name": "stdout",
     "output_type": "stream",
     "text": [
      "Iteration [97800/300000] | D_real_loss: 0.0467 | D_fake_loss: -0.1656 | G_loss: 0.0344 | D_loss: -0.2124 | Wasserstein_Distance: 0.2124\n",
      "Saved ./results/samples_gan_gp1_lr3e-5/sample-097800.png\n",
      "EPOCH: 252\n"
     ]
    },
    {
     "name": "stderr",
     "output_type": "stream",
     "text": [
      "Lossy conversion from float32 to uint8. Range [-1.0, 0.9996272921562195]. Convert image to uint8 prior to saving to suppress this warning.\n"
     ]
    },
    {
     "name": "stdout",
     "output_type": "stream",
     "text": [
      "Iteration [98000/300000] | D_real_loss: 0.1862 | D_fake_loss: -0.0234 | G_loss: 0.2486 | D_loss: -0.2097 | Wasserstein_Distance: 0.2097\n",
      "Saved ./results/samples_gan_gp1_lr3e-5/sample-098000.png\n"
     ]
    },
    {
     "name": "stderr",
     "output_type": "stream",
     "text": [
      "Lossy conversion from float32 to uint8. Range [-1.0, 0.999330997467041]. Convert image to uint8 prior to saving to suppress this warning.\n"
     ]
    },
    {
     "name": "stdout",
     "output_type": "stream",
     "text": [
      "Iteration [98200/300000] | D_real_loss: 0.0319 | D_fake_loss: -0.1610 | G_loss: 0.0301 | D_loss: -0.1929 | Wasserstein_Distance: 0.1929\n",
      "Saved ./results/samples_gan_gp1_lr3e-5/sample-098200.png\n",
      "EPOCH: 253\n"
     ]
    },
    {
     "name": "stderr",
     "output_type": "stream",
     "text": [
      "Lossy conversion from float32 to uint8. Range [-1.0, 0.9995035529136658]. Convert image to uint8 prior to saving to suppress this warning.\n"
     ]
    },
    {
     "name": "stdout",
     "output_type": "stream",
     "text": [
      "Iteration [98400/300000] | D_real_loss: -0.0253 | D_fake_loss: -0.2068 | G_loss: 0.0347 | D_loss: -0.1815 | Wasserstein_Distance: 0.1815\n",
      "Saved ./results/samples_gan_gp1_lr3e-5/sample-098400.png\n"
     ]
    },
    {
     "name": "stderr",
     "output_type": "stream",
     "text": [
      "Lossy conversion from float32 to uint8. Range [-1.0, 0.9996078610420227]. Convert image to uint8 prior to saving to suppress this warning.\n"
     ]
    },
    {
     "name": "stdout",
     "output_type": "stream",
     "text": [
      "Iteration [98600/300000] | D_real_loss: 0.1768 | D_fake_loss: -0.0066 | G_loss: 0.1970 | D_loss: -0.1834 | Wasserstein_Distance: 0.1834\n",
      "Saved ./results/samples_gan_gp1_lr3e-5/sample-098600.png\n",
      "EPOCH: 254\n"
     ]
    },
    {
     "name": "stderr",
     "output_type": "stream",
     "text": [
      "Lossy conversion from float32 to uint8. Range [-1.0, 0.9995428323745728]. Convert image to uint8 prior to saving to suppress this warning.\n"
     ]
    },
    {
     "name": "stdout",
     "output_type": "stream",
     "text": [
      "Iteration [98800/300000] | D_real_loss: 0.1648 | D_fake_loss: -0.0403 | G_loss: 0.1994 | D_loss: -0.2051 | Wasserstein_Distance: 0.2051\n",
      "Saved ./results/samples_gan_gp1_lr3e-5/sample-098800.png\n"
     ]
    },
    {
     "name": "stderr",
     "output_type": "stream",
     "text": [
      "Lossy conversion from float32 to uint8. Range [-1.0, 0.9995877742767334]. Convert image to uint8 prior to saving to suppress this warning.\n"
     ]
    },
    {
     "name": "stdout",
     "output_type": "stream",
     "text": [
      "Iteration [99000/300000] | D_real_loss: 0.0178 | D_fake_loss: -0.1894 | G_loss: 0.0349 | D_loss: -0.2072 | Wasserstein_Distance: 0.2072\n",
      "Saved ./results/samples_gan_gp1_lr3e-5/sample-099000.png\n",
      "EPOCH: 255\n"
     ]
    },
    {
     "name": "stderr",
     "output_type": "stream",
     "text": [
      "Lossy conversion from float32 to uint8. Range [-1.0, 0.9995297193527222]. Convert image to uint8 prior to saving to suppress this warning.\n"
     ]
    },
    {
     "name": "stdout",
     "output_type": "stream",
     "text": [
      "Iteration [99200/300000] | D_real_loss: 0.1592 | D_fake_loss: -0.0269 | G_loss: 0.1982 | D_loss: -0.1861 | Wasserstein_Distance: 0.1861\n",
      "Saved ./results/samples_gan_gp1_lr3e-5/sample-099200.png\n"
     ]
    },
    {
     "name": "stderr",
     "output_type": "stream",
     "text": [
      "Lossy conversion from float32 to uint8. Range [-1.0, 0.9995778799057007]. Convert image to uint8 prior to saving to suppress this warning.\n"
     ]
    },
    {
     "name": "stdout",
     "output_type": "stream",
     "text": [
      "Iteration [99400/300000] | D_real_loss: 0.0375 | D_fake_loss: -0.1600 | G_loss: 0.0720 | D_loss: -0.1975 | Wasserstein_Distance: 0.1975\n",
      "Saved ./results/samples_gan_gp1_lr3e-5/sample-099400.png\n",
      "EPOCH: 256\n"
     ]
    },
    {
     "name": "stderr",
     "output_type": "stream",
     "text": [
      "Lossy conversion from float32 to uint8. Range [-1.0, 0.9996144771575928]. Convert image to uint8 prior to saving to suppress this warning.\n"
     ]
    },
    {
     "name": "stdout",
     "output_type": "stream",
     "text": [
      "Iteration [99600/300000] | D_real_loss: 0.0343 | D_fake_loss: -0.1780 | G_loss: 0.0626 | D_loss: -0.2122 | Wasserstein_Distance: 0.2122\n",
      "Saved ./results/samples_gan_gp1_lr3e-5/sample-099600.png\n"
     ]
    },
    {
     "name": "stderr",
     "output_type": "stream",
     "text": [
      "Lossy conversion from float32 to uint8. Range [-1.0, 0.999693751335144]. Convert image to uint8 prior to saving to suppress this warning.\n"
     ]
    },
    {
     "name": "stdout",
     "output_type": "stream",
     "text": [
      "Iteration [99800/300000] | D_real_loss: 0.1423 | D_fake_loss: -0.0400 | G_loss: 0.1633 | D_loss: -0.1822 | Wasserstein_Distance: 0.1822\n",
      "Saved ./results/samples_gan_gp1_lr3e-5/sample-099800.png\n",
      "EPOCH: 257\n"
     ]
    },
    {
     "name": "stderr",
     "output_type": "stream",
     "text": [
      "Lossy conversion from float32 to uint8. Range [-1.0, 0.999556839466095]. Convert image to uint8 prior to saving to suppress this warning.\n"
     ]
    },
    {
     "name": "stdout",
     "output_type": "stream",
     "text": [
      "Iteration [100000/300000] | D_real_loss: 0.0226 | D_fake_loss: -0.1990 | G_loss: 0.0101 | D_loss: -0.2216 | Wasserstein_Distance: 0.2216\n",
      "Saved ./results/samples_gan_gp1_lr3e-5/sample-100000.png\n"
     ]
    },
    {
     "name": "stderr",
     "output_type": "stream",
     "text": [
      "Lossy conversion from float32 to uint8. Range [-1.0, 0.99966961145401]. Convert image to uint8 prior to saving to suppress this warning.\n"
     ]
    },
    {
     "name": "stdout",
     "output_type": "stream",
     "text": [
      "Iteration [100200/300000] | D_real_loss: 0.0145 | D_fake_loss: -0.1577 | G_loss: 0.0156 | D_loss: -0.1722 | Wasserstein_Distance: 0.1722\n",
      "Saved ./results/samples_gan_gp1_lr3e-5/sample-100200.png\n",
      "EPOCH: 258\n"
     ]
    },
    {
     "name": "stderr",
     "output_type": "stream",
     "text": [
      "Lossy conversion from float32 to uint8. Range [-1.0, 0.9996421337127686]. Convert image to uint8 prior to saving to suppress this warning.\n"
     ]
    },
    {
     "name": "stdout",
     "output_type": "stream",
     "text": [
      "Iteration [100400/300000] | D_real_loss: -0.0012 | D_fake_loss: -0.1673 | G_loss: 0.0665 | D_loss: -0.1661 | Wasserstein_Distance: 0.1661\n",
      "Saved ./results/samples_gan_gp1_lr3e-5/sample-100400.png\n"
     ]
    },
    {
     "name": "stderr",
     "output_type": "stream",
     "text": [
      "Lossy conversion from float32 to uint8. Range [-1.0, 0.9994387626647949]. Convert image to uint8 prior to saving to suppress this warning.\n"
     ]
    },
    {
     "name": "stdout",
     "output_type": "stream",
     "text": [
      "Iteration [100600/300000] | D_real_loss: 0.0089 | D_fake_loss: -0.1936 | G_loss: 0.0187 | D_loss: -0.2025 | Wasserstein_Distance: 0.2025\n",
      "Saved ./results/samples_gan_gp1_lr3e-5/sample-100600.png\n",
      "EPOCH: 259\n"
     ]
    },
    {
     "name": "stderr",
     "output_type": "stream",
     "text": [
      "Lossy conversion from float32 to uint8. Range [-1.0, 0.9997742772102356]. Convert image to uint8 prior to saving to suppress this warning.\n"
     ]
    },
    {
     "name": "stdout",
     "output_type": "stream",
     "text": [
      "Iteration [100800/300000] | D_real_loss: 0.0199 | D_fake_loss: -0.1933 | G_loss: 0.0234 | D_loss: -0.2132 | Wasserstein_Distance: 0.2132\n",
      "Saved ./results/samples_gan_gp1_lr3e-5/sample-100800.png\n"
     ]
    },
    {
     "name": "stderr",
     "output_type": "stream",
     "text": [
      "Lossy conversion from float32 to uint8. Range [-1.0, 0.9996375441551208]. Convert image to uint8 prior to saving to suppress this warning.\n"
     ]
    },
    {
     "name": "stdout",
     "output_type": "stream",
     "text": [
      "Iteration [101000/300000] | D_real_loss: 0.0545 | D_fake_loss: -0.1681 | G_loss: 0.0771 | D_loss: -0.2226 | Wasserstein_Distance: 0.2226\n",
      "Saved ./results/samples_gan_gp1_lr3e-5/sample-101000.png\n",
      "EPOCH: 260\n"
     ]
    },
    {
     "name": "stderr",
     "output_type": "stream",
     "text": [
      "Lossy conversion from float32 to uint8. Range [-1.0, 0.9995860457420349]. Convert image to uint8 prior to saving to suppress this warning.\n"
     ]
    },
    {
     "name": "stdout",
     "output_type": "stream",
     "text": [
      "Iteration [101200/300000] | D_real_loss: 0.0630 | D_fake_loss: -0.1646 | G_loss: 0.0642 | D_loss: -0.2275 | Wasserstein_Distance: 0.2275\n",
      "Saved ./results/samples_gan_gp1_lr3e-5/sample-101200.png\n"
     ]
    },
    {
     "name": "stderr",
     "output_type": "stream",
     "text": [
      "Lossy conversion from float32 to uint8. Range [-1.0, 0.9996140599250793]. Convert image to uint8 prior to saving to suppress this warning.\n"
     ]
    },
    {
     "name": "stdout",
     "output_type": "stream",
     "text": [
      "Iteration [101400/300000] | D_real_loss: -0.0223 | D_fake_loss: -0.2258 | G_loss: -0.0155 | D_loss: -0.2034 | Wasserstein_Distance: 0.2034\n",
      "Saved ./results/samples_gan_gp1_lr3e-5/sample-101400.png\n",
      "EPOCH: 261\n"
     ]
    },
    {
     "name": "stderr",
     "output_type": "stream",
     "text": [
      "Lossy conversion from float32 to uint8. Range [-1.0, 0.9998669624328613]. Convert image to uint8 prior to saving to suppress this warning.\n"
     ]
    },
    {
     "name": "stdout",
     "output_type": "stream",
     "text": [
      "Iteration [101600/300000] | D_real_loss: 0.0036 | D_fake_loss: -0.2007 | G_loss: 0.0432 | D_loss: -0.2043 | Wasserstein_Distance: 0.2043\n",
      "Saved ./results/samples_gan_gp1_lr3e-5/sample-101600.png\n",
      "EPOCH: 262\n"
     ]
    },
    {
     "name": "stderr",
     "output_type": "stream",
     "text": [
      "Lossy conversion from float32 to uint8. Range [-1.0, 0.999775767326355]. Convert image to uint8 prior to saving to suppress this warning.\n"
     ]
    },
    {
     "name": "stdout",
     "output_type": "stream",
     "text": [
      "Iteration [101800/300000] | D_real_loss: -0.0042 | D_fake_loss: -0.1881 | G_loss: 0.0305 | D_loss: -0.1839 | Wasserstein_Distance: 0.1839\n",
      "Saved ./results/samples_gan_gp1_lr3e-5/sample-101800.png\n"
     ]
    },
    {
     "name": "stderr",
     "output_type": "stream",
     "text": [
      "Lossy conversion from float32 to uint8. Range [-1.0, 0.9997818470001221]. Convert image to uint8 prior to saving to suppress this warning.\n"
     ]
    },
    {
     "name": "stdout",
     "output_type": "stream",
     "text": [
      "Iteration [102000/300000] | D_real_loss: 0.0589 | D_fake_loss: -0.1565 | G_loss: 0.1010 | D_loss: -0.2154 | Wasserstein_Distance: 0.2154\n",
      "Saved ./results/samples_gan_gp1_lr3e-5/sample-102000.png\n",
      "EPOCH: 263\n"
     ]
    },
    {
     "name": "stderr",
     "output_type": "stream",
     "text": [
      "Lossy conversion from float32 to uint8. Range [-1.0, 0.9996427297592163]. Convert image to uint8 prior to saving to suppress this warning.\n"
     ]
    },
    {
     "name": "stdout",
     "output_type": "stream",
     "text": [
      "Iteration [102200/300000] | D_real_loss: 0.1655 | D_fake_loss: -0.0314 | G_loss: 0.1736 | D_loss: -0.1969 | Wasserstein_Distance: 0.1969\n",
      "Saved ./results/samples_gan_gp1_lr3e-5/sample-102200.png\n"
     ]
    },
    {
     "name": "stderr",
     "output_type": "stream",
     "text": [
      "Lossy conversion from float32 to uint8. Range [-1.0, 0.9997833967208862]. Convert image to uint8 prior to saving to suppress this warning.\n"
     ]
    },
    {
     "name": "stdout",
     "output_type": "stream",
     "text": [
      "Iteration [102400/300000] | D_real_loss: 0.1466 | D_fake_loss: -0.0795 | G_loss: 0.1706 | D_loss: -0.2260 | Wasserstein_Distance: 0.2260\n",
      "Saved ./results/samples_gan_gp1_lr3e-5/sample-102400.png\n",
      "EPOCH: 264\n"
     ]
    },
    {
     "name": "stderr",
     "output_type": "stream",
     "text": [
      "Lossy conversion from float32 to uint8. Range [-1.0, 0.9996615648269653]. Convert image to uint8 prior to saving to suppress this warning.\n"
     ]
    },
    {
     "name": "stdout",
     "output_type": "stream",
     "text": [
      "Iteration [102600/300000] | D_real_loss: 0.1979 | D_fake_loss: 0.0221 | G_loss: 0.1924 | D_loss: -0.1758 | Wasserstein_Distance: 0.1758\n",
      "Saved ./results/samples_gan_gp1_lr3e-5/sample-102600.png\n"
     ]
    },
    {
     "name": "stderr",
     "output_type": "stream",
     "text": [
      "Lossy conversion from float32 to uint8. Range [-1.0, 0.9996530413627625]. Convert image to uint8 prior to saving to suppress this warning.\n"
     ]
    },
    {
     "name": "stdout",
     "output_type": "stream",
     "text": [
      "Iteration [102800/300000] | D_real_loss: -0.0036 | D_fake_loss: -0.1859 | G_loss: 0.0448 | D_loss: -0.1824 | Wasserstein_Distance: 0.1824\n",
      "Saved ./results/samples_gan_gp1_lr3e-5/sample-102800.png\n",
      "EPOCH: 265\n"
     ]
    },
    {
     "name": "stderr",
     "output_type": "stream",
     "text": [
      "Lossy conversion from float32 to uint8. Range [-1.0, 0.9996412396430969]. Convert image to uint8 prior to saving to suppress this warning.\n"
     ]
    },
    {
     "name": "stdout",
     "output_type": "stream",
     "text": [
      "Iteration [103000/300000] | D_real_loss: 0.1320 | D_fake_loss: -0.0638 | G_loss: 0.1648 | D_loss: -0.1957 | Wasserstein_Distance: 0.1957\n",
      "Saved ./results/samples_gan_gp1_lr3e-5/sample-103000.png\n"
     ]
    },
    {
     "name": "stderr",
     "output_type": "stream",
     "text": [
      "Lossy conversion from float32 to uint8. Range [-1.0, 0.9996787309646606]. Convert image to uint8 prior to saving to suppress this warning.\n"
     ]
    },
    {
     "name": "stdout",
     "output_type": "stream",
     "text": [
      "Iteration [103200/300000] | D_real_loss: -0.0737 | D_fake_loss: -0.2276 | G_loss: 0.0246 | D_loss: -0.1539 | Wasserstein_Distance: 0.1539\n",
      "Saved ./results/samples_gan_gp1_lr3e-5/sample-103200.png\n",
      "EPOCH: 266\n"
     ]
    },
    {
     "name": "stderr",
     "output_type": "stream",
     "text": [
      "Lossy conversion from float32 to uint8. Range [-1.0, 0.9998299479484558]. Convert image to uint8 prior to saving to suppress this warning.\n"
     ]
    },
    {
     "name": "stdout",
     "output_type": "stream",
     "text": [
      "Iteration [103400/300000] | D_real_loss: 0.1614 | D_fake_loss: -0.0652 | G_loss: 0.1940 | D_loss: -0.2266 | Wasserstein_Distance: 0.2266\n",
      "Saved ./results/samples_gan_gp1_lr3e-5/sample-103400.png\n"
     ]
    },
    {
     "name": "stderr",
     "output_type": "stream",
     "text": [
      "Lossy conversion from float32 to uint8. Range [-1.0, 0.9996482729911804]. Convert image to uint8 prior to saving to suppress this warning.\n"
     ]
    },
    {
     "name": "stdout",
     "output_type": "stream",
     "text": [
      "Iteration [103600/300000] | D_real_loss: 0.1381 | D_fake_loss: -0.0758 | G_loss: 0.1500 | D_loss: -0.2139 | Wasserstein_Distance: 0.2139\n",
      "Saved ./results/samples_gan_gp1_lr3e-5/sample-103600.png\n",
      "EPOCH: 267\n"
     ]
    },
    {
     "name": "stderr",
     "output_type": "stream",
     "text": [
      "Lossy conversion from float32 to uint8. Range [-1.0, 0.9997501969337463]. Convert image to uint8 prior to saving to suppress this warning.\n"
     ]
    },
    {
     "name": "stdout",
     "output_type": "stream",
     "text": [
      "Iteration [103800/300000] | D_real_loss: 0.1571 | D_fake_loss: -0.0614 | G_loss: 0.1931 | D_loss: -0.2185 | Wasserstein_Distance: 0.2185\n",
      "Saved ./results/samples_gan_gp1_lr3e-5/sample-103800.png\n"
     ]
    },
    {
     "name": "stderr",
     "output_type": "stream",
     "text": [
      "Lossy conversion from float32 to uint8. Range [-1.0, 0.9997532963752747]. Convert image to uint8 prior to saving to suppress this warning.\n"
     ]
    },
    {
     "name": "stdout",
     "output_type": "stream",
     "text": [
      "Iteration [104000/300000] | D_real_loss: 0.0442 | D_fake_loss: -0.1701 | G_loss: 0.0382 | D_loss: -0.2144 | Wasserstein_Distance: 0.2144\n",
      "Saved ./results/samples_gan_gp1_lr3e-5/sample-104000.png\n",
      "EPOCH: 268\n"
     ]
    },
    {
     "name": "stderr",
     "output_type": "stream",
     "text": [
      "Lossy conversion from float32 to uint8. Range [-1.0, 0.9996967315673828]. Convert image to uint8 prior to saving to suppress this warning.\n"
     ]
    },
    {
     "name": "stdout",
     "output_type": "stream",
     "text": [
      "Iteration [104200/300000] | D_real_loss: 0.1640 | D_fake_loss: -0.0200 | G_loss: 0.1948 | D_loss: -0.1841 | Wasserstein_Distance: 0.1841\n",
      "Saved ./results/samples_gan_gp1_lr3e-5/sample-104200.png\n"
     ]
    },
    {
     "name": "stderr",
     "output_type": "stream",
     "text": [
      "Lossy conversion from float32 to uint8. Range [-1.0, 0.9996954202651978]. Convert image to uint8 prior to saving to suppress this warning.\n"
     ]
    },
    {
     "name": "stdout",
     "output_type": "stream",
     "text": [
      "Iteration [104400/300000] | D_real_loss: -0.0368 | D_fake_loss: -0.1960 | G_loss: 0.0432 | D_loss: -0.1592 | Wasserstein_Distance: 0.1592\n",
      "Saved ./results/samples_gan_gp1_lr3e-5/sample-104400.png\n",
      "EPOCH: 269\n"
     ]
    },
    {
     "name": "stderr",
     "output_type": "stream",
     "text": [
      "Lossy conversion from float32 to uint8. Range [-1.0, 0.9997890591621399]. Convert image to uint8 prior to saving to suppress this warning.\n"
     ]
    },
    {
     "name": "stdout",
     "output_type": "stream",
     "text": [
      "Iteration [104600/300000] | D_real_loss: 0.0512 | D_fake_loss: -0.1656 | G_loss: 0.0527 | D_loss: -0.2168 | Wasserstein_Distance: 0.2168\n",
      "Saved ./results/samples_gan_gp1_lr3e-5/sample-104600.png\n"
     ]
    },
    {
     "name": "stderr",
     "output_type": "stream",
     "text": [
      "Lossy conversion from float32 to uint8. Range [-1.0, 0.9997802376747131]. Convert image to uint8 prior to saving to suppress this warning.\n"
     ]
    },
    {
     "name": "stdout",
     "output_type": "stream",
     "text": [
      "Iteration [104800/300000] | D_real_loss: 0.1904 | D_fake_loss: -0.0102 | G_loss: 0.2224 | D_loss: -0.2006 | Wasserstein_Distance: 0.2006\n",
      "Saved ./results/samples_gan_gp1_lr3e-5/sample-104800.png\n",
      "EPOCH: 270\n"
     ]
    },
    {
     "name": "stderr",
     "output_type": "stream",
     "text": [
      "Lossy conversion from float32 to uint8. Range [-1.0, 0.9996882677078247]. Convert image to uint8 prior to saving to suppress this warning.\n"
     ]
    },
    {
     "name": "stdout",
     "output_type": "stream",
     "text": [
      "Iteration [105000/300000] | D_real_loss: 0.1515 | D_fake_loss: -0.0550 | G_loss: 0.1666 | D_loss: -0.2065 | Wasserstein_Distance: 0.2065\n",
      "Saved ./results/samples_gan_gp1_lr3e-5/sample-105000.png\n"
     ]
    },
    {
     "name": "stderr",
     "output_type": "stream",
     "text": [
      "Lossy conversion from float32 to uint8. Range [-1.0, 0.99968421459198]. Convert image to uint8 prior to saving to suppress this warning.\n"
     ]
    },
    {
     "name": "stdout",
     "output_type": "stream",
     "text": [
      "Iteration [105200/300000] | D_real_loss: 0.1751 | D_fake_loss: -0.0563 | G_loss: 0.2192 | D_loss: -0.2314 | Wasserstein_Distance: 0.2314\n",
      "Saved ./results/samples_gan_gp1_lr3e-5/sample-105200.png\n",
      "EPOCH: 271\n"
     ]
    },
    {
     "name": "stderr",
     "output_type": "stream",
     "text": [
      "Lossy conversion from float32 to uint8. Range [-1.0, 0.999557614326477]. Convert image to uint8 prior to saving to suppress this warning.\n"
     ]
    },
    {
     "name": "stdout",
     "output_type": "stream",
     "text": [
      "Iteration [105400/300000] | D_real_loss: -0.0072 | D_fake_loss: -0.1815 | G_loss: 0.0266 | D_loss: -0.1743 | Wasserstein_Distance: 0.1743\n",
      "Saved ./results/samples_gan_gp1_lr3e-5/sample-105400.png\n"
     ]
    },
    {
     "name": "stderr",
     "output_type": "stream",
     "text": [
      "Lossy conversion from float32 to uint8. Range [-1.0, 0.9996286630630493]. Convert image to uint8 prior to saving to suppress this warning.\n"
     ]
    },
    {
     "name": "stdout",
     "output_type": "stream",
     "text": [
      "Iteration [105600/300000] | D_real_loss: 0.1813 | D_fake_loss: -0.0332 | G_loss: 0.1922 | D_loss: -0.2144 | Wasserstein_Distance: 0.2144\n",
      "Saved ./results/samples_gan_gp1_lr3e-5/sample-105600.png\n",
      "EPOCH: 272\n"
     ]
    },
    {
     "name": "stderr",
     "output_type": "stream",
     "text": [
      "Lossy conversion from float32 to uint8. Range [-1.0, 0.9992427229881287]. Convert image to uint8 prior to saving to suppress this warning.\n"
     ]
    },
    {
     "name": "stdout",
     "output_type": "stream",
     "text": [
      "Iteration [105800/300000] | D_real_loss: 0.0644 | D_fake_loss: -0.1339 | G_loss: 0.0636 | D_loss: -0.1984 | Wasserstein_Distance: 0.1984\n",
      "Saved ./results/samples_gan_gp1_lr3e-5/sample-105800.png\n"
     ]
    },
    {
     "name": "stderr",
     "output_type": "stream",
     "text": [
      "Lossy conversion from float32 to uint8. Range [-1.0, 0.9994893670082092]. Convert image to uint8 prior to saving to suppress this warning.\n"
     ]
    },
    {
     "name": "stdout",
     "output_type": "stream",
     "text": [
      "Iteration [106000/300000] | D_real_loss: -0.0264 | D_fake_loss: -0.2107 | G_loss: 0.0284 | D_loss: -0.1843 | Wasserstein_Distance: 0.1843\n",
      "Saved ./results/samples_gan_gp1_lr3e-5/sample-106000.png\n",
      "EPOCH: 273\n"
     ]
    },
    {
     "name": "stderr",
     "output_type": "stream",
     "text": [
      "Lossy conversion from float32 to uint8. Range [-1.0, 0.9997296333312988]. Convert image to uint8 prior to saving to suppress this warning.\n"
     ]
    },
    {
     "name": "stdout",
     "output_type": "stream",
     "text": [
      "Iteration [106200/300000] | D_real_loss: 0.1350 | D_fake_loss: -0.0531 | G_loss: 0.1751 | D_loss: -0.1881 | Wasserstein_Distance: 0.1881\n",
      "Saved ./results/samples_gan_gp1_lr3e-5/sample-106200.png\n"
     ]
    },
    {
     "name": "stderr",
     "output_type": "stream",
     "text": [
      "Lossy conversion from float32 to uint8. Range [-1.0, 0.9997548460960388]. Convert image to uint8 prior to saving to suppress this warning.\n"
     ]
    },
    {
     "name": "stdout",
     "output_type": "stream",
     "text": [
      "Iteration [106400/300000] | D_real_loss: 0.1469 | D_fake_loss: -0.0836 | G_loss: 0.1667 | D_loss: -0.2305 | Wasserstein_Distance: 0.2305\n",
      "Saved ./results/samples_gan_gp1_lr3e-5/sample-106400.png\n",
      "EPOCH: 274\n"
     ]
    },
    {
     "name": "stderr",
     "output_type": "stream",
     "text": [
      "Lossy conversion from float32 to uint8. Range [-1.0, 0.9997189044952393]. Convert image to uint8 prior to saving to suppress this warning.\n"
     ]
    },
    {
     "name": "stdout",
     "output_type": "stream",
     "text": [
      "Iteration [106600/300000] | D_real_loss: 0.0257 | D_fake_loss: -0.1767 | G_loss: 0.0437 | D_loss: -0.2024 | Wasserstein_Distance: 0.2024\n",
      "Saved ./results/samples_gan_gp1_lr3e-5/sample-106600.png\n"
     ]
    },
    {
     "name": "stderr",
     "output_type": "stream",
     "text": [
      "Lossy conversion from float32 to uint8. Range [-1.0, 0.9996150732040405]. Convert image to uint8 prior to saving to suppress this warning.\n"
     ]
    },
    {
     "name": "stdout",
     "output_type": "stream",
     "text": [
      "Iteration [106800/300000] | D_real_loss: 0.1789 | D_fake_loss: -0.0357 | G_loss: 0.2057 | D_loss: -0.2145 | Wasserstein_Distance: 0.2145\n",
      "Saved ./results/samples_gan_gp1_lr3e-5/sample-106800.png\n",
      "EPOCH: 275\n"
     ]
    },
    {
     "name": "stderr",
     "output_type": "stream",
     "text": [
      "Lossy conversion from float32 to uint8. Range [-1.0, 0.9997331500053406]. Convert image to uint8 prior to saving to suppress this warning.\n"
     ]
    },
    {
     "name": "stdout",
     "output_type": "stream",
     "text": [
      "Iteration [107000/300000] | D_real_loss: 0.0772 | D_fake_loss: -0.1701 | G_loss: 0.0616 | D_loss: -0.2474 | Wasserstein_Distance: 0.2474\n",
      "Saved ./results/samples_gan_gp1_lr3e-5/sample-107000.png\n"
     ]
    },
    {
     "name": "stderr",
     "output_type": "stream",
     "text": [
      "Lossy conversion from float32 to uint8. Range [-1.0, 0.9996654987335205]. Convert image to uint8 prior to saving to suppress this warning.\n"
     ]
    },
    {
     "name": "stdout",
     "output_type": "stream",
     "text": [
      "Iteration [107200/300000] | D_real_loss: 0.0654 | D_fake_loss: -0.1614 | G_loss: 0.0591 | D_loss: -0.2268 | Wasserstein_Distance: 0.2268\n",
      "Saved ./results/samples_gan_gp1_lr3e-5/sample-107200.png\n",
      "EPOCH: 276\n"
     ]
    },
    {
     "name": "stderr",
     "output_type": "stream",
     "text": [
      "Lossy conversion from float32 to uint8. Range [-1.0, 0.9997877478599548]. Convert image to uint8 prior to saving to suppress this warning.\n"
     ]
    },
    {
     "name": "stdout",
     "output_type": "stream",
     "text": [
      "Iteration [107400/300000] | D_real_loss: 0.0160 | D_fake_loss: -0.1542 | G_loss: 0.0247 | D_loss: -0.1702 | Wasserstein_Distance: 0.1702\n",
      "Saved ./results/samples_gan_gp1_lr3e-5/sample-107400.png\n"
     ]
    },
    {
     "name": "stderr",
     "output_type": "stream",
     "text": [
      "Lossy conversion from float32 to uint8. Range [-1.0, 0.9998030066490173]. Convert image to uint8 prior to saving to suppress this warning.\n"
     ]
    },
    {
     "name": "stdout",
     "output_type": "stream",
     "text": [
      "Iteration [107600/300000] | D_real_loss: 0.1737 | D_fake_loss: -0.0331 | G_loss: 0.2010 | D_loss: -0.2068 | Wasserstein_Distance: 0.2068\n",
      "Saved ./results/samples_gan_gp1_lr3e-5/sample-107600.png\n",
      "EPOCH: 277\n"
     ]
    },
    {
     "name": "stderr",
     "output_type": "stream",
     "text": [
      "Lossy conversion from float32 to uint8. Range [-1.0, 0.9997143149375916]. Convert image to uint8 prior to saving to suppress this warning.\n"
     ]
    },
    {
     "name": "stdout",
     "output_type": "stream",
     "text": [
      "Iteration [107800/300000] | D_real_loss: 0.1965 | D_fake_loss: 0.0087 | G_loss: 0.1907 | D_loss: -0.1879 | Wasserstein_Distance: 0.1879\n",
      "Saved ./results/samples_gan_gp1_lr3e-5/sample-107800.png\n"
     ]
    },
    {
     "name": "stderr",
     "output_type": "stream",
     "text": [
      "Lossy conversion from float32 to uint8. Range [-1.0, 0.9996954798698425]. Convert image to uint8 prior to saving to suppress this warning.\n"
     ]
    },
    {
     "name": "stdout",
     "output_type": "stream",
     "text": [
      "Iteration [108000/300000] | D_real_loss: 0.0868 | D_fake_loss: -0.1309 | G_loss: 0.1377 | D_loss: -0.2178 | Wasserstein_Distance: 0.2178\n",
      "Saved ./results/samples_gan_gp1_lr3e-5/sample-108000.png\n",
      "EPOCH: 278\n"
     ]
    },
    {
     "name": "stderr",
     "output_type": "stream",
     "text": [
      "Lossy conversion from float32 to uint8. Range [-1.0, 0.9995997548103333]. Convert image to uint8 prior to saving to suppress this warning.\n"
     ]
    },
    {
     "name": "stdout",
     "output_type": "stream",
     "text": [
      "Iteration [108200/300000] | D_real_loss: 0.0572 | D_fake_loss: -0.1609 | G_loss: 0.0558 | D_loss: -0.2181 | Wasserstein_Distance: 0.2181\n",
      "Saved ./results/samples_gan_gp1_lr3e-5/sample-108200.png\n"
     ]
    },
    {
     "name": "stderr",
     "output_type": "stream",
     "text": [
      "Lossy conversion from float32 to uint8. Range [-1.0, 0.999777615070343]. Convert image to uint8 prior to saving to suppress this warning.\n"
     ]
    },
    {
     "name": "stdout",
     "output_type": "stream",
     "text": [
      "Iteration [108400/300000] | D_real_loss: 0.1855 | D_fake_loss: -0.0189 | G_loss: 0.1827 | D_loss: -0.2044 | Wasserstein_Distance: 0.2044\n",
      "Saved ./results/samples_gan_gp1_lr3e-5/sample-108400.png\n",
      "EPOCH: 279\n"
     ]
    },
    {
     "name": "stderr",
     "output_type": "stream",
     "text": [
      "Lossy conversion from float32 to uint8. Range [-1.0, 0.9994354844093323]. Convert image to uint8 prior to saving to suppress this warning.\n"
     ]
    },
    {
     "name": "stdout",
     "output_type": "stream",
     "text": [
      "Iteration [108600/300000] | D_real_loss: 0.1283 | D_fake_loss: -0.0514 | G_loss: 0.1498 | D_loss: -0.1796 | Wasserstein_Distance: 0.1796\n",
      "Saved ./results/samples_gan_gp1_lr3e-5/sample-108600.png\n"
     ]
    },
    {
     "name": "stderr",
     "output_type": "stream",
     "text": [
      "Lossy conversion from float32 to uint8. Range [-1.0, 0.9997004866600037]. Convert image to uint8 prior to saving to suppress this warning.\n"
     ]
    },
    {
     "name": "stdout",
     "output_type": "stream",
     "text": [
      "Iteration [108800/300000] | D_real_loss: 0.0371 | D_fake_loss: -0.1642 | G_loss: 0.0262 | D_loss: -0.2014 | Wasserstein_Distance: 0.2014\n",
      "Saved ./results/samples_gan_gp1_lr3e-5/sample-108800.png\n",
      "EPOCH: 280\n"
     ]
    },
    {
     "name": "stderr",
     "output_type": "stream",
     "text": [
      "Lossy conversion from float32 to uint8. Range [-1.0, 0.99958336353302]. Convert image to uint8 prior to saving to suppress this warning.\n"
     ]
    },
    {
     "name": "stdout",
     "output_type": "stream",
     "text": [
      "Iteration [109000/300000] | D_real_loss: 0.1694 | D_fake_loss: -0.0178 | G_loss: 0.1857 | D_loss: -0.1872 | Wasserstein_Distance: 0.1872\n",
      "Saved ./results/samples_gan_gp1_lr3e-5/sample-109000.png\n"
     ]
    },
    {
     "name": "stderr",
     "output_type": "stream",
     "text": [
      "Lossy conversion from float32 to uint8. Range [-1.0, 0.9996933937072754]. Convert image to uint8 prior to saving to suppress this warning.\n"
     ]
    },
    {
     "name": "stdout",
     "output_type": "stream",
     "text": [
      "Iteration [109200/300000] | D_real_loss: 0.1022 | D_fake_loss: -0.0649 | G_loss: 0.1528 | D_loss: -0.1671 | Wasserstein_Distance: 0.1671\n",
      "Saved ./results/samples_gan_gp1_lr3e-5/sample-109200.png\n",
      "EPOCH: 281\n"
     ]
    },
    {
     "name": "stderr",
     "output_type": "stream",
     "text": [
      "Lossy conversion from float32 to uint8. Range [-1.0, 0.9997276663780212]. Convert image to uint8 prior to saving to suppress this warning.\n"
     ]
    },
    {
     "name": "stdout",
     "output_type": "stream",
     "text": [
      "Iteration [109400/300000] | D_real_loss: 0.1802 | D_fake_loss: -0.0206 | G_loss: 0.1931 | D_loss: -0.2007 | Wasserstein_Distance: 0.2007\n",
      "Saved ./results/samples_gan_gp1_lr3e-5/sample-109400.png\n",
      "EPOCH: 282\n"
     ]
    },
    {
     "name": "stderr",
     "output_type": "stream",
     "text": [
      "Lossy conversion from float32 to uint8. Range [-1.0, 0.9996651411056519]. Convert image to uint8 prior to saving to suppress this warning.\n"
     ]
    },
    {
     "name": "stdout",
     "output_type": "stream",
     "text": [
      "Iteration [109600/300000] | D_real_loss: 0.0460 | D_fake_loss: -0.1710 | G_loss: 0.0594 | D_loss: -0.2170 | Wasserstein_Distance: 0.2170\n",
      "Saved ./results/samples_gan_gp1_lr3e-5/sample-109600.png\n"
     ]
    },
    {
     "name": "stderr",
     "output_type": "stream",
     "text": [
      "Lossy conversion from float32 to uint8. Range [-1.0, 0.9996476769447327]. Convert image to uint8 prior to saving to suppress this warning.\n"
     ]
    },
    {
     "name": "stdout",
     "output_type": "stream",
     "text": [
      "Iteration [109800/300000] | D_real_loss: 0.1718 | D_fake_loss: -0.0410 | G_loss: 0.2078 | D_loss: -0.2128 | Wasserstein_Distance: 0.2128\n",
      "Saved ./results/samples_gan_gp1_lr3e-5/sample-109800.png\n",
      "EPOCH: 283\n"
     ]
    },
    {
     "name": "stderr",
     "output_type": "stream",
     "text": [
      "Lossy conversion from float32 to uint8. Range [-1.0, 0.9994942545890808]. Convert image to uint8 prior to saving to suppress this warning.\n"
     ]
    },
    {
     "name": "stdout",
     "output_type": "stream",
     "text": [
      "Iteration [110000/300000] | D_real_loss: 0.1654 | D_fake_loss: -0.0425 | G_loss: 0.2069 | D_loss: -0.2079 | Wasserstein_Distance: 0.2079\n",
      "Saved ./results/samples_gan_gp1_lr3e-5/sample-110000.png\n"
     ]
    },
    {
     "name": "stderr",
     "output_type": "stream",
     "text": [
      "Lossy conversion from float32 to uint8. Range [-1.0, 0.9996166825294495]. Convert image to uint8 prior to saving to suppress this warning.\n"
     ]
    },
    {
     "name": "stdout",
     "output_type": "stream",
     "text": [
      "Iteration [110200/300000] | D_real_loss: -0.0070 | D_fake_loss: -0.1937 | G_loss: 0.0553 | D_loss: -0.1867 | Wasserstein_Distance: 0.1867\n",
      "Saved ./results/samples_gan_gp1_lr3e-5/sample-110200.png\n",
      "EPOCH: 284\n"
     ]
    },
    {
     "name": "stderr",
     "output_type": "stream",
     "text": [
      "Lossy conversion from float32 to uint8. Range [-1.0, 0.9996845722198486]. Convert image to uint8 prior to saving to suppress this warning.\n"
     ]
    },
    {
     "name": "stdout",
     "output_type": "stream",
     "text": [
      "Iteration [110400/300000] | D_real_loss: 0.0359 | D_fake_loss: -0.1708 | G_loss: 0.0498 | D_loss: -0.2067 | Wasserstein_Distance: 0.2067\n",
      "Saved ./results/samples_gan_gp1_lr3e-5/sample-110400.png\n"
     ]
    },
    {
     "name": "stderr",
     "output_type": "stream",
     "text": [
      "Lossy conversion from float32 to uint8. Range [-1.0, 0.9995162487030029]. Convert image to uint8 prior to saving to suppress this warning.\n"
     ]
    },
    {
     "name": "stdout",
     "output_type": "stream",
     "text": [
      "Iteration [110600/300000] | D_real_loss: 0.1856 | D_fake_loss: -0.0086 | G_loss: 0.2029 | D_loss: -0.1942 | Wasserstein_Distance: 0.1942\n",
      "Saved ./results/samples_gan_gp1_lr3e-5/sample-110600.png\n",
      "EPOCH: 285\n"
     ]
    },
    {
     "name": "stderr",
     "output_type": "stream",
     "text": [
      "Lossy conversion from float32 to uint8. Range [-1.0, 0.9994693994522095]. Convert image to uint8 prior to saving to suppress this warning.\n"
     ]
    },
    {
     "name": "stdout",
     "output_type": "stream",
     "text": [
      "Iteration [110800/300000] | D_real_loss: -0.0265 | D_fake_loss: -0.2094 | G_loss: 0.0347 | D_loss: -0.1830 | Wasserstein_Distance: 0.1830\n",
      "Saved ./results/samples_gan_gp1_lr3e-5/sample-110800.png\n"
     ]
    },
    {
     "name": "stderr",
     "output_type": "stream",
     "text": [
      "Lossy conversion from float32 to uint8. Range [-1.0, 0.9995285868644714]. Convert image to uint8 prior to saving to suppress this warning.\n"
     ]
    },
    {
     "name": "stdout",
     "output_type": "stream",
     "text": [
      "Iteration [111000/300000] | D_real_loss: -0.0320 | D_fake_loss: -0.2121 | G_loss: 0.0154 | D_loss: -0.1801 | Wasserstein_Distance: 0.1801\n",
      "Saved ./results/samples_gan_gp1_lr3e-5/sample-111000.png\n",
      "EPOCH: 286\n"
     ]
    },
    {
     "name": "stderr",
     "output_type": "stream",
     "text": [
      "Lossy conversion from float32 to uint8. Range [-1.0, 0.9996228218078613]. Convert image to uint8 prior to saving to suppress this warning.\n"
     ]
    },
    {
     "name": "stdout",
     "output_type": "stream",
     "text": [
      "Iteration [111200/300000] | D_real_loss: 0.1705 | D_fake_loss: -0.0255 | G_loss: 0.2157 | D_loss: -0.1960 | Wasserstein_Distance: 0.1960\n",
      "Saved ./results/samples_gan_gp1_lr3e-5/sample-111200.png\n"
     ]
    },
    {
     "name": "stderr",
     "output_type": "stream",
     "text": [
      "Lossy conversion from float32 to uint8. Range [-1.0, 0.9997233152389526]. Convert image to uint8 prior to saving to suppress this warning.\n"
     ]
    },
    {
     "name": "stdout",
     "output_type": "stream",
     "text": [
      "Iteration [111400/300000] | D_real_loss: 0.0328 | D_fake_loss: -0.1658 | G_loss: 0.0461 | D_loss: -0.1985 | Wasserstein_Distance: 0.1985\n",
      "Saved ./results/samples_gan_gp1_lr3e-5/sample-111400.png\n",
      "EPOCH: 287\n"
     ]
    },
    {
     "name": "stderr",
     "output_type": "stream",
     "text": [
      "Lossy conversion from float32 to uint8. Range [-1.0, 0.999557375907898]. Convert image to uint8 prior to saving to suppress this warning.\n"
     ]
    },
    {
     "name": "stdout",
     "output_type": "stream",
     "text": [
      "Iteration [111600/300000] | D_real_loss: 0.0692 | D_fake_loss: -0.1581 | G_loss: 0.0643 | D_loss: -0.2273 | Wasserstein_Distance: 0.2273\n",
      "Saved ./results/samples_gan_gp1_lr3e-5/sample-111600.png\n"
     ]
    },
    {
     "name": "stderr",
     "output_type": "stream",
     "text": [
      "Lossy conversion from float32 to uint8. Range [-1.0, 0.9996517300605774]. Convert image to uint8 prior to saving to suppress this warning.\n"
     ]
    },
    {
     "name": "stdout",
     "output_type": "stream",
     "text": [
      "Iteration [111800/300000] | D_real_loss: -0.0114 | D_fake_loss: -0.1937 | G_loss: 0.0226 | D_loss: -0.1823 | Wasserstein_Distance: 0.1823\n",
      "Saved ./results/samples_gan_gp1_lr3e-5/sample-111800.png\n",
      "EPOCH: 288\n"
     ]
    },
    {
     "name": "stderr",
     "output_type": "stream",
     "text": [
      "Lossy conversion from float32 to uint8. Range [-1.0, 0.9997249245643616]. Convert image to uint8 prior to saving to suppress this warning.\n"
     ]
    },
    {
     "name": "stdout",
     "output_type": "stream",
     "text": [
      "Iteration [112000/300000] | D_real_loss: 0.1821 | D_fake_loss: 0.0205 | G_loss: 0.1643 | D_loss: -0.1616 | Wasserstein_Distance: 0.1616\n",
      "Saved ./results/samples_gan_gp1_lr3e-5/sample-112000.png\n"
     ]
    },
    {
     "name": "stderr",
     "output_type": "stream",
     "text": [
      "Lossy conversion from float32 to uint8. Range [-1.0, 0.9998599290847778]. Convert image to uint8 prior to saving to suppress this warning.\n"
     ]
    },
    {
     "name": "stdout",
     "output_type": "stream",
     "text": [
      "Iteration [112200/300000] | D_real_loss: 0.0058 | D_fake_loss: -0.1886 | G_loss: 0.0039 | D_loss: -0.1944 | Wasserstein_Distance: 0.1944\n",
      "Saved ./results/samples_gan_gp1_lr3e-5/sample-112200.png\n",
      "EPOCH: 289\n"
     ]
    },
    {
     "name": "stderr",
     "output_type": "stream",
     "text": [
      "Lossy conversion from float32 to uint8. Range [-1.0, 0.9997351765632629]. Convert image to uint8 prior to saving to suppress this warning.\n"
     ]
    },
    {
     "name": "stdout",
     "output_type": "stream",
     "text": [
      "Iteration [112400/300000] | D_real_loss: 0.1448 | D_fake_loss: -0.0593 | G_loss: 0.1895 | D_loss: -0.2041 | Wasserstein_Distance: 0.2041\n",
      "Saved ./results/samples_gan_gp1_lr3e-5/sample-112400.png\n"
     ]
    },
    {
     "name": "stderr",
     "output_type": "stream",
     "text": [
      "Lossy conversion from float32 to uint8. Range [-1.0, 0.9998242259025574]. Convert image to uint8 prior to saving to suppress this warning.\n"
     ]
    },
    {
     "name": "stdout",
     "output_type": "stream",
     "text": [
      "Iteration [112600/300000] | D_real_loss: 0.0303 | D_fake_loss: -0.1734 | G_loss: 0.0215 | D_loss: -0.2037 | Wasserstein_Distance: 0.2037\n",
      "Saved ./results/samples_gan_gp1_lr3e-5/sample-112600.png\n",
      "EPOCH: 290\n"
     ]
    },
    {
     "name": "stderr",
     "output_type": "stream",
     "text": [
      "Lossy conversion from float32 to uint8. Range [-1.0, 0.9996973276138306]. Convert image to uint8 prior to saving to suppress this warning.\n"
     ]
    },
    {
     "name": "stdout",
     "output_type": "stream",
     "text": [
      "Iteration [112800/300000] | D_real_loss: 0.1540 | D_fake_loss: -0.0462 | G_loss: 0.1799 | D_loss: -0.2002 | Wasserstein_Distance: 0.2002\n",
      "Saved ./results/samples_gan_gp1_lr3e-5/sample-112800.png\n"
     ]
    },
    {
     "name": "stderr",
     "output_type": "stream",
     "text": [
      "Lossy conversion from float32 to uint8. Range [-1.0, 0.9997960925102234]. Convert image to uint8 prior to saving to suppress this warning.\n"
     ]
    },
    {
     "name": "stdout",
     "output_type": "stream",
     "text": [
      "Iteration [113000/300000] | D_real_loss: 0.0006 | D_fake_loss: -0.1987 | G_loss: 0.0090 | D_loss: -0.1993 | Wasserstein_Distance: 0.1993\n",
      "Saved ./results/samples_gan_gp1_lr3e-5/sample-113000.png\n",
      "EPOCH: 291\n"
     ]
    },
    {
     "name": "stderr",
     "output_type": "stream",
     "text": [
      "Lossy conversion from float32 to uint8. Range [-1.0, 0.9998664259910583]. Convert image to uint8 prior to saving to suppress this warning.\n"
     ]
    },
    {
     "name": "stdout",
     "output_type": "stream",
     "text": [
      "Iteration [113200/300000] | D_real_loss: 0.0061 | D_fake_loss: -0.1915 | G_loss: -0.0129 | D_loss: -0.1976 | Wasserstein_Distance: 0.1976\n",
      "Saved ./results/samples_gan_gp1_lr3e-5/sample-113200.png\n"
     ]
    },
    {
     "name": "stderr",
     "output_type": "stream",
     "text": [
      "Lossy conversion from float32 to uint8. Range [-1.0, 0.9998031258583069]. Convert image to uint8 prior to saving to suppress this warning.\n"
     ]
    },
    {
     "name": "stdout",
     "output_type": "stream",
     "text": [
      "Iteration [113400/300000] | D_real_loss: 0.1447 | D_fake_loss: -0.0461 | G_loss: 0.1615 | D_loss: -0.1908 | Wasserstein_Distance: 0.1908\n",
      "Saved ./results/samples_gan_gp1_lr3e-5/sample-113400.png\n",
      "EPOCH: 292\n"
     ]
    },
    {
     "name": "stderr",
     "output_type": "stream",
     "text": [
      "Lossy conversion from float32 to uint8. Range [-1.0, 0.9996609687805176]. Convert image to uint8 prior to saving to suppress this warning.\n"
     ]
    },
    {
     "name": "stdout",
     "output_type": "stream",
     "text": [
      "Iteration [113600/300000] | D_real_loss: 0.1596 | D_fake_loss: -0.0243 | G_loss: 0.1885 | D_loss: -0.1839 | Wasserstein_Distance: 0.1839\n",
      "Saved ./results/samples_gan_gp1_lr3e-5/sample-113600.png\n"
     ]
    },
    {
     "name": "stderr",
     "output_type": "stream",
     "text": [
      "Lossy conversion from float32 to uint8. Range [-1.0, 0.9995816946029663]. Convert image to uint8 prior to saving to suppress this warning.\n"
     ]
    },
    {
     "name": "stdout",
     "output_type": "stream",
     "text": [
      "Iteration [113800/300000] | D_real_loss: 0.1609 | D_fake_loss: -0.0290 | G_loss: 0.1587 | D_loss: -0.1899 | Wasserstein_Distance: 0.1899\n",
      "Saved ./results/samples_gan_gp1_lr3e-5/sample-113800.png\n",
      "EPOCH: 293\n"
     ]
    },
    {
     "name": "stderr",
     "output_type": "stream",
     "text": [
      "Lossy conversion from float32 to uint8. Range [-1.0, 0.9996159672737122]. Convert image to uint8 prior to saving to suppress this warning.\n"
     ]
    },
    {
     "name": "stdout",
     "output_type": "stream",
     "text": [
      "Iteration [114000/300000] | D_real_loss: 0.0445 | D_fake_loss: -0.1586 | G_loss: 0.0539 | D_loss: -0.2031 | Wasserstein_Distance: 0.2031\n",
      "Saved ./results/samples_gan_gp1_lr3e-5/sample-114000.png\n"
     ]
    },
    {
     "name": "stderr",
     "output_type": "stream",
     "text": [
      "Lossy conversion from float32 to uint8. Range [-1.0, 0.9997429251670837]. Convert image to uint8 prior to saving to suppress this warning.\n"
     ]
    },
    {
     "name": "stdout",
     "output_type": "stream",
     "text": [
      "Iteration [114200/300000] | D_real_loss: -0.0372 | D_fake_loss: -0.2156 | G_loss: 0.0389 | D_loss: -0.1784 | Wasserstein_Distance: 0.1784\n",
      "Saved ./results/samples_gan_gp1_lr3e-5/sample-114200.png\n",
      "EPOCH: 294\n"
     ]
    },
    {
     "name": "stderr",
     "output_type": "stream",
     "text": [
      "Lossy conversion from float32 to uint8. Range [-1.0, 0.9995096921920776]. Convert image to uint8 prior to saving to suppress this warning.\n"
     ]
    },
    {
     "name": "stdout",
     "output_type": "stream",
     "text": [
      "Iteration [114400/300000] | D_real_loss: 0.0352 | D_fake_loss: -0.1790 | G_loss: 0.0210 | D_loss: -0.2142 | Wasserstein_Distance: 0.2142\n",
      "Saved ./results/samples_gan_gp1_lr3e-5/sample-114400.png\n"
     ]
    },
    {
     "name": "stderr",
     "output_type": "stream",
     "text": [
      "Lossy conversion from float32 to uint8. Range [-1.0, 0.9994555711746216]. Convert image to uint8 prior to saving to suppress this warning.\n"
     ]
    },
    {
     "name": "stdout",
     "output_type": "stream",
     "text": [
      "Iteration [114600/300000] | D_real_loss: -0.0056 | D_fake_loss: -0.2074 | G_loss: 0.0099 | D_loss: -0.2018 | Wasserstein_Distance: 0.2018\n",
      "Saved ./results/samples_gan_gp1_lr3e-5/sample-114600.png\n",
      "EPOCH: 295\n"
     ]
    },
    {
     "name": "stderr",
     "output_type": "stream",
     "text": [
      "Lossy conversion from float32 to uint8. Range [-1.0, 0.999619722366333]. Convert image to uint8 prior to saving to suppress this warning.\n"
     ]
    },
    {
     "name": "stdout",
     "output_type": "stream",
     "text": [
      "Iteration [114800/300000] | D_real_loss: 0.0187 | D_fake_loss: -0.1854 | G_loss: 0.0443 | D_loss: -0.2041 | Wasserstein_Distance: 0.2041\n",
      "Saved ./results/samples_gan_gp1_lr3e-5/sample-114800.png\n"
     ]
    },
    {
     "name": "stderr",
     "output_type": "stream",
     "text": [
      "Lossy conversion from float32 to uint8. Range [-1.0, 0.9995549321174622]. Convert image to uint8 prior to saving to suppress this warning.\n"
     ]
    },
    {
     "name": "stdout",
     "output_type": "stream",
     "text": [
      "Iteration [115000/300000] | D_real_loss: 0.1587 | D_fake_loss: -0.0251 | G_loss: 0.2084 | D_loss: -0.1838 | Wasserstein_Distance: 0.1838\n",
      "Saved ./results/samples_gan_gp1_lr3e-5/sample-115000.png\n",
      "EPOCH: 296\n"
     ]
    },
    {
     "name": "stderr",
     "output_type": "stream",
     "text": [
      "Lossy conversion from float32 to uint8. Range [-1.0, 0.9995567798614502]. Convert image to uint8 prior to saving to suppress this warning.\n"
     ]
    },
    {
     "name": "stdout",
     "output_type": "stream",
     "text": [
      "Iteration [115200/300000] | D_real_loss: 0.0081 | D_fake_loss: -0.1683 | G_loss: 0.0214 | D_loss: -0.1764 | Wasserstein_Distance: 0.1764\n",
      "Saved ./results/samples_gan_gp1_lr3e-5/sample-115200.png\n"
     ]
    },
    {
     "name": "stderr",
     "output_type": "stream",
     "text": [
      "Lossy conversion from float32 to uint8. Range [-1.0, 0.9997400641441345]. Convert image to uint8 prior to saving to suppress this warning.\n"
     ]
    },
    {
     "name": "stdout",
     "output_type": "stream",
     "text": [
      "Iteration [115400/300000] | D_real_loss: 0.0189 | D_fake_loss: -0.1777 | G_loss: 0.0500 | D_loss: -0.1966 | Wasserstein_Distance: 0.1966\n",
      "Saved ./results/samples_gan_gp1_lr3e-5/sample-115400.png\n",
      "EPOCH: 297\n"
     ]
    },
    {
     "name": "stderr",
     "output_type": "stream",
     "text": [
      "Lossy conversion from float32 to uint8. Range [-1.0, 0.9996873140335083]. Convert image to uint8 prior to saving to suppress this warning.\n"
     ]
    },
    {
     "name": "stdout",
     "output_type": "stream",
     "text": [
      "Iteration [115600/300000] | D_real_loss: 0.0165 | D_fake_loss: -0.1851 | G_loss: 0.0309 | D_loss: -0.2016 | Wasserstein_Distance: 0.2016\n",
      "Saved ./results/samples_gan_gp1_lr3e-5/sample-115600.png\n"
     ]
    },
    {
     "name": "stderr",
     "output_type": "stream",
     "text": [
      "Lossy conversion from float32 to uint8. Range [-1.0, 0.9997695684432983]. Convert image to uint8 prior to saving to suppress this warning.\n"
     ]
    },
    {
     "name": "stdout",
     "output_type": "stream",
     "text": [
      "Iteration [115800/300000] | D_real_loss: 0.1539 | D_fake_loss: -0.0500 | G_loss: 0.1878 | D_loss: -0.2039 | Wasserstein_Distance: 0.2039\n",
      "Saved ./results/samples_gan_gp1_lr3e-5/sample-115800.png\n",
      "EPOCH: 298\n"
     ]
    },
    {
     "name": "stderr",
     "output_type": "stream",
     "text": [
      "Lossy conversion from float32 to uint8. Range [-1.0, 0.9996414184570312]. Convert image to uint8 prior to saving to suppress this warning.\n"
     ]
    },
    {
     "name": "stdout",
     "output_type": "stream",
     "text": [
      "Iteration [116000/300000] | D_real_loss: 0.1093 | D_fake_loss: -0.0871 | G_loss: 0.1439 | D_loss: -0.1964 | Wasserstein_Distance: 0.1964\n",
      "Saved ./results/samples_gan_gp1_lr3e-5/sample-116000.png\n"
     ]
    },
    {
     "name": "stderr",
     "output_type": "stream",
     "text": [
      "Lossy conversion from float32 to uint8. Range [-1.0, 0.9996923208236694]. Convert image to uint8 prior to saving to suppress this warning.\n"
     ]
    },
    {
     "name": "stdout",
     "output_type": "stream",
     "text": [
      "Iteration [116200/300000] | D_real_loss: 0.0522 | D_fake_loss: -0.1447 | G_loss: 0.0746 | D_loss: -0.1969 | Wasserstein_Distance: 0.1969\n",
      "Saved ./results/samples_gan_gp1_lr3e-5/sample-116200.png\n",
      "EPOCH: 299\n"
     ]
    },
    {
     "name": "stderr",
     "output_type": "stream",
     "text": [
      "Lossy conversion from float32 to uint8. Range [-1.0, 0.9995608329772949]. Convert image to uint8 prior to saving to suppress this warning.\n"
     ]
    },
    {
     "name": "stdout",
     "output_type": "stream",
     "text": [
      "Iteration [116400/300000] | D_real_loss: -0.0029 | D_fake_loss: -0.1792 | G_loss: 0.0450 | D_loss: -0.1762 | Wasserstein_Distance: 0.1762\n",
      "Saved ./results/samples_gan_gp1_lr3e-5/sample-116400.png\n"
     ]
    },
    {
     "name": "stderr",
     "output_type": "stream",
     "text": [
      "Lossy conversion from float32 to uint8. Range [-1.0, 0.999714732170105]. Convert image to uint8 prior to saving to suppress this warning.\n"
     ]
    },
    {
     "name": "stdout",
     "output_type": "stream",
     "text": [
      "Iteration [116600/300000] | D_real_loss: 0.0211 | D_fake_loss: -0.1759 | G_loss: 0.0251 | D_loss: -0.1971 | Wasserstein_Distance: 0.1971\n",
      "Saved ./results/samples_gan_gp1_lr3e-5/sample-116600.png\n",
      "EPOCH: 300\n"
     ]
    },
    {
     "name": "stderr",
     "output_type": "stream",
     "text": [
      "Lossy conversion from float32 to uint8. Range [-1.0, 0.9997713565826416]. Convert image to uint8 prior to saving to suppress this warning.\n"
     ]
    },
    {
     "name": "stdout",
     "output_type": "stream",
     "text": [
      "Iteration [116800/300000] | D_real_loss: 0.0338 | D_fake_loss: -0.1816 | G_loss: 0.0356 | D_loss: -0.2154 | Wasserstein_Distance: 0.2154\n",
      "Saved ./results/samples_gan_gp1_lr3e-5/sample-116800.png\n"
     ]
    },
    {
     "name": "stderr",
     "output_type": "stream",
     "text": [
      "Lossy conversion from float32 to uint8. Range [-1.0, 0.9996667504310608]. Convert image to uint8 prior to saving to suppress this warning.\n"
     ]
    },
    {
     "name": "stdout",
     "output_type": "stream",
     "text": [
      "Iteration [117000/300000] | D_real_loss: 0.0201 | D_fake_loss: -0.1890 | G_loss: 0.0107 | D_loss: -0.2091 | Wasserstein_Distance: 0.2091\n",
      "Saved ./results/samples_gan_gp1_lr3e-5/sample-117000.png\n",
      "EPOCH: 301\n"
     ]
    },
    {
     "name": "stderr",
     "output_type": "stream",
     "text": [
      "Lossy conversion from float32 to uint8. Range [-1.0, 0.9998287558555603]. Convert image to uint8 prior to saving to suppress this warning.\n"
     ]
    },
    {
     "name": "stdout",
     "output_type": "stream",
     "text": [
      "Iteration [117200/300000] | D_real_loss: -0.0085 | D_fake_loss: -0.1909 | G_loss: 0.0037 | D_loss: -0.1824 | Wasserstein_Distance: 0.1824\n",
      "Saved ./results/samples_gan_gp1_lr3e-5/sample-117200.png\n",
      "EPOCH: 302\n"
     ]
    },
    {
     "name": "stderr",
     "output_type": "stream",
     "text": [
      "Lossy conversion from float32 to uint8. Range [-1.0, 0.9997208118438721]. Convert image to uint8 prior to saving to suppress this warning.\n"
     ]
    },
    {
     "name": "stdout",
     "output_type": "stream",
     "text": [
      "Iteration [117400/300000] | D_real_loss: 0.1351 | D_fake_loss: -0.0665 | G_loss: 0.1510 | D_loss: -0.2016 | Wasserstein_Distance: 0.2016\n",
      "Saved ./results/samples_gan_gp1_lr3e-5/sample-117400.png\n"
     ]
    },
    {
     "name": "stderr",
     "output_type": "stream",
     "text": [
      "Lossy conversion from float32 to uint8. Range [-1.0, 0.9996630549430847]. Convert image to uint8 prior to saving to suppress this warning.\n"
     ]
    },
    {
     "name": "stdout",
     "output_type": "stream",
     "text": [
      "Iteration [117600/300000] | D_real_loss: 0.1676 | D_fake_loss: -0.0553 | G_loss: 0.1806 | D_loss: -0.2229 | Wasserstein_Distance: 0.2229\n",
      "Saved ./results/samples_gan_gp1_lr3e-5/sample-117600.png\n",
      "EPOCH: 303\n"
     ]
    },
    {
     "name": "stderr",
     "output_type": "stream",
     "text": [
      "Lossy conversion from float32 to uint8. Range [-1.0, 0.9997135996818542]. Convert image to uint8 prior to saving to suppress this warning.\n"
     ]
    },
    {
     "name": "stdout",
     "output_type": "stream",
     "text": [
      "Iteration [117800/300000] | D_real_loss: 0.0654 | D_fake_loss: -0.1429 | G_loss: 0.0650 | D_loss: -0.2083 | Wasserstein_Distance: 0.2083\n",
      "Saved ./results/samples_gan_gp1_lr3e-5/sample-117800.png\n"
     ]
    },
    {
     "name": "stderr",
     "output_type": "stream",
     "text": [
      "Lossy conversion from float32 to uint8. Range [-1.0, 0.9997652173042297]. Convert image to uint8 prior to saving to suppress this warning.\n"
     ]
    },
    {
     "name": "stdout",
     "output_type": "stream",
     "text": [
      "Iteration [118000/300000] | D_real_loss: 0.1518 | D_fake_loss: -0.0457 | G_loss: 0.1722 | D_loss: -0.1975 | Wasserstein_Distance: 0.1975\n",
      "Saved ./results/samples_gan_gp1_lr3e-5/sample-118000.png\n",
      "EPOCH: 304\n"
     ]
    },
    {
     "name": "stderr",
     "output_type": "stream",
     "text": [
      "Lossy conversion from float32 to uint8. Range [-1.0, 0.9997721910476685]. Convert image to uint8 prior to saving to suppress this warning.\n"
     ]
    },
    {
     "name": "stdout",
     "output_type": "stream",
     "text": [
      "Iteration [118200/300000] | D_real_loss: 0.0399 | D_fake_loss: -0.1568 | G_loss: 0.0645 | D_loss: -0.1967 | Wasserstein_Distance: 0.1967\n",
      "Saved ./results/samples_gan_gp1_lr3e-5/sample-118200.png\n"
     ]
    },
    {
     "name": "stderr",
     "output_type": "stream",
     "text": [
      "Lossy conversion from float32 to uint8. Range [-1.0, 0.9997227787971497]. Convert image to uint8 prior to saving to suppress this warning.\n"
     ]
    },
    {
     "name": "stdout",
     "output_type": "stream",
     "text": [
      "Iteration [118400/300000] | D_real_loss: 0.1736 | D_fake_loss: -0.0172 | G_loss: 0.1992 | D_loss: -0.1908 | Wasserstein_Distance: 0.1908\n",
      "Saved ./results/samples_gan_gp1_lr3e-5/sample-118400.png\n",
      "EPOCH: 305\n"
     ]
    },
    {
     "name": "stderr",
     "output_type": "stream",
     "text": [
      "Lossy conversion from float32 to uint8. Range [-1.0, 0.9997813701629639]. Convert image to uint8 prior to saving to suppress this warning.\n"
     ]
    },
    {
     "name": "stdout",
     "output_type": "stream",
     "text": [
      "Iteration [118600/300000] | D_real_loss: 0.0709 | D_fake_loss: -0.1581 | G_loss: 0.0861 | D_loss: -0.2290 | Wasserstein_Distance: 0.2290\n",
      "Saved ./results/samples_gan_gp1_lr3e-5/sample-118600.png\n"
     ]
    },
    {
     "name": "stderr",
     "output_type": "stream",
     "text": [
      "Lossy conversion from float32 to uint8. Range [-1.0, 0.999731719493866]. Convert image to uint8 prior to saving to suppress this warning.\n"
     ]
    },
    {
     "name": "stdout",
     "output_type": "stream",
     "text": [
      "Iteration [118800/300000] | D_real_loss: 0.0119 | D_fake_loss: -0.1916 | G_loss: 0.0276 | D_loss: -0.2035 | Wasserstein_Distance: 0.2035\n",
      "Saved ./results/samples_gan_gp1_lr3e-5/sample-118800.png\n",
      "EPOCH: 306\n"
     ]
    },
    {
     "name": "stderr",
     "output_type": "stream",
     "text": [
      "Lossy conversion from float32 to uint8. Range [-1.0, 0.9996951818466187]. Convert image to uint8 prior to saving to suppress this warning.\n"
     ]
    },
    {
     "name": "stdout",
     "output_type": "stream",
     "text": [
      "Iteration [119000/300000] | D_real_loss: 0.1436 | D_fake_loss: -0.0495 | G_loss: 0.1753 | D_loss: -0.1930 | Wasserstein_Distance: 0.1930\n",
      "Saved ./results/samples_gan_gp1_lr3e-5/sample-119000.png\n"
     ]
    },
    {
     "name": "stderr",
     "output_type": "stream",
     "text": [
      "Lossy conversion from float32 to uint8. Range [-1.0, 0.9997782111167908]. Convert image to uint8 prior to saving to suppress this warning.\n"
     ]
    },
    {
     "name": "stdout",
     "output_type": "stream",
     "text": [
      "Iteration [119200/300000] | D_real_loss: 0.0301 | D_fake_loss: -0.1696 | G_loss: 0.0550 | D_loss: -0.1997 | Wasserstein_Distance: 0.1997\n",
      "Saved ./results/samples_gan_gp1_lr3e-5/sample-119200.png\n",
      "EPOCH: 307\n"
     ]
    },
    {
     "name": "stderr",
     "output_type": "stream",
     "text": [
      "Lossy conversion from float32 to uint8. Range [-1.0, 0.9996108412742615]. Convert image to uint8 prior to saving to suppress this warning.\n"
     ]
    },
    {
     "name": "stdout",
     "output_type": "stream",
     "text": [
      "Iteration [119400/300000] | D_real_loss: 0.0052 | D_fake_loss: -0.1696 | G_loss: 0.0508 | D_loss: -0.1748 | Wasserstein_Distance: 0.1748\n",
      "Saved ./results/samples_gan_gp1_lr3e-5/sample-119400.png\n"
     ]
    },
    {
     "name": "stderr",
     "output_type": "stream",
     "text": [
      "Lossy conversion from float32 to uint8. Range [-1.0, 0.9995816946029663]. Convert image to uint8 prior to saving to suppress this warning.\n"
     ]
    },
    {
     "name": "stdout",
     "output_type": "stream",
     "text": [
      "Iteration [119600/300000] | D_real_loss: 0.0445 | D_fake_loss: -0.1692 | G_loss: 0.0684 | D_loss: -0.2137 | Wasserstein_Distance: 0.2137\n",
      "Saved ./results/samples_gan_gp1_lr3e-5/sample-119600.png\n",
      "EPOCH: 308\n"
     ]
    },
    {
     "name": "stderr",
     "output_type": "stream",
     "text": [
      "Lossy conversion from float32 to uint8. Range [-1.0, 0.9996981620788574]. Convert image to uint8 prior to saving to suppress this warning.\n"
     ]
    },
    {
     "name": "stdout",
     "output_type": "stream",
     "text": [
      "Iteration [119800/300000] | D_real_loss: 0.0405 | D_fake_loss: -0.1559 | G_loss: 0.0472 | D_loss: -0.1964 | Wasserstein_Distance: 0.1964\n",
      "Saved ./results/samples_gan_gp1_lr3e-5/sample-119800.png\n"
     ]
    },
    {
     "name": "stderr",
     "output_type": "stream",
     "text": [
      "Lossy conversion from float32 to uint8. Range [-1.0, 0.999605655670166]. Convert image to uint8 prior to saving to suppress this warning.\n"
     ]
    },
    {
     "name": "stdout",
     "output_type": "stream",
     "text": [
      "Iteration [120000/300000] | D_real_loss: 0.1819 | D_fake_loss: -0.0007 | G_loss: 0.1919 | D_loss: -0.1826 | Wasserstein_Distance: 0.1826\n",
      "Saved ./results/samples_gan_gp1_lr3e-5/sample-120000.png\n",
      "EPOCH: 309\n"
     ]
    },
    {
     "name": "stderr",
     "output_type": "stream",
     "text": [
      "Lossy conversion from float32 to uint8. Range [-1.0, 0.9997875690460205]. Convert image to uint8 prior to saving to suppress this warning.\n"
     ]
    },
    {
     "name": "stdout",
     "output_type": "stream",
     "text": [
      "Iteration [120200/300000] | D_real_loss: 0.0463 | D_fake_loss: -0.1654 | G_loss: 0.0370 | D_loss: -0.2117 | Wasserstein_Distance: 0.2117\n",
      "Saved ./results/samples_gan_gp1_lr3e-5/sample-120200.png\n"
     ]
    },
    {
     "name": "stderr",
     "output_type": "stream",
     "text": [
      "Lossy conversion from float32 to uint8. Range [-1.0, 0.9997900724411011]. Convert image to uint8 prior to saving to suppress this warning.\n"
     ]
    },
    {
     "name": "stdout",
     "output_type": "stream",
     "text": [
      "Iteration [120400/300000] | D_real_loss: 0.1336 | D_fake_loss: -0.0231 | G_loss: 0.1564 | D_loss: -0.1566 | Wasserstein_Distance: 0.1566\n",
      "Saved ./results/samples_gan_gp1_lr3e-5/sample-120400.png\n",
      "EPOCH: 310\n"
     ]
    },
    {
     "name": "stderr",
     "output_type": "stream",
     "text": [
      "Lossy conversion from float32 to uint8. Range [-1.0, 0.9997191429138184]. Convert image to uint8 prior to saving to suppress this warning.\n"
     ]
    },
    {
     "name": "stdout",
     "output_type": "stream",
     "text": [
      "Iteration [120600/300000] | D_real_loss: 0.0286 | D_fake_loss: -0.1732 | G_loss: 0.0350 | D_loss: -0.2018 | Wasserstein_Distance: 0.2018\n",
      "Saved ./results/samples_gan_gp1_lr3e-5/sample-120600.png\n"
     ]
    },
    {
     "name": "stderr",
     "output_type": "stream",
     "text": [
      "Lossy conversion from float32 to uint8. Range [-1.0, 0.9996700286865234]. Convert image to uint8 prior to saving to suppress this warning.\n"
     ]
    },
    {
     "name": "stdout",
     "output_type": "stream",
     "text": [
      "Iteration [120800/300000] | D_real_loss: 0.0323 | D_fake_loss: -0.1532 | G_loss: 0.0516 | D_loss: -0.1855 | Wasserstein_Distance: 0.1855\n",
      "Saved ./results/samples_gan_gp1_lr3e-5/sample-120800.png\n",
      "EPOCH: 311\n"
     ]
    },
    {
     "name": "stderr",
     "output_type": "stream",
     "text": [
      "Lossy conversion from float32 to uint8. Range [-1.0, 0.9997673630714417]. Convert image to uint8 prior to saving to suppress this warning.\n"
     ]
    },
    {
     "name": "stdout",
     "output_type": "stream",
     "text": [
      "Iteration [121000/300000] | D_real_loss: 0.0726 | D_fake_loss: -0.1361 | G_loss: 0.0605 | D_loss: -0.2087 | Wasserstein_Distance: 0.2087\n",
      "Saved ./results/samples_gan_gp1_lr3e-5/sample-121000.png\n"
     ]
    },
    {
     "name": "stderr",
     "output_type": "stream",
     "text": [
      "Lossy conversion from float32 to uint8. Range [-1.0, 0.9995256066322327]. Convert image to uint8 prior to saving to suppress this warning.\n"
     ]
    },
    {
     "name": "stdout",
     "output_type": "stream",
     "text": [
      "Iteration [121200/300000] | D_real_loss: 0.0143 | D_fake_loss: -0.1702 | G_loss: 0.0353 | D_loss: -0.1845 | Wasserstein_Distance: 0.1845\n",
      "Saved ./results/samples_gan_gp1_lr3e-5/sample-121200.png\n",
      "EPOCH: 312\n"
     ]
    },
    {
     "name": "stderr",
     "output_type": "stream",
     "text": [
      "Lossy conversion from float32 to uint8. Range [-1.0, 0.9997301697731018]. Convert image to uint8 prior to saving to suppress this warning.\n"
     ]
    },
    {
     "name": "stdout",
     "output_type": "stream",
     "text": [
      "Iteration [121400/300000] | D_real_loss: 0.1801 | D_fake_loss: -0.0098 | G_loss: 0.2091 | D_loss: -0.1899 | Wasserstein_Distance: 0.1899\n",
      "Saved ./results/samples_gan_gp1_lr3e-5/sample-121400.png\n"
     ]
    },
    {
     "name": "stderr",
     "output_type": "stream",
     "text": [
      "Lossy conversion from float32 to uint8. Range [-1.0, 0.9997351765632629]. Convert image to uint8 prior to saving to suppress this warning.\n"
     ]
    },
    {
     "name": "stdout",
     "output_type": "stream",
     "text": [
      "Iteration [121600/300000] | D_real_loss: 0.1948 | D_fake_loss: -0.0062 | G_loss: 0.2195 | D_loss: -0.2010 | Wasserstein_Distance: 0.2010\n",
      "Saved ./results/samples_gan_gp1_lr3e-5/sample-121600.png\n",
      "EPOCH: 313\n"
     ]
    },
    {
     "name": "stderr",
     "output_type": "stream",
     "text": [
      "Lossy conversion from float32 to uint8. Range [-1.0, 0.9997613430023193]. Convert image to uint8 prior to saving to suppress this warning.\n"
     ]
    },
    {
     "name": "stdout",
     "output_type": "stream",
     "text": [
      "Iteration [121800/300000] | D_real_loss: 0.0148 | D_fake_loss: -0.1525 | G_loss: 0.0586 | D_loss: -0.1673 | Wasserstein_Distance: 0.1673\n",
      "Saved ./results/samples_gan_gp1_lr3e-5/sample-121800.png\n"
     ]
    },
    {
     "name": "stderr",
     "output_type": "stream",
     "text": [
      "Lossy conversion from float32 to uint8. Range [-1.0, 0.9998111724853516]. Convert image to uint8 prior to saving to suppress this warning.\n"
     ]
    },
    {
     "name": "stdout",
     "output_type": "stream",
     "text": [
      "Iteration [122000/300000] | D_real_loss: -0.0066 | D_fake_loss: -0.1884 | G_loss: 0.0124 | D_loss: -0.1818 | Wasserstein_Distance: 0.1818\n",
      "Saved ./results/samples_gan_gp1_lr3e-5/sample-122000.png\n",
      "EPOCH: 314\n"
     ]
    },
    {
     "name": "stderr",
     "output_type": "stream",
     "text": [
      "Lossy conversion from float32 to uint8. Range [-1.0, 0.9996950030326843]. Convert image to uint8 prior to saving to suppress this warning.\n"
     ]
    },
    {
     "name": "stdout",
     "output_type": "stream",
     "text": [
      "Iteration [122200/300000] | D_real_loss: -0.0246 | D_fake_loss: -0.1804 | G_loss: 0.0599 | D_loss: -0.1558 | Wasserstein_Distance: 0.1558\n",
      "Saved ./results/samples_gan_gp1_lr3e-5/sample-122200.png\n"
     ]
    },
    {
     "name": "stderr",
     "output_type": "stream",
     "text": [
      "Lossy conversion from float32 to uint8. Range [-1.0, 0.9997782111167908]. Convert image to uint8 prior to saving to suppress this warning.\n"
     ]
    },
    {
     "name": "stdout",
     "output_type": "stream",
     "text": [
      "Iteration [122400/300000] | D_real_loss: 0.1419 | D_fake_loss: -0.0279 | G_loss: 0.1313 | D_loss: -0.1698 | Wasserstein_Distance: 0.1698\n",
      "Saved ./results/samples_gan_gp1_lr3e-5/sample-122400.png\n",
      "EPOCH: 315\n"
     ]
    },
    {
     "name": "stderr",
     "output_type": "stream",
     "text": [
      "Lossy conversion from float32 to uint8. Range [-1.0, 0.9997726678848267]. Convert image to uint8 prior to saving to suppress this warning.\n"
     ]
    },
    {
     "name": "stdout",
     "output_type": "stream",
     "text": [
      "Iteration [122600/300000] | D_real_loss: 0.0766 | D_fake_loss: -0.1334 | G_loss: 0.0639 | D_loss: -0.2100 | Wasserstein_Distance: 0.2100\n",
      "Saved ./results/samples_gan_gp1_lr3e-5/sample-122600.png\n"
     ]
    },
    {
     "name": "stderr",
     "output_type": "stream",
     "text": [
      "Lossy conversion from float32 to uint8. Range [-1.0, 0.9996952414512634]. Convert image to uint8 prior to saving to suppress this warning.\n"
     ]
    },
    {
     "name": "stdout",
     "output_type": "stream",
     "text": [
      "Iteration [122800/300000] | D_real_loss: 0.1529 | D_fake_loss: -0.0334 | G_loss: 0.1790 | D_loss: -0.1863 | Wasserstein_Distance: 0.1863\n",
      "Saved ./results/samples_gan_gp1_lr3e-5/sample-122800.png\n",
      "EPOCH: 316\n"
     ]
    },
    {
     "name": "stderr",
     "output_type": "stream",
     "text": [
      "Lossy conversion from float32 to uint8. Range [-1.0, 0.9997855424880981]. Convert image to uint8 prior to saving to suppress this warning.\n"
     ]
    },
    {
     "name": "stdout",
     "output_type": "stream",
     "text": [
      "Iteration [123000/300000] | D_real_loss: 0.1798 | D_fake_loss: -0.0100 | G_loss: 0.2064 | D_loss: -0.1898 | Wasserstein_Distance: 0.1898\n",
      "Saved ./results/samples_gan_gp1_lr3e-5/sample-123000.png\n"
     ]
    },
    {
     "name": "stderr",
     "output_type": "stream",
     "text": [
      "Lossy conversion from float32 to uint8. Range [-1.0, 0.9997958540916443]. Convert image to uint8 prior to saving to suppress this warning.\n"
     ]
    },
    {
     "name": "stdout",
     "output_type": "stream",
     "text": [
      "Iteration [123200/300000] | D_real_loss: -0.0629 | D_fake_loss: -0.2154 | G_loss: 0.0307 | D_loss: -0.1526 | Wasserstein_Distance: 0.1526\n",
      "Saved ./results/samples_gan_gp1_lr3e-5/sample-123200.png\n",
      "EPOCH: 317\n"
     ]
    },
    {
     "name": "stderr",
     "output_type": "stream",
     "text": [
      "Lossy conversion from float32 to uint8. Range [-1.0, 0.999709963798523]. Convert image to uint8 prior to saving to suppress this warning.\n"
     ]
    },
    {
     "name": "stdout",
     "output_type": "stream",
     "text": [
      "Iteration [123400/300000] | D_real_loss: 0.0921 | D_fake_loss: -0.1160 | G_loss: 0.1021 | D_loss: -0.2081 | Wasserstein_Distance: 0.2081\n",
      "Saved ./results/samples_gan_gp1_lr3e-5/sample-123400.png\n"
     ]
    },
    {
     "name": "stderr",
     "output_type": "stream",
     "text": [
      "Lossy conversion from float32 to uint8. Range [-1.0, 0.9997637867927551]. Convert image to uint8 prior to saving to suppress this warning.\n"
     ]
    },
    {
     "name": "stdout",
     "output_type": "stream",
     "text": [
      "Iteration [123600/300000] | D_real_loss: 0.1309 | D_fake_loss: -0.0710 | G_loss: 0.1678 | D_loss: -0.2019 | Wasserstein_Distance: 0.2019\n",
      "Saved ./results/samples_gan_gp1_lr3e-5/sample-123600.png\n",
      "EPOCH: 318\n"
     ]
    },
    {
     "name": "stderr",
     "output_type": "stream",
     "text": [
      "Lossy conversion from float32 to uint8. Range [-1.0, 0.9997839331626892]. Convert image to uint8 prior to saving to suppress this warning.\n"
     ]
    },
    {
     "name": "stdout",
     "output_type": "stream",
     "text": [
      "Iteration [123800/300000] | D_real_loss: 0.1439 | D_fake_loss: -0.0519 | G_loss: 0.1892 | D_loss: -0.1958 | Wasserstein_Distance: 0.1958\n",
      "Saved ./results/samples_gan_gp1_lr3e-5/sample-123800.png\n"
     ]
    },
    {
     "name": "stderr",
     "output_type": "stream",
     "text": [
      "Lossy conversion from float32 to uint8. Range [-1.0, 0.999737560749054]. Convert image to uint8 prior to saving to suppress this warning.\n"
     ]
    },
    {
     "name": "stdout",
     "output_type": "stream",
     "text": [
      "Iteration [124000/300000] | D_real_loss: 0.0022 | D_fake_loss: -0.1698 | G_loss: 0.0141 | D_loss: -0.1720 | Wasserstein_Distance: 0.1720\n",
      "Saved ./results/samples_gan_gp1_lr3e-5/sample-124000.png\n",
      "EPOCH: 319\n"
     ]
    },
    {
     "name": "stderr",
     "output_type": "stream",
     "text": [
      "Lossy conversion from float32 to uint8. Range [-1.0, 0.9997401237487793]. Convert image to uint8 prior to saving to suppress this warning.\n"
     ]
    },
    {
     "name": "stdout",
     "output_type": "stream",
     "text": [
      "Iteration [124200/300000] | D_real_loss: 0.0352 | D_fake_loss: -0.1663 | G_loss: 0.0317 | D_loss: -0.2015 | Wasserstein_Distance: 0.2015\n",
      "Saved ./results/samples_gan_gp1_lr3e-5/sample-124200.png\n"
     ]
    },
    {
     "name": "stderr",
     "output_type": "stream",
     "text": [
      "Lossy conversion from float32 to uint8. Range [-1.0, 0.9996588826179504]. Convert image to uint8 prior to saving to suppress this warning.\n"
     ]
    },
    {
     "name": "stdout",
     "output_type": "stream",
     "text": [
      "Iteration [124400/300000] | D_real_loss: 0.0103 | D_fake_loss: -0.1869 | G_loss: 0.0619 | D_loss: -0.1972 | Wasserstein_Distance: 0.1972\n",
      "Saved ./results/samples_gan_gp1_lr3e-5/sample-124400.png\n",
      "EPOCH: 320\n"
     ]
    },
    {
     "name": "stderr",
     "output_type": "stream",
     "text": [
      "Lossy conversion from float32 to uint8. Range [-1.0, 0.9996103048324585]. Convert image to uint8 prior to saving to suppress this warning.\n"
     ]
    },
    {
     "name": "stdout",
     "output_type": "stream",
     "text": [
      "Iteration [124600/300000] | D_real_loss: 0.0116 | D_fake_loss: -0.2016 | G_loss: 0.0292 | D_loss: -0.2132 | Wasserstein_Distance: 0.2132\n",
      "Saved ./results/samples_gan_gp1_lr3e-5/sample-124600.png\n"
     ]
    },
    {
     "name": "stderr",
     "output_type": "stream",
     "text": [
      "Lossy conversion from float32 to uint8. Range [-1.0, 0.9995743632316589]. Convert image to uint8 prior to saving to suppress this warning.\n"
     ]
    },
    {
     "name": "stdout",
     "output_type": "stream",
     "text": [
      "Iteration [124800/300000] | D_real_loss: 0.1679 | D_fake_loss: -0.0225 | G_loss: 0.2101 | D_loss: -0.1904 | Wasserstein_Distance: 0.1904\n",
      "Saved ./results/samples_gan_gp1_lr3e-5/sample-124800.png\n",
      "EPOCH: 321\n"
     ]
    },
    {
     "name": "stderr",
     "output_type": "stream",
     "text": [
      "Lossy conversion from float32 to uint8. Range [-1.0, 0.9995103478431702]. Convert image to uint8 prior to saving to suppress this warning.\n"
     ]
    },
    {
     "name": "stdout",
     "output_type": "stream",
     "text": [
      "Iteration [125000/300000] | D_real_loss: 0.0311 | D_fake_loss: -0.1765 | G_loss: 0.0449 | D_loss: -0.2076 | Wasserstein_Distance: 0.2076\n",
      "Saved ./results/samples_gan_gp1_lr3e-5/sample-125000.png\n",
      "EPOCH: 322\n"
     ]
    },
    {
     "name": "stderr",
     "output_type": "stream",
     "text": [
      "Lossy conversion from float32 to uint8. Range [-1.0, 0.9997905492782593]. Convert image to uint8 prior to saving to suppress this warning.\n"
     ]
    },
    {
     "name": "stdout",
     "output_type": "stream",
     "text": [
      "Iteration [125200/300000] | D_real_loss: 0.0047 | D_fake_loss: -0.1932 | G_loss: -0.0127 | D_loss: -0.1980 | Wasserstein_Distance: 0.1980\n",
      "Saved ./results/samples_gan_gp1_lr3e-5/sample-125200.png\n"
     ]
    },
    {
     "name": "stderr",
     "output_type": "stream",
     "text": [
      "Lossy conversion from float32 to uint8. Range [-1.0, 0.9996870160102844]. Convert image to uint8 prior to saving to suppress this warning.\n"
     ]
    },
    {
     "name": "stdout",
     "output_type": "stream",
     "text": [
      "Iteration [125400/300000] | D_real_loss: 0.1732 | D_fake_loss: -0.0080 | G_loss: 0.1935 | D_loss: -0.1812 | Wasserstein_Distance: 0.1812\n",
      "Saved ./results/samples_gan_gp1_lr3e-5/sample-125400.png\n",
      "EPOCH: 323\n"
     ]
    },
    {
     "name": "stderr",
     "output_type": "stream",
     "text": [
      "Lossy conversion from float32 to uint8. Range [-1.0, 0.9997946619987488]. Convert image to uint8 prior to saving to suppress this warning.\n"
     ]
    },
    {
     "name": "stdout",
     "output_type": "stream",
     "text": [
      "Iteration [125600/300000] | D_real_loss: -0.0400 | D_fake_loss: -0.2027 | G_loss: 0.0091 | D_loss: -0.1627 | Wasserstein_Distance: 0.1627\n",
      "Saved ./results/samples_gan_gp1_lr3e-5/sample-125600.png\n"
     ]
    },
    {
     "name": "stderr",
     "output_type": "stream",
     "text": [
      "Lossy conversion from float32 to uint8. Range [-1.0, 0.9997336864471436]. Convert image to uint8 prior to saving to suppress this warning.\n"
     ]
    },
    {
     "name": "stdout",
     "output_type": "stream",
     "text": [
      "Iteration [125800/300000] | D_real_loss: 0.1533 | D_fake_loss: -0.0209 | G_loss: 0.1675 | D_loss: -0.1742 | Wasserstein_Distance: 0.1742\n",
      "Saved ./results/samples_gan_gp1_lr3e-5/sample-125800.png\n",
      "EPOCH: 324\n"
     ]
    },
    {
     "name": "stderr",
     "output_type": "stream",
     "text": [
      "Lossy conversion from float32 to uint8. Range [-1.0, 0.9996997117996216]. Convert image to uint8 prior to saving to suppress this warning.\n"
     ]
    },
    {
     "name": "stdout",
     "output_type": "stream",
     "text": [
      "Iteration [126000/300000] | D_real_loss: -0.0579 | D_fake_loss: -0.2336 | G_loss: 0.0014 | D_loss: -0.1757 | Wasserstein_Distance: 0.1757\n",
      "Saved ./results/samples_gan_gp1_lr3e-5/sample-126000.png\n"
     ]
    },
    {
     "name": "stderr",
     "output_type": "stream",
     "text": [
      "Lossy conversion from float32 to uint8. Range [-1.0, 0.99969482421875]. Convert image to uint8 prior to saving to suppress this warning.\n"
     ]
    },
    {
     "name": "stdout",
     "output_type": "stream",
     "text": [
      "Iteration [126200/300000] | D_real_loss: 0.0100 | D_fake_loss: -0.1731 | G_loss: 0.0255 | D_loss: -0.1831 | Wasserstein_Distance: 0.1831\n",
      "Saved ./results/samples_gan_gp1_lr3e-5/sample-126200.png\n",
      "EPOCH: 325\n"
     ]
    },
    {
     "name": "stderr",
     "output_type": "stream",
     "text": [
      "Lossy conversion from float32 to uint8. Range [-1.0, 0.9996819496154785]. Convert image to uint8 prior to saving to suppress this warning.\n"
     ]
    },
    {
     "name": "stdout",
     "output_type": "stream",
     "text": [
      "Iteration [126400/300000] | D_real_loss: 0.1501 | D_fake_loss: -0.0458 | G_loss: 0.1968 | D_loss: -0.1959 | Wasserstein_Distance: 0.1959\n",
      "Saved ./results/samples_gan_gp1_lr3e-5/sample-126400.png\n"
     ]
    },
    {
     "name": "stderr",
     "output_type": "stream",
     "text": [
      "Lossy conversion from float32 to uint8. Range [-1.0, 0.9998656511306763]. Convert image to uint8 prior to saving to suppress this warning.\n"
     ]
    },
    {
     "name": "stdout",
     "output_type": "stream",
     "text": [
      "Iteration [126600/300000] | D_real_loss: -0.0214 | D_fake_loss: -0.1880 | G_loss: 0.0296 | D_loss: -0.1666 | Wasserstein_Distance: 0.1666\n",
      "Saved ./results/samples_gan_gp1_lr3e-5/sample-126600.png\n",
      "EPOCH: 326\n"
     ]
    },
    {
     "name": "stderr",
     "output_type": "stream",
     "text": [
      "Lossy conversion from float32 to uint8. Range [-1.0, 0.9998140931129456]. Convert image to uint8 prior to saving to suppress this warning.\n"
     ]
    },
    {
     "name": "stdout",
     "output_type": "stream",
     "text": [
      "Iteration [126800/300000] | D_real_loss: -0.0371 | D_fake_loss: -0.2033 | G_loss: 0.0142 | D_loss: -0.1662 | Wasserstein_Distance: 0.1662\n",
      "Saved ./results/samples_gan_gp1_lr3e-5/sample-126800.png\n"
     ]
    },
    {
     "name": "stderr",
     "output_type": "stream",
     "text": [
      "Lossy conversion from float32 to uint8. Range [-1.0, 0.9997256398200989]. Convert image to uint8 prior to saving to suppress this warning.\n"
     ]
    },
    {
     "name": "stdout",
     "output_type": "stream",
     "text": [
      "Iteration [127000/300000] | D_real_loss: -0.0468 | D_fake_loss: -0.2174 | G_loss: 0.0157 | D_loss: -0.1707 | Wasserstein_Distance: 0.1707\n",
      "Saved ./results/samples_gan_gp1_lr3e-5/sample-127000.png\n",
      "EPOCH: 327\n"
     ]
    },
    {
     "name": "stderr",
     "output_type": "stream",
     "text": [
      "Lossy conversion from float32 to uint8. Range [-1.0, 0.9998237490653992]. Convert image to uint8 prior to saving to suppress this warning.\n"
     ]
    },
    {
     "name": "stdout",
     "output_type": "stream",
     "text": [
      "Iteration [127200/300000] | D_real_loss: 0.1651 | D_fake_loss: -0.0290 | G_loss: 0.2040 | D_loss: -0.1941 | Wasserstein_Distance: 0.1941\n",
      "Saved ./results/samples_gan_gp1_lr3e-5/sample-127200.png\n"
     ]
    },
    {
     "name": "stderr",
     "output_type": "stream",
     "text": [
      "Lossy conversion from float32 to uint8. Range [-1.0, 0.9998465180397034]. Convert image to uint8 prior to saving to suppress this warning.\n"
     ]
    },
    {
     "name": "stdout",
     "output_type": "stream",
     "text": [
      "Iteration [127400/300000] | D_real_loss: 0.0236 | D_fake_loss: -0.1383 | G_loss: 0.0633 | D_loss: -0.1619 | Wasserstein_Distance: 0.1619\n",
      "Saved ./results/samples_gan_gp1_lr3e-5/sample-127400.png\n",
      "EPOCH: 328\n"
     ]
    },
    {
     "name": "stderr",
     "output_type": "stream",
     "text": [
      "Lossy conversion from float32 to uint8. Range [-1.0, 0.9997729659080505]. Convert image to uint8 prior to saving to suppress this warning.\n"
     ]
    },
    {
     "name": "stdout",
     "output_type": "stream",
     "text": [
      "Iteration [127600/300000] | D_real_loss: 0.1688 | D_fake_loss: -0.0129 | G_loss: 0.1977 | D_loss: -0.1817 | Wasserstein_Distance: 0.1817\n",
      "Saved ./results/samples_gan_gp1_lr3e-5/sample-127600.png\n"
     ]
    },
    {
     "name": "stderr",
     "output_type": "stream",
     "text": [
      "Lossy conversion from float32 to uint8. Range [-1.0, 0.9997062683105469]. Convert image to uint8 prior to saving to suppress this warning.\n"
     ]
    },
    {
     "name": "stdout",
     "output_type": "stream",
     "text": [
      "Iteration [127800/300000] | D_real_loss: -0.0406 | D_fake_loss: -0.2016 | G_loss: -0.0295 | D_loss: -0.1610 | Wasserstein_Distance: 0.1610\n",
      "Saved ./results/samples_gan_gp1_lr3e-5/sample-127800.png\n",
      "EPOCH: 329\n"
     ]
    },
    {
     "name": "stderr",
     "output_type": "stream",
     "text": [
      "Lossy conversion from float32 to uint8. Range [-1.0, 0.999713659286499]. Convert image to uint8 prior to saving to suppress this warning.\n"
     ]
    },
    {
     "name": "stdout",
     "output_type": "stream",
     "text": [
      "Iteration [128000/300000] | D_real_loss: -0.0043 | D_fake_loss: -0.2007 | G_loss: 0.0056 | D_loss: -0.1964 | Wasserstein_Distance: 0.1964\n",
      "Saved ./results/samples_gan_gp1_lr3e-5/sample-128000.png\n"
     ]
    },
    {
     "name": "stderr",
     "output_type": "stream",
     "text": [
      "Lossy conversion from float32 to uint8. Range [-1.0, 0.9997766017913818]. Convert image to uint8 prior to saving to suppress this warning.\n"
     ]
    },
    {
     "name": "stdout",
     "output_type": "stream",
     "text": [
      "Iteration [128200/300000] | D_real_loss: 0.1481 | D_fake_loss: -0.0526 | G_loss: 0.2123 | D_loss: -0.2007 | Wasserstein_Distance: 0.2007\n",
      "Saved ./results/samples_gan_gp1_lr3e-5/sample-128200.png\n",
      "EPOCH: 330\n"
     ]
    },
    {
     "name": "stderr",
     "output_type": "stream",
     "text": [
      "Lossy conversion from float32 to uint8. Range [-1.0, 0.9998330473899841]. Convert image to uint8 prior to saving to suppress this warning.\n"
     ]
    },
    {
     "name": "stdout",
     "output_type": "stream",
     "text": [
      "Iteration [128400/300000] | D_real_loss: 0.1806 | D_fake_loss: -0.0327 | G_loss: 0.2157 | D_loss: -0.2133 | Wasserstein_Distance: 0.2133\n",
      "Saved ./results/samples_gan_gp1_lr3e-5/sample-128400.png\n"
     ]
    },
    {
     "name": "stderr",
     "output_type": "stream",
     "text": [
      "Lossy conversion from float32 to uint8. Range [-1.0, 0.9997922778129578]. Convert image to uint8 prior to saving to suppress this warning.\n"
     ]
    },
    {
     "name": "stdout",
     "output_type": "stream",
     "text": [
      "Iteration [128600/300000] | D_real_loss: -0.0181 | D_fake_loss: -0.2044 | G_loss: 0.0395 | D_loss: -0.1863 | Wasserstein_Distance: 0.1863\n",
      "Saved ./results/samples_gan_gp1_lr3e-5/sample-128600.png\n",
      "EPOCH: 331\n"
     ]
    },
    {
     "name": "stderr",
     "output_type": "stream",
     "text": [
      "Lossy conversion from float32 to uint8. Range [-1.0, 0.9997221231460571]. Convert image to uint8 prior to saving to suppress this warning.\n"
     ]
    },
    {
     "name": "stdout",
     "output_type": "stream",
     "text": [
      "Iteration [128800/300000] | D_real_loss: 0.1752 | D_fake_loss: -0.0482 | G_loss: 0.2027 | D_loss: -0.2234 | Wasserstein_Distance: 0.2234\n",
      "Saved ./results/samples_gan_gp1_lr3e-5/sample-128800.png\n"
     ]
    },
    {
     "name": "stderr",
     "output_type": "stream",
     "text": [
      "Lossy conversion from float32 to uint8. Range [-1.0, 0.9998051524162292]. Convert image to uint8 prior to saving to suppress this warning.\n"
     ]
    },
    {
     "name": "stdout",
     "output_type": "stream",
     "text": [
      "Iteration [129000/300000] | D_real_loss: 0.0061 | D_fake_loss: -0.1970 | G_loss: -0.0067 | D_loss: -0.2031 | Wasserstein_Distance: 0.2031\n",
      "Saved ./results/samples_gan_gp1_lr3e-5/sample-129000.png\n",
      "EPOCH: 332\n"
     ]
    },
    {
     "name": "stderr",
     "output_type": "stream",
     "text": [
      "Lossy conversion from float32 to uint8. Range [-1.0, 0.9998139142990112]. Convert image to uint8 prior to saving to suppress this warning.\n"
     ]
    },
    {
     "name": "stdout",
     "output_type": "stream",
     "text": [
      "Iteration [129200/300000] | D_real_loss: -0.0396 | D_fake_loss: -0.2009 | G_loss: 0.0212 | D_loss: -0.1613 | Wasserstein_Distance: 0.1613\n",
      "Saved ./results/samples_gan_gp1_lr3e-5/sample-129200.png\n"
     ]
    },
    {
     "name": "stderr",
     "output_type": "stream",
     "text": [
      "Lossy conversion from float32 to uint8. Range [-1.0, 0.9996474385261536]. Convert image to uint8 prior to saving to suppress this warning.\n"
     ]
    },
    {
     "name": "stdout",
     "output_type": "stream",
     "text": [
      "Iteration [129400/300000] | D_real_loss: 0.0345 | D_fake_loss: -0.1720 | G_loss: 0.0136 | D_loss: -0.2065 | Wasserstein_Distance: 0.2065\n",
      "Saved ./results/samples_gan_gp1_lr3e-5/sample-129400.png\n",
      "EPOCH: 333\n"
     ]
    },
    {
     "name": "stderr",
     "output_type": "stream",
     "text": [
      "Lossy conversion from float32 to uint8. Range [-1.0, 0.9995655417442322]. Convert image to uint8 prior to saving to suppress this warning.\n"
     ]
    },
    {
     "name": "stdout",
     "output_type": "stream",
     "text": [
      "Iteration [129600/300000] | D_real_loss: 0.0159 | D_fake_loss: -0.1734 | G_loss: 0.0167 | D_loss: -0.1893 | Wasserstein_Distance: 0.1893\n",
      "Saved ./results/samples_gan_gp1_lr3e-5/sample-129600.png\n"
     ]
    },
    {
     "name": "stderr",
     "output_type": "stream",
     "text": [
      "Lossy conversion from float32 to uint8. Range [-1.0, 0.9995349645614624]. Convert image to uint8 prior to saving to suppress this warning.\n"
     ]
    },
    {
     "name": "stdout",
     "output_type": "stream",
     "text": [
      "Iteration [129800/300000] | D_real_loss: 0.0598 | D_fake_loss: -0.1371 | G_loss: 0.0787 | D_loss: -0.1969 | Wasserstein_Distance: 0.1969\n",
      "Saved ./results/samples_gan_gp1_lr3e-5/sample-129800.png\n",
      "EPOCH: 334\n"
     ]
    },
    {
     "name": "stderr",
     "output_type": "stream",
     "text": [
      "Lossy conversion from float32 to uint8. Range [-1.0, 0.9997701644897461]. Convert image to uint8 prior to saving to suppress this warning.\n"
     ]
    },
    {
     "name": "stdout",
     "output_type": "stream",
     "text": [
      "Iteration [130000/300000] | D_real_loss: 0.0669 | D_fake_loss: -0.1430 | G_loss: 0.0494 | D_loss: -0.2098 | Wasserstein_Distance: 0.2098\n",
      "Saved ./results/samples_gan_gp1_lr3e-5/sample-130000.png\n"
     ]
    },
    {
     "name": "stderr",
     "output_type": "stream",
     "text": [
      "Lossy conversion from float32 to uint8. Range [-1.0, 0.9997479915618896]. Convert image to uint8 prior to saving to suppress this warning.\n"
     ]
    },
    {
     "name": "stdout",
     "output_type": "stream",
     "text": [
      "Iteration [130200/300000] | D_real_loss: -0.0236 | D_fake_loss: -0.1880 | G_loss: 0.0282 | D_loss: -0.1645 | Wasserstein_Distance: 0.1645\n",
      "Saved ./results/samples_gan_gp1_lr3e-5/sample-130200.png\n",
      "EPOCH: 335\n"
     ]
    },
    {
     "name": "stderr",
     "output_type": "stream",
     "text": [
      "Lossy conversion from float32 to uint8. Range [-1.0, 0.99982088804245]. Convert image to uint8 prior to saving to suppress this warning.\n"
     ]
    },
    {
     "name": "stdout",
     "output_type": "stream",
     "text": [
      "Iteration [130400/300000] | D_real_loss: 0.0932 | D_fake_loss: -0.1110 | G_loss: 0.1067 | D_loss: -0.2042 | Wasserstein_Distance: 0.2042\n",
      "Saved ./results/samples_gan_gp1_lr3e-5/sample-130400.png\n"
     ]
    },
    {
     "name": "stderr",
     "output_type": "stream",
     "text": [
      "Lossy conversion from float32 to uint8. Range [-1.0, 0.9996628761291504]. Convert image to uint8 prior to saving to suppress this warning.\n"
     ]
    },
    {
     "name": "stdout",
     "output_type": "stream",
     "text": [
      "Iteration [130600/300000] | D_real_loss: 0.1198 | D_fake_loss: -0.0411 | G_loss: 0.1762 | D_loss: -0.1609 | Wasserstein_Distance: 0.1609\n",
      "Saved ./results/samples_gan_gp1_lr3e-5/sample-130600.png\n",
      "EPOCH: 336\n"
     ]
    },
    {
     "name": "stderr",
     "output_type": "stream",
     "text": [
      "Lossy conversion from float32 to uint8. Range [-1.0, 0.9997917413711548]. Convert image to uint8 prior to saving to suppress this warning.\n"
     ]
    },
    {
     "name": "stdout",
     "output_type": "stream",
     "text": [
      "Iteration [130800/300000] | D_real_loss: 0.0088 | D_fake_loss: -0.1844 | G_loss: 0.0503 | D_loss: -0.1932 | Wasserstein_Distance: 0.1932\n",
      "Saved ./results/samples_gan_gp1_lr3e-5/sample-130800.png\n"
     ]
    },
    {
     "name": "stderr",
     "output_type": "stream",
     "text": [
      "Lossy conversion from float32 to uint8. Range [-1.0, 0.9997424483299255]. Convert image to uint8 prior to saving to suppress this warning.\n"
     ]
    },
    {
     "name": "stdout",
     "output_type": "stream",
     "text": [
      "Iteration [131000/300000] | D_real_loss: -0.0241 | D_fake_loss: -0.2125 | G_loss: 0.0063 | D_loss: -0.1884 | Wasserstein_Distance: 0.1884\n",
      "Saved ./results/samples_gan_gp1_lr3e-5/sample-131000.png\n",
      "EPOCH: 337\n"
     ]
    },
    {
     "name": "stderr",
     "output_type": "stream",
     "text": [
      "Lossy conversion from float32 to uint8. Range [-1.0, 0.9998232126235962]. Convert image to uint8 prior to saving to suppress this warning.\n"
     ]
    },
    {
     "name": "stdout",
     "output_type": "stream",
     "text": [
      "Iteration [131200/300000] | D_real_loss: -0.0307 | D_fake_loss: -0.2099 | G_loss: 0.0326 | D_loss: -0.1792 | Wasserstein_Distance: 0.1792\n",
      "Saved ./results/samples_gan_gp1_lr3e-5/sample-131200.png\n"
     ]
    },
    {
     "name": "stderr",
     "output_type": "stream",
     "text": [
      "Lossy conversion from float32 to uint8. Range [-1.0, 0.9995983839035034]. Convert image to uint8 prior to saving to suppress this warning.\n"
     ]
    },
    {
     "name": "stdout",
     "output_type": "stream",
     "text": [
      "Iteration [131400/300000] | D_real_loss: 0.0848 | D_fake_loss: -0.1584 | G_loss: 0.0732 | D_loss: -0.2432 | Wasserstein_Distance: 0.2432\n",
      "Saved ./results/samples_gan_gp1_lr3e-5/sample-131400.png\n",
      "EPOCH: 338\n"
     ]
    },
    {
     "name": "stderr",
     "output_type": "stream",
     "text": [
      "Lossy conversion from float32 to uint8. Range [-1.0, 0.9994207620620728]. Convert image to uint8 prior to saving to suppress this warning.\n"
     ]
    },
    {
     "name": "stdout",
     "output_type": "stream",
     "text": [
      "Iteration [131600/300000] | D_real_loss: 0.0052 | D_fake_loss: -0.1749 | G_loss: 0.0540 | D_loss: -0.1801 | Wasserstein_Distance: 0.1801\n",
      "Saved ./results/samples_gan_gp1_lr3e-5/sample-131600.png\n"
     ]
    },
    {
     "name": "stderr",
     "output_type": "stream",
     "text": [
      "Lossy conversion from float32 to uint8. Range [-1.0, 0.9997981190681458]. Convert image to uint8 prior to saving to suppress this warning.\n"
     ]
    },
    {
     "name": "stdout",
     "output_type": "stream",
     "text": [
      "Iteration [131800/300000] | D_real_loss: 0.1616 | D_fake_loss: -0.0477 | G_loss: 0.2019 | D_loss: -0.2093 | Wasserstein_Distance: 0.2093\n",
      "Saved ./results/samples_gan_gp1_lr3e-5/sample-131800.png\n",
      "EPOCH: 339\n"
     ]
    },
    {
     "name": "stderr",
     "output_type": "stream",
     "text": [
      "Lossy conversion from float32 to uint8. Range [-1.0, 0.9997686743736267]. Convert image to uint8 prior to saving to suppress this warning.\n"
     ]
    },
    {
     "name": "stdout",
     "output_type": "stream",
     "text": [
      "Iteration [132000/300000] | D_real_loss: 0.1642 | D_fake_loss: -0.0448 | G_loss: 0.2113 | D_loss: -0.2089 | Wasserstein_Distance: 0.2089\n",
      "Saved ./results/samples_gan_gp1_lr3e-5/sample-132000.png\n"
     ]
    },
    {
     "name": "stderr",
     "output_type": "stream",
     "text": [
      "Lossy conversion from float32 to uint8. Range [-1.0, 0.9997233152389526]. Convert image to uint8 prior to saving to suppress this warning.\n"
     ]
    },
    {
     "name": "stdout",
     "output_type": "stream",
     "text": [
      "Iteration [132200/300000] | D_real_loss: 0.1585 | D_fake_loss: -0.0285 | G_loss: 0.2079 | D_loss: -0.1870 | Wasserstein_Distance: 0.1870\n",
      "Saved ./results/samples_gan_gp1_lr3e-5/sample-132200.png\n",
      "EPOCH: 340\n"
     ]
    },
    {
     "name": "stderr",
     "output_type": "stream",
     "text": [
      "Lossy conversion from float32 to uint8. Range [-1.0, 0.9996119737625122]. Convert image to uint8 prior to saving to suppress this warning.\n"
     ]
    },
    {
     "name": "stdout",
     "output_type": "stream",
     "text": [
      "Iteration [132400/300000] | D_real_loss: 0.1698 | D_fake_loss: -0.0407 | G_loss: 0.2039 | D_loss: -0.2105 | Wasserstein_Distance: 0.2105\n",
      "Saved ./results/samples_gan_gp1_lr3e-5/sample-132400.png\n"
     ]
    },
    {
     "name": "stderr",
     "output_type": "stream",
     "text": [
      "Lossy conversion from float32 to uint8. Range [-1.0, 0.9995933175086975]. Convert image to uint8 prior to saving to suppress this warning.\n"
     ]
    },
    {
     "name": "stdout",
     "output_type": "stream",
     "text": [
      "Iteration [132600/300000] | D_real_loss: -0.0166 | D_fake_loss: -0.2021 | G_loss: 0.0232 | D_loss: -0.1854 | Wasserstein_Distance: 0.1854\n",
      "Saved ./results/samples_gan_gp1_lr3e-5/sample-132600.png\n",
      "EPOCH: 341\n"
     ]
    },
    {
     "name": "stderr",
     "output_type": "stream",
     "text": [
      "Lossy conversion from float32 to uint8. Range [-1.0, 0.9998350739479065]. Convert image to uint8 prior to saving to suppress this warning.\n"
     ]
    },
    {
     "name": "stdout",
     "output_type": "stream",
     "text": [
      "Iteration [132800/300000] | D_real_loss: 0.0341 | D_fake_loss: -0.1682 | G_loss: 0.0350 | D_loss: -0.2023 | Wasserstein_Distance: 0.2023\n",
      "Saved ./results/samples_gan_gp1_lr3e-5/sample-132800.png\n",
      "EPOCH: 342\n"
     ]
    },
    {
     "name": "stderr",
     "output_type": "stream",
     "text": [
      "Lossy conversion from float32 to uint8. Range [-1.0, 0.9997878670692444]. Convert image to uint8 prior to saving to suppress this warning.\n"
     ]
    },
    {
     "name": "stdout",
     "output_type": "stream",
     "text": [
      "Iteration [133000/300000] | D_real_loss: -0.0447 | D_fake_loss: -0.1960 | G_loss: 0.0096 | D_loss: -0.1513 | Wasserstein_Distance: 0.1513\n",
      "Saved ./results/samples_gan_gp1_lr3e-5/sample-133000.png\n"
     ]
    },
    {
     "name": "stderr",
     "output_type": "stream",
     "text": [
      "Lossy conversion from float32 to uint8. Range [-1.0, 0.9998407363891602]. Convert image to uint8 prior to saving to suppress this warning.\n"
     ]
    },
    {
     "name": "stdout",
     "output_type": "stream",
     "text": [
      "Iteration [133200/300000] | D_real_loss: 0.1569 | D_fake_loss: -0.0322 | G_loss: 0.1993 | D_loss: -0.1891 | Wasserstein_Distance: 0.1891\n",
      "Saved ./results/samples_gan_gp1_lr3e-5/sample-133200.png\n",
      "EPOCH: 343\n"
     ]
    },
    {
     "name": "stderr",
     "output_type": "stream",
     "text": [
      "Lossy conversion from float32 to uint8. Range [-1.0, 0.9997767210006714]. Convert image to uint8 prior to saving to suppress this warning.\n"
     ]
    },
    {
     "name": "stdout",
     "output_type": "stream",
     "text": [
      "Iteration [133400/300000] | D_real_loss: 0.0250 | D_fake_loss: -0.1775 | G_loss: 0.0489 | D_loss: -0.2024 | Wasserstein_Distance: 0.2024\n",
      "Saved ./results/samples_gan_gp1_lr3e-5/sample-133400.png\n"
     ]
    },
    {
     "name": "stderr",
     "output_type": "stream",
     "text": [
      "Lossy conversion from float32 to uint8. Range [-1.0, 0.9998106360435486]. Convert image to uint8 prior to saving to suppress this warning.\n"
     ]
    },
    {
     "name": "stdout",
     "output_type": "stream",
     "text": [
      "Iteration [133600/300000] | D_real_loss: 0.1253 | D_fake_loss: -0.0483 | G_loss: 0.1647 | D_loss: -0.1736 | Wasserstein_Distance: 0.1736\n",
      "Saved ./results/samples_gan_gp1_lr3e-5/sample-133600.png\n",
      "EPOCH: 344\n"
     ]
    },
    {
     "name": "stderr",
     "output_type": "stream",
     "text": [
      "Lossy conversion from float32 to uint8. Range [-1.0, 0.9998255968093872]. Convert image to uint8 prior to saving to suppress this warning.\n"
     ]
    },
    {
     "name": "stdout",
     "output_type": "stream",
     "text": [
      "Iteration [133800/300000] | D_real_loss: 0.0263 | D_fake_loss: -0.1848 | G_loss: 0.0500 | D_loss: -0.2110 | Wasserstein_Distance: 0.2110\n",
      "Saved ./results/samples_gan_gp1_lr3e-5/sample-133800.png\n"
     ]
    },
    {
     "name": "stderr",
     "output_type": "stream",
     "text": [
      "Lossy conversion from float32 to uint8. Range [-1.0, 0.9998296499252319]. Convert image to uint8 prior to saving to suppress this warning.\n"
     ]
    },
    {
     "name": "stdout",
     "output_type": "stream",
     "text": [
      "Iteration [134000/300000] | D_real_loss: 0.1499 | D_fake_loss: -0.0190 | G_loss: 0.1720 | D_loss: -0.1689 | Wasserstein_Distance: 0.1689\n",
      "Saved ./results/samples_gan_gp1_lr3e-5/sample-134000.png\n",
      "EPOCH: 345\n"
     ]
    },
    {
     "name": "stderr",
     "output_type": "stream",
     "text": [
      "Lossy conversion from float32 to uint8. Range [-1.0, 0.9997395277023315]. Convert image to uint8 prior to saving to suppress this warning.\n"
     ]
    },
    {
     "name": "stdout",
     "output_type": "stream",
     "text": [
      "Iteration [134200/300000] | D_real_loss: 0.1652 | D_fake_loss: -0.0466 | G_loss: 0.2024 | D_loss: -0.2118 | Wasserstein_Distance: 0.2118\n",
      "Saved ./results/samples_gan_gp1_lr3e-5/sample-134200.png\n"
     ]
    },
    {
     "name": "stderr",
     "output_type": "stream",
     "text": [
      "Lossy conversion from float32 to uint8. Range [-1.0, 0.9997562766075134]. Convert image to uint8 prior to saving to suppress this warning.\n"
     ]
    },
    {
     "name": "stdout",
     "output_type": "stream",
     "text": [
      "Iteration [134400/300000] | D_real_loss: 0.1723 | D_fake_loss: -0.0067 | G_loss: 0.1991 | D_loss: -0.1790 | Wasserstein_Distance: 0.1790\n",
      "Saved ./results/samples_gan_gp1_lr3e-5/sample-134400.png\n",
      "EPOCH: 346\n"
     ]
    },
    {
     "name": "stderr",
     "output_type": "stream",
     "text": [
      "Lossy conversion from float32 to uint8. Range [-1.0, 0.9997212886810303]. Convert image to uint8 prior to saving to suppress this warning.\n"
     ]
    },
    {
     "name": "stdout",
     "output_type": "stream",
     "text": [
      "Iteration [134600/300000] | D_real_loss: 0.1768 | D_fake_loss: -0.0182 | G_loss: 0.1987 | D_loss: -0.1950 | Wasserstein_Distance: 0.1950\n",
      "Saved ./results/samples_gan_gp1_lr3e-5/sample-134600.png\n"
     ]
    },
    {
     "name": "stderr",
     "output_type": "stream",
     "text": [
      "Lossy conversion from float32 to uint8. Range [-1.0, 0.9997667670249939]. Convert image to uint8 prior to saving to suppress this warning.\n"
     ]
    },
    {
     "name": "stdout",
     "output_type": "stream",
     "text": [
      "Iteration [134800/300000] | D_real_loss: 0.0297 | D_fake_loss: -0.1582 | G_loss: 0.0442 | D_loss: -0.1879 | Wasserstein_Distance: 0.1879\n",
      "Saved ./results/samples_gan_gp1_lr3e-5/sample-134800.png\n",
      "EPOCH: 347\n"
     ]
    },
    {
     "name": "stderr",
     "output_type": "stream",
     "text": [
      "Lossy conversion from float32 to uint8. Range [-1.0, 0.9996247887611389]. Convert image to uint8 prior to saving to suppress this warning.\n"
     ]
    },
    {
     "name": "stdout",
     "output_type": "stream",
     "text": [
      "Iteration [135000/300000] | D_real_loss: 0.1629 | D_fake_loss: -0.0306 | G_loss: 0.1858 | D_loss: -0.1935 | Wasserstein_Distance: 0.1935\n",
      "Saved ./results/samples_gan_gp1_lr3e-5/sample-135000.png\n"
     ]
    },
    {
     "name": "stderr",
     "output_type": "stream",
     "text": [
      "Lossy conversion from float32 to uint8. Range [-1.0, 0.9998147487640381]. Convert image to uint8 prior to saving to suppress this warning.\n"
     ]
    },
    {
     "name": "stdout",
     "output_type": "stream",
     "text": [
      "Iteration [135200/300000] | D_real_loss: 0.0043 | D_fake_loss: -0.1812 | G_loss: 0.0127 | D_loss: -0.1855 | Wasserstein_Distance: 0.1855\n",
      "Saved ./results/samples_gan_gp1_lr3e-5/sample-135200.png\n",
      "EPOCH: 348\n"
     ]
    },
    {
     "name": "stderr",
     "output_type": "stream",
     "text": [
      "Lossy conversion from float32 to uint8. Range [-1.0, 0.9998136758804321]. Convert image to uint8 prior to saving to suppress this warning.\n"
     ]
    },
    {
     "name": "stdout",
     "output_type": "stream",
     "text": [
      "Iteration [135400/300000] | D_real_loss: 0.0071 | D_fake_loss: -0.1788 | G_loss: 0.0237 | D_loss: -0.1858 | Wasserstein_Distance: 0.1858\n",
      "Saved ./results/samples_gan_gp1_lr3e-5/sample-135400.png\n"
     ]
    },
    {
     "name": "stderr",
     "output_type": "stream",
     "text": [
      "Lossy conversion from float32 to uint8. Range [-1.0, 0.9998195171356201]. Convert image to uint8 prior to saving to suppress this warning.\n"
     ]
    },
    {
     "name": "stdout",
     "output_type": "stream",
     "text": [
      "Iteration [135600/300000] | D_real_loss: 0.1846 | D_fake_loss: 0.0166 | G_loss: 0.1873 | D_loss: -0.1680 | Wasserstein_Distance: 0.1680\n",
      "Saved ./results/samples_gan_gp1_lr3e-5/sample-135600.png\n",
      "EPOCH: 349\n"
     ]
    },
    {
     "name": "stderr",
     "output_type": "stream",
     "text": [
      "Lossy conversion from float32 to uint8. Range [-1.0, 0.9998025894165039]. Convert image to uint8 prior to saving to suppress this warning.\n"
     ]
    },
    {
     "name": "stdout",
     "output_type": "stream",
     "text": [
      "Iteration [135800/300000] | D_real_loss: 0.1470 | D_fake_loss: -0.0142 | G_loss: 0.1717 | D_loss: -0.1612 | Wasserstein_Distance: 0.1612\n",
      "Saved ./results/samples_gan_gp1_lr3e-5/sample-135800.png\n"
     ]
    },
    {
     "name": "stderr",
     "output_type": "stream",
     "text": [
      "Lossy conversion from float32 to uint8. Range [-1.0, 0.9997889399528503]. Convert image to uint8 prior to saving to suppress this warning.\n"
     ]
    },
    {
     "name": "stdout",
     "output_type": "stream",
     "text": [
      "Iteration [136000/300000] | D_real_loss: 0.0196 | D_fake_loss: -0.1684 | G_loss: 0.0854 | D_loss: -0.1880 | Wasserstein_Distance: 0.1880\n",
      "Saved ./results/samples_gan_gp1_lr3e-5/sample-136000.png\n",
      "EPOCH: 350\n"
     ]
    },
    {
     "name": "stderr",
     "output_type": "stream",
     "text": [
      "Lossy conversion from float32 to uint8. Range [-1.0, 0.9998024106025696]. Convert image to uint8 prior to saving to suppress this warning.\n"
     ]
    },
    {
     "name": "stdout",
     "output_type": "stream",
     "text": [
      "Iteration [136200/300000] | D_real_loss: 0.0119 | D_fake_loss: -0.1947 | G_loss: 0.0035 | D_loss: -0.2066 | Wasserstein_Distance: 0.2066\n",
      "Saved ./results/samples_gan_gp1_lr3e-5/sample-136200.png\n"
     ]
    },
    {
     "name": "stderr",
     "output_type": "stream",
     "text": [
      "Lossy conversion from float32 to uint8. Range [-1.0, 0.9998245239257812]. Convert image to uint8 prior to saving to suppress this warning.\n"
     ]
    },
    {
     "name": "stdout",
     "output_type": "stream",
     "text": [
      "Iteration [136400/300000] | D_real_loss: 0.1578 | D_fake_loss: -0.0662 | G_loss: 0.1853 | D_loss: -0.2240 | Wasserstein_Distance: 0.2240\n",
      "Saved ./results/samples_gan_gp1_lr3e-5/sample-136400.png\n",
      "EPOCH: 351\n"
     ]
    },
    {
     "name": "stderr",
     "output_type": "stream",
     "text": [
      "Lossy conversion from float32 to uint8. Range [-1.0, 0.9998288154602051]. Convert image to uint8 prior to saving to suppress this warning.\n"
     ]
    },
    {
     "name": "stdout",
     "output_type": "stream",
     "text": [
      "Iteration [136600/300000] | D_real_loss: 0.0067 | D_fake_loss: -0.1827 | G_loss: 0.0233 | D_loss: -0.1894 | Wasserstein_Distance: 0.1894\n",
      "Saved ./results/samples_gan_gp1_lr3e-5/sample-136600.png\n"
     ]
    },
    {
     "name": "stderr",
     "output_type": "stream",
     "text": [
      "Lossy conversion from float32 to uint8. Range [-1.0, 0.9999111294746399]. Convert image to uint8 prior to saving to suppress this warning.\n"
     ]
    },
    {
     "name": "stdout",
     "output_type": "stream",
     "text": [
      "Iteration [136800/300000] | D_real_loss: 0.0500 | D_fake_loss: -0.1583 | G_loss: 0.0556 | D_loss: -0.2083 | Wasserstein_Distance: 0.2083\n",
      "Saved ./results/samples_gan_gp1_lr3e-5/sample-136800.png\n",
      "EPOCH: 352\n"
     ]
    },
    {
     "name": "stderr",
     "output_type": "stream",
     "text": [
      "Lossy conversion from float32 to uint8. Range [-1.0, 0.99981689453125]. Convert image to uint8 prior to saving to suppress this warning.\n"
     ]
    },
    {
     "name": "stdout",
     "output_type": "stream",
     "text": [
      "Iteration [137000/300000] | D_real_loss: 0.0578 | D_fake_loss: -0.1630 | G_loss: 0.0432 | D_loss: -0.2208 | Wasserstein_Distance: 0.2208\n",
      "Saved ./results/samples_gan_gp1_lr3e-5/sample-137000.png\n"
     ]
    },
    {
     "name": "stderr",
     "output_type": "stream",
     "text": [
      "Lossy conversion from float32 to uint8. Range [-1.0, 0.9997677803039551]. Convert image to uint8 prior to saving to suppress this warning.\n"
     ]
    },
    {
     "name": "stdout",
     "output_type": "stream",
     "text": [
      "Iteration [137200/300000] | D_real_loss: 0.0502 | D_fake_loss: -0.1541 | G_loss: 0.0359 | D_loss: -0.2043 | Wasserstein_Distance: 0.2043\n",
      "Saved ./results/samples_gan_gp1_lr3e-5/sample-137200.png\n",
      "EPOCH: 353\n"
     ]
    },
    {
     "name": "stderr",
     "output_type": "stream",
     "text": [
      "Lossy conversion from float32 to uint8. Range [-1.0, 0.9996516704559326]. Convert image to uint8 prior to saving to suppress this warning.\n"
     ]
    },
    {
     "name": "stdout",
     "output_type": "stream",
     "text": [
      "Iteration [137400/300000] | D_real_loss: 0.1550 | D_fake_loss: -0.0726 | G_loss: 0.1845 | D_loss: -0.2276 | Wasserstein_Distance: 0.2276\n",
      "Saved ./results/samples_gan_gp1_lr3e-5/sample-137400.png\n"
     ]
    },
    {
     "name": "stderr",
     "output_type": "stream",
     "text": [
      "Lossy conversion from float32 to uint8. Range [-1.0, 0.9998064637184143]. Convert image to uint8 prior to saving to suppress this warning.\n"
     ]
    },
    {
     "name": "stdout",
     "output_type": "stream",
     "text": [
      "Iteration [137600/300000] | D_real_loss: 0.0813 | D_fake_loss: -0.1278 | G_loss: 0.1157 | D_loss: -0.2091 | Wasserstein_Distance: 0.2091\n",
      "Saved ./results/samples_gan_gp1_lr3e-5/sample-137600.png\n",
      "EPOCH: 354\n"
     ]
    },
    {
     "name": "stderr",
     "output_type": "stream",
     "text": [
      "Lossy conversion from float32 to uint8. Range [-1.0, 0.9998039603233337]. Convert image to uint8 prior to saving to suppress this warning.\n"
     ]
    },
    {
     "name": "stdout",
     "output_type": "stream",
     "text": [
      "Iteration [137800/300000] | D_real_loss: 0.0101 | D_fake_loss: -0.1758 | G_loss: -0.0027 | D_loss: -0.1859 | Wasserstein_Distance: 0.1859\n",
      "Saved ./results/samples_gan_gp1_lr3e-5/sample-137800.png\n"
     ]
    },
    {
     "name": "stderr",
     "output_type": "stream",
     "text": [
      "Lossy conversion from float32 to uint8. Range [-1.0, 0.9997351765632629]. Convert image to uint8 prior to saving to suppress this warning.\n"
     ]
    },
    {
     "name": "stdout",
     "output_type": "stream",
     "text": [
      "Iteration [138000/300000] | D_real_loss: -0.0867 | D_fake_loss: -0.2251 | G_loss: -0.0091 | D_loss: -0.1384 | Wasserstein_Distance: 0.1384\n",
      "Saved ./results/samples_gan_gp1_lr3e-5/sample-138000.png\n",
      "EPOCH: 355\n"
     ]
    },
    {
     "name": "stderr",
     "output_type": "stream",
     "text": [
      "Lossy conversion from float32 to uint8. Range [-1.0, 0.9998565912246704]. Convert image to uint8 prior to saving to suppress this warning.\n"
     ]
    },
    {
     "name": "stdout",
     "output_type": "stream",
     "text": [
      "Iteration [138200/300000] | D_real_loss: 0.1648 | D_fake_loss: -0.0062 | G_loss: 0.1951 | D_loss: -0.1710 | Wasserstein_Distance: 0.1710\n",
      "Saved ./results/samples_gan_gp1_lr3e-5/sample-138200.png\n"
     ]
    },
    {
     "name": "stderr",
     "output_type": "stream",
     "text": [
      "Lossy conversion from float32 to uint8. Range [-1.0, 0.9998369812965393]. Convert image to uint8 prior to saving to suppress this warning.\n"
     ]
    },
    {
     "name": "stdout",
     "output_type": "stream",
     "text": [
      "Iteration [138400/300000] | D_real_loss: -0.0540 | D_fake_loss: -0.2114 | G_loss: 0.0165 | D_loss: -0.1574 | Wasserstein_Distance: 0.1574\n",
      "Saved ./results/samples_gan_gp1_lr3e-5/sample-138400.png\n",
      "EPOCH: 356\n"
     ]
    },
    {
     "name": "stderr",
     "output_type": "stream",
     "text": [
      "Lossy conversion from float32 to uint8. Range [-1.0, 0.9996641278266907]. Convert image to uint8 prior to saving to suppress this warning.\n"
     ]
    },
    {
     "name": "stdout",
     "output_type": "stream",
     "text": [
      "Iteration [138600/300000] | D_real_loss: 0.1230 | D_fake_loss: -0.0712 | G_loss: 0.1785 | D_loss: -0.1942 | Wasserstein_Distance: 0.1942\n",
      "Saved ./results/samples_gan_gp1_lr3e-5/sample-138600.png\n"
     ]
    },
    {
     "name": "stderr",
     "output_type": "stream",
     "text": [
      "Lossy conversion from float32 to uint8. Range [-1.0, 0.9998500347137451]. Convert image to uint8 prior to saving to suppress this warning.\n"
     ]
    },
    {
     "name": "stdout",
     "output_type": "stream",
     "text": [
      "Iteration [138800/300000] | D_real_loss: 0.0132 | D_fake_loss: -0.1718 | G_loss: 0.0068 | D_loss: -0.1850 | Wasserstein_Distance: 0.1850\n",
      "Saved ./results/samples_gan_gp1_lr3e-5/sample-138800.png\n",
      "EPOCH: 357\n"
     ]
    },
    {
     "name": "stderr",
     "output_type": "stream",
     "text": [
      "Lossy conversion from float32 to uint8. Range [-1.0, 0.9997467398643494]. Convert image to uint8 prior to saving to suppress this warning.\n"
     ]
    },
    {
     "name": "stdout",
     "output_type": "stream",
     "text": [
      "Iteration [139000/300000] | D_real_loss: -0.0180 | D_fake_loss: -0.2056 | G_loss: -0.0199 | D_loss: -0.1876 | Wasserstein_Distance: 0.1876\n",
      "Saved ./results/samples_gan_gp1_lr3e-5/sample-139000.png\n"
     ]
    },
    {
     "name": "stderr",
     "output_type": "stream",
     "text": [
      "Lossy conversion from float32 to uint8. Range [-1.0, 0.9997997283935547]. Convert image to uint8 prior to saving to suppress this warning.\n"
     ]
    },
    {
     "name": "stdout",
     "output_type": "stream",
     "text": [
      "Iteration [139200/300000] | D_real_loss: 0.0265 | D_fake_loss: -0.1794 | G_loss: 0.0600 | D_loss: -0.2059 | Wasserstein_Distance: 0.2059\n",
      "Saved ./results/samples_gan_gp1_lr3e-5/sample-139200.png\n",
      "EPOCH: 358\n"
     ]
    },
    {
     "name": "stderr",
     "output_type": "stream",
     "text": [
      "Lossy conversion from float32 to uint8. Range [-1.0, 0.9998181462287903]. Convert image to uint8 prior to saving to suppress this warning.\n"
     ]
    },
    {
     "name": "stdout",
     "output_type": "stream",
     "text": [
      "Iteration [139400/300000] | D_real_loss: 0.1741 | D_fake_loss: -0.0068 | G_loss: 0.2069 | D_loss: -0.1809 | Wasserstein_Distance: 0.1809\n",
      "Saved ./results/samples_gan_gp1_lr3e-5/sample-139400.png\n"
     ]
    },
    {
     "name": "stderr",
     "output_type": "stream",
     "text": [
      "Lossy conversion from float32 to uint8. Range [-1.0, 0.9998912811279297]. Convert image to uint8 prior to saving to suppress this warning.\n"
     ]
    },
    {
     "name": "stdout",
     "output_type": "stream",
     "text": [
      "Iteration [139600/300000] | D_real_loss: 0.0552 | D_fake_loss: -0.1534 | G_loss: 0.0558 | D_loss: -0.2085 | Wasserstein_Distance: 0.2085\n",
      "Saved ./results/samples_gan_gp1_lr3e-5/sample-139600.png\n",
      "EPOCH: 359\n"
     ]
    },
    {
     "name": "stderr",
     "output_type": "stream",
     "text": [
      "Lossy conversion from float32 to uint8. Range [-1.0, 0.9998561143875122]. Convert image to uint8 prior to saving to suppress this warning.\n"
     ]
    },
    {
     "name": "stdout",
     "output_type": "stream",
     "text": [
      "Iteration [139800/300000] | D_real_loss: 0.0482 | D_fake_loss: -0.1533 | G_loss: 0.0368 | D_loss: -0.2015 | Wasserstein_Distance: 0.2015\n",
      "Saved ./results/samples_gan_gp1_lr3e-5/sample-139800.png\n"
     ]
    },
    {
     "name": "stderr",
     "output_type": "stream",
     "text": [
      "Lossy conversion from float32 to uint8. Range [-1.0, 0.9998626708984375]. Convert image to uint8 prior to saving to suppress this warning.\n"
     ]
    },
    {
     "name": "stdout",
     "output_type": "stream",
     "text": [
      "Iteration [140000/300000] | D_real_loss: 0.1894 | D_fake_loss: 0.0100 | G_loss: 0.2096 | D_loss: -0.1794 | Wasserstein_Distance: 0.1794\n",
      "Saved ./results/samples_gan_gp1_lr3e-5/sample-140000.png\n",
      "EPOCH: 360\n"
     ]
    },
    {
     "name": "stderr",
     "output_type": "stream",
     "text": [
      "Lossy conversion from float32 to uint8. Range [-1.0, 0.9998081922531128]. Convert image to uint8 prior to saving to suppress this warning.\n"
     ]
    },
    {
     "name": "stdout",
     "output_type": "stream",
     "text": [
      "Iteration [140200/300000] | D_real_loss: -0.0515 | D_fake_loss: -0.2106 | G_loss: 0.0095 | D_loss: -0.1592 | Wasserstein_Distance: 0.1592\n",
      "Saved ./results/samples_gan_gp1_lr3e-5/sample-140200.png\n"
     ]
    },
    {
     "name": "stderr",
     "output_type": "stream",
     "text": [
      "Lossy conversion from float32 to uint8. Range [-1.0, 0.9998519420623779]. Convert image to uint8 prior to saving to suppress this warning.\n"
     ]
    },
    {
     "name": "stdout",
     "output_type": "stream",
     "text": [
      "Iteration [140400/300000] | D_real_loss: -0.0442 | D_fake_loss: -0.1931 | G_loss: 0.0193 | D_loss: -0.1489 | Wasserstein_Distance: 0.1489\n",
      "Saved ./results/samples_gan_gp1_lr3e-5/sample-140400.png\n",
      "EPOCH: 361\n"
     ]
    },
    {
     "name": "stderr",
     "output_type": "stream",
     "text": [
      "Lossy conversion from float32 to uint8. Range [-1.0, 0.9996611475944519]. Convert image to uint8 prior to saving to suppress this warning.\n"
     ]
    },
    {
     "name": "stdout",
     "output_type": "stream",
     "text": [
      "Iteration [140600/300000] | D_real_loss: 0.1691 | D_fake_loss: -0.0451 | G_loss: 0.2215 | D_loss: -0.2142 | Wasserstein_Distance: 0.2142\n",
      "Saved ./results/samples_gan_gp1_lr3e-5/sample-140600.png\n",
      "EPOCH: 362\n"
     ]
    },
    {
     "name": "stderr",
     "output_type": "stream",
     "text": [
      "Lossy conversion from float32 to uint8. Range [-1.0, 0.9997027516365051]. Convert image to uint8 prior to saving to suppress this warning.\n"
     ]
    },
    {
     "name": "stdout",
     "output_type": "stream",
     "text": [
      "Iteration [140800/300000] | D_real_loss: 0.1834 | D_fake_loss: -0.0089 | G_loss: 0.2142 | D_loss: -0.1923 | Wasserstein_Distance: 0.1923\n",
      "Saved ./results/samples_gan_gp1_lr3e-5/sample-140800.png\n"
     ]
    },
    {
     "name": "stderr",
     "output_type": "stream",
     "text": [
      "Lossy conversion from float32 to uint8. Range [-1.0, 0.99981290102005]. Convert image to uint8 prior to saving to suppress this warning.\n"
     ]
    },
    {
     "name": "stdout",
     "output_type": "stream",
     "text": [
      "Iteration [141000/300000] | D_real_loss: 0.0255 | D_fake_loss: -0.1579 | G_loss: 0.0433 | D_loss: -0.1833 | Wasserstein_Distance: 0.1833\n",
      "Saved ./results/samples_gan_gp1_lr3e-5/sample-141000.png\n",
      "EPOCH: 363\n"
     ]
    },
    {
     "name": "stderr",
     "output_type": "stream",
     "text": [
      "Lossy conversion from float32 to uint8. Range [-1.0, 0.9997245073318481]. Convert image to uint8 prior to saving to suppress this warning.\n"
     ]
    },
    {
     "name": "stdout",
     "output_type": "stream",
     "text": [
      "Iteration [141200/300000] | D_real_loss: 0.1581 | D_fake_loss: -0.0360 | G_loss: 0.1781 | D_loss: -0.1941 | Wasserstein_Distance: 0.1941\n",
      "Saved ./results/samples_gan_gp1_lr3e-5/sample-141200.png\n"
     ]
    },
    {
     "name": "stderr",
     "output_type": "stream",
     "text": [
      "Lossy conversion from float32 to uint8. Range [-1.0, 0.9997883439064026]. Convert image to uint8 prior to saving to suppress this warning.\n"
     ]
    },
    {
     "name": "stdout",
     "output_type": "stream",
     "text": [
      "Iteration [141400/300000] | D_real_loss: 0.1273 | D_fake_loss: -0.0764 | G_loss: 0.1607 | D_loss: -0.2037 | Wasserstein_Distance: 0.2037\n",
      "Saved ./results/samples_gan_gp1_lr3e-5/sample-141400.png\n",
      "EPOCH: 364\n"
     ]
    },
    {
     "name": "stderr",
     "output_type": "stream",
     "text": [
      "Lossy conversion from float32 to uint8. Range [-1.0, 0.999758780002594]. Convert image to uint8 prior to saving to suppress this warning.\n"
     ]
    },
    {
     "name": "stdout",
     "output_type": "stream",
     "text": [
      "Iteration [141600/300000] | D_real_loss: 0.0026 | D_fake_loss: -0.1756 | G_loss: 0.0149 | D_loss: -0.1782 | Wasserstein_Distance: 0.1782\n",
      "Saved ./results/samples_gan_gp1_lr3e-5/sample-141600.png\n"
     ]
    },
    {
     "name": "stderr",
     "output_type": "stream",
     "text": [
      "Lossy conversion from float32 to uint8. Range [-1.0, 0.9998060464859009]. Convert image to uint8 prior to saving to suppress this warning.\n"
     ]
    },
    {
     "name": "stdout",
     "output_type": "stream",
     "text": [
      "Iteration [141800/300000] | D_real_loss: 0.1287 | D_fake_loss: -0.0913 | G_loss: 0.1408 | D_loss: -0.2201 | Wasserstein_Distance: 0.2201\n",
      "Saved ./results/samples_gan_gp1_lr3e-5/sample-141800.png\n",
      "EPOCH: 365\n"
     ]
    },
    {
     "name": "stderr",
     "output_type": "stream",
     "text": [
      "Lossy conversion from float32 to uint8. Range [-1.0, 0.9998005032539368]. Convert image to uint8 prior to saving to suppress this warning.\n"
     ]
    },
    {
     "name": "stdout",
     "output_type": "stream",
     "text": [
      "Iteration [142000/300000] | D_real_loss: 0.1523 | D_fake_loss: -0.0306 | G_loss: 0.1738 | D_loss: -0.1829 | Wasserstein_Distance: 0.1829\n",
      "Saved ./results/samples_gan_gp1_lr3e-5/sample-142000.png\n"
     ]
    },
    {
     "name": "stderr",
     "output_type": "stream",
     "text": [
      "Lossy conversion from float32 to uint8. Range [-1.0, 0.9998534321784973]. Convert image to uint8 prior to saving to suppress this warning.\n"
     ]
    },
    {
     "name": "stdout",
     "output_type": "stream",
     "text": [
      "Iteration [142200/300000] | D_real_loss: 0.1732 | D_fake_loss: -0.0131 | G_loss: 0.2270 | D_loss: -0.1863 | Wasserstein_Distance: 0.1863\n",
      "Saved ./results/samples_gan_gp1_lr3e-5/sample-142200.png\n",
      "EPOCH: 366\n"
     ]
    },
    {
     "name": "stderr",
     "output_type": "stream",
     "text": [
      "Lossy conversion from float32 to uint8. Range [-1.0, 0.9997585415840149]. Convert image to uint8 prior to saving to suppress this warning.\n"
     ]
    },
    {
     "name": "stdout",
     "output_type": "stream",
     "text": [
      "Iteration [142400/300000] | D_real_loss: 0.0162 | D_fake_loss: -0.1629 | G_loss: 0.0386 | D_loss: -0.1791 | Wasserstein_Distance: 0.1791\n",
      "Saved ./results/samples_gan_gp1_lr3e-5/sample-142400.png\n"
     ]
    },
    {
     "name": "stderr",
     "output_type": "stream",
     "text": [
      "Lossy conversion from float32 to uint8. Range [-1.0, 0.9998458027839661]. Convert image to uint8 prior to saving to suppress this warning.\n"
     ]
    },
    {
     "name": "stdout",
     "output_type": "stream",
     "text": [
      "Iteration [142600/300000] | D_real_loss: 0.1675 | D_fake_loss: -0.0261 | G_loss: 0.2010 | D_loss: -0.1936 | Wasserstein_Distance: 0.1936\n",
      "Saved ./results/samples_gan_gp1_lr3e-5/sample-142600.png\n",
      "EPOCH: 367\n"
     ]
    },
    {
     "name": "stderr",
     "output_type": "stream",
     "text": [
      "Lossy conversion from float32 to uint8. Range [-1.0, 0.9998480081558228]. Convert image to uint8 prior to saving to suppress this warning.\n"
     ]
    },
    {
     "name": "stdout",
     "output_type": "stream",
     "text": [
      "Iteration [142800/300000] | D_real_loss: 0.0240 | D_fake_loss: -0.1793 | G_loss: 0.0478 | D_loss: -0.2033 | Wasserstein_Distance: 0.2033\n",
      "Saved ./results/samples_gan_gp1_lr3e-5/sample-142800.png\n"
     ]
    },
    {
     "name": "stderr",
     "output_type": "stream",
     "text": [
      "Lossy conversion from float32 to uint8. Range [-1.0, 0.9998378157615662]. Convert image to uint8 prior to saving to suppress this warning.\n"
     ]
    },
    {
     "name": "stdout",
     "output_type": "stream",
     "text": [
      "Iteration [143000/300000] | D_real_loss: -0.0411 | D_fake_loss: -0.1997 | G_loss: 0.0356 | D_loss: -0.1586 | Wasserstein_Distance: 0.1586\n",
      "Saved ./results/samples_gan_gp1_lr3e-5/sample-143000.png\n",
      "EPOCH: 368\n"
     ]
    },
    {
     "name": "stderr",
     "output_type": "stream",
     "text": [
      "Lossy conversion from float32 to uint8. Range [-1.0, 0.9998248219490051]. Convert image to uint8 prior to saving to suppress this warning.\n"
     ]
    },
    {
     "name": "stdout",
     "output_type": "stream",
     "text": [
      "Iteration [143200/300000] | D_real_loss: 0.1690 | D_fake_loss: -0.0148 | G_loss: 0.2005 | D_loss: -0.1838 | Wasserstein_Distance: 0.1838\n",
      "Saved ./results/samples_gan_gp1_lr3e-5/sample-143200.png\n"
     ]
    },
    {
     "name": "stderr",
     "output_type": "stream",
     "text": [
      "Lossy conversion from float32 to uint8. Range [-1.0, 0.9998539090156555]. Convert image to uint8 prior to saving to suppress this warning.\n"
     ]
    },
    {
     "name": "stdout",
     "output_type": "stream",
     "text": [
      "Iteration [143400/300000] | D_real_loss: -0.0608 | D_fake_loss: -0.2048 | G_loss: 0.0153 | D_loss: -0.1440 | Wasserstein_Distance: 0.1440\n",
      "Saved ./results/samples_gan_gp1_lr3e-5/sample-143400.png\n",
      "EPOCH: 369\n"
     ]
    },
    {
     "name": "stderr",
     "output_type": "stream",
     "text": [
      "Lossy conversion from float32 to uint8. Range [-1.0, 0.9998129606246948]. Convert image to uint8 prior to saving to suppress this warning.\n"
     ]
    },
    {
     "name": "stdout",
     "output_type": "stream",
     "text": [
      "Iteration [143600/300000] | D_real_loss: 0.0138 | D_fake_loss: -0.1693 | G_loss: 0.0329 | D_loss: -0.1830 | Wasserstein_Distance: 0.1830\n",
      "Saved ./results/samples_gan_gp1_lr3e-5/sample-143600.png\n"
     ]
    },
    {
     "name": "stderr",
     "output_type": "stream",
     "text": [
      "Lossy conversion from float32 to uint8. Range [-1.0, 0.9998827576637268]. Convert image to uint8 prior to saving to suppress this warning.\n"
     ]
    },
    {
     "name": "stdout",
     "output_type": "stream",
     "text": [
      "Iteration [143800/300000] | D_real_loss: 0.1438 | D_fake_loss: -0.0512 | G_loss: 0.2113 | D_loss: -0.1951 | Wasserstein_Distance: 0.1951\n",
      "Saved ./results/samples_gan_gp1_lr3e-5/sample-143800.png\n",
      "EPOCH: 370\n"
     ]
    },
    {
     "name": "stderr",
     "output_type": "stream",
     "text": [
      "Lossy conversion from float32 to uint8. Range [-1.0, 0.9998326897621155]. Convert image to uint8 prior to saving to suppress this warning.\n"
     ]
    },
    {
     "name": "stdout",
     "output_type": "stream",
     "text": [
      "Iteration [144000/300000] | D_real_loss: 0.1625 | D_fake_loss: -0.0296 | G_loss: 0.1945 | D_loss: -0.1920 | Wasserstein_Distance: 0.1920\n",
      "Saved ./results/samples_gan_gp1_lr3e-5/sample-144000.png\n"
     ]
    },
    {
     "name": "stderr",
     "output_type": "stream",
     "text": [
      "Lossy conversion from float32 to uint8. Range [-1.0, 0.999841570854187]. Convert image to uint8 prior to saving to suppress this warning.\n"
     ]
    },
    {
     "name": "stdout",
     "output_type": "stream",
     "text": [
      "Iteration [144200/300000] | D_real_loss: -0.0876 | D_fake_loss: -0.2235 | G_loss: 0.0344 | D_loss: -0.1359 | Wasserstein_Distance: 0.1359\n",
      "Saved ./results/samples_gan_gp1_lr3e-5/sample-144200.png\n",
      "EPOCH: 371\n"
     ]
    },
    {
     "name": "stderr",
     "output_type": "stream",
     "text": [
      "Lossy conversion from float32 to uint8. Range [-1.0, 0.9998039603233337]. Convert image to uint8 prior to saving to suppress this warning.\n"
     ]
    },
    {
     "name": "stdout",
     "output_type": "stream",
     "text": [
      "Iteration [144400/300000] | D_real_loss: 0.1552 | D_fake_loss: -0.0346 | G_loss: 0.1656 | D_loss: -0.1897 | Wasserstein_Distance: 0.1897\n",
      "Saved ./results/samples_gan_gp1_lr3e-5/sample-144400.png\n"
     ]
    },
    {
     "name": "stderr",
     "output_type": "stream",
     "text": [
      "Lossy conversion from float32 to uint8. Range [-1.0, 0.9998255968093872]. Convert image to uint8 prior to saving to suppress this warning.\n"
     ]
    },
    {
     "name": "stdout",
     "output_type": "stream",
     "text": [
      "Iteration [144600/300000] | D_real_loss: -0.0013 | D_fake_loss: -0.1867 | G_loss: 0.0257 | D_loss: -0.1854 | Wasserstein_Distance: 0.1854\n",
      "Saved ./results/samples_gan_gp1_lr3e-5/sample-144600.png\n",
      "EPOCH: 372\n"
     ]
    },
    {
     "name": "stderr",
     "output_type": "stream",
     "text": [
      "Lossy conversion from float32 to uint8. Range [-1.0, 0.9997697472572327]. Convert image to uint8 prior to saving to suppress this warning.\n"
     ]
    },
    {
     "name": "stdout",
     "output_type": "stream",
     "text": [
      "Iteration [144800/300000] | D_real_loss: 0.0068 | D_fake_loss: -0.1878 | G_loss: -0.0100 | D_loss: -0.1946 | Wasserstein_Distance: 0.1946\n",
      "Saved ./results/samples_gan_gp1_lr3e-5/sample-144800.png\n"
     ]
    },
    {
     "name": "stderr",
     "output_type": "stream",
     "text": [
      "Lossy conversion from float32 to uint8. Range [-1.0, 0.9998454451560974]. Convert image to uint8 prior to saving to suppress this warning.\n"
     ]
    },
    {
     "name": "stdout",
     "output_type": "stream",
     "text": [
      "Iteration [145000/300000] | D_real_loss: -0.0658 | D_fake_loss: -0.2160 | G_loss: 0.0376 | D_loss: -0.1502 | Wasserstein_Distance: 0.1502\n",
      "Saved ./results/samples_gan_gp1_lr3e-5/sample-145000.png\n",
      "EPOCH: 373\n"
     ]
    },
    {
     "name": "stderr",
     "output_type": "stream",
     "text": [
      "Lossy conversion from float32 to uint8. Range [-1.0, 0.9997460246086121]. Convert image to uint8 prior to saving to suppress this warning.\n"
     ]
    },
    {
     "name": "stdout",
     "output_type": "stream",
     "text": [
      "Iteration [145200/300000] | D_real_loss: -0.0065 | D_fake_loss: -0.1927 | G_loss: 0.0206 | D_loss: -0.1863 | Wasserstein_Distance: 0.1863\n",
      "Saved ./results/samples_gan_gp1_lr3e-5/sample-145200.png\n"
     ]
    },
    {
     "name": "stderr",
     "output_type": "stream",
     "text": [
      "Lossy conversion from float32 to uint8. Range [-1.0, 0.9998365640640259]. Convert image to uint8 prior to saving to suppress this warning.\n"
     ]
    },
    {
     "name": "stdout",
     "output_type": "stream",
     "text": [
      "Iteration [145400/300000] | D_real_loss: -0.0808 | D_fake_loss: -0.2131 | G_loss: 0.0501 | D_loss: -0.1323 | Wasserstein_Distance: 0.1323\n",
      "Saved ./results/samples_gan_gp1_lr3e-5/sample-145400.png\n",
      "EPOCH: 374\n"
     ]
    },
    {
     "name": "stderr",
     "output_type": "stream",
     "text": [
      "Lossy conversion from float32 to uint8. Range [-1.0, 0.9997326731681824]. Convert image to uint8 prior to saving to suppress this warning.\n"
     ]
    },
    {
     "name": "stdout",
     "output_type": "stream",
     "text": [
      "Iteration [145600/300000] | D_real_loss: -0.0123 | D_fake_loss: -0.2065 | G_loss: 0.0069 | D_loss: -0.1942 | Wasserstein_Distance: 0.1942\n",
      "Saved ./results/samples_gan_gp1_lr3e-5/sample-145600.png\n"
     ]
    },
    {
     "name": "stderr",
     "output_type": "stream",
     "text": [
      "Lossy conversion from float32 to uint8. Range [-1.0, 0.9997578859329224]. Convert image to uint8 prior to saving to suppress this warning.\n"
     ]
    },
    {
     "name": "stdout",
     "output_type": "stream",
     "text": [
      "Iteration [145800/300000] | D_real_loss: 0.1357 | D_fake_loss: -0.0583 | G_loss: 0.1822 | D_loss: -0.1939 | Wasserstein_Distance: 0.1939\n",
      "Saved ./results/samples_gan_gp1_lr3e-5/sample-145800.png\n",
      "EPOCH: 375\n"
     ]
    },
    {
     "name": "stderr",
     "output_type": "stream",
     "text": [
      "Lossy conversion from float32 to uint8. Range [-1.0, 0.9998322129249573]. Convert image to uint8 prior to saving to suppress this warning.\n"
     ]
    },
    {
     "name": "stdout",
     "output_type": "stream",
     "text": [
      "Iteration [146000/300000] | D_real_loss: 0.1701 | D_fake_loss: -0.0381 | G_loss: 0.2102 | D_loss: -0.2082 | Wasserstein_Distance: 0.2082\n",
      "Saved ./results/samples_gan_gp1_lr3e-5/sample-146000.png\n"
     ]
    },
    {
     "name": "stderr",
     "output_type": "stream",
     "text": [
      "Lossy conversion from float32 to uint8. Range [-1.0, 0.9998427033424377]. Convert image to uint8 prior to saving to suppress this warning.\n"
     ]
    },
    {
     "name": "stdout",
     "output_type": "stream",
     "text": [
      "Iteration [146200/300000] | D_real_loss: 0.1627 | D_fake_loss: -0.0456 | G_loss: 0.1741 | D_loss: -0.2082 | Wasserstein_Distance: 0.2082\n",
      "Saved ./results/samples_gan_gp1_lr3e-5/sample-146200.png\n",
      "EPOCH: 376\n"
     ]
    },
    {
     "name": "stderr",
     "output_type": "stream",
     "text": [
      "Lossy conversion from float32 to uint8. Range [-1.0, 0.9998559355735779]. Convert image to uint8 prior to saving to suppress this warning.\n"
     ]
    },
    {
     "name": "stdout",
     "output_type": "stream",
     "text": [
      "Iteration [146400/300000] | D_real_loss: 0.0199 | D_fake_loss: -0.1908 | G_loss: 0.0464 | D_loss: -0.2107 | Wasserstein_Distance: 0.2107\n",
      "Saved ./results/samples_gan_gp1_lr3e-5/sample-146400.png\n"
     ]
    },
    {
     "name": "stderr",
     "output_type": "stream",
     "text": [
      "Lossy conversion from float32 to uint8. Range [-1.0, 0.9998018741607666]. Convert image to uint8 prior to saving to suppress this warning.\n"
     ]
    },
    {
     "name": "stdout",
     "output_type": "stream",
     "text": [
      "Iteration [146600/300000] | D_real_loss: 0.0239 | D_fake_loss: -0.1873 | G_loss: 0.0142 | D_loss: -0.2112 | Wasserstein_Distance: 0.2112\n",
      "Saved ./results/samples_gan_gp1_lr3e-5/sample-146600.png\n",
      "EPOCH: 377\n"
     ]
    },
    {
     "name": "stderr",
     "output_type": "stream",
     "text": [
      "Lossy conversion from float32 to uint8. Range [-1.0, 0.9998043775558472]. Convert image to uint8 prior to saving to suppress this warning.\n"
     ]
    },
    {
     "name": "stdout",
     "output_type": "stream",
     "text": [
      "Iteration [146800/300000] | D_real_loss: 0.1575 | D_fake_loss: -0.0448 | G_loss: 0.1959 | D_loss: -0.2023 | Wasserstein_Distance: 0.2023\n",
      "Saved ./results/samples_gan_gp1_lr3e-5/sample-146800.png\n"
     ]
    },
    {
     "name": "stderr",
     "output_type": "stream",
     "text": [
      "Lossy conversion from float32 to uint8. Range [-1.0, 0.9998102784156799]. Convert image to uint8 prior to saving to suppress this warning.\n"
     ]
    },
    {
     "name": "stdout",
     "output_type": "stream",
     "text": [
      "Iteration [147000/300000] | D_real_loss: 0.1731 | D_fake_loss: -0.0109 | G_loss: 0.1988 | D_loss: -0.1839 | Wasserstein_Distance: 0.1839\n",
      "Saved ./results/samples_gan_gp1_lr3e-5/sample-147000.png\n",
      "EPOCH: 378\n"
     ]
    },
    {
     "name": "stderr",
     "output_type": "stream",
     "text": [
      "Lossy conversion from float32 to uint8. Range [-1.0, 0.9997990727424622]. Convert image to uint8 prior to saving to suppress this warning.\n"
     ]
    },
    {
     "name": "stdout",
     "output_type": "stream",
     "text": [
      "Iteration [147200/300000] | D_real_loss: -0.0292 | D_fake_loss: -0.2100 | G_loss: -0.0057 | D_loss: -0.1808 | Wasserstein_Distance: 0.1808\n",
      "Saved ./results/samples_gan_gp1_lr3e-5/sample-147200.png\n"
     ]
    },
    {
     "name": "stderr",
     "output_type": "stream",
     "text": [
      "Lossy conversion from float32 to uint8. Range [-1.0, 0.9998070001602173]. Convert image to uint8 prior to saving to suppress this warning.\n"
     ]
    },
    {
     "name": "stdout",
     "output_type": "stream",
     "text": [
      "Iteration [147400/300000] | D_real_loss: -0.0094 | D_fake_loss: -0.1935 | G_loss: 0.0705 | D_loss: -0.1841 | Wasserstein_Distance: 0.1841\n",
      "Saved ./results/samples_gan_gp1_lr3e-5/sample-147400.png\n",
      "EPOCH: 379\n"
     ]
    },
    {
     "name": "stderr",
     "output_type": "stream",
     "text": [
      "Lossy conversion from float32 to uint8. Range [-1.0, 0.9997584223747253]. Convert image to uint8 prior to saving to suppress this warning.\n"
     ]
    },
    {
     "name": "stdout",
     "output_type": "stream",
     "text": [
      "Iteration [147600/300000] | D_real_loss: -0.0194 | D_fake_loss: -0.1971 | G_loss: 0.0365 | D_loss: -0.1777 | Wasserstein_Distance: 0.1777\n",
      "Saved ./results/samples_gan_gp1_lr3e-5/sample-147600.png\n"
     ]
    },
    {
     "name": "stderr",
     "output_type": "stream",
     "text": [
      "Lossy conversion from float32 to uint8. Range [-1.0, 0.9997445344924927]. Convert image to uint8 prior to saving to suppress this warning.\n"
     ]
    },
    {
     "name": "stdout",
     "output_type": "stream",
     "text": [
      "Iteration [147800/300000] | D_real_loss: 0.0208 | D_fake_loss: -0.1825 | G_loss: 0.0402 | D_loss: -0.2033 | Wasserstein_Distance: 0.2033\n",
      "Saved ./results/samples_gan_gp1_lr3e-5/sample-147800.png\n",
      "EPOCH: 380\n"
     ]
    },
    {
     "name": "stderr",
     "output_type": "stream",
     "text": [
      "Lossy conversion from float32 to uint8. Range [-1.0, 0.999771237373352]. Convert image to uint8 prior to saving to suppress this warning.\n"
     ]
    },
    {
     "name": "stdout",
     "output_type": "stream",
     "text": [
      "Iteration [148000/300000] | D_real_loss: 0.0391 | D_fake_loss: -0.1628 | G_loss: 0.0609 | D_loss: -0.2020 | Wasserstein_Distance: 0.2020\n",
      "Saved ./results/samples_gan_gp1_lr3e-5/sample-148000.png\n"
     ]
    },
    {
     "name": "stderr",
     "output_type": "stream",
     "text": [
      "Lossy conversion from float32 to uint8. Range [-1.0, 0.9997292160987854]. Convert image to uint8 prior to saving to suppress this warning.\n"
     ]
    },
    {
     "name": "stdout",
     "output_type": "stream",
     "text": [
      "Iteration [148200/300000] | D_real_loss: 0.1458 | D_fake_loss: -0.0620 | G_loss: 0.1978 | D_loss: -0.2078 | Wasserstein_Distance: 0.2078\n",
      "Saved ./results/samples_gan_gp1_lr3e-5/sample-148200.png\n",
      "EPOCH: 381\n"
     ]
    },
    {
     "name": "stderr",
     "output_type": "stream",
     "text": [
      "Lossy conversion from float32 to uint8. Range [-1.0, 0.9997639656066895]. Convert image to uint8 prior to saving to suppress this warning.\n"
     ]
    },
    {
     "name": "stdout",
     "output_type": "stream",
     "text": [
      "Iteration [148400/300000] | D_real_loss: -0.0001 | D_fake_loss: -0.1659 | G_loss: 0.0804 | D_loss: -0.1658 | Wasserstein_Distance: 0.1658\n",
      "Saved ./results/samples_gan_gp1_lr3e-5/sample-148400.png\n",
      "EPOCH: 382\n"
     ]
    },
    {
     "name": "stderr",
     "output_type": "stream",
     "text": [
      "Lossy conversion from float32 to uint8. Range [-1.0, 0.9998548030853271]. Convert image to uint8 prior to saving to suppress this warning.\n"
     ]
    },
    {
     "name": "stdout",
     "output_type": "stream",
     "text": [
      "Iteration [148600/300000] | D_real_loss: 0.0170 | D_fake_loss: -0.1889 | G_loss: 0.0225 | D_loss: -0.2059 | Wasserstein_Distance: 0.2059\n",
      "Saved ./results/samples_gan_gp1_lr3e-5/sample-148600.png\n"
     ]
    },
    {
     "name": "stderr",
     "output_type": "stream",
     "text": [
      "Lossy conversion from float32 to uint8. Range [-1.0, 0.9997854232788086]. Convert image to uint8 prior to saving to suppress this warning.\n"
     ]
    },
    {
     "name": "stdout",
     "output_type": "stream",
     "text": [
      "Iteration [148800/300000] | D_real_loss: 0.1679 | D_fake_loss: -0.0106 | G_loss: 0.1857 | D_loss: -0.1785 | Wasserstein_Distance: 0.1785\n",
      "Saved ./results/samples_gan_gp1_lr3e-5/sample-148800.png\n",
      "EPOCH: 383\n"
     ]
    },
    {
     "name": "stderr",
     "output_type": "stream",
     "text": [
      "Lossy conversion from float32 to uint8. Range [-1.0, 0.9997768998146057]. Convert image to uint8 prior to saving to suppress this warning.\n"
     ]
    },
    {
     "name": "stdout",
     "output_type": "stream",
     "text": [
      "Iteration [149000/300000] | D_real_loss: 0.1569 | D_fake_loss: -0.0712 | G_loss: 0.1921 | D_loss: -0.2281 | Wasserstein_Distance: 0.2281\n",
      "Saved ./results/samples_gan_gp1_lr3e-5/sample-149000.png\n"
     ]
    },
    {
     "name": "stderr",
     "output_type": "stream",
     "text": [
      "Lossy conversion from float32 to uint8. Range [-1.0, 0.9997981190681458]. Convert image to uint8 prior to saving to suppress this warning.\n"
     ]
    },
    {
     "name": "stdout",
     "output_type": "stream",
     "text": [
      "Iteration [149200/300000] | D_real_loss: -0.0383 | D_fake_loss: -0.2226 | G_loss: -0.0026 | D_loss: -0.1843 | Wasserstein_Distance: 0.1843\n",
      "Saved ./results/samples_gan_gp1_lr3e-5/sample-149200.png\n",
      "EPOCH: 384\n"
     ]
    },
    {
     "name": "stderr",
     "output_type": "stream",
     "text": [
      "Lossy conversion from float32 to uint8. Range [-1.0, 0.9996860027313232]. Convert image to uint8 prior to saving to suppress this warning.\n"
     ]
    },
    {
     "name": "stdout",
     "output_type": "stream",
     "text": [
      "Iteration [149400/300000] | D_real_loss: -0.0169 | D_fake_loss: -0.1984 | G_loss: 0.0331 | D_loss: -0.1815 | Wasserstein_Distance: 0.1815\n",
      "Saved ./results/samples_gan_gp1_lr3e-5/sample-149400.png\n"
     ]
    },
    {
     "name": "stderr",
     "output_type": "stream",
     "text": [
      "Lossy conversion from float32 to uint8. Range [-1.0, 0.9996798634529114]. Convert image to uint8 prior to saving to suppress this warning.\n"
     ]
    },
    {
     "name": "stdout",
     "output_type": "stream",
     "text": [
      "Iteration [149600/300000] | D_real_loss: 0.0431 | D_fake_loss: -0.1834 | G_loss: 0.0607 | D_loss: -0.2265 | Wasserstein_Distance: 0.2265\n",
      "Saved ./results/samples_gan_gp1_lr3e-5/sample-149600.png\n",
      "EPOCH: 385\n"
     ]
    },
    {
     "name": "stderr",
     "output_type": "stream",
     "text": [
      "Lossy conversion from float32 to uint8. Range [-1.0, 0.9997430443763733]. Convert image to uint8 prior to saving to suppress this warning.\n"
     ]
    },
    {
     "name": "stdout",
     "output_type": "stream",
     "text": [
      "Iteration [149800/300000] | D_real_loss: 0.1289 | D_fake_loss: -0.0553 | G_loss: 0.1457 | D_loss: -0.1842 | Wasserstein_Distance: 0.1842\n",
      "Saved ./results/samples_gan_gp1_lr3e-5/sample-149800.png\n"
     ]
    },
    {
     "name": "stderr",
     "output_type": "stream",
     "text": [
      "Lossy conversion from float32 to uint8. Range [-1.0, 0.9995802640914917]. Convert image to uint8 prior to saving to suppress this warning.\n"
     ]
    },
    {
     "name": "stdout",
     "output_type": "stream",
     "text": [
      "Iteration [150000/300000] | D_real_loss: 0.1571 | D_fake_loss: -0.0296 | G_loss: 0.2031 | D_loss: -0.1867 | Wasserstein_Distance: 0.1867\n",
      "Saved ./results/samples_gan_gp1_lr3e-5/sample-150000.png\n",
      "EPOCH: 386\n"
     ]
    },
    {
     "name": "stderr",
     "output_type": "stream",
     "text": [
      "Lossy conversion from float32 to uint8. Range [-1.0, 0.9997567534446716]. Convert image to uint8 prior to saving to suppress this warning.\n"
     ]
    },
    {
     "name": "stdout",
     "output_type": "stream",
     "text": [
      "Iteration [150200/300000] | D_real_loss: 0.1457 | D_fake_loss: -0.0196 | G_loss: 0.1753 | D_loss: -0.1652 | Wasserstein_Distance: 0.1652\n",
      "Saved ./results/samples_gan_gp1_lr3e-5/sample-150200.png\n"
     ]
    },
    {
     "name": "stderr",
     "output_type": "stream",
     "text": [
      "Lossy conversion from float32 to uint8. Range [-1.0, 0.9997258186340332]. Convert image to uint8 prior to saving to suppress this warning.\n"
     ]
    },
    {
     "name": "stdout",
     "output_type": "stream",
     "text": [
      "Iteration [150400/300000] | D_real_loss: 0.0021 | D_fake_loss: -0.1720 | G_loss: 0.0405 | D_loss: -0.1741 | Wasserstein_Distance: 0.1741\n",
      "Saved ./results/samples_gan_gp1_lr3e-5/sample-150400.png\n",
      "EPOCH: 387\n"
     ]
    },
    {
     "name": "stderr",
     "output_type": "stream",
     "text": [
      "Lossy conversion from float32 to uint8. Range [-1.0, 0.9996432065963745]. Convert image to uint8 prior to saving to suppress this warning.\n"
     ]
    },
    {
     "name": "stdout",
     "output_type": "stream",
     "text": [
      "Iteration [150600/300000] | D_real_loss: 0.1575 | D_fake_loss: -0.0149 | G_loss: 0.1694 | D_loss: -0.1724 | Wasserstein_Distance: 0.1724\n",
      "Saved ./results/samples_gan_gp1_lr3e-5/sample-150600.png\n"
     ]
    },
    {
     "name": "stderr",
     "output_type": "stream",
     "text": [
      "Lossy conversion from float32 to uint8. Range [-1.0, 0.9998512268066406]. Convert image to uint8 prior to saving to suppress this warning.\n"
     ]
    },
    {
     "name": "stdout",
     "output_type": "stream",
     "text": [
      "Iteration [150800/300000] | D_real_loss: 0.1623 | D_fake_loss: -0.0329 | G_loss: 0.2118 | D_loss: -0.1952 | Wasserstein_Distance: 0.1952\n",
      "Saved ./results/samples_gan_gp1_lr3e-5/sample-150800.png\n",
      "EPOCH: 388\n"
     ]
    },
    {
     "name": "stderr",
     "output_type": "stream",
     "text": [
      "Lossy conversion from float32 to uint8. Range [-1.0, 0.9998218417167664]. Convert image to uint8 prior to saving to suppress this warning.\n"
     ]
    },
    {
     "name": "stdout",
     "output_type": "stream",
     "text": [
      "Iteration [151000/300000] | D_real_loss: 0.1530 | D_fake_loss: -0.0546 | G_loss: 0.1913 | D_loss: -0.2077 | Wasserstein_Distance: 0.2077\n",
      "Saved ./results/samples_gan_gp1_lr3e-5/sample-151000.png\n"
     ]
    },
    {
     "name": "stderr",
     "output_type": "stream",
     "text": [
      "Lossy conversion from float32 to uint8. Range [-1.0, 0.9998417496681213]. Convert image to uint8 prior to saving to suppress this warning.\n"
     ]
    },
    {
     "name": "stdout",
     "output_type": "stream",
     "text": [
      "Iteration [151200/300000] | D_real_loss: 0.1433 | D_fake_loss: -0.0386 | G_loss: 0.1733 | D_loss: -0.1819 | Wasserstein_Distance: 0.1819\n",
      "Saved ./results/samples_gan_gp1_lr3e-5/sample-151200.png\n",
      "EPOCH: 389\n"
     ]
    },
    {
     "name": "stderr",
     "output_type": "stream",
     "text": [
      "Lossy conversion from float32 to uint8. Range [-1.0, 0.9998467564582825]. Convert image to uint8 prior to saving to suppress this warning.\n"
     ]
    },
    {
     "name": "stdout",
     "output_type": "stream",
     "text": [
      "Iteration [151400/300000] | D_real_loss: 0.1808 | D_fake_loss: 0.0004 | G_loss: 0.2100 | D_loss: -0.1803 | Wasserstein_Distance: 0.1803\n",
      "Saved ./results/samples_gan_gp1_lr3e-5/sample-151400.png\n"
     ]
    },
    {
     "name": "stderr",
     "output_type": "stream",
     "text": [
      "Lossy conversion from float32 to uint8. Range [-1.0, 0.9998412728309631]. Convert image to uint8 prior to saving to suppress this warning.\n"
     ]
    },
    {
     "name": "stdout",
     "output_type": "stream",
     "text": [
      "Iteration [151600/300000] | D_real_loss: 0.1644 | D_fake_loss: -0.0057 | G_loss: 0.1854 | D_loss: -0.1701 | Wasserstein_Distance: 0.1701\n",
      "Saved ./results/samples_gan_gp1_lr3e-5/sample-151600.png\n",
      "EPOCH: 390\n"
     ]
    },
    {
     "name": "stderr",
     "output_type": "stream",
     "text": [
      "Lossy conversion from float32 to uint8. Range [-1.0, 0.9997953772544861]. Convert image to uint8 prior to saving to suppress this warning.\n"
     ]
    },
    {
     "name": "stdout",
     "output_type": "stream",
     "text": [
      "Iteration [151800/300000] | D_real_loss: -0.0699 | D_fake_loss: -0.2090 | G_loss: 0.0283 | D_loss: -0.1390 | Wasserstein_Distance: 0.1390\n",
      "Saved ./results/samples_gan_gp1_lr3e-5/sample-151800.png\n"
     ]
    },
    {
     "name": "stderr",
     "output_type": "stream",
     "text": [
      "Lossy conversion from float32 to uint8. Range [-1.0, 0.999828040599823]. Convert image to uint8 prior to saving to suppress this warning.\n"
     ]
    },
    {
     "name": "stdout",
     "output_type": "stream",
     "text": [
      "Iteration [152000/300000] | D_real_loss: -0.0197 | D_fake_loss: -0.1951 | G_loss: 0.0347 | D_loss: -0.1753 | Wasserstein_Distance: 0.1753\n",
      "Saved ./results/samples_gan_gp1_lr3e-5/sample-152000.png\n",
      "EPOCH: 391\n"
     ]
    },
    {
     "name": "stderr",
     "output_type": "stream",
     "text": [
      "Lossy conversion from float32 to uint8. Range [-1.0, 0.9997367858886719]. Convert image to uint8 prior to saving to suppress this warning.\n"
     ]
    },
    {
     "name": "stdout",
     "output_type": "stream",
     "text": [
      "Iteration [152200/300000] | D_real_loss: 0.1594 | D_fake_loss: -0.0532 | G_loss: 0.1794 | D_loss: -0.2126 | Wasserstein_Distance: 0.2126\n",
      "Saved ./results/samples_gan_gp1_lr3e-5/sample-152200.png\n"
     ]
    },
    {
     "name": "stderr",
     "output_type": "stream",
     "text": [
      "Lossy conversion from float32 to uint8. Range [-1.0, 0.9997702240943909]. Convert image to uint8 prior to saving to suppress this warning.\n"
     ]
    },
    {
     "name": "stdout",
     "output_type": "stream",
     "text": [
      "Iteration [152400/300000] | D_real_loss: 0.0041 | D_fake_loss: -0.1767 | G_loss: 0.0324 | D_loss: -0.1808 | Wasserstein_Distance: 0.1808\n",
      "Saved ./results/samples_gan_gp1_lr3e-5/sample-152400.png\n",
      "EPOCH: 392\n"
     ]
    },
    {
     "name": "stderr",
     "output_type": "stream",
     "text": [
      "Lossy conversion from float32 to uint8. Range [-1.0, 0.9998025894165039]. Convert image to uint8 prior to saving to suppress this warning.\n"
     ]
    },
    {
     "name": "stdout",
     "output_type": "stream",
     "text": [
      "Iteration [152600/300000] | D_real_loss: 0.1542 | D_fake_loss: -0.0134 | G_loss: 0.1830 | D_loss: -0.1676 | Wasserstein_Distance: 0.1676\n",
      "Saved ./results/samples_gan_gp1_lr3e-5/sample-152600.png\n"
     ]
    },
    {
     "name": "stderr",
     "output_type": "stream",
     "text": [
      "Lossy conversion from float32 to uint8. Range [-1.0, 0.9998807311058044]. Convert image to uint8 prior to saving to suppress this warning.\n"
     ]
    },
    {
     "name": "stdout",
     "output_type": "stream",
     "text": [
      "Iteration [152800/300000] | D_real_loss: 0.1596 | D_fake_loss: -0.0188 | G_loss: 0.1813 | D_loss: -0.1784 | Wasserstein_Distance: 0.1784\n",
      "Saved ./results/samples_gan_gp1_lr3e-5/sample-152800.png\n",
      "EPOCH: 393\n"
     ]
    },
    {
     "name": "stderr",
     "output_type": "stream",
     "text": [
      "Lossy conversion from float32 to uint8. Range [-1.0, 0.9998981356620789]. Convert image to uint8 prior to saving to suppress this warning.\n"
     ]
    },
    {
     "name": "stdout",
     "output_type": "stream",
     "text": [
      "Iteration [153000/300000] | D_real_loss: 0.1353 | D_fake_loss: -0.0395 | G_loss: 0.1833 | D_loss: -0.1748 | Wasserstein_Distance: 0.1748\n",
      "Saved ./results/samples_gan_gp1_lr3e-5/sample-153000.png\n"
     ]
    },
    {
     "name": "stderr",
     "output_type": "stream",
     "text": [
      "Lossy conversion from float32 to uint8. Range [-1.0, 0.9998313188552856]. Convert image to uint8 prior to saving to suppress this warning.\n"
     ]
    },
    {
     "name": "stdout",
     "output_type": "stream",
     "text": [
      "Iteration [153200/300000] | D_real_loss: 0.0394 | D_fake_loss: -0.1561 | G_loss: 0.0369 | D_loss: -0.1955 | Wasserstein_Distance: 0.1955\n",
      "Saved ./results/samples_gan_gp1_lr3e-5/sample-153200.png\n",
      "EPOCH: 394\n"
     ]
    },
    {
     "name": "stderr",
     "output_type": "stream",
     "text": [
      "Lossy conversion from float32 to uint8. Range [-1.0, 0.9998636841773987]. Convert image to uint8 prior to saving to suppress this warning.\n"
     ]
    },
    {
     "name": "stdout",
     "output_type": "stream",
     "text": [
      "Iteration [153400/300000] | D_real_loss: 0.1562 | D_fake_loss: -0.0146 | G_loss: 0.1625 | D_loss: -0.1709 | Wasserstein_Distance: 0.1709\n",
      "Saved ./results/samples_gan_gp1_lr3e-5/sample-153400.png\n"
     ]
    },
    {
     "name": "stderr",
     "output_type": "stream",
     "text": [
      "Lossy conversion from float32 to uint8. Range [-1.0, 0.9998499155044556]. Convert image to uint8 prior to saving to suppress this warning.\n"
     ]
    },
    {
     "name": "stdout",
     "output_type": "stream",
     "text": [
      "Iteration [153600/300000] | D_real_loss: 0.0113 | D_fake_loss: -0.1657 | G_loss: 0.0400 | D_loss: -0.1770 | Wasserstein_Distance: 0.1770\n",
      "Saved ./results/samples_gan_gp1_lr3e-5/sample-153600.png\n",
      "EPOCH: 395\n"
     ]
    },
    {
     "name": "stderr",
     "output_type": "stream",
     "text": [
      "Lossy conversion from float32 to uint8. Range [-1.0, 0.99991774559021]. Convert image to uint8 prior to saving to suppress this warning.\n"
     ]
    },
    {
     "name": "stdout",
     "output_type": "stream",
     "text": [
      "Iteration [153800/300000] | D_real_loss: 0.0364 | D_fake_loss: -0.1571 | G_loss: 0.0348 | D_loss: -0.1936 | Wasserstein_Distance: 0.1936\n",
      "Saved ./results/samples_gan_gp1_lr3e-5/sample-153800.png\n"
     ]
    },
    {
     "name": "stderr",
     "output_type": "stream",
     "text": [
      "Lossy conversion from float32 to uint8. Range [-1.0, 0.999860405921936]. Convert image to uint8 prior to saving to suppress this warning.\n"
     ]
    },
    {
     "name": "stdout",
     "output_type": "stream",
     "text": [
      "Iteration [154000/300000] | D_real_loss: -0.0180 | D_fake_loss: -0.1986 | G_loss: 0.0174 | D_loss: -0.1806 | Wasserstein_Distance: 0.1806\n",
      "Saved ./results/samples_gan_gp1_lr3e-5/sample-154000.png\n",
      "EPOCH: 396\n"
     ]
    },
    {
     "name": "stderr",
     "output_type": "stream",
     "text": [
      "Lossy conversion from float32 to uint8. Range [-1.0, 0.9998758435249329]. Convert image to uint8 prior to saving to suppress this warning.\n"
     ]
    },
    {
     "name": "stdout",
     "output_type": "stream",
     "text": [
      "Iteration [154200/300000] | D_real_loss: 0.0418 | D_fake_loss: -0.1495 | G_loss: 0.0373 | D_loss: -0.1913 | Wasserstein_Distance: 0.1913\n",
      "Saved ./results/samples_gan_gp1_lr3e-5/sample-154200.png\n"
     ]
    },
    {
     "name": "stderr",
     "output_type": "stream",
     "text": [
      "Lossy conversion from float32 to uint8. Range [-1.0, 0.9998259544372559]. Convert image to uint8 prior to saving to suppress this warning.\n"
     ]
    },
    {
     "name": "stdout",
     "output_type": "stream",
     "text": [
      "Iteration [154400/300000] | D_real_loss: 0.0438 | D_fake_loss: -0.1582 | G_loss: 0.0309 | D_loss: -0.2020 | Wasserstein_Distance: 0.2020\n",
      "Saved ./results/samples_gan_gp1_lr3e-5/sample-154400.png\n",
      "EPOCH: 397\n"
     ]
    },
    {
     "name": "stderr",
     "output_type": "stream",
     "text": [
      "Lossy conversion from float32 to uint8. Range [-1.0, 0.9998574256896973]. Convert image to uint8 prior to saving to suppress this warning.\n"
     ]
    },
    {
     "name": "stdout",
     "output_type": "stream",
     "text": [
      "Iteration [154600/300000] | D_real_loss: 0.0553 | D_fake_loss: -0.1390 | G_loss: 0.0673 | D_loss: -0.1943 | Wasserstein_Distance: 0.1943\n",
      "Saved ./results/samples_gan_gp1_lr3e-5/sample-154600.png\n"
     ]
    },
    {
     "name": "stderr",
     "output_type": "stream",
     "text": [
      "Lossy conversion from float32 to uint8. Range [-1.0, 0.9998695254325867]. Convert image to uint8 prior to saving to suppress this warning.\n"
     ]
    },
    {
     "name": "stdout",
     "output_type": "stream",
     "text": [
      "Iteration [154800/300000] | D_real_loss: 0.1349 | D_fake_loss: -0.0476 | G_loss: 0.1774 | D_loss: -0.1825 | Wasserstein_Distance: 0.1825\n",
      "Saved ./results/samples_gan_gp1_lr3e-5/sample-154800.png\n",
      "EPOCH: 398\n"
     ]
    },
    {
     "name": "stderr",
     "output_type": "stream",
     "text": [
      "Lossy conversion from float32 to uint8. Range [-1.0, 0.9998008012771606]. Convert image to uint8 prior to saving to suppress this warning.\n"
     ]
    },
    {
     "name": "stdout",
     "output_type": "stream",
     "text": [
      "Iteration [155000/300000] | D_real_loss: 0.0093 | D_fake_loss: -0.1690 | G_loss: 0.0201 | D_loss: -0.1783 | Wasserstein_Distance: 0.1783\n",
      "Saved ./results/samples_gan_gp1_lr3e-5/sample-155000.png\n"
     ]
    },
    {
     "name": "stderr",
     "output_type": "stream",
     "text": [
      "Lossy conversion from float32 to uint8. Range [-1.0, 0.9998379349708557]. Convert image to uint8 prior to saving to suppress this warning.\n"
     ]
    },
    {
     "name": "stdout",
     "output_type": "stream",
     "text": [
      "Iteration [155200/300000] | D_real_loss: 0.0534 | D_fake_loss: -0.1635 | G_loss: 0.0594 | D_loss: -0.2168 | Wasserstein_Distance: 0.2168\n",
      "Saved ./results/samples_gan_gp1_lr3e-5/sample-155200.png\n",
      "EPOCH: 399\n"
     ]
    },
    {
     "name": "stderr",
     "output_type": "stream",
     "text": [
      "Lossy conversion from float32 to uint8. Range [-1.0, 0.9998427033424377]. Convert image to uint8 prior to saving to suppress this warning.\n"
     ]
    },
    {
     "name": "stdout",
     "output_type": "stream",
     "text": [
      "Iteration [155400/300000] | D_real_loss: 0.0144 | D_fake_loss: -0.1971 | G_loss: 0.0127 | D_loss: -0.2114 | Wasserstein_Distance: 0.2114\n",
      "Saved ./results/samples_gan_gp1_lr3e-5/sample-155400.png\n"
     ]
    },
    {
     "name": "stderr",
     "output_type": "stream",
     "text": [
      "Lossy conversion from float32 to uint8. Range [-1.0, 0.9997718930244446]. Convert image to uint8 prior to saving to suppress this warning.\n"
     ]
    },
    {
     "name": "stdout",
     "output_type": "stream",
     "text": [
      "Iteration [155600/300000] | D_real_loss: 0.1000 | D_fake_loss: -0.1238 | G_loss: 0.1369 | D_loss: -0.2239 | Wasserstein_Distance: 0.2239\n",
      "Saved ./results/samples_gan_gp1_lr3e-5/sample-155600.png\n",
      "EPOCH: 400\n"
     ]
    },
    {
     "name": "stderr",
     "output_type": "stream",
     "text": [
      "Lossy conversion from float32 to uint8. Range [-1.0, 0.9998144507408142]. Convert image to uint8 prior to saving to suppress this warning.\n"
     ]
    },
    {
     "name": "stdout",
     "output_type": "stream",
     "text": [
      "Iteration [155800/300000] | D_real_loss: 0.0210 | D_fake_loss: -0.1691 | G_loss: 0.0255 | D_loss: -0.1902 | Wasserstein_Distance: 0.1902\n",
      "Saved ./results/samples_gan_gp1_lr3e-5/sample-155800.png\n"
     ]
    },
    {
     "name": "stderr",
     "output_type": "stream",
     "text": [
      "Lossy conversion from float32 to uint8. Range [-1.0, 0.9998241662979126]. Convert image to uint8 prior to saving to suppress this warning.\n"
     ]
    },
    {
     "name": "stdout",
     "output_type": "stream",
     "text": [
      "Iteration [156000/300000] | D_real_loss: 0.1658 | D_fake_loss: -0.0103 | G_loss: 0.1761 | D_loss: -0.1761 | Wasserstein_Distance: 0.1761\n",
      "Saved ./results/samples_gan_gp1_lr3e-5/sample-156000.png\n",
      "EPOCH: 401\n"
     ]
    },
    {
     "name": "stderr",
     "output_type": "stream",
     "text": [
      "Lossy conversion from float32 to uint8. Range [-1.0, 0.9998816251754761]. Convert image to uint8 prior to saving to suppress this warning.\n"
     ]
    },
    {
     "name": "stdout",
     "output_type": "stream",
     "text": [
      "Iteration [156200/300000] | D_real_loss: 0.0192 | D_fake_loss: -0.1612 | G_loss: 0.0552 | D_loss: -0.1804 | Wasserstein_Distance: 0.1804\n",
      "Saved ./results/samples_gan_gp1_lr3e-5/sample-156200.png\n",
      "EPOCH: 402\n"
     ]
    },
    {
     "name": "stderr",
     "output_type": "stream",
     "text": [
      "Lossy conversion from float32 to uint8. Range [-1.0, 0.9998369812965393]. Convert image to uint8 prior to saving to suppress this warning.\n"
     ]
    },
    {
     "name": "stdout",
     "output_type": "stream",
     "text": [
      "Iteration [156400/300000] | D_real_loss: 0.1807 | D_fake_loss: -0.0012 | G_loss: 0.1987 | D_loss: -0.1819 | Wasserstein_Distance: 0.1819\n",
      "Saved ./results/samples_gan_gp1_lr3e-5/sample-156400.png\n"
     ]
    },
    {
     "name": "stderr",
     "output_type": "stream",
     "text": [
      "Lossy conversion from float32 to uint8. Range [-1.0, 0.9998747110366821]. Convert image to uint8 prior to saving to suppress this warning.\n"
     ]
    },
    {
     "name": "stdout",
     "output_type": "stream",
     "text": [
      "Iteration [156600/300000] | D_real_loss: 0.1463 | D_fake_loss: -0.0473 | G_loss: 0.1744 | D_loss: -0.1936 | Wasserstein_Distance: 0.1936\n",
      "Saved ./results/samples_gan_gp1_lr3e-5/sample-156600.png\n",
      "EPOCH: 403\n"
     ]
    },
    {
     "name": "stderr",
     "output_type": "stream",
     "text": [
      "Lossy conversion from float32 to uint8. Range [-1.0, 0.9998584389686584]. Convert image to uint8 prior to saving to suppress this warning.\n"
     ]
    },
    {
     "name": "stdout",
     "output_type": "stream",
     "text": [
      "Iteration [156800/300000] | D_real_loss: -0.0455 | D_fake_loss: -0.2067 | G_loss: 0.0013 | D_loss: -0.1612 | Wasserstein_Distance: 0.1612\n",
      "Saved ./results/samples_gan_gp1_lr3e-5/sample-156800.png\n"
     ]
    },
    {
     "name": "stderr",
     "output_type": "stream",
     "text": [
      "Lossy conversion from float32 to uint8. Range [-1.0, 0.9997919201850891]. Convert image to uint8 prior to saving to suppress this warning.\n"
     ]
    },
    {
     "name": "stdout",
     "output_type": "stream",
     "text": [
      "Iteration [157000/300000] | D_real_loss: 0.0184 | D_fake_loss: -0.1823 | G_loss: 0.0482 | D_loss: -0.2007 | Wasserstein_Distance: 0.2007\n",
      "Saved ./results/samples_gan_gp1_lr3e-5/sample-157000.png\n",
      "EPOCH: 404\n"
     ]
    },
    {
     "name": "stderr",
     "output_type": "stream",
     "text": [
      "Lossy conversion from float32 to uint8. Range [-1.0, 0.999727725982666]. Convert image to uint8 prior to saving to suppress this warning.\n"
     ]
    },
    {
     "name": "stdout",
     "output_type": "stream",
     "text": [
      "Iteration [157200/300000] | D_real_loss: 0.1696 | D_fake_loss: -0.0234 | G_loss: 0.2174 | D_loss: -0.1930 | Wasserstein_Distance: 0.1930\n",
      "Saved ./results/samples_gan_gp1_lr3e-5/sample-157200.png\n"
     ]
    },
    {
     "name": "stderr",
     "output_type": "stream",
     "text": [
      "Lossy conversion from float32 to uint8. Range [-1.0, 0.999780535697937]. Convert image to uint8 prior to saving to suppress this warning.\n"
     ]
    },
    {
     "name": "stdout",
     "output_type": "stream",
     "text": [
      "Iteration [157400/300000] | D_real_loss: 0.0803 | D_fake_loss: -0.1431 | G_loss: 0.0509 | D_loss: -0.2234 | Wasserstein_Distance: 0.2234\n",
      "Saved ./results/samples_gan_gp1_lr3e-5/sample-157400.png\n",
      "EPOCH: 405\n"
     ]
    },
    {
     "name": "stderr",
     "output_type": "stream",
     "text": [
      "Lossy conversion from float32 to uint8. Range [-1.0, 0.9998300075531006]. Convert image to uint8 prior to saving to suppress this warning.\n"
     ]
    },
    {
     "name": "stdout",
     "output_type": "stream",
     "text": [
      "Iteration [157600/300000] | D_real_loss: 0.1708 | D_fake_loss: -0.0227 | G_loss: 0.1834 | D_loss: -0.1934 | Wasserstein_Distance: 0.1934\n",
      "Saved ./results/samples_gan_gp1_lr3e-5/sample-157600.png\n"
     ]
    },
    {
     "name": "stderr",
     "output_type": "stream",
     "text": [
      "Lossy conversion from float32 to uint8. Range [-1.0, 0.9997872710227966]. Convert image to uint8 prior to saving to suppress this warning.\n"
     ]
    },
    {
     "name": "stdout",
     "output_type": "stream",
     "text": [
      "Iteration [157800/300000] | D_real_loss: 0.1290 | D_fake_loss: -0.0514 | G_loss: 0.1708 | D_loss: -0.1805 | Wasserstein_Distance: 0.1805\n",
      "Saved ./results/samples_gan_gp1_lr3e-5/sample-157800.png\n",
      "EPOCH: 406\n"
     ]
    },
    {
     "name": "stderr",
     "output_type": "stream",
     "text": [
      "Lossy conversion from float32 to uint8. Range [-1.0, 0.9997313618659973]. Convert image to uint8 prior to saving to suppress this warning.\n"
     ]
    },
    {
     "name": "stdout",
     "output_type": "stream",
     "text": [
      "Iteration [158000/300000] | D_real_loss: 0.0277 | D_fake_loss: -0.1794 | G_loss: 0.0415 | D_loss: -0.2071 | Wasserstein_Distance: 0.2071\n",
      "Saved ./results/samples_gan_gp1_lr3e-5/sample-158000.png\n"
     ]
    },
    {
     "name": "stderr",
     "output_type": "stream",
     "text": [
      "Lossy conversion from float32 to uint8. Range [-1.0, 0.9998680353164673]. Convert image to uint8 prior to saving to suppress this warning.\n"
     ]
    },
    {
     "name": "stdout",
     "output_type": "stream",
     "text": [
      "Iteration [158200/300000] | D_real_loss: 0.1631 | D_fake_loss: -0.0189 | G_loss: 0.2030 | D_loss: -0.1821 | Wasserstein_Distance: 0.1821\n",
      "Saved ./results/samples_gan_gp1_lr3e-5/sample-158200.png\n",
      "EPOCH: 407\n"
     ]
    },
    {
     "name": "stderr",
     "output_type": "stream",
     "text": [
      "Lossy conversion from float32 to uint8. Range [-1.0, 0.9998369216918945]. Convert image to uint8 prior to saving to suppress this warning.\n"
     ]
    },
    {
     "name": "stdout",
     "output_type": "stream",
     "text": [
      "Iteration [158400/300000] | D_real_loss: 0.0274 | D_fake_loss: -0.1462 | G_loss: 0.0287 | D_loss: -0.1735 | Wasserstein_Distance: 0.1735\n",
      "Saved ./results/samples_gan_gp1_lr3e-5/sample-158400.png\n"
     ]
    },
    {
     "name": "stderr",
     "output_type": "stream",
     "text": [
      "Lossy conversion from float32 to uint8. Range [-1.0, 0.9997864961624146]. Convert image to uint8 prior to saving to suppress this warning.\n"
     ]
    },
    {
     "name": "stdout",
     "output_type": "stream",
     "text": [
      "Iteration [158600/300000] | D_real_loss: 0.0718 | D_fake_loss: -0.1372 | G_loss: 0.0781 | D_loss: -0.2090 | Wasserstein_Distance: 0.2090\n",
      "Saved ./results/samples_gan_gp1_lr3e-5/sample-158600.png\n",
      "EPOCH: 408\n"
     ]
    },
    {
     "name": "stderr",
     "output_type": "stream",
     "text": [
      "Lossy conversion from float32 to uint8. Range [-1.0, 0.999779224395752]. Convert image to uint8 prior to saving to suppress this warning.\n"
     ]
    },
    {
     "name": "stdout",
     "output_type": "stream",
     "text": [
      "Iteration [158800/300000] | D_real_loss: 0.0243 | D_fake_loss: -0.1780 | G_loss: 0.0116 | D_loss: -0.2023 | Wasserstein_Distance: 0.2023\n",
      "Saved ./results/samples_gan_gp1_lr3e-5/sample-158800.png\n"
     ]
    },
    {
     "name": "stderr",
     "output_type": "stream",
     "text": [
      "Lossy conversion from float32 to uint8. Range [-1.0, 0.9998504519462585]. Convert image to uint8 prior to saving to suppress this warning.\n"
     ]
    },
    {
     "name": "stdout",
     "output_type": "stream",
     "text": [
      "Iteration [159000/300000] | D_real_loss: 0.1598 | D_fake_loss: -0.0362 | G_loss: 0.1992 | D_loss: -0.1960 | Wasserstein_Distance: 0.1960\n",
      "Saved ./results/samples_gan_gp1_lr3e-5/sample-159000.png\n",
      "EPOCH: 409\n"
     ]
    },
    {
     "name": "stderr",
     "output_type": "stream",
     "text": [
      "Lossy conversion from float32 to uint8. Range [-1.0, 0.9997847080230713]. Convert image to uint8 prior to saving to suppress this warning.\n"
     ]
    },
    {
     "name": "stdout",
     "output_type": "stream",
     "text": [
      "Iteration [159200/300000] | D_real_loss: 0.1518 | D_fake_loss: -0.0379 | G_loss: 0.1984 | D_loss: -0.1897 | Wasserstein_Distance: 0.1897\n",
      "Saved ./results/samples_gan_gp1_lr3e-5/sample-159200.png\n"
     ]
    },
    {
     "name": "stderr",
     "output_type": "stream",
     "text": [
      "Lossy conversion from float32 to uint8. Range [-1.0, 0.9998942613601685]. Convert image to uint8 prior to saving to suppress this warning.\n"
     ]
    },
    {
     "name": "stdout",
     "output_type": "stream",
     "text": [
      "Iteration [159400/300000] | D_real_loss: 0.1357 | D_fake_loss: -0.0594 | G_loss: 0.1690 | D_loss: -0.1950 | Wasserstein_Distance: 0.1950\n",
      "Saved ./results/samples_gan_gp1_lr3e-5/sample-159400.png\n",
      "EPOCH: 410\n"
     ]
    },
    {
     "name": "stderr",
     "output_type": "stream",
     "text": [
      "Lossy conversion from float32 to uint8. Range [-1.0, 0.9995296597480774]. Convert image to uint8 prior to saving to suppress this warning.\n"
     ]
    },
    {
     "name": "stdout",
     "output_type": "stream",
     "text": [
      "Iteration [159600/300000] | D_real_loss: 0.1363 | D_fake_loss: -0.0559 | G_loss: 0.1311 | D_loss: -0.1922 | Wasserstein_Distance: 0.1922\n",
      "Saved ./results/samples_gan_gp1_lr3e-5/sample-159600.png\n"
     ]
    },
    {
     "name": "stderr",
     "output_type": "stream",
     "text": [
      "Lossy conversion from float32 to uint8. Range [-1.0, 0.9998347759246826]. Convert image to uint8 prior to saving to suppress this warning.\n"
     ]
    },
    {
     "name": "stdout",
     "output_type": "stream",
     "text": [
      "Iteration [159800/300000] | D_real_loss: 0.1747 | D_fake_loss: -0.0122 | G_loss: 0.2102 | D_loss: -0.1870 | Wasserstein_Distance: 0.1870\n",
      "Saved ./results/samples_gan_gp1_lr3e-5/sample-159800.png\n",
      "EPOCH: 411\n"
     ]
    },
    {
     "name": "stderr",
     "output_type": "stream",
     "text": [
      "Lossy conversion from float32 to uint8. Range [-1.0, 0.9998653531074524]. Convert image to uint8 prior to saving to suppress this warning.\n"
     ]
    },
    {
     "name": "stdout",
     "output_type": "stream",
     "text": [
      "Iteration [160000/300000] | D_real_loss: 0.0282 | D_fake_loss: -0.1708 | G_loss: 0.0205 | D_loss: -0.1990 | Wasserstein_Distance: 0.1990\n",
      "Saved ./results/samples_gan_gp1_lr3e-5/sample-160000.png\n"
     ]
    },
    {
     "name": "stderr",
     "output_type": "stream",
     "text": [
      "Lossy conversion from float32 to uint8. Range [-1.0, 0.9998939037322998]. Convert image to uint8 prior to saving to suppress this warning.\n"
     ]
    },
    {
     "name": "stdout",
     "output_type": "stream",
     "text": [
      "Iteration [160200/300000] | D_real_loss: 0.1636 | D_fake_loss: -0.0177 | G_loss: 0.1866 | D_loss: -0.1813 | Wasserstein_Distance: 0.1813\n",
      "Saved ./results/samples_gan_gp1_lr3e-5/sample-160200.png\n",
      "EPOCH: 412\n"
     ]
    },
    {
     "name": "stderr",
     "output_type": "stream",
     "text": [
      "Lossy conversion from float32 to uint8. Range [-1.0, 0.9998266100883484]. Convert image to uint8 prior to saving to suppress this warning.\n"
     ]
    },
    {
     "name": "stdout",
     "output_type": "stream",
     "text": [
      "Iteration [160400/300000] | D_real_loss: -0.0229 | D_fake_loss: -0.1922 | G_loss: 0.0255 | D_loss: -0.1693 | Wasserstein_Distance: 0.1693\n",
      "Saved ./results/samples_gan_gp1_lr3e-5/sample-160400.png\n"
     ]
    },
    {
     "name": "stderr",
     "output_type": "stream",
     "text": [
      "Lossy conversion from float32 to uint8. Range [-1.0, 0.9998099207878113]. Convert image to uint8 prior to saving to suppress this warning.\n"
     ]
    },
    {
     "name": "stdout",
     "output_type": "stream",
     "text": [
      "Iteration [160600/300000] | D_real_loss: -0.0856 | D_fake_loss: -0.2138 | G_loss: 0.0025 | D_loss: -0.1283 | Wasserstein_Distance: 0.1283\n",
      "Saved ./results/samples_gan_gp1_lr3e-5/sample-160600.png\n",
      "EPOCH: 413\n"
     ]
    },
    {
     "name": "stderr",
     "output_type": "stream",
     "text": [
      "Lossy conversion from float32 to uint8. Range [-1.0, 0.9998319149017334]. Convert image to uint8 prior to saving to suppress this warning.\n"
     ]
    },
    {
     "name": "stdout",
     "output_type": "stream",
     "text": [
      "Iteration [160800/300000] | D_real_loss: 0.1673 | D_fake_loss: -0.0209 | G_loss: 0.1863 | D_loss: -0.1882 | Wasserstein_Distance: 0.1882\n",
      "Saved ./results/samples_gan_gp1_lr3e-5/sample-160800.png\n"
     ]
    },
    {
     "name": "stderr",
     "output_type": "stream",
     "text": [
      "Lossy conversion from float32 to uint8. Range [-1.0, 0.9998453855514526]. Convert image to uint8 prior to saving to suppress this warning.\n"
     ]
    },
    {
     "name": "stdout",
     "output_type": "stream",
     "text": [
      "Iteration [161000/300000] | D_real_loss: 0.0268 | D_fake_loss: -0.1771 | G_loss: 0.0727 | D_loss: -0.2039 | Wasserstein_Distance: 0.2039\n",
      "Saved ./results/samples_gan_gp1_lr3e-5/sample-161000.png\n",
      "EPOCH: 414\n"
     ]
    },
    {
     "name": "stderr",
     "output_type": "stream",
     "text": [
      "Lossy conversion from float32 to uint8. Range [-1.0, 0.9997730851173401]. Convert image to uint8 prior to saving to suppress this warning.\n"
     ]
    },
    {
     "name": "stdout",
     "output_type": "stream",
     "text": [
      "Iteration [161200/300000] | D_real_loss: 0.1515 | D_fake_loss: -0.0420 | G_loss: 0.1924 | D_loss: -0.1935 | Wasserstein_Distance: 0.1935\n",
      "Saved ./results/samples_gan_gp1_lr3e-5/sample-161200.png\n"
     ]
    },
    {
     "name": "stderr",
     "output_type": "stream",
     "text": [
      "Lossy conversion from float32 to uint8. Range [-1.0, 0.9998921751976013]. Convert image to uint8 prior to saving to suppress this warning.\n"
     ]
    },
    {
     "name": "stdout",
     "output_type": "stream",
     "text": [
      "Iteration [161400/300000] | D_real_loss: 0.1708 | D_fake_loss: -0.0241 | G_loss: 0.2065 | D_loss: -0.1949 | Wasserstein_Distance: 0.1949\n",
      "Saved ./results/samples_gan_gp1_lr3e-5/sample-161400.png\n",
      "EPOCH: 415\n"
     ]
    },
    {
     "name": "stderr",
     "output_type": "stream",
     "text": [
      "Lossy conversion from float32 to uint8. Range [-1.0, 0.999900221824646]. Convert image to uint8 prior to saving to suppress this warning.\n"
     ]
    },
    {
     "name": "stdout",
     "output_type": "stream",
     "text": [
      "Iteration [161600/300000] | D_real_loss: 0.1549 | D_fake_loss: -0.0307 | G_loss: 0.1752 | D_loss: -0.1856 | Wasserstein_Distance: 0.1856\n",
      "Saved ./results/samples_gan_gp1_lr3e-5/sample-161600.png\n"
     ]
    },
    {
     "name": "stderr",
     "output_type": "stream",
     "text": [
      "Lossy conversion from float32 to uint8. Range [-1.0, 0.9998731017112732]. Convert image to uint8 prior to saving to suppress this warning.\n"
     ]
    },
    {
     "name": "stdout",
     "output_type": "stream",
     "text": [
      "Iteration [161800/300000] | D_real_loss: 0.1524 | D_fake_loss: -0.0583 | G_loss: 0.1955 | D_loss: -0.2107 | Wasserstein_Distance: 0.2107\n",
      "Saved ./results/samples_gan_gp1_lr3e-5/sample-161800.png\n",
      "EPOCH: 416\n"
     ]
    },
    {
     "name": "stderr",
     "output_type": "stream",
     "text": [
      "Lossy conversion from float32 to uint8. Range [-1.0, 0.9998652935028076]. Convert image to uint8 prior to saving to suppress this warning.\n"
     ]
    },
    {
     "name": "stdout",
     "output_type": "stream",
     "text": [
      "Iteration [162000/300000] | D_real_loss: 0.1687 | D_fake_loss: -0.0218 | G_loss: 0.1982 | D_loss: -0.1905 | Wasserstein_Distance: 0.1905\n",
      "Saved ./results/samples_gan_gp1_lr3e-5/sample-162000.png\n"
     ]
    },
    {
     "name": "stderr",
     "output_type": "stream",
     "text": [
      "Lossy conversion from float32 to uint8. Range [-1.0, 0.9998810887336731]. Convert image to uint8 prior to saving to suppress this warning.\n"
     ]
    },
    {
     "name": "stdout",
     "output_type": "stream",
     "text": [
      "Iteration [162200/300000] | D_real_loss: 0.0125 | D_fake_loss: -0.1811 | G_loss: 0.0214 | D_loss: -0.1935 | Wasserstein_Distance: 0.1935\n",
      "Saved ./results/samples_gan_gp1_lr3e-5/sample-162200.png\n",
      "EPOCH: 417\n"
     ]
    },
    {
     "name": "stderr",
     "output_type": "stream",
     "text": [
      "Lossy conversion from float32 to uint8. Range [-1.0, 0.9999029040336609]. Convert image to uint8 prior to saving to suppress this warning.\n"
     ]
    },
    {
     "name": "stdout",
     "output_type": "stream",
     "text": [
      "Iteration [162400/300000] | D_real_loss: 0.0461 | D_fake_loss: -0.1509 | G_loss: 0.1090 | D_loss: -0.1970 | Wasserstein_Distance: 0.1970\n",
      "Saved ./results/samples_gan_gp1_lr3e-5/sample-162400.png\n"
     ]
    },
    {
     "name": "stderr",
     "output_type": "stream",
     "text": [
      "Lossy conversion from float32 to uint8. Range [-1.0, 0.9999146461486816]. Convert image to uint8 prior to saving to suppress this warning.\n"
     ]
    },
    {
     "name": "stdout",
     "output_type": "stream",
     "text": [
      "Iteration [162600/300000] | D_real_loss: 0.0383 | D_fake_loss: -0.1621 | G_loss: 0.0132 | D_loss: -0.2005 | Wasserstein_Distance: 0.2005\n",
      "Saved ./results/samples_gan_gp1_lr3e-5/sample-162600.png\n",
      "EPOCH: 418\n"
     ]
    },
    {
     "name": "stderr",
     "output_type": "stream",
     "text": [
      "Lossy conversion from float32 to uint8. Range [-1.0, 0.9998354315757751]. Convert image to uint8 prior to saving to suppress this warning.\n"
     ]
    },
    {
     "name": "stdout",
     "output_type": "stream",
     "text": [
      "Iteration [162800/300000] | D_real_loss: -0.0027 | D_fake_loss: -0.1784 | G_loss: 0.0258 | D_loss: -0.1758 | Wasserstein_Distance: 0.1758\n",
      "Saved ./results/samples_gan_gp1_lr3e-5/sample-162800.png\n"
     ]
    },
    {
     "name": "stderr",
     "output_type": "stream",
     "text": [
      "Lossy conversion from float32 to uint8. Range [-1.0, 0.9999211430549622]. Convert image to uint8 prior to saving to suppress this warning.\n"
     ]
    },
    {
     "name": "stdout",
     "output_type": "stream",
     "text": [
      "Iteration [163000/300000] | D_real_loss: -0.0112 | D_fake_loss: -0.1850 | G_loss: 0.0041 | D_loss: -0.1738 | Wasserstein_Distance: 0.1738\n",
      "Saved ./results/samples_gan_gp1_lr3e-5/sample-163000.png\n",
      "EPOCH: 419\n"
     ]
    },
    {
     "name": "stderr",
     "output_type": "stream",
     "text": [
      "Lossy conversion from float32 to uint8. Range [-1.0, 0.9998827576637268]. Convert image to uint8 prior to saving to suppress this warning.\n"
     ]
    },
    {
     "name": "stdout",
     "output_type": "stream",
     "text": [
      "Iteration [163200/300000] | D_real_loss: 0.1828 | D_fake_loss: -0.0152 | G_loss: 0.1685 | D_loss: -0.1980 | Wasserstein_Distance: 0.1980\n",
      "Saved ./results/samples_gan_gp1_lr3e-5/sample-163200.png\n"
     ]
    },
    {
     "name": "stderr",
     "output_type": "stream",
     "text": [
      "Lossy conversion from float32 to uint8. Range [-1.0, 0.9998554587364197]. Convert image to uint8 prior to saving to suppress this warning.\n"
     ]
    },
    {
     "name": "stdout",
     "output_type": "stream",
     "text": [
      "Iteration [163400/300000] | D_real_loss: -0.0245 | D_fake_loss: -0.1974 | G_loss: 0.0079 | D_loss: -0.1729 | Wasserstein_Distance: 0.1729\n",
      "Saved ./results/samples_gan_gp1_lr3e-5/sample-163400.png\n",
      "EPOCH: 420\n"
     ]
    },
    {
     "name": "stderr",
     "output_type": "stream",
     "text": [
      "Lossy conversion from float32 to uint8. Range [-1.0, 0.9998892545700073]. Convert image to uint8 prior to saving to suppress this warning.\n"
     ]
    },
    {
     "name": "stdout",
     "output_type": "stream",
     "text": [
      "Iteration [163600/300000] | D_real_loss: 0.1502 | D_fake_loss: -0.0280 | G_loss: 0.1874 | D_loss: -0.1781 | Wasserstein_Distance: 0.1781\n",
      "Saved ./results/samples_gan_gp1_lr3e-5/sample-163600.png\n"
     ]
    },
    {
     "name": "stderr",
     "output_type": "stream",
     "text": [
      "Lossy conversion from float32 to uint8. Range [-1.0, 0.9998865723609924]. Convert image to uint8 prior to saving to suppress this warning.\n"
     ]
    },
    {
     "name": "stdout",
     "output_type": "stream",
     "text": [
      "Iteration [163800/300000] | D_real_loss: 0.0305 | D_fake_loss: -0.1388 | G_loss: 0.0542 | D_loss: -0.1693 | Wasserstein_Distance: 0.1693\n",
      "Saved ./results/samples_gan_gp1_lr3e-5/sample-163800.png\n",
      "EPOCH: 421\n"
     ]
    },
    {
     "name": "stderr",
     "output_type": "stream",
     "text": [
      "Lossy conversion from float32 to uint8. Range [-1.0, 0.9998857378959656]. Convert image to uint8 prior to saving to suppress this warning.\n"
     ]
    },
    {
     "name": "stdout",
     "output_type": "stream",
     "text": [
      "Iteration [164000/300000] | D_real_loss: 0.1135 | D_fake_loss: -0.0974 | G_loss: 0.1605 | D_loss: -0.2109 | Wasserstein_Distance: 0.2109\n",
      "Saved ./results/samples_gan_gp1_lr3e-5/sample-164000.png\n",
      "EPOCH: 422\n"
     ]
    },
    {
     "name": "stderr",
     "output_type": "stream",
     "text": [
      "Lossy conversion from float32 to uint8. Range [-1.0, 0.9998980164527893]. Convert image to uint8 prior to saving to suppress this warning.\n"
     ]
    },
    {
     "name": "stdout",
     "output_type": "stream",
     "text": [
      "Iteration [164200/300000] | D_real_loss: 0.0814 | D_fake_loss: -0.1474 | G_loss: 0.0677 | D_loss: -0.2287 | Wasserstein_Distance: 0.2287\n",
      "Saved ./results/samples_gan_gp1_lr3e-5/sample-164200.png\n"
     ]
    },
    {
     "name": "stderr",
     "output_type": "stream",
     "text": [
      "Lossy conversion from float32 to uint8. Range [-1.0, 0.9998912215232849]. Convert image to uint8 prior to saving to suppress this warning.\n"
     ]
    },
    {
     "name": "stdout",
     "output_type": "stream",
     "text": [
      "Iteration [164400/300000] | D_real_loss: 0.1923 | D_fake_loss: 0.0162 | G_loss: 0.1987 | D_loss: -0.1761 | Wasserstein_Distance: 0.1761\n",
      "Saved ./results/samples_gan_gp1_lr3e-5/sample-164400.png\n",
      "EPOCH: 423\n"
     ]
    },
    {
     "name": "stderr",
     "output_type": "stream",
     "text": [
      "Lossy conversion from float32 to uint8. Range [-1.0, 0.9998781085014343]. Convert image to uint8 prior to saving to suppress this warning.\n"
     ]
    },
    {
     "name": "stdout",
     "output_type": "stream",
     "text": [
      "Iteration [164600/300000] | D_real_loss: 0.0248 | D_fake_loss: -0.1694 | G_loss: 0.0316 | D_loss: -0.1942 | Wasserstein_Distance: 0.1942\n",
      "Saved ./results/samples_gan_gp1_lr3e-5/sample-164600.png\n"
     ]
    },
    {
     "name": "stderr",
     "output_type": "stream",
     "text": [
      "Lossy conversion from float32 to uint8. Range [-1.0, 0.9998747110366821]. Convert image to uint8 prior to saving to suppress this warning.\n"
     ]
    },
    {
     "name": "stdout",
     "output_type": "stream",
     "text": [
      "Iteration [164800/300000] | D_real_loss: 0.1720 | D_fake_loss: -0.0435 | G_loss: 0.2067 | D_loss: -0.2155 | Wasserstein_Distance: 0.2155\n",
      "Saved ./results/samples_gan_gp1_lr3e-5/sample-164800.png\n",
      "EPOCH: 424\n"
     ]
    },
    {
     "name": "stderr",
     "output_type": "stream",
     "text": [
      "Lossy conversion from float32 to uint8. Range [-1.0, 0.9998670816421509]. Convert image to uint8 prior to saving to suppress this warning.\n"
     ]
    },
    {
     "name": "stdout",
     "output_type": "stream",
     "text": [
      "Iteration [165000/300000] | D_real_loss: -0.0703 | D_fake_loss: -0.2273 | G_loss: 0.0171 | D_loss: -0.1570 | Wasserstein_Distance: 0.1570\n",
      "Saved ./results/samples_gan_gp1_lr3e-5/sample-165000.png\n"
     ]
    },
    {
     "name": "stderr",
     "output_type": "stream",
     "text": [
      "Lossy conversion from float32 to uint8. Range [-1.0, 0.9998624324798584]. Convert image to uint8 prior to saving to suppress this warning.\n"
     ]
    },
    {
     "name": "stdout",
     "output_type": "stream",
     "text": [
      "Iteration [165200/300000] | D_real_loss: -0.0256 | D_fake_loss: -0.1879 | G_loss: -0.0250 | D_loss: -0.1623 | Wasserstein_Distance: 0.1623\n",
      "Saved ./results/samples_gan_gp1_lr3e-5/sample-165200.png\n",
      "EPOCH: 425\n"
     ]
    },
    {
     "name": "stderr",
     "output_type": "stream",
     "text": [
      "Lossy conversion from float32 to uint8. Range [-1.0, 0.9998253583908081]. Convert image to uint8 prior to saving to suppress this warning.\n"
     ]
    },
    {
     "name": "stdout",
     "output_type": "stream",
     "text": [
      "Iteration [165400/300000] | D_real_loss: 0.0155 | D_fake_loss: -0.1783 | G_loss: 0.0252 | D_loss: -0.1938 | Wasserstein_Distance: 0.1938\n",
      "Saved ./results/samples_gan_gp1_lr3e-5/sample-165400.png\n"
     ]
    },
    {
     "name": "stderr",
     "output_type": "stream",
     "text": [
      "Lossy conversion from float32 to uint8. Range [-1.0, 0.9998937845230103]. Convert image to uint8 prior to saving to suppress this warning.\n"
     ]
    },
    {
     "name": "stdout",
     "output_type": "stream",
     "text": [
      "Iteration [165600/300000] | D_real_loss: 0.1524 | D_fake_loss: -0.0486 | G_loss: 0.2041 | D_loss: -0.2010 | Wasserstein_Distance: 0.2010\n",
      "Saved ./results/samples_gan_gp1_lr3e-5/sample-165600.png\n",
      "EPOCH: 426\n"
     ]
    },
    {
     "name": "stderr",
     "output_type": "stream",
     "text": [
      "Lossy conversion from float32 to uint8. Range [-1.0, 0.9998363256454468]. Convert image to uint8 prior to saving to suppress this warning.\n"
     ]
    },
    {
     "name": "stdout",
     "output_type": "stream",
     "text": [
      "Iteration [165800/300000] | D_real_loss: 0.1525 | D_fake_loss: -0.0171 | G_loss: 0.1716 | D_loss: -0.1696 | Wasserstein_Distance: 0.1696\n",
      "Saved ./results/samples_gan_gp1_lr3e-5/sample-165800.png\n"
     ]
    },
    {
     "name": "stderr",
     "output_type": "stream",
     "text": [
      "Lossy conversion from float32 to uint8. Range [-1.0, 0.9998844861984253]. Convert image to uint8 prior to saving to suppress this warning.\n"
     ]
    },
    {
     "name": "stdout",
     "output_type": "stream",
     "text": [
      "Iteration [166000/300000] | D_real_loss: 0.1475 | D_fake_loss: -0.0765 | G_loss: 0.1696 | D_loss: -0.2240 | Wasserstein_Distance: 0.2240\n",
      "Saved ./results/samples_gan_gp1_lr3e-5/sample-166000.png\n",
      "EPOCH: 427\n"
     ]
    },
    {
     "name": "stderr",
     "output_type": "stream",
     "text": [
      "Lossy conversion from float32 to uint8. Range [-1.0, 0.9998340606689453]. Convert image to uint8 prior to saving to suppress this warning.\n"
     ]
    },
    {
     "name": "stdout",
     "output_type": "stream",
     "text": [
      "Iteration [166200/300000] | D_real_loss: -0.0895 | D_fake_loss: -0.2307 | G_loss: -0.0089 | D_loss: -0.1412 | Wasserstein_Distance: 0.1412\n",
      "Saved ./results/samples_gan_gp1_lr3e-5/sample-166200.png\n"
     ]
    },
    {
     "name": "stderr",
     "output_type": "stream",
     "text": [
      "Lossy conversion from float32 to uint8. Range [-1.0, 0.9997957348823547]. Convert image to uint8 prior to saving to suppress this warning.\n"
     ]
    },
    {
     "name": "stdout",
     "output_type": "stream",
     "text": [
      "Iteration [166400/300000] | D_real_loss: 0.1752 | D_fake_loss: 0.0081 | G_loss: 0.1841 | D_loss: -0.1671 | Wasserstein_Distance: 0.1671\n",
      "Saved ./results/samples_gan_gp1_lr3e-5/sample-166400.png\n",
      "EPOCH: 428\n"
     ]
    },
    {
     "name": "stderr",
     "output_type": "stream",
     "text": [
      "Lossy conversion from float32 to uint8. Range [-1.0, 0.9998030662536621]. Convert image to uint8 prior to saving to suppress this warning.\n"
     ]
    },
    {
     "name": "stdout",
     "output_type": "stream",
     "text": [
      "Iteration [166600/300000] | D_real_loss: 0.0016 | D_fake_loss: -0.1692 | G_loss: -0.0184 | D_loss: -0.1708 | Wasserstein_Distance: 0.1708\n",
      "Saved ./results/samples_gan_gp1_lr3e-5/sample-166600.png\n"
     ]
    },
    {
     "name": "stderr",
     "output_type": "stream",
     "text": [
      "Lossy conversion from float32 to uint8. Range [-1.0, 0.9997591972351074]. Convert image to uint8 prior to saving to suppress this warning.\n"
     ]
    },
    {
     "name": "stdout",
     "output_type": "stream",
     "text": [
      "Iteration [166800/300000] | D_real_loss: 0.1664 | D_fake_loss: -0.0317 | G_loss: 0.1948 | D_loss: -0.1981 | Wasserstein_Distance: 0.1981\n",
      "Saved ./results/samples_gan_gp1_lr3e-5/sample-166800.png\n",
      "EPOCH: 429\n"
     ]
    },
    {
     "name": "stderr",
     "output_type": "stream",
     "text": [
      "Lossy conversion from float32 to uint8. Range [-1.0, 0.999859631061554]. Convert image to uint8 prior to saving to suppress this warning.\n"
     ]
    },
    {
     "name": "stdout",
     "output_type": "stream",
     "text": [
      "Iteration [167000/300000] | D_real_loss: 0.0053 | D_fake_loss: -0.1577 | G_loss: 0.0257 | D_loss: -0.1631 | Wasserstein_Distance: 0.1631\n",
      "Saved ./results/samples_gan_gp1_lr3e-5/sample-167000.png\n"
     ]
    },
    {
     "name": "stderr",
     "output_type": "stream",
     "text": [
      "Lossy conversion from float32 to uint8. Range [-1.0, 0.9997647404670715]. Convert image to uint8 prior to saving to suppress this warning.\n"
     ]
    },
    {
     "name": "stdout",
     "output_type": "stream",
     "text": [
      "Iteration [167200/300000] | D_real_loss: 0.1331 | D_fake_loss: -0.0676 | G_loss: 0.1607 | D_loss: -0.2008 | Wasserstein_Distance: 0.2008\n",
      "Saved ./results/samples_gan_gp1_lr3e-5/sample-167200.png\n",
      "EPOCH: 430\n"
     ]
    },
    {
     "name": "stderr",
     "output_type": "stream",
     "text": [
      "Lossy conversion from float32 to uint8. Range [-1.0, 0.999851405620575]. Convert image to uint8 prior to saving to suppress this warning.\n"
     ]
    },
    {
     "name": "stdout",
     "output_type": "stream",
     "text": [
      "Iteration [167400/300000] | D_real_loss: 0.1659 | D_fake_loss: -0.0261 | G_loss: 0.1623 | D_loss: -0.1919 | Wasserstein_Distance: 0.1919\n",
      "Saved ./results/samples_gan_gp1_lr3e-5/sample-167400.png\n"
     ]
    },
    {
     "name": "stderr",
     "output_type": "stream",
     "text": [
      "Lossy conversion from float32 to uint8. Range [-1.0, 0.9998320937156677]. Convert image to uint8 prior to saving to suppress this warning.\n"
     ]
    },
    {
     "name": "stdout",
     "output_type": "stream",
     "text": [
      "Iteration [167600/300000] | D_real_loss: -0.0398 | D_fake_loss: -0.2104 | G_loss: 0.0583 | D_loss: -0.1706 | Wasserstein_Distance: 0.1706\n",
      "Saved ./results/samples_gan_gp1_lr3e-5/sample-167600.png\n",
      "EPOCH: 431\n"
     ]
    },
    {
     "name": "stderr",
     "output_type": "stream",
     "text": [
      "Lossy conversion from float32 to uint8. Range [-1.0, 0.9997999668121338]. Convert image to uint8 prior to saving to suppress this warning.\n"
     ]
    },
    {
     "name": "stdout",
     "output_type": "stream",
     "text": [
      "Iteration [167800/300000] | D_real_loss: -0.0078 | D_fake_loss: -0.1923 | G_loss: -0.0168 | D_loss: -0.1845 | Wasserstein_Distance: 0.1845\n",
      "Saved ./results/samples_gan_gp1_lr3e-5/sample-167800.png\n"
     ]
    },
    {
     "name": "stderr",
     "output_type": "stream",
     "text": [
      "Lossy conversion from float32 to uint8. Range [-1.0, 0.9998716115951538]. Convert image to uint8 prior to saving to suppress this warning.\n"
     ]
    },
    {
     "name": "stdout",
     "output_type": "stream",
     "text": [
      "Iteration [168000/300000] | D_real_loss: 0.0286 | D_fake_loss: -0.1687 | G_loss: 0.0395 | D_loss: -0.1973 | Wasserstein_Distance: 0.1973\n",
      "Saved ./results/samples_gan_gp1_lr3e-5/sample-168000.png\n",
      "EPOCH: 432\n"
     ]
    },
    {
     "name": "stderr",
     "output_type": "stream",
     "text": [
      "Lossy conversion from float32 to uint8. Range [-1.0, 0.9998089671134949]. Convert image to uint8 prior to saving to suppress this warning.\n"
     ]
    },
    {
     "name": "stdout",
     "output_type": "stream",
     "text": [
      "Iteration [168200/300000] | D_real_loss: 0.1577 | D_fake_loss: -0.0265 | G_loss: 0.2003 | D_loss: -0.1842 | Wasserstein_Distance: 0.1842\n",
      "Saved ./results/samples_gan_gp1_lr3e-5/sample-168200.png\n"
     ]
    },
    {
     "name": "stderr",
     "output_type": "stream",
     "text": [
      "Lossy conversion from float32 to uint8. Range [-1.0, 0.9998493194580078]. Convert image to uint8 prior to saving to suppress this warning.\n"
     ]
    },
    {
     "name": "stdout",
     "output_type": "stream",
     "text": [
      "Iteration [168400/300000] | D_real_loss: 0.0289 | D_fake_loss: -0.1611 | G_loss: 0.0656 | D_loss: -0.1900 | Wasserstein_Distance: 0.1900\n",
      "Saved ./results/samples_gan_gp1_lr3e-5/sample-168400.png\n",
      "EPOCH: 433\n"
     ]
    },
    {
     "name": "stderr",
     "output_type": "stream",
     "text": [
      "Lossy conversion from float32 to uint8. Range [-1.0, 0.9998146891593933]. Convert image to uint8 prior to saving to suppress this warning.\n"
     ]
    },
    {
     "name": "stdout",
     "output_type": "stream",
     "text": [
      "Iteration [168600/300000] | D_real_loss: 0.1649 | D_fake_loss: -0.0401 | G_loss: 0.1964 | D_loss: -0.2051 | Wasserstein_Distance: 0.2051\n",
      "Saved ./results/samples_gan_gp1_lr3e-5/sample-168600.png\n"
     ]
    },
    {
     "name": "stderr",
     "output_type": "stream",
     "text": [
      "Lossy conversion from float32 to uint8. Range [-1.0, 0.9998199939727783]. Convert image to uint8 prior to saving to suppress this warning.\n"
     ]
    },
    {
     "name": "stdout",
     "output_type": "stream",
     "text": [
      "Iteration [168800/300000] | D_real_loss: -0.0055 | D_fake_loss: -0.1939 | G_loss: 0.0227 | D_loss: -0.1884 | Wasserstein_Distance: 0.1884\n",
      "Saved ./results/samples_gan_gp1_lr3e-5/sample-168800.png\n",
      "EPOCH: 434\n"
     ]
    },
    {
     "name": "stderr",
     "output_type": "stream",
     "text": [
      "Lossy conversion from float32 to uint8. Range [-1.0, 0.9998230338096619]. Convert image to uint8 prior to saving to suppress this warning.\n"
     ]
    },
    {
     "name": "stdout",
     "output_type": "stream",
     "text": [
      "Iteration [169000/300000] | D_real_loss: 0.1025 | D_fake_loss: -0.1229 | G_loss: 0.1233 | D_loss: -0.2254 | Wasserstein_Distance: 0.2254\n",
      "Saved ./results/samples_gan_gp1_lr3e-5/sample-169000.png\n"
     ]
    },
    {
     "name": "stderr",
     "output_type": "stream",
     "text": [
      "Lossy conversion from float32 to uint8. Range [-1.0, 0.9998648166656494]. Convert image to uint8 prior to saving to suppress this warning.\n"
     ]
    },
    {
     "name": "stdout",
     "output_type": "stream",
     "text": [
      "Iteration [169200/300000] | D_real_loss: 0.1721 | D_fake_loss: -0.0164 | G_loss: 0.2222 | D_loss: -0.1885 | Wasserstein_Distance: 0.1885\n",
      "Saved ./results/samples_gan_gp1_lr3e-5/sample-169200.png\n",
      "EPOCH: 435\n"
     ]
    },
    {
     "name": "stderr",
     "output_type": "stream",
     "text": [
      "Lossy conversion from float32 to uint8. Range [-1.0, 0.9998569488525391]. Convert image to uint8 prior to saving to suppress this warning.\n"
     ]
    },
    {
     "name": "stdout",
     "output_type": "stream",
     "text": [
      "Iteration [169400/300000] | D_real_loss: 0.1637 | D_fake_loss: -0.0128 | G_loss: 0.1825 | D_loss: -0.1765 | Wasserstein_Distance: 0.1765\n",
      "Saved ./results/samples_gan_gp1_lr3e-5/sample-169400.png\n"
     ]
    },
    {
     "name": "stderr",
     "output_type": "stream",
     "text": [
      "Lossy conversion from float32 to uint8. Range [-1.0, 0.999809741973877]. Convert image to uint8 prior to saving to suppress this warning.\n"
     ]
    },
    {
     "name": "stdout",
     "output_type": "stream",
     "text": [
      "Iteration [169600/300000] | D_real_loss: 0.0166 | D_fake_loss: -0.1637 | G_loss: 0.0610 | D_loss: -0.1803 | Wasserstein_Distance: 0.1803\n",
      "Saved ./results/samples_gan_gp1_lr3e-5/sample-169600.png\n",
      "EPOCH: 436\n"
     ]
    },
    {
     "name": "stderr",
     "output_type": "stream",
     "text": [
      "Lossy conversion from float32 to uint8. Range [-1.0, 0.9998564720153809]. Convert image to uint8 prior to saving to suppress this warning.\n"
     ]
    },
    {
     "name": "stdout",
     "output_type": "stream",
     "text": [
      "Iteration [169800/300000] | D_real_loss: -0.0389 | D_fake_loss: -0.1952 | G_loss: 0.0122 | D_loss: -0.1563 | Wasserstein_Distance: 0.1563\n",
      "Saved ./results/samples_gan_gp1_lr3e-5/sample-169800.png\n"
     ]
    },
    {
     "name": "stderr",
     "output_type": "stream",
     "text": [
      "Lossy conversion from float32 to uint8. Range [-1.0, 0.9998152256011963]. Convert image to uint8 prior to saving to suppress this warning.\n"
     ]
    },
    {
     "name": "stdout",
     "output_type": "stream",
     "text": [
      "Iteration [170000/300000] | D_real_loss: -0.0033 | D_fake_loss: -0.1863 | G_loss: -0.0009 | D_loss: -0.1831 | Wasserstein_Distance: 0.1831\n",
      "Saved ./results/samples_gan_gp1_lr3e-5/sample-170000.png\n",
      "EPOCH: 437\n"
     ]
    },
    {
     "name": "stderr",
     "output_type": "stream",
     "text": [
      "Lossy conversion from float32 to uint8. Range [-1.0, 0.9998359084129333]. Convert image to uint8 prior to saving to suppress this warning.\n"
     ]
    },
    {
     "name": "stdout",
     "output_type": "stream",
     "text": [
      "Iteration [170200/300000] | D_real_loss: 0.1543 | D_fake_loss: -0.0289 | G_loss: 0.1827 | D_loss: -0.1831 | Wasserstein_Distance: 0.1831\n",
      "Saved ./results/samples_gan_gp1_lr3e-5/sample-170200.png\n"
     ]
    },
    {
     "name": "stderr",
     "output_type": "stream",
     "text": [
      "Lossy conversion from float32 to uint8. Range [-1.0, 0.9998446702957153]. Convert image to uint8 prior to saving to suppress this warning.\n"
     ]
    },
    {
     "name": "stdout",
     "output_type": "stream",
     "text": [
      "Iteration [170400/300000] | D_real_loss: -0.0466 | D_fake_loss: -0.2014 | G_loss: 0.0222 | D_loss: -0.1548 | Wasserstein_Distance: 0.1548\n",
      "Saved ./results/samples_gan_gp1_lr3e-5/sample-170400.png\n",
      "EPOCH: 438\n"
     ]
    },
    {
     "name": "stderr",
     "output_type": "stream",
     "text": [
      "Lossy conversion from float32 to uint8. Range [-1.0, 0.9998416304588318]. Convert image to uint8 prior to saving to suppress this warning.\n"
     ]
    },
    {
     "name": "stdout",
     "output_type": "stream",
     "text": [
      "Iteration [170600/300000] | D_real_loss: 0.1874 | D_fake_loss: -0.0034 | G_loss: 0.1926 | D_loss: -0.1909 | Wasserstein_Distance: 0.1909\n",
      "Saved ./results/samples_gan_gp1_lr3e-5/sample-170600.png\n"
     ]
    },
    {
     "name": "stderr",
     "output_type": "stream",
     "text": [
      "Lossy conversion from float32 to uint8. Range [-1.0, 0.9998685121536255]. Convert image to uint8 prior to saving to suppress this warning.\n"
     ]
    },
    {
     "name": "stdout",
     "output_type": "stream",
     "text": [
      "Iteration [170800/300000] | D_real_loss: 0.1580 | D_fake_loss: -0.0131 | G_loss: 0.1585 | D_loss: -0.1711 | Wasserstein_Distance: 0.1711\n",
      "Saved ./results/samples_gan_gp1_lr3e-5/sample-170800.png\n",
      "EPOCH: 439\n"
     ]
    },
    {
     "name": "stderr",
     "output_type": "stream",
     "text": [
      "Lossy conversion from float32 to uint8. Range [-1.0, 0.9998607635498047]. Convert image to uint8 prior to saving to suppress this warning.\n"
     ]
    },
    {
     "name": "stdout",
     "output_type": "stream",
     "text": [
      "Iteration [171000/300000] | D_real_loss: 0.1624 | D_fake_loss: -0.0013 | G_loss: 0.1611 | D_loss: -0.1637 | Wasserstein_Distance: 0.1637\n",
      "Saved ./results/samples_gan_gp1_lr3e-5/sample-171000.png\n"
     ]
    },
    {
     "name": "stderr",
     "output_type": "stream",
     "text": [
      "Lossy conversion from float32 to uint8. Range [-1.0, 0.9998524785041809]. Convert image to uint8 prior to saving to suppress this warning.\n"
     ]
    },
    {
     "name": "stdout",
     "output_type": "stream",
     "text": [
      "Iteration [171200/300000] | D_real_loss: 0.1896 | D_fake_loss: 0.0022 | G_loss: 0.1880 | D_loss: -0.1873 | Wasserstein_Distance: 0.1873\n",
      "Saved ./results/samples_gan_gp1_lr3e-5/sample-171200.png\n",
      "EPOCH: 440\n"
     ]
    },
    {
     "name": "stderr",
     "output_type": "stream",
     "text": [
      "Lossy conversion from float32 to uint8. Range [-1.0, 0.999839186668396]. Convert image to uint8 prior to saving to suppress this warning.\n"
     ]
    },
    {
     "name": "stdout",
     "output_type": "stream",
     "text": [
      "Iteration [171400/300000] | D_real_loss: 0.1720 | D_fake_loss: -0.0215 | G_loss: 0.1986 | D_loss: -0.1935 | Wasserstein_Distance: 0.1935\n",
      "Saved ./results/samples_gan_gp1_lr3e-5/sample-171400.png\n"
     ]
    },
    {
     "name": "stderr",
     "output_type": "stream",
     "text": [
      "Lossy conversion from float32 to uint8. Range [-1.0, 0.9997721910476685]. Convert image to uint8 prior to saving to suppress this warning.\n"
     ]
    },
    {
     "name": "stdout",
     "output_type": "stream",
     "text": [
      "Iteration [171600/300000] | D_real_loss: 0.1864 | D_fake_loss: 0.0023 | G_loss: 0.2154 | D_loss: -0.1841 | Wasserstein_Distance: 0.1841\n",
      "Saved ./results/samples_gan_gp1_lr3e-5/sample-171600.png\n",
      "EPOCH: 441\n"
     ]
    },
    {
     "name": "stderr",
     "output_type": "stream",
     "text": [
      "Lossy conversion from float32 to uint8. Range [-1.0, 0.9998642802238464]. Convert image to uint8 prior to saving to suppress this warning.\n"
     ]
    },
    {
     "name": "stdout",
     "output_type": "stream",
     "text": [
      "Iteration [171800/300000] | D_real_loss: 0.0393 | D_fake_loss: -0.1589 | G_loss: 0.0564 | D_loss: -0.1981 | Wasserstein_Distance: 0.1981\n",
      "Saved ./results/samples_gan_gp1_lr3e-5/sample-171800.png\n",
      "EPOCH: 442\n"
     ]
    },
    {
     "name": "stderr",
     "output_type": "stream",
     "text": [
      "Lossy conversion from float32 to uint8. Range [-1.0, 0.9998897910118103]. Convert image to uint8 prior to saving to suppress this warning.\n"
     ]
    },
    {
     "name": "stdout",
     "output_type": "stream",
     "text": [
      "Iteration [172000/300000] | D_real_loss: 0.1770 | D_fake_loss: 0.0030 | G_loss: 0.1983 | D_loss: -0.1739 | Wasserstein_Distance: 0.1739\n",
      "Saved ./results/samples_gan_gp1_lr3e-5/sample-172000.png\n"
     ]
    },
    {
     "name": "stderr",
     "output_type": "stream",
     "text": [
      "Lossy conversion from float32 to uint8. Range [-1.0, 0.9998416900634766]. Convert image to uint8 prior to saving to suppress this warning.\n"
     ]
    },
    {
     "name": "stdout",
     "output_type": "stream",
     "text": [
      "Iteration [172200/300000] | D_real_loss: 0.1623 | D_fake_loss: -0.0243 | G_loss: 0.1912 | D_loss: -0.1866 | Wasserstein_Distance: 0.1866\n",
      "Saved ./results/samples_gan_gp1_lr3e-5/sample-172200.png\n",
      "EPOCH: 443\n"
     ]
    },
    {
     "name": "stderr",
     "output_type": "stream",
     "text": [
      "Lossy conversion from float32 to uint8. Range [-1.0, 0.9998002648353577]. Convert image to uint8 prior to saving to suppress this warning.\n"
     ]
    },
    {
     "name": "stdout",
     "output_type": "stream",
     "text": [
      "Iteration [172400/300000] | D_real_loss: 0.1395 | D_fake_loss: -0.0666 | G_loss: 0.2070 | D_loss: -0.2061 | Wasserstein_Distance: 0.2061\n",
      "Saved ./results/samples_gan_gp1_lr3e-5/sample-172400.png\n"
     ]
    },
    {
     "name": "stderr",
     "output_type": "stream",
     "text": [
      "Lossy conversion from float32 to uint8. Range [-1.0, 0.9997899532318115]. Convert image to uint8 prior to saving to suppress this warning.\n"
     ]
    },
    {
     "name": "stdout",
     "output_type": "stream",
     "text": [
      "Iteration [172600/300000] | D_real_loss: 0.1464 | D_fake_loss: -0.0235 | G_loss: 0.1771 | D_loss: -0.1699 | Wasserstein_Distance: 0.1699\n",
      "Saved ./results/samples_gan_gp1_lr3e-5/sample-172600.png\n",
      "EPOCH: 444\n"
     ]
    },
    {
     "name": "stderr",
     "output_type": "stream",
     "text": [
      "Lossy conversion from float32 to uint8. Range [-1.0, 0.9997876286506653]. Convert image to uint8 prior to saving to suppress this warning.\n"
     ]
    },
    {
     "name": "stdout",
     "output_type": "stream",
     "text": [
      "Iteration [172800/300000] | D_real_loss: -0.0345 | D_fake_loss: -0.1963 | G_loss: 0.0129 | D_loss: -0.1618 | Wasserstein_Distance: 0.1618\n",
      "Saved ./results/samples_gan_gp1_lr3e-5/sample-172800.png\n"
     ]
    },
    {
     "name": "stderr",
     "output_type": "stream",
     "text": [
      "Lossy conversion from float32 to uint8. Range [-1.0, 0.9998423457145691]. Convert image to uint8 prior to saving to suppress this warning.\n"
     ]
    },
    {
     "name": "stdout",
     "output_type": "stream",
     "text": [
      "Iteration [173000/300000] | D_real_loss: 0.1661 | D_fake_loss: -0.0117 | G_loss: 0.1961 | D_loss: -0.1778 | Wasserstein_Distance: 0.1778\n",
      "Saved ./results/samples_gan_gp1_lr3e-5/sample-173000.png\n",
      "EPOCH: 445\n"
     ]
    },
    {
     "name": "stderr",
     "output_type": "stream",
     "text": [
      "Lossy conversion from float32 to uint8. Range [-1.0, 0.9998102188110352]. Convert image to uint8 prior to saving to suppress this warning.\n"
     ]
    },
    {
     "name": "stdout",
     "output_type": "stream",
     "text": [
      "Iteration [173200/300000] | D_real_loss: 0.1499 | D_fake_loss: -0.0423 | G_loss: 0.2019 | D_loss: -0.1922 | Wasserstein_Distance: 0.1922\n",
      "Saved ./results/samples_gan_gp1_lr3e-5/sample-173200.png\n"
     ]
    },
    {
     "name": "stderr",
     "output_type": "stream",
     "text": [
      "Lossy conversion from float32 to uint8. Range [-1.0, 0.9998388290405273]. Convert image to uint8 prior to saving to suppress this warning.\n"
     ]
    },
    {
     "name": "stdout",
     "output_type": "stream",
     "text": [
      "Iteration [173400/300000] | D_real_loss: 0.1801 | D_fake_loss: 0.0152 | G_loss: 0.1975 | D_loss: -0.1649 | Wasserstein_Distance: 0.1649\n",
      "Saved ./results/samples_gan_gp1_lr3e-5/sample-173400.png\n",
      "EPOCH: 446\n"
     ]
    },
    {
     "name": "stderr",
     "output_type": "stream",
     "text": [
      "Lossy conversion from float32 to uint8. Range [-1.0, 0.9997304081916809]. Convert image to uint8 prior to saving to suppress this warning.\n"
     ]
    },
    {
     "name": "stdout",
     "output_type": "stream",
     "text": [
      "Iteration [173600/300000] | D_real_loss: -0.0143 | D_fake_loss: -0.1952 | G_loss: 0.0263 | D_loss: -0.1810 | Wasserstein_Distance: 0.1810\n",
      "Saved ./results/samples_gan_gp1_lr3e-5/sample-173600.png\n"
     ]
    },
    {
     "name": "stderr",
     "output_type": "stream",
     "text": [
      "Lossy conversion from float32 to uint8. Range [-1.0, 0.9997518062591553]. Convert image to uint8 prior to saving to suppress this warning.\n"
     ]
    },
    {
     "name": "stdout",
     "output_type": "stream",
     "text": [
      "Iteration [173800/300000] | D_real_loss: 0.1506 | D_fake_loss: -0.0265 | G_loss: 0.2007 | D_loss: -0.1770 | Wasserstein_Distance: 0.1770\n",
      "Saved ./results/samples_gan_gp1_lr3e-5/sample-173800.png\n",
      "EPOCH: 447\n"
     ]
    },
    {
     "name": "stderr",
     "output_type": "stream",
     "text": [
      "Lossy conversion from float32 to uint8. Range [-1.0, 0.999811589717865]. Convert image to uint8 prior to saving to suppress this warning.\n"
     ]
    },
    {
     "name": "stdout",
     "output_type": "stream",
     "text": [
      "Iteration [174000/300000] | D_real_loss: 0.1651 | D_fake_loss: -0.0082 | G_loss: 0.2174 | D_loss: -0.1733 | Wasserstein_Distance: 0.1733\n",
      "Saved ./results/samples_gan_gp1_lr3e-5/sample-174000.png\n"
     ]
    },
    {
     "name": "stderr",
     "output_type": "stream",
     "text": [
      "Lossy conversion from float32 to uint8. Range [-1.0, 0.9997825026512146]. Convert image to uint8 prior to saving to suppress this warning.\n"
     ]
    },
    {
     "name": "stdout",
     "output_type": "stream",
     "text": [
      "Iteration [174200/300000] | D_real_loss: 0.0197 | D_fake_loss: -0.1739 | G_loss: 0.0205 | D_loss: -0.1936 | Wasserstein_Distance: 0.1936\n",
      "Saved ./results/samples_gan_gp1_lr3e-5/sample-174200.png\n",
      "EPOCH: 448\n"
     ]
    },
    {
     "name": "stderr",
     "output_type": "stream",
     "text": [
      "Lossy conversion from float32 to uint8. Range [-1.0, 0.9997381567955017]. Convert image to uint8 prior to saving to suppress this warning.\n"
     ]
    },
    {
     "name": "stdout",
     "output_type": "stream",
     "text": [
      "Iteration [174400/300000] | D_real_loss: -0.0398 | D_fake_loss: -0.1988 | G_loss: 0.0033 | D_loss: -0.1590 | Wasserstein_Distance: 0.1590\n",
      "Saved ./results/samples_gan_gp1_lr3e-5/sample-174400.png\n"
     ]
    },
    {
     "name": "stderr",
     "output_type": "stream",
     "text": [
      "Lossy conversion from float32 to uint8. Range [-1.0, 0.9996809959411621]. Convert image to uint8 prior to saving to suppress this warning.\n"
     ]
    },
    {
     "name": "stdout",
     "output_type": "stream",
     "text": [
      "Iteration [174600/300000] | D_real_loss: 0.1631 | D_fake_loss: -0.0273 | G_loss: 0.1773 | D_loss: -0.1905 | Wasserstein_Distance: 0.1905\n",
      "Saved ./results/samples_gan_gp1_lr3e-5/sample-174600.png\n",
      "EPOCH: 449\n"
     ]
    },
    {
     "name": "stderr",
     "output_type": "stream",
     "text": [
      "Lossy conversion from float32 to uint8. Range [-1.0, 0.9997086524963379]. Convert image to uint8 prior to saving to suppress this warning.\n"
     ]
    },
    {
     "name": "stdout",
     "output_type": "stream",
     "text": [
      "Iteration [174800/300000] | D_real_loss: 0.1723 | D_fake_loss: -0.0077 | G_loss: 0.1909 | D_loss: -0.1800 | Wasserstein_Distance: 0.1800\n",
      "Saved ./results/samples_gan_gp1_lr3e-5/sample-174800.png\n"
     ]
    },
    {
     "name": "stderr",
     "output_type": "stream",
     "text": [
      "Lossy conversion from float32 to uint8. Range [-1.0, 0.9997591972351074]. Convert image to uint8 prior to saving to suppress this warning.\n"
     ]
    },
    {
     "name": "stdout",
     "output_type": "stream",
     "text": [
      "Iteration [175000/300000] | D_real_loss: 0.0158 | D_fake_loss: -0.1632 | G_loss: 0.0396 | D_loss: -0.1790 | Wasserstein_Distance: 0.1790\n",
      "Saved ./results/samples_gan_gp1_lr3e-5/sample-175000.png\n",
      "EPOCH: 450\n"
     ]
    },
    {
     "name": "stderr",
     "output_type": "stream",
     "text": [
      "Lossy conversion from float32 to uint8. Range [-1.0, 0.9997829794883728]. Convert image to uint8 prior to saving to suppress this warning.\n"
     ]
    },
    {
     "name": "stdout",
     "output_type": "stream",
     "text": [
      "Iteration [175200/300000] | D_real_loss: 0.1577 | D_fake_loss: -0.0462 | G_loss: 0.1907 | D_loss: -0.2039 | Wasserstein_Distance: 0.2039\n",
      "Saved ./results/samples_gan_gp1_lr3e-5/sample-175200.png\n"
     ]
    },
    {
     "name": "stderr",
     "output_type": "stream",
     "text": [
      "Lossy conversion from float32 to uint8. Range [-1.0, 0.9998140931129456]. Convert image to uint8 prior to saving to suppress this warning.\n"
     ]
    },
    {
     "name": "stdout",
     "output_type": "stream",
     "text": [
      "Iteration [175400/300000] | D_real_loss: 0.0191 | D_fake_loss: -0.1669 | G_loss: 0.0382 | D_loss: -0.1860 | Wasserstein_Distance: 0.1860\n",
      "Saved ./results/samples_gan_gp1_lr3e-5/sample-175400.png\n",
      "EPOCH: 451\n"
     ]
    },
    {
     "name": "stderr",
     "output_type": "stream",
     "text": [
      "Lossy conversion from float32 to uint8. Range [-1.0, 0.9998660087585449]. Convert image to uint8 prior to saving to suppress this warning.\n"
     ]
    },
    {
     "name": "stdout",
     "output_type": "stream",
     "text": [
      "Iteration [175600/300000] | D_real_loss: -0.0005 | D_fake_loss: -0.1939 | G_loss: -0.0116 | D_loss: -0.1934 | Wasserstein_Distance: 0.1934\n",
      "Saved ./results/samples_gan_gp1_lr3e-5/sample-175600.png\n"
     ]
    },
    {
     "name": "stderr",
     "output_type": "stream",
     "text": [
      "Lossy conversion from float32 to uint8. Range [-1.0, 0.9998355507850647]. Convert image to uint8 prior to saving to suppress this warning.\n"
     ]
    },
    {
     "name": "stdout",
     "output_type": "stream",
     "text": [
      "Iteration [175800/300000] | D_real_loss: 0.0580 | D_fake_loss: -0.1315 | G_loss: 0.0623 | D_loss: -0.1894 | Wasserstein_Distance: 0.1894\n",
      "Saved ./results/samples_gan_gp1_lr3e-5/sample-175800.png\n",
      "EPOCH: 452\n"
     ]
    },
    {
     "name": "stderr",
     "output_type": "stream",
     "text": [
      "Lossy conversion from float32 to uint8. Range [-1.0, 0.9997946619987488]. Convert image to uint8 prior to saving to suppress this warning.\n"
     ]
    },
    {
     "name": "stdout",
     "output_type": "stream",
     "text": [
      "Iteration [176000/300000] | D_real_loss: -0.0042 | D_fake_loss: -0.1735 | G_loss: 0.0173 | D_loss: -0.1693 | Wasserstein_Distance: 0.1693\n",
      "Saved ./results/samples_gan_gp1_lr3e-5/sample-176000.png\n"
     ]
    },
    {
     "name": "stderr",
     "output_type": "stream",
     "text": [
      "Lossy conversion from float32 to uint8. Range [-1.0, 0.9998647570610046]. Convert image to uint8 prior to saving to suppress this warning.\n"
     ]
    },
    {
     "name": "stdout",
     "output_type": "stream",
     "text": [
      "Iteration [176200/300000] | D_real_loss: -0.0022 | D_fake_loss: -0.1890 | G_loss: -0.0250 | D_loss: -0.1868 | Wasserstein_Distance: 0.1868\n",
      "Saved ./results/samples_gan_gp1_lr3e-5/sample-176200.png\n",
      "EPOCH: 453\n"
     ]
    },
    {
     "name": "stderr",
     "output_type": "stream",
     "text": [
      "Lossy conversion from float32 to uint8. Range [-1.0, 0.9998534917831421]. Convert image to uint8 prior to saving to suppress this warning.\n"
     ]
    },
    {
     "name": "stdout",
     "output_type": "stream",
     "text": [
      "Iteration [176400/300000] | D_real_loss: 0.0270 | D_fake_loss: -0.1851 | G_loss: 0.0209 | D_loss: -0.2121 | Wasserstein_Distance: 0.2121\n",
      "Saved ./results/samples_gan_gp1_lr3e-5/sample-176400.png\n"
     ]
    },
    {
     "name": "stderr",
     "output_type": "stream",
     "text": [
      "Lossy conversion from float32 to uint8. Range [-1.0, 0.9998295307159424]. Convert image to uint8 prior to saving to suppress this warning.\n"
     ]
    },
    {
     "name": "stdout",
     "output_type": "stream",
     "text": [
      "Iteration [176600/300000] | D_real_loss: 0.1750 | D_fake_loss: -0.0208 | G_loss: 0.2083 | D_loss: -0.1957 | Wasserstein_Distance: 0.1957\n",
      "Saved ./results/samples_gan_gp1_lr3e-5/sample-176600.png\n",
      "EPOCH: 454\n"
     ]
    },
    {
     "name": "stderr",
     "output_type": "stream",
     "text": [
      "Lossy conversion from float32 to uint8. Range [-1.0, 0.9998573064804077]. Convert image to uint8 prior to saving to suppress this warning.\n"
     ]
    },
    {
     "name": "stdout",
     "output_type": "stream",
     "text": [
      "Iteration [176800/300000] | D_real_loss: 0.0109 | D_fake_loss: -0.1932 | G_loss: 0.0316 | D_loss: -0.2041 | Wasserstein_Distance: 0.2041\n",
      "Saved ./results/samples_gan_gp1_lr3e-5/sample-176800.png\n"
     ]
    },
    {
     "name": "stderr",
     "output_type": "stream",
     "text": [
      "Lossy conversion from float32 to uint8. Range [-1.0, 0.999769389629364]. Convert image to uint8 prior to saving to suppress this warning.\n"
     ]
    },
    {
     "name": "stdout",
     "output_type": "stream",
     "text": [
      "Iteration [177000/300000] | D_real_loss: 0.1483 | D_fake_loss: -0.0285 | G_loss: 0.1555 | D_loss: -0.1768 | Wasserstein_Distance: 0.1768\n",
      "Saved ./results/samples_gan_gp1_lr3e-5/sample-177000.png\n",
      "EPOCH: 455\n"
     ]
    },
    {
     "name": "stderr",
     "output_type": "stream",
     "text": [
      "Lossy conversion from float32 to uint8. Range [-1.0, 0.9997007250785828]. Convert image to uint8 prior to saving to suppress this warning.\n"
     ]
    },
    {
     "name": "stdout",
     "output_type": "stream",
     "text": [
      "Iteration [177200/300000] | D_real_loss: 0.1427 | D_fake_loss: -0.0232 | G_loss: 0.1523 | D_loss: -0.1660 | Wasserstein_Distance: 0.1660\n",
      "Saved ./results/samples_gan_gp1_lr3e-5/sample-177200.png\n"
     ]
    },
    {
     "name": "stderr",
     "output_type": "stream",
     "text": [
      "Lossy conversion from float32 to uint8. Range [-1.0, 0.999845564365387]. Convert image to uint8 prior to saving to suppress this warning.\n"
     ]
    },
    {
     "name": "stdout",
     "output_type": "stream",
     "text": [
      "Iteration [177400/300000] | D_real_loss: 0.0212 | D_fake_loss: -0.1583 | G_loss: 0.0423 | D_loss: -0.1795 | Wasserstein_Distance: 0.1795\n",
      "Saved ./results/samples_gan_gp1_lr3e-5/sample-177400.png\n",
      "EPOCH: 456\n"
     ]
    },
    {
     "name": "stderr",
     "output_type": "stream",
     "text": [
      "Lossy conversion from float32 to uint8. Range [-1.0, 0.9997596144676208]. Convert image to uint8 prior to saving to suppress this warning.\n"
     ]
    },
    {
     "name": "stdout",
     "output_type": "stream",
     "text": [
      "Iteration [177600/300000] | D_real_loss: 0.1572 | D_fake_loss: -0.0315 | G_loss: 0.1971 | D_loss: -0.1886 | Wasserstein_Distance: 0.1886\n",
      "Saved ./results/samples_gan_gp1_lr3e-5/sample-177600.png\n"
     ]
    },
    {
     "name": "stderr",
     "output_type": "stream",
     "text": [
      "Lossy conversion from float32 to uint8. Range [-1.0, 0.9998571872711182]. Convert image to uint8 prior to saving to suppress this warning.\n"
     ]
    },
    {
     "name": "stdout",
     "output_type": "stream",
     "text": [
      "Iteration [177800/300000] | D_real_loss: -0.0173 | D_fake_loss: -0.1916 | G_loss: 0.0164 | D_loss: -0.1743 | Wasserstein_Distance: 0.1743\n",
      "Saved ./results/samples_gan_gp1_lr3e-5/sample-177800.png\n",
      "EPOCH: 457\n"
     ]
    },
    {
     "name": "stderr",
     "output_type": "stream",
     "text": [
      "Lossy conversion from float32 to uint8. Range [-1.0, 0.9998074769973755]. Convert image to uint8 prior to saving to suppress this warning.\n"
     ]
    },
    {
     "name": "stdout",
     "output_type": "stream",
     "text": [
      "Iteration [178000/300000] | D_real_loss: 0.0196 | D_fake_loss: -0.1770 | G_loss: 0.0332 | D_loss: -0.1966 | Wasserstein_Distance: 0.1966\n",
      "Saved ./results/samples_gan_gp1_lr3e-5/sample-178000.png\n"
     ]
    },
    {
     "name": "stderr",
     "output_type": "stream",
     "text": [
      "Lossy conversion from float32 to uint8. Range [-1.0, 0.9998453259468079]. Convert image to uint8 prior to saving to suppress this warning.\n"
     ]
    },
    {
     "name": "stdout",
     "output_type": "stream",
     "text": [
      "Iteration [178200/300000] | D_real_loss: 0.0413 | D_fake_loss: -0.1615 | G_loss: 0.0543 | D_loss: -0.2028 | Wasserstein_Distance: 0.2028\n",
      "Saved ./results/samples_gan_gp1_lr3e-5/sample-178200.png\n",
      "EPOCH: 458\n"
     ]
    },
    {
     "name": "stderr",
     "output_type": "stream",
     "text": [
      "Lossy conversion from float32 to uint8. Range [-1.0, 0.9998951554298401]. Convert image to uint8 prior to saving to suppress this warning.\n"
     ]
    },
    {
     "name": "stdout",
     "output_type": "stream",
     "text": [
      "Iteration [178400/300000] | D_real_loss: 0.1238 | D_fake_loss: -0.0782 | G_loss: 0.1439 | D_loss: -0.2020 | Wasserstein_Distance: 0.2020\n",
      "Saved ./results/samples_gan_gp1_lr3e-5/sample-178400.png\n"
     ]
    },
    {
     "name": "stderr",
     "output_type": "stream",
     "text": [
      "Lossy conversion from float32 to uint8. Range [-1.0, 0.9998499155044556]. Convert image to uint8 prior to saving to suppress this warning.\n"
     ]
    },
    {
     "name": "stdout",
     "output_type": "stream",
     "text": [
      "Iteration [178600/300000] | D_real_loss: 0.0180 | D_fake_loss: -0.1601 | G_loss: 0.0143 | D_loss: -0.1781 | Wasserstein_Distance: 0.1781\n",
      "Saved ./results/samples_gan_gp1_lr3e-5/sample-178600.png\n",
      "EPOCH: 459\n"
     ]
    },
    {
     "name": "stderr",
     "output_type": "stream",
     "text": [
      "Lossy conversion from float32 to uint8. Range [-1.0, 0.9999080896377563]. Convert image to uint8 prior to saving to suppress this warning.\n"
     ]
    },
    {
     "name": "stdout",
     "output_type": "stream",
     "text": [
      "Iteration [178800/300000] | D_real_loss: 0.1728 | D_fake_loss: -0.0040 | G_loss: 0.2048 | D_loss: -0.1768 | Wasserstein_Distance: 0.1768\n",
      "Saved ./results/samples_gan_gp1_lr3e-5/sample-178800.png\n"
     ]
    },
    {
     "name": "stderr",
     "output_type": "stream",
     "text": [
      "Lossy conversion from float32 to uint8. Range [-1.0, 0.9998429417610168]. Convert image to uint8 prior to saving to suppress this warning.\n"
     ]
    },
    {
     "name": "stdout",
     "output_type": "stream",
     "text": [
      "Iteration [179000/300000] | D_real_loss: 0.1325 | D_fake_loss: -0.0808 | G_loss: 0.1520 | D_loss: -0.2133 | Wasserstein_Distance: 0.2133\n",
      "Saved ./results/samples_gan_gp1_lr3e-5/sample-179000.png\n",
      "EPOCH: 460\n"
     ]
    },
    {
     "name": "stderr",
     "output_type": "stream",
     "text": [
      "Lossy conversion from float32 to uint8. Range [-1.0, 0.9997985363006592]. Convert image to uint8 prior to saving to suppress this warning.\n"
     ]
    },
    {
     "name": "stdout",
     "output_type": "stream",
     "text": [
      "Iteration [179200/300000] | D_real_loss: 0.1647 | D_fake_loss: -0.0251 | G_loss: 0.2059 | D_loss: -0.1899 | Wasserstein_Distance: 0.1899\n",
      "Saved ./results/samples_gan_gp1_lr3e-5/sample-179200.png\n"
     ]
    },
    {
     "name": "stderr",
     "output_type": "stream",
     "text": [
      "Lossy conversion from float32 to uint8. Range [-1.0, 0.9997845888137817]. Convert image to uint8 prior to saving to suppress this warning.\n"
     ]
    },
    {
     "name": "stdout",
     "output_type": "stream",
     "text": [
      "Iteration [179400/300000] | D_real_loss: 0.0163 | D_fake_loss: -0.1593 | G_loss: 0.0415 | D_loss: -0.1756 | Wasserstein_Distance: 0.1756\n",
      "Saved ./results/samples_gan_gp1_lr3e-5/sample-179400.png\n",
      "EPOCH: 461\n"
     ]
    },
    {
     "name": "stderr",
     "output_type": "stream",
     "text": [
      "Lossy conversion from float32 to uint8. Range [-1.0, 0.9997870922088623]. Convert image to uint8 prior to saving to suppress this warning.\n"
     ]
    },
    {
     "name": "stdout",
     "output_type": "stream",
     "text": [
      "Iteration [179600/300000] | D_real_loss: -0.0199 | D_fake_loss: -0.1805 | G_loss: 0.0293 | D_loss: -0.1606 | Wasserstein_Distance: 0.1606\n",
      "Saved ./results/samples_gan_gp1_lr3e-5/sample-179600.png\n",
      "EPOCH: 462\n"
     ]
    },
    {
     "name": "stderr",
     "output_type": "stream",
     "text": [
      "Lossy conversion from float32 to uint8. Range [-1.0, 0.999765157699585]. Convert image to uint8 prior to saving to suppress this warning.\n"
     ]
    },
    {
     "name": "stdout",
     "output_type": "stream",
     "text": [
      "Iteration [179800/300000] | D_real_loss: 0.1269 | D_fake_loss: -0.0771 | G_loss: 0.1424 | D_loss: -0.2040 | Wasserstein_Distance: 0.2040\n",
      "Saved ./results/samples_gan_gp1_lr3e-5/sample-179800.png\n"
     ]
    },
    {
     "name": "stderr",
     "output_type": "stream",
     "text": [
      "Lossy conversion from float32 to uint8. Range [-1.0, 0.999840497970581]. Convert image to uint8 prior to saving to suppress this warning.\n"
     ]
    },
    {
     "name": "stdout",
     "output_type": "stream",
     "text": [
      "Iteration [180000/300000] | D_real_loss: -0.0081 | D_fake_loss: -0.1778 | G_loss: 0.0047 | D_loss: -0.1698 | Wasserstein_Distance: 0.1698\n",
      "Saved ./results/samples_gan_gp1_lr3e-5/sample-180000.png\n",
      "EPOCH: 463\n"
     ]
    },
    {
     "name": "stderr",
     "output_type": "stream",
     "text": [
      "Lossy conversion from float32 to uint8. Range [-1.0, 0.9997729659080505]. Convert image to uint8 prior to saving to suppress this warning.\n"
     ]
    },
    {
     "name": "stdout",
     "output_type": "stream",
     "text": [
      "Iteration [180200/300000] | D_real_loss: -0.0005 | D_fake_loss: -0.1811 | G_loss: 0.0099 | D_loss: -0.1806 | Wasserstein_Distance: 0.1806\n",
      "Saved ./results/samples_gan_gp1_lr3e-5/sample-180200.png\n"
     ]
    },
    {
     "name": "stderr",
     "output_type": "stream",
     "text": [
      "Lossy conversion from float32 to uint8. Range [-1.0, 0.9998512268066406]. Convert image to uint8 prior to saving to suppress this warning.\n"
     ]
    },
    {
     "name": "stdout",
     "output_type": "stream",
     "text": [
      "Iteration [180400/300000] | D_real_loss: 0.1594 | D_fake_loss: -0.0158 | G_loss: 0.1701 | D_loss: -0.1752 | Wasserstein_Distance: 0.1752\n",
      "Saved ./results/samples_gan_gp1_lr3e-5/sample-180400.png\n",
      "EPOCH: 464\n"
     ]
    },
    {
     "name": "stderr",
     "output_type": "stream",
     "text": [
      "Lossy conversion from float32 to uint8. Range [-1.0, 0.9998550415039062]. Convert image to uint8 prior to saving to suppress this warning.\n"
     ]
    },
    {
     "name": "stdout",
     "output_type": "stream",
     "text": [
      "Iteration [180600/300000] | D_real_loss: -0.0362 | D_fake_loss: -0.2046 | G_loss: -0.0105 | D_loss: -0.1683 | Wasserstein_Distance: 0.1683\n",
      "Saved ./results/samples_gan_gp1_lr3e-5/sample-180600.png\n"
     ]
    },
    {
     "name": "stderr",
     "output_type": "stream",
     "text": [
      "Lossy conversion from float32 to uint8. Range [-1.0, 0.9997941851615906]. Convert image to uint8 prior to saving to suppress this warning.\n"
     ]
    },
    {
     "name": "stdout",
     "output_type": "stream",
     "text": [
      "Iteration [180800/300000] | D_real_loss: -0.0142 | D_fake_loss: -0.1836 | G_loss: 0.0184 | D_loss: -0.1694 | Wasserstein_Distance: 0.1694\n",
      "Saved ./results/samples_gan_gp1_lr3e-5/sample-180800.png\n",
      "EPOCH: 465\n"
     ]
    },
    {
     "name": "stderr",
     "output_type": "stream",
     "text": [
      "Lossy conversion from float32 to uint8. Range [-1.0, 0.9997716546058655]. Convert image to uint8 prior to saving to suppress this warning.\n"
     ]
    },
    {
     "name": "stdout",
     "output_type": "stream",
     "text": [
      "Iteration [181000/300000] | D_real_loss: 0.0175 | D_fake_loss: -0.1711 | G_loss: 0.0392 | D_loss: -0.1887 | Wasserstein_Distance: 0.1887\n",
      "Saved ./results/samples_gan_gp1_lr3e-5/sample-181000.png\n"
     ]
    },
    {
     "name": "stderr",
     "output_type": "stream",
     "text": [
      "Lossy conversion from float32 to uint8. Range [-1.0, 0.9997957348823547]. Convert image to uint8 prior to saving to suppress this warning.\n"
     ]
    },
    {
     "name": "stdout",
     "output_type": "stream",
     "text": [
      "Iteration [181200/300000] | D_real_loss: 0.0054 | D_fake_loss: -0.1643 | G_loss: 0.0234 | D_loss: -0.1697 | Wasserstein_Distance: 0.1697\n",
      "Saved ./results/samples_gan_gp1_lr3e-5/sample-181200.png\n",
      "EPOCH: 466\n"
     ]
    },
    {
     "name": "stderr",
     "output_type": "stream",
     "text": [
      "Lossy conversion from float32 to uint8. Range [-1.0, 0.9998651742935181]. Convert image to uint8 prior to saving to suppress this warning.\n"
     ]
    },
    {
     "name": "stdout",
     "output_type": "stream",
     "text": [
      "Iteration [181400/300000] | D_real_loss: -0.0126 | D_fake_loss: -0.1787 | G_loss: 0.0144 | D_loss: -0.1661 | Wasserstein_Distance: 0.1661\n",
      "Saved ./results/samples_gan_gp1_lr3e-5/sample-181400.png\n"
     ]
    },
    {
     "name": "stderr",
     "output_type": "stream",
     "text": [
      "Lossy conversion from float32 to uint8. Range [-1.0, 0.9998655319213867]. Convert image to uint8 prior to saving to suppress this warning.\n"
     ]
    },
    {
     "name": "stdout",
     "output_type": "stream",
     "text": [
      "Iteration [181600/300000] | D_real_loss: -0.0053 | D_fake_loss: -0.1839 | G_loss: 0.0248 | D_loss: -0.1786 | Wasserstein_Distance: 0.1786\n",
      "Saved ./results/samples_gan_gp1_lr3e-5/sample-181600.png\n",
      "EPOCH: 467\n"
     ]
    },
    {
     "name": "stderr",
     "output_type": "stream",
     "text": [
      "Lossy conversion from float32 to uint8. Range [-1.0, 0.9999006390571594]. Convert image to uint8 prior to saving to suppress this warning.\n"
     ]
    },
    {
     "name": "stdout",
     "output_type": "stream",
     "text": [
      "Iteration [181800/300000] | D_real_loss: 0.0013 | D_fake_loss: -0.1773 | G_loss: 0.0203 | D_loss: -0.1786 | Wasserstein_Distance: 0.1786\n",
      "Saved ./results/samples_gan_gp1_lr3e-5/sample-181800.png\n"
     ]
    },
    {
     "name": "stderr",
     "output_type": "stream",
     "text": [
      "Lossy conversion from float32 to uint8. Range [-1.0, 0.9998231530189514]. Convert image to uint8 prior to saving to suppress this warning.\n"
     ]
    },
    {
     "name": "stdout",
     "output_type": "stream",
     "text": [
      "Iteration [182000/300000] | D_real_loss: -0.0042 | D_fake_loss: -0.1785 | G_loss: 0.0167 | D_loss: -0.1742 | Wasserstein_Distance: 0.1742\n",
      "Saved ./results/samples_gan_gp1_lr3e-5/sample-182000.png\n",
      "EPOCH: 468\n"
     ]
    },
    {
     "name": "stderr",
     "output_type": "stream",
     "text": [
      "Lossy conversion from float32 to uint8. Range [-1.0, 0.9998544454574585]. Convert image to uint8 prior to saving to suppress this warning.\n"
     ]
    },
    {
     "name": "stdout",
     "output_type": "stream",
     "text": [
      "Iteration [182200/300000] | D_real_loss: 0.1666 | D_fake_loss: -0.0173 | G_loss: 0.1835 | D_loss: -0.1839 | Wasserstein_Distance: 0.1839\n",
      "Saved ./results/samples_gan_gp1_lr3e-5/sample-182200.png\n"
     ]
    },
    {
     "name": "stderr",
     "output_type": "stream",
     "text": [
      "Lossy conversion from float32 to uint8. Range [-1.0, 0.9998641610145569]. Convert image to uint8 prior to saving to suppress this warning.\n"
     ]
    },
    {
     "name": "stdout",
     "output_type": "stream",
     "text": [
      "Iteration [182400/300000] | D_real_loss: -0.0258 | D_fake_loss: -0.1961 | G_loss: 0.0192 | D_loss: -0.1703 | Wasserstein_Distance: 0.1703\n",
      "Saved ./results/samples_gan_gp1_lr3e-5/sample-182400.png\n",
      "EPOCH: 469\n"
     ]
    },
    {
     "name": "stderr",
     "output_type": "stream",
     "text": [
      "Lossy conversion from float32 to uint8. Range [-1.0, 0.9998217225074768]. Convert image to uint8 prior to saving to suppress this warning.\n"
     ]
    },
    {
     "name": "stdout",
     "output_type": "stream",
     "text": [
      "Iteration [182600/300000] | D_real_loss: 0.0099 | D_fake_loss: -0.1715 | G_loss: 0.0028 | D_loss: -0.1814 | Wasserstein_Distance: 0.1814\n",
      "Saved ./results/samples_gan_gp1_lr3e-5/sample-182600.png\n"
     ]
    },
    {
     "name": "stderr",
     "output_type": "stream",
     "text": [
      "Lossy conversion from float32 to uint8. Range [-1.0, 0.999828577041626]. Convert image to uint8 prior to saving to suppress this warning.\n"
     ]
    },
    {
     "name": "stdout",
     "output_type": "stream",
     "text": [
      "Iteration [182800/300000] | D_real_loss: 0.1323 | D_fake_loss: -0.0412 | G_loss: 0.1829 | D_loss: -0.1735 | Wasserstein_Distance: 0.1735\n",
      "Saved ./results/samples_gan_gp1_lr3e-5/sample-182800.png\n",
      "EPOCH: 470\n"
     ]
    },
    {
     "name": "stderr",
     "output_type": "stream",
     "text": [
      "Lossy conversion from float32 to uint8. Range [-1.0, 0.9998152256011963]. Convert image to uint8 prior to saving to suppress this warning.\n"
     ]
    },
    {
     "name": "stdout",
     "output_type": "stream",
     "text": [
      "Iteration [183000/300000] | D_real_loss: 0.1519 | D_fake_loss: -0.0328 | G_loss: 0.1905 | D_loss: -0.1847 | Wasserstein_Distance: 0.1847\n",
      "Saved ./results/samples_gan_gp1_lr3e-5/sample-183000.png\n"
     ]
    },
    {
     "name": "stderr",
     "output_type": "stream",
     "text": [
      "Lossy conversion from float32 to uint8. Range [-1.0, 0.9997533559799194]. Convert image to uint8 prior to saving to suppress this warning.\n"
     ]
    },
    {
     "name": "stdout",
     "output_type": "stream",
     "text": [
      "Iteration [183200/300000] | D_real_loss: 0.0178 | D_fake_loss: -0.1592 | G_loss: 0.0331 | D_loss: -0.1769 | Wasserstein_Distance: 0.1769\n",
      "Saved ./results/samples_gan_gp1_lr3e-5/sample-183200.png\n",
      "EPOCH: 471\n"
     ]
    },
    {
     "name": "stderr",
     "output_type": "stream",
     "text": [
      "Lossy conversion from float32 to uint8. Range [-1.0, 0.9997768998146057]. Convert image to uint8 prior to saving to suppress this warning.\n"
     ]
    },
    {
     "name": "stdout",
     "output_type": "stream",
     "text": [
      "Iteration [183400/300000] | D_real_loss: -0.0478 | D_fake_loss: -0.1986 | G_loss: 0.0040 | D_loss: -0.1509 | Wasserstein_Distance: 0.1509\n",
      "Saved ./results/samples_gan_gp1_lr3e-5/sample-183400.png\n"
     ]
    },
    {
     "name": "stderr",
     "output_type": "stream",
     "text": [
      "Lossy conversion from float32 to uint8. Range [-1.0, 0.9997940063476562]. Convert image to uint8 prior to saving to suppress this warning.\n"
     ]
    },
    {
     "name": "stdout",
     "output_type": "stream",
     "text": [
      "Iteration [183600/300000] | D_real_loss: -0.0071 | D_fake_loss: -0.1959 | G_loss: 0.0153 | D_loss: -0.1888 | Wasserstein_Distance: 0.1888\n",
      "Saved ./results/samples_gan_gp1_lr3e-5/sample-183600.png\n",
      "EPOCH: 472\n"
     ]
    },
    {
     "name": "stderr",
     "output_type": "stream",
     "text": [
      "Lossy conversion from float32 to uint8. Range [-1.0, 0.999575138092041]. Convert image to uint8 prior to saving to suppress this warning.\n"
     ]
    },
    {
     "name": "stdout",
     "output_type": "stream",
     "text": [
      "Iteration [183800/300000] | D_real_loss: 0.1656 | D_fake_loss: -0.0328 | G_loss: 0.1841 | D_loss: -0.1985 | Wasserstein_Distance: 0.1985\n",
      "Saved ./results/samples_gan_gp1_lr3e-5/sample-183800.png\n"
     ]
    },
    {
     "name": "stderr",
     "output_type": "stream",
     "text": [
      "Lossy conversion from float32 to uint8. Range [-1.0, 0.9998452663421631]. Convert image to uint8 prior to saving to suppress this warning.\n"
     ]
    },
    {
     "name": "stdout",
     "output_type": "stream",
     "text": [
      "Iteration [184000/300000] | D_real_loss: 0.1607 | D_fake_loss: 0.0042 | G_loss: 0.1920 | D_loss: -0.1565 | Wasserstein_Distance: 0.1565\n",
      "Saved ./results/samples_gan_gp1_lr3e-5/sample-184000.png\n",
      "EPOCH: 473\n"
     ]
    },
    {
     "name": "stderr",
     "output_type": "stream",
     "text": [
      "Lossy conversion from float32 to uint8. Range [-1.0, 0.9997872710227966]. Convert image to uint8 prior to saving to suppress this warning.\n"
     ]
    },
    {
     "name": "stdout",
     "output_type": "stream",
     "text": [
      "Iteration [184200/300000] | D_real_loss: 0.1683 | D_fake_loss: 0.0077 | G_loss: 0.1764 | D_loss: -0.1606 | Wasserstein_Distance: 0.1606\n",
      "Saved ./results/samples_gan_gp1_lr3e-5/sample-184200.png\n"
     ]
    },
    {
     "name": "stderr",
     "output_type": "stream",
     "text": [
      "Lossy conversion from float32 to uint8. Range [-1.0, 0.9998160600662231]. Convert image to uint8 prior to saving to suppress this warning.\n"
     ]
    },
    {
     "name": "stdout",
     "output_type": "stream",
     "text": [
      "Iteration [184400/300000] | D_real_loss: -0.0477 | D_fake_loss: -0.2037 | G_loss: 0.0431 | D_loss: -0.1560 | Wasserstein_Distance: 0.1560\n",
      "Saved ./results/samples_gan_gp1_lr3e-5/sample-184400.png\n",
      "EPOCH: 474\n"
     ]
    },
    {
     "name": "stderr",
     "output_type": "stream",
     "text": [
      "Lossy conversion from float32 to uint8. Range [-1.0, 0.9998441338539124]. Convert image to uint8 prior to saving to suppress this warning.\n"
     ]
    },
    {
     "name": "stdout",
     "output_type": "stream",
     "text": [
      "Iteration [184600/300000] | D_real_loss: -0.0420 | D_fake_loss: -0.1951 | G_loss: -0.0013 | D_loss: -0.1532 | Wasserstein_Distance: 0.1532\n",
      "Saved ./results/samples_gan_gp1_lr3e-5/sample-184600.png\n"
     ]
    },
    {
     "name": "stderr",
     "output_type": "stream",
     "text": [
      "Lossy conversion from float32 to uint8. Range [-1.0, 0.9998778104782104]. Convert image to uint8 prior to saving to suppress this warning.\n"
     ]
    },
    {
     "name": "stdout",
     "output_type": "stream",
     "text": [
      "Iteration [184800/300000] | D_real_loss: 0.1535 | D_fake_loss: -0.0303 | G_loss: 0.1438 | D_loss: -0.1838 | Wasserstein_Distance: 0.1838\n",
      "Saved ./results/samples_gan_gp1_lr3e-5/sample-184800.png\n",
      "EPOCH: 475\n"
     ]
    },
    {
     "name": "stderr",
     "output_type": "stream",
     "text": [
      "Lossy conversion from float32 to uint8. Range [-1.0, 0.9998459815979004]. Convert image to uint8 prior to saving to suppress this warning.\n"
     ]
    },
    {
     "name": "stdout",
     "output_type": "stream",
     "text": [
      "Iteration [185000/300000] | D_real_loss: 0.1618 | D_fake_loss: -0.0130 | G_loss: 0.1903 | D_loss: -0.1748 | Wasserstein_Distance: 0.1748\n",
      "Saved ./results/samples_gan_gp1_lr3e-5/sample-185000.png\n"
     ]
    },
    {
     "name": "stderr",
     "output_type": "stream",
     "text": [
      "Lossy conversion from float32 to uint8. Range [-1.0, 0.999835729598999]. Convert image to uint8 prior to saving to suppress this warning.\n"
     ]
    },
    {
     "name": "stdout",
     "output_type": "stream",
     "text": [
      "Iteration [185200/300000] | D_real_loss: 0.0214 | D_fake_loss: -0.1649 | G_loss: 0.0111 | D_loss: -0.1863 | Wasserstein_Distance: 0.1863\n",
      "Saved ./results/samples_gan_gp1_lr3e-5/sample-185200.png\n",
      "EPOCH: 476\n"
     ]
    },
    {
     "name": "stderr",
     "output_type": "stream",
     "text": [
      "Lossy conversion from float32 to uint8. Range [-1.0, 0.9998577833175659]. Convert image to uint8 prior to saving to suppress this warning.\n"
     ]
    },
    {
     "name": "stdout",
     "output_type": "stream",
     "text": [
      "Iteration [185400/300000] | D_real_loss: 0.1541 | D_fake_loss: -0.0231 | G_loss: 0.1974 | D_loss: -0.1772 | Wasserstein_Distance: 0.1772\n",
      "Saved ./results/samples_gan_gp1_lr3e-5/sample-185400.png\n"
     ]
    },
    {
     "name": "stderr",
     "output_type": "stream",
     "text": [
      "Lossy conversion from float32 to uint8. Range [-1.0, 0.9998719692230225]. Convert image to uint8 prior to saving to suppress this warning.\n"
     ]
    },
    {
     "name": "stdout",
     "output_type": "stream",
     "text": [
      "Iteration [185600/300000] | D_real_loss: -0.0187 | D_fake_loss: -0.1834 | G_loss: -0.0015 | D_loss: -0.1647 | Wasserstein_Distance: 0.1647\n",
      "Saved ./results/samples_gan_gp1_lr3e-5/sample-185600.png\n",
      "EPOCH: 477\n"
     ]
    },
    {
     "name": "stderr",
     "output_type": "stream",
     "text": [
      "Lossy conversion from float32 to uint8. Range [-1.0, 0.9998975992202759]. Convert image to uint8 prior to saving to suppress this warning.\n"
     ]
    },
    {
     "name": "stdout",
     "output_type": "stream",
     "text": [
      "Iteration [185800/300000] | D_real_loss: 0.1389 | D_fake_loss: -0.0717 | G_loss: 0.1765 | D_loss: -0.2106 | Wasserstein_Distance: 0.2106\n",
      "Saved ./results/samples_gan_gp1_lr3e-5/sample-185800.png\n"
     ]
    },
    {
     "name": "stderr",
     "output_type": "stream",
     "text": [
      "Lossy conversion from float32 to uint8. Range [-1.0, 0.9998466968536377]. Convert image to uint8 prior to saving to suppress this warning.\n"
     ]
    },
    {
     "name": "stdout",
     "output_type": "stream",
     "text": [
      "Iteration [186000/300000] | D_real_loss: 0.1753 | D_fake_loss: -0.0058 | G_loss: 0.1741 | D_loss: -0.1811 | Wasserstein_Distance: 0.1811\n",
      "Saved ./results/samples_gan_gp1_lr3e-5/sample-186000.png\n",
      "EPOCH: 478\n"
     ]
    },
    {
     "name": "stderr",
     "output_type": "stream",
     "text": [
      "Lossy conversion from float32 to uint8. Range [-1.0, 0.9998241066932678]. Convert image to uint8 prior to saving to suppress this warning.\n"
     ]
    },
    {
     "name": "stdout",
     "output_type": "stream",
     "text": [
      "Iteration [186200/300000] | D_real_loss: 0.1496 | D_fake_loss: -0.0271 | G_loss: 0.2030 | D_loss: -0.1767 | Wasserstein_Distance: 0.1767\n",
      "Saved ./results/samples_gan_gp1_lr3e-5/sample-186200.png\n"
     ]
    },
    {
     "name": "stderr",
     "output_type": "stream",
     "text": [
      "Lossy conversion from float32 to uint8. Range [-1.0, 0.9997360110282898]. Convert image to uint8 prior to saving to suppress this warning.\n"
     ]
    },
    {
     "name": "stdout",
     "output_type": "stream",
     "text": [
      "Iteration [186400/300000] | D_real_loss: 0.1256 | D_fake_loss: -0.0764 | G_loss: 0.1488 | D_loss: -0.2019 | Wasserstein_Distance: 0.2019\n",
      "Saved ./results/samples_gan_gp1_lr3e-5/sample-186400.png\n",
      "EPOCH: 479\n"
     ]
    },
    {
     "name": "stderr",
     "output_type": "stream",
     "text": [
      "Lossy conversion from float32 to uint8. Range [-1.0, 0.9998442530632019]. Convert image to uint8 prior to saving to suppress this warning.\n"
     ]
    },
    {
     "name": "stdout",
     "output_type": "stream",
     "text": [
      "Iteration [186600/300000] | D_real_loss: 0.1658 | D_fake_loss: -0.0105 | G_loss: 0.1922 | D_loss: -0.1762 | Wasserstein_Distance: 0.1762\n",
      "Saved ./results/samples_gan_gp1_lr3e-5/sample-186600.png\n"
     ]
    },
    {
     "name": "stderr",
     "output_type": "stream",
     "text": [
      "Lossy conversion from float32 to uint8. Range [-1.0, 0.9997976422309875]. Convert image to uint8 prior to saving to suppress this warning.\n"
     ]
    },
    {
     "name": "stdout",
     "output_type": "stream",
     "text": [
      "Iteration [186800/300000] | D_real_loss: 0.0080 | D_fake_loss: -0.1838 | G_loss: 0.0078 | D_loss: -0.1918 | Wasserstein_Distance: 0.1918\n",
      "Saved ./results/samples_gan_gp1_lr3e-5/sample-186800.png\n",
      "EPOCH: 480\n"
     ]
    },
    {
     "name": "stderr",
     "output_type": "stream",
     "text": [
      "Lossy conversion from float32 to uint8. Range [-1.0, 0.9997972846031189]. Convert image to uint8 prior to saving to suppress this warning.\n"
     ]
    },
    {
     "name": "stdout",
     "output_type": "stream",
     "text": [
      "Iteration [187000/300000] | D_real_loss: -0.0395 | D_fake_loss: -0.1829 | G_loss: 0.0129 | D_loss: -0.1434 | Wasserstein_Distance: 0.1434\n",
      "Saved ./results/samples_gan_gp1_lr3e-5/sample-187000.png\n"
     ]
    },
    {
     "name": "stderr",
     "output_type": "stream",
     "text": [
      "Lossy conversion from float32 to uint8. Range [-1.0, 0.9997804760932922]. Convert image to uint8 prior to saving to suppress this warning.\n"
     ]
    },
    {
     "name": "stdout",
     "output_type": "stream",
     "text": [
      "Iteration [187200/300000] | D_real_loss: 0.1668 | D_fake_loss: -0.0261 | G_loss: 0.2079 | D_loss: -0.1930 | Wasserstein_Distance: 0.1930\n",
      "Saved ./results/samples_gan_gp1_lr3e-5/sample-187200.png\n",
      "EPOCH: 481\n"
     ]
    },
    {
     "name": "stderr",
     "output_type": "stream",
     "text": [
      "Lossy conversion from float32 to uint8. Range [-1.0, 0.9998415112495422]. Convert image to uint8 prior to saving to suppress this warning.\n"
     ]
    },
    {
     "name": "stdout",
     "output_type": "stream",
     "text": [
      "Iteration [187400/300000] | D_real_loss: -0.0834 | D_fake_loss: -0.2158 | G_loss: 0.0125 | D_loss: -0.1324 | Wasserstein_Distance: 0.1324\n",
      "Saved ./results/samples_gan_gp1_lr3e-5/sample-187400.png\n",
      "EPOCH: 482\n"
     ]
    },
    {
     "name": "stderr",
     "output_type": "stream",
     "text": [
      "Lossy conversion from float32 to uint8. Range [-1.0, 0.9997752904891968]. Convert image to uint8 prior to saving to suppress this warning.\n"
     ]
    },
    {
     "name": "stdout",
     "output_type": "stream",
     "text": [
      "Iteration [187600/300000] | D_real_loss: 0.0204 | D_fake_loss: -0.1782 | G_loss: 0.0110 | D_loss: -0.1987 | Wasserstein_Distance: 0.1987\n",
      "Saved ./results/samples_gan_gp1_lr3e-5/sample-187600.png\n"
     ]
    },
    {
     "name": "stderr",
     "output_type": "stream",
     "text": [
      "Lossy conversion from float32 to uint8. Range [-1.0, 0.9998171329498291]. Convert image to uint8 prior to saving to suppress this warning.\n"
     ]
    },
    {
     "name": "stdout",
     "output_type": "stream",
     "text": [
      "Iteration [187800/300000] | D_real_loss: 0.1519 | D_fake_loss: -0.0480 | G_loss: 0.2144 | D_loss: -0.1998 | Wasserstein_Distance: 0.1998\n",
      "Saved ./results/samples_gan_gp1_lr3e-5/sample-187800.png\n",
      "EPOCH: 483\n"
     ]
    },
    {
     "name": "stderr",
     "output_type": "stream",
     "text": [
      "Lossy conversion from float32 to uint8. Range [-1.0, 0.9997973442077637]. Convert image to uint8 prior to saving to suppress this warning.\n"
     ]
    },
    {
     "name": "stdout",
     "output_type": "stream",
     "text": [
      "Iteration [188000/300000] | D_real_loss: -0.0054 | D_fake_loss: -0.1787 | G_loss: 0.0162 | D_loss: -0.1732 | Wasserstein_Distance: 0.1732\n",
      "Saved ./results/samples_gan_gp1_lr3e-5/sample-188000.png\n"
     ]
    },
    {
     "name": "stderr",
     "output_type": "stream",
     "text": [
      "Lossy conversion from float32 to uint8. Range [-1.0, 0.9997515082359314]. Convert image to uint8 prior to saving to suppress this warning.\n"
     ]
    },
    {
     "name": "stdout",
     "output_type": "stream",
     "text": [
      "Iteration [188200/300000] | D_real_loss: 0.1172 | D_fake_loss: -0.0381 | G_loss: 0.1768 | D_loss: -0.1553 | Wasserstein_Distance: 0.1553\n",
      "Saved ./results/samples_gan_gp1_lr3e-5/sample-188200.png\n",
      "EPOCH: 484\n"
     ]
    },
    {
     "name": "stderr",
     "output_type": "stream",
     "text": [
      "Lossy conversion from float32 to uint8. Range [-1.0, 0.9997850656509399]. Convert image to uint8 prior to saving to suppress this warning.\n"
     ]
    },
    {
     "name": "stdout",
     "output_type": "stream",
     "text": [
      "Iteration [188400/300000] | D_real_loss: 0.1630 | D_fake_loss: -0.0181 | G_loss: 0.1964 | D_loss: -0.1811 | Wasserstein_Distance: 0.1811\n",
      "Saved ./results/samples_gan_gp1_lr3e-5/sample-188400.png\n"
     ]
    },
    {
     "name": "stderr",
     "output_type": "stream",
     "text": [
      "Lossy conversion from float32 to uint8. Range [-1.0, 0.9997562170028687]. Convert image to uint8 prior to saving to suppress this warning.\n"
     ]
    },
    {
     "name": "stdout",
     "output_type": "stream",
     "text": [
      "Iteration [188600/300000] | D_real_loss: 0.1449 | D_fake_loss: -0.0163 | G_loss: 0.1785 | D_loss: -0.1612 | Wasserstein_Distance: 0.1612\n",
      "Saved ./results/samples_gan_gp1_lr3e-5/sample-188600.png\n",
      "EPOCH: 485\n"
     ]
    },
    {
     "name": "stderr",
     "output_type": "stream",
     "text": [
      "Lossy conversion from float32 to uint8. Range [-1.0, 0.9997431635856628]. Convert image to uint8 prior to saving to suppress this warning.\n"
     ]
    },
    {
     "name": "stdout",
     "output_type": "stream",
     "text": [
      "Iteration [188800/300000] | D_real_loss: 0.1005 | D_fake_loss: -0.0383 | G_loss: 0.1520 | D_loss: -0.1387 | Wasserstein_Distance: 0.1387\n",
      "Saved ./results/samples_gan_gp1_lr3e-5/sample-188800.png\n"
     ]
    },
    {
     "name": "stderr",
     "output_type": "stream",
     "text": [
      "Lossy conversion from float32 to uint8. Range [-1.0, 0.9997940063476562]. Convert image to uint8 prior to saving to suppress this warning.\n"
     ]
    },
    {
     "name": "stdout",
     "output_type": "stream",
     "text": [
      "Iteration [189000/300000] | D_real_loss: -0.0398 | D_fake_loss: -0.2028 | G_loss: 0.0423 | D_loss: -0.1630 | Wasserstein_Distance: 0.1630\n",
      "Saved ./results/samples_gan_gp1_lr3e-5/sample-189000.png\n",
      "EPOCH: 486\n"
     ]
    },
    {
     "name": "stderr",
     "output_type": "stream",
     "text": [
      "Lossy conversion from float32 to uint8. Range [-1.0, 0.999771237373352]. Convert image to uint8 prior to saving to suppress this warning.\n"
     ]
    },
    {
     "name": "stdout",
     "output_type": "stream",
     "text": [
      "Iteration [189200/300000] | D_real_loss: 0.1531 | D_fake_loss: 0.0009 | G_loss: 0.1497 | D_loss: -0.1522 | Wasserstein_Distance: 0.1522\n",
      "Saved ./results/samples_gan_gp1_lr3e-5/sample-189200.png\n"
     ]
    },
    {
     "name": "stderr",
     "output_type": "stream",
     "text": [
      "Lossy conversion from float32 to uint8. Range [-1.0, 0.9998202919960022]. Convert image to uint8 prior to saving to suppress this warning.\n"
     ]
    },
    {
     "name": "stdout",
     "output_type": "stream",
     "text": [
      "Iteration [189400/300000] | D_real_loss: 0.0069 | D_fake_loss: -0.1846 | G_loss: 0.0122 | D_loss: -0.1914 | Wasserstein_Distance: 0.1914\n",
      "Saved ./results/samples_gan_gp1_lr3e-5/sample-189400.png\n",
      "EPOCH: 487\n"
     ]
    },
    {
     "name": "stderr",
     "output_type": "stream",
     "text": [
      "Lossy conversion from float32 to uint8. Range [-1.0, 0.9997320771217346]. Convert image to uint8 prior to saving to suppress this warning.\n"
     ]
    },
    {
     "name": "stdout",
     "output_type": "stream",
     "text": [
      "Iteration [189600/300000] | D_real_loss: -0.0012 | D_fake_loss: -0.1829 | G_loss: 0.0013 | D_loss: -0.1817 | Wasserstein_Distance: 0.1817\n",
      "Saved ./results/samples_gan_gp1_lr3e-5/sample-189600.png\n"
     ]
    },
    {
     "name": "stderr",
     "output_type": "stream",
     "text": [
      "Lossy conversion from float32 to uint8. Range [-1.0, 0.999730110168457]. Convert image to uint8 prior to saving to suppress this warning.\n"
     ]
    },
    {
     "name": "stdout",
     "output_type": "stream",
     "text": [
      "Iteration [189800/300000] | D_real_loss: 0.1843 | D_fake_loss: 0.0100 | G_loss: 0.1948 | D_loss: -0.1743 | Wasserstein_Distance: 0.1743\n",
      "Saved ./results/samples_gan_gp1_lr3e-5/sample-189800.png\n",
      "EPOCH: 488\n"
     ]
    },
    {
     "name": "stderr",
     "output_type": "stream",
     "text": [
      "Lossy conversion from float32 to uint8. Range [-1.0, 0.9996569156646729]. Convert image to uint8 prior to saving to suppress this warning.\n"
     ]
    },
    {
     "name": "stdout",
     "output_type": "stream",
     "text": [
      "Iteration [190000/300000] | D_real_loss: 0.1469 | D_fake_loss: -0.0286 | G_loss: 0.2286 | D_loss: -0.1755 | Wasserstein_Distance: 0.1755\n",
      "Saved ./results/samples_gan_gp1_lr3e-5/sample-190000.png\n"
     ]
    },
    {
     "name": "stderr",
     "output_type": "stream",
     "text": [
      "Lossy conversion from float32 to uint8. Range [-1.0, 0.9998055696487427]. Convert image to uint8 prior to saving to suppress this warning.\n"
     ]
    },
    {
     "name": "stdout",
     "output_type": "stream",
     "text": [
      "Iteration [190200/300000] | D_real_loss: -0.0155 | D_fake_loss: -0.1843 | G_loss: 0.0299 | D_loss: -0.1688 | Wasserstein_Distance: 0.1688\n",
      "Saved ./results/samples_gan_gp1_lr3e-5/sample-190200.png\n",
      "EPOCH: 489\n"
     ]
    },
    {
     "name": "stderr",
     "output_type": "stream",
     "text": [
      "Lossy conversion from float32 to uint8. Range [-1.0, 0.999758243560791]. Convert image to uint8 prior to saving to suppress this warning.\n"
     ]
    },
    {
     "name": "stdout",
     "output_type": "stream",
     "text": [
      "Iteration [190400/300000] | D_real_loss: 0.0001 | D_fake_loss: -0.1861 | G_loss: 0.0227 | D_loss: -0.1862 | Wasserstein_Distance: 0.1862\n",
      "Saved ./results/samples_gan_gp1_lr3e-5/sample-190400.png\n"
     ]
    },
    {
     "name": "stderr",
     "output_type": "stream",
     "text": [
      "Lossy conversion from float32 to uint8. Range [-1.0, 0.9995977282524109]. Convert image to uint8 prior to saving to suppress this warning.\n"
     ]
    },
    {
     "name": "stdout",
     "output_type": "stream",
     "text": [
      "Iteration [190600/300000] | D_real_loss: 0.1857 | D_fake_loss: 0.0090 | G_loss: 0.1555 | D_loss: -0.1767 | Wasserstein_Distance: 0.1767\n",
      "Saved ./results/samples_gan_gp1_lr3e-5/sample-190600.png\n",
      "EPOCH: 490\n"
     ]
    },
    {
     "name": "stderr",
     "output_type": "stream",
     "text": [
      "Lossy conversion from float32 to uint8. Range [-1.0, 0.9996745586395264]. Convert image to uint8 prior to saving to suppress this warning.\n"
     ]
    },
    {
     "name": "stdout",
     "output_type": "stream",
     "text": [
      "Iteration [190800/300000] | D_real_loss: -0.0402 | D_fake_loss: -0.2136 | G_loss: 0.0180 | D_loss: -0.1735 | Wasserstein_Distance: 0.1735\n",
      "Saved ./results/samples_gan_gp1_lr3e-5/sample-190800.png\n"
     ]
    },
    {
     "name": "stderr",
     "output_type": "stream",
     "text": [
      "Lossy conversion from float32 to uint8. Range [-1.0, 0.9997550845146179]. Convert image to uint8 prior to saving to suppress this warning.\n"
     ]
    },
    {
     "name": "stdout",
     "output_type": "stream",
     "text": [
      "Iteration [191000/300000] | D_real_loss: 0.1599 | D_fake_loss: -0.0161 | G_loss: 0.2246 | D_loss: -0.1760 | Wasserstein_Distance: 0.1760\n",
      "Saved ./results/samples_gan_gp1_lr3e-5/sample-191000.png\n",
      "EPOCH: 491\n"
     ]
    },
    {
     "name": "stderr",
     "output_type": "stream",
     "text": [
      "Lossy conversion from float32 to uint8. Range [-1.0, 0.9996434450149536]. Convert image to uint8 prior to saving to suppress this warning.\n"
     ]
    },
    {
     "name": "stdout",
     "output_type": "stream",
     "text": [
      "Iteration [191200/300000] | D_real_loss: 0.0518 | D_fake_loss: -0.1290 | G_loss: 0.0661 | D_loss: -0.1808 | Wasserstein_Distance: 0.1808\n",
      "Saved ./results/samples_gan_gp1_lr3e-5/sample-191200.png\n"
     ]
    },
    {
     "name": "stderr",
     "output_type": "stream",
     "text": [
      "Lossy conversion from float32 to uint8. Range [-1.0, 0.999894917011261]. Convert image to uint8 prior to saving to suppress this warning.\n"
     ]
    },
    {
     "name": "stdout",
     "output_type": "stream",
     "text": [
      "Iteration [191400/300000] | D_real_loss: 0.1511 | D_fake_loss: -0.0126 | G_loss: 0.1773 | D_loss: -0.1637 | Wasserstein_Distance: 0.1637\n",
      "Saved ./results/samples_gan_gp1_lr3e-5/sample-191400.png\n",
      "EPOCH: 492\n"
     ]
    },
    {
     "name": "stderr",
     "output_type": "stream",
     "text": [
      "Lossy conversion from float32 to uint8. Range [-1.0, 0.9998427629470825]. Convert image to uint8 prior to saving to suppress this warning.\n"
     ]
    },
    {
     "name": "stdout",
     "output_type": "stream",
     "text": [
      "Iteration [191600/300000] | D_real_loss: 0.0949 | D_fake_loss: -0.1264 | G_loss: 0.0951 | D_loss: -0.2213 | Wasserstein_Distance: 0.2213\n",
      "Saved ./results/samples_gan_gp1_lr3e-5/sample-191600.png\n"
     ]
    },
    {
     "name": "stderr",
     "output_type": "stream",
     "text": [
      "Lossy conversion from float32 to uint8. Range [-1.0, 0.9998025298118591]. Convert image to uint8 prior to saving to suppress this warning.\n"
     ]
    },
    {
     "name": "stdout",
     "output_type": "stream",
     "text": [
      "Iteration [191800/300000] | D_real_loss: -0.0157 | D_fake_loss: -0.2000 | G_loss: 0.0056 | D_loss: -0.1843 | Wasserstein_Distance: 0.1843\n",
      "Saved ./results/samples_gan_gp1_lr3e-5/sample-191800.png\n",
      "EPOCH: 493\n"
     ]
    },
    {
     "name": "stderr",
     "output_type": "stream",
     "text": [
      "Lossy conversion from float32 to uint8. Range [-1.0, 0.9998694658279419]. Convert image to uint8 prior to saving to suppress this warning.\n"
     ]
    },
    {
     "name": "stdout",
     "output_type": "stream",
     "text": [
      "Iteration [192000/300000] | D_real_loss: -0.0026 | D_fake_loss: -0.1811 | G_loss: 0.0373 | D_loss: -0.1785 | Wasserstein_Distance: 0.1785\n",
      "Saved ./results/samples_gan_gp1_lr3e-5/sample-192000.png\n"
     ]
    },
    {
     "name": "stderr",
     "output_type": "stream",
     "text": [
      "Lossy conversion from float32 to uint8. Range [-1.0, 0.9998259544372559]. Convert image to uint8 prior to saving to suppress this warning.\n"
     ]
    },
    {
     "name": "stdout",
     "output_type": "stream",
     "text": [
      "Iteration [192200/300000] | D_real_loss: 0.0703 | D_fake_loss: -0.1436 | G_loss: 0.0614 | D_loss: -0.2139 | Wasserstein_Distance: 0.2139\n",
      "Saved ./results/samples_gan_gp1_lr3e-5/sample-192200.png\n",
      "EPOCH: 494\n"
     ]
    },
    {
     "name": "stderr",
     "output_type": "stream",
     "text": [
      "Lossy conversion from float32 to uint8. Range [-1.0, 0.9998558759689331]. Convert image to uint8 prior to saving to suppress this warning.\n"
     ]
    },
    {
     "name": "stdout",
     "output_type": "stream",
     "text": [
      "Iteration [192400/300000] | D_real_loss: 0.1528 | D_fake_loss: -0.0297 | G_loss: 0.1763 | D_loss: -0.1825 | Wasserstein_Distance: 0.1825\n",
      "Saved ./results/samples_gan_gp1_lr3e-5/sample-192400.png\n"
     ]
    },
    {
     "name": "stderr",
     "output_type": "stream",
     "text": [
      "Lossy conversion from float32 to uint8. Range [-1.0, 0.999785304069519]. Convert image to uint8 prior to saving to suppress this warning.\n"
     ]
    },
    {
     "name": "stdout",
     "output_type": "stream",
     "text": [
      "Iteration [192600/300000] | D_real_loss: 0.1717 | D_fake_loss: 0.0024 | G_loss: 0.1883 | D_loss: -0.1693 | Wasserstein_Distance: 0.1693\n",
      "Saved ./results/samples_gan_gp1_lr3e-5/sample-192600.png\n",
      "EPOCH: 495\n",
      "Exiting early from training.\n",
      "adding image results/samples_gan_gp1_lr3e-5/sample-000200.png\n",
      "adding image results/samples_gan_gp1_lr3e-5/sample-000400.png\n",
      "adding image results/samples_gan_gp1_lr3e-5/sample-000600.png\n",
      "adding image results/samples_gan_gp1_lr3e-5/sample-000800.png\n",
      "adding image results/samples_gan_gp1_lr3e-5/sample-001000.png\n",
      "adding image results/samples_gan_gp1_lr3e-5/sample-001200.png\n",
      "adding image results/samples_gan_gp1_lr3e-5/sample-001400.png\n",
      "adding image results/samples_gan_gp1_lr3e-5/sample-001600.png\n",
      "adding image results/samples_gan_gp1_lr3e-5/sample-001800.png\n",
      "adding image results/samples_gan_gp1_lr3e-5/sample-002000.png\n",
      "adding image results/samples_gan_gp1_lr3e-5/sample-002200.png\n",
      "adding image results/samples_gan_gp1_lr3e-5/sample-002400.png\n",
      "adding image results/samples_gan_gp1_lr3e-5/sample-002600.png\n",
      "adding image results/samples_gan_gp1_lr3e-5/sample-002800.png\n",
      "adding image results/samples_gan_gp1_lr3e-5/sample-003000.png\n",
      "adding image results/samples_gan_gp1_lr3e-5/sample-003200.png\n",
      "adding image results/samples_gan_gp1_lr3e-5/sample-003400.png\n",
      "adding image results/samples_gan_gp1_lr3e-5/sample-003600.png\n",
      "adding image results/samples_gan_gp1_lr3e-5/sample-003800.png\n",
      "adding image results/samples_gan_gp1_lr3e-5/sample-004000.png\n",
      "adding image results/samples_gan_gp1_lr3e-5/sample-004200.png\n",
      "adding image results/samples_gan_gp1_lr3e-5/sample-004400.png\n",
      "adding image results/samples_gan_gp1_lr3e-5/sample-004600.png\n",
      "adding image results/samples_gan_gp1_lr3e-5/sample-004800.png\n",
      "adding image results/samples_gan_gp1_lr3e-5/sample-005000.png\n",
      "adding image results/samples_gan_gp1_lr3e-5/sample-005200.png\n",
      "adding image results/samples_gan_gp1_lr3e-5/sample-005400.png\n",
      "adding image results/samples_gan_gp1_lr3e-5/sample-005600.png\n",
      "adding image results/samples_gan_gp1_lr3e-5/sample-005800.png\n",
      "adding image results/samples_gan_gp1_lr3e-5/sample-006000.png\n",
      "adding image results/samples_gan_gp1_lr3e-5/sample-006200.png\n",
      "adding image results/samples_gan_gp1_lr3e-5/sample-006400.png\n",
      "adding image results/samples_gan_gp1_lr3e-5/sample-006600.png\n",
      "adding image results/samples_gan_gp1_lr3e-5/sample-006800.png\n",
      "adding image results/samples_gan_gp1_lr3e-5/sample-007000.png\n",
      "adding image results/samples_gan_gp1_lr3e-5/sample-007200.png\n",
      "adding image results/samples_gan_gp1_lr3e-5/sample-007400.png\n",
      "adding image results/samples_gan_gp1_lr3e-5/sample-007600.png\n",
      "adding image results/samples_gan_gp1_lr3e-5/sample-007800.png\n",
      "adding image results/samples_gan_gp1_lr3e-5/sample-008000.png\n",
      "adding image results/samples_gan_gp1_lr3e-5/sample-008200.png\n",
      "adding image results/samples_gan_gp1_lr3e-5/sample-008400.png\n",
      "adding image results/samples_gan_gp1_lr3e-5/sample-008600.png\n",
      "adding image results/samples_gan_gp1_lr3e-5/sample-008800.png\n",
      "adding image results/samples_gan_gp1_lr3e-5/sample-009000.png\n",
      "adding image results/samples_gan_gp1_lr3e-5/sample-009200.png\n",
      "adding image results/samples_gan_gp1_lr3e-5/sample-009400.png\n",
      "adding image results/samples_gan_gp1_lr3e-5/sample-009600.png\n",
      "adding image results/samples_gan_gp1_lr3e-5/sample-009800.png\n",
      "adding image results/samples_gan_gp1_lr3e-5/sample-010000.png\n",
      "adding image results/samples_gan_gp1_lr3e-5/sample-010200.png\n",
      "adding image results/samples_gan_gp1_lr3e-5/sample-010400.png\n",
      "adding image results/samples_gan_gp1_lr3e-5/sample-010600.png\n",
      "adding image results/samples_gan_gp1_lr3e-5/sample-010800.png\n",
      "adding image results/samples_gan_gp1_lr3e-5/sample-011000.png\n",
      "adding image results/samples_gan_gp1_lr3e-5/sample-011200.png\n",
      "adding image results/samples_gan_gp1_lr3e-5/sample-011400.png\n",
      "adding image results/samples_gan_gp1_lr3e-5/sample-011600.png\n",
      "adding image results/samples_gan_gp1_lr3e-5/sample-011800.png\n",
      "adding image results/samples_gan_gp1_lr3e-5/sample-012000.png\n",
      "adding image results/samples_gan_gp1_lr3e-5/sample-012200.png\n",
      "adding image results/samples_gan_gp1_lr3e-5/sample-012400.png\n",
      "adding image results/samples_gan_gp1_lr3e-5/sample-012600.png\n",
      "adding image results/samples_gan_gp1_lr3e-5/sample-012800.png\n",
      "adding image results/samples_gan_gp1_lr3e-5/sample-013000.png\n",
      "adding image results/samples_gan_gp1_lr3e-5/sample-013200.png\n",
      "adding image results/samples_gan_gp1_lr3e-5/sample-013400.png\n",
      "adding image results/samples_gan_gp1_lr3e-5/sample-013600.png\n",
      "adding image results/samples_gan_gp1_lr3e-5/sample-013800.png\n",
      "adding image results/samples_gan_gp1_lr3e-5/sample-014000.png\n",
      "adding image results/samples_gan_gp1_lr3e-5/sample-014200.png\n",
      "adding image results/samples_gan_gp1_lr3e-5/sample-014400.png\n",
      "adding image results/samples_gan_gp1_lr3e-5/sample-014600.png\n",
      "adding image results/samples_gan_gp1_lr3e-5/sample-014800.png\n",
      "adding image results/samples_gan_gp1_lr3e-5/sample-015000.png\n",
      "adding image results/samples_gan_gp1_lr3e-5/sample-015200.png\n",
      "adding image results/samples_gan_gp1_lr3e-5/sample-015400.png\n",
      "adding image results/samples_gan_gp1_lr3e-5/sample-015600.png\n",
      "adding image results/samples_gan_gp1_lr3e-5/sample-015800.png\n",
      "adding image results/samples_gan_gp1_lr3e-5/sample-016000.png\n",
      "adding image results/samples_gan_gp1_lr3e-5/sample-016200.png\n",
      "adding image results/samples_gan_gp1_lr3e-5/sample-016400.png\n",
      "adding image results/samples_gan_gp1_lr3e-5/sample-016600.png\n",
      "adding image results/samples_gan_gp1_lr3e-5/sample-016800.png\n",
      "adding image results/samples_gan_gp1_lr3e-5/sample-017000.png\n",
      "adding image results/samples_gan_gp1_lr3e-5/sample-017200.png\n",
      "adding image results/samples_gan_gp1_lr3e-5/sample-017400.png\n",
      "adding image results/samples_gan_gp1_lr3e-5/sample-017600.png\n",
      "adding image results/samples_gan_gp1_lr3e-5/sample-017800.png\n",
      "adding image results/samples_gan_gp1_lr3e-5/sample-018000.png\n",
      "adding image results/samples_gan_gp1_lr3e-5/sample-018200.png\n",
      "adding image results/samples_gan_gp1_lr3e-5/sample-018400.png\n",
      "adding image results/samples_gan_gp1_lr3e-5/sample-018600.png\n",
      "adding image results/samples_gan_gp1_lr3e-5/sample-018800.png\n",
      "adding image results/samples_gan_gp1_lr3e-5/sample-019000.png\n",
      "adding image results/samples_gan_gp1_lr3e-5/sample-019200.png\n",
      "adding image results/samples_gan_gp1_lr3e-5/sample-019400.png\n",
      "adding image results/samples_gan_gp1_lr3e-5/sample-019600.png\n",
      "adding image results/samples_gan_gp1_lr3e-5/sample-019800.png\n",
      "adding image results/samples_gan_gp1_lr3e-5/sample-020000.png\n",
      "adding image results/samples_gan_gp1_lr3e-5/sample-020200.png\n",
      "adding image results/samples_gan_gp1_lr3e-5/sample-020400.png\n",
      "adding image results/samples_gan_gp1_lr3e-5/sample-020600.png\n",
      "adding image results/samples_gan_gp1_lr3e-5/sample-020800.png\n",
      "adding image results/samples_gan_gp1_lr3e-5/sample-021000.png\n",
      "adding image results/samples_gan_gp1_lr3e-5/sample-021200.png\n",
      "adding image results/samples_gan_gp1_lr3e-5/sample-021400.png\n",
      "adding image results/samples_gan_gp1_lr3e-5/sample-021600.png\n",
      "adding image results/samples_gan_gp1_lr3e-5/sample-021800.png\n",
      "adding image results/samples_gan_gp1_lr3e-5/sample-022000.png\n",
      "adding image results/samples_gan_gp1_lr3e-5/sample-022200.png\n",
      "adding image results/samples_gan_gp1_lr3e-5/sample-022400.png\n",
      "adding image results/samples_gan_gp1_lr3e-5/sample-022600.png\n",
      "adding image results/samples_gan_gp1_lr3e-5/sample-022800.png\n",
      "adding image results/samples_gan_gp1_lr3e-5/sample-023000.png\n",
      "adding image results/samples_gan_gp1_lr3e-5/sample-023200.png\n",
      "adding image results/samples_gan_gp1_lr3e-5/sample-023400.png\n",
      "adding image results/samples_gan_gp1_lr3e-5/sample-023600.png\n",
      "adding image results/samples_gan_gp1_lr3e-5/sample-023800.png\n",
      "adding image results/samples_gan_gp1_lr3e-5/sample-024000.png\n",
      "adding image results/samples_gan_gp1_lr3e-5/sample-024200.png\n",
      "adding image results/samples_gan_gp1_lr3e-5/sample-024400.png\n",
      "adding image results/samples_gan_gp1_lr3e-5/sample-024600.png\n",
      "adding image results/samples_gan_gp1_lr3e-5/sample-024800.png\n",
      "adding image results/samples_gan_gp1_lr3e-5/sample-025000.png\n",
      "adding image results/samples_gan_gp1_lr3e-5/sample-025200.png\n",
      "adding image results/samples_gan_gp1_lr3e-5/sample-025400.png\n",
      "adding image results/samples_gan_gp1_lr3e-5/sample-025600.png\n",
      "adding image results/samples_gan_gp1_lr3e-5/sample-025800.png\n",
      "adding image results/samples_gan_gp1_lr3e-5/sample-026000.png\n",
      "adding image results/samples_gan_gp1_lr3e-5/sample-026200.png\n",
      "adding image results/samples_gan_gp1_lr3e-5/sample-026400.png\n",
      "adding image results/samples_gan_gp1_lr3e-5/sample-026600.png\n",
      "adding image results/samples_gan_gp1_lr3e-5/sample-026800.png\n",
      "adding image results/samples_gan_gp1_lr3e-5/sample-027000.png\n",
      "adding image results/samples_gan_gp1_lr3e-5/sample-027200.png\n",
      "adding image results/samples_gan_gp1_lr3e-5/sample-027400.png\n",
      "adding image results/samples_gan_gp1_lr3e-5/sample-027600.png\n",
      "adding image results/samples_gan_gp1_lr3e-5/sample-027800.png\n",
      "adding image results/samples_gan_gp1_lr3e-5/sample-028000.png\n",
      "adding image results/samples_gan_gp1_lr3e-5/sample-028200.png\n",
      "adding image results/samples_gan_gp1_lr3e-5/sample-028400.png\n",
      "adding image results/samples_gan_gp1_lr3e-5/sample-028600.png\n",
      "adding image results/samples_gan_gp1_lr3e-5/sample-028800.png\n",
      "adding image results/samples_gan_gp1_lr3e-5/sample-029000.png\n",
      "adding image results/samples_gan_gp1_lr3e-5/sample-029200.png\n",
      "adding image results/samples_gan_gp1_lr3e-5/sample-029400.png\n",
      "adding image results/samples_gan_gp1_lr3e-5/sample-029600.png\n",
      "adding image results/samples_gan_gp1_lr3e-5/sample-029800.png\n",
      "adding image results/samples_gan_gp1_lr3e-5/sample-030000.png\n",
      "adding image results/samples_gan_gp1_lr3e-5/sample-030200.png\n",
      "adding image results/samples_gan_gp1_lr3e-5/sample-030400.png\n",
      "adding image results/samples_gan_gp1_lr3e-5/sample-030600.png\n",
      "adding image results/samples_gan_gp1_lr3e-5/sample-030800.png\n",
      "adding image results/samples_gan_gp1_lr3e-5/sample-031000.png\n",
      "adding image results/samples_gan_gp1_lr3e-5/sample-031200.png\n",
      "adding image results/samples_gan_gp1_lr3e-5/sample-031400.png\n",
      "adding image results/samples_gan_gp1_lr3e-5/sample-031600.png\n",
      "adding image results/samples_gan_gp1_lr3e-5/sample-031800.png\n",
      "adding image results/samples_gan_gp1_lr3e-5/sample-032000.png\n",
      "adding image results/samples_gan_gp1_lr3e-5/sample-032200.png\n",
      "adding image results/samples_gan_gp1_lr3e-5/sample-032400.png\n",
      "adding image results/samples_gan_gp1_lr3e-5/sample-032600.png\n",
      "adding image results/samples_gan_gp1_lr3e-5/sample-032800.png\n",
      "adding image results/samples_gan_gp1_lr3e-5/sample-033000.png\n",
      "adding image results/samples_gan_gp1_lr3e-5/sample-033200.png\n",
      "adding image results/samples_gan_gp1_lr3e-5/sample-033400.png\n",
      "adding image results/samples_gan_gp1_lr3e-5/sample-033600.png\n",
      "adding image results/samples_gan_gp1_lr3e-5/sample-033800.png\n",
      "adding image results/samples_gan_gp1_lr3e-5/sample-034000.png\n",
      "adding image results/samples_gan_gp1_lr3e-5/sample-034200.png\n",
      "adding image results/samples_gan_gp1_lr3e-5/sample-034400.png\n",
      "adding image results/samples_gan_gp1_lr3e-5/sample-034600.png\n",
      "adding image results/samples_gan_gp1_lr3e-5/sample-034800.png\n",
      "adding image results/samples_gan_gp1_lr3e-5/sample-035000.png\n",
      "adding image results/samples_gan_gp1_lr3e-5/sample-035200.png\n",
      "adding image results/samples_gan_gp1_lr3e-5/sample-035400.png\n",
      "adding image results/samples_gan_gp1_lr3e-5/sample-035600.png\n",
      "adding image results/samples_gan_gp1_lr3e-5/sample-035800.png\n",
      "adding image results/samples_gan_gp1_lr3e-5/sample-036000.png\n",
      "adding image results/samples_gan_gp1_lr3e-5/sample-036200.png\n",
      "adding image results/samples_gan_gp1_lr3e-5/sample-036400.png\n",
      "adding image results/samples_gan_gp1_lr3e-5/sample-036600.png\n",
      "adding image results/samples_gan_gp1_lr3e-5/sample-036800.png\n",
      "adding image results/samples_gan_gp1_lr3e-5/sample-037000.png\n",
      "adding image results/samples_gan_gp1_lr3e-5/sample-037200.png\n",
      "adding image results/samples_gan_gp1_lr3e-5/sample-037400.png\n",
      "adding image results/samples_gan_gp1_lr3e-5/sample-037600.png\n",
      "adding image results/samples_gan_gp1_lr3e-5/sample-037800.png\n",
      "adding image results/samples_gan_gp1_lr3e-5/sample-038000.png\n",
      "adding image results/samples_gan_gp1_lr3e-5/sample-038200.png\n",
      "adding image results/samples_gan_gp1_lr3e-5/sample-038400.png\n",
      "adding image results/samples_gan_gp1_lr3e-5/sample-038600.png\n",
      "adding image results/samples_gan_gp1_lr3e-5/sample-038800.png\n",
      "adding image results/samples_gan_gp1_lr3e-5/sample-039000.png\n",
      "adding image results/samples_gan_gp1_lr3e-5/sample-039200.png\n",
      "adding image results/samples_gan_gp1_lr3e-5/sample-039400.png\n",
      "adding image results/samples_gan_gp1_lr3e-5/sample-039600.png\n",
      "adding image results/samples_gan_gp1_lr3e-5/sample-039800.png\n",
      "adding image results/samples_gan_gp1_lr3e-5/sample-040000.png\n",
      "adding image results/samples_gan_gp1_lr3e-5/sample-040200.png\n",
      "adding image results/samples_gan_gp1_lr3e-5/sample-040400.png\n",
      "adding image results/samples_gan_gp1_lr3e-5/sample-040600.png\n",
      "adding image results/samples_gan_gp1_lr3e-5/sample-040800.png\n",
      "adding image results/samples_gan_gp1_lr3e-5/sample-041000.png\n",
      "adding image results/samples_gan_gp1_lr3e-5/sample-041200.png\n",
      "adding image results/samples_gan_gp1_lr3e-5/sample-041400.png\n",
      "adding image results/samples_gan_gp1_lr3e-5/sample-041600.png\n",
      "adding image results/samples_gan_gp1_lr3e-5/sample-041800.png\n",
      "adding image results/samples_gan_gp1_lr3e-5/sample-042000.png\n",
      "adding image results/samples_gan_gp1_lr3e-5/sample-042200.png\n",
      "adding image results/samples_gan_gp1_lr3e-5/sample-042400.png\n",
      "adding image results/samples_gan_gp1_lr3e-5/sample-042600.png\n",
      "adding image results/samples_gan_gp1_lr3e-5/sample-042800.png\n",
      "adding image results/samples_gan_gp1_lr3e-5/sample-043000.png\n",
      "adding image results/samples_gan_gp1_lr3e-5/sample-043200.png\n",
      "adding image results/samples_gan_gp1_lr3e-5/sample-043400.png\n",
      "adding image results/samples_gan_gp1_lr3e-5/sample-043600.png\n",
      "adding image results/samples_gan_gp1_lr3e-5/sample-043800.png\n",
      "adding image results/samples_gan_gp1_lr3e-5/sample-044000.png\n",
      "adding image results/samples_gan_gp1_lr3e-5/sample-044200.png\n",
      "adding image results/samples_gan_gp1_lr3e-5/sample-044400.png\n",
      "adding image results/samples_gan_gp1_lr3e-5/sample-044600.png\n",
      "adding image results/samples_gan_gp1_lr3e-5/sample-044800.png\n",
      "adding image results/samples_gan_gp1_lr3e-5/sample-045000.png\n",
      "adding image results/samples_gan_gp1_lr3e-5/sample-045200.png\n",
      "adding image results/samples_gan_gp1_lr3e-5/sample-045400.png\n",
      "adding image results/samples_gan_gp1_lr3e-5/sample-045600.png\n",
      "adding image results/samples_gan_gp1_lr3e-5/sample-045800.png\n",
      "adding image results/samples_gan_gp1_lr3e-5/sample-046000.png\n",
      "adding image results/samples_gan_gp1_lr3e-5/sample-046200.png\n",
      "adding image results/samples_gan_gp1_lr3e-5/sample-046400.png\n",
      "adding image results/samples_gan_gp1_lr3e-5/sample-046600.png\n",
      "adding image results/samples_gan_gp1_lr3e-5/sample-046800.png\n",
      "adding image results/samples_gan_gp1_lr3e-5/sample-047000.png\n",
      "adding image results/samples_gan_gp1_lr3e-5/sample-047200.png\n",
      "adding image results/samples_gan_gp1_lr3e-5/sample-047400.png\n",
      "adding image results/samples_gan_gp1_lr3e-5/sample-047600.png\n",
      "adding image results/samples_gan_gp1_lr3e-5/sample-047800.png\n",
      "adding image results/samples_gan_gp1_lr3e-5/sample-048000.png\n",
      "adding image results/samples_gan_gp1_lr3e-5/sample-048200.png\n",
      "adding image results/samples_gan_gp1_lr3e-5/sample-048400.png\n",
      "adding image results/samples_gan_gp1_lr3e-5/sample-048600.png\n",
      "adding image results/samples_gan_gp1_lr3e-5/sample-048800.png\n",
      "adding image results/samples_gan_gp1_lr3e-5/sample-049000.png\n",
      "adding image results/samples_gan_gp1_lr3e-5/sample-049200.png\n",
      "adding image results/samples_gan_gp1_lr3e-5/sample-049400.png\n",
      "adding image results/samples_gan_gp1_lr3e-5/sample-049600.png\n",
      "adding image results/samples_gan_gp1_lr3e-5/sample-049800.png\n",
      "adding image results/samples_gan_gp1_lr3e-5/sample-050000.png\n",
      "adding image results/samples_gan_gp1_lr3e-5/sample-050200.png\n",
      "adding image results/samples_gan_gp1_lr3e-5/sample-050400.png\n",
      "adding image results/samples_gan_gp1_lr3e-5/sample-050600.png\n",
      "adding image results/samples_gan_gp1_lr3e-5/sample-050800.png\n",
      "adding image results/samples_gan_gp1_lr3e-5/sample-051000.png\n",
      "adding image results/samples_gan_gp1_lr3e-5/sample-051200.png\n",
      "adding image results/samples_gan_gp1_lr3e-5/sample-051400.png\n",
      "adding image results/samples_gan_gp1_lr3e-5/sample-051600.png\n",
      "adding image results/samples_gan_gp1_lr3e-5/sample-051800.png\n",
      "adding image results/samples_gan_gp1_lr3e-5/sample-052000.png\n",
      "adding image results/samples_gan_gp1_lr3e-5/sample-052200.png\n",
      "adding image results/samples_gan_gp1_lr3e-5/sample-052400.png\n",
      "adding image results/samples_gan_gp1_lr3e-5/sample-052600.png\n",
      "adding image results/samples_gan_gp1_lr3e-5/sample-052800.png\n",
      "adding image results/samples_gan_gp1_lr3e-5/sample-053000.png\n",
      "adding image results/samples_gan_gp1_lr3e-5/sample-053200.png\n",
      "adding image results/samples_gan_gp1_lr3e-5/sample-053400.png\n",
      "adding image results/samples_gan_gp1_lr3e-5/sample-053600.png\n",
      "adding image results/samples_gan_gp1_lr3e-5/sample-053800.png\n",
      "adding image results/samples_gan_gp1_lr3e-5/sample-054000.png\n",
      "adding image results/samples_gan_gp1_lr3e-5/sample-054200.png\n",
      "adding image results/samples_gan_gp1_lr3e-5/sample-054400.png\n",
      "adding image results/samples_gan_gp1_lr3e-5/sample-054600.png\n",
      "adding image results/samples_gan_gp1_lr3e-5/sample-054800.png\n",
      "adding image results/samples_gan_gp1_lr3e-5/sample-055000.png\n",
      "adding image results/samples_gan_gp1_lr3e-5/sample-055200.png\n",
      "adding image results/samples_gan_gp1_lr3e-5/sample-055400.png\n",
      "adding image results/samples_gan_gp1_lr3e-5/sample-055600.png\n",
      "adding image results/samples_gan_gp1_lr3e-5/sample-055800.png\n",
      "adding image results/samples_gan_gp1_lr3e-5/sample-056000.png\n",
      "adding image results/samples_gan_gp1_lr3e-5/sample-056200.png\n",
      "adding image results/samples_gan_gp1_lr3e-5/sample-056400.png\n",
      "adding image results/samples_gan_gp1_lr3e-5/sample-056600.png\n",
      "adding image results/samples_gan_gp1_lr3e-5/sample-056800.png\n",
      "adding image results/samples_gan_gp1_lr3e-5/sample-057000.png\n",
      "adding image results/samples_gan_gp1_lr3e-5/sample-057200.png\n",
      "adding image results/samples_gan_gp1_lr3e-5/sample-057400.png\n",
      "adding image results/samples_gan_gp1_lr3e-5/sample-057600.png\n",
      "adding image results/samples_gan_gp1_lr3e-5/sample-057800.png\n",
      "adding image results/samples_gan_gp1_lr3e-5/sample-058000.png\n",
      "adding image results/samples_gan_gp1_lr3e-5/sample-058200.png\n",
      "adding image results/samples_gan_gp1_lr3e-5/sample-058400.png\n",
      "adding image results/samples_gan_gp1_lr3e-5/sample-058600.png\n",
      "adding image results/samples_gan_gp1_lr3e-5/sample-058800.png\n",
      "adding image results/samples_gan_gp1_lr3e-5/sample-059000.png\n",
      "adding image results/samples_gan_gp1_lr3e-5/sample-059200.png\n",
      "adding image results/samples_gan_gp1_lr3e-5/sample-059400.png\n",
      "adding image results/samples_gan_gp1_lr3e-5/sample-059600.png\n",
      "adding image results/samples_gan_gp1_lr3e-5/sample-059800.png\n",
      "adding image results/samples_gan_gp1_lr3e-5/sample-060000.png\n",
      "adding image results/samples_gan_gp1_lr3e-5/sample-060200.png\n",
      "adding image results/samples_gan_gp1_lr3e-5/sample-060400.png\n",
      "adding image results/samples_gan_gp1_lr3e-5/sample-060600.png\n",
      "adding image results/samples_gan_gp1_lr3e-5/sample-060800.png\n",
      "adding image results/samples_gan_gp1_lr3e-5/sample-061000.png\n",
      "adding image results/samples_gan_gp1_lr3e-5/sample-061200.png\n",
      "adding image results/samples_gan_gp1_lr3e-5/sample-061400.png\n",
      "adding image results/samples_gan_gp1_lr3e-5/sample-061600.png\n",
      "adding image results/samples_gan_gp1_lr3e-5/sample-061800.png\n",
      "adding image results/samples_gan_gp1_lr3e-5/sample-062000.png\n",
      "adding image results/samples_gan_gp1_lr3e-5/sample-062200.png\n",
      "adding image results/samples_gan_gp1_lr3e-5/sample-062400.png\n",
      "adding image results/samples_gan_gp1_lr3e-5/sample-062600.png\n",
      "adding image results/samples_gan_gp1_lr3e-5/sample-062800.png\n",
      "adding image results/samples_gan_gp1_lr3e-5/sample-063000.png\n",
      "adding image results/samples_gan_gp1_lr3e-5/sample-063200.png\n",
      "adding image results/samples_gan_gp1_lr3e-5/sample-063400.png\n",
      "adding image results/samples_gan_gp1_lr3e-5/sample-063600.png\n",
      "adding image results/samples_gan_gp1_lr3e-5/sample-063800.png\n",
      "adding image results/samples_gan_gp1_lr3e-5/sample-064000.png\n",
      "adding image results/samples_gan_gp1_lr3e-5/sample-064200.png\n",
      "adding image results/samples_gan_gp1_lr3e-5/sample-064400.png\n",
      "adding image results/samples_gan_gp1_lr3e-5/sample-064600.png\n",
      "adding image results/samples_gan_gp1_lr3e-5/sample-064800.png\n",
      "adding image results/samples_gan_gp1_lr3e-5/sample-065000.png\n",
      "adding image results/samples_gan_gp1_lr3e-5/sample-065200.png\n",
      "adding image results/samples_gan_gp1_lr3e-5/sample-065400.png\n",
      "adding image results/samples_gan_gp1_lr3e-5/sample-065600.png\n",
      "adding image results/samples_gan_gp1_lr3e-5/sample-065800.png\n",
      "adding image results/samples_gan_gp1_lr3e-5/sample-066000.png\n",
      "adding image results/samples_gan_gp1_lr3e-5/sample-066200.png\n",
      "adding image results/samples_gan_gp1_lr3e-5/sample-066400.png\n",
      "adding image results/samples_gan_gp1_lr3e-5/sample-066600.png\n",
      "adding image results/samples_gan_gp1_lr3e-5/sample-066800.png\n",
      "adding image results/samples_gan_gp1_lr3e-5/sample-067000.png\n",
      "adding image results/samples_gan_gp1_lr3e-5/sample-067200.png\n",
      "adding image results/samples_gan_gp1_lr3e-5/sample-067400.png\n",
      "adding image results/samples_gan_gp1_lr3e-5/sample-067600.png\n",
      "adding image results/samples_gan_gp1_lr3e-5/sample-067800.png\n",
      "adding image results/samples_gan_gp1_lr3e-5/sample-068000.png\n",
      "adding image results/samples_gan_gp1_lr3e-5/sample-068200.png\n",
      "adding image results/samples_gan_gp1_lr3e-5/sample-068400.png\n",
      "adding image results/samples_gan_gp1_lr3e-5/sample-068600.png\n",
      "adding image results/samples_gan_gp1_lr3e-5/sample-068800.png\n",
      "adding image results/samples_gan_gp1_lr3e-5/sample-069000.png\n",
      "adding image results/samples_gan_gp1_lr3e-5/sample-069200.png\n",
      "adding image results/samples_gan_gp1_lr3e-5/sample-069400.png\n",
      "adding image results/samples_gan_gp1_lr3e-5/sample-069600.png\n",
      "adding image results/samples_gan_gp1_lr3e-5/sample-069800.png\n",
      "adding image results/samples_gan_gp1_lr3e-5/sample-070000.png\n",
      "adding image results/samples_gan_gp1_lr3e-5/sample-070200.png\n",
      "adding image results/samples_gan_gp1_lr3e-5/sample-070400.png\n",
      "adding image results/samples_gan_gp1_lr3e-5/sample-070600.png\n",
      "adding image results/samples_gan_gp1_lr3e-5/sample-070800.png\n",
      "adding image results/samples_gan_gp1_lr3e-5/sample-071000.png\n",
      "adding image results/samples_gan_gp1_lr3e-5/sample-071200.png\n",
      "adding image results/samples_gan_gp1_lr3e-5/sample-071400.png\n",
      "adding image results/samples_gan_gp1_lr3e-5/sample-071600.png\n",
      "adding image results/samples_gan_gp1_lr3e-5/sample-071800.png\n",
      "adding image results/samples_gan_gp1_lr3e-5/sample-072000.png\n",
      "adding image results/samples_gan_gp1_lr3e-5/sample-072200.png\n",
      "adding image results/samples_gan_gp1_lr3e-5/sample-072400.png\n",
      "adding image results/samples_gan_gp1_lr3e-5/sample-072600.png\n",
      "adding image results/samples_gan_gp1_lr3e-5/sample-072800.png\n",
      "adding image results/samples_gan_gp1_lr3e-5/sample-073000.png\n",
      "adding image results/samples_gan_gp1_lr3e-5/sample-073200.png\n",
      "adding image results/samples_gan_gp1_lr3e-5/sample-073400.png\n",
      "adding image results/samples_gan_gp1_lr3e-5/sample-073600.png\n",
      "adding image results/samples_gan_gp1_lr3e-5/sample-073800.png\n",
      "adding image results/samples_gan_gp1_lr3e-5/sample-074000.png\n",
      "adding image results/samples_gan_gp1_lr3e-5/sample-074200.png\n",
      "adding image results/samples_gan_gp1_lr3e-5/sample-074400.png\n",
      "adding image results/samples_gan_gp1_lr3e-5/sample-074600.png\n",
      "adding image results/samples_gan_gp1_lr3e-5/sample-074800.png\n",
      "adding image results/samples_gan_gp1_lr3e-5/sample-075000.png\n",
      "adding image results/samples_gan_gp1_lr3e-5/sample-075200.png\n",
      "adding image results/samples_gan_gp1_lr3e-5/sample-075400.png\n",
      "adding image results/samples_gan_gp1_lr3e-5/sample-075600.png\n",
      "adding image results/samples_gan_gp1_lr3e-5/sample-075800.png\n",
      "adding image results/samples_gan_gp1_lr3e-5/sample-076000.png\n",
      "adding image results/samples_gan_gp1_lr3e-5/sample-076200.png\n",
      "adding image results/samples_gan_gp1_lr3e-5/sample-076400.png\n",
      "adding image results/samples_gan_gp1_lr3e-5/sample-076600.png\n",
      "adding image results/samples_gan_gp1_lr3e-5/sample-076800.png\n",
      "adding image results/samples_gan_gp1_lr3e-5/sample-077000.png\n",
      "adding image results/samples_gan_gp1_lr3e-5/sample-077200.png\n",
      "adding image results/samples_gan_gp1_lr3e-5/sample-077400.png\n",
      "adding image results/samples_gan_gp1_lr3e-5/sample-077600.png\n",
      "adding image results/samples_gan_gp1_lr3e-5/sample-077800.png\n",
      "adding image results/samples_gan_gp1_lr3e-5/sample-078000.png\n",
      "adding image results/samples_gan_gp1_lr3e-5/sample-078200.png\n",
      "adding image results/samples_gan_gp1_lr3e-5/sample-078400.png\n",
      "adding image results/samples_gan_gp1_lr3e-5/sample-078600.png\n",
      "adding image results/samples_gan_gp1_lr3e-5/sample-078800.png\n",
      "adding image results/samples_gan_gp1_lr3e-5/sample-079000.png\n",
      "adding image results/samples_gan_gp1_lr3e-5/sample-079200.png\n",
      "adding image results/samples_gan_gp1_lr3e-5/sample-079400.png\n",
      "adding image results/samples_gan_gp1_lr3e-5/sample-079600.png\n",
      "adding image results/samples_gan_gp1_lr3e-5/sample-079800.png\n",
      "adding image results/samples_gan_gp1_lr3e-5/sample-080000.png\n",
      "adding image results/samples_gan_gp1_lr3e-5/sample-080200.png\n",
      "adding image results/samples_gan_gp1_lr3e-5/sample-080400.png\n",
      "adding image results/samples_gan_gp1_lr3e-5/sample-080600.png\n",
      "adding image results/samples_gan_gp1_lr3e-5/sample-080800.png\n",
      "adding image results/samples_gan_gp1_lr3e-5/sample-081000.png\n",
      "adding image results/samples_gan_gp1_lr3e-5/sample-081200.png\n",
      "adding image results/samples_gan_gp1_lr3e-5/sample-081400.png\n",
      "adding image results/samples_gan_gp1_lr3e-5/sample-081600.png\n",
      "adding image results/samples_gan_gp1_lr3e-5/sample-081800.png\n",
      "adding image results/samples_gan_gp1_lr3e-5/sample-082000.png\n",
      "adding image results/samples_gan_gp1_lr3e-5/sample-082200.png\n",
      "adding image results/samples_gan_gp1_lr3e-5/sample-082400.png\n",
      "adding image results/samples_gan_gp1_lr3e-5/sample-082600.png\n",
      "adding image results/samples_gan_gp1_lr3e-5/sample-082800.png\n",
      "adding image results/samples_gan_gp1_lr3e-5/sample-083000.png\n",
      "adding image results/samples_gan_gp1_lr3e-5/sample-083200.png\n",
      "adding image results/samples_gan_gp1_lr3e-5/sample-083400.png\n",
      "adding image results/samples_gan_gp1_lr3e-5/sample-083600.png\n",
      "adding image results/samples_gan_gp1_lr3e-5/sample-083800.png\n",
      "adding image results/samples_gan_gp1_lr3e-5/sample-084000.png\n",
      "adding image results/samples_gan_gp1_lr3e-5/sample-084200.png\n",
      "adding image results/samples_gan_gp1_lr3e-5/sample-084400.png\n",
      "adding image results/samples_gan_gp1_lr3e-5/sample-084600.png\n",
      "adding image results/samples_gan_gp1_lr3e-5/sample-084800.png\n",
      "adding image results/samples_gan_gp1_lr3e-5/sample-085000.png\n",
      "adding image results/samples_gan_gp1_lr3e-5/sample-085200.png\n",
      "adding image results/samples_gan_gp1_lr3e-5/sample-085400.png\n",
      "adding image results/samples_gan_gp1_lr3e-5/sample-085600.png\n",
      "adding image results/samples_gan_gp1_lr3e-5/sample-085800.png\n",
      "adding image results/samples_gan_gp1_lr3e-5/sample-086000.png\n",
      "adding image results/samples_gan_gp1_lr3e-5/sample-086200.png\n",
      "adding image results/samples_gan_gp1_lr3e-5/sample-086400.png\n",
      "adding image results/samples_gan_gp1_lr3e-5/sample-086600.png\n",
      "adding image results/samples_gan_gp1_lr3e-5/sample-086800.png\n",
      "adding image results/samples_gan_gp1_lr3e-5/sample-087000.png\n",
      "adding image results/samples_gan_gp1_lr3e-5/sample-087200.png\n",
      "adding image results/samples_gan_gp1_lr3e-5/sample-087400.png\n",
      "adding image results/samples_gan_gp1_lr3e-5/sample-087600.png\n",
      "adding image results/samples_gan_gp1_lr3e-5/sample-087800.png\n",
      "adding image results/samples_gan_gp1_lr3e-5/sample-088000.png\n",
      "adding image results/samples_gan_gp1_lr3e-5/sample-088200.png\n",
      "adding image results/samples_gan_gp1_lr3e-5/sample-088400.png\n",
      "adding image results/samples_gan_gp1_lr3e-5/sample-088600.png\n",
      "adding image results/samples_gan_gp1_lr3e-5/sample-088800.png\n",
      "adding image results/samples_gan_gp1_lr3e-5/sample-089000.png\n",
      "adding image results/samples_gan_gp1_lr3e-5/sample-089200.png\n",
      "adding image results/samples_gan_gp1_lr3e-5/sample-089400.png\n",
      "adding image results/samples_gan_gp1_lr3e-5/sample-089600.png\n",
      "adding image results/samples_gan_gp1_lr3e-5/sample-089800.png\n",
      "adding image results/samples_gan_gp1_lr3e-5/sample-090000.png\n",
      "adding image results/samples_gan_gp1_lr3e-5/sample-090200.png\n",
      "adding image results/samples_gan_gp1_lr3e-5/sample-090400.png\n",
      "adding image results/samples_gan_gp1_lr3e-5/sample-090600.png\n",
      "adding image results/samples_gan_gp1_lr3e-5/sample-090800.png\n",
      "adding image results/samples_gan_gp1_lr3e-5/sample-091000.png\n",
      "adding image results/samples_gan_gp1_lr3e-5/sample-091200.png\n",
      "adding image results/samples_gan_gp1_lr3e-5/sample-091400.png\n",
      "adding image results/samples_gan_gp1_lr3e-5/sample-091600.png\n",
      "adding image results/samples_gan_gp1_lr3e-5/sample-091800.png\n",
      "adding image results/samples_gan_gp1_lr3e-5/sample-092000.png\n",
      "adding image results/samples_gan_gp1_lr3e-5/sample-092200.png\n",
      "adding image results/samples_gan_gp1_lr3e-5/sample-092400.png\n",
      "adding image results/samples_gan_gp1_lr3e-5/sample-092600.png\n",
      "adding image results/samples_gan_gp1_lr3e-5/sample-092800.png\n",
      "adding image results/samples_gan_gp1_lr3e-5/sample-093000.png\n",
      "adding image results/samples_gan_gp1_lr3e-5/sample-093200.png\n",
      "adding image results/samples_gan_gp1_lr3e-5/sample-093400.png\n",
      "adding image results/samples_gan_gp1_lr3e-5/sample-093600.png\n",
      "adding image results/samples_gan_gp1_lr3e-5/sample-093800.png\n",
      "adding image results/samples_gan_gp1_lr3e-5/sample-094000.png\n",
      "adding image results/samples_gan_gp1_lr3e-5/sample-094200.png\n",
      "adding image results/samples_gan_gp1_lr3e-5/sample-094400.png\n",
      "adding image results/samples_gan_gp1_lr3e-5/sample-094600.png\n",
      "adding image results/samples_gan_gp1_lr3e-5/sample-094800.png\n",
      "adding image results/samples_gan_gp1_lr3e-5/sample-095000.png\n",
      "adding image results/samples_gan_gp1_lr3e-5/sample-095200.png\n",
      "adding image results/samples_gan_gp1_lr3e-5/sample-095400.png\n",
      "adding image results/samples_gan_gp1_lr3e-5/sample-095600.png\n",
      "adding image results/samples_gan_gp1_lr3e-5/sample-095800.png\n",
      "adding image results/samples_gan_gp1_lr3e-5/sample-096000.png\n",
      "adding image results/samples_gan_gp1_lr3e-5/sample-096200.png\n",
      "adding image results/samples_gan_gp1_lr3e-5/sample-096400.png\n",
      "adding image results/samples_gan_gp1_lr3e-5/sample-096600.png\n",
      "adding image results/samples_gan_gp1_lr3e-5/sample-096800.png\n",
      "adding image results/samples_gan_gp1_lr3e-5/sample-097000.png\n",
      "adding image results/samples_gan_gp1_lr3e-5/sample-097200.png\n",
      "adding image results/samples_gan_gp1_lr3e-5/sample-097400.png\n",
      "adding image results/samples_gan_gp1_lr3e-5/sample-097600.png\n",
      "adding image results/samples_gan_gp1_lr3e-5/sample-097800.png\n",
      "adding image results/samples_gan_gp1_lr3e-5/sample-098000.png\n",
      "adding image results/samples_gan_gp1_lr3e-5/sample-098200.png\n",
      "adding image results/samples_gan_gp1_lr3e-5/sample-098400.png\n",
      "adding image results/samples_gan_gp1_lr3e-5/sample-098600.png\n",
      "adding image results/samples_gan_gp1_lr3e-5/sample-098800.png\n",
      "adding image results/samples_gan_gp1_lr3e-5/sample-099000.png\n",
      "adding image results/samples_gan_gp1_lr3e-5/sample-099200.png\n",
      "adding image results/samples_gan_gp1_lr3e-5/sample-099400.png\n",
      "adding image results/samples_gan_gp1_lr3e-5/sample-099600.png\n",
      "adding image results/samples_gan_gp1_lr3e-5/sample-099800.png\n",
      "adding image results/samples_gan_gp1_lr3e-5/sample-100000.png\n",
      "adding image results/samples_gan_gp1_lr3e-5/sample-100200.png\n",
      "adding image results/samples_gan_gp1_lr3e-5/sample-100400.png\n",
      "adding image results/samples_gan_gp1_lr3e-5/sample-100600.png\n",
      "adding image results/samples_gan_gp1_lr3e-5/sample-100800.png\n",
      "adding image results/samples_gan_gp1_lr3e-5/sample-101000.png\n",
      "adding image results/samples_gan_gp1_lr3e-5/sample-101200.png\n",
      "adding image results/samples_gan_gp1_lr3e-5/sample-101400.png\n",
      "adding image results/samples_gan_gp1_lr3e-5/sample-101600.png\n",
      "adding image results/samples_gan_gp1_lr3e-5/sample-101800.png\n",
      "adding image results/samples_gan_gp1_lr3e-5/sample-102000.png\n",
      "adding image results/samples_gan_gp1_lr3e-5/sample-102200.png\n",
      "adding image results/samples_gan_gp1_lr3e-5/sample-102400.png\n",
      "adding image results/samples_gan_gp1_lr3e-5/sample-102600.png\n",
      "adding image results/samples_gan_gp1_lr3e-5/sample-102800.png\n",
      "adding image results/samples_gan_gp1_lr3e-5/sample-103000.png\n",
      "adding image results/samples_gan_gp1_lr3e-5/sample-103200.png\n",
      "adding image results/samples_gan_gp1_lr3e-5/sample-103400.png\n",
      "adding image results/samples_gan_gp1_lr3e-5/sample-103600.png\n",
      "adding image results/samples_gan_gp1_lr3e-5/sample-103800.png\n",
      "adding image results/samples_gan_gp1_lr3e-5/sample-104000.png\n",
      "adding image results/samples_gan_gp1_lr3e-5/sample-104200.png\n",
      "adding image results/samples_gan_gp1_lr3e-5/sample-104400.png\n",
      "adding image results/samples_gan_gp1_lr3e-5/sample-104600.png\n",
      "adding image results/samples_gan_gp1_lr3e-5/sample-104800.png\n",
      "adding image results/samples_gan_gp1_lr3e-5/sample-105000.png\n",
      "adding image results/samples_gan_gp1_lr3e-5/sample-105200.png\n",
      "adding image results/samples_gan_gp1_lr3e-5/sample-105400.png\n",
      "adding image results/samples_gan_gp1_lr3e-5/sample-105600.png\n",
      "adding image results/samples_gan_gp1_lr3e-5/sample-105800.png\n",
      "adding image results/samples_gan_gp1_lr3e-5/sample-106000.png\n",
      "adding image results/samples_gan_gp1_lr3e-5/sample-106200.png\n",
      "adding image results/samples_gan_gp1_lr3e-5/sample-106400.png\n",
      "adding image results/samples_gan_gp1_lr3e-5/sample-106600.png\n",
      "adding image results/samples_gan_gp1_lr3e-5/sample-106800.png\n",
      "adding image results/samples_gan_gp1_lr3e-5/sample-107000.png\n",
      "adding image results/samples_gan_gp1_lr3e-5/sample-107200.png\n",
      "adding image results/samples_gan_gp1_lr3e-5/sample-107400.png\n",
      "adding image results/samples_gan_gp1_lr3e-5/sample-107600.png\n",
      "adding image results/samples_gan_gp1_lr3e-5/sample-107800.png\n",
      "adding image results/samples_gan_gp1_lr3e-5/sample-108000.png\n",
      "adding image results/samples_gan_gp1_lr3e-5/sample-108200.png\n",
      "adding image results/samples_gan_gp1_lr3e-5/sample-108400.png\n",
      "adding image results/samples_gan_gp1_lr3e-5/sample-108600.png\n",
      "adding image results/samples_gan_gp1_lr3e-5/sample-108800.png\n",
      "adding image results/samples_gan_gp1_lr3e-5/sample-109000.png\n",
      "adding image results/samples_gan_gp1_lr3e-5/sample-109200.png\n",
      "adding image results/samples_gan_gp1_lr3e-5/sample-109400.png\n",
      "adding image results/samples_gan_gp1_lr3e-5/sample-109600.png\n",
      "adding image results/samples_gan_gp1_lr3e-5/sample-109800.png\n",
      "adding image results/samples_gan_gp1_lr3e-5/sample-110000.png\n",
      "adding image results/samples_gan_gp1_lr3e-5/sample-110200.png\n",
      "adding image results/samples_gan_gp1_lr3e-5/sample-110400.png\n",
      "adding image results/samples_gan_gp1_lr3e-5/sample-110600.png\n",
      "adding image results/samples_gan_gp1_lr3e-5/sample-110800.png\n",
      "adding image results/samples_gan_gp1_lr3e-5/sample-111000.png\n",
      "adding image results/samples_gan_gp1_lr3e-5/sample-111200.png\n",
      "adding image results/samples_gan_gp1_lr3e-5/sample-111400.png\n",
      "adding image results/samples_gan_gp1_lr3e-5/sample-111600.png\n",
      "adding image results/samples_gan_gp1_lr3e-5/sample-111800.png\n",
      "adding image results/samples_gan_gp1_lr3e-5/sample-112000.png\n",
      "adding image results/samples_gan_gp1_lr3e-5/sample-112200.png\n",
      "adding image results/samples_gan_gp1_lr3e-5/sample-112400.png\n",
      "adding image results/samples_gan_gp1_lr3e-5/sample-112600.png\n",
      "adding image results/samples_gan_gp1_lr3e-5/sample-112800.png\n",
      "adding image results/samples_gan_gp1_lr3e-5/sample-113000.png\n",
      "adding image results/samples_gan_gp1_lr3e-5/sample-113200.png\n",
      "adding image results/samples_gan_gp1_lr3e-5/sample-113400.png\n",
      "adding image results/samples_gan_gp1_lr3e-5/sample-113600.png\n",
      "adding image results/samples_gan_gp1_lr3e-5/sample-113800.png\n",
      "adding image results/samples_gan_gp1_lr3e-5/sample-114000.png\n",
      "adding image results/samples_gan_gp1_lr3e-5/sample-114200.png\n",
      "adding image results/samples_gan_gp1_lr3e-5/sample-114400.png\n",
      "adding image results/samples_gan_gp1_lr3e-5/sample-114600.png\n",
      "adding image results/samples_gan_gp1_lr3e-5/sample-114800.png\n",
      "adding image results/samples_gan_gp1_lr3e-5/sample-115000.png\n",
      "adding image results/samples_gan_gp1_lr3e-5/sample-115200.png\n",
      "adding image results/samples_gan_gp1_lr3e-5/sample-115400.png\n",
      "adding image results/samples_gan_gp1_lr3e-5/sample-115600.png\n",
      "adding image results/samples_gan_gp1_lr3e-5/sample-115800.png\n",
      "adding image results/samples_gan_gp1_lr3e-5/sample-116000.png\n",
      "adding image results/samples_gan_gp1_lr3e-5/sample-116200.png\n",
      "adding image results/samples_gan_gp1_lr3e-5/sample-116400.png\n",
      "adding image results/samples_gan_gp1_lr3e-5/sample-116600.png\n",
      "adding image results/samples_gan_gp1_lr3e-5/sample-116800.png\n",
      "adding image results/samples_gan_gp1_lr3e-5/sample-117000.png\n",
      "adding image results/samples_gan_gp1_lr3e-5/sample-117200.png\n",
      "adding image results/samples_gan_gp1_lr3e-5/sample-117400.png\n",
      "adding image results/samples_gan_gp1_lr3e-5/sample-117600.png\n",
      "adding image results/samples_gan_gp1_lr3e-5/sample-117800.png\n",
      "adding image results/samples_gan_gp1_lr3e-5/sample-118000.png\n",
      "adding image results/samples_gan_gp1_lr3e-5/sample-118200.png\n",
      "adding image results/samples_gan_gp1_lr3e-5/sample-118400.png\n",
      "adding image results/samples_gan_gp1_lr3e-5/sample-118600.png\n",
      "adding image results/samples_gan_gp1_lr3e-5/sample-118800.png\n",
      "adding image results/samples_gan_gp1_lr3e-5/sample-119000.png\n",
      "adding image results/samples_gan_gp1_lr3e-5/sample-119200.png\n",
      "adding image results/samples_gan_gp1_lr3e-5/sample-119400.png\n",
      "adding image results/samples_gan_gp1_lr3e-5/sample-119600.png\n",
      "adding image results/samples_gan_gp1_lr3e-5/sample-119800.png\n",
      "adding image results/samples_gan_gp1_lr3e-5/sample-120000.png\n",
      "adding image results/samples_gan_gp1_lr3e-5/sample-120200.png\n",
      "adding image results/samples_gan_gp1_lr3e-5/sample-120400.png\n",
      "adding image results/samples_gan_gp1_lr3e-5/sample-120600.png\n",
      "adding image results/samples_gan_gp1_lr3e-5/sample-120800.png\n",
      "adding image results/samples_gan_gp1_lr3e-5/sample-121000.png\n",
      "adding image results/samples_gan_gp1_lr3e-5/sample-121200.png\n",
      "adding image results/samples_gan_gp1_lr3e-5/sample-121400.png\n",
      "adding image results/samples_gan_gp1_lr3e-5/sample-121600.png\n",
      "adding image results/samples_gan_gp1_lr3e-5/sample-121800.png\n",
      "adding image results/samples_gan_gp1_lr3e-5/sample-122000.png\n",
      "adding image results/samples_gan_gp1_lr3e-5/sample-122200.png\n",
      "adding image results/samples_gan_gp1_lr3e-5/sample-122400.png\n",
      "adding image results/samples_gan_gp1_lr3e-5/sample-122600.png\n",
      "adding image results/samples_gan_gp1_lr3e-5/sample-122800.png\n",
      "adding image results/samples_gan_gp1_lr3e-5/sample-123000.png\n",
      "adding image results/samples_gan_gp1_lr3e-5/sample-123200.png\n",
      "adding image results/samples_gan_gp1_lr3e-5/sample-123400.png\n",
      "adding image results/samples_gan_gp1_lr3e-5/sample-123600.png\n",
      "adding image results/samples_gan_gp1_lr3e-5/sample-123800.png\n",
      "adding image results/samples_gan_gp1_lr3e-5/sample-124000.png\n",
      "adding image results/samples_gan_gp1_lr3e-5/sample-124200.png\n",
      "adding image results/samples_gan_gp1_lr3e-5/sample-124400.png\n",
      "adding image results/samples_gan_gp1_lr3e-5/sample-124600.png\n",
      "adding image results/samples_gan_gp1_lr3e-5/sample-124800.png\n",
      "adding image results/samples_gan_gp1_lr3e-5/sample-125000.png\n",
      "adding image results/samples_gan_gp1_lr3e-5/sample-125200.png\n",
      "adding image results/samples_gan_gp1_lr3e-5/sample-125400.png\n",
      "adding image results/samples_gan_gp1_lr3e-5/sample-125600.png\n",
      "adding image results/samples_gan_gp1_lr3e-5/sample-125800.png\n",
      "adding image results/samples_gan_gp1_lr3e-5/sample-126000.png\n",
      "adding image results/samples_gan_gp1_lr3e-5/sample-126200.png\n",
      "adding image results/samples_gan_gp1_lr3e-5/sample-126400.png\n",
      "adding image results/samples_gan_gp1_lr3e-5/sample-126600.png\n",
      "adding image results/samples_gan_gp1_lr3e-5/sample-126800.png\n",
      "adding image results/samples_gan_gp1_lr3e-5/sample-127000.png\n",
      "adding image results/samples_gan_gp1_lr3e-5/sample-127200.png\n",
      "adding image results/samples_gan_gp1_lr3e-5/sample-127400.png\n",
      "adding image results/samples_gan_gp1_lr3e-5/sample-127600.png\n",
      "adding image results/samples_gan_gp1_lr3e-5/sample-127800.png\n",
      "adding image results/samples_gan_gp1_lr3e-5/sample-128000.png\n",
      "adding image results/samples_gan_gp1_lr3e-5/sample-128200.png\n",
      "adding image results/samples_gan_gp1_lr3e-5/sample-128400.png\n",
      "adding image results/samples_gan_gp1_lr3e-5/sample-128600.png\n",
      "adding image results/samples_gan_gp1_lr3e-5/sample-128800.png\n",
      "adding image results/samples_gan_gp1_lr3e-5/sample-129000.png\n",
      "adding image results/samples_gan_gp1_lr3e-5/sample-129200.png\n",
      "adding image results/samples_gan_gp1_lr3e-5/sample-129400.png\n",
      "adding image results/samples_gan_gp1_lr3e-5/sample-129600.png\n",
      "adding image results/samples_gan_gp1_lr3e-5/sample-129800.png\n",
      "adding image results/samples_gan_gp1_lr3e-5/sample-130000.png\n",
      "adding image results/samples_gan_gp1_lr3e-5/sample-130200.png\n",
      "adding image results/samples_gan_gp1_lr3e-5/sample-130400.png\n",
      "adding image results/samples_gan_gp1_lr3e-5/sample-130600.png\n",
      "adding image results/samples_gan_gp1_lr3e-5/sample-130800.png\n",
      "adding image results/samples_gan_gp1_lr3e-5/sample-131000.png\n",
      "adding image results/samples_gan_gp1_lr3e-5/sample-131200.png\n",
      "adding image results/samples_gan_gp1_lr3e-5/sample-131400.png\n",
      "adding image results/samples_gan_gp1_lr3e-5/sample-131600.png\n",
      "adding image results/samples_gan_gp1_lr3e-5/sample-131800.png\n",
      "adding image results/samples_gan_gp1_lr3e-5/sample-132000.png\n",
      "adding image results/samples_gan_gp1_lr3e-5/sample-132200.png\n",
      "adding image results/samples_gan_gp1_lr3e-5/sample-132400.png\n",
      "adding image results/samples_gan_gp1_lr3e-5/sample-132600.png\n",
      "adding image results/samples_gan_gp1_lr3e-5/sample-132800.png\n",
      "adding image results/samples_gan_gp1_lr3e-5/sample-133000.png\n",
      "adding image results/samples_gan_gp1_lr3e-5/sample-133200.png\n",
      "adding image results/samples_gan_gp1_lr3e-5/sample-133400.png\n",
      "adding image results/samples_gan_gp1_lr3e-5/sample-133600.png\n",
      "adding image results/samples_gan_gp1_lr3e-5/sample-133800.png\n",
      "adding image results/samples_gan_gp1_lr3e-5/sample-134000.png\n",
      "adding image results/samples_gan_gp1_lr3e-5/sample-134200.png\n",
      "adding image results/samples_gan_gp1_lr3e-5/sample-134400.png\n",
      "adding image results/samples_gan_gp1_lr3e-5/sample-134600.png\n",
      "adding image results/samples_gan_gp1_lr3e-5/sample-134800.png\n",
      "adding image results/samples_gan_gp1_lr3e-5/sample-135000.png\n",
      "adding image results/samples_gan_gp1_lr3e-5/sample-135200.png\n",
      "adding image results/samples_gan_gp1_lr3e-5/sample-135400.png\n",
      "adding image results/samples_gan_gp1_lr3e-5/sample-135600.png\n",
      "adding image results/samples_gan_gp1_lr3e-5/sample-135800.png\n",
      "adding image results/samples_gan_gp1_lr3e-5/sample-136000.png\n",
      "adding image results/samples_gan_gp1_lr3e-5/sample-136200.png\n",
      "adding image results/samples_gan_gp1_lr3e-5/sample-136400.png\n",
      "adding image results/samples_gan_gp1_lr3e-5/sample-136600.png\n",
      "adding image results/samples_gan_gp1_lr3e-5/sample-136800.png\n",
      "adding image results/samples_gan_gp1_lr3e-5/sample-137000.png\n",
      "adding image results/samples_gan_gp1_lr3e-5/sample-137200.png\n",
      "adding image results/samples_gan_gp1_lr3e-5/sample-137400.png\n",
      "adding image results/samples_gan_gp1_lr3e-5/sample-137600.png\n",
      "adding image results/samples_gan_gp1_lr3e-5/sample-137800.png\n",
      "adding image results/samples_gan_gp1_lr3e-5/sample-138000.png\n",
      "adding image results/samples_gan_gp1_lr3e-5/sample-138200.png\n",
      "adding image results/samples_gan_gp1_lr3e-5/sample-138400.png\n",
      "adding image results/samples_gan_gp1_lr3e-5/sample-138600.png\n",
      "adding image results/samples_gan_gp1_lr3e-5/sample-138800.png\n",
      "adding image results/samples_gan_gp1_lr3e-5/sample-139000.png\n",
      "adding image results/samples_gan_gp1_lr3e-5/sample-139200.png\n",
      "adding image results/samples_gan_gp1_lr3e-5/sample-139400.png\n",
      "adding image results/samples_gan_gp1_lr3e-5/sample-139600.png\n",
      "adding image results/samples_gan_gp1_lr3e-5/sample-139800.png\n",
      "adding image results/samples_gan_gp1_lr3e-5/sample-140000.png\n",
      "adding image results/samples_gan_gp1_lr3e-5/sample-140200.png\n",
      "adding image results/samples_gan_gp1_lr3e-5/sample-140400.png\n",
      "adding image results/samples_gan_gp1_lr3e-5/sample-140600.png\n",
      "adding image results/samples_gan_gp1_lr3e-5/sample-140800.png\n",
      "adding image results/samples_gan_gp1_lr3e-5/sample-141000.png\n",
      "adding image results/samples_gan_gp1_lr3e-5/sample-141200.png\n",
      "adding image results/samples_gan_gp1_lr3e-5/sample-141400.png\n",
      "adding image results/samples_gan_gp1_lr3e-5/sample-141600.png\n",
      "adding image results/samples_gan_gp1_lr3e-5/sample-141800.png\n",
      "adding image results/samples_gan_gp1_lr3e-5/sample-142000.png\n",
      "adding image results/samples_gan_gp1_lr3e-5/sample-142200.png\n",
      "adding image results/samples_gan_gp1_lr3e-5/sample-142400.png\n",
      "adding image results/samples_gan_gp1_lr3e-5/sample-142600.png\n",
      "adding image results/samples_gan_gp1_lr3e-5/sample-142800.png\n",
      "adding image results/samples_gan_gp1_lr3e-5/sample-143000.png\n",
      "adding image results/samples_gan_gp1_lr3e-5/sample-143200.png\n",
      "adding image results/samples_gan_gp1_lr3e-5/sample-143400.png\n",
      "adding image results/samples_gan_gp1_lr3e-5/sample-143600.png\n",
      "adding image results/samples_gan_gp1_lr3e-5/sample-143800.png\n",
      "adding image results/samples_gan_gp1_lr3e-5/sample-144000.png\n",
      "adding image results/samples_gan_gp1_lr3e-5/sample-144200.png\n",
      "adding image results/samples_gan_gp1_lr3e-5/sample-144400.png\n",
      "adding image results/samples_gan_gp1_lr3e-5/sample-144600.png\n",
      "adding image results/samples_gan_gp1_lr3e-5/sample-144800.png\n",
      "adding image results/samples_gan_gp1_lr3e-5/sample-145000.png\n",
      "adding image results/samples_gan_gp1_lr3e-5/sample-145200.png\n",
      "adding image results/samples_gan_gp1_lr3e-5/sample-145400.png\n",
      "adding image results/samples_gan_gp1_lr3e-5/sample-145600.png\n",
      "adding image results/samples_gan_gp1_lr3e-5/sample-145800.png\n",
      "adding image results/samples_gan_gp1_lr3e-5/sample-146000.png\n",
      "adding image results/samples_gan_gp1_lr3e-5/sample-146200.png\n",
      "adding image results/samples_gan_gp1_lr3e-5/sample-146400.png\n",
      "adding image results/samples_gan_gp1_lr3e-5/sample-146600.png\n",
      "adding image results/samples_gan_gp1_lr3e-5/sample-146800.png\n",
      "adding image results/samples_gan_gp1_lr3e-5/sample-147000.png\n",
      "adding image results/samples_gan_gp1_lr3e-5/sample-147200.png\n",
      "adding image results/samples_gan_gp1_lr3e-5/sample-147400.png\n",
      "adding image results/samples_gan_gp1_lr3e-5/sample-147600.png\n",
      "adding image results/samples_gan_gp1_lr3e-5/sample-147800.png\n",
      "adding image results/samples_gan_gp1_lr3e-5/sample-148000.png\n",
      "adding image results/samples_gan_gp1_lr3e-5/sample-148200.png\n",
      "adding image results/samples_gan_gp1_lr3e-5/sample-148400.png\n",
      "adding image results/samples_gan_gp1_lr3e-5/sample-148600.png\n",
      "adding image results/samples_gan_gp1_lr3e-5/sample-148800.png\n",
      "adding image results/samples_gan_gp1_lr3e-5/sample-149000.png\n",
      "adding image results/samples_gan_gp1_lr3e-5/sample-149200.png\n",
      "adding image results/samples_gan_gp1_lr3e-5/sample-149400.png\n",
      "adding image results/samples_gan_gp1_lr3e-5/sample-149600.png\n",
      "adding image results/samples_gan_gp1_lr3e-5/sample-149800.png\n",
      "adding image results/samples_gan_gp1_lr3e-5/sample-150000.png\n",
      "adding image results/samples_gan_gp1_lr3e-5/sample-150200.png\n",
      "adding image results/samples_gan_gp1_lr3e-5/sample-150400.png\n",
      "adding image results/samples_gan_gp1_lr3e-5/sample-150600.png\n",
      "adding image results/samples_gan_gp1_lr3e-5/sample-150800.png\n",
      "adding image results/samples_gan_gp1_lr3e-5/sample-151000.png\n",
      "adding image results/samples_gan_gp1_lr3e-5/sample-151200.png\n",
      "adding image results/samples_gan_gp1_lr3e-5/sample-151400.png\n",
      "adding image results/samples_gan_gp1_lr3e-5/sample-151600.png\n",
      "adding image results/samples_gan_gp1_lr3e-5/sample-151800.png\n",
      "adding image results/samples_gan_gp1_lr3e-5/sample-152000.png\n",
      "adding image results/samples_gan_gp1_lr3e-5/sample-152200.png\n",
      "adding image results/samples_gan_gp1_lr3e-5/sample-152400.png\n",
      "adding image results/samples_gan_gp1_lr3e-5/sample-152600.png\n",
      "adding image results/samples_gan_gp1_lr3e-5/sample-152800.png\n",
      "adding image results/samples_gan_gp1_lr3e-5/sample-153000.png\n",
      "adding image results/samples_gan_gp1_lr3e-5/sample-153200.png\n",
      "adding image results/samples_gan_gp1_lr3e-5/sample-153400.png\n",
      "adding image results/samples_gan_gp1_lr3e-5/sample-153600.png\n",
      "adding image results/samples_gan_gp1_lr3e-5/sample-153800.png\n",
      "adding image results/samples_gan_gp1_lr3e-5/sample-154000.png\n",
      "adding image results/samples_gan_gp1_lr3e-5/sample-154200.png\n",
      "adding image results/samples_gan_gp1_lr3e-5/sample-154400.png\n",
      "adding image results/samples_gan_gp1_lr3e-5/sample-154600.png\n",
      "adding image results/samples_gan_gp1_lr3e-5/sample-154800.png\n",
      "adding image results/samples_gan_gp1_lr3e-5/sample-155000.png\n",
      "adding image results/samples_gan_gp1_lr3e-5/sample-155200.png\n",
      "adding image results/samples_gan_gp1_lr3e-5/sample-155400.png\n",
      "adding image results/samples_gan_gp1_lr3e-5/sample-155600.png\n",
      "adding image results/samples_gan_gp1_lr3e-5/sample-155800.png\n",
      "adding image results/samples_gan_gp1_lr3e-5/sample-156000.png\n",
      "adding image results/samples_gan_gp1_lr3e-5/sample-156200.png\n",
      "adding image results/samples_gan_gp1_lr3e-5/sample-156400.png\n",
      "adding image results/samples_gan_gp1_lr3e-5/sample-156600.png\n",
      "adding image results/samples_gan_gp1_lr3e-5/sample-156800.png\n",
      "adding image results/samples_gan_gp1_lr3e-5/sample-157000.png\n",
      "adding image results/samples_gan_gp1_lr3e-5/sample-157200.png\n",
      "adding image results/samples_gan_gp1_lr3e-5/sample-157400.png\n",
      "adding image results/samples_gan_gp1_lr3e-5/sample-157600.png\n",
      "adding image results/samples_gan_gp1_lr3e-5/sample-157800.png\n",
      "adding image results/samples_gan_gp1_lr3e-5/sample-158000.png\n",
      "adding image results/samples_gan_gp1_lr3e-5/sample-158200.png\n",
      "adding image results/samples_gan_gp1_lr3e-5/sample-158400.png\n",
      "adding image results/samples_gan_gp1_lr3e-5/sample-158600.png\n",
      "adding image results/samples_gan_gp1_lr3e-5/sample-158800.png\n",
      "adding image results/samples_gan_gp1_lr3e-5/sample-159000.png\n",
      "adding image results/samples_gan_gp1_lr3e-5/sample-159200.png\n",
      "adding image results/samples_gan_gp1_lr3e-5/sample-159400.png\n",
      "adding image results/samples_gan_gp1_lr3e-5/sample-159600.png\n",
      "adding image results/samples_gan_gp1_lr3e-5/sample-159800.png\n",
      "adding image results/samples_gan_gp1_lr3e-5/sample-160000.png\n",
      "adding image results/samples_gan_gp1_lr3e-5/sample-160200.png\n",
      "adding image results/samples_gan_gp1_lr3e-5/sample-160400.png\n",
      "adding image results/samples_gan_gp1_lr3e-5/sample-160600.png\n",
      "adding image results/samples_gan_gp1_lr3e-5/sample-160800.png\n",
      "adding image results/samples_gan_gp1_lr3e-5/sample-161000.png\n",
      "adding image results/samples_gan_gp1_lr3e-5/sample-161200.png\n",
      "adding image results/samples_gan_gp1_lr3e-5/sample-161400.png\n",
      "adding image results/samples_gan_gp1_lr3e-5/sample-161600.png\n",
      "adding image results/samples_gan_gp1_lr3e-5/sample-161800.png\n",
      "adding image results/samples_gan_gp1_lr3e-5/sample-162000.png\n",
      "adding image results/samples_gan_gp1_lr3e-5/sample-162200.png\n",
      "adding image results/samples_gan_gp1_lr3e-5/sample-162400.png\n",
      "adding image results/samples_gan_gp1_lr3e-5/sample-162600.png\n",
      "adding image results/samples_gan_gp1_lr3e-5/sample-162800.png\n",
      "adding image results/samples_gan_gp1_lr3e-5/sample-163000.png\n",
      "adding image results/samples_gan_gp1_lr3e-5/sample-163200.png\n",
      "adding image results/samples_gan_gp1_lr3e-5/sample-163400.png\n",
      "adding image results/samples_gan_gp1_lr3e-5/sample-163600.png\n",
      "adding image results/samples_gan_gp1_lr3e-5/sample-163800.png\n",
      "adding image results/samples_gan_gp1_lr3e-5/sample-164000.png\n",
      "adding image results/samples_gan_gp1_lr3e-5/sample-164200.png\n",
      "adding image results/samples_gan_gp1_lr3e-5/sample-164400.png\n",
      "adding image results/samples_gan_gp1_lr3e-5/sample-164600.png\n",
      "adding image results/samples_gan_gp1_lr3e-5/sample-164800.png\n",
      "adding image results/samples_gan_gp1_lr3e-5/sample-165000.png\n",
      "adding image results/samples_gan_gp1_lr3e-5/sample-165200.png\n",
      "adding image results/samples_gan_gp1_lr3e-5/sample-165400.png\n",
      "adding image results/samples_gan_gp1_lr3e-5/sample-165600.png\n",
      "adding image results/samples_gan_gp1_lr3e-5/sample-165800.png\n",
      "adding image results/samples_gan_gp1_lr3e-5/sample-166000.png\n",
      "adding image results/samples_gan_gp1_lr3e-5/sample-166200.png\n",
      "adding image results/samples_gan_gp1_lr3e-5/sample-166400.png\n",
      "adding image results/samples_gan_gp1_lr3e-5/sample-166600.png\n",
      "adding image results/samples_gan_gp1_lr3e-5/sample-166800.png\n",
      "adding image results/samples_gan_gp1_lr3e-5/sample-167000.png\n",
      "adding image results/samples_gan_gp1_lr3e-5/sample-167200.png\n",
      "adding image results/samples_gan_gp1_lr3e-5/sample-167400.png\n",
      "adding image results/samples_gan_gp1_lr3e-5/sample-167600.png\n",
      "adding image results/samples_gan_gp1_lr3e-5/sample-167800.png\n",
      "adding image results/samples_gan_gp1_lr3e-5/sample-168000.png\n",
      "adding image results/samples_gan_gp1_lr3e-5/sample-168200.png\n",
      "adding image results/samples_gan_gp1_lr3e-5/sample-168400.png\n",
      "adding image results/samples_gan_gp1_lr3e-5/sample-168600.png\n",
      "adding image results/samples_gan_gp1_lr3e-5/sample-168800.png\n",
      "adding image results/samples_gan_gp1_lr3e-5/sample-169000.png\n",
      "adding image results/samples_gan_gp1_lr3e-5/sample-169200.png\n",
      "adding image results/samples_gan_gp1_lr3e-5/sample-169400.png\n",
      "adding image results/samples_gan_gp1_lr3e-5/sample-169600.png\n",
      "adding image results/samples_gan_gp1_lr3e-5/sample-169800.png\n",
      "adding image results/samples_gan_gp1_lr3e-5/sample-170000.png\n",
      "adding image results/samples_gan_gp1_lr3e-5/sample-170200.png\n",
      "adding image results/samples_gan_gp1_lr3e-5/sample-170400.png\n",
      "adding image results/samples_gan_gp1_lr3e-5/sample-170600.png\n",
      "adding image results/samples_gan_gp1_lr3e-5/sample-170800.png\n",
      "adding image results/samples_gan_gp1_lr3e-5/sample-171000.png\n",
      "adding image results/samples_gan_gp1_lr3e-5/sample-171200.png\n",
      "adding image results/samples_gan_gp1_lr3e-5/sample-171400.png\n",
      "adding image results/samples_gan_gp1_lr3e-5/sample-171600.png\n",
      "adding image results/samples_gan_gp1_lr3e-5/sample-171800.png\n",
      "adding image results/samples_gan_gp1_lr3e-5/sample-172000.png\n",
      "adding image results/samples_gan_gp1_lr3e-5/sample-172200.png\n",
      "adding image results/samples_gan_gp1_lr3e-5/sample-172400.png\n",
      "adding image results/samples_gan_gp1_lr3e-5/sample-172600.png\n",
      "adding image results/samples_gan_gp1_lr3e-5/sample-172800.png\n",
      "adding image results/samples_gan_gp1_lr3e-5/sample-173000.png\n",
      "adding image results/samples_gan_gp1_lr3e-5/sample-173200.png\n",
      "adding image results/samples_gan_gp1_lr3e-5/sample-173400.png\n",
      "adding image results/samples_gan_gp1_lr3e-5/sample-173600.png\n",
      "adding image results/samples_gan_gp1_lr3e-5/sample-173800.png\n",
      "adding image results/samples_gan_gp1_lr3e-5/sample-174000.png\n",
      "adding image results/samples_gan_gp1_lr3e-5/sample-174200.png\n",
      "adding image results/samples_gan_gp1_lr3e-5/sample-174400.png\n",
      "adding image results/samples_gan_gp1_lr3e-5/sample-174600.png\n",
      "adding image results/samples_gan_gp1_lr3e-5/sample-174800.png\n",
      "adding image results/samples_gan_gp1_lr3e-5/sample-175000.png\n",
      "adding image results/samples_gan_gp1_lr3e-5/sample-175200.png\n",
      "adding image results/samples_gan_gp1_lr3e-5/sample-175400.png\n",
      "adding image results/samples_gan_gp1_lr3e-5/sample-175600.png\n",
      "adding image results/samples_gan_gp1_lr3e-5/sample-175800.png\n",
      "adding image results/samples_gan_gp1_lr3e-5/sample-176000.png\n",
      "adding image results/samples_gan_gp1_lr3e-5/sample-176200.png\n",
      "adding image results/samples_gan_gp1_lr3e-5/sample-176400.png\n",
      "adding image results/samples_gan_gp1_lr3e-5/sample-176600.png\n",
      "adding image results/samples_gan_gp1_lr3e-5/sample-176800.png\n",
      "adding image results/samples_gan_gp1_lr3e-5/sample-177000.png\n",
      "adding image results/samples_gan_gp1_lr3e-5/sample-177200.png\n",
      "adding image results/samples_gan_gp1_lr3e-5/sample-177400.png\n",
      "adding image results/samples_gan_gp1_lr3e-5/sample-177600.png\n",
      "adding image results/samples_gan_gp1_lr3e-5/sample-177800.png\n",
      "adding image results/samples_gan_gp1_lr3e-5/sample-178000.png\n",
      "adding image results/samples_gan_gp1_lr3e-5/sample-178200.png\n",
      "adding image results/samples_gan_gp1_lr3e-5/sample-178400.png\n",
      "adding image results/samples_gan_gp1_lr3e-5/sample-178600.png\n",
      "adding image results/samples_gan_gp1_lr3e-5/sample-178800.png\n",
      "adding image results/samples_gan_gp1_lr3e-5/sample-179000.png\n",
      "adding image results/samples_gan_gp1_lr3e-5/sample-179200.png\n",
      "adding image results/samples_gan_gp1_lr3e-5/sample-179400.png\n",
      "adding image results/samples_gan_gp1_lr3e-5/sample-179600.png\n",
      "adding image results/samples_gan_gp1_lr3e-5/sample-179800.png\n",
      "adding image results/samples_gan_gp1_lr3e-5/sample-180000.png\n",
      "adding image results/samples_gan_gp1_lr3e-5/sample-180200.png\n",
      "adding image results/samples_gan_gp1_lr3e-5/sample-180400.png\n",
      "adding image results/samples_gan_gp1_lr3e-5/sample-180600.png\n",
      "adding image results/samples_gan_gp1_lr3e-5/sample-180800.png\n",
      "adding image results/samples_gan_gp1_lr3e-5/sample-181000.png\n",
      "adding image results/samples_gan_gp1_lr3e-5/sample-181200.png\n",
      "adding image results/samples_gan_gp1_lr3e-5/sample-181400.png\n",
      "adding image results/samples_gan_gp1_lr3e-5/sample-181600.png\n",
      "adding image results/samples_gan_gp1_lr3e-5/sample-181800.png\n",
      "adding image results/samples_gan_gp1_lr3e-5/sample-182000.png\n",
      "adding image results/samples_gan_gp1_lr3e-5/sample-182200.png\n",
      "adding image results/samples_gan_gp1_lr3e-5/sample-182400.png\n",
      "adding image results/samples_gan_gp1_lr3e-5/sample-182600.png\n",
      "adding image results/samples_gan_gp1_lr3e-5/sample-182800.png\n",
      "adding image results/samples_gan_gp1_lr3e-5/sample-183000.png\n",
      "adding image results/samples_gan_gp1_lr3e-5/sample-183200.png\n",
      "adding image results/samples_gan_gp1_lr3e-5/sample-183400.png\n",
      "adding image results/samples_gan_gp1_lr3e-5/sample-183600.png\n",
      "adding image results/samples_gan_gp1_lr3e-5/sample-183800.png\n",
      "adding image results/samples_gan_gp1_lr3e-5/sample-184000.png\n",
      "adding image results/samples_gan_gp1_lr3e-5/sample-184200.png\n",
      "adding image results/samples_gan_gp1_lr3e-5/sample-184400.png\n",
      "adding image results/samples_gan_gp1_lr3e-5/sample-184600.png\n",
      "adding image results/samples_gan_gp1_lr3e-5/sample-184800.png\n",
      "adding image results/samples_gan_gp1_lr3e-5/sample-185000.png\n",
      "adding image results/samples_gan_gp1_lr3e-5/sample-185200.png\n",
      "adding image results/samples_gan_gp1_lr3e-5/sample-185400.png\n",
      "adding image results/samples_gan_gp1_lr3e-5/sample-185600.png\n",
      "adding image results/samples_gan_gp1_lr3e-5/sample-185800.png\n",
      "adding image results/samples_gan_gp1_lr3e-5/sample-186000.png\n",
      "adding image results/samples_gan_gp1_lr3e-5/sample-186200.png\n",
      "adding image results/samples_gan_gp1_lr3e-5/sample-186400.png\n",
      "adding image results/samples_gan_gp1_lr3e-5/sample-186600.png\n",
      "adding image results/samples_gan_gp1_lr3e-5/sample-186800.png\n",
      "adding image results/samples_gan_gp1_lr3e-5/sample-187000.png\n",
      "adding image results/samples_gan_gp1_lr3e-5/sample-187200.png\n",
      "adding image results/samples_gan_gp1_lr3e-5/sample-187400.png\n",
      "adding image results/samples_gan_gp1_lr3e-5/sample-187600.png\n",
      "adding image results/samples_gan_gp1_lr3e-5/sample-187800.png\n",
      "adding image results/samples_gan_gp1_lr3e-5/sample-188000.png\n",
      "adding image results/samples_gan_gp1_lr3e-5/sample-188200.png\n",
      "adding image results/samples_gan_gp1_lr3e-5/sample-188400.png\n",
      "adding image results/samples_gan_gp1_lr3e-5/sample-188600.png\n",
      "adding image results/samples_gan_gp1_lr3e-5/sample-188800.png\n",
      "adding image results/samples_gan_gp1_lr3e-5/sample-189000.png\n",
      "adding image results/samples_gan_gp1_lr3e-5/sample-189200.png\n",
      "adding image results/samples_gan_gp1_lr3e-5/sample-189400.png\n",
      "adding image results/samples_gan_gp1_lr3e-5/sample-189600.png\n",
      "adding image results/samples_gan_gp1_lr3e-5/sample-189800.png\n",
      "adding image results/samples_gan_gp1_lr3e-5/sample-190000.png\n",
      "adding image results/samples_gan_gp1_lr3e-5/sample-190200.png\n",
      "adding image results/samples_gan_gp1_lr3e-5/sample-190400.png\n",
      "adding image results/samples_gan_gp1_lr3e-5/sample-190600.png\n",
      "adding image results/samples_gan_gp1_lr3e-5/sample-190800.png\n",
      "adding image results/samples_gan_gp1_lr3e-5/sample-191000.png\n",
      "adding image results/samples_gan_gp1_lr3e-5/sample-191200.png\n",
      "adding image results/samples_gan_gp1_lr3e-5/sample-191400.png\n",
      "adding image results/samples_gan_gp1_lr3e-5/sample-191600.png\n",
      "adding image results/samples_gan_gp1_lr3e-5/sample-191800.png\n",
      "adding image results/samples_gan_gp1_lr3e-5/sample-192000.png\n",
      "adding image results/samples_gan_gp1_lr3e-5/sample-192200.png\n",
      "adding image results/samples_gan_gp1_lr3e-5/sample-192400.png\n",
      "adding image results/samples_gan_gp1_lr3e-5/sample-192600.png\n"
     ]
    }
   ],
   "source": [
    "SEED = 11\n",
    "\n",
    "# Set the random seed manually for reproducibility.\n",
    "np.random.seed(SEED)\n",
    "torch.manual_seed(SEED)\n",
    "if torch.cuda.is_available():\n",
    "    torch.cuda.manual_seed(SEED)\n",
    "\n",
    "\n",
    "args = AttrDict()\n",
    "args_dict = {\n",
    "              'clip': .01,\n",
    "              'n_critic': 5,\n",
    "              'image_size':32, \n",
    "              'g_conv_dim':32, \n",
    "              'd_conv_dim':64,\n",
    "              'noise_size':100,\n",
    "              'num_workers': 0,\n",
    "              'train_iters':300000,\n",
    "              'X':'letters',  # options: 'Windows' / 'Apple'\n",
    "              'Y': None,\n",
    "              'lr':5e-5,\n",
    "              'beta1':0.5,\n",
    "              'beta2':0.999,\n",
    "              'batch_size':64, \n",
    "              'checkpoint_dir':'./results/checkpoints_gan_gp1_lr3e-5',\n",
    "              'sample_dir': './results/samples_gan_gp1_lr3e-5',\n",
    "              'load': None,\n",
    "              'log_step':200,\n",
    "              'sample_every':200,\n",
    "              'checkpoint_every':1000,\n",
    "              'spectral_norm': False,\n",
    "              'gradient_penalty': False,\n",
    "              'd_train_iters': 1\n",
    "}\n",
    "args.update(args_dict)\n",
    "\n",
    "print_opts(args)\n",
    "G, D = train(args)\n",
    "\n",
    "generate_gif(\"results/samples_gan_gp1_lr3e-5\")"
   ]
  },
  {
   "cell_type": "code",
   "execution_count": 76,
   "metadata": {},
   "outputs": [
    {
     "data": {
      "text/plain": [
       "True"
      ]
     },
     "execution_count": 76,
     "metadata": {},
     "output_type": "execute_result"
    }
   ],
   "source": [
    "torch.cuda.is_available()"
   ]
  },
  {
   "cell_type": "code",
   "execution_count": 77,
   "metadata": {
    "id": "9kv3lpgUhn_u"
   },
   "outputs": [
    {
     "name": "stdout",
     "output_type": "stream",
     "text": [
      "ERROR! Session/line number was not unique in database. History logging moved to new session 96\n"
     ]
    },
    {
     "data": {
      "text/plain": [
       "'NVIDIA GeForce GTX 1080 Ti'"
      ]
     },
     "execution_count": 77,
     "metadata": {},
     "output_type": "execute_result"
    }
   ],
   "source": [
    "torch.cuda.device(0)\n",
    "torch.cuda.get_device_name(0)"
   ]
  },
  {
   "cell_type": "code",
   "execution_count": 78,
   "metadata": {},
   "outputs": [
    {
     "data": {
      "text/plain": [
       "'11.1'"
      ]
     },
     "execution_count": 78,
     "metadata": {},
     "output_type": "execute_result"
    }
   ],
   "source": [
    "torch.version.cuda"
   ]
  },
  {
   "cell_type": "code",
   "execution_count": 79,
   "metadata": {},
   "outputs": [
    {
     "data": {
      "text/plain": [
       "tensor([], device='cuda:0')"
      ]
     },
     "execution_count": 79,
     "metadata": {},
     "output_type": "execute_result"
    }
   ],
   "source": [
    "torch.cuda.FloatTensor()"
   ]
  },
  {
   "cell_type": "code",
   "execution_count": 11,
   "metadata": {},
   "outputs": [
    {
     "ename": "FileNotFoundError",
     "evalue": "[Errno 2] No such file or directory: './results/samples_gan_gp1_lr3e-5/G.pkl'",
     "output_type": "error",
     "traceback": [
      "\u001b[0;31m---------------------------------------------------------------------------\u001b[0m",
      "\u001b[0;31mFileNotFoundError\u001b[0m                         Traceback (most recent call last)",
      "\u001b[0;32m<ipython-input-11-3e0233a75fc7>\u001b[0m in \u001b[0;36m<module>\u001b[0;34m\u001b[0m\n\u001b[1;32m     27\u001b[0m \u001b[0mload_args\u001b[0m\u001b[0;34m.\u001b[0m\u001b[0mupdate\u001b[0m\u001b[0;34m(\u001b[0m\u001b[0margs_dict\u001b[0m\u001b[0;34m)\u001b[0m\u001b[0;34m\u001b[0m\u001b[0;34m\u001b[0m\u001b[0m\n\u001b[1;32m     28\u001b[0m \u001b[0;34m\u001b[0m\u001b[0m\n\u001b[0;32m---> 29\u001b[0;31m \u001b[0mD\u001b[0m\u001b[0;34m,\u001b[0m\u001b[0mG\u001b[0m \u001b[0;34m=\u001b[0m \u001b[0mload_checkpoint\u001b[0m\u001b[0;34m(\u001b[0m\u001b[0mload_args\u001b[0m\u001b[0;34m)\u001b[0m\u001b[0;34m\u001b[0m\u001b[0;34m\u001b[0m\u001b[0m\n\u001b[0m",
      "\u001b[0;32m<ipython-input-2-f7e27de55a03>\u001b[0m in \u001b[0;36mload_checkpoint\u001b[0;34m(opts)\u001b[0m\n\u001b[1;32m    118\u001b[0m     \u001b[0mD\u001b[0m \u001b[0;34m=\u001b[0m \u001b[0mDCDiscriminator\u001b[0m\u001b[0;34m(\u001b[0m\u001b[0mconv_dim\u001b[0m\u001b[0;34m=\u001b[0m\u001b[0mopts\u001b[0m\u001b[0;34m.\u001b[0m\u001b[0md_conv_dim\u001b[0m\u001b[0;34m)\u001b[0m\u001b[0;34m\u001b[0m\u001b[0;34m\u001b[0m\u001b[0m\n\u001b[1;32m    119\u001b[0m \u001b[0;34m\u001b[0m\u001b[0m\n\u001b[0;32m--> 120\u001b[0;31m     \u001b[0mG\u001b[0m\u001b[0;34m.\u001b[0m\u001b[0mload_state_dict\u001b[0m\u001b[0;34m(\u001b[0m\u001b[0mtorch\u001b[0m\u001b[0;34m.\u001b[0m\u001b[0mload\u001b[0m\u001b[0;34m(\u001b[0m\u001b[0mG_path\u001b[0m\u001b[0;34m,\u001b[0m \u001b[0mmap_location\u001b[0m\u001b[0;34m=\u001b[0m\u001b[0;32mlambda\u001b[0m \u001b[0mstorage\u001b[0m\u001b[0;34m,\u001b[0m \u001b[0mloc\u001b[0m\u001b[0;34m:\u001b[0m \u001b[0mstorage\u001b[0m\u001b[0;34m)\u001b[0m\u001b[0;34m)\u001b[0m\u001b[0;34m\u001b[0m\u001b[0;34m\u001b[0m\u001b[0m\n\u001b[0m\u001b[1;32m    121\u001b[0m     \u001b[0mD\u001b[0m\u001b[0;34m.\u001b[0m\u001b[0mload_state_dict\u001b[0m\u001b[0;34m(\u001b[0m\u001b[0mtorch\u001b[0m\u001b[0;34m.\u001b[0m\u001b[0mload\u001b[0m\u001b[0;34m(\u001b[0m\u001b[0mD_path\u001b[0m\u001b[0;34m,\u001b[0m \u001b[0mmap_location\u001b[0m\u001b[0;34m=\u001b[0m\u001b[0;32mlambda\u001b[0m \u001b[0mstorage\u001b[0m\u001b[0;34m,\u001b[0m \u001b[0mloc\u001b[0m\u001b[0;34m:\u001b[0m \u001b[0mstorage\u001b[0m\u001b[0;34m)\u001b[0m\u001b[0;34m)\u001b[0m\u001b[0;34m\u001b[0m\u001b[0;34m\u001b[0m\u001b[0m\n\u001b[1;32m    122\u001b[0m \u001b[0;34m\u001b[0m\u001b[0m\n",
      "\u001b[0;32m~/miniconda3/lib/python3.8/site-packages/torch/serialization.py\u001b[0m in \u001b[0;36mload\u001b[0;34m(f, map_location, pickle_module, **pickle_load_args)\u001b[0m\n\u001b[1;32m    577\u001b[0m         \u001b[0mpickle_load_args\u001b[0m\u001b[0;34m[\u001b[0m\u001b[0;34m'encoding'\u001b[0m\u001b[0;34m]\u001b[0m \u001b[0;34m=\u001b[0m \u001b[0;34m'utf-8'\u001b[0m\u001b[0;34m\u001b[0m\u001b[0;34m\u001b[0m\u001b[0m\n\u001b[1;32m    578\u001b[0m \u001b[0;34m\u001b[0m\u001b[0m\n\u001b[0;32m--> 579\u001b[0;31m     \u001b[0;32mwith\u001b[0m \u001b[0m_open_file_like\u001b[0m\u001b[0;34m(\u001b[0m\u001b[0mf\u001b[0m\u001b[0;34m,\u001b[0m \u001b[0;34m'rb'\u001b[0m\u001b[0;34m)\u001b[0m \u001b[0;32mas\u001b[0m \u001b[0mopened_file\u001b[0m\u001b[0;34m:\u001b[0m\u001b[0;34m\u001b[0m\u001b[0;34m\u001b[0m\u001b[0m\n\u001b[0m\u001b[1;32m    580\u001b[0m         \u001b[0;32mif\u001b[0m \u001b[0m_is_zipfile\u001b[0m\u001b[0;34m(\u001b[0m\u001b[0mopened_file\u001b[0m\u001b[0;34m)\u001b[0m\u001b[0;34m:\u001b[0m\u001b[0;34m\u001b[0m\u001b[0;34m\u001b[0m\u001b[0m\n\u001b[1;32m    581\u001b[0m             \u001b[0;31m# The zipfile reader is going to advance the current file position.\u001b[0m\u001b[0;34m\u001b[0m\u001b[0;34m\u001b[0m\u001b[0;34m\u001b[0m\u001b[0m\n",
      "\u001b[0;32m~/miniconda3/lib/python3.8/site-packages/torch/serialization.py\u001b[0m in \u001b[0;36m_open_file_like\u001b[0;34m(name_or_buffer, mode)\u001b[0m\n\u001b[1;32m    228\u001b[0m \u001b[0;32mdef\u001b[0m \u001b[0m_open_file_like\u001b[0m\u001b[0;34m(\u001b[0m\u001b[0mname_or_buffer\u001b[0m\u001b[0;34m,\u001b[0m \u001b[0mmode\u001b[0m\u001b[0;34m)\u001b[0m\u001b[0;34m:\u001b[0m\u001b[0;34m\u001b[0m\u001b[0;34m\u001b[0m\u001b[0m\n\u001b[1;32m    229\u001b[0m     \u001b[0;32mif\u001b[0m \u001b[0m_is_path\u001b[0m\u001b[0;34m(\u001b[0m\u001b[0mname_or_buffer\u001b[0m\u001b[0;34m)\u001b[0m\u001b[0;34m:\u001b[0m\u001b[0;34m\u001b[0m\u001b[0;34m\u001b[0m\u001b[0m\n\u001b[0;32m--> 230\u001b[0;31m         \u001b[0;32mreturn\u001b[0m \u001b[0m_open_file\u001b[0m\u001b[0;34m(\u001b[0m\u001b[0mname_or_buffer\u001b[0m\u001b[0;34m,\u001b[0m \u001b[0mmode\u001b[0m\u001b[0;34m)\u001b[0m\u001b[0;34m\u001b[0m\u001b[0;34m\u001b[0m\u001b[0m\n\u001b[0m\u001b[1;32m    231\u001b[0m     \u001b[0;32melse\u001b[0m\u001b[0;34m:\u001b[0m\u001b[0;34m\u001b[0m\u001b[0;34m\u001b[0m\u001b[0m\n\u001b[1;32m    232\u001b[0m         \u001b[0;32mif\u001b[0m \u001b[0;34m'w'\u001b[0m \u001b[0;32min\u001b[0m \u001b[0mmode\u001b[0m\u001b[0;34m:\u001b[0m\u001b[0;34m\u001b[0m\u001b[0;34m\u001b[0m\u001b[0m\n",
      "\u001b[0;32m~/miniconda3/lib/python3.8/site-packages/torch/serialization.py\u001b[0m in \u001b[0;36m__init__\u001b[0;34m(self, name, mode)\u001b[0m\n\u001b[1;32m    209\u001b[0m \u001b[0;32mclass\u001b[0m \u001b[0m_open_file\u001b[0m\u001b[0;34m(\u001b[0m\u001b[0m_opener\u001b[0m\u001b[0;34m)\u001b[0m\u001b[0;34m:\u001b[0m\u001b[0;34m\u001b[0m\u001b[0;34m\u001b[0m\u001b[0m\n\u001b[1;32m    210\u001b[0m     \u001b[0;32mdef\u001b[0m \u001b[0m__init__\u001b[0m\u001b[0;34m(\u001b[0m\u001b[0mself\u001b[0m\u001b[0;34m,\u001b[0m \u001b[0mname\u001b[0m\u001b[0;34m,\u001b[0m \u001b[0mmode\u001b[0m\u001b[0;34m)\u001b[0m\u001b[0;34m:\u001b[0m\u001b[0;34m\u001b[0m\u001b[0;34m\u001b[0m\u001b[0m\n\u001b[0;32m--> 211\u001b[0;31m         \u001b[0msuper\u001b[0m\u001b[0;34m(\u001b[0m\u001b[0m_open_file\u001b[0m\u001b[0;34m,\u001b[0m \u001b[0mself\u001b[0m\u001b[0;34m)\u001b[0m\u001b[0;34m.\u001b[0m\u001b[0m__init__\u001b[0m\u001b[0;34m(\u001b[0m\u001b[0mopen\u001b[0m\u001b[0;34m(\u001b[0m\u001b[0mname\u001b[0m\u001b[0;34m,\u001b[0m \u001b[0mmode\u001b[0m\u001b[0;34m)\u001b[0m\u001b[0;34m)\u001b[0m\u001b[0;34m\u001b[0m\u001b[0;34m\u001b[0m\u001b[0m\n\u001b[0m\u001b[1;32m    212\u001b[0m \u001b[0;34m\u001b[0m\u001b[0m\n\u001b[1;32m    213\u001b[0m     \u001b[0;32mdef\u001b[0m \u001b[0m__exit__\u001b[0m\u001b[0;34m(\u001b[0m\u001b[0mself\u001b[0m\u001b[0;34m,\u001b[0m \u001b[0;34m*\u001b[0m\u001b[0margs\u001b[0m\u001b[0;34m)\u001b[0m\u001b[0;34m:\u001b[0m\u001b[0;34m\u001b[0m\u001b[0;34m\u001b[0m\u001b[0m\n",
      "\u001b[0;31mFileNotFoundError\u001b[0m: [Errno 2] No such file or directory: './results/samples_gan_gp1_lr3e-5/G.pkl'"
     ]
    }
   ],
   "source": [
    "load_args = AttrDict()\n",
    "args_dict = {\n",
    "              'clip': .01,\n",
    "              'n_critic': 5,\n",
    "              'image_size':32, \n",
    "              'g_conv_dim':32, \n",
    "              'd_conv_dim':64,\n",
    "              'noise_size':100,\n",
    "              'num_workers': 0,\n",
    "              'train_iters':300000,\n",
    "              'X':'letters',  # options: 'Windows' / 'Apple'\n",
    "              'Y': None,\n",
    "              'lr':5e-5,\n",
    "              'beta1':0.5,\n",
    "              'beta2':0.999,\n",
    "              'batch_size':64, \n",
    "              'checkpoint_dir':'./results/checkpoints_gan_gp1_lr3e-5',\n",
    "              'sample_dir': './results/samples_gan_gp1_lr3e-5',\n",
    "              'load': './results/samples_gan_gp1_lr3e-5',\n",
    "              'log_step':200,\n",
    "              'sample_every':200,\n",
    "              'checkpoint_every':1000,\n",
    "              'spectral_norm': False,\n",
    "              'gradient_penalty': False,\n",
    "              'd_train_iters': 1\n",
    "}\n",
    "load_args.update(args_dict)\n",
    "\n",
    "D,G = load_checkpoint(load_args)"
   ]
  },
  {
   "cell_type": "code",
   "execution_count": null,
   "metadata": {},
   "outputs": [],
   "source": []
  }
 ],
 "metadata": {
  "accelerator": "GPU",
  "colab": {
   "collapsed_sections": [],
   "name": "Part 1: WGAN",
   "provenance": [],
   "toc_visible": true
  },
  "kernelspec": {
   "display_name": "Python 3",
   "language": "python",
   "name": "python3"
  },
  "language_info": {
   "codemirror_mode": {
    "name": "ipython",
    "version": 3
   },
   "file_extension": ".py",
   "mimetype": "text/x-python",
   "name": "python",
   "nbconvert_exporter": "python",
   "pygments_lexer": "ipython3",
   "version": "3.8.5"
  }
 },
 "nbformat": 4,
 "nbformat_minor": 4
}
