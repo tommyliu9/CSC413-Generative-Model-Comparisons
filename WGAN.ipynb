{
  "nbformat": 4,
  "nbformat_minor": 0,
  "metadata": {
    "accelerator": "GPU",
    "colab": {
      "name": "Part 1: WGAN",
      "provenance": [],
      "collapsed_sections": [],
      "toc_visible": true
    },
    "kernelspec": {
      "display_name": "Python 3",
      "language": "python",
      "name": "python3"
    },
    "language_info": {
      "codemirror_mode": {
        "name": "ipython",
        "version": 3
      },
      "file_extension": ".py",
      "mimetype": "text/x-python",
      "name": "python",
      "nbconvert_exporter": "python",
      "pygments_lexer": "ipython3",
      "version": "3.7.6"
    }
  },
  "cells": [
    {
      "cell_type": "markdown",
      "metadata": {
        "id": "TjPTaRB4mpCd"
      },
      "source": [
        "# Colab FAQ\n",
        "\n",
        "For some basic overview and features offered in Colab notebooks, check out: [Overview of Colaboratory Features](https://colab.research.google.com/notebooks/basic_features_overview.ipynb)\n",
        "\n",
        "You need to use the colab GPU for this assignmentby selecting:\n",
        "\n",
        "> **Runtime**   →   **Change runtime type**   →   **Hardware Accelerator: GPU**"
      ]
    },
    {
      "cell_type": "markdown",
      "metadata": {
        "id": "s9IS9B9-yUU5"
      },
      "source": [
        "## Setup PyTorch\n",
        "All files are stored at /content/csc421/a4/ folder\n"
      ]
    },
    {
      "cell_type": "code",
      "metadata": {
        "id": "Z-6MQhMOlHXD",
        "colab": {
          "base_uri": "https://localhost:8080/"
        },
        "outputId": "fa59a7e6-122f-46a8-96bb-12b5c700775a"
      },
      "source": [
        "######################################################################\n",
        "# Setup python environment and change the current working directory\n",
        "######################################################################\n",
        "!pip install torch torchvision\n",
        "!pip install imageio\n",
        "\n",
        "!pip install matplotlib\n",
        "\n",
        "%mkdir -p /content/csc413/a4/\n",
        "%cd /content/csc413/a4"
      ],
      "execution_count": 1,
      "outputs": [
        {
          "output_type": "stream",
          "text": [
            "Requirement already satisfied: torch in /usr/local/lib/python3.7/dist-packages (1.8.1+cu101)\n",
            "Requirement already satisfied: torchvision in /usr/local/lib/python3.7/dist-packages (0.9.1+cu101)\n",
            "Requirement already satisfied: typing-extensions in /usr/local/lib/python3.7/dist-packages (from torch) (3.7.4.3)\n",
            "Requirement already satisfied: numpy in /usr/local/lib/python3.7/dist-packages (from torch) (1.19.5)\n",
            "Requirement already satisfied: pillow>=4.1.1 in /usr/local/lib/python3.7/dist-packages (from torchvision) (7.1.2)\n",
            "Requirement already satisfied: imageio in /usr/local/lib/python3.7/dist-packages (2.4.1)\n",
            "Requirement already satisfied: numpy in /usr/local/lib/python3.7/dist-packages (from imageio) (1.19.5)\n",
            "Requirement already satisfied: pillow in /usr/local/lib/python3.7/dist-packages (from imageio) (7.1.2)\n",
            "Requirement already satisfied: matplotlib in /usr/local/lib/python3.7/dist-packages (3.2.2)\n",
            "Requirement already satisfied: cycler>=0.10 in /usr/local/lib/python3.7/dist-packages (from matplotlib) (0.10.0)\n",
            "Requirement already satisfied: kiwisolver>=1.0.1 in /usr/local/lib/python3.7/dist-packages (from matplotlib) (1.3.1)\n",
            "Requirement already satisfied: python-dateutil>=2.1 in /usr/local/lib/python3.7/dist-packages (from matplotlib) (2.8.1)\n",
            "Requirement already satisfied: pyparsing!=2.0.4,!=2.1.2,!=2.1.6,>=2.0.1 in /usr/local/lib/python3.7/dist-packages (from matplotlib) (2.4.7)\n",
            "Requirement already satisfied: numpy>=1.11 in /usr/local/lib/python3.7/dist-packages (from matplotlib) (1.19.5)\n",
            "Requirement already satisfied: six in /usr/local/lib/python3.7/dist-packages (from cycler>=0.10->matplotlib) (1.15.0)\n",
            "/content/csc413/a4\n"
          ],
          "name": "stdout"
        }
      ]
    },
    {
      "cell_type": "markdown",
      "metadata": {
        "id": "9DaTdRNuUra7"
      },
      "source": [
        "# Helper code"
      ]
    },
    {
      "cell_type": "markdown",
      "metadata": {
        "id": "4BIpGwANoQOg"
      },
      "source": [
        "## Utility functions"
      ]
    },
    {
      "cell_type": "code",
      "metadata": {
        "id": "D-UJHBYZkh7f"
      },
      "source": [
        "import os\n",
        "\n",
        "import numpy as np\n",
        "import matplotlib.pyplot as plt\n",
        "\n",
        "import torch\n",
        "from torch import nn\n",
        "from torch.nn import Parameter\n",
        "import torch.nn.functional as F\n",
        "import torch.optim as optim\n",
        "from torch.autograd import Variable\n",
        "from torch.utils.data import DataLoader\n",
        "from torchvision import datasets\n",
        "from torchvision import transforms\n",
        "\n",
        "from six.moves.urllib.request import urlretrieve\n",
        "import tarfile\n",
        "\n",
        "import imageio\n",
        "from urllib.error import URLError\n",
        "from urllib.error import HTTPError\n",
        "\n",
        "\n",
        "def get_file(fname,\n",
        "             origin,\n",
        "             untar=False,\n",
        "             extract=False,\n",
        "             archive_format='auto',\n",
        "             cache_dir='data'):\n",
        "    datadir = os.path.join(cache_dir)\n",
        "    if not os.path.exists(datadir):\n",
        "        os.makedirs(datadir)\n",
        "\n",
        "    if untar:\n",
        "        untar_fpath = os.path.join(datadir, fname)\n",
        "        fpath = untar_fpath + '.tar.gz'\n",
        "    else:\n",
        "        fpath = os.path.join(datadir, fname)\n",
        "\n",
        "    print(fpath)\n",
        "    if not os.path.exists(fpath):\n",
        "        print('Downloading data from', origin)\n",
        "\n",
        "        error_msg = 'URL fetch failure on {}: {} -- {}'\n",
        "        try:\n",
        "            try:\n",
        "                urlretrieve(origin, fpath)\n",
        "            except URLError as e:\n",
        "                raise Exception(error_msg.format(origin, e.errno, e.reason))\n",
        "            except HTTPError as e:\n",
        "                raise Exception(error_msg.format(origin, e.code, e.msg))\n",
        "        except (Exception, KeyboardInterrupt) as e:\n",
        "            if os.path.exists(fpath):\n",
        "                os.remove(fpath)\n",
        "            raise\n",
        "\n",
        "    if untar:\n",
        "        if not os.path.exists(untar_fpath):\n",
        "            print('Extracting file.')\n",
        "            with tarfile.open(fpath) as archive:\n",
        "                archive.extractall(datadir)\n",
        "        return untar_fpath\n",
        "\n",
        "    return fpath\n",
        "\n",
        "\n",
        "class AttrDict(dict):\n",
        "    def __init__(self, *args, **kwargs):\n",
        "        super(AttrDict, self).__init__(*args, **kwargs)\n",
        "        self.__dict__ = self\n",
        "\n",
        "                \n",
        "def to_var(tensor, cuda=True):\n",
        "    \"\"\"Wraps a Tensor in a Variable, optionally placing it on the GPU.\n",
        "\n",
        "        Arguments:\n",
        "            tensor: A Tensor object.\n",
        "            cuda: A boolean flag indicating whether to use the GPU.\n",
        "\n",
        "        Returns:\n",
        "            A Variable object, on the GPU if cuda==True.\n",
        "    \"\"\"\n",
        "    if cuda:\n",
        "        return Variable(tensor.cuda())\n",
        "    else:\n",
        "        return Variable(tensor)\n",
        "\n",
        "    \n",
        "def to_data(x):\n",
        "    \"\"\"Converts variable to numpy.\"\"\"\n",
        "    if torch.cuda.is_available():\n",
        "        x = x.cpu()\n",
        "    return x.data.numpy()\n",
        "\n",
        "\n",
        "def create_dir(directory):\n",
        "    \"\"\"Creates a directory if it doesn't already exist.\n",
        "    \"\"\"\n",
        "    if not os.path.exists(directory):\n",
        "        os.makedirs(directory)\n",
        "\n",
        "\n",
        "def gan_checkpoint(iteration, G, D, opts):\n",
        "    \"\"\"Saves the parameters of the generator G and discriminator D.\n",
        "    \"\"\"\n",
        "    G_path = os.path.join(opts.checkpoint_dir, 'G.pkl')\n",
        "    D_path = os.path.join(opts.checkpoint_dir, 'D.pkl')\n",
        "    torch.save(G.state_dict(), G_path)\n",
        "    torch.save(D.state_dict(), D_path)\n",
        "\n",
        "def load_checkpoint(opts):\n",
        "    \"\"\"Loads the generator and discriminator models from checkpoints.\n",
        "    \"\"\"\n",
        "    G_path = os.path.join(opts.load, 'G.pkl')\n",
        "    D_path = os.path.join(opts.load, 'D_.pkl')\n",
        "\n",
        "    G = DCGenerator(noise_size=opts.noise_size, conv_dim=opts.g_conv_dim, spectral_norm=opts.spectral_norm)\n",
        "    D = DCDiscriminator(conv_dim=opts.d_conv_dim)\n",
        "\n",
        "    G.load_state_dict(torch.load(G_path, map_location=lambda storage, loc: storage))\n",
        "    D.load_state_dict(torch.load(D_path, map_location=lambda storage, loc: storage))\n",
        "\n",
        "    if torch.cuda.is_available():\n",
        "        G.cuda()\n",
        "        D.cuda()\n",
        "        print('Models moved to GPU.')\n",
        "\n",
        "    return G, D\n",
        "\n",
        "\n",
        "def merge_images(sources, targets, opts):\n",
        "    \"\"\"Creates a grid consisting of pairs of columns, where the first column in\n",
        "    each pair contains images source images and the second column in each pair\n",
        "    contains images generated by the CycleGAN from the corresponding images in\n",
        "    the first column.\n",
        "    \"\"\"\n",
        "    _, _, h, w = sources.shape\n",
        "    row = int(np.sqrt(opts.batch_size))\n",
        "    merged = np.zeros([3, row * h, row * w * 2])\n",
        "    for (idx, s, t) in (zip(range(row ** 2), sources, targets, )):\n",
        "        i = idx // row\n",
        "        j = idx % row\n",
        "        merged[:, i * h:(i + 1) * h, (j * 2) * h:(j * 2 + 1) * h] = s\n",
        "        merged[:, i * h:(i + 1) * h, (j * 2 + 1) * h:(j * 2 + 2) * h] = t\n",
        "    return merged.transpose(1, 2, 0)\n",
        "\n",
        "\n",
        "def generate_gif(directory_path, keyword=None):\n",
        "    images = []\n",
        "    for filename in sorted(os.listdir(directory_path)):\n",
        "        if filename.endswith(\".png\") and (keyword is None or keyword in filename):\n",
        "            img_path = os.path.join(directory_path, filename)\n",
        "            print(\"adding image {}\".format(img_path))\n",
        "            images.append(imageio.imread(img_path))\n",
        "\n",
        "    if keyword:\n",
        "        imageio.mimsave(\n",
        "            os.path.join(directory_path, 'anim_{}.gif'.format(keyword)), images)\n",
        "    else:\n",
        "        imageio.mimsave(os.path.join(directory_path, 'anim.gif'), images)\n",
        "\n",
        "\n",
        "def create_image_grid(array, ncols=None):\n",
        "    \"\"\"\n",
        "    \"\"\"\n",
        "    num_images, channels, cell_h, cell_w = array.shape\n",
        "    if not ncols:\n",
        "        ncols = int(np.sqrt(num_images))\n",
        "    nrows = int(np.math.floor(num_images / float(ncols)))\n",
        "    result = np.zeros((cell_h * nrows, cell_w * ncols, channels), dtype=array.dtype)\n",
        "    for i in range(0, nrows):\n",
        "        for j in range(0, ncols):\n",
        "            result[i * cell_h:(i + 1) * cell_h, j * cell_w:(j + 1) * cell_w, :] = array[i * ncols + j].transpose(1, 2,\n",
        "                                                                                                                 0)\n",
        "\n",
        "    if channels == 1:\n",
        "        result = result.squeeze()\n",
        "    return result\n",
        "\n",
        "\n",
        "def gan_save_samples(G, fixed_noise, iteration, opts):\n",
        "    generated_images = G(fixed_noise)\n",
        "    generated_images = to_data(generated_images)\n",
        "\n",
        "    grid = create_image_grid(generated_images)\n",
        "\n",
        "    # merged = merge_images(X, fake_Y, opts)\n",
        "    path = os.path.join(opts.sample_dir, 'sample-{:06d}.png'.format(iteration))\n",
        "    imageio.imwrite(path, grid)\n",
        "    print('Saved {}'.format(path))"
      ],
      "execution_count": 2,
      "outputs": []
    },
    {
      "cell_type": "markdown",
      "metadata": {
        "id": "pbvpn4MaV0I1"
      },
      "source": [
        "## Data loader"
      ]
    },
    {
      "cell_type": "code",
      "metadata": {
        "id": "XVT4TNTOV3Eg"
      },
      "source": [
        "def get_emoji_loader(emoji_type, opts):\n",
        "    \"\"\"Creates training and test data loaders.\n",
        "    \"\"\"\n",
        "    transform = transforms.Compose([\n",
        "                    transforms.Scale(opts.image_size),\n",
        "                    transforms.ToTensor(),\n",
        "                    transforms.Normalize((0.5, ), (0.5, )),\n",
        "                ])\n",
        "\n",
        "    train_path = os.path.join('data/emojis', emoji_type)\n",
        "    test_path = os.path.join('data/emojis', 'Test_{}'.format(emoji_type))\n",
        "\n",
        "    train_dataset = datasets.ImageFolder(train_path, transform)\n",
        "    test_dataset = datasets.ImageFolder(test_path, transform)\n",
        "\n",
        "\n",
        "    train_dloader = DataLoader(dataset=train_dataset, batch_size=opts.batch_size, shuffle=True, num_workers=opts.num_workers)\n",
        "    test_dloader = DataLoader(dataset=test_dataset, batch_size=opts.batch_size, shuffle=False, num_workers=opts.num_workers)\n",
        "\n",
        "    return train_dloader, test_dloader\n",
        "\n",
        "def get_emnist_loader(emnist_type, opts):\n",
        "    transform = transforms.Compose([\n",
        "                    transforms.Scale(opts.image_size),\n",
        "                    transforms.ToTensor(),\n",
        "                    transforms.Normalize((0.5), (0.5)),\n",
        "                ])\n",
        "    train = datasets.EMNIST(\".\", split=emnist_type,train = True, download = True, transform= transform)\n",
        "    test = datasets.EMNIST(\".\", split=emnist_type,train = False, download = True, transform = transform)\n",
        "    \n",
        "    train_dloader = DataLoader(dataset=train, batch_size=opts.batch_size, shuffle=True,num_workers=opts.num_workers)\n",
        "    test_dloader = DataLoader(dataset=test, batch_size=opts.batch_size, shuffle=False,num_workers=opts.num_workers)\n",
        "    return train_dloader, test_dloader\n",
        "\n",
        "\n",
        "\n"
      ],
      "execution_count": 3,
      "outputs": []
    },
    {
      "cell_type": "markdown",
      "metadata": {
        "id": "bRWfRdmVVjUl"
      },
      "source": [
        "## Training and evaluation code"
      ]
    },
    {
      "cell_type": "code",
      "metadata": {
        "id": "nSIhQp41q_Nu"
      },
      "source": [
        "def print_models(G_XtoY, G_YtoX, D_X, D_Y):\n",
        "    \"\"\"Prints model information for the generators and discriminators.\n",
        "    \"\"\"\n",
        "    print(\"                 G                     \")\n",
        "    print(\"---------------------------------------\")\n",
        "    print(G_XtoY)\n",
        "    print(\"---------------------------------------\")\n",
        "\n",
        "    print(\"                  D                    \")\n",
        "    print(\"---------------------------------------\")\n",
        "    print(D_X)\n",
        "    print(\"---------------------------------------\")\n",
        "\n",
        "\n",
        "def create_model(opts):\n",
        "    \"\"\"Builds the generators and discriminators.\n",
        "    \"\"\"\n",
        "    ### GAN\n",
        "    G = DCGenerator(noise_size=opts.noise_size, conv_dim=opts.g_conv_dim, spectral_norm=opts.spectral_norm)\n",
        "    D = DCDiscriminator(conv_dim=opts.d_conv_dim, spectral_norm=opts.spectral_norm)\n",
        "\n",
        "    print_models(G, None, D, None)\n",
        "\n",
        "    if torch.cuda.is_available():\n",
        "        G.cuda()\n",
        "        D.cuda()\n",
        "        print('Models moved to GPU.')\n",
        "    return G, D\n",
        "\n",
        "def train(opts):\n",
        "    \"\"\"Loads the data, creates checkpoint and sample directories, and starts the training loop.\n",
        "    \"\"\"\n",
        "\n",
        "    # Create train and test dataloaders for images from the two domains X and Y\n",
        "    dataloader_X, test_dataloader_X = get_emnist_loader(opts.X, opts=opts)\n",
        "    \n",
        "    # Create checkpoint and sample directories\n",
        "    create_dir(opts.checkpoint_dir)\n",
        "    create_dir(opts.sample_dir)\n",
        "\n",
        "    # Start training\n",
        "    G, D = gan_training_loop(dataloader_X, test_dataloader_X, opts)\n",
        "    return G, D\n",
        "\n",
        "def print_opts(opts):\n",
        "    \"\"\"Prints the values of all command-line arguments.\n",
        "    \"\"\"\n",
        "    print('=' * 80)\n",
        "    print('Opts'.center(80))\n",
        "    print('-' * 80)\n",
        "    for key in opts.__dict__:\n",
        "        if opts.__dict__[key]:\n",
        "            print('{:>30}: {:<30}'.format(key, opts.__dict__[key]).center(80))\n",
        "    print('=' * 80)\n"
      ],
      "execution_count": 4,
      "outputs": []
    },
    {
      "cell_type": "markdown",
      "metadata": {
        "id": "bXNsLNkOn38w"
      },
      "source": [
        "# Your code for generators and discriminators"
      ]
    },
    {
      "cell_type": "markdown",
      "metadata": {
        "id": "u0KxX0sDpXKb"
      },
      "source": [
        "## Helper modules"
      ]
    },
    {
      "cell_type": "code",
      "metadata": {
        "id": "y7s0etAmpUgT"
      },
      "source": [
        "def sample_noise(batch_size, dim):\n",
        "    \"\"\"\n",
        "    Generate a PyTorch Tensor of uniform random noise.\n",
        "\n",
        "    Input:\n",
        "    - batch_size: Integer giving the batch size of noise to generate.\n",
        "    - dim: Integer giving the dimension of noise to generate.\n",
        "\n",
        "    Output:\n",
        "    - A PyTorch Tensor of shape (batch_size, dim, 1, 1) containing uniform\n",
        "      random noise in the range (-1, 1).\n",
        "    \"\"\"\n",
        "    return to_var(torch.rand(batch_size, dim) * 2 - 1).unsqueeze(2).unsqueeze(3)\n",
        "  \n",
        "\n",
        "def upconv(in_channels, out_channels, kernel_size, stride=2, padding=2, batch_norm=True, spectral_norm=False):\n",
        "    \"\"\"Creates a upsample-and-convolution layer, with optional batch normalization.\n",
        "    \"\"\"\n",
        "    layers = []\n",
        "    if stride>1:\n",
        "        layers.append(nn.Upsample(scale_factor=stride))\n",
        "    conv_layer = nn.Conv2d(in_channels=in_channels, out_channels=out_channels, kernel_size=kernel_size, stride=1, padding=padding, bias=False)\n",
        "    if spectral_norm:\n",
        "        layers.append(SpectralNorm(conv_layer))\n",
        "    else:\n",
        "        layers.append(conv_layer)\n",
        "    if batch_norm:\n",
        "        layers.append(nn.BatchNorm2d(out_channels))\n",
        "    return nn.Sequential(*layers)\n",
        "\n",
        "\n",
        "def conv(in_channels, out_channels, kernel_size, stride=2, padding=2, batch_norm=True, init_zero_weights=False, spectral_norm=False):\n",
        "    \"\"\"Creates a convolutional layer, with optional batch normalization.\n",
        "    \"\"\"\n",
        "    layers = []\n",
        "    conv_layer = nn.Conv2d(in_channels=in_channels, out_channels=out_channels, kernel_size=kernel_size, stride=stride, padding=padding, bias=False)\n",
        "    if init_zero_weights:\n",
        "        conv_layer.weight.data = torch.randn(out_channels, in_channels, kernel_size, kernel_size) * 0.001\n",
        "            \n",
        "    if spectral_norm:\n",
        "        layers.append(SpectralNorm(conv_layer))\n",
        "    else:\n",
        "        layers.append(conv_layer)\n",
        "\n",
        "    if batch_norm:\n",
        "        layers.append(nn.BatchNorm2d(out_channels))\n",
        "    return nn.Sequential(*layers)\n",
        "  \n",
        "\n",
        "class ResnetBlock(nn.Module):\n",
        "    def __init__(self, conv_dim):\n",
        "        super(ResnetBlock, self).__init__()\n",
        "        self.conv_layer = conv(in_channels=conv_dim, out_channels=conv_dim, kernel_size=3, stride=1, padding=1)\n",
        "\n",
        "    def forward(self, x):\n",
        "        out = x + self.conv_layer(x)\n",
        "        return out"
      ],
      "execution_count": 5,
      "outputs": []
    },
    {
      "cell_type": "markdown",
      "metadata": {
        "id": "S0_YbBwe5k35"
      },
      "source": [
        "## DCGAN"
      ]
    },
    {
      "cell_type": "markdown",
      "metadata": {
        "id": "m1E_jDaBLT1P"
      },
      "source": [
        "## Spectral Norm class"
      ]
    },
    {
      "cell_type": "code",
      "metadata": {
        "id": "2hy97i1-LT1Q"
      },
      "source": [
        ""
      ],
      "execution_count": 5,
      "outputs": []
    },
    {
      "cell_type": "markdown",
      "metadata": {
        "id": "_BAfi_8yWB3y"
      },
      "source": [
        "### GAN generator"
      ]
    },
    {
      "cell_type": "code",
      "metadata": {
        "id": "9ztmyA5Ro67o"
      },
      "source": [
        "class DCGenerator(nn.Module):\n",
        "    def __init__(self, noise_size, conv_dim, spectral_norm=False):\n",
        "        super(DCGenerator, self).__init__()\n",
        "\n",
        "        self.conv_dim = conv_dim\n",
        "        self.relu = nn.ReLU()\n",
        "        self.linear_bn = upconv(100, conv_dim*4,3) #BS X noise_size x 1 x 1 -> BS x 128 x 4 x 4 \n",
        "        self.upconv1 = upconv(conv_dim*4,conv_dim*2,5)\n",
        "        self.upconv2 = upconv(conv_dim*2,conv_dim,5)\n",
        "        self.upconv3 = upconv(conv_dim,1,5, batch_norm=False) \n",
        "      \n",
        "        self.tanh = nn.Tanh()\n",
        "\n",
        "    def forward(self, z):\n",
        "        \"\"\"Generates an image given a sample of random noise.\n",
        "\n",
        "            Input\n",
        "            -----\n",
        "                z: BS x noise_size x 1 x 1   -->  BSx100x1x1 (during training)\n",
        "\n",
        "            Output\n",
        "            ------\n",
        "                out: BS x channels x image_width x image_height  -->  BSx3x32x32 (during training)\n",
        "        \"\"\"\n",
        "        batch_size = z.size(0)\n",
        "        out = self.relu(self.linear_bn(z))  # BS x 128 x 4 x 4      conv_dim=32\n",
        "        out = out.view(-1, self.conv_dim*4, 4, 4)\n",
        "        out = self.relu(self.upconv1(out))  # BS x 64 x 8 x 8\n",
        "        out = self.relu(self.upconv2(out))  # BS x 32 x 16 x 16\n",
        "        out = self.tanh(self.upconv3(out))  # BS x 3 x 32 x 32\n",
        "        out_size = out.size()\n",
        "        if out_size != torch.Size([batch_size, 1, 32, 32]):\n",
        "            raise ValueError(\"expect {} x 3 x 32 x 32, but get {}\".format(batch_size, out_size))\n",
        "        return out\n"
      ],
      "execution_count": 6,
      "outputs": []
    },
    {
      "cell_type": "code",
      "metadata": {
        "id": "xGNorJYBsf9Z"
      },
      "source": [
        ""
      ],
      "execution_count": 6,
      "outputs": []
    },
    {
      "cell_type": "markdown",
      "metadata": {
        "id": "cG4uqAVPp8_B"
      },
      "source": [
        "### GAN discriminator"
      ]
    },
    {
      "cell_type": "code",
      "metadata": {
        "id": "0GkjXydnqARR"
      },
      "source": [
        "class DCDiscriminator(nn.Module):\n",
        "    \"\"\"Defines the architecture of the discriminator network.\n",
        "       Note: Both discriminators D_X and D_Y have the same architecture in this assignment.\n",
        "    \"\"\"\n",
        "    def __init__(self, conv_dim=64, spectral_norm=False):\n",
        "        super(DCDiscriminator, self).__init__()\n",
        "\n",
        "        self.conv1 = conv(in_channels=1, out_channels=conv_dim, kernel_size=5, stride=2, spectral_norm=spectral_norm)\n",
        "        self.conv2 = conv(in_channels=conv_dim, out_channels=conv_dim*2, kernel_size=5, stride=2, spectral_norm=spectral_norm)\n",
        "        self.conv3 = conv(in_channels=conv_dim*2, out_channels=conv_dim*4, kernel_size=5, stride=2, spectral_norm=spectral_norm)\n",
        "        self.conv4 = conv(in_channels=conv_dim*4, out_channels=1, kernel_size=5, stride=2, padding=1, batch_norm=False, spectral_norm=spectral_norm)\n",
        "\n",
        "    def forward(self, x):\n",
        "        batch_size = x.size(0)\n",
        "\n",
        "        out = F.relu(self.conv1(x))    # BS x 64 x 16 x 16\n",
        "        out = F.relu(self.conv2(out))    # BS x 64 x 8 x 8\n",
        "        out = F.relu(self.conv3(out))    # BS x 64 x 4 x 4\n",
        "\n",
        "        out = self.conv4(out).squeeze()\n",
        "        out_size = out.size()\n",
        "        if out_size != torch.Size([batch_size,]):\n",
        "            raise ValueError(\"expect {} x 1, but get {}\".format(batch_size, out_size))\n",
        "        return out"
      ],
      "execution_count": 7,
      "outputs": []
    },
    {
      "cell_type": "markdown",
      "metadata": {
        "id": "G8RtBMu55ysm"
      },
      "source": [
        "### GAN training loop"
      ]
    },
    {
      "cell_type": "code",
      "metadata": {
        "id": "MxIJ2Zua51KI"
      },
      "source": [
        "def gan_training_loop(dataloader, test_dataloader, opts):\n",
        "    \"\"\"Runs the training loop.\n",
        "        * Saves checkpoint every opts.checkpoint_every iterations\n",
        "        * Saves generated samples every opts.sample_every iterations\n",
        "    \"\"\"\n",
        "\n",
        "    # Create generators and discriminators\n",
        "    G, D = create_model(opts)\n",
        "\n",
        "    g_params = G.parameters()  # Get generator parameters\n",
        "    d_params = D.parameters()  # Get discriminator parameters\n",
        "\n",
        "    # Create optimizers for the generators and discriminators\n",
        "    g_optimizer = optim.RMSprop(g_params, opts.lr)\n",
        "    d_optimizer = optim.RMSprop(d_params, opts.lr)\n",
        "\n",
        "    train_iter = iter(dataloader)\n",
        "\n",
        "    test_iter = iter(test_dataloader)\n",
        "    # Get some fixed data from domains X and Y for sampling. These are images that are held\n",
        "    # constant throughout training, that allow us to inspect the model's performance.\n",
        "    fixed_noise = sample_noise(100, opts.noise_size)  # # 100 x noise_size x 1 x 1\n",
        "\n",
        "    iter_per_epoch = len(train_iter)\n",
        "    total_train_iters = opts.train_iters\n",
        "\n",
        "    losses = {\"iteration\": [], \"D_fake_loss\": [], \"D_real_loss\": [], \"G_loss\": [], \"D_loss\": []}\n",
        "\n",
        "    # adversarial_loss = torch.nn.BCEWithLogitsLoss()\n",
        "    gp_weight = 1\n",
        "    epoch = 0\n",
        "    total_iters = 0\n",
        "    try:\n",
        "        for iteration in range(1, opts.train_iters + 1):\n",
        "\n",
        "            # Reset data_iter for each epoch\n",
        "            \n",
        "            # ones = Variable(torch.Tensor(real_images.shape[0]).float().cuda().fill_(1.0), requires_grad=False)\n",
        "            if total_iters % iter_per_epoch == 0:\n",
        "                    epoch +=1\n",
        "                    train_iter = iter(dataloader)\n",
        "                    print(\"EPOCH:\", epoch)\n",
        "            b = opts.batch_size\n",
        "            for i in range(opts.n_critic):\n",
        "                real_images, real_labels = train_iter.next()\n",
        "                real_images, real_labels = to_var(real_images), to_var(real_labels).long().squeeze()\n",
        "                m = b\n",
        "                noise = sample_noise(m, opts.noise_size)\n",
        "                fake_images = G(noise)\n",
        "                D_real_loss = D(real_images).mean()\n",
        "                D_fake_loss = D(fake_images).mean()\n",
        "\n",
        "                D_loss = -(D_real_loss - D_fake_loss) #Minimize D_real_loss - D_fake_loss\n",
        "                D_loss.backward()\n",
        "                d_optimizer.step()\n",
        "\n",
        "                Wasserstein_Distance = D_real_loss - D_fake_loss\n",
        "\n",
        "                total_iters += 1    \n",
        "                \n",
        "                for param in D.parameters():\n",
        "                    param.data.clamp_(-opts.clip, opts.clip)\n",
        "                D.zero_grad()\n",
        "                G.zero_grad()\n",
        "            # \n",
        "            z = sample_noise(m, opts.noise_size)\n",
        "            G_z = G(z)\n",
        "            G_loss = -torch.mean(D(G_z))\n",
        "\n",
        "            G_loss.backward()\n",
        "            g_optimizer.step()\n",
        "            D.zero_grad()\n",
        "            G.zero_grad()\n",
        "\n",
        "            if iteration % opts.log_step == 0:\n",
        "                losses['iteration'].append(iteration)\n",
        "                losses['D_real_loss'].append(D_real_loss.item())\n",
        "                losses['D_loss'].append(D_real_loss.item())\n",
        "          \n",
        "                losses['D_fake_loss'].append(D_fake_loss.item())\n",
        "                losses['G_loss'].append(G_loss.item())\n",
        "                print('Iteration [{:4d}/{:4d}] | D_real_loss: {:6.4f} | D_fake_loss: {:6.4f} | G_loss: {:6.4f} | D_loss: {:6.4f} | Wasserstein_Distance: {:6.4f}'.format(\n",
        "                    iteration, total_train_iters, D_real_loss.item(), D_fake_loss.item(), G_loss.item(), D_loss.item(), Wasserstein_Distance.item() ))\n",
        "\n",
        "                \n",
        "\n",
        "            # Save the generated samples\n",
        "            if iteration % opts.sample_every == 0:\n",
        "                gan_save_samples(G, fixed_noise, iteration, opts)\n",
        "\n",
        "            # Save the model parameters\n",
        "            if iteration % opts.checkpoint_every == 0:\n",
        "                gan_checkpoint(iteration, G, D, opts)\n",
        "\n",
        "    except KeyboardInterrupt:\n",
        "        print('Exiting early from training.')\n",
        "        return G, D\n",
        "\n",
        "    plt.figure()\n",
        "    plt.plot(losses['iteration'], losses['D_real_loss'], label='D_real')\n",
        "    plt.plot(losses['iteration'], losses['D_fake_loss'], label='D_fake')\n",
        "    plt.plot(losses['iteration'], losses['G_loss'], label='G')\n",
        "    plt.plot(losses['iteration'], losses['D_loss'], label='D')\n",
        "\n",
        "    plt.legend()\n",
        "    plt.savefig(os.path.join(opts.sample_dir, 'losses.png'))\n",
        "    plt.close()\n",
        "    return G, D"
      ],
      "execution_count": 8,
      "outputs": []
    },
    {
      "cell_type": "code",
      "metadata": {
        "id": "GUAGCSig4SD1"
      },
      "source": [
        ""
      ],
      "execution_count": 8,
      "outputs": []
    },
    {
      "cell_type": "markdown",
      "metadata": {
        "id": "XuNFd6LNo0-o"
      },
      "source": [
        "# Training\n"
      ]
    },
    {
      "cell_type": "markdown",
      "metadata": {
        "id": "kiUwiOITHTW4"
      },
      "source": [
        "## Download dataset"
      ]
    },
    {
      "cell_type": "code",
      "metadata": {
        "id": "xwcFjsEpHRbI",
        "colab": {
          "base_uri": "https://localhost:8080/"
        },
        "outputId": "4cd63432-87b3-429c-b715-b3409f442110"
      },
      "source": [
        "######################################################################\n",
        "# Download Translation datasets\n",
        "######################################################################\n",
        "data_fpath = get_file(fname='emojis', \n",
        "                         origin='http://www.cs.toronto.edu/~jba/emojis.tar.gz', \n",
        "                         untar=True)"
      ],
      "execution_count": 9,
      "outputs": [
        {
          "output_type": "stream",
          "text": [
            "data/emojis.tar.gz\n"
          ],
          "name": "stdout"
        }
      ]
    },
    {
      "cell_type": "markdown",
      "metadata": {
        "id": "hmQmyJDSRFKR"
      },
      "source": [
        "### WGAN"
      ]
    },
    {
      "cell_type": "code",
      "metadata": {
        "id": "0LKaRF1jwhH7",
        "scrolled": true,
        "colab": {
          "base_uri": "https://localhost:8080/"
        },
        "outputId": "a75dbc72-e87f-4619-c47b-8c3981ae82e9"
      },
      "source": [
        "SEED = 11\n",
        "\n",
        "# Set the random seed manually for reproducibility.\n",
        "np.random.seed(SEED)\n",
        "torch.manual_seed(SEED)\n",
        "if torch.cuda.is_available():\n",
        "    torch.cuda.manual_seed(SEED)\n",
        "\n",
        "\n",
        "args = AttrDict()\n",
        "args_dict = {\n",
        "              'clip': .01,\n",
        "              'n_critic': 5,\n",
        "              'image_size':32, \n",
        "              'g_conv_dim':32, \n",
        "              'd_conv_dim':64,\n",
        "              'noise_size':100,\n",
        "              'num_workers': 0,\n",
        "              'train_iters':200000,\n",
        "              'X':'letters',  # options: 'Windows' / 'Apple'\n",
        "              'Y': None,\n",
        "              'lr':5e-5,\n",
        "              'beta1':0.5,\n",
        "              'beta2':0.999,\n",
        "              'batch_size':64, \n",
        "              'checkpoint_dir': 'results/checkpoints_gan_gp1_lr3e-5',\n",
        "              'sample_dir': 'results/samples_gan_gp1_lr3e-5',\n",
        "              'load': None,\n",
        "              'log_step':200,\n",
        "              'sample_every':200,\n",
        "              'checkpoint_every':1000,\n",
        "              'spectral_norm': False,\n",
        "              'gradient_penalty': False,\n",
        "              'd_train_iters': 1\n",
        "}\n",
        "args.update(args_dict)\n",
        "\n",
        "print_opts(args)\n",
        "G, D = train(args)\n",
        "\n",
        "generate_gif(\"results/samples_gan_gp1_lr3e-5\")"
      ],
      "execution_count": 10,
      "outputs": [
        {
          "output_type": "stream",
          "text": [
            "================================================================================\n",
            "                                      Opts                                      \n",
            "--------------------------------------------------------------------------------\n",
            "                                   clip: 0.01                                   \n",
            "                               n_critic: 5                                      \n",
            "                             image_size: 32                                     \n",
            "                             g_conv_dim: 32                                     \n",
            "                             d_conv_dim: 64                                     \n",
            "                             noise_size: 100                                    \n",
            "                            train_iters: 200000                                 \n",
            "                                      X: letters                                \n",
            "                                     lr: 5e-05                                  \n",
            "                                  beta1: 0.5                                    \n",
            "                                  beta2: 0.999                                  \n",
            "                             batch_size: 64                                     \n",
            "                       checkpoint_dir: results/checkpoints_gan_gp1_lr3e-5       \n",
            "                             sample_dir: results/samples_gan_gp1_lr3e-5         \n",
            "                               log_step: 200                                    \n",
            "                           sample_every: 200                                    \n",
            "                       checkpoint_every: 1000                                   \n",
            "                          d_train_iters: 1                                      \n",
            "================================================================================\n",
            "                 G                     \n",
            "---------------------------------------\n",
            "DCGenerator(\n",
            "  (relu): ReLU()\n",
            "  (linear_bn): Sequential(\n",
            "    (0): Upsample(scale_factor=2.0, mode=nearest)\n",
            "    (1): Conv2d(100, 128, kernel_size=(3, 3), stride=(1, 1), padding=(2, 2), bias=False)\n",
            "    (2): BatchNorm2d(128, eps=1e-05, momentum=0.1, affine=True, track_running_stats=True)\n",
            "  )\n",
            "  (upconv1): Sequential(\n",
            "    (0): Upsample(scale_factor=2.0, mode=nearest)\n",
            "    (1): Conv2d(128, 64, kernel_size=(5, 5), stride=(1, 1), padding=(2, 2), bias=False)\n",
            "    (2): BatchNorm2d(64, eps=1e-05, momentum=0.1, affine=True, track_running_stats=True)\n",
            "  )\n",
            "  (upconv2): Sequential(\n",
            "    (0): Upsample(scale_factor=2.0, mode=nearest)\n",
            "    (1): Conv2d(64, 32, kernel_size=(5, 5), stride=(1, 1), padding=(2, 2), bias=False)\n",
            "    (2): BatchNorm2d(32, eps=1e-05, momentum=0.1, affine=True, track_running_stats=True)\n",
            "  )\n",
            "  (upconv3): Sequential(\n",
            "    (0): Upsample(scale_factor=2.0, mode=nearest)\n",
            "    (1): Conv2d(32, 1, kernel_size=(5, 5), stride=(1, 1), padding=(2, 2), bias=False)\n",
            "    (2): BatchNorm2d(1, eps=1e-05, momentum=0.1, affine=True, track_running_stats=True)\n",
            "  )\n",
            "  (tanh): Tanh()\n",
            ")\n",
            "---------------------------------------\n",
            "                  D                    \n",
            "---------------------------------------\n",
            "DCDiscriminator(\n",
            "  (conv1): Sequential(\n",
            "    (0): Conv2d(1, 64, kernel_size=(5, 5), stride=(2, 2), padding=(2, 2), bias=False)\n",
            "    (1): BatchNorm2d(64, eps=1e-05, momentum=0.1, affine=True, track_running_stats=True)\n",
            "  )\n",
            "  (conv2): Sequential(\n",
            "    (0): Conv2d(64, 128, kernel_size=(5, 5), stride=(2, 2), padding=(2, 2), bias=False)\n",
            "    (1): BatchNorm2d(128, eps=1e-05, momentum=0.1, affine=True, track_running_stats=True)\n",
            "  )\n",
            "  (conv3): Sequential(\n",
            "    (0): Conv2d(128, 256, kernel_size=(5, 5), stride=(2, 2), padding=(2, 2), bias=False)\n",
            "    (1): BatchNorm2d(256, eps=1e-05, momentum=0.1, affine=True, track_running_stats=True)\n",
            "  )\n",
            "  (conv4): Sequential(\n",
            "    (0): Conv2d(256, 1, kernel_size=(5, 5), stride=(2, 2), padding=(1, 1), bias=False)\n",
            "  )\n",
            ")\n",
            "---------------------------------------\n"
          ],
          "name": "stdout"
        },
        {
          "output_type": "stream",
          "text": [
            "/usr/local/lib/python3.7/dist-packages/torchvision/transforms/transforms.py:285: UserWarning: The use of the transforms.Scale transform is deprecated, please use transforms.Resize instead.\n",
            "  warnings.warn(\"The use of the transforms.Scale transform is deprecated, \" +\n"
          ],
          "name": "stderr"
        },
        {
          "output_type": "stream",
          "text": [
            "Models moved to GPU.\n",
            "EPOCH: 1\n"
          ],
          "name": "stdout"
        },
        {
          "output_type": "stream",
          "text": [
            "WARNING:root:Lossy conversion from float32 to uint8. Range [-0.912631630897522, 0.9999999403953552]. Convert image to uint8 prior to saving to suppress this warning.\n"
          ],
          "name": "stderr"
        },
        {
          "output_type": "stream",
          "text": [
            "Iteration [ 200/200000] | D_real_loss: 0.3591 | D_fake_loss: -0.3508 | G_loss: 0.3525 | D_loss: -0.7099 | Wasserstein_Distance: 0.7099\n",
            "Saved results/samples_gan_gp1_lr3e-5/sample-000200.png\n",
            "EPOCH: 2\n"
          ],
          "name": "stdout"
        },
        {
          "output_type": "stream",
          "text": [
            "WARNING:root:Lossy conversion from float32 to uint8. Range [-0.9424778819084167, 0.9999996423721313]. Convert image to uint8 prior to saving to suppress this warning.\n"
          ],
          "name": "stderr"
        },
        {
          "output_type": "stream",
          "text": [
            "Iteration [ 400/200000] | D_real_loss: 0.3822 | D_fake_loss: -0.3766 | G_loss: 0.3783 | D_loss: -0.7588 | Wasserstein_Distance: 0.7588\n",
            "Saved results/samples_gan_gp1_lr3e-5/sample-000400.png\n"
          ],
          "name": "stdout"
        },
        {
          "output_type": "stream",
          "text": [
            "WARNING:root:Lossy conversion from float32 to uint8. Range [-0.9775787591934204, 1.0]. Convert image to uint8 prior to saving to suppress this warning.\n"
          ],
          "name": "stderr"
        },
        {
          "output_type": "stream",
          "text": [
            "Iteration [ 600/200000] | D_real_loss: 0.3820 | D_fake_loss: -0.3761 | G_loss: 0.3766 | D_loss: -0.7581 | Wasserstein_Distance: 0.7581\n",
            "Saved results/samples_gan_gp1_lr3e-5/sample-000600.png\n",
            "EPOCH: 3\n"
          ],
          "name": "stdout"
        },
        {
          "output_type": "stream",
          "text": [
            "WARNING:root:Lossy conversion from float32 to uint8. Range [-0.8266393542289734, 0.9999949932098389]. Convert image to uint8 prior to saving to suppress this warning.\n"
          ],
          "name": "stderr"
        },
        {
          "output_type": "stream",
          "text": [
            "Iteration [ 800/200000] | D_real_loss: 0.3774 | D_fake_loss: -0.3725 | G_loss: 0.3765 | D_loss: -0.7499 | Wasserstein_Distance: 0.7499\n",
            "Saved results/samples_gan_gp1_lr3e-5/sample-000800.png\n"
          ],
          "name": "stdout"
        },
        {
          "output_type": "stream",
          "text": [
            "WARNING:root:Lossy conversion from float32 to uint8. Range [-0.9941325187683105, 1.0]. Convert image to uint8 prior to saving to suppress this warning.\n"
          ],
          "name": "stderr"
        },
        {
          "output_type": "stream",
          "text": [
            "Iteration [1000/200000] | D_real_loss: 0.3820 | D_fake_loss: -0.3769 | G_loss: 0.3771 | D_loss: -0.7589 | Wasserstein_Distance: 0.7589\n",
            "Saved results/samples_gan_gp1_lr3e-5/sample-001000.png\n",
            "EPOCH: 4\n"
          ],
          "name": "stdout"
        },
        {
          "output_type": "stream",
          "text": [
            "WARNING:root:Lossy conversion from float32 to uint8. Range [-0.9473986625671387, 1.0]. Convert image to uint8 prior to saving to suppress this warning.\n"
          ],
          "name": "stderr"
        },
        {
          "output_type": "stream",
          "text": [
            "Iteration [1200/200000] | D_real_loss: 0.3834 | D_fake_loss: -0.3783 | G_loss: 0.3787 | D_loss: -0.7618 | Wasserstein_Distance: 0.7618\n",
            "Saved results/samples_gan_gp1_lr3e-5/sample-001200.png\n"
          ],
          "name": "stdout"
        },
        {
          "output_type": "stream",
          "text": [
            "WARNING:root:Lossy conversion from float32 to uint8. Range [-0.8908780813217163, 0.9999980330467224]. Convert image to uint8 prior to saving to suppress this warning.\n"
          ],
          "name": "stderr"
        },
        {
          "output_type": "stream",
          "text": [
            "Iteration [1400/200000] | D_real_loss: 0.3815 | D_fake_loss: -0.3814 | G_loss: 0.3790 | D_loss: -0.7629 | Wasserstein_Distance: 0.7629\n",
            "Saved results/samples_gan_gp1_lr3e-5/sample-001400.png\n",
            "Exiting early from training.\n",
            "adding image results/samples_gan_gp1_lr3e-5/sample-000200.png\n",
            "adding image results/samples_gan_gp1_lr3e-5/sample-000400.png\n",
            "adding image results/samples_gan_gp1_lr3e-5/sample-000600.png\n",
            "adding image results/samples_gan_gp1_lr3e-5/sample-000800.png\n",
            "adding image results/samples_gan_gp1_lr3e-5/sample-001000.png\n",
            "adding image results/samples_gan_gp1_lr3e-5/sample-001200.png\n",
            "adding image results/samples_gan_gp1_lr3e-5/sample-001400.png\n",
            "adding image results/samples_gan_gp1_lr3e-5/sample-001600.png\n",
            "adding image results/samples_gan_gp1_lr3e-5/sample-001800.png\n",
            "adding image results/samples_gan_gp1_lr3e-5/sample-002000.png\n",
            "adding image results/samples_gan_gp1_lr3e-5/sample-002200.png\n",
            "adding image results/samples_gan_gp1_lr3e-5/sample-002400.png\n",
            "adding image results/samples_gan_gp1_lr3e-5/sample-002600.png\n",
            "adding image results/samples_gan_gp1_lr3e-5/sample-002800.png\n",
            "adding image results/samples_gan_gp1_lr3e-5/sample-003000.png\n",
            "adding image results/samples_gan_gp1_lr3e-5/sample-003200.png\n",
            "adding image results/samples_gan_gp1_lr3e-5/sample-003400.png\n",
            "adding image results/samples_gan_gp1_lr3e-5/sample-003600.png\n",
            "adding image results/samples_gan_gp1_lr3e-5/sample-003800.png\n",
            "adding image results/samples_gan_gp1_lr3e-5/sample-004000.png\n",
            "adding image results/samples_gan_gp1_lr3e-5/sample-004200.png\n",
            "adding image results/samples_gan_gp1_lr3e-5/sample-004400.png\n",
            "adding image results/samples_gan_gp1_lr3e-5/sample-004600.png\n",
            "adding image results/samples_gan_gp1_lr3e-5/sample-004800.png\n",
            "adding image results/samples_gan_gp1_lr3e-5/sample-005000.png\n",
            "adding image results/samples_gan_gp1_lr3e-5/sample-005200.png\n",
            "adding image results/samples_gan_gp1_lr3e-5/sample-005400.png\n",
            "adding image results/samples_gan_gp1_lr3e-5/sample-005600.png\n",
            "adding image results/samples_gan_gp1_lr3e-5/sample-005800.png\n",
            "adding image results/samples_gan_gp1_lr3e-5/sample-006000.png\n",
            "adding image results/samples_gan_gp1_lr3e-5/sample-006200.png\n",
            "adding image results/samples_gan_gp1_lr3e-5/sample-006400.png\n",
            "adding image results/samples_gan_gp1_lr3e-5/sample-006600.png\n",
            "adding image results/samples_gan_gp1_lr3e-5/sample-006800.png\n",
            "adding image results/samples_gan_gp1_lr3e-5/sample-007000.png\n",
            "adding image results/samples_gan_gp1_lr3e-5/sample-007200.png\n",
            "adding image results/samples_gan_gp1_lr3e-5/sample-007400.png\n",
            "adding image results/samples_gan_gp1_lr3e-5/sample-007600.png\n",
            "adding image results/samples_gan_gp1_lr3e-5/sample-007800.png\n",
            "adding image results/samples_gan_gp1_lr3e-5/sample-008000.png\n",
            "adding image results/samples_gan_gp1_lr3e-5/sample-008200.png\n",
            "adding image results/samples_gan_gp1_lr3e-5/sample-008400.png\n",
            "adding image results/samples_gan_gp1_lr3e-5/sample-008600.png\n",
            "adding image results/samples_gan_gp1_lr3e-5/sample-008800.png\n",
            "adding image results/samples_gan_gp1_lr3e-5/sample-009000.png\n",
            "adding image results/samples_gan_gp1_lr3e-5/sample-009200.png\n",
            "adding image results/samples_gan_gp1_lr3e-5/sample-009400.png\n",
            "adding image results/samples_gan_gp1_lr3e-5/sample-009600.png\n",
            "adding image results/samples_gan_gp1_lr3e-5/sample-009800.png\n",
            "adding image results/samples_gan_gp1_lr3e-5/sample-010000.png\n",
            "adding image results/samples_gan_gp1_lr3e-5/sample-010200.png\n",
            "adding image results/samples_gan_gp1_lr3e-5/sample-010400.png\n",
            "adding image results/samples_gan_gp1_lr3e-5/sample-010600.png\n",
            "adding image results/samples_gan_gp1_lr3e-5/sample-010800.png\n",
            "adding image results/samples_gan_gp1_lr3e-5/sample-011000.png\n",
            "adding image results/samples_gan_gp1_lr3e-5/sample-011200.png\n",
            "adding image results/samples_gan_gp1_lr3e-5/sample-011400.png\n",
            "adding image results/samples_gan_gp1_lr3e-5/sample-011600.png\n",
            "adding image results/samples_gan_gp1_lr3e-5/sample-011800.png\n",
            "adding image results/samples_gan_gp1_lr3e-5/sample-012000.png\n",
            "adding image results/samples_gan_gp1_lr3e-5/sample-012200.png\n",
            "adding image results/samples_gan_gp1_lr3e-5/sample-012400.png\n",
            "adding image results/samples_gan_gp1_lr3e-5/sample-012600.png\n",
            "adding image results/samples_gan_gp1_lr3e-5/sample-012800.png\n",
            "adding image results/samples_gan_gp1_lr3e-5/sample-013000.png\n",
            "adding image results/samples_gan_gp1_lr3e-5/sample-013200.png\n",
            "adding image results/samples_gan_gp1_lr3e-5/sample-013400.png\n",
            "adding image results/samples_gan_gp1_lr3e-5/sample-013600.png\n",
            "adding image results/samples_gan_gp1_lr3e-5/sample-013800.png\n",
            "adding image results/samples_gan_gp1_lr3e-5/sample-014000.png\n",
            "adding image results/samples_gan_gp1_lr3e-5/sample-014200.png\n",
            "adding image results/samples_gan_gp1_lr3e-5/sample-014400.png\n",
            "adding image results/samples_gan_gp1_lr3e-5/sample-014600.png\n",
            "adding image results/samples_gan_gp1_lr3e-5/sample-014800.png\n",
            "adding image results/samples_gan_gp1_lr3e-5/sample-015000.png\n",
            "adding image results/samples_gan_gp1_lr3e-5/sample-015200.png\n",
            "adding image results/samples_gan_gp1_lr3e-5/sample-015400.png\n",
            "adding image results/samples_gan_gp1_lr3e-5/sample-015600.png\n",
            "adding image results/samples_gan_gp1_lr3e-5/sample-015800.png\n"
          ],
          "name": "stdout"
        }
      ]
    },
    {
      "cell_type": "code",
      "metadata": {
        "id": "X81vRsT5VOa-"
      },
      "source": [
        "from google.colab import drive\n",
        "drive.mount('/content/drive')"
      ],
      "execution_count": null,
      "outputs": []
    },
    {
      "cell_type": "code",
      "metadata": {
        "id": "9kv3lpgUhn_u"
      },
      "source": [
        ""
      ],
      "execution_count": null,
      "outputs": []
    }
  ]
}