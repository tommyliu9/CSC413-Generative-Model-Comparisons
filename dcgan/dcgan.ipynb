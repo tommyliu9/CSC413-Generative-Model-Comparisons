{
  "nbformat": 4,
  "nbformat_minor": 0,
  "metadata": {
    "accelerator": "GPU",
    "colab": {
      "name": "csc413-final-project-code.ipynb",
      "provenance": [],
      "collapsed_sections": [
        "4BIpGwANoQOg",
        "pbvpn4MaV0I1",
        "bRWfRdmVVjUl",
        "u0KxX0sDpXKb",
        "cG4uqAVPp8_B",
        "G8RtBMu55ysm",
        "kiUwiOITHTW4"
      ]
    },
    "kernelspec": {
      "display_name": "Python 3",
      "language": "python",
      "name": "python3"
    },
    "language_info": {
      "codemirror_mode": {
        "name": "ipython",
        "version": 3
      },
      "file_extension": ".py",
      "mimetype": "text/x-python",
      "name": "python",
      "nbconvert_exporter": "python",
      "pygments_lexer": "ipython3",
      "version": "3.7.6"
    }
  },
  "cells": [
    {
      "cell_type": "markdown",
      "metadata": {
        "id": "TjPTaRB4mpCd"
      },
      "source": [
        "# Colab FAQ\n",
        "\n",
        "For some basic overview and features offered in Colab notebooks, check out: [Overview of Colaboratory Features](https://colab.research.google.com/notebooks/basic_features_overview.ipynb)\n",
        "\n",
        "You need to use the colab GPU for this assignmentby selecting:\n",
        "\n",
        "> **Runtime**   →   **Change runtime type**   →   **Hardware Accelerator: GPU**"
      ]
    },
    {
      "cell_type": "markdown",
      "metadata": {
        "id": "s9IS9B9-yUU5"
      },
      "source": [
        "## Setup PyTorch\n",
        "All files are stored at /content/csc421/a4/ folder\n"
      ]
    },
    {
      "cell_type": "code",
      "metadata": {
        "id": "Z-6MQhMOlHXD",
        "colab": {
          "base_uri": "https://localhost:8080/"
        },
        "outputId": "cdc5bed5-bef7-422c-8391-abd234466d75"
      },
      "source": [
        "######################################################################\n",
        "# Setup python environment and change the current working directory\n",
        "######################################################################\n",
        "!pip install torch torchvision\n",
        "!pip install imageio\n",
        "\n",
        "!pip install matplotlib\n",
        "\n",
        "%mkdir -p /content/csc413/a4/\n",
        "%cd /content/csc413/a4"
      ],
      "execution_count": 60,
      "outputs": [
        {
          "output_type": "stream",
          "text": [
            "Requirement already satisfied: torch in /usr/local/lib/python3.7/dist-packages (1.8.1+cu101)\n",
            "Requirement already satisfied: torchvision in /usr/local/lib/python3.7/dist-packages (0.9.1+cu101)\n",
            "Requirement already satisfied: numpy in /usr/local/lib/python3.7/dist-packages (from torch) (1.19.5)\n",
            "Requirement already satisfied: typing-extensions in /usr/local/lib/python3.7/dist-packages (from torch) (3.7.4.3)\n",
            "Requirement already satisfied: pillow>=4.1.1 in /usr/local/lib/python3.7/dist-packages (from torchvision) (7.1.2)\n",
            "Requirement already satisfied: imageio in /usr/local/lib/python3.7/dist-packages (2.4.1)\n",
            "Requirement already satisfied: pillow in /usr/local/lib/python3.7/dist-packages (from imageio) (7.1.2)\n",
            "Requirement already satisfied: numpy in /usr/local/lib/python3.7/dist-packages (from imageio) (1.19.5)\n",
            "Requirement already satisfied: matplotlib in /usr/local/lib/python3.7/dist-packages (3.2.2)\n",
            "Requirement already satisfied: cycler>=0.10 in /usr/local/lib/python3.7/dist-packages (from matplotlib) (0.10.0)\n",
            "Requirement already satisfied: python-dateutil>=2.1 in /usr/local/lib/python3.7/dist-packages (from matplotlib) (2.8.1)\n",
            "Requirement already satisfied: kiwisolver>=1.0.1 in /usr/local/lib/python3.7/dist-packages (from matplotlib) (1.3.1)\n",
            "Requirement already satisfied: numpy>=1.11 in /usr/local/lib/python3.7/dist-packages (from matplotlib) (1.19.5)\n",
            "Requirement already satisfied: pyparsing!=2.0.4,!=2.1.2,!=2.1.6,>=2.0.1 in /usr/local/lib/python3.7/dist-packages (from matplotlib) (2.4.7)\n",
            "Requirement already satisfied: six in /usr/local/lib/python3.7/dist-packages (from cycler>=0.10->matplotlib) (1.15.0)\n",
            "/content/csc413/a4\n"
          ],
          "name": "stdout"
        }
      ]
    },
    {
      "cell_type": "markdown",
      "metadata": {
        "id": "9DaTdRNuUra7"
      },
      "source": [
        "# Helper code"
      ]
    },
    {
      "cell_type": "markdown",
      "metadata": {
        "id": "4BIpGwANoQOg"
      },
      "source": [
        "## Utility functions"
      ]
    },
    {
      "cell_type": "code",
      "metadata": {
        "id": "D-UJHBYZkh7f"
      },
      "source": [
        "import os\n",
        "\n",
        "import numpy as np\n",
        "import matplotlib.pyplot as plt\n",
        "\n",
        "import torch\n",
        "from torch import nn\n",
        "from torch.nn import Parameter\n",
        "import torch.nn.functional as F\n",
        "import torch.optim as optim\n",
        "from torch.autograd import Variable\n",
        "from torch.utils.data import DataLoader\n",
        "from torchvision import datasets\n",
        "from torchvision import transforms\n",
        "\n",
        "from six.moves.urllib.request import urlretrieve\n",
        "import tarfile\n",
        "\n",
        "import imageio\n",
        "from urllib.error import URLError\n",
        "from urllib.error import HTTPError\n",
        "\n",
        "import pandas as pd\n",
        "\n",
        "def get_file(fname,\n",
        "             origin,\n",
        "             untar=False,\n",
        "             extract=False,\n",
        "             archive_format='auto',\n",
        "             cache_dir='data'):\n",
        "    datadir = os.path.join(cache_dir)\n",
        "    if not os.path.exists(datadir):\n",
        "        os.makedirs(datadir)\n",
        "\n",
        "    if untar:\n",
        "        untar_fpath = os.path.join(datadir, fname)\n",
        "        fpath = untar_fpath + '.tar.gz'\n",
        "    else:\n",
        "        fpath = os.path.join(datadir, fname)\n",
        "\n",
        "    print(fpath)\n",
        "    if not os.path.exists(fpath):\n",
        "        print('Downloading data from', origin)\n",
        "\n",
        "        error_msg = 'URL fetch failure on {}: {} -- {}'\n",
        "        try:\n",
        "            try:\n",
        "                urlretrieve(origin, fpath)\n",
        "            except URLError as e:\n",
        "                raise Exception(error_msg.format(origin, e.errno, e.reason))\n",
        "            except HTTPError as e:\n",
        "                raise Exception(error_msg.format(origin, e.code, e.msg))\n",
        "        except (Exception, KeyboardInterrupt) as e:\n",
        "            if os.path.exists(fpath):\n",
        "                os.remove(fpath)\n",
        "            raise\n",
        "\n",
        "    if untar:\n",
        "        if not os.path.exists(untar_fpath):\n",
        "            print('Extracting file.')\n",
        "            with tarfile.open(fpath) as archive:\n",
        "                archive.extractall(datadir)\n",
        "        return untar_fpath\n",
        "\n",
        "    return fpath\n",
        "\n",
        "\n",
        "class AttrDict(dict):\n",
        "    def __init__(self, *args, **kwargs):\n",
        "        super(AttrDict, self).__init__(*args, **kwargs)\n",
        "        self.__dict__ = self\n",
        "\n",
        "                \n",
        "def to_var(tensor, cuda=True):\n",
        "    \"\"\"Wraps a Tensor in a Variable, optionally placing it on the GPU.\n",
        "\n",
        "        Arguments:\n",
        "            tensor: A Tensor object.\n",
        "            cuda: A boolean flag indicating whether to use the GPU.\n",
        "\n",
        "        Returns:\n",
        "            A Variable object, on the GPU if cuda==True.\n",
        "    \"\"\"\n",
        "    if cuda:\n",
        "        return Variable(tensor.cuda())\n",
        "    else:\n",
        "        return Variable(tensor)\n",
        "\n",
        "    \n",
        "def to_data(x):\n",
        "    \"\"\"Converts variable to numpy.\"\"\"\n",
        "    if torch.cuda.is_available():\n",
        "        x = x.cpu()\n",
        "    return x.data.numpy()\n",
        "\n",
        "\n",
        "def create_dir(directory):\n",
        "    \"\"\"Creates a directory if it doesn't already exist.\n",
        "    \"\"\"\n",
        "    if not os.path.exists(directory):\n",
        "        os.makedirs(directory)\n",
        "\n",
        "\n",
        "def gan_checkpoint(iteration, G, D, opts):\n",
        "    \"\"\"Saves the parameters of the generator G and discriminator D.\n",
        "    \"\"\"\n",
        "    G_path = os.path.join(opts.checkpoint_dir, 'G.pkl')\n",
        "    D_path = os.path.join(opts.checkpoint_dir, 'D.pkl')\n",
        "    torch.save(G.state_dict(), G_path)\n",
        "    torch.save(D.state_dict(), D_path)\n",
        "\n",
        "def load_checkpoint(opts):\n",
        "    \"\"\"Loads the generator and discriminator models from checkpoints.\n",
        "    \"\"\"\n",
        "    G_path = os.path.join(opts.load, 'G.pkl')\n",
        "    D_path = os.path.join(opts.load, 'D_.pkl')\n",
        "\n",
        "    G = DCGenerator(noise_size=opts.noise_size, conv_dim=opts.g_conv_dim, spectral_norm=opts.spectral_norm)\n",
        "    D = DCDiscriminator(conv_dim=opts.d_conv_dim)\n",
        "\n",
        "    G.load_state_dict(torch.load(G_path, map_location=lambda storage, loc: storage))\n",
        "    D.load_state_dict(torch.load(D_path, map_location=lambda storage, loc: storage))\n",
        "\n",
        "    if torch.cuda.is_available():\n",
        "        G.cuda()\n",
        "        D.cuda()\n",
        "        print('Models moved to GPU.')\n",
        "\n",
        "    return G, D\n",
        "\n",
        "\n",
        "def merge_images(sources, targets, opts):\n",
        "    \"\"\"Creates a grid consisting of pairs of columns, where the first column in\n",
        "    each pair contains images source images and the second column in each pair\n",
        "    contains images generated by the CycleGAN from the corresponding images in\n",
        "    the first column.\n",
        "    \"\"\"\n",
        "    print(\"reaches merge_images\")\n",
        "    _, _, h, w = sources.shape\n",
        "    row = int(np.sqrt(opts.batch_size))\n",
        "    # merged = np.zeros([3, row * h, row * w * 2])\n",
        "    merged = np.zeros([3, row * h, row * w * 2])\n",
        "    for (idx, s, t) in (zip(range(row ** 2), sources, targets, )):\n",
        "        i = idx // row\n",
        "        j = idx % row\n",
        "        merged[:, i * h:(i + 1) * h, (j * 2) * h:(j * 2 + 1) * h] = s\n",
        "        merged[:, i * h:(i + 1) * h, (j * 2 + 1) * h:(j * 2 + 2) * h] = t\n",
        "    return merged.transpose(1, 2, 0)\n",
        "\n",
        "\n",
        "def generate_gif(directory_path, keyword=None):\n",
        "    images = []\n",
        "    for filename in sorted(os.listdir(directory_path)):\n",
        "        if filename.endswith(\".png\") and (keyword is None or keyword in filename):\n",
        "            img_path = os.path.join(directory_path, filename)\n",
        "            print(\"adding image {}\".format(img_path))\n",
        "            images.append(imageio.imread(img_path))\n",
        "\n",
        "    if keyword:\n",
        "        imageio.mimsave(\n",
        "            os.path.join(directory_path, 'anim_{}.gif'.format(keyword)), images)\n",
        "    else:\n",
        "        imageio.mimsave(os.path.join(directory_path, 'anim.gif'), images)\n",
        "\n",
        "\n",
        "def create_image_grid(array, ncols=None):\n",
        "    \"\"\"\n",
        "    \"\"\"\n",
        "    num_images, channels, cell_h, cell_w = array.shape\n",
        "    if not ncols:\n",
        "        ncols = int(np.sqrt(num_images))\n",
        "    nrows = int(np.math.floor(num_images / float(ncols)))\n",
        "    result = np.zeros((cell_h * nrows, cell_w * ncols, channels), dtype=array.dtype)\n",
        "    for i in range(0, nrows):\n",
        "        for j in range(0, ncols):\n",
        "            result[i * cell_h:(i + 1) * cell_h, j * cell_w:(j + 1) * cell_w, :] = array[i * ncols + j].transpose(1, 2,\n",
        "                                                                                                                 0)\n",
        "\n",
        "    if channels == 1:\n",
        "        result = result.squeeze()\n",
        "    return result\n",
        "\n",
        "\n",
        "def gan_save_samples(G, fixed_noise, iteration, opts):\n",
        "    generated_images = G(fixed_noise)\n",
        "    generated_images = to_data(generated_images)\n",
        "\n",
        "    grid = create_image_grid(generated_images)\n",
        "\n",
        "    # merged = merge_images(X, fake_Y, opts)\n",
        "    path = os.path.join(opts.sample_dir, 'sample-{:06d}.png'.format(iteration))\n",
        "    imageio.imwrite(path, grid)\n",
        "    print('Saved {}'.format(path))"
      ],
      "execution_count": 61,
      "outputs": []
    },
    {
      "cell_type": "markdown",
      "metadata": {
        "id": "pbvpn4MaV0I1"
      },
      "source": [
        "## Data loader"
      ]
    },
    {
      "cell_type": "code",
      "metadata": {
        "id": "XVT4TNTOV3Eg"
      },
      "source": [
        "from torch.utils.data import RandomSampler, Sampler, SubsetRandomSampler\n",
        "\n",
        "def get_emnist_loader(emnist_type, opts):\n",
        "    transform = transforms.Compose([\n",
        "                    transforms.Resize(opts.image_size),\n",
        "                    transforms.ToTensor(),\n",
        "                    transforms.Normalize((0.5), (0.5)),\n",
        "                ])\n",
        "    train = datasets.EMNIST(\".\", split=emnist_type,train = True, download = True, transform= transform)\n",
        "    test = datasets.EMNIST(\".\", split=emnist_type,train = False, download = True, transform = transform)\n",
        "    if opts.train_data_subset != 'full':\n",
        "        indices = torch.randperm(len(train))[:opts.train_data_subset]\n",
        "        train_sampler = SubsetRandomSampler(indices)\n",
        "        train_dloader = DataLoader(dataset=train, batch_size=opts.batch_size, \n",
        "                                  sampler=train_sampler, num_workers=opts.num_workers, drop_last=True)\n",
        "    else:\n",
        "        train_dloader = DataLoader(dataset=train, batch_size=opts.batch_size, shuffle=True,num_workers=opts.num_workers, drop_last=True)\n",
        "    \n",
        "    test_dloader = DataLoader(dataset=test, batch_size=opts.batch_size, shuffle=False,num_workers=opts.num_workers)\n",
        "    return train_dloader, test_dloader"
      ],
      "execution_count": 62,
      "outputs": []
    },
    {
      "cell_type": "markdown",
      "metadata": {
        "id": "bRWfRdmVVjUl"
      },
      "source": [
        "## Training and evaluation code"
      ]
    },
    {
      "cell_type": "code",
      "metadata": {
        "id": "nSIhQp41q_Nu"
      },
      "source": [
        "def print_models(G_XtoY, G_YtoX, D_X, D_Y):\n",
        "    \"\"\"Prints model information for the generators and discriminators.\n",
        "    \"\"\"\n",
        "    print(\"                 G                     \")\n",
        "    print(\"---------------------------------------\")\n",
        "    print(G_XtoY)\n",
        "    print(\"---------------------------------------\")\n",
        "\n",
        "    print(\"                  D                    \")\n",
        "    print(\"---------------------------------------\")\n",
        "    print(D_X)\n",
        "    print(\"---------------------------------------\")\n",
        "\n",
        "\n",
        "def create_model(opts):\n",
        "    \"\"\"Builds the generators and discriminators.\n",
        "    \"\"\"\n",
        "    ### GAN\n",
        "    G = DCGenerator(noise_size=opts.noise_size, conv_dim=opts.g_conv_dim, spectral_norm=opts.spectral_norm)\n",
        "    D = DCDiscriminator(conv_dim=opts.d_conv_dim, spectral_norm=opts.spectral_norm)\n",
        "\n",
        "    print_models(G, None, D, None)\n",
        "\n",
        "    if torch.cuda.is_available():\n",
        "        G.cuda()\n",
        "        D.cuda()\n",
        "        print('Models moved to GPU.')\n",
        "    return G, D\n",
        "\n",
        "def train(opts):\n",
        "    \"\"\"Loads the data, creates checkpoint and sample directories, and starts the training loop.\n",
        "    \"\"\"\n",
        "\n",
        "    # Create train and test dataloaders for images from the two domains X and Y\n",
        "    # dataloader_X, test_dataloader_X = get_emoji_loader(emoji_type=opts.X, opts=opts)\n",
        "    dataloader_X, test_dataloader_X = get_emnist_loader(opts.X, opts=opts)\n",
        "\n",
        "    # Create checkpoint and sample directories\n",
        "    create_dir(opts.checkpoint_dir)\n",
        "    create_dir(opts.sample_dir)\n",
        "\n",
        "    # Start training\n",
        "    G, D = gan_training_loop(dataloader_X, test_dataloader_X, opts)\n",
        "    return G, D\n",
        "\n",
        "def print_opts(opts):\n",
        "    \"\"\"Prints the values of all command-line arguments.\n",
        "    \"\"\"\n",
        "    print('=' * 80)\n",
        "    print('Opts'.center(80))\n",
        "    print('-' * 80)\n",
        "    for key in opts.__dict__:\n",
        "        if opts.__dict__[key]:\n",
        "            print('{:>30}: {:<30}'.format(key, opts.__dict__[key]).center(80))\n",
        "    print('=' * 80)\n"
      ],
      "execution_count": 63,
      "outputs": []
    },
    {
      "cell_type": "markdown",
      "metadata": {
        "id": "bXNsLNkOn38w"
      },
      "source": [
        "# Your code for generators and discriminators"
      ]
    },
    {
      "cell_type": "markdown",
      "metadata": {
        "id": "u0KxX0sDpXKb"
      },
      "source": [
        "## Helper modules"
      ]
    },
    {
      "cell_type": "code",
      "metadata": {
        "id": "y7s0etAmpUgT"
      },
      "source": [
        "def sample_noise(batch_size, dim):\n",
        "    \"\"\"\n",
        "    Generate a PyTorch Tensor of uniform random noise.\n",
        "\n",
        "    Input:\n",
        "    - batch_size: Integer giving the batch size of noise to generate.\n",
        "    - dim: Integer giving the dimension of noise to generate.\n",
        "\n",
        "    Output:\n",
        "    - A PyTorch Tensor of shape (batch_size, dim, 1, 1) containing uniform\n",
        "      random noise in the range (-1, 1).\n",
        "    \"\"\"\n",
        "    return to_var(torch.rand(batch_size, dim) * 2 - 1).unsqueeze(2).unsqueeze(3)\n",
        "  \n",
        "\n",
        "def upconv(in_channels, out_channels, kernel_size, stride=2, padding=2, batch_norm=True, spectral_norm=False):\n",
        "    \"\"\"Creates a upsample-and-convolution layer, with optional batch normalization.\n",
        "    \"\"\"\n",
        "    layers = []\n",
        "    if stride>1:\n",
        "        layers.append(nn.Upsample(scale_factor=stride))\n",
        "    conv_layer = nn.Conv2d(in_channels=in_channels, out_channels=out_channels, kernel_size=kernel_size, stride=1, padding=padding, bias=False)\n",
        "    if spectral_norm:\n",
        "        layers.append(SpectralNorm(conv_layer))\n",
        "    else:\n",
        "        layers.append(conv_layer)\n",
        "    if batch_norm:\n",
        "        layers.append(nn.BatchNorm2d(out_channels))\n",
        "    return nn.Sequential(*layers)\n",
        "\n",
        "\n",
        "def conv(in_channels, out_channels, kernel_size, stride=2, padding=2, batch_norm=True, init_zero_weights=False, spectral_norm=False):\n",
        "    \"\"\"Creates a convolutional layer, with optional batch normalization.\n",
        "    \"\"\"\n",
        "    layers = []\n",
        "    conv_layer = nn.Conv2d(in_channels=in_channels, out_channels=out_channels, kernel_size=kernel_size, stride=stride, padding=padding, bias=False)\n",
        "    if init_zero_weights:\n",
        "        conv_layer.weight.data = torch.randn(out_channels, in_channels, kernel_size, kernel_size) * 0.001\n",
        "            \n",
        "    if spectral_norm:\n",
        "        layers.append(SpectralNorm(conv_layer))\n",
        "    else:\n",
        "        layers.append(conv_layer)\n",
        "\n",
        "    if batch_norm:\n",
        "        layers.append(nn.BatchNorm2d(out_channels))\n",
        "    return nn.Sequential(*layers)\n",
        "  \n",
        "\n",
        "class ResnetBlock(nn.Module):\n",
        "    def __init__(self, conv_dim):\n",
        "        super(ResnetBlock, self).__init__()\n",
        "        self.conv_layer = conv(in_channels=conv_dim, out_channels=conv_dim, kernel_size=3, stride=1, padding=1)\n",
        "\n",
        "    def forward(self, x):\n",
        "        out = x + self.conv_layer(x)\n",
        "        return out"
      ],
      "execution_count": 64,
      "outputs": []
    },
    {
      "cell_type": "markdown",
      "metadata": {
        "id": "S0_YbBwe5k35"
      },
      "source": [
        "## DCGAN"
      ]
    },
    {
      "cell_type": "markdown",
      "metadata": {
        "id": "m1E_jDaBLT1P"
      },
      "source": [
        "## Spectral Norm class"
      ]
    },
    {
      "cell_type": "code",
      "metadata": {
        "id": "2hy97i1-LT1Q"
      },
      "source": [
        "def l2normalize(v, eps=1e-12):\n",
        "    return v / (v.norm() + eps)\n",
        "\n",
        "\n",
        "class SpectralNorm(nn.Module):\n",
        "    def __init__(self, module, name='weight', power_iterations=1):\n",
        "        super(SpectralNorm, self).__init__()\n",
        "        self.module = module\n",
        "        self.name = name\n",
        "        self.power_iterations = power_iterations\n",
        "        if not self._made_params():\n",
        "            self._make_params()\n",
        "\n",
        "    def _update_u_v(self):\n",
        "        u = getattr(self.module, self.name + \"_u\")\n",
        "        v = getattr(self.module, self.name + \"_v\")\n",
        "        w = getattr(self.module, self.name + \"_bar\")\n",
        "\n",
        "        height = w.data.shape[0]\n",
        "        for _ in range(self.power_iterations):\n",
        "            v.data = l2normalize(torch.mv(torch.t(w.view(height,-1).data), u.data))\n",
        "            u.data = l2normalize(torch.mv(w.view(height,-1).data, v.data))\n",
        "\n",
        "        # sigma = torch.dot(u.data, torch.mv(w.view(height,-1).data, v.data))\n",
        "        sigma = u.dot(w.view(height, -1).mv(v))\n",
        "        setattr(self.module, self.name, w / sigma.expand_as(w))\n",
        "\n",
        "    def _made_params(self):\n",
        "        try:\n",
        "            u = getattr(self.module, self.name + \"_u\")\n",
        "            v = getattr(self.module, self.name + \"_v\")\n",
        "            w = getattr(self.module, self.name + \"_bar\")\n",
        "            return True\n",
        "        except AttributeError:\n",
        "            return False\n",
        "\n",
        "    def _make_params(self):\n",
        "        w = getattr(self.module, self.name)\n",
        "\n",
        "        height = w.data.shape[0]\n",
        "        width = w.view(height, -1).data.shape[1]\n",
        "\n",
        "        u = Parameter(w.data.new(height).normal_(0, 1), requires_grad=False)\n",
        "        v = Parameter(w.data.new(width).normal_(0, 1), requires_grad=False)\n",
        "        u.data = l2normalize(u.data)\n",
        "        v.data = l2normalize(v.data)\n",
        "        w_bar = Parameter(w.data)\n",
        "\n",
        "        del self.module._parameters[self.name]\n",
        "\n",
        "        self.module.register_parameter(self.name + \"_u\", u)\n",
        "        self.module.register_parameter(self.name + \"_v\", v)\n",
        "        self.module.register_parameter(self.name + \"_bar\", w_bar)\n",
        "\n",
        "    def forward(self, *args):\n",
        "        self._update_u_v()\n",
        "        return self.module.forward(*args)"
      ],
      "execution_count": 65,
      "outputs": []
    },
    {
      "cell_type": "markdown",
      "metadata": {
        "id": "_BAfi_8yWB3y"
      },
      "source": [
        "### GAN generator"
      ]
    },
    {
      "cell_type": "code",
      "metadata": {
        "id": "9ztmyA5Ro67o"
      },
      "source": [
        "class DCGenerator(nn.Module):\n",
        "    def __init__(self, noise_size, conv_dim, spectral_norm=False):\n",
        "        super(DCGenerator, self).__init__()\n",
        "\n",
        "        self.conv_dim = conv_dim\n",
        "        ###########################################\n",
        "        ##   FILL THIS IN: CREATE ARCHITECTURE   ##\n",
        "        ###########################################\n",
        "\n",
        "        self.linear_bn = nn.Sequential(nn.Linear(in_features=noise_size, out_features=conv_dim*4*4*4), \n",
        "                                       nn.Flatten())\n",
        "        self.upconv1 = upconv(in_channels=conv_dim*4, out_channels=conv_dim*2, \n",
        "                              kernel_size=5, stride=2, padding=2, spectral_norm=spectral_norm)\n",
        "        self.upconv2 = upconv(in_channels=conv_dim*2, out_channels=conv_dim, \n",
        "                              kernel_size=5, stride=2, padding=2, spectral_norm=spectral_norm)\n",
        "        self.upconv3 = upconv(in_channels=conv_dim, out_channels=1, \n",
        "                              kernel_size=5, stride=2, padding=2, batch_norm=False, spectral_norm=spectral_norm)\n",
        "        # self.conv_dim = conv_dim\n",
        "        # self.relu = nn.ReLU()\n",
        "        # self.linear_bn = upconv(100, conv_dim*4, 3) #BS X noise_size x 1 x 1 -> BS x 128 x 4 x 4 \n",
        "        # self.upconv1 = upconv(in_channels=conv_dim*4, out_channels=conv_dim*2,kernel_size=5, stride=2, padding=2)\n",
        "        # self.upconv2 = upconv(in_channels=conv_dim*2, out_channels=conv_dim, kernel_size=5, stride=2, padding=2)\n",
        "        # self.upconv3 = upconv(in_channels=conv_dim, out_channels=1, kernel_size=5, stride=2, padding=2, batch_norm=False) \n",
        "\n",
        "    def forward(self, z):\n",
        "        \"\"\"Generates an image given a sample of random noise.\n",
        "\n",
        "            Input\n",
        "            -----\n",
        "                z: BS x noise_size x 1 x 1   -->  BSx100x1x1 (during training)\n",
        "\n",
        "            Output\n",
        "            ------\n",
        "                out: BS x channels x image_width x image_height  -->  BSx3x32x32 (during training)\n",
        "        \"\"\"\n",
        "        batch_size = z.size(0)\n",
        "        out = F.relu(self.linear_bn(z.permute(3, 2, 0, 1))).view(-1, self.conv_dim*4, 4, 4)   # BS x 128 x 4 x 4\n",
        "        out = F.relu(self.upconv1(out))  # BS x 64 x 8 x 8\n",
        "        out = F.relu(self.upconv2(out))  # BS x 32 x 16 x 16\n",
        "        out = torch.tanh(self.upconv3(out))  # BS x 1 x 32 x 32\n",
        "  \n",
        "        # out = self.relu(self.linear_bn(z))  # BS x 128 x 4 x 4      conv_dim=32\n",
        "        # out = out.view(-1, self.conv_dim*4, 4, 4)\n",
        "        # out = self.relu(self.upconv1(out))  # BS x 64 x 8 x 8\n",
        "        # out = self.relu(self.upconv2(out))  # BS x 32 x 16 x 16\n",
        "        # out = self.relu(self.upconv3(out))  # BS x 3 x 32 x 32\n",
        "\n",
        "        out_size = out.size()\n",
        "        if out_size != torch.Size([batch_size, 1, 32, 32]):\n",
        "            raise ValueError(\"expect {} x 1 x 32 x 32, but get {}\".format(batch_size, out_size))\n",
        "        return out\n",
        "        \n",
        "        \n",
        "\n"
      ],
      "execution_count": 66,
      "outputs": []
    },
    {
      "cell_type": "markdown",
      "metadata": {
        "id": "cG4uqAVPp8_B"
      },
      "source": [
        "### GAN discriminator"
      ]
    },
    {
      "cell_type": "code",
      "metadata": {
        "id": "0GkjXydnqARR"
      },
      "source": [
        "class DCDiscriminator(nn.Module):\n",
        "    \"\"\"Defines the architecture of the discriminator network.\n",
        "       Note: Both discriminators D_X and D_Y have the same architecture in this assignment.\n",
        "    \"\"\"\n",
        "    def __init__(self, conv_dim=64, spectral_norm=False):\n",
        "        super(DCDiscriminator, self).__init__()\n",
        "\n",
        "        self.conv1 = conv(in_channels=1, out_channels=conv_dim, kernel_size=5, padding=2, spectral_norm=spectral_norm)\n",
        "        self.conv2 = conv(in_channels=conv_dim, out_channels=conv_dim*2, kernel_size=5, padding=2, spectral_norm=spectral_norm)\n",
        "        self.conv3 = conv(in_channels=conv_dim*2, out_channels=conv_dim*4, kernel_size=5, padding=2, spectral_norm=spectral_norm)\n",
        "        self.conv4 = conv(in_channels=conv_dim*4, out_channels=1, kernel_size=5, stride=2, padding=1, batch_norm=False, spectral_norm=spectral_norm)\n",
        "\n",
        "        # self.conv1 = conv(in_channels=1, out_channels=conv_dim, kernel_size=5, stride=2, spectral_norm=spectral_norm)\n",
        "        # self.conv2 = conv(in_channels=conv_dim, out_channels=conv_dim*2, kernel_size=5, stride=2, spectral_norm=spectral_norm)\n",
        "        # self.conv3 = conv(in_channels=conv_dim*2, out_channels=conv_dim*4, kernel_size=5, stride=2, spectral_norm=spectral_norm)\n",
        "        # self.conv4 = conv(in_channels=conv_dim*4, out_channels=1, kernel_size=5, stride=2, padding=1, batch_norm=False, spectral_norm=spectral_norm)\n",
        "\n",
        "\n",
        "\n",
        "    def forward(self, x):\n",
        "        batch_size = x.size(0)\n",
        "        out = F.relu(self.conv1(x))    # BS x 64 x 16 x 16\n",
        "        out = F.relu(self.conv2(out))    # BS x 64 x 8 x 8\n",
        "        out = F.relu(self.conv3(out))    # BS x 64 x 4 x 4\n",
        "        out = self.conv4(out).squeeze()\n",
        "        out_size = out.size()\n",
        "\n",
        "        if out_size != torch.Size([batch_size,]):\n",
        "            raise ValueError(\"expect {} x 1, but get {}\".format(batch_size, out_size))\n",
        "        return out"
      ],
      "execution_count": 67,
      "outputs": []
    },
    {
      "cell_type": "markdown",
      "metadata": {
        "id": "G8RtBMu55ysm"
      },
      "source": [
        "## GAN training loop"
      ]
    },
    {
      "cell_type": "code",
      "metadata": {
        "id": "MxIJ2Zua51KI"
      },
      "source": [
        "def get_zero_vector(dim):\n",
        "    \"\"\"\n",
        "    \"\"\"\n",
        "    return torch.zeros(1, dim).requires_grad_(False)\n",
        "\n",
        "def gan_training_loop(dataloader, test_dataloader, opts):\n",
        "    \"\"\"Runs the training loop.\n",
        "        * Saves checkpoint every opts.checkpoint_every iterations\n",
        "        * Saves generated samples every opts.sample_every iterations\n",
        "    \"\"\"\n",
        "\n",
        "    # Create generators and discriminators\n",
        "    G, D = create_model(opts)\n",
        "\n",
        "    g_params = G.parameters()  # Get generator parameters\n",
        "    d_params = D.parameters()  # Get discriminator parameters\n",
        "\n",
        "    # Create optimizers for the generators and discriminators\n",
        "    g_optimizer = optim.Adam(g_params, opts.lr, [opts.beta1, opts.beta2])\n",
        "    d_optimizer = optim.Adam(d_params, opts.lr * 2., [opts.beta1, opts.beta2])\n",
        "    \n",
        "\n",
        "    train_iter = iter(dataloader)\n",
        "\n",
        "    test_iter = iter(test_dataloader)\n",
        "\n",
        "    # Get some fixed data from domains X and Y for sampling. These are images that are held\n",
        "    # constant throughout training, that allow us to inspect the model's performance.\n",
        "    fixed_noise = sample_noise(100, opts.noise_size)  # # 100 x noise_size x 1 x 1\n",
        "    iter_per_epoch = len(train_iter)\n",
        "    total_train_iters = opts.train_iters\n",
        "\n",
        "    losses = {\"iteration\": [], \"D_fake_loss\": [], \"D_real_loss\": [], \"G_loss\": []}\n",
        "\n",
        "    if opts.adversarial_loss == 'MSELoss':\n",
        "        adversarial_loss = torch.nn.MSELoss()\n",
        "    else:\n",
        "        adversarial_loss = torch.nn.BCEWithLogitsLoss()\n",
        "    criterion = torch.nn.MSELoss()\n",
        "    gp_weight = 1\n",
        "\n",
        "    try:\n",
        "        for iteration in range(1, opts.train_iters + 1):\n",
        "            # Reset data_iter for each epoch\n",
        "            if iteration % iter_per_epoch == 0:\n",
        "                train_iter = iter(dataloader)        \n",
        "            real_images, real_labels = train_iter.next()\n",
        "            # real_images, real_labels = to_var(real_images), to_var(real_labels).long().squeeze()\n",
        "            real_images, real_labels = to_var(real_images), to_var(real_labels).float().squeeze()\n",
        "            # ones = Variable(torch.Tensor(real_images.shape[0]).float().cuda().fill_(1.0), requires_grad=False)\n",
        "            real_labels.requires_grad = False\n",
        "\n",
        "            for d_i in range(opts.d_train_iters):\n",
        "                d_optimizer.zero_grad()\n",
        "\n",
        "                # 1. Compute the discriminator loss on real images\n",
        "\n",
        "                D_out_real = D(real_images).to(device=\"cuda:0\").type(torch.cuda.FloatTensor)\n",
        "                real_labels.to(device=\"cuda:0\")\n",
        "                ones = torch.ones(size=real_labels.size()).to(device='cuda:0').type(torch.cuda.FloatTensor)\n",
        "                ones.requires_grad = False\n",
        "                zeros = torch.zeros(size=real_labels.size()).to(device='cuda:0').type(torch.cuda.FloatTensor)\n",
        "                zeros.requires_grad = False\n",
        "\n",
        "                D_real_loss = adversarial_loss(D_out_real, zeros)\n",
        "                D_real_loss = D_real_loss.type(torch.cuda.FloatTensor)\n",
        "                real_labels = real_labels.type(torch.cuda.FloatTensor)\n",
        "\n",
        "                # 2. Sample noise\n",
        "                noise = sample_noise(batch_size=opts.batch_size, dim=opts.noise_size).to(device=\"cuda\")\n",
        "\n",
        "                # 3. Generate fake images from the noise\n",
        "                fake_images = G(noise).to(device=\"cuda:0\")\n",
        "\n",
        "                # 4. Compute the discriminator loss on the fake images\n",
        "                D_out_fake = D(fake_images).to(device=\"cuda:0\").type(torch.cuda.FloatTensor)\n",
        "                D_fake_loss = adversarial_loss(D_out_fake, ones)\n",
        "                D_fake_loss = D_fake_loss.type(torch.cuda.FloatTensor)\n",
        "                \n",
        "                # ---- Gradient Penalty ----\n",
        "                if opts.gradient_penalty:\n",
        "                    alpha = torch.rand(real_images.shape[0], 1, 1, 1)\n",
        "                    alpha = alpha.expand_as(real_images).cuda()\n",
        "                    interp_images = Variable(alpha * real_images.data + (1 - alpha) * fake_images.data, requires_grad=True).cuda()\n",
        "                    D_interp_output = D(interp_images)\n",
        "\n",
        "                    gradients = torch.autograd.grad(outputs=D_interp_output, inputs=interp_images,\n",
        "                                                    grad_outputs=torch.ones(D_interp_output.size()).cuda(),\n",
        "                                                    create_graph=True, retain_graph=True)[0]\n",
        "                    gradients = gradients.view(real_images.shape[0], -1)\n",
        "                    gradients_norm = torch.sqrt(torch.sum(gradients ** 2, dim=1) + 1e-12)\n",
        "\n",
        "                    gp = gp_weight * gradients_norm.mean()\n",
        "                else:\n",
        "                    gp = 0.0\n",
        "\n",
        "                # --------------------------\n",
        "\n",
        "                # 5. Compute the total discriminator loss\n",
        "                D_total_loss = (0.5 * (D_fake_loss + D_real_loss) + gp).to(device=\"cuda:0\") \n",
        "                D_total_loss = D_total_loss.type(torch.cuda.FloatTensor)\n",
        "                D_total_loss.backward()\n",
        "                d_optimizer.step()\n",
        "\n",
        "            ###########################################\n",
        "            ###          TRAIN THE GENERATOR        ###\n",
        "            ###########################################\n",
        "\n",
        "            for g_i in range(opts.g_train_iters):\n",
        "                g_optimizer.zero_grad()\n",
        "\n",
        "                # 1. Sample noise\n",
        "                noise = sample_noise(batch_size=opts.batch_size, dim=opts.noise_size)\n",
        "\n",
        "                # 2. Generate fake images from the noise\n",
        "                fake_images = G(noise)\n",
        "\n",
        "                # 3. Compute the generator loss\n",
        "                D_out_fake1 = D(fake_images).to(device=\"cuda:0\").type(torch.cuda.FloatTensor)\n",
        "                G_loss = adversarial_loss(D_out_fake1, zeros).to(device=\"cuda:0\")\n",
        "                G_loss = G_loss.type(torch.cuda.FloatTensor)\n",
        "\n",
        "                G_loss.backward()\n",
        "                g_optimizer.step()\n",
        "\n",
        "            # Print the log info\n",
        "            if iteration % opts.log_step == 0:\n",
        "                losses['iteration'].append(iteration)\n",
        "                losses['D_real_loss'].append(D_real_loss.item())\n",
        "                losses['D_fake_loss'].append(D_fake_loss.item())\n",
        "                losses['G_loss'].append(G_loss.item())\n",
        "                print('Iteration [{:4d}/{:4d}] | D_real_loss: {:6.4f} | D_fake_loss: {:6.4f} | G_loss: {:6.4f} '.format(\n",
        "                   iteration, total_train_iters, D_real_loss.item(), D_fake_loss.item(), G_loss.item()))\n",
        "                # save losses\n",
        "                df = pd.DataFrame(losses) \n",
        "                df.to_csv('losses.csv') \n",
        "\n",
        "            # Save the generated samples\n",
        "            if iteration % opts.sample_every == 0:\n",
        "                gan_save_samples(G, fixed_noise, iteration, opts)\n",
        "\n",
        "            # Save the model parameters\n",
        "            if iteration % opts.checkpoint_every == 0:\n",
        "                gan_checkpoint(iteration, G, D, opts)\n",
        "\n",
        "    except KeyboardInterrupt:\n",
        "        print('Exiting early from training.')\n",
        "        return G, D\n",
        "\n",
        "    plt.figure()\n",
        "    plt.plot(losses['iteration'], losses['D_real_loss'], label='D_real')\n",
        "    plt.plot(losses['iteration'], losses['D_fake_loss'], label='D_fake')\n",
        "    plt.plot(losses['iteration'], losses['G_loss'], label='G')\n",
        "    plt.legend()\n",
        "    plt.savefig(os.path.join(opts.sample_dir, 'losses.png'))\n",
        "    plt.close()\n",
        "    return G, D"
      ],
      "execution_count": 68,
      "outputs": []
    },
    {
      "cell_type": "markdown",
      "metadata": {
        "id": "XuNFd6LNo0-o"
      },
      "source": [
        "# Training\n"
      ]
    },
    {
      "cell_type": "markdown",
      "metadata": {
        "id": "kiUwiOITHTW4"
      },
      "source": [
        "## Download dataset"
      ]
    },
    {
      "cell_type": "code",
      "metadata": {
        "id": "xwcFjsEpHRbI",
        "colab": {
          "base_uri": "https://localhost:8080/"
        },
        "outputId": "807b31bc-660c-4b9a-b916-b713b8fc867d"
      },
      "source": [
        "######################################################################\n",
        "# Download Translation datasets\n",
        "######################################################################\n",
        "data_fpath = get_file(fname='emojis', \n",
        "                         origin='http://www.cs.toronto.edu/~jba/emojis.tar.gz', \n",
        "                         untar=True)\n",
        "\n"
      ],
      "execution_count": 69,
      "outputs": [
        {
          "output_type": "stream",
          "text": [
            "data/emojis.tar.gz\n",
            "Downloading data from http://www.cs.toronto.edu/~jba/emojis.tar.gz\n",
            "Extracting file.\n"
          ],
          "name": "stdout"
        }
      ]
    },
    {
      "cell_type": "markdown",
      "metadata": {
        "id": "hmQmyJDSRFKR"
      },
      "source": [
        "## DCGAN"
      ]
    },
    {
      "cell_type": "code",
      "metadata": {
        "id": "0LKaRF1jwhH7",
        "scrolled": true,
        "colab": {
          "base_uri": "https://localhost:8080/"
        },
        "outputId": "1fed2440-5cd6-4cf2-eaa6-952ec94d8c9a"
      },
      "source": [
        "SEED = 11\n",
        "\n",
        "# Set the random seed manually for reproducibility.\n",
        "np.random.seed(SEED)\n",
        "torch.manual_seed(SEED)\n",
        "if torch.cuda.is_available():\n",
        "    torch.cuda.manual_seed(SEED)\n",
        "\n",
        "\n",
        "args = AttrDict()\n",
        "args_dict = {\n",
        "              'image_size':32, \n",
        "              'g_conv_dim':32,  \n",
        "              'd_conv_dim':64, \n",
        "              'noise_size':100,\n",
        "              'num_workers': 0,\n",
        "              'train_iters':15000,\n",
        "              'X':'letters',  \n",
        "              'Y': None,\n",
        "              'lr':0.0005,\n",
        "              'beta1':0.5,\n",
        "              'beta2':0.999,\n",
        "              'batch_size':64, \n",
        "              'checkpoint_dir': 'results/checkpoints_gan_final',\n",
        "              'sample_dir': 'results/samples_gan_final',\n",
        "              'load': None,\n",
        "              'log_step':200,\n",
        "              'sample_every':1000,\n",
        "              'checkpoint_every':1000,\n",
        "              'spectral_norm': False,\n",
        "              'gradient_penalty': False,\n",
        "              'd_train_iters': 1, \n",
        "             'g_train_iters': 1,\n",
        "             'train_data_subset': 'full', \n",
        "             'adversarial_loss': 'BCEWithLogitsLoss' # Options: MSELoss/ BCEwithLogitsLoss\n",
        "}\n",
        "args.update(args_dict)\n",
        "\n",
        "print_opts(args)\n",
        "# import os\n",
        "# os.environ['CUDA_LAUNCH_BLOCKING'] = \"1\"\n",
        "\n",
        "G, D = train(args)\n",
        "\n",
        "# generate_gif(\"results/samples_gan_gp1_lr3e-5\")"
      ],
      "execution_count": 71,
      "outputs": [
        {
          "output_type": "stream",
          "text": [
            "================================================================================\n",
            "                                      Opts                                      \n",
            "--------------------------------------------------------------------------------\n",
            "                             image_size: 32                                     \n",
            "                             g_conv_dim: 32                                     \n",
            "                             d_conv_dim: 64                                     \n",
            "                             noise_size: 100                                    \n",
            "                            train_iters: 15000                                  \n",
            "                                      X: letters                                \n",
            "                                     lr: 0.0005                                 \n",
            "                                  beta1: 0.5                                    \n",
            "                                  beta2: 0.999                                  \n",
            "                             batch_size: 64                                     \n",
            "                         checkpoint_dir: results/checkpoints_gan_final          \n",
            "                             sample_dir: results/samples_gan_final              \n",
            "                               log_step: 200                                    \n",
            "                           sample_every: 1000                                   \n",
            "                       checkpoint_every: 1000                                   \n",
            "                          d_train_iters: 1                                      \n",
            "                          g_train_iters: 1                                      \n",
            "                      train_data_subset: full                                   \n",
            "                       adversarial_loss: BCEWithLogitsLoss                      \n",
            "================================================================================\n",
            "                 G                     \n",
            "---------------------------------------\n",
            "DCGenerator(\n",
            "  (linear_bn): Sequential(\n",
            "    (0): Linear(in_features=100, out_features=2048, bias=True)\n",
            "    (1): Flatten(start_dim=1, end_dim=-1)\n",
            "  )\n",
            "  (upconv1): Sequential(\n",
            "    (0): Upsample(scale_factor=2.0, mode=nearest)\n",
            "    (1): Conv2d(128, 64, kernel_size=(5, 5), stride=(1, 1), padding=(2, 2), bias=False)\n",
            "    (2): BatchNorm2d(64, eps=1e-05, momentum=0.1, affine=True, track_running_stats=True)\n",
            "  )\n",
            "  (upconv2): Sequential(\n",
            "    (0): Upsample(scale_factor=2.0, mode=nearest)\n",
            "    (1): Conv2d(64, 32, kernel_size=(5, 5), stride=(1, 1), padding=(2, 2), bias=False)\n",
            "    (2): BatchNorm2d(32, eps=1e-05, momentum=0.1, affine=True, track_running_stats=True)\n",
            "  )\n",
            "  (upconv3): Sequential(\n",
            "    (0): Upsample(scale_factor=2.0, mode=nearest)\n",
            "    (1): Conv2d(32, 1, kernel_size=(5, 5), stride=(1, 1), padding=(2, 2), bias=False)\n",
            "  )\n",
            ")\n",
            "---------------------------------------\n",
            "                  D                    \n",
            "---------------------------------------\n",
            "DCDiscriminator(\n",
            "  (conv1): Sequential(\n",
            "    (0): Conv2d(1, 64, kernel_size=(5, 5), stride=(2, 2), padding=(2, 2), bias=False)\n",
            "    (1): BatchNorm2d(64, eps=1e-05, momentum=0.1, affine=True, track_running_stats=True)\n",
            "  )\n",
            "  (conv2): Sequential(\n",
            "    (0): Conv2d(64, 128, kernel_size=(5, 5), stride=(2, 2), padding=(2, 2), bias=False)\n",
            "    (1): BatchNorm2d(128, eps=1e-05, momentum=0.1, affine=True, track_running_stats=True)\n",
            "  )\n",
            "  (conv3): Sequential(\n",
            "    (0): Conv2d(128, 256, kernel_size=(5, 5), stride=(2, 2), padding=(2, 2), bias=False)\n",
            "    (1): BatchNorm2d(256, eps=1e-05, momentum=0.1, affine=True, track_running_stats=True)\n",
            "  )\n",
            "  (conv4): Sequential(\n",
            "    (0): Conv2d(256, 1, kernel_size=(5, 5), stride=(2, 2), padding=(1, 1), bias=False)\n",
            "  )\n",
            ")\n",
            "---------------------------------------\n",
            "Models moved to GPU.\n",
            "Iteration [ 200/15000] | D_real_loss: 0.0448 | D_fake_loss: 1.1530 | G_loss: 5.1944 \n",
            "Iteration [ 400/15000] | D_real_loss: 0.0453 | D_fake_loss: 0.1530 | G_loss: 3.5610 \n",
            "Iteration [ 600/15000] | D_real_loss: 0.0814 | D_fake_loss: 0.2244 | G_loss: 2.2865 \n",
            "Iteration [ 800/15000] | D_real_loss: 0.1180 | D_fake_loss: 0.7880 | G_loss: 1.5329 \n"
          ],
          "name": "stdout"
        },
        {
          "output_type": "stream",
          "text": [
            "WARNING:root:Lossy conversion from float32 to uint8. Range [-1.0, 0.9871782064437866]. Convert image to uint8 prior to saving to suppress this warning.\n"
          ],
          "name": "stderr"
        },
        {
          "output_type": "stream",
          "text": [
            "Iteration [1000/15000] | D_real_loss: 0.0185 | D_fake_loss: 0.0440 | G_loss: 4.1287 \n",
            "Saved results/samples_gan_final/sample-001000.png\n",
            "Iteration [1200/15000] | D_real_loss: 0.0448 | D_fake_loss: 0.1107 | G_loss: 3.2288 \n",
            "Iteration [1400/15000] | D_real_loss: 0.0389 | D_fake_loss: 0.0124 | G_loss: 3.7350 \n",
            "Iteration [1600/15000] | D_real_loss: 0.0144 | D_fake_loss: 0.0469 | G_loss: 4.9044 \n",
            "Iteration [1800/15000] | D_real_loss: 0.0460 | D_fake_loss: 0.0131 | G_loss: 4.5583 \n"
          ],
          "name": "stdout"
        },
        {
          "output_type": "stream",
          "text": [
            "WARNING:root:Lossy conversion from float32 to uint8. Range [-1.0, 0.991017758846283]. Convert image to uint8 prior to saving to suppress this warning.\n"
          ],
          "name": "stderr"
        },
        {
          "output_type": "stream",
          "text": [
            "Iteration [2000/15000] | D_real_loss: 0.1338 | D_fake_loss: 0.0570 | G_loss: 3.1218 \n",
            "Saved results/samples_gan_final/sample-002000.png\n",
            "Iteration [2200/15000] | D_real_loss: 0.0040 | D_fake_loss: 0.0049 | G_loss: 6.9384 \n",
            "Iteration [2400/15000] | D_real_loss: 0.0668 | D_fake_loss: 0.0491 | G_loss: 2.9513 \n",
            "Iteration [2600/15000] | D_real_loss: 0.0121 | D_fake_loss: 0.1199 | G_loss: 2.6784 \n",
            "Iteration [2800/15000] | D_real_loss: 0.0124 | D_fake_loss: 0.0313 | G_loss: 4.3083 \n"
          ],
          "name": "stdout"
        },
        {
          "output_type": "stream",
          "text": [
            "WARNING:root:Lossy conversion from float32 to uint8. Range [-1.0, 0.9923015236854553]. Convert image to uint8 prior to saving to suppress this warning.\n"
          ],
          "name": "stderr"
        },
        {
          "output_type": "stream",
          "text": [
            "Iteration [3000/15000] | D_real_loss: 0.0046 | D_fake_loss: 0.0114 | G_loss: 6.5090 \n",
            "Saved results/samples_gan_final/sample-003000.png\n",
            "Iteration [3200/15000] | D_real_loss: 0.0018 | D_fake_loss: 0.0095 | G_loss: 6.8945 \n",
            "Iteration [3400/15000] | D_real_loss: 0.0664 | D_fake_loss: 0.0218 | G_loss: 4.1115 \n",
            "Iteration [3600/15000] | D_real_loss: 0.0047 | D_fake_loss: 0.0405 | G_loss: 4.9021 \n",
            "Iteration [3800/15000] | D_real_loss: 0.0482 | D_fake_loss: 0.0144 | G_loss: 4.6888 \n"
          ],
          "name": "stdout"
        },
        {
          "output_type": "stream",
          "text": [
            "WARNING:root:Lossy conversion from float32 to uint8. Range [-1.0, 0.9933053851127625]. Convert image to uint8 prior to saving to suppress this warning.\n"
          ],
          "name": "stderr"
        },
        {
          "output_type": "stream",
          "text": [
            "Iteration [4000/15000] | D_real_loss: 0.0026 | D_fake_loss: 0.0052 | G_loss: 5.2587 \n",
            "Saved results/samples_gan_final/sample-004000.png\n",
            "Iteration [4200/15000] | D_real_loss: 0.1620 | D_fake_loss: 0.1835 | G_loss: 1.5515 \n",
            "Iteration [4400/15000] | D_real_loss: 0.0830 | D_fake_loss: 0.0106 | G_loss: 4.0471 \n",
            "Iteration [4600/15000] | D_real_loss: 0.0211 | D_fake_loss: 0.0012 | G_loss: 5.7807 \n",
            "Iteration [4800/15000] | D_real_loss: 0.0036 | D_fake_loss: 0.0066 | G_loss: 4.3179 \n"
          ],
          "name": "stdout"
        },
        {
          "output_type": "stream",
          "text": [
            "WARNING:root:Lossy conversion from float32 to uint8. Range [-1.0, 0.9968775510787964]. Convert image to uint8 prior to saving to suppress this warning.\n"
          ],
          "name": "stderr"
        },
        {
          "output_type": "stream",
          "text": [
            "Iteration [5000/15000] | D_real_loss: 0.0024 | D_fake_loss: 2.1814 | G_loss: 5.5439 \n",
            "Saved results/samples_gan_final/sample-005000.png\n",
            "Iteration [5200/15000] | D_real_loss: 0.0075 | D_fake_loss: 0.0142 | G_loss: 5.0292 \n",
            "Iteration [5400/15000] | D_real_loss: 0.0028 | D_fake_loss: 0.0018 | G_loss: 7.4962 \n",
            "Iteration [5600/15000] | D_real_loss: 0.0134 | D_fake_loss: 0.0166 | G_loss: 5.1055 \n",
            "Iteration [5800/15000] | D_real_loss: 0.0010 | D_fake_loss: 0.0156 | G_loss: 5.8451 \n"
          ],
          "name": "stdout"
        },
        {
          "output_type": "stream",
          "text": [
            "WARNING:root:Lossy conversion from float32 to uint8. Range [-1.0, 0.988374650478363]. Convert image to uint8 prior to saving to suppress this warning.\n"
          ],
          "name": "stderr"
        },
        {
          "output_type": "stream",
          "text": [
            "Iteration [6000/15000] | D_real_loss: 0.0581 | D_fake_loss: 0.1931 | G_loss: 4.0089 \n",
            "Saved results/samples_gan_final/sample-006000.png\n",
            "Iteration [6200/15000] | D_real_loss: 0.0301 | D_fake_loss: 0.0102 | G_loss: 4.6385 \n",
            "Iteration [6400/15000] | D_real_loss: 0.0052 | D_fake_loss: 0.0023 | G_loss: 7.9238 \n",
            "Iteration [6600/15000] | D_real_loss: 0.0007 | D_fake_loss: 0.0087 | G_loss: 7.7384 \n",
            "Iteration [6800/15000] | D_real_loss: 0.1054 | D_fake_loss: 0.4598 | G_loss: 2.7850 \n"
          ],
          "name": "stdout"
        },
        {
          "output_type": "stream",
          "text": [
            "WARNING:root:Lossy conversion from float32 to uint8. Range [-1.0, 0.9958671927452087]. Convert image to uint8 prior to saving to suppress this warning.\n"
          ],
          "name": "stderr"
        },
        {
          "output_type": "stream",
          "text": [
            "Iteration [7000/15000] | D_real_loss: 0.0062 | D_fake_loss: 0.0678 | G_loss: 5.0068 \n",
            "Saved results/samples_gan_final/sample-007000.png\n",
            "Iteration [7200/15000] | D_real_loss: 0.0035 | D_fake_loss: 0.0030 | G_loss: 6.2028 \n",
            "Iteration [7400/15000] | D_real_loss: 0.7859 | D_fake_loss: 0.1195 | G_loss: 1.8327 \n",
            "Iteration [7600/15000] | D_real_loss: 0.0257 | D_fake_loss: 0.0062 | G_loss: 4.8272 \n",
            "Iteration [7800/15000] | D_real_loss: 0.0011 | D_fake_loss: 0.0080 | G_loss: 6.0875 \n"
          ],
          "name": "stdout"
        },
        {
          "output_type": "stream",
          "text": [
            "WARNING:root:Lossy conversion from float32 to uint8. Range [-1.0, 0.9987956285476685]. Convert image to uint8 prior to saving to suppress this warning.\n"
          ],
          "name": "stderr"
        },
        {
          "output_type": "stream",
          "text": [
            "Iteration [8000/15000] | D_real_loss: 0.0138 | D_fake_loss: 0.0983 | G_loss: 6.1859 \n",
            "Saved results/samples_gan_final/sample-008000.png\n",
            "Iteration [8200/15000] | D_real_loss: 0.0020 | D_fake_loss: 0.0051 | G_loss: 6.0864 \n",
            "Iteration [8400/15000] | D_real_loss: 0.0327 | D_fake_loss: 0.0502 | G_loss: 3.9911 \n",
            "Iteration [8600/15000] | D_real_loss: 0.0037 | D_fake_loss: 0.0042 | G_loss: 5.2368 \n",
            "Iteration [8800/15000] | D_real_loss: 0.0033 | D_fake_loss: 0.0010 | G_loss: 7.8514 \n"
          ],
          "name": "stdout"
        },
        {
          "output_type": "stream",
          "text": [
            "WARNING:root:Lossy conversion from float32 to uint8. Range [-1.0, 0.995602011680603]. Convert image to uint8 prior to saving to suppress this warning.\n"
          ],
          "name": "stderr"
        },
        {
          "output_type": "stream",
          "text": [
            "Iteration [9000/15000] | D_real_loss: 0.0001 | D_fake_loss: 7.2924 | G_loss: 16.7509 \n",
            "Saved results/samples_gan_final/sample-009000.png\n",
            "Iteration [9200/15000] | D_real_loss: 0.0166 | D_fake_loss: 0.0476 | G_loss: 4.7872 \n",
            "Iteration [9400/15000] | D_real_loss: 0.0158 | D_fake_loss: 0.0011 | G_loss: 7.3503 \n",
            "Iteration [9600/15000] | D_real_loss: 0.0064 | D_fake_loss: 0.0045 | G_loss: 7.5479 \n",
            "Iteration [9800/15000] | D_real_loss: 0.0109 | D_fake_loss: 0.0063 | G_loss: 4.4889 \n"
          ],
          "name": "stdout"
        },
        {
          "output_type": "stream",
          "text": [
            "WARNING:root:Lossy conversion from float32 to uint8. Range [-1.0, 0.9988442659378052]. Convert image to uint8 prior to saving to suppress this warning.\n"
          ],
          "name": "stderr"
        },
        {
          "output_type": "stream",
          "text": [
            "Iteration [10000/15000] | D_real_loss: 0.0242 | D_fake_loss: 0.0006 | G_loss: 8.0651 \n",
            "Saved results/samples_gan_final/sample-010000.png\n",
            "Iteration [10200/15000] | D_real_loss: 0.0002 | D_fake_loss: 0.0129 | G_loss: 6.7497 \n",
            "Iteration [10400/15000] | D_real_loss: 0.0015 | D_fake_loss: 0.0142 | G_loss: 6.7832 \n",
            "Iteration [10600/15000] | D_real_loss: 0.0387 | D_fake_loss: 0.2627 | G_loss: 5.3425 \n",
            "Iteration [10800/15000] | D_real_loss: 0.0023 | D_fake_loss: 0.0038 | G_loss: 7.4209 \n"
          ],
          "name": "stdout"
        },
        {
          "output_type": "stream",
          "text": [
            "WARNING:root:Lossy conversion from float32 to uint8. Range [-1.0, 0.9999223947525024]. Convert image to uint8 prior to saving to suppress this warning.\n"
          ],
          "name": "stderr"
        },
        {
          "output_type": "stream",
          "text": [
            "Iteration [11000/15000] | D_real_loss: 0.0061 | D_fake_loss: 0.0060 | G_loss: 7.3277 \n",
            "Saved results/samples_gan_final/sample-011000.png\n",
            "Iteration [11200/15000] | D_real_loss: 0.0028 | D_fake_loss: 0.0236 | G_loss: 7.7360 \n",
            "Iteration [11400/15000] | D_real_loss: 0.0108 | D_fake_loss: 0.0008 | G_loss: 8.0067 \n",
            "Iteration [11600/15000] | D_real_loss: 0.0034 | D_fake_loss: 0.1301 | G_loss: 4.6571 \n",
            "Iteration [11800/15000] | D_real_loss: 0.0166 | D_fake_loss: 0.0314 | G_loss: 5.9117 \n"
          ],
          "name": "stdout"
        },
        {
          "output_type": "stream",
          "text": [
            "WARNING:root:Lossy conversion from float32 to uint8. Range [-1.0, 0.9985483288764954]. Convert image to uint8 prior to saving to suppress this warning.\n"
          ],
          "name": "stderr"
        },
        {
          "output_type": "stream",
          "text": [
            "Iteration [12000/15000] | D_real_loss: 0.0319 | D_fake_loss: 0.0043 | G_loss: 6.8573 \n",
            "Saved results/samples_gan_final/sample-012000.png\n",
            "Iteration [12200/15000] | D_real_loss: 0.0078 | D_fake_loss: 0.0003 | G_loss: 7.4905 \n",
            "Iteration [12400/15000] | D_real_loss: 0.0029 | D_fake_loss: 0.0029 | G_loss: 9.4787 \n",
            "Iteration [12600/15000] | D_real_loss: 0.0923 | D_fake_loss: 0.0506 | G_loss: 4.5526 \n",
            "Iteration [12800/15000] | D_real_loss: 0.0089 | D_fake_loss: 0.0277 | G_loss: 6.6827 \n"
          ],
          "name": "stdout"
        },
        {
          "output_type": "stream",
          "text": [
            "WARNING:root:Lossy conversion from float32 to uint8. Range [-1.0, 0.9978811740875244]. Convert image to uint8 prior to saving to suppress this warning.\n"
          ],
          "name": "stderr"
        },
        {
          "output_type": "stream",
          "text": [
            "Iteration [13000/15000] | D_real_loss: 0.0133 | D_fake_loss: 0.0016 | G_loss: 6.5967 \n",
            "Saved results/samples_gan_final/sample-013000.png\n",
            "Iteration [13200/15000] | D_real_loss: 0.1981 | D_fake_loss: 0.0280 | G_loss: 3.8801 \n",
            "Iteration [13400/15000] | D_real_loss: 0.0011 | D_fake_loss: 0.0097 | G_loss: 6.0570 \n",
            "Iteration [13600/15000] | D_real_loss: 0.0022 | D_fake_loss: 0.0078 | G_loss: 7.4823 \n",
            "Iteration [13800/15000] | D_real_loss: 0.0018 | D_fake_loss: 0.0056 | G_loss: 6.3878 \n"
          ],
          "name": "stdout"
        },
        {
          "output_type": "stream",
          "text": [
            "WARNING:root:Lossy conversion from float32 to uint8. Range [-1.0, 0.9981213212013245]. Convert image to uint8 prior to saving to suppress this warning.\n"
          ],
          "name": "stderr"
        },
        {
          "output_type": "stream",
          "text": [
            "Iteration [14000/15000] | D_real_loss: 0.0023 | D_fake_loss: 0.0050 | G_loss: 8.5770 \n",
            "Saved results/samples_gan_final/sample-014000.png\n",
            "Iteration [14200/15000] | D_real_loss: 0.0002 | D_fake_loss: 0.0096 | G_loss: 8.5735 \n",
            "Iteration [14400/15000] | D_real_loss: 0.0031 | D_fake_loss: 0.0002 | G_loss: 9.7862 \n",
            "Iteration [14600/15000] | D_real_loss: 0.0693 | D_fake_loss: 0.0907 | G_loss: 5.7254 \n",
            "Iteration [14800/15000] | D_real_loss: 0.0779 | D_fake_loss: 0.0023 | G_loss: 4.7207 \n"
          ],
          "name": "stdout"
        },
        {
          "output_type": "stream",
          "text": [
            "WARNING:root:Lossy conversion from float32 to uint8. Range [-1.0, 0.9984477758407593]. Convert image to uint8 prior to saving to suppress this warning.\n"
          ],
          "name": "stderr"
        },
        {
          "output_type": "stream",
          "text": [
            "Iteration [15000/15000] | D_real_loss: 0.0102 | D_fake_loss: 0.0009 | G_loss: 7.0969 \n",
            "Saved results/samples_gan_final/sample-015000.png\n"
          ],
          "name": "stdout"
        }
      ]
    },
    {
      "cell_type": "markdown",
      "metadata": {
        "id": "xbgh7dfGefky"
      },
      "source": [
        "## Testing Hyperparameters: \n",
        "- Effect of learning rate \n",
        "- Effect of gradient penalty \n",
        "- Effect of batch size \n",
        "- Effect of adversarial loss function (MSELoss vs. BCEwithLogits) \n",
        "- Discriminator vs. Generator update ratios (5:1, 1:1 (default), 1:5) (Quantitatively Evaluating GANs With Divergences Proposed For Training, Im et. al 2018)  \n",
        "- Effect of size of training dataset (10000, 50000, full dataset)\n",
        "\n",
        "\n",
        "#### Effect of gradient penalty with gradient weight = 1\n",
        "\n",
        "```\n",
        "args_dict = {\n",
        "              'image_size':32, \n",
        "              'g_conv_dim':32,  \n",
        "              'd_conv_dim':64, \n",
        "              'noise_size':100,\n",
        "              'num_workers': 0,\n",
        "              'train_iters':15000,\n",
        "              'X':'letters',  \n",
        "              'Y': None,\n",
        "              'lr':0.0005,\n",
        "              'beta1':0.5,\n",
        "              'beta2':0.999,\n",
        "              'batch_size':64, \n",
        "              'checkpoint_dir': 'results/checkpoints_gan_gptrue',\n",
        "              'sample_dir': 'results/samples_gan_gptrue',\n",
        "              'load': None,\n",
        "              'log_step':200,\n",
        "              'sample_every':200,\n",
        "              'checkpoint_every':1000,\n",
        "              'spectral_norm': False,\n",
        "              'gradient_penalty': True,\n",
        "              'd_train_iters': 1, \n",
        "             'g_train_iters': 1,\n",
        "             'train_data_subset': 'full', \n",
        "             'adversarial_loss': 'BCEWithLogitsLoss' # Options: MSELoss/ BCEwithLogitsLoss\n",
        "}\n",
        "\n",
        "#### Effect of learning rate\n",
        "0.00001, 0.0005, 0.001, 0.01\n",
        "```\n",
        "args_dict = {'image_size':32, \n",
        "              'g_conv_dim':32,  \n",
        "              'd_conv_dim':64, \n",
        "              'noise_size':100,\n",
        "              'num_workers': 0,\n",
        "              'train_iters':10000,\n",
        "              'X':'letters',  \n",
        "              'Y': None,\n",
        "              'lr':0.0005,\n",
        "              'beta1':0.5,\n",
        "              'beta2':0.999,\n",
        "              'batch_size':64, \n",
        "              'checkpoint_dir': 'results/checkpoints_gan_gp1_lr{}'.format(str(i)),\n",
        "              'sample_dir': 'results/samples_gan_gp1_lr{}'.format(str(i)),\n",
        "              'load': None,\n",
        "              'log_step':200,\n",
        "              'sample_every':200,\n",
        "              'checkpoint_every':1000,\n",
        "              'spectral_norm': False,\n",
        "              'gradient_penalty': False,\n",
        "              'd_train_iters': 1, \n",
        "             'g_train_iters': 1,\n",
        "             'train_data_subset': 'full', \n",
        "             'adversarial_loss': 'BCEWithLogitsLoss' # Options: MSELoss/ BCEwithLogitsLoss\n",
        "    }\n",
        "\n",
        "#### Effect of batch size \n",
        "\n",
        "8, 64, 320 \n",
        "```args_dict = {\n",
        "              'image_size':32, \n",
        "              'g_conv_dim':32,  \n",
        "              'd_conv_dim':64, \n",
        "              'noise_size':100,\n",
        "              'num_workers': 0,\n",
        "              'train_iters':10000,\n",
        "              'X':'letters',  \n",
        "              'Y': None,\n",
        "              'lr':0.0005,\n",
        "              'beta1':0.5,\n",
        "              'beta2':0.999,\n",
        "              'batch_size':i, \n",
        "              'checkpoint_dir': 'results/checkpoints_gan_gp1_lr3e-5_bs{}'.format(str(i)),\n",
        "              'sample_dir': 'results/samples_gan_gp1_lr3e-5_bs{}'.format(str(i)),\n",
        "              'load': None,\n",
        "              'log_step':200,\n",
        "              'sample_every':200,\n",
        "              'checkpoint_every':1000,\n",
        "              'spectral_norm': False,\n",
        "              'gradient_penalty': False,\n",
        "              'd_train_iters': 1, \n",
        "             'g_train_iters': 1,\n",
        "             'train_data_subset': 'full', \n",
        "             'adversarial_loss': 'BCEWithLogitsLoss' # Options: MSELoss/ BCEwithLogitsLoss\n",
        "    }\n",
        "\n",
        "#### Effect of adversarial loss function \n",
        "``` opts = {'image_size':32, \n",
        "              'g_conv_dim':32,  \n",
        "              'd_conv_dim':64, \n",
        "              'noise_size':100,\n",
        "              'num_workers': 0,\n",
        "              'train_iters':15000,\n",
        "              'X':'letters',  \n",
        "              'Y': None,\n",
        "              'lr':0.0005,\n",
        "              'beta1':0.5,\n",
        "              'beta2':0.999,\n",
        "              'batch_size':64, \n",
        "              'checkpoint_dir': 'results/checkpoints_gan_gp1_lr3e-5',\n",
        "              'sample_dir': 'results/samples_gan_gp1_lr3e-5',\n",
        "              'load': None,\n",
        "              'log_step':200,\n",
        "              'sample_every':200,\n",
        "              'checkpoint_every':1000,\n",
        "              'spectral_norm': False,\n",
        "              'gradient_penalty': False,\n",
        "              'd_train_iters': 1, \n",
        "             'g_train_iters': 1,\n",
        "             'train_data_subset': 'full', \n",
        "             'adversarial_loss': 'MSELoss' # Options: MSELoss/ BCEwithLogitsLoss\n",
        "}```\n",
        "\n",
        "#### Discriminator vs Generator update ratios\n",
        "\n",
        "- 1:1 is default (by alternating discriminator and generator updates) \n",
        "- opts for 5:1 and 1:5 \n",
        "args_dict = {\n",
        "              'image_size':32, #32, \n",
        "              'g_conv_dim':32, #32, \n",
        "              'd_conv_dim':64, #64,\n",
        "              'noise_size':100,\n",
        "              'num_workers': 0,\n",
        "              'train_iters':15000,\n",
        "              'X':'letters',  \n",
        "              'Y': None,\n",
        "              'lr':0.0005,\n",
        "              'beta1':0.5,\n",
        "              'beta2':0.999,\n",
        "              'batch_size':64, \n",
        "              'checkpoint_dir': 'results/checkpoints_gan_gp1_lr3e-5',\n",
        "              'sample_dir': 'results/samples_gan_gp1_lr3e-5',\n",
        "              'load': None,\n",
        "              'log_step':200,\n",
        "              'sample_every':200,\n",
        "              'checkpoint_every':1000,\n",
        "              'spectral_norm': False,\n",
        "              'gradient_penalty': False,\n",
        "              'd_train_iters': 5, \n",
        "             'g_train_iters': 1,\n",
        "             'train_data_subset': 'full', \n",
        "             'adversarial_loss': 'BCEwithLogitsLoss' # Options: MSELoss/ BCEwithLogitsLoss\n",
        "}\n",
        "\n",
        "\n",
        "\n",
        "\n",
        "#### Effect of size of training dataset\n",
        "```opts  = {'image_size':32, \n",
        "              'g_conv_dim':32,  \n",
        "              'd_conv_dim':64, \n",
        "              'noise_size':100,\n",
        "              'num_workers': 0,\n",
        "              'train_iters':15000,\n",
        "              'X':'letters',  \n",
        "              'Y': None,\n",
        "              'lr':0.0005,\n",
        "              'beta1':0.5,\n",
        "              'beta2':0.999,\n",
        "              'batch_size':64, \n",
        "              'load': None,\n",
        "              'log_step':200,\n",
        "              'sample_every':200,\n",
        "              'checkpoint_every':1000,\n",
        "              'spectral_norm': False,\n",
        "              'gradient_penalty': False,\n",
        "              'd_train_iters': 1, \n",
        "              'train_data_subset': #10000, 50000, full  \n",
        "              'adversarial_loss': BCEWithLogitsLoss\n",
        "}\n",
        "\n"
      ]
    }
  ]
}